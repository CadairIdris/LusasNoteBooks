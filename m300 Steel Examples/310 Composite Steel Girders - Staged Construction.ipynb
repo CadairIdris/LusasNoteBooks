{
 "cells": [
  {
   "cell_type": "markdown",
   "metadata": {},
   "source": [
    "<H2>Composite steel girder deck</H2>"
   ]
  },
  {
   "cell_type": "code",
   "execution_count": null,
   "metadata": {},
   "outputs": [],
   "source": [
    "'''Inputs - Units are N,mm'''\n",
    "segments_lengths = [6000, 5000, 6000, 3000, 3000, 6000, 5000, 6000]\n",
    "index_support = 4\n",
    "\n",
    "mesh_size = 500\n",
    "\n",
    "transverse_spacing = 5000\n",
    "deck_width = 7000\n",
    "deck_thk = 200"
   ]
  },
  {
   "cell_type": "markdown",
   "metadata": {},
   "source": [
    "Create a girder class to hold the section dimensions for each segment</br>\n",
    "We'll create points in the LUSAS model for each section and then use the points to create surfaces joining them."
   ]
  },
  {
   "cell_type": "code",
   "execution_count": null,
   "metadata": {},
   "outputs": [],
   "source": [
    "class GirderSection:\n",
    "    def __init__(self, tfb:float, tfthk:float, dw:float, tw:float, bfb:float, bfthk:float):\n",
    "        self.top_flange_breadth = tfb\n",
    "        self.top_flange_thk = tfthk\n",
    "        self.web_depth = dw\n",
    "        self.web_thk = tw\n",
    "        self.bottom_flange_breadth = bfb\n",
    "        self.bottom_flange_thk = bfthk\n",
    "        # We'll save the points created in the model in these lists so we can later use them to define surfaces\n",
    "        self.bf_points = []\n",
    "        self.tf_points = []\n"
   ]
  },
  {
   "cell_type": "markdown",
   "metadata": {},
   "source": [
    "Create a list of section definitions, we'll need one per segment + 1 for the end."
   ]
  },
  {
   "cell_type": "code",
   "execution_count": null,
   "metadata": {},
   "outputs": [],
   "source": [
    "sections1 = []\n",
    "sections1.append(GirderSection(500, 30, 1500, 15, 600, 40))\n",
    "sections1.append(GirderSection(500, 50, 1500, 10, 600, 60))\n",
    "sections1.append(GirderSection(500, 30, 1500, 15, 600, 40))\n",
    "sections1.append(GirderSection(500, 30, 1800, 20, 600, 50))\n",
    "sections1.append(GirderSection(500, 30, 1800, 20, 600, 50)) # Central support\n",
    "sections1.append(GirderSection(500, 30, 1500, 15, 600, 40))\n",
    "sections1.append(GirderSection(500, 50, 1500, 10, 600, 60))\n",
    "sections1.append(GirderSection(500, 30, 1500, 15, 600, 40))\n",
    "sections1.append(GirderSection(500, 30, 1500, 15, 600, 40))\n",
    "# Check we have defined one more section then segment lengths\n",
    "assert(len(segments_lengths) == len(sections1)-1)\n",
    "import copy\n",
    "sections2 = [copy.deepcopy(s) for s in sections1]\n",
    "\n",
    "sections_list = [sections1, sections2]"
   ]
  },
  {
   "cell_type": "markdown",
   "metadata": {},
   "source": [
    "Create a list of stiffener thicknesses that will be positioned at each change in section. A zero thickness indicates no stiffener."
   ]
  },
  {
   "cell_type": "code",
   "execution_count": null,
   "metadata": {},
   "outputs": [],
   "source": [
    "stiffener_thicknesses = [20, 10, 10, 20, 25, 20, 10, 10, 20]\n",
    "\n",
    "# Ensure number of stiffener thicknesses matches the number of segments\n",
    "assert(len(sections1) == len(stiffener_thicknesses))"
   ]
  },
  {
   "cell_type": "markdown",
   "metadata": {},
   "source": [
    "Connect to LUSAS Modeller"
   ]
  },
  {
   "cell_type": "code",
   "execution_count": null,
   "metadata": {},
   "outputs": [],
   "source": [
    "import win32com.client as win32\n",
    "lusas = win32.gencache.EnsureDispatch(\"Lusas.Modeller.21.1\")\n",
    "\n",
    "# If there is not currently a model open, create one\n",
    "if not lusas.existsDatabase():\n",
    "    lusas.newProject(\"Structural\", \"Composite Steel Bridge Deck\")\n",
    "else:\n",
    "    import sys; sys.path.append('../') # Locate the helpers file\n",
    "    from m100_Tools_And_Helpers import Helpers\n",
    "    Helpers.initialise(lusas)\n",
    "    Helpers.reset_database_contents(lusas.database())\n",
    "\n",
    "db = lusas.database() # Get a reference to the current model database for convenience\n",
    "\n",
    "# 3D model with Z vertical\n",
    "db.setAnalysisCategory(\"3D\")\n",
    "db.setVerticalDir(\"Z\")\n",
    "\n",
    "# Units N,mm\n",
    "db.setModelUnits(\"N,mm,kg,s,C\")\n"
   ]
  },
  {
   "cell_type": "markdown",
   "metadata": {},
   "source": [
    "Create model attributes"
   ]
  },
  {
   "cell_type": "code",
   "execution_count": null,
   "metadata": {},
   "outputs": [],
   "source": [
    "# Create the mesh attribute\n",
    "shell_mesh_attr = db.createMeshSurface(f\"Shell Mesh {mesh_size}mm\").setRegularSize(\"QTS4\", mesh_size, True)\n",
    "\n",
    "# Bar mesh attributes\n",
    "bracing_mesh_attr = db.createMeshLine(\"Bar Mesh\").setNumber(\"Bar\", 1)\n",
    "\n",
    "# Steel Material attribute\n",
    "steel_material = db.createIsotropicMaterial(\"Steel\", 200_000, 0.3, 7.8, 10e-6)\n",
    "\n",
    "# Concrete Material attribute\n",
    "concrete_material = db.createIsotropicMaterial(\"Concrete\", 30_000, 0.2, 2.4, 10e-6)\n",
    "\n",
    "# Support attributes\n",
    "pinned = db.createSupportStructural(\"Fixed in XYZ\").setStructural(\"R\", \"R\", \"R\", \"F\", \"F\", \"F\", \"F\", \"F\", \"C\", \"F\")\n",
    "slide = db.createSupportStructural(\"Fixed in YZ\").setStructural(\"F\", \"R\", \"R\", \"F\", \"F\", \"F\", \"F\", \"F\", \"C\", \"F\")"
   ]
  },
  {
   "cell_type": "markdown",
   "metadata": {},
   "source": [
    "Define a helper function to create a point in the model.</br>The db.createPoint() function returns an IFObjectSet which can contain multiple objects.</br>Since we have only created a single point we'll get a reference to the point and return it"
   ]
  },
  {
   "cell_type": "code",
   "execution_count": null,
   "metadata": {},
   "outputs": [],
   "source": [
    "def create_point(x:float, y:float, z:float) -> 'IFPoint':\n",
    "    return win32.CastTo(db.createPoint(x, y, z).getObjects(\"Point\")[0], \"IFPoint\")"
   ]
  },
  {
   "cell_type": "markdown",
   "metadata": {},
   "source": [
    "Create all the points for each section, saving the returned point in the Girder section definition"
   ]
  },
  {
   "cell_type": "code",
   "execution_count": null,
   "metadata": {},
   "outputs": [],
   "source": [
    "s:GirderSection\n",
    "for sections, y in [(sections1, -transverse_spacing/2),(sections2, transverse_spacing/2)]:\n",
    "    x = 0\n",
    "    for i in range(0, len(sections)):\n",
    "        # Determine the longitudinal position (x coord) for each section\n",
    "        if i > 0 : x += segments_lengths[i-1]\n",
    "        # Determine the section to use at each longitudinal position\n",
    "        s = sections[i]\n",
    "        # Create the bottom flange points\n",
    "        s.bf_points.append(create_point(x, y + s.bottom_flange_breadth/2, -s.web_depth))\n",
    "        s.bf_points.append(create_point(x, y,                             -s.web_depth))\n",
    "        s.bf_points.append(create_point(x, y - s.bottom_flange_breadth/2, -s.web_depth))\n",
    "        # Create the top flange points\n",
    "        s.tf_points.append(create_point(x, y +s.top_flange_breadth/2, 0.0))\n",
    "        s.tf_points.append(create_point(x, y,                         0.0))\n",
    "        s.tf_points.append(create_point(x, y -s.top_flange_breadth/2, 0.0))"
   ]
  },
  {
   "cell_type": "markdown",
   "metadata": {},
   "source": [
    "Now join up the segment points. First create helper function to create surfaces and assign a geometric thickness attribute"
   ]
  },
  {
   "cell_type": "code",
   "execution_count": null,
   "metadata": {},
   "outputs": [],
   "source": [
    "def create_surface(pnts: list, thk:float, ecc:float, group:str):\n",
    "\n",
    "    geometryData = lusas.geometryData().setAllDefaults()\n",
    "    geometryData.setLowerOrderGeometryType(\"points\")\n",
    "\n",
    "    obs = lusas.newObjectSet().add(pnts)\n",
    "\n",
    "    surfaces = obs.createSurface(geometryData)\n",
    "    db.getGroupByName(group).add(surfaces, \"Surfaces\")\n",
    "\n",
    "    name = f\"{group} ({thk:.1f}mm)\"\n",
    "\n",
    "    db.createGeometricSurface(name).setSurface(thk, ecc).assignTo(surfaces)"
   ]
  },
  {
   "cell_type": "code",
   "execution_count": null,
   "metadata": {},
   "outputs": [],
   "source": [
    "def create_line(p1: 'IFPoint', p2: 'IFPoint'):\n",
    "\n",
    "    geometryData = lusas.geometryData().setAllDefaults()\n",
    "    geometryData.setLowerOrderGeometryType(\"points\")\n",
    "\n",
    "    obs = lusas.newObjectSet().add(p1).add(p2)\n",
    "\n",
    "    return obs.createLine(geometryData).getObjects(\"Line\")[0]"
   ]
  },
  {
   "cell_type": "markdown",
   "metadata": {},
   "source": [
    "Create groups to contain the girder surfaces"
   ]
  },
  {
   "cell_type": "code",
   "execution_count": null,
   "metadata": {},
   "outputs": [],
   "source": [
    "db.createEmptyGroup(\"Top Flange\")\n",
    "db.createEmptyGroup(\"Web\")\n",
    "db.createEmptyGroup(\"Bottom Flange\")\n",
    "db.createEmptyGroup(\"Web Stiffeners\")\n",
    "db.createEmptyGroup(\"Deck\")"
   ]
  },
  {
   "cell_type": "markdown",
   "metadata": {},
   "source": [
    "Here we'll create the surfaces between each section definition using the points we created earlier"
   ]
  },
  {
   "cell_type": "code",
   "execution_count": null,
   "metadata": {},
   "outputs": [],
   "source": [
    "for sections in sections_list:\n",
    "    for i in range(0, len(segments_lengths)):\n",
    "\n",
    "        s1:GirderSection = sections[i]   # Section definition at the start of the segment\n",
    "        s2:GirderSection = sections[i+1] # Section definition at the end of the segment\n",
    "\n",
    "        create_surface([ s1.bf_points[0], s2.bf_points[0], s2.bf_points[1], s1.bf_points[1] ], s1.bottom_flange_thk, 0.0, \"Bottom Flange\")\n",
    "        create_surface([ s1.bf_points[1], s2.bf_points[1], s2.bf_points[2], s1.bf_points[2] ], s1.bottom_flange_thk, 0.0, \"Bottom Flange\")\n",
    "        create_surface([ s1.bf_points[1], s1.tf_points[1], s2.tf_points[1], s2.bf_points[1] ], s1.web_thk,           0.0, \"Web\")\n",
    "        create_surface([ s1.tf_points[0], s2.tf_points[0], s2.tf_points[1], s1.tf_points[1] ], s1.top_flange_thk,    0.0, \"Top Flange\")\n",
    "        create_surface([ s1.tf_points[1], s2.tf_points[1], s2.tf_points[2], s1.tf_points[2] ], s1.top_flange_thk,    0.0, \"Top Flange\")\n"
   ]
  },
  {
   "cell_type": "markdown",
   "metadata": {},
   "source": [
    "Create bearing stiffeners at the end sections"
   ]
  },
  {
   "cell_type": "code",
   "execution_count": null,
   "metadata": {},
   "outputs": [],
   "source": [
    "for sections in sections_list:\n",
    "    for i, thk in enumerate(stiffener_thicknesses):\n",
    "\n",
    "        if thk > 0:\n",
    "\n",
    "            s:GirderSection = sections[i]   # Section definition at the start of the segment\n",
    "            create_surface([ s.bf_points[0], s.tf_points[0], s.tf_points[1], s.bf_points[1] ], thk, 0.0, \"Web Stiffeners\")\n",
    "            create_surface([ s.bf_points[1], s.tf_points[1], s.tf_points[2], s.bf_points[2] ], thk, 0.0, \"Web Stiffeners\")\n"
   ]
  },
  {
   "cell_type": "markdown",
   "metadata": {},
   "source": [
    "Assign a shell mesh attribute and steel material attribute to all surfaces"
   ]
  },
  {
   "cell_type": "code",
   "execution_count": null,
   "metadata": {},
   "outputs": [],
   "source": [
    "# Assign to all \n",
    "shell_mesh_attr.assignToAll()\n",
    "steel_material.assignToAll()"
   ]
  },
  {
   "cell_type": "markdown",
   "metadata": {},
   "source": [
    "Support attributes"
   ]
  },
  {
   "cell_type": "code",
   "execution_count": null,
   "metadata": {},
   "outputs": [],
   "source": [
    "# To assign these support attributes we'll need to get hold of the lines. We can do this via the points that have created for each section\n",
    "\n",
    "# Do this for the start and end sections\n",
    "for i, section in enumerate([sections[0], sections[index_support], sections[-1]]):\n",
    "\n",
    "    p0 = section.bf_points[0] # point at the +ve flange edge\n",
    "    p1 = section.bf_points[1] # point at the centre of the web.\n",
    "    p2 = section.bf_points[2] # point at the -ve flange edge\n",
    "\n",
    "    # Loop through connected lines \n",
    "    for line in p1.getHOFs():\n",
    "        line = win32.CastTo(line, \"IFLine\")\n",
    "        # Points of the connected line\n",
    "        ps1 = line.getStartPoint()\n",
    "        ps2 = line.getEndPoint()\n",
    "        # Check if the connected line points are those defining the bottom flange\n",
    "        # If so then we can assign the relevant support attribute\n",
    "        if ps1 == p0 or ps1 == p2 or ps2 == p0 or ps2 == p2:\n",
    "            pinned.assignTo(line) if i == 1 else slide.assignTo(line)\n"
   ]
  },
  {
   "cell_type": "code",
   "execution_count": null,
   "metadata": {},
   "outputs": [],
   "source": [
    "\n",
    "db.setDefault(\"Mesh\", bracing_mesh_attr)\n",
    "\n",
    "db.setDefault(\"Material\", steel_material)\n",
    "\n"
   ]
  },
  {
   "cell_type": "code",
   "execution_count": null,
   "metadata": {},
   "outputs": [],
   "source": [
    "#bracing_lines = []\n",
    "for i in range(0, segments_lengths):\n",
    "    line1 = create_line(sections1[i].bf_points[0], sections2[i].tf_points[2])\n",
    "    line2 = create_line(sections1[i].tf_points[2], sections2[i].bf_points[0])\n",
    "    lusas.newObjectSet().add(line1).add(line2).splitLines()\n",
    "\n",
    "    line3 = create_line(sections1[i].bf_points[2], sections2[i].bf_points[0])\n",
    "    line4 = create_line(sections1[i].tf_points[2], sections2[i].tf_points[0])"
   ]
  },
  {
   "cell_type": "markdown",
   "metadata": {},
   "source": [
    "# Slab Deck"
   ]
  },
  {
   "cell_type": "code",
   "execution_count": null,
   "metadata": {},
   "outputs": [],
   "source": [
    "x_grid = [0]\n",
    "for s in segments_lengths:\n",
    "    x_grid.append(x_grid[-1]+s)\n",
    "\n",
    "y_grid = [-deck_width/2, -transverse_spacing/2, 0.0, transverse_spacing/2, deck_width/2]"
   ]
  },
  {
   "cell_type": "code",
   "execution_count": null,
   "metadata": {},
   "outputs": [],
   "source": [
    "# Create the actual points in the model\n",
    "deck_points = [[create_point(x, y, deck_thk/2) for x in x_grid] for y in y_grid]\n",
    "# [Y][X]\n",
    "\n",
    "# Create the surfaces for the deck\n",
    "for iy in range(0, len(y_grid)-1):\n",
    "    for ix in range(0, len(x_grid)-1):\n",
    "        create_surface([ deck_points[iy][ix], deck_points[iy][ix+1], deck_points[iy+1][ix+1], deck_points[iy+1][ix] ], deck_thk, 0.0, \"Deck\")"
   ]
  },
  {
   "cell_type": "code",
   "execution_count": null,
   "metadata": {},
   "outputs": [],
   "source": [
    "shell_mesh_attr.assignTo(\"Group\", \"Deck\")\n",
    "concrete_material.assignTo(\"Group\", \"Deck\")"
   ]
  },
  {
   "cell_type": "markdown",
   "metadata": {},
   "source": [
    "# Deck to Girder connection"
   ]
  },
  {
   "cell_type": "code",
   "execution_count": null,
   "metadata": {},
   "outputs": [],
   "source": []
  },
  {
   "cell_type": "markdown",
   "metadata": {},
   "source": [
    "Set the model to display the assigned plate thicknesses and supports in an isometric orientation"
   ]
  },
  {
   "cell_type": "code",
   "execution_count": null,
   "metadata": {},
   "outputs": [],
   "source": [
    "lusas.view().insertGeometryLayer() # Make sure the drawing layers exist before accessing them\n",
    "lusas.view().insertAttributesLayer()\n",
    "\n",
    "lusas.view().geometry().autoColourByAttributes(\"Geometric\", True)\n",
    "lusas.view().attributes().visualiseAll(\"Supports\")\n",
    "lusas.view().setIsometric()"
   ]
  },
  {
   "cell_type": "code",
   "execution_count": null,
   "metadata": {},
   "outputs": [],
   "source": [
    "# Create a new analysis without an initial loadcase\n",
    "analysis = db.createAnalysisStructural(\"Eigenvalue Buckling Analysis\", False)\n",
    "\n",
    "# Create a loadcase in the analysis\n",
    "first_loadcase = db.createLoadcase(\"Eig Buckling\", analysis.getName())\n",
    "# Set the loadcase controls to be a Buckling analysis searching for the minimum 5 buckling modes\n",
    "first_loadcase.setEigenvalueMaxMinControl(\"Buckling\", \"Minimum\", 5)\n"
   ]
  },
  {
   "cell_type": "code",
   "execution_count": null,
   "metadata": {},
   "outputs": [],
   "source": [
    "load_attr = db.createLoadingGlobalDistributed(\"Global Distributed Load\")\n",
    "load_attr.setGlobalDistributed(\"Length\", 0.0, 0.0, -10.0, 0.0, 0.0, 0.0, 0.0, 0.0, False, 0.0)\n"
   ]
  },
  {
   "cell_type": "code",
   "execution_count": null,
   "metadata": {},
   "outputs": [],
   "source": [
    "# Type definiton\n",
    "gs:GirderSection \n",
    "\n",
    "# List of the lines in the top flange\n",
    "centre_lines = []\n",
    "\n",
    "# Select the centrelines of the steel girder top flanges\n",
    "for setions in sections_list:\n",
    "    for i in range(0, len(sections)):\n",
    "        gs = sections[i]\n",
    "        point = gs.tf_points[1]\n",
    "\n",
    "        for hof in point.getHOFs():\n",
    "            if hof.getTypeCode() == 2 : # Line in the top flange\n",
    "                \n",
    "                line = win32.CastTo(hof, \"IFLine\")\n",
    "                \n",
    "                # Check it is aligned with and paralle to the x axis\n",
    "                if abs(line.getEndPosition()[1] - line.getStartPosition()[1]) < 1e-3 and \\\n",
    "                    abs(line.getEndPosition()[2] - line.getStartPosition()[2]) < 1e-3:\n",
    "\n",
    "                    centre_lines.append(line)\n",
    "\n",
    "\n",
    "load_attr.assignTo(centre_lines, lusas.assignment().setAllDefaults().setLoadset(first_loadcase))\n",
    "\n"
   ]
  },
  {
   "cell_type": "code",
   "execution_count": null,
   "metadata": {},
   "outputs": [],
   "source": [
    "# Mesh the model\n",
    "db.resetMesh()\n",
    "db.updateMesh()"
   ]
  },
  {
   "cell_type": "code",
   "execution_count": null,
   "metadata": {},
   "outputs": [],
   "source": [
    "# Solve all the anlyses\n",
    "db.getAnalysis(\"Analysis 1\").solve(True)\n",
    "db.getAnalysis(\"Eigenvalue Buckling Analysis\").solve(True)\n",
    "db.openAllResults(False)\n"
   ]
  },
  {
   "cell_type": "code",
   "execution_count": null,
   "metadata": {},
   "outputs": [],
   "source": [
    "loadset = db.getLoadset(\"Mode 1\", 2)\n",
    "lusas.view().setActiveLoadset(loadset)\n"
   ]
  }
 ],
 "metadata": {
  "kernelspec": {
   "display_name": "Python 3",
   "language": "python",
   "name": "python3"
  },
  "language_info": {
   "codemirror_mode": {
    "name": "ipython",
    "version": 3
   },
   "file_extension": ".py",
   "mimetype": "text/x-python",
   "name": "python",
   "nbconvert_exporter": "python",
   "pygments_lexer": "ipython3",
   "version": "3.12.3"
  }
 },
 "nbformat": 4,
 "nbformat_minor": 2
}
