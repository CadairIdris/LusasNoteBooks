{
 "cells": [
  {
   "cell_type": "markdown",
   "metadata": {},
   "source": [
    "# #310 Composite steel girders - Staged Construction\n",
    "<i>Models a composite steel girder bridge with concrete deck slab poured in stages. Buckling analyses are performed for each intermediate construction stage</i>\n",
    "***"
   ]
  },
  {
   "cell_type": "code",
   "execution_count": null,
   "metadata": {},
   "outputs": [],
   "source": [
    "'''Inputs - Units are N,mm'''\n",
    " # Each segment of the girder has a different section, defined below\n",
    "segments_lengths = [6000, 5000, 6000, 3000, 3000, 6000, 5000, 6000]\n",
    "# Index in the array of segment lengths indicating the central support (two span bridge)\n",
    "index_centre_support = 4 \n",
    "mesh_size = 250\n",
    "\n",
    "transverse_spacing = 4000 # Spacing of the two manin girders\n",
    "deck_width = 7000         # Overall width of the concrete deck slab\n",
    "deck_thk = 200            # Thickness of the concrete deck slab \n",
    "\n",
    "do_solve = False          # Carry out the analysis once the model is constructed\n",
    "eigen_range = True        # Use a range for eigenvalue buckling analysis (avoids negative modes)\n",
    "\n",
    "shear_stud_stiff = 1000   # Stiffness of the connection between girders and deck\n",
    "\n",
    "# For each stage define the indicies of the segments to be activated\n",
    "stage_activation ={1:[], 2:[0,1], 3:[2], 4:[3]}\n",
    "\n",
    "# Loads\n",
    "surf_load_intensity = -2.5\n",
    "settlement = -0.01 # m\n",
    "shrinkage_strain = -0.369764E-3 \n",
    "construction_load = 10.0 # Construction load (N/mm) used in staged buckling analysis applied to the top flanges"
   ]
  },
  {
   "cell_type": "markdown",
   "metadata": {},
   "source": [
    "Create a girder class to hold the section dimensions for each segment</br>\n",
    "We'll create points in the LUSAS model for each section and then use the points to create surfaces joining them."
   ]
  },
  {
   "cell_type": "code",
   "execution_count": null,
   "metadata": {},
   "outputs": [],
   "source": [
    "class GirderSection:\n",
    "    def __init__(self, tfb:float, tfthk:float, dw:float, tw:float, bfb:float, bfthk:float):\n",
    "        self.top_flange_breadth = tfb\n",
    "        self.top_flange_thk = tfthk\n",
    "        self.web_depth = dw\n",
    "        self.web_thk = tw\n",
    "        self.bottom_flange_breadth = bfb\n",
    "        self.bottom_flange_thk = bfthk\n",
    "        # We'll save the points created in the model in these lists so we can later use them to define surfaces\n",
    "        self.bf_points = []\n",
    "        self.tf_points = []\n"
   ]
  },
  {
   "cell_type": "markdown",
   "metadata": {},
   "source": [
    "Create a list of section definitions, we'll need one per segment + 1 for the end."
   ]
  },
  {
   "cell_type": "code",
   "execution_count": null,
   "metadata": {},
   "outputs": [],
   "source": [
    "sections1 : list[GirderSection] = []\n",
    "sections1.append(GirderSection(500, 30, 1500, 15, 600, 40))\n",
    "sections1.append(GirderSection(500, 50, 1500, 10, 600, 60))\n",
    "sections1.append(GirderSection(500, 30, 1500, 15, 600, 40))\n",
    "sections1.append(GirderSection(500, 30, 1500, 20, 600, 50))\n",
    "sections1.append(GirderSection(500, 30, 1800, 20, 600, 50)) # Central support\n",
    "sections1.append(GirderSection(500, 30, 1500, 15, 600, 40))\n",
    "sections1.append(GirderSection(500, 50, 1500, 10, 600, 60))\n",
    "sections1.append(GirderSection(500, 30, 1500, 15, 600, 40))\n",
    "sections1.append(GirderSection(500, 30, 1500, 15, 600, 40))\n",
    "# Check we have defined one more section then segment lengths\n",
    "assert(len(segments_lengths) == len(sections1)-1)\n",
    "import copy\n",
    "sections2 = [copy.deepcopy(s) for s in sections1]\n",
    "\n",
    "sections_list = [sections1, sections2]"
   ]
  },
  {
   "cell_type": "markdown",
   "metadata": {},
   "source": [
    "Create a list of stiffener thicknesses that will be positioned at each change in section. A zero thickness indicates no stiffener."
   ]
  },
  {
   "cell_type": "code",
   "execution_count": null,
   "metadata": {},
   "outputs": [],
   "source": [
    "stiffener_thicknesses = [20, 10, 10, 20, 25, 20, 10, 10, 20]\n",
    "\n",
    "# Ensure number of stiffener thicknesses matches the number of segments\n",
    "assert(len(sections1) == len(stiffener_thicknesses))"
   ]
  },
  {
   "cell_type": "markdown",
   "metadata": {},
   "source": [
    "#### Connect to LUSAS Modeller and create a new model"
   ]
  },
  {
   "cell_type": "code",
   "execution_count": null,
   "metadata": {},
   "outputs": [],
   "source": [
    "import sys; sys.path.append('../') # Reference modules in parent directory\n",
    "from LPI_22_0 import *\n",
    "lusas = get_lusas_modeller()\n",
    "if lusas.existsDatabase():\n",
    "    raise Exception(\"This script will create a new model. Please save and close the current model and try again\")\n",
    "\n",
    "# Initialise the helpers module with a refernce to LUSAS\n",
    "from m100_Tools_And_Helpers import Helpers\n",
    "Helpers.initialise(lusas)\n",
    "\n",
    "# Create a new model\n",
    "lusas.newProject(\"Structural\", \"Two_Span_Composite_Bridge.mdl\")\n",
    "# Get a reference to the current model database for convenience\n",
    "db = lusas.database() \n",
    "# 3D model with Z vertical\n",
    "db.setAnalysisCategory(\"3D\")\n",
    "db.setVerticalDir(\"Z\")\n",
    "# Units N,mm\n",
    "db.setModelUnits(\"N,mm,t,s,C\")\n",
    "# Consider only 5 degrees of freedom for thick shell elements\n",
    "# This prevents diagonal decay of elements connected to the deck with joint elements in 3DOF\n",
    "db.getOptions().setBoolean(\"Option 278\", False, False, \"\")"
   ]
  },
  {
   "cell_type": "code",
   "execution_count": null,
   "metadata": {},
   "outputs": [],
   "source": [
    "# When calling the LPI from an external process as we are here a speedup can be gained in v22 and later by disabling the UI\n",
    "if lusas.getMajorVersionNumber() >=22:\n",
    "    lusas.enableUI(False)"
   ]
  },
  {
   "cell_type": "markdown",
   "metadata": {},
   "source": [
    "Create model attributes"
   ]
  },
  {
   "cell_type": "code",
   "execution_count": null,
   "metadata": {},
   "outputs": [],
   "source": [
    "# Create the mesh attribute\n",
    "shell_mesh_attr = db.createMeshSurface(f\"Shell Mesh {mesh_size}mm\").setRegularSize(\"QTS4\", mesh_size, True)\n",
    "\n",
    "# Bar mesh attributes\n",
    "bracing_mesh_attr = db.createMeshLine(\"Bar Mesh\").setNumber(\"BRS2\", 1)\n",
    "\n",
    "# Steel Material attribute\n",
    "steel_material = db.createIsotropicMaterial(\"Steel\", 200_000, 0.3, 7.8e-9, 10e-6)\n",
    "\n",
    "# Concrete Material attribute\n",
    "concrete_material           = db.createIsotropicMaterial(\"Concrete\", 30_000, 0.2, 2.4e-9, 10e-6)\n",
    "concrete_material_long_term = db.createIsotropicMaterial(\"Concrete (Long Term)\", 30_000/3, 0.2, 2.4e-9, 10e-6)\n",
    "\n",
    "# Bracing geometic attribute\n",
    "bracing_section_attr = db.createGeometricLine(\"Bracing Section\")\n",
    "bracing_section_attr.setFromLibrary(\"UK Sections\", \"Equal Angles (Advance)\", \"150x150x12 UKEA\", 0, 0, 0)\n",
    "# Surface attributes will be created for each surface thickness below\n",
    "\n",
    "# Connection between girders and deck is made with stiff joint elements.\n",
    "# Create a joint mesh and material attribute for this connection\n",
    "shear_stud_mesh_attr = db.createMeshLine(\"Shear Connection Mesh\").setSize(\"JNT4\", mesh_size)\n",
    "shear_stud_material_attr = db.createSpringJointMaterial(\"Shear Connection Material\", [shear_stud_stiff,shear_stud_stiff,shear_stud_stiff])\n",
    "shear_stud_material_attr.setValue(\"Assignment\", \"Line\")\n",
    "\n",
    "# Support attributes\n",
    "pinned = db.createSupportStructural(\"Fixed in XZ\").setStructural(\"R\", \"F\", \"R\", \"F\", \"F\", \"F\", \"F\", \"F\", \"C\", \"F\")\n",
    "slide = db.createSupportStructural(\"Fixed in Z\").setStructural(\"F\", \"F\", \"R\", \"F\", \"F\", \"F\", \"F\", \"F\", \"C\", \"F\")\n",
    "\n",
    "# Deactivate attribute disables elements to which its assigned\n",
    "deactive_attr = db.createDeactivate(\"Deact1\").setDeactivate(\"activeMesh\", 100.0, 1.0E-6)\n",
    "# Activate attribute reactivates attributes in the loadcase to which it's assigned\n",
    "activate_attr = db.createActivate(\"Act1\")"
   ]
  },
  {
   "cell_type": "markdown",
   "metadata": {},
   "source": [
    "Create all the points for each section, saving the returned point in the Girder section definition. Use the helper fucntions library for create_point function"
   ]
  },
  {
   "cell_type": "code",
   "execution_count": null,
   "metadata": {},
   "outputs": [],
   "source": [
    "s:GirderSection\n",
    "for sections, y in [(sections1, -transverse_spacing/2),(sections2, transverse_spacing/2)]:\n",
    "    x = 0\n",
    "    for i in range(0, len(sections)):\n",
    "        # Determine the longitudinal position (x coord) for each section\n",
    "        if i > 0 : x += segments_lengths[i-1]\n",
    "        # Determine the section to use at each longitudinal position\n",
    "        s = sections[i]\n",
    "        # Create the bottom flange points\n",
    "        s.bf_points.append(Helpers.create_point(x, y + s.bottom_flange_breadth/2, -s.web_depth))\n",
    "        s.bf_points.append(Helpers.create_point(x, y,                             -s.web_depth))\n",
    "        s.bf_points.append(Helpers.create_point(x, y - s.bottom_flange_breadth/2, -s.web_depth))\n",
    "        # Create the top flange points\n",
    "        s.tf_points.append(Helpers.create_point(x, y +s.top_flange_breadth/2, 0.0))\n",
    "        s.tf_points.append(Helpers.create_point(x, y,                         0.0))\n",
    "        s.tf_points.append(Helpers.create_point(x, y -s.top_flange_breadth/2, 0.0))"
   ]
  },
  {
   "cell_type": "markdown",
   "metadata": {},
   "source": [
    "Now join up the segment points. First create helper function to create surfaces and assign a geometric thickness attribute"
   ]
  },
  {
   "cell_type": "code",
   "execution_count": null,
   "metadata": {},
   "outputs": [],
   "source": [
    "def create_surface(pnts: list, thk:float, ecc:float, group:str):\n",
    "\n",
    "    geometry_data = lusas.geometryData().setAllDefaults()\n",
    "    geometry_data.setLowerOrderGeometryType(\"points\")\n",
    "\n",
    "    obs = lusas.newObjectSet().add(pnts)\n",
    "\n",
    "    surface = obs.createSurface(geometry_data).getObject(\"Surface\")\n",
    "    db.getGroupByName(group).add(surface, \"Surfaces\")\n",
    "\n",
    "    name = f\"{group} ({thk:.1f}mm)\"\n",
    "\n",
    "    db.createGeometricSurface(name).setSurface(thk, ecc).assignTo(surface)"
   ]
  },
  {
   "cell_type": "markdown",
   "metadata": {},
   "source": [
    "Create groups to contain the girder surfaces"
   ]
  },
  {
   "cell_type": "code",
   "execution_count": null,
   "metadata": {},
   "outputs": [],
   "source": [
    "db.createEmptyGroup(\"Top Flange\")\n",
    "db.createEmptyGroup(\"Web\")\n",
    "db.createEmptyGroup(\"Bottom Flange\")\n",
    "db.createEmptyGroup(\"Web Stiffeners\")\n",
    "db.createEmptyGroup(\"Deck\")"
   ]
  },
  {
   "cell_type": "markdown",
   "metadata": {},
   "source": [
    "Here we'll create the surfaces between each section definition using the points we created earlier"
   ]
  },
  {
   "cell_type": "code",
   "execution_count": null,
   "metadata": {},
   "outputs": [],
   "source": [
    "for sections in sections_list:\n",
    "    for i in range(0, len(segments_lengths)):\n",
    "\n",
    "        s1:GirderSection = sections[i]   # Section definition at the start of the segment\n",
    "        s2:GirderSection = sections[i+1] # Section definition at the end of the segment\n",
    "\n",
    "        create_surface([ s1.bf_points[1], s2.bf_points[1], s2.bf_points[0], s1.bf_points[0] ], s1.bottom_flange_thk, 0.0, \"Bottom Flange\")\n",
    "        create_surface([ s1.bf_points[2], s2.bf_points[2], s2.bf_points[0], s1.bf_points[0] ], s1.bottom_flange_thk, 0.0, \"Bottom Flange\")\n",
    "        create_surface([ s1.bf_points[1], s2.bf_points[1], s2.tf_points[1], s1.tf_points[1] ], s1.web_thk,           0.0, \"Web\")\n",
    "        create_surface([ s1.tf_points[1], s2.tf_points[1], s2.tf_points[0], s1.tf_points[0] ], s1.top_flange_thk,    0.0, \"Top Flange\")\n",
    "        create_surface([ s1.tf_points[2], s2.tf_points[2], s2.tf_points[1], s1.tf_points[1] ], s1.top_flange_thk,    0.0, \"Top Flange\")\n"
   ]
  },
  {
   "cell_type": "markdown",
   "metadata": {},
   "source": [
    "Create bearing stiffeners at the end sections"
   ]
  },
  {
   "cell_type": "code",
   "execution_count": null,
   "metadata": {},
   "outputs": [],
   "source": [
    "for sections in sections_list:\n",
    "    for i, thk in enumerate(stiffener_thicknesses):\n",
    "\n",
    "        if thk > 0:\n",
    "\n",
    "            s:GirderSection = sections[i]   # Section definition at the start of the segment\n",
    "            create_surface([ s.bf_points[0], s.tf_points[0], s.tf_points[1], s.bf_points[1] ], thk, 0.0, \"Web Stiffeners\")\n",
    "            create_surface([ s.bf_points[1], s.tf_points[1], s.tf_points[2], s.bf_points[2] ], thk, 0.0, \"Web Stiffeners\")\n"
   ]
  },
  {
   "cell_type": "markdown",
   "metadata": {},
   "source": [
    "Assign a shell mesh attribute and steel material attribute to all surfaces"
   ]
  },
  {
   "cell_type": "code",
   "execution_count": null,
   "metadata": {},
   "outputs": [],
   "source": [
    "# Assign mesh and steel material to all girder surfaces\n",
    "assignment = lusas.assignment().setAllDefaults()\n",
    "shell_mesh_attr.assignTo(\"Surfaces\", assignment)\n",
    "steel_material.assignTo(\"Surfaces\", assignment)"
   ]
  },
  {
   "cell_type": "code",
   "execution_count": null,
   "metadata": {},
   "outputs": [],
   "source": [
    "#assert False"
   ]
  },
  {
   "cell_type": "markdown",
   "metadata": {},
   "source": [
    "Support attributes"
   ]
  },
  {
   "cell_type": "code",
   "execution_count": null,
   "metadata": {},
   "outputs": [],
   "source": [
    "# To assign these support attributes we'll need to get hold of the lines. We can do this via the points that have created for each section\n",
    "\n",
    "# Loop through each member\n",
    "for sections in sections_list:\n",
    "    # Assign supports to the end and central section\n",
    "    for i, section in enumerate([sections[0], sections[index_centre_support], sections[-1]]):\n",
    "\n",
    "        p0 = section.bf_points[0] # point at the +ve flange edge\n",
    "        p1 = section.bf_points[1] # point at the centre of the web.\n",
    "        p2 = section.bf_points[2] # point at the -ve flange edge\n",
    "\n",
    "        # Loop through connected lines \n",
    "        for line in p1.getHOFs():\n",
    "            line = win32.CastTo(line, \"IFLine\")\n",
    "            # Points of the connected line\n",
    "            ps1 = line.getStartPoint()\n",
    "            ps2 = line.getEndPoint()\n",
    "            # Check if the connected line points are those defining the bottom flange\n",
    "            # If so then we can assign the relevant support attribute\n",
    "            if ps1 == p0 or ps1 == p2 or ps2 == p0 or ps2 == p2:\n",
    "                pinned.assignTo(line) if i == 1 else slide.assignTo(line)\n"
   ]
  },
  {
   "cell_type": "code",
   "execution_count": null,
   "metadata": {},
   "outputs": [],
   "source": [
    "# Set Default Attributes for bracing members\n",
    "db.setAsDefault(\"Mesh\", bracing_mesh_attr)\n",
    "db.setAsDefault(\"Material\", steel_material)\n",
    "db.setAsDefault(\"Line Geometric\", bracing_section_attr)"
   ]
  },
  {
   "cell_type": "code",
   "execution_count": null,
   "metadata": {},
   "outputs": [],
   "source": [
    "#bracing_lines = []\n",
    "for i in range(0, len(segments_lengths)+1):\n",
    "    line1 = Helpers.create_line_from_points(sections1[i].bf_points[1], sections2[i].tf_points[1])\n",
    "    line2 = Helpers.create_line_from_points(sections1[i].tf_points[1], sections2[i].bf_points[1])\n",
    "    #lusas.newObjectSet().add(line1).add(line2).intersectLines(lusas.geometryData().setAllDefaults())\n",
    "\n",
    "    line3 = Helpers.create_line_from_points(sections1[i].bf_points[1], sections2[i].bf_points[1])\n",
    "    line4 = Helpers.create_line_from_points(sections1[i].tf_points[1], sections2[i].tf_points[1])"
   ]
  },
  {
   "cell_type": "code",
   "execution_count": null,
   "metadata": {},
   "outputs": [],
   "source": [
    "# Clear default attribute assignments\n",
    "db.setAsDefault(\"Mesh\", \"None\")\n",
    "db.setAsDefault(\"Material\", \"None\")\n",
    "db.setAsDefault(\"Line Geometric\", \"None\")"
   ]
  },
  {
   "cell_type": "markdown",
   "metadata": {},
   "source": [
    "# Slab Deck"
   ]
  },
  {
   "cell_type": "code",
   "execution_count": null,
   "metadata": {},
   "outputs": [],
   "source": [
    "x_grid = [0]\n",
    "for s in segments_lengths:\n",
    "    x_grid.append(x_grid[-1]+s)\n",
    "\n",
    "y_grid = [-deck_width/2, -transverse_spacing/2, 0.0, transverse_spacing/2, deck_width/2]"
   ]
  },
  {
   "cell_type": "code",
   "execution_count": null,
   "metadata": {},
   "outputs": [],
   "source": [
    "# Create the actual points in the model\n",
    "deck_points = [[Helpers.create_point(x, y, deck_thk/2) for x in x_grid] for y in y_grid]\n",
    "# [Y][X]\n",
    "\n",
    "# Create the surfaces for the deck\n",
    "for iy in range(0, len(y_grid)-1):\n",
    "    for ix in range(0, len(x_grid)-1):\n",
    "        create_surface([ deck_points[iy][ix], deck_points[iy][ix+1], deck_points[iy+1][ix+1], deck_points[iy+1][ix] ], deck_thk, 0.0, \"Deck\")"
   ]
  },
  {
   "cell_type": "code",
   "execution_count": null,
   "metadata": {},
   "outputs": [],
   "source": [
    "shell_mesh_attr.assignTo(\"Group\", \"Deck\")\n",
    "concrete_material.assignTo(\"Group\", \"Deck\")"
   ]
  },
  {
   "cell_type": "markdown",
   "metadata": {},
   "source": [
    "# Deck to Girder connection"
   ]
  },
  {
   "cell_type": "code",
   "execution_count": null,
   "metadata": {},
   "outputs": [],
   "source": [
    "# Helper function to find the lines in the top flanges and deck surfaces\n",
    "def get_lines_x(points:list[IFPoint])->list[IFLine]:\n",
    "    lines = []\n",
    "    for point in points:\n",
    "        for hof in point.getHOFs():\n",
    "            if hof.getTypeCode() == 2 : # Line\n",
    "                # Check it is aligned with and parallel to the x axis\n",
    "                if abs(hof.getEndPosition()[1] - hof.getStartPosition()[1]) < 1e-3 and \\\n",
    "                   abs(hof.getEndPosition()[2] - hof.getStartPosition()[2]) < 1e-3:\n",
    "                    # Add to the list if not already in there\n",
    "                    if not hof in lines:\n",
    "                        lines.append(hof)\n",
    "    return lines\n",
    "\n",
    "# List of lines in section 1 top flange\n",
    "lines_s1_tf   = get_lines_x([s.tf_points[1] for s in sections1])\n",
    "# List of lines in deck corresponding to the lines in section 1\n",
    "lines_s1_deck = get_lines_x([p for p in deck_points[1]])\n",
    "\n",
    "# List of lines in section 1 top flange\n",
    "lines_s2_tf   = get_lines_x([s.tf_points[1] for s in sections2])\n",
    "# List of lines in deck corresponding to the lines in section 2\n",
    "lines_s2_deck = get_lines_x([p for p in deck_points[-2]])\n",
    "\n",
    "\n",
    "# Default assignment\n",
    "assignment = lusas.assignment().setAllDefaults()\n",
    "\n",
    "# Assign the mesh between corresponding lines of the girder top flange and deck\n",
    "for i in range(0, len(lines_s1_tf)):\n",
    "    objs = lusas.newObjectSet().add(lines_s1_deck[i]).add(lines_s1_tf[i])\n",
    "    shear_stud_mesh_attr.assignTo(objs,assignment)\n",
    "    del objs\n",
    "\n",
    "# Assign the mesh between corresponding lines of the girder top flange and deck\n",
    "for i in range(0, len(lines_s2_tf)):\n",
    "    objs = lusas.newObjectSet().add(lines_s2_deck[i]).add(lines_s2_tf[i])\n",
    "    shear_stud_mesh_attr.assignTo(objs,assignment)\n",
    "    del objs\n",
    "\n",
    "# Assign the material for the joint elements to the primary line of the joint assignment\n",
    "shear_stud_material_attr.assignTo(lines_s1_deck, assignment)\n",
    "shear_stud_material_attr.assignTo(lines_s2_deck, assignment)"
   ]
  },
  {
   "cell_type": "markdown",
   "metadata": {},
   "source": [
    "# Loading"
   ]
  },
  {
   "cell_type": "code",
   "execution_count": null,
   "metadata": {},
   "outputs": [],
   "source": [
    "# Get the automatically created loadcase in analysis 1 and add automatic gravity to it\n",
    "# The loadcase will be used only to test the model is working correctly\n",
    "# NOTE: getLoadset and setName funcction returns a reference to the IFLoadset baseclass and must be cast to IFLoadcase to access the addGravity function\n",
    "win32.CastTo(db.getLoadset(\"Loadcase 1\", 0).setName(\"Gravity\"), \"IFLoadcase\").addGravity(True)\n",
    "db.getAnalysis(\"Analysis 1\").setName(\"00 Base\")"
   ]
  },
  {
   "cell_type": "code",
   "execution_count": null,
   "metadata": {},
   "outputs": [],
   "source": [
    "# Create 4 separate analyses, 1st phase is for the girders only, 2nd phase is long term concrete 3rd phases is short term concrete, and the 4th analysis is the construction stages\n",
    "phase1_analysis = db.createAnalysisStructural(\"Phase 1\", False)\n",
    "phase2_analysis = db.createAnalysisStructural(\"Phase 2\", False)\n",
    "phase3_analysis = db.createAnalysisStructural(\"Phase 3\", False)\n",
    "constr_analysis = db.createAnalysisStructural(\"Phase 4 - Construction Sequence\", False)"
   ]
  },
  {
   "cell_type": "markdown",
   "metadata": {},
   "source": [
    "### Phase1 (Girders only) loading"
   ]
  },
  {
   "cell_type": "code",
   "execution_count": null,
   "metadata": {},
   "outputs": [],
   "source": [
    "# Phase 1 - Steel Only - Self weight loadcases\n",
    "steel_sw_loadcase = db.createLoadcase(\"Steel Self Weight\", phase1_analysis.getName())\n",
    "steel_sw_loadcase.addGravity(True)\n",
    "\n",
    "\n",
    "wet_conc_loadcase = db.createLoadcase(\"Wet Concrete\", phase1_analysis.getName())"
   ]
  },
  {
   "cell_type": "markdown",
   "metadata": {},
   "source": [
    "### Phase 2 (long term concrete) loading"
   ]
  },
  {
   "cell_type": "code",
   "execution_count": null,
   "metadata": {},
   "outputs": [],
   "source": [
    "# Phase 2 - Long term - Super imposed loadcase\n",
    "sid_loadcase = db.createLoadcase(\"Surfacing\", phase2_analysis.getName())\n",
    "\n",
    "# Assign long term concrete material to the deck surfaces\n",
    "assignment = lusas.assignment().setAllDefaults().setLoadset(sid_loadcase)\n",
    "concrete_material_long_term.assignTo(\"Group\", \"Deck\", assignment)\n",
    "\n",
    "\n",
    "# Create a locally distributed load for Surfacing loads\n",
    "surf_load_attr = db.createLoadingLocalDistributed(\"Surfacing\").setLocalDistributed(0.0, 0.0, surf_load_intensity, \"surface\")\n",
    "# and assign to all the surfaces\n",
    "surf_load_attr.assignTo(\"Surfaces\", assignment)\n"
   ]
  },
  {
   "cell_type": "code",
   "execution_count": null,
   "metadata": {},
   "outputs": [],
   "source": [
    "shrink_loadcase = db.createLoadcase(\"Shrinkage\", phase2_analysis.getName())\n",
    "\n",
    "# Create an initial stress/strain attribute and populate only the strains Ex,Ey at the top middle and bottom of the shell\n",
    "# The indicies of these components are specified in the list, all other values are zero\n",
    "strain_array = [0]*30\n",
    "for i in [5,6,15,16,25,26]:\n",
    "    strain_array[i] = shrinkage_strain\n",
    "\n",
    "# Create the attribute\n",
    "shrink_attr = db.createLoadingStressStrain(\"Shrinkage strain\").setStressStrain(\"Initial\", strain_array, \"Surface\", \"Thick shell\", 3)\n",
    "# Set the loadcase in the assignment object\n",
    "assignment = lusas.assignment().setAllDefaults().setLoadset(shrink_loadcase)\n",
    "# Use the surface set defined early to assign the load to all deck surfaces\n",
    "shrink_attr.assignTo(\"Group\", \"Deck\", assignment)"
   ]
  },
  {
   "cell_type": "code",
   "execution_count": null,
   "metadata": {},
   "outputs": [],
   "source": [
    "# Settlement loadcases\n",
    "settlement_loadcases = [db.createLoadcase(f\"Settlement {i}\", phase2_analysis.getName()) for i in range(1, 4)]\n",
    "\n",
    "# Create the prescribed displacement attribute to represent vertical settlement\n",
    "settlement_attr = db.createPrescribedDisplacementLoad(\"Settlement\", \"Total\")\n",
    "settlement_attr.setDisplacement(\"W\", settlement)\n",
    "\n",
    "# Assign the settlement loads at each support\n",
    "# Loop through each member\n",
    "for sections in sections_list:\n",
    "    # Supports are at the end and central sections\n",
    "    for i, section in enumerate([sections[0], sections[index_centre_support], sections[-1]]):\n",
    "\n",
    "        p0 = section.bf_points[0] # point at the +ve flange edge\n",
    "        p1 = section.bf_points[1] # point at the centre of the web.\n",
    "        p2 = section.bf_points[2] # point at the -ve flange edge\n",
    "\n",
    "        assignment = lusas.assignment().setAllDefaults().setLoadset(settlement_loadcases[i])\n",
    "\n",
    "        # Loop through connected lines \n",
    "        for line in p1.getHOFs():\n",
    "            line = win32.CastTo(line, \"IFLine\")\n",
    "            # Points of the connected line\n",
    "            ps1 = line.getStartPoint()\n",
    "            ps2 = line.getEndPoint()\n",
    "            # Check if the connected line points are those defining the bottom flange\n",
    "            # If so then we can assign the relevant settlment attribute\n",
    "            if ps1 == p0 or ps1 == p2 or ps2 == p0 or ps2 == p2:\n",
    "                settlement_attr.assignTo(line, assignment)"
   ]
  },
  {
   "cell_type": "markdown",
   "metadata": {},
   "source": [
    "### Phase 3 (short term concrete) loading"
   ]
  },
  {
   "cell_type": "code",
   "execution_count": null,
   "metadata": {},
   "outputs": [],
   "source": [
    "# Phase 3 - Short term\n",
    "t1_loadcase = db.createLoadcase(\"Temperature Increase\", phase3_analysis.getName())\n",
    "t2_loadcase = db.createLoadcase(\"Temperature Decrease\", phase3_analysis.getName())\n",
    "t11_loadcase = db.createLoadcase(\"Temperature Daily Warm\", phase3_analysis.getName())\n",
    "t21_loadcase = db.createLoadcase(\"Temperature Daily Cool\", phase3_analysis.getName())\n",
    "\n",
    "# Wind loadcases\n",
    "wind_loadcases = [db.createLoadcase(f\"Wind {i}\", phase3_analysis.getName()) for i in range(1, 4)]\n",
    "\n",
    "# Traffic breaking loadcases\n",
    "braking1_loadcase = db.createLoadcase(\"Braking 1\", phase3_analysis.getName())\n",
    "braking2_loadcase = db.createLoadcase(\"Braking 2\", phase3_analysis.getName())"
   ]
  },
  {
   "cell_type": "markdown",
   "metadata": {},
   "source": [
    "<div class=\"alert alert-block alert-info\">\n",
    "<b>Note:</b> Traffic live loads should be generated with the traffic load optimiser, this is not considered as part of the example</div>"
   ]
  },
  {
   "cell_type": "markdown",
   "metadata": {},
   "source": [
    "### Staged construction buckling analysis"
   ]
  },
  {
   "cell_type": "code",
   "execution_count": null,
   "metadata": {},
   "outputs": [],
   "source": [
    "# Construction load attribute\n",
    "construction_load_attr = db.createLoadingGlobalDistributed(\"Global Distributed Load\")\n",
    "construction_load_attr.setGlobalDistributed(\"Length\", 0.0, 0.0, -construction_load, 0.0, 0.0, 0.0, 0.0, 0.0, False, 0.0)"
   ]
  },
  {
   "cell_type": "code",
   "execution_count": null,
   "metadata": {},
   "outputs": [],
   "source": [
    "\n",
    "# Create loadcases for each stage of construction\n",
    "stage_loadcases = []\n",
    "for i in range(1, 5):\n",
    "    loadcase = db.createLoadcase(f\"Stage {i}\", constr_analysis.getName())\n",
    "    loadcase.addGravity(True)\n",
    "    if i == 1:\n",
    "        # Set the default nonlinear control for the first loadcase, this is inherited by the subsequent loadcases\n",
    "        loadcase.setTransientControl(0)\n",
    "        loadcase.getTransientControl().setNonlinearManual().setOutput()\n",
    "    stage_loadcases.append(loadcase)\n",
    "    \n",
    "\n",
    "# For each construction stage create a branched analysis to consider buckling at each stage of construction\n",
    "for i, stage in enumerate(stage_loadcases):\n",
    "    branch = db.createAnalysisBranch(stage, f\"Stage {i+1} Stability\", False, \"Eigen analysis\")\n",
    "    loadcase = db.createLoadcase(f\"Stage {i+1} Buckling\", branch.getName())\n",
    "    loadcase.addGravity(True)\n",
    "    if eigen_range:\n",
    "        # Set the loadcase controls to be a Buckling analysis searching for 5 bucling modes within the given range of load factors\n",
    "        loadcase.setEigenvalueRangeControl(\"Buckling\", \"Buckling load\", 10, 0.0, 5)\n",
    "    else:\n",
    "        # Set the loadcase controls to be a Buckling analysis searching for the minimum 5 buckling modes\n",
    "        loadcase.setEigenvalueMaxMinControl(\"Buckling\", \"Minimum\", 5)\n",
    "\n",
    "    loadcase.getEigenvalueControl().setValue(\"Eigensolver\", \"Default\")\n",
    "\n",
    "    construction_load_attr.assignTo(lines_s1_tf, lusas.assignment().setAllDefaults().setLoadset(loadcase))\n",
    "    construction_load_attr.assignTo(lines_s2_tf, lusas.assignment().setAllDefaults().setLoadset(loadcase))"
   ]
  },
  {
   "cell_type": "code",
   "execution_count": null,
   "metadata": {},
   "outputs": [],
   "source": [
    "# Deactivate the deck in the start loadcase in the staged construction analysis\n",
    "for loadcase in [steel_sw_loadcase, stage_loadcases[0]]:\n",
    "    assignment = lusas.assignment().setAllDefaults().setLoadset(loadcase)\n",
    "    deactive_attr.assignTo(\"Group\", \"Deck\", assignment)\n",
    "    deactive_attr.assignTo(lines_s1_deck, assignment)\n",
    "    deactive_attr.assignTo(lines_s2_deck, assignment)"
   ]
  },
  {
   "cell_type": "code",
   "execution_count": null,
   "metadata": {},
   "outputs": [],
   "source": [
    "# Activate the parts of the deck that correspond to each stage of construction\n",
    "for i in range(1, len(stage_loadcases)+1):\n",
    "    loadcase = stage_loadcases[i-1]\n",
    "    # Activate the parts of the deck corresponding to the stage\n",
    "    if i in stage_activation and len(stage_activation[i]) > 0:\n",
    "        objs = lusas.newObjectSet()\n",
    "        for seg in stage_activation[i]:\n",
    "            objs.add(lines_s1_deck[seg])\n",
    "            objs.add(lines_s1_deck[-1-seg])\n",
    "            objs.add(lines_s2_deck[seg])\n",
    "            objs.add(lines_s2_deck[-1-seg])\n",
    "        objs.addHOF()\n",
    "        activate_attr.assignTo(objs, lusas.assignment().setAllDefaults().setLoadset(loadcase))"
   ]
  },
  {
   "cell_type": "markdown",
   "metadata": {},
   "source": [
    "Set the model to display the assigned plate thicknesses and supports in an isometric orientation"
   ]
  },
  {
   "cell_type": "code",
   "execution_count": null,
   "metadata": {},
   "outputs": [],
   "source": [
    "lusas.view().insertGeometryLayer() # Make sure the drawing layers exist before accessing them\n",
    "lusas.view().insertAttributesLayer()\n",
    "\n",
    "lusas.view().geometry().autoColourByAttributes(\"Geometric\", True)\n",
    "lusas.view().attributes().visualiseAll(\"Supports\")\n",
    "lusas.view().setIsometric()"
   ]
  },
  {
   "cell_type": "code",
   "execution_count": null,
   "metadata": {},
   "outputs": [],
   "source": [
    "# Mesh the model\n",
    "db.resetMesh()\n",
    "db.updateMesh()"
   ]
  },
  {
   "cell_type": "code",
   "execution_count": null,
   "metadata": {},
   "outputs": [],
   "source": [
    "# Solve all the anlyses\n",
    "if do_solve:\n",
    "    db.getAnalysis(\"Analysis 1\").solve(True)\n",
    "    db.getAnalysis(\"Eigenvalue Buckling Analysis\").solve(True)\n",
    "    db.openAllResults(False)\n"
   ]
  },
  {
   "cell_type": "code",
   "execution_count": null,
   "metadata": {},
   "outputs": [],
   "source": [
    "# Holding onto references to LUSAS objects can cause issues if they are then manually edited or deleted.\n",
    "# Here we remove all those references\n",
    "for v in vars():\n",
    "    del v"
   ]
  },
  {
   "cell_type": "code",
   "execution_count": null,
   "metadata": {},
   "outputs": [],
   "source": [
    "lusas.enableUI(True)"
   ]
  }
 ],
 "metadata": {
  "kernelspec": {
   "display_name": "Python 3",
   "language": "python",
   "name": "python3"
  },
  "language_info": {
   "codemirror_mode": {
    "name": "ipython",
    "version": 3
   },
   "file_extension": ".py",
   "mimetype": "text/x-python",
   "name": "python",
   "nbconvert_exporter": "python",
   "pygments_lexer": "ipython3",
   "version": "3.12.3"
  }
 },
 "nbformat": 4,
 "nbformat_minor": 2
}
