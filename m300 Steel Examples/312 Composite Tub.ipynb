{
 "cells": [
  {
   "cell_type": "markdown",
   "metadata": {},
   "source": [
    "# #312 Composite Tub\n",
    "<i>Double composite girders</i>\n",
    "***"
   ]
  },
  {
   "cell_type": "code",
   "execution_count": null,
   "metadata": {},
   "outputs": [],
   "source": [
    "'''Inputs - Units are N,mm'''\n",
    "mesh_size = 1000\n",
    "\n",
    "transverse_spacing = 4000 # Spacing of the two main girders\n",
    "deck_width = 7000         # Overall width of the concrete deck slab\n",
    "deck_thk = 200            # Thickness of the concrete deck slab \n",
    "shear_stud_stiff = 1000   # Stiffness of the connection between girders and deck\n",
    "\n",
    "do_solve = False          # Carry out the analysis once the model is constructed\n",
    "\n",
    "# Loads\n",
    "surf_load_intensity = -2.5\n",
    "settlement = -0.01 # m\n",
    "shrinkage_strain = -0.369764E-3 \n",
    "construction_load = 10.0 # Construction load (N/mm) used in staged buckling analysis applied to the top flanges\n",
    "\n",
    "stiff_depth = 200"
   ]
  },
  {
   "cell_type": "markdown",
   "metadata": {},
   "source": [
    "#### Connect to LUSAS Modeller and create a new model"
   ]
  },
  {
   "cell_type": "code",
   "execution_count": null,
   "metadata": {},
   "outputs": [],
   "source": [
    "import sys; sys.path.append('../') # Reference modules in parent directory\n",
    "import pandas as pd\n",
    "import numpy as np\n",
    "from LPI import *\n",
    "lusas = get_lusas_modeller()\n",
    "# if lusas.existsDatabase():\n",
    "#     raise Exception(\"This script will create a new model. Please save and close the current model and try again\")\n",
    "\n",
    "# Initialise the helpers module with a reference to LUSAS\n",
    "from m100_Tools_And_Helpers import Helpers\n",
    "Helpers.initialise(lusas)\n",
    "\n",
    "# Create a new model\n",
    "lusas.newProject(\"Structural\", \"Composite_Tub.mdl\")\n",
    "# Get a reference to the current model database for convenience\n",
    "db = lusas.database() \n",
    "# 3D model with Z vertical\n",
    "db.setAnalysisCategory(\"3D\")\n",
    "db.setVerticalDir(\"Z\")\n",
    "# Units N,mm\n",
    "db.setModelUnits(\"N,mm,t,s,C\")\n",
    "# Consider only 5 degrees of freedom for thick shell elements\n",
    "# This prevents diagonal decay of elements connected to the deck with joint elements in 3DOF\n",
    "db.getOptions().setBoolean(\"Option 278\", False, False, \"\")"
   ]
  },
  {
   "cell_type": "markdown",
   "metadata": {},
   "source": [
    "Create a girder class to hold the section dimensions for each segment</br>\n",
    "We'll create points in the LUSAS model for each section and then use the points to create surfaces joining them."
   ]
  },
  {
   "cell_type": "code",
   "execution_count": null,
   "metadata": {},
   "outputs": [],
   "source": [
    "class TubGirderSection:\n",
    "    def __init__(self, tfb:float, tfthk:float, dw:float, tw:float, weboffset:float, bfb:float, bfthk:float, support:str='', bottom_slab_thk:float=0.0):\n",
    "        self.top_flange_breadth = tfb\n",
    "        self.top_flange_thk = tfthk\n",
    "        self.web_depth = dw\n",
    "        self.web_thk = tw\n",
    "        self.web_offset = weboffset\n",
    "        self.no_web_stiffeners = 2\n",
    "        self.bottom_flange_breadth = bfb\n",
    "        self.bottom_flange_thk = bfthk\n",
    "        self.no_bottom_flange_stiffeners = 2\n",
    "        self.support = support\n",
    "        self.bottom_slab_thk = bottom_slab_thk\n",
    "        # We'll save the points created in the model in these lists so we can later use them to define surfaces\n",
    "        self.bf_points : list[IFPoint] = []\n",
    "        self.tf1_points : list[IFPoint] = []\n",
    "        self.tf2_points : list[IFPoint] = []\n",
    "\n",
    "    def get_bf_coords(self) ->list[float]:\n",
    "        \"\"\"Get the coordinates of the bottom flange points\"\"\"\n",
    "        coords = [self.bottom_flange_breadth/2]\n",
    "        if self.no_bottom_flange_stiffeners == 1:\n",
    "            coords += [0]\n",
    "        elif self.no_bottom_flange_stiffeners == 2:\n",
    "            coords += [self.bottom_flange_breadth/6, -self.bottom_flange_breadth/6]\n",
    "        coords += [-self.bottom_flange_breadth/2]\n",
    "        return coords"
   ]
  },
  {
   "cell_type": "markdown",
   "metadata": {},
   "source": [
    "Read the definitions from the excel sheet"
   ]
  },
  {
   "cell_type": "code",
   "execution_count": null,
   "metadata": {},
   "outputs": [],
   "source": [
    "df = pd.read_excel('312 Composite Tub.xlsx')"
   ]
  },
  {
   "cell_type": "markdown",
   "metadata": {},
   "source": [
    "Create a list of section definitions, we'll need one per segment + 1 for the end."
   ]
  },
  {
   "cell_type": "code",
   "execution_count": null,
   "metadata": {},
   "outputs": [],
   "source": [
    "sections : list[TubGirderSection] = []\n",
    "\n",
    "for i, row in df.iterrows():\n",
    "    # Create a girder section from the row\n",
    "    sections.append(TubGirderSection(row['tfb'], row['tfthk'], row['dw'], row['tw'], row['webOffset'], row['bfb'], row['bfthk'], row['support'], 0.0))\n",
    "\n",
    "# Get the lengths of the segments from the DataFrame\n",
    "segments_lengths = list(df['SegLength'][:-1]) # Exclude the last segment length as it is not used\n"
   ]
  },
  {
   "cell_type": "markdown",
   "metadata": {},
   "source": [
    "Create a list of stiffener thicknesses that will be positioned at each change in section. A zero thickness indicates no stiffener."
   ]
  },
  {
   "cell_type": "code",
   "execution_count": null,
   "metadata": {},
   "outputs": [],
   "source": [
    "stiffener_thicknesses = list(df['StiffThk'])"
   ]
  },
  {
   "cell_type": "code",
   "execution_count": null,
   "metadata": {},
   "outputs": [],
   "source": [
    "# When calling the LPI from an external process as we are here a speedup can be gained in v22 and later by disabling the UI\n",
    "if lusas.getMajorVersionNumber() >=22:\n",
    "    lusas.enableUI(False)"
   ]
  },
  {
   "cell_type": "markdown",
   "metadata": {},
   "source": [
    "Create model attributes"
   ]
  },
  {
   "cell_type": "code",
   "execution_count": null,
   "metadata": {},
   "outputs": [],
   "source": [
    "# Create the mesh attribute\n",
    "shell_mesh_attr = db.createMeshSurface(f\"Shell Mesh {mesh_size}mm\").setRegularSize(\"QTS4\", mesh_size, True)\n",
    "\n",
    "# Bar mesh attributes\n",
    "bracing_mesh_attr = db.createMeshLine(\"Bar Mesh\").setNumber(\"BRS2\", 1)\n",
    "\n",
    "# Stiffener mesh attribute\n",
    "stiffener_mesh_attr = db.createMeshLine(\"Stiffener Mesh\").setSize(\"BMI21\", mesh_size)\n",
    "\n",
    "# Steel Material attribute\n",
    "steel_material = db.createIsotropicMaterial(\"Steel\", 200_000, 0.3, 7.8e-9, 10e-6)\n",
    "\n",
    "# Concrete Material attribute\n",
    "concrete_material           = db.createIsotropicMaterial(\"Concrete\", 30_000, 0.2, 2.4e-9, 10e-6)\n",
    "concrete_material_long_term = db.createIsotropicMaterial(\"Concrete (Long Term)\", 30_000/3, 0.2, 2.4e-9, 10e-6)\n",
    "concrete_material_cracked   = db.createOrthotropicThickMaterial(\"Concrete Cracked\", 15_000, 30_000, 10_000, 10_000, 10_000, 0.3, 0.0, 2.4E-9, 0.0)\n",
    "concrete_material_cracked.setValue(\"ax\", 10e-6, 0).setValue(\"ay\", 10e-6, 0)\n",
    "\n",
    "# Bracing geometic attribute\n",
    "bracing_section_attr = db.createGeometricLine(\"Bracing Section\")\n",
    "bracing_section_attr.setFromLibrary(\"UK Sections\", \"Equal Angles (Advance)\", \"150x150x12 UKEA\", 0, 0, 0)\n",
    "\n",
    "# Surface attributes will be created for each surface thickness below\n",
    "\n",
    "# Connection between girders and deck is made with stiff joint elements.\n",
    "# Create a joint mesh and material attribute for this connection\n",
    "shear_stud_mesh_attr = db.createMeshLine(\"Shear Connection Mesh\").setSize(\"JNT4\", mesh_size)\n",
    "shear_stud_material_attr = db.createSpringJointMaterial(\"Shear Connection Material\", [shear_stud_stiff,shear_stud_stiff,shear_stud_stiff])\n",
    "shear_stud_material_attr.setValue(\"Assignment\", \"Line\")\n",
    "\n",
    "# Support attributes\n",
    "pinned = db.createSupportStructural(\"Fixed in XZ\").setStructural(\"R\", \"F\", \"R\", \"F\", \"F\", \"F\", \"F\", \"F\", \"C\", \"F\")\n",
    "slide = db.createSupportStructural(\"Fixed in Z\").setStructural(\"F\", \"F\", \"R\", \"F\", \"F\", \"F\", \"F\", \"F\", \"C\", \"F\")"
   ]
  },
  {
   "cell_type": "code",
   "execution_count": null,
   "metadata": {},
   "outputs": [],
   "source": [
    "# Deactivate attribute disables elements to which its assigned\n",
    "deactive_attr = db.createDeactivate(\"Deactivate\").setDeactivate(\"activeMesh\", 100.0, 1.0E-6)\n",
    "# Activate attribute reactivates attributes in the loadcase to which it's assigned\n",
    "activate_attr = db.createActivate(\"Activate\")\n",
    "# Local coords for orthotropic material assignment\n",
    "local_coord_attr = db.createLocalCartesianXYAttr(\"LCrd1\", 0.0, [0,0,0]).setAxesType(\"Cartesian\")"
   ]
  },
  {
   "cell_type": "code",
   "execution_count": null,
   "metadata": {},
   "outputs": [],
   "source": [
    "# Construction load attribute\n",
    "construction_load_attr = db.createLoadingGlobalDistributed(\"Global Distributed Load\")\n",
    "construction_load_attr.setGlobalDistributed(\"Length\", 0.0, 0.0, -construction_load, 0.0, 0.0, 0.0, 0.0, 0.0, False, 0.0)\n"
   ]
  },
  {
   "cell_type": "markdown",
   "metadata": {},
   "source": [
    "Create all the points for each section, saving the returned point in the Girder section definition. Use the helper fucntions library for create_point function"
   ]
  },
  {
   "cell_type": "code",
   "execution_count": null,
   "metadata": {},
   "outputs": [],
   "source": [
    "\n",
    "x = 0\n",
    "for i in range(0, len(sections)):\n",
    "    # Determine the longitudinal position (x coord) for each section\n",
    "    if i > 0 : x += segments_lengths[i-1]\n",
    "    # Determine the section to use at each longitudinal position\n",
    "    s = sections[i]\n",
    "    # Create the bottom flange points\n",
    "    for y in s.get_bf_coords():\n",
    "        s.bf_points.append(Helpers.create_point(x, y, -s.web_depth))\n",
    "\n",
    "    # Create the top flange points\n",
    "    y = s.bottom_flange_breadth /2 + s.web_offset\n",
    "    s.tf1_points.append(Helpers.create_point(x, y +s.top_flange_breadth/2, 0.0))\n",
    "    s.tf1_points.append(Helpers.create_point(x, y,                         0.0))\n",
    "    s.tf1_points.append(Helpers.create_point(x, y -s.top_flange_breadth/2, 0.0))\n",
    "    s.tf2_points.append(Helpers.create_point(x, -y +s.top_flange_breadth/2, 0.0))\n",
    "    s.tf2_points.append(Helpers.create_point(x, -y,                         0.0))\n",
    "    s.tf2_points.append(Helpers.create_point(x, -y -s.top_flange_breadth/2, 0.0))"
   ]
  },
  {
   "cell_type": "markdown",
   "metadata": {},
   "source": [
    "Now join up the segment points. First create helper function to create surfaces and assign a geometric thickness attribute"
   ]
  },
  {
   "cell_type": "code",
   "execution_count": null,
   "metadata": {},
   "outputs": [],
   "source": [
    "def create_surface(pnts: list, thk:float, ecc:float, group:str) -> IFSurface:\n",
    "\n",
    "    geometry_data = lusas.geometryData().setAllDefaults()\n",
    "    geometry_data.setLowerOrderGeometryType(\"points\")\n",
    "\n",
    "    obs = lusas.newObjectSet().add(pnts)\n",
    "\n",
    "    surface = obs.createSurface(geometry_data).getObject(\"Surface\")\n",
    "    db.getGroupByName(group).add(surface, \"Surfaces\")\n",
    "\n",
    "    name = f\"{group} ({thk:.1f}mm)\"\n",
    "\n",
    "    db.createGeometricSurface(name).setSurface(thk, ecc).assignTo(surface)\n",
    "    return surface"
   ]
  },
  {
   "cell_type": "markdown",
   "metadata": {},
   "source": [
    "Create groups to contain the girder surfaces"
   ]
  },
  {
   "cell_type": "code",
   "execution_count": null,
   "metadata": {},
   "outputs": [],
   "source": [
    "db.createEmptyGroup(\"Top Flange\")\n",
    "db.createEmptyGroup(\"Web\")\n",
    "db.createEmptyGroup(\"Bottom Flange\")\n",
    "db.createEmptyGroup(\"Web Stiffeners\")\n",
    "db.createEmptyGroup(\"Deck\")\n",
    "db.createEmptyGroup(\"Bottom Slab\")"
   ]
  },
  {
   "cell_type": "markdown",
   "metadata": {},
   "source": [
    "Here we'll create the surfaces between each section definition using the points we created earlier"
   ]
  },
  {
   "cell_type": "code",
   "execution_count": null,
   "metadata": {},
   "outputs": [],
   "source": [
    "for i in range(0, len(segments_lengths)):\n",
    "\n",
    "    s1:TubGirderSection = sections[i]   # Section definition at the start of the segment\n",
    "    s2:TubGirderSection = sections[i+1] # Section definition at the end of the segment\n",
    "\n",
    "    for j in range(0, len(s1.bf_points)-1):\n",
    "        create_surface([ s1.bf_points[j], s2.bf_points[j], s2.bf_points[j+1], s1.bf_points[j+1] ], s1.bottom_flange_thk, 0.0, \"Bottom Flange\")\n",
    "\n",
    "\n",
    "\n",
    "    #create_surface([ s1.bf_points[0], s2.bf_points[0], s2.bf_points[-1], s1.bf_points[-1] ], s1.bottom_flange_thk, 0.0, \"Bottom Flange\")\n",
    "\n",
    "    create_surface([ s1.bf_points[0], s2.bf_points[0], s2.tf1_points[1], s1.tf1_points[1] ], s1.web_thk,           0.0, \"Web\")\n",
    "    create_surface([ s1.bf_points[-1], s2.bf_points[-1], s2.tf2_points[1], s1.tf2_points[1] ], s1.web_thk,           0.0, \"Web\")\n",
    "\n",
    "    create_surface([ s1.tf1_points[1], s2.tf1_points[1], s2.tf1_points[0], s1.tf1_points[0] ], s1.top_flange_thk,    0.0, \"Top Flange\")\n",
    "    create_surface([ s1.tf1_points[2], s2.tf1_points[2], s2.tf1_points[1], s1.tf1_points[1] ], s1.top_flange_thk,    0.0, \"Top Flange\")\n",
    "\n",
    "    create_surface([ s1.tf2_points[1], s2.tf2_points[1], s2.tf2_points[0], s1.tf2_points[0] ], s1.top_flange_thk,    0.0, \"Top Flange\")\n",
    "    create_surface([ s1.tf2_points[2], s2.tf2_points[2], s2.tf2_points[1], s1.tf2_points[1] ], s1.top_flange_thk,    0.0, \"Top Flange\")\n"
   ]
  },
  {
   "cell_type": "markdown",
   "metadata": {},
   "source": [
    "Create stiffeners surfaces"
   ]
  },
  {
   "cell_type": "code",
   "execution_count": null,
   "metadata": {},
   "outputs": [],
   "source": [
    "for i, thk in enumerate(stiffener_thicknesses):\n",
    "\n",
    "    if thk > 0:\n",
    "\n",
    "        s = sections[i]   # Section definition at the start of the segment\n",
    "\n",
    "        line1 = Helpers.get_line_between_points(s.tf1_points[1], s.bf_points[0])\n",
    "        line2 = Helpers.get_line_between_points(s.tf2_points[1], s.bf_points[-1])\n",
    "\n",
    "        bflines = []\n",
    "        for j in range(len(s.get_bf_coords())-1):\n",
    "            bflines.append( Helpers.get_line_between_points(s.bf_points[j], s.bf_points[j+1]) )\n",
    "\n",
    "        name = f\"Stiffener ({stiffener_thicknesses[i]:.1f}mm)\"\n",
    "        stiffener_section_attr = Helpers.create_rectangular_section(db, name, stiffener_thicknesses[i], stiff_depth)\n",
    "        stiffener_section_attr.setValue(\"Ez\", -stiff_depth/2)\n",
    "        \n",
    "        stiffener_section_attr.assignTo(line1)\n",
    "        stiffener_section_attr.assignTo(line2)\n",
    "        stiffener_section_attr.assignTo(bflines)\n",
    "        stiffener_mesh_attr.assignTo(line1)\n",
    "        stiffener_mesh_attr.assignTo(line2)\n",
    "        stiffener_mesh_attr.assignTo(bflines)\n",
    "        steel_material.assignTo(line1)\n",
    "        steel_material.assignTo(line2)  \n",
    "        steel_material.assignTo(bflines)\n"
   ]
  },
  {
   "cell_type": "markdown",
   "metadata": {},
   "source": [
    "Assign a shell mesh attribute and steel material attribute to all surfaces"
   ]
  },
  {
   "cell_type": "code",
   "execution_count": null,
   "metadata": {},
   "outputs": [],
   "source": [
    "# Assign mesh and steel material to all girder surfaces\n",
    "assignment = lusas.assignment().setAllDefaults()\n",
    "shell_mesh_attr.assignTo(\"Surfaces\", assignment)\n",
    "steel_material.assignTo(\"Surfaces\", assignment)"
   ]
  },
  {
   "cell_type": "markdown",
   "metadata": {},
   "source": [
    "Support attributes"
   ]
  },
  {
   "cell_type": "code",
   "execution_count": null,
   "metadata": {},
   "outputs": [],
   "source": [
    "# To assign these support attributes we'll need to get hold of the lines. We can do this via the points that have created for each section\n",
    "\n",
    "# Assign supports to the end and central section\n",
    "for section in sections:\n",
    "\n",
    "    if not isinstance(section.support, str) or section.support == '': continue # Skip sections that are not supported\n",
    "\n",
    "    bflines = []\n",
    "    for i in range(len(section.get_bf_coords())-1):\n",
    "        bflines.append( Helpers.get_line_between_points(section.bf_points[i], section.bf_points[i+1]) )\n",
    "\n",
    "    if section.support == 'slide':\n",
    "        slide.assignTo(bflines)\n",
    "    elif section.support == 'pinned':\n",
    "        pinned.assignTo(bflines)\n",
    "    else:\n",
    "        print(\"Unrecognised support type:\", section.support)"
   ]
  },
  {
   "cell_type": "code",
   "execution_count": null,
   "metadata": {},
   "outputs": [],
   "source": [
    "# Set Default Attributes for bracing members\n",
    "db.setAsDefault(\"Mesh\", bracing_mesh_attr)\n",
    "db.setAsDefault(\"Material\", steel_material)\n",
    "db.setAsDefault(\"Line Geometric\", bracing_section_attr)"
   ]
  },
  {
   "cell_type": "code",
   "execution_count": null,
   "metadata": {},
   "outputs": [],
   "source": [
    "# Create the bracing members\n",
    "for i in range(0, len(segments_lengths)+1):\n",
    "    if stiffener_thicknesses[i] > 0:\n",
    "        line1 = Helpers.create_line_from_points(sections[i].bf_points[0], sections[i].tf2_points[1])\n",
    "        line2 = Helpers.create_line_from_points(sections[i].tf1_points[1], sections[i].bf_points[-1])\n",
    "        # line3 = Helpers.create_line_from_points(sections[i].bf_points[1], sections[i].bf_points[1])\n",
    "        line4 = Helpers.create_line_from_points(sections[i].tf1_points[1], sections[i].tf2_points[1])"
   ]
  },
  {
   "cell_type": "code",
   "execution_count": null,
   "metadata": {},
   "outputs": [],
   "source": [
    "# Plan bracing\n",
    "start_segment = 1\n",
    "for ix, i in enumerate(range(start_segment, len(segments_lengths) - start_segment)):\n",
    "    if ix % 2 == 0:\n",
    "        line = Helpers.create_line_from_points(sections[i].tf1_points[1], sections[i+1].tf2_points[1])\n",
    "    else:\n",
    "        line = Helpers.create_line_from_points(sections[i].tf2_points[1], sections[i+1].tf1_points[1])\n"
   ]
  },
  {
   "cell_type": "code",
   "execution_count": null,
   "metadata": {},
   "outputs": [],
   "source": [
    "# Clear default attribute assignments\n",
    "db.setAsDefault(\"Mesh\", \"None\")\n",
    "db.setAsDefault(\"Material\", \"None\")\n",
    "db.setAsDefault(\"Line Geometric\", \"None\")"
   ]
  },
  {
   "cell_type": "markdown",
   "metadata": {},
   "source": [
    "# Slab Deck"
   ]
  },
  {
   "cell_type": "code",
   "execution_count": null,
   "metadata": {},
   "outputs": [],
   "source": [
    "x_grid = [0]\n",
    "for s in segments_lengths:\n",
    "    x_grid.append(x_grid[-1]+s)\n",
    "\n",
    "#y = s.bottom_flange_breadth /2 + s.web_offset\n",
    "y_grid = [-deck_width/2, -transverse_spacing/2, 0.0, transverse_spacing/2, deck_width/2]"
   ]
  },
  {
   "cell_type": "code",
   "execution_count": null,
   "metadata": {},
   "outputs": [],
   "source": [
    "# Create the actual points in the model\n",
    "deck_points = [[Helpers.create_point(x, y, deck_thk/2) for x in x_grid] for y in y_grid]\n",
    "# [Y][X]\n",
    "\n",
    "# Create the surfaces for the deck\n",
    "for iy in range(0, len(y_grid)-1):\n",
    "    for ix in range(0, len(x_grid)-1):\n",
    "        create_surface([ deck_points[iy][ix], deck_points[iy][ix+1], deck_points[iy+1][ix+1], deck_points[iy+1][ix] ], deck_thk, 0.0, \"Deck\")"
   ]
  },
  {
   "cell_type": "code",
   "execution_count": null,
   "metadata": {},
   "outputs": [],
   "source": [
    "shell_mesh_attr.assignTo(\"Group\", \"Deck\")\n",
    "concrete_material.assignTo(\"Group\", \"Deck\")"
   ]
  },
  {
   "cell_type": "markdown",
   "metadata": {},
   "source": [
    "# Deck to Girder connection"
   ]
  },
  {
   "cell_type": "code",
   "execution_count": null,
   "metadata": {},
   "outputs": [],
   "source": [
    "# Helper function to find the lines in the top flanges and deck surfaces\n",
    "def get_lines_x(points:list[IFPoint])->list[IFLine]:\n",
    "    lines = []\n",
    "    for point in points:\n",
    "        for hof in point.getHOFs():\n",
    "            if hof.getTypeCode() == 2 : # Line\n",
    "                # Check it is aligned with and parallel to the x axis\n",
    "                if abs(hof.getEndPosition()[1] - hof.getStartPosition()[1]) < 1e-3 and \\\n",
    "                   abs(hof.getEndPosition()[2] - hof.getStartPosition()[2]) < 1e-3:\n",
    "                    # Add to the list if not already in there\n",
    "                    if not hof in lines:\n",
    "                        lines.append(hof)\n",
    "    return lines\n",
    "\n",
    "# List of lines in section 1 top flange\n",
    "lines_s1_tf   = get_lines_x([s.tf2_points[1] for s in sections])\n",
    "# List of lines in deck corresponding to the lines in section 1\n",
    "lines_s1_deck = get_lines_x([p for p in deck_points[1]])\n",
    "# List of lines in section 1 top flange\n",
    "lines_s2_tf   = get_lines_x([s.tf1_points[1] for s in sections])\n",
    "# List of lines in deck corresponding to the lines in section 2\n",
    "lines_s2_deck = get_lines_x([p for p in deck_points[-2]])\n",
    "# Default assignment\n",
    "assignment = lusas.assignment().setAllDefaults()\n",
    "# Assign the mesh between corresponding lines of the girder top flange and deck\n",
    "for i in range(0, len(lines_s1_tf)):\n",
    "    objs = lusas.newObjectSet().add(lines_s1_deck[i]).add(lines_s1_tf[i])\n",
    "    shear_stud_mesh_attr.assignTo(objs,assignment)\n",
    "    del objs\n",
    "# Assign the mesh between corresponding lines of the girder top flange and deck\n",
    "for i in range(0, len(lines_s2_tf)):\n",
    "    objs = lusas.newObjectSet().add(lines_s2_deck[i]).add(lines_s2_tf[i])\n",
    "    shear_stud_mesh_attr.assignTo(objs,assignment)\n",
    "    del objs\n",
    "# Assign the material for the joint elements to the primary line of the joint assignment\n",
    "shear_stud_material_attr.assignTo(lines_s1_deck, assignment)\n",
    "shear_stud_material_attr.assignTo(lines_s2_deck, assignment)"
   ]
  },
  {
   "cell_type": "markdown",
   "metadata": {},
   "source": [
    "## Set loadcase and view"
   ]
  },
  {
   "cell_type": "code",
   "execution_count": null,
   "metadata": {},
   "outputs": [],
   "source": [
    "# Get the automatically created loadcase in analysis 1 and add automatic gravity to it\n",
    "# The loadcase will be used only to test the model is working correctly\n",
    "# NOTE: getLoadset and setName function returns a reference to the IFLoadset baseclass and must be cast to IFLoadcase to access the addGravity function\n",
    "win32.CastTo(db.getLoadset(\"Loadcase 1\", 0).setName(\"Gravity\"), \"IFLoadcase\").addGravity(True)\n",
    "db.getAnalysis(\"Analysis 1\").setName(\"00 Base\")"
   ]
  },
  {
   "cell_type": "markdown",
   "metadata": {},
   "source": [
    "Set the model to display the assigned plate thicknesses and supports in an isometric orientation"
   ]
  },
  {
   "cell_type": "code",
   "execution_count": null,
   "metadata": {},
   "outputs": [],
   "source": [
    "lusas.view().insertGeometryLayer() # Make sure the drawing layers exist before accessing them\n",
    "lusas.view().insertAttributesLayer()\n",
    "\n",
    "lusas.view().geometry().autoColourByAttributes(\"Geometric\", True)\n",
    "lusas.view().attributes().visualiseAll(\"Supports\")\n",
    "lusas.view().setIsometric()"
   ]
  },
  {
   "cell_type": "code",
   "execution_count": null,
   "metadata": {},
   "outputs": [],
   "source": [
    "# Mesh the model\n",
    "db.resetMesh()\n",
    "db.updateMesh()"
   ]
  },
  {
   "cell_type": "code",
   "execution_count": null,
   "metadata": {},
   "outputs": [],
   "source": [
    "# Solve all the analyses\n",
    "if do_solve:\n",
    "    for analysis in db.getAnalyses():\n",
    "        analysis.solve(True)\n",
    "    db.openAllResults(False)"
   ]
  },
  {
   "cell_type": "code",
   "execution_count": null,
   "metadata": {},
   "outputs": [],
   "source": [
    "# Re-enable the UI. Note if the script failed prior to this, this cell must be run manually to re-enable the UI\n",
    "lusas.enableUI(True)"
   ]
  }
 ],
 "metadata": {
  "kernelspec": {
   "display_name": "Python 3",
   "language": "python",
   "name": "python3"
  },
  "language_info": {
   "codemirror_mode": {
    "name": "ipython",
    "version": 3
   },
   "file_extension": ".py",
   "mimetype": "text/x-python",
   "name": "python",
   "nbconvert_exporter": "python",
   "pygments_lexer": "ipython3",
   "version": "3.13.2"
  }
 },
 "nbformat": 4,
 "nbformat_minor": 2
}
