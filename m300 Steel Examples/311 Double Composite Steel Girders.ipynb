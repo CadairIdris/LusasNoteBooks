{
 "cells": [
  {
   "cell_type": "markdown",
   "metadata": {},
   "source": [
    "# #311 Double Composite steel girders\n",
    "<i>Multi span composite girders with concrete deck slab and additional concrete slabs at bottom flange level over supports. Section data is defined in Excel sheets</i>\n",
    "***"
   ]
  },
  {
   "cell_type": "code",
   "execution_count": null,
   "metadata": {},
   "outputs": [],
   "source": [
    "'''Inputs - Units are N,mm'''\n",
    "mesh_size = 1000\n",
    "\n",
    "transverse_spacing = 4000 # Spacing of the two main girders\n",
    "deck_width = 7000         # Overall width of the concrete deck slab\n",
    "deck_thk = 200            # Thickness of the concrete deck slab \n",
    "shear_stud_stiff = 1000   # Stiffness of the connection between girders and deck\n",
    "\n",
    "do_solve = False          # Carry out the analysis once the model is constructed\n",
    "\n",
    "# Long term loads\n",
    "surf_load_intensity = -2.5\n",
    "settlement = -0.01 # m\n",
    "shrinkage_strain = -0.369764E-3 \n",
    "# Short term loads\n",
    "temperature_increase = 20\n",
    "temperature_decrease = -20\n"
   ]
  },
  {
   "cell_type": "markdown",
   "metadata": {},
   "source": [
    "#### Connect to LUSAS Modeller and create a new model"
   ]
  },
  {
   "cell_type": "code",
   "execution_count": null,
   "metadata": {},
   "outputs": [],
   "source": [
    "import sys; sys.path.append('../') # Reference modules in parent directory\n",
    "import pandas as pd\n",
    "import numpy as np\n",
    "from LPI_22_0 import *\n",
    "lusas = get_lusas_modeller()\n",
    "# if lusas.existsDatabase():\n",
    "#     raise Exception(\"This script will create a new model. Please save and close the current model and try again\")\n",
    "\n",
    "# Initialise the helpers module with a reference to LUSAS\n",
    "from m100_Tools_And_Helpers import Helpers\n",
    "Helpers.initialise(lusas)\n",
    "\n",
    "# Create a new model\n",
    "lusas.newProject(\"Structural\", \"Double_Composite_Bridge.mdl\")\n",
    "# Get a reference to the current model database for convenience\n",
    "db = lusas.database() \n",
    "# 3D model with Z vertical\n",
    "db.setAnalysisCategory(\"3D\")\n",
    "db.setVerticalDir(\"Z\")\n",
    "# Units N,mm\n",
    "db.setModelUnits(\"N,mm,t,s,C\")\n",
    "# Consider only 5 degrees of freedom for thick shell elements\n",
    "# This prevents diagonal decay of elements connected to the deck with joint elements in 3DOF\n",
    "db.getOptions().setBoolean(\"Option 278\", False, False, \"\")"
   ]
  },
  {
   "cell_type": "markdown",
   "metadata": {},
   "source": [
    "Create a girder class to hold the section dimensions for each segment</br>\n",
    "We'll create points in the LUSAS model for each section and then use the points to create surfaces joining them."
   ]
  },
  {
   "cell_type": "code",
   "execution_count": null,
   "metadata": {},
   "outputs": [],
   "source": [
    "class GirderSection:\n",
    "    def __init__(self, tfb:float, tfthk:float, dw:float, tw:float, bfb:float, bfthk:float, support:str='', bottom_slab_thk:float=0.0):\n",
    "        self.top_flange_breadth = tfb\n",
    "        self.top_flange_thk = tfthk\n",
    "        self.web_depth = dw\n",
    "        self.web_thk = tw\n",
    "        self.bottom_flange_breadth = bfb\n",
    "        self.bottom_flange_thk = bfthk\n",
    "        self.support = support\n",
    "        self.bottom_slab_thk = bottom_slab_thk\n",
    "        # We'll save the points created in the model in these lists so we can later use them to define surfaces\n",
    "        self.bf_points : list[IFPoint] = []\n",
    "        self.tf_points : list[IFPoint] = []\n"
   ]
  },
  {
   "cell_type": "markdown",
   "metadata": {},
   "source": [
    "Read the definitions from the excel sheet"
   ]
  },
  {
   "cell_type": "code",
   "execution_count": null,
   "metadata": {},
   "outputs": [],
   "source": [
    "df = pd.read_excel('311 Double Composite Sections.xlsx')"
   ]
  },
  {
   "cell_type": "markdown",
   "metadata": {},
   "source": [
    "Create a list of section definitions, we'll need one per segment + 1 for the end."
   ]
  },
  {
   "cell_type": "code",
   "execution_count": null,
   "metadata": {},
   "outputs": [],
   "source": [
    "sections1 : list[GirderSection] = []\n",
    "\n",
    "for i, row in df.iterrows():\n",
    "    # Create a girder section from the row\n",
    "    sections1.append(GirderSection(row['tfb'], row['tfthk'], row['dw'], row['tw'], row['bfb'], row['bfthk'], row['support'], row['BotSlabThk']))\n",
    "\n",
    "# Copy the sections to create a second set for the other girder\n",
    "import copy\n",
    "sections2 = [copy.deepcopy(s) for s in sections1]\n",
    "\n",
    "sections_list = [sections1, sections2]\n",
    "\n",
    "# Get the lengths of the segments from the DataFrame\n",
    "segments_lengths = list(df['SegLength'][:-1]) # Exclude the last segment length as it is not used\n"
   ]
  },
  {
   "cell_type": "markdown",
   "metadata": {},
   "source": [
    "Create a list of stiffener thicknesses that will be positioned at each change in section. A zero thickness indicates no stiffener."
   ]
  },
  {
   "cell_type": "code",
   "execution_count": null,
   "metadata": {},
   "outputs": [],
   "source": [
    "stiffener_thicknesses = list(df['StiffThk'])\n",
    "\n",
    "# Ensure number of stiffener thicknesses matches the number of segments\n",
    "assert(len(sections1) == len(stiffener_thicknesses))"
   ]
  },
  {
   "cell_type": "code",
   "execution_count": null,
   "metadata": {},
   "outputs": [],
   "source": [
    "# When calling the LPI from an external process as we are here a speedup can be gained in v22 and later by disabling the UI\n",
    "if lusas.getMajorVersionNumber() >=22:\n",
    "    lusas.enableUI(False)"
   ]
  },
  {
   "cell_type": "markdown",
   "metadata": {},
   "source": [
    "Create model attributes"
   ]
  },
  {
   "cell_type": "code",
   "execution_count": null,
   "metadata": {},
   "outputs": [],
   "source": [
    "# Create the mesh attribute\n",
    "shell_mesh_attr = db.createMeshSurface(f\"Shell Mesh {mesh_size}mm\").setRegularSize(\"QTS4\", mesh_size, True)\n",
    "\n",
    "# Bar mesh attributes\n",
    "bracing_mesh_attr = db.createMeshLine(\"Bar Mesh\").setNumber(\"BRS2\", 1)\n",
    "\n",
    "# Steel Material attribute\n",
    "steel_material = db.createIsotropicMaterial(\"Steel\", 200_000, 0.3, 7.8e-9, 10e-6)\n",
    "\n",
    "# Concrete Material attribute\n",
    "concrete_material           = db.createIsotropicMaterial(\"Concrete\", 30_000, 0.2, 2.4e-9, 10e-6)\n",
    "concrete_material_long_term = db.createIsotropicMaterial(\"Concrete (Long Term)\", 30_000/3, 0.2, 2.4e-9, 10e-6)\n",
    "concrete_material_cracked   = db.createOrthotropicThickMaterial(\"Concrete Cracked\", 15_000, 30_000, 10_000, 10_000, 10_000, 0.3, 0.0, 2.4E-9, 0.0)\n",
    "concrete_material_cracked.setValue(\"ax\", 10e-6, 0).setValue(\"ay\", 10e-6, 0)\n",
    "\n",
    "# Bracing geometic attribute\n",
    "bracing_section_attr = db.createGeometricLine(\"Bracing Section\")\n",
    "bracing_section_attr.setFromLibrary(\"UK Sections\", \"Equal Angles (Advance)\", \"150x150x12 UKEA\", 0, 0, 0)\n",
    "# Surface attributes will be created for each surface thickness below\n",
    "\n",
    "# Connection between girders and deck is made with stiff joint elements.\n",
    "# Create a joint mesh and material attribute for this connection\n",
    "shear_stud_mesh_attr = db.createMeshLine(\"Shear Connection Mesh\").setSize(\"JNT4\", mesh_size)\n",
    "shear_stud_material_attr = db.createSpringJointMaterial(\"Shear Connection Material\", [shear_stud_stiff,shear_stud_stiff,shear_stud_stiff])\n",
    "shear_stud_material_attr.setValue(\"Assignment\", \"Line\")\n",
    "\n",
    "# Support attributes\n",
    "pinned = db.createSupportStructural(\"Fixed in XZ\").setStructural(\"R\", \"F\", \"R\", \"F\", \"F\", \"F\", \"F\", \"F\", \"C\", \"F\")\n",
    "slide = db.createSupportStructural(\"Fixed in Z\").setStructural(\"F\", \"F\", \"R\", \"F\", \"F\", \"F\", \"F\", \"F\", \"C\", \"F\")"
   ]
  },
  {
   "cell_type": "code",
   "execution_count": null,
   "metadata": {},
   "outputs": [],
   "source": [
    "# Deactivate attribute disables elements to which its assigned\n",
    "deactive_attr = db.createDeactivate(\"Deactivate\").setDeactivate(\"activeMesh\", 100.0, 1.0E-6)\n",
    "# Activate attribute reactivates attributes in the loadcase to which it's assigned\n",
    "activate_attr = db.createActivate(\"Activate\")\n",
    "# Local coords for orthotropic material assignment\n",
    "local_coord_attr = db.createLocalCartesianXYAttr(\"LCrd1\", 0.0, [0,0,0]).setAxesType(\"Cartesian\")"
   ]
  },
  {
   "cell_type": "markdown",
   "metadata": {},
   "source": [
    "Create all the points for each section, saving the returned point in the Girder section definition. Use the helper fucntions library for create_point function"
   ]
  },
  {
   "cell_type": "code",
   "execution_count": null,
   "metadata": {},
   "outputs": [],
   "source": [
    "for sections, y in [(sections1, -transverse_spacing/2),(sections2, transverse_spacing/2)]:\n",
    "    x = 0\n",
    "    for i in range(0, len(sections)):\n",
    "        # Determine the longitudinal position (x coord) for each section\n",
    "        if i > 0 : x += segments_lengths[i-1]\n",
    "        # Determine the section to use at each longitudinal position\n",
    "        s = sections[i]\n",
    "        # Create the bottom flange points\n",
    "        s.bf_points.append(Helpers.create_point(x, y + s.bottom_flange_breadth/2, -s.web_depth))\n",
    "        s.bf_points.append(Helpers.create_point(x, y,                             -s.web_depth))\n",
    "        s.bf_points.append(Helpers.create_point(x, y - s.bottom_flange_breadth/2, -s.web_depth))\n",
    "        # Create the top flange points\n",
    "        s.tf_points.append(Helpers.create_point(x, y +s.top_flange_breadth/2, 0.0))\n",
    "        s.tf_points.append(Helpers.create_point(x, y,                         0.0))\n",
    "        s.tf_points.append(Helpers.create_point(x, y -s.top_flange_breadth/2, 0.0))"
   ]
  },
  {
   "cell_type": "markdown",
   "metadata": {},
   "source": [
    "Now join up the segment points. First create helper function to create surfaces and assign a geometric thickness attribute"
   ]
  },
  {
   "cell_type": "code",
   "execution_count": null,
   "metadata": {},
   "outputs": [],
   "source": [
    "def create_surface(pnts: list, thk:float, ecc:float, group:str) -> IFSurface:\n",
    "\n",
    "    geometry_data = lusas.geometryData().setAllDefaults()\n",
    "    geometry_data.setLowerOrderGeometryType(\"points\")\n",
    "\n",
    "    obs = lusas.newObjectSet().add(pnts)\n",
    "\n",
    "    surface = obs.createSurface(geometry_data).getObject(\"Surface\")\n",
    "    db.getGroupByName(group).add(surface, \"Surfaces\")\n",
    "\n",
    "    name = f\"{group} ({thk:.1f}mm)\"\n",
    "\n",
    "    db.createGeometricSurface(name).setSurface(thk, ecc).assignTo(surface)\n",
    "    return surface"
   ]
  },
  {
   "cell_type": "markdown",
   "metadata": {},
   "source": [
    "Create groups to contain the girder surfaces"
   ]
  },
  {
   "cell_type": "code",
   "execution_count": null,
   "metadata": {},
   "outputs": [],
   "source": [
    "db.createEmptyGroup(\"Top Flange\")\n",
    "db.createEmptyGroup(\"Web\")\n",
    "db.createEmptyGroup(\"Bottom Flange\")\n",
    "db.createEmptyGroup(\"Web Stiffeners\")\n",
    "db.createEmptyGroup(\"Deck\")\n",
    "db.createEmptyGroup(\"Bottom Slab\")"
   ]
  },
  {
   "cell_type": "markdown",
   "metadata": {},
   "source": [
    "Here we'll create the surfaces between each section definition using the points we created earlier"
   ]
  },
  {
   "cell_type": "code",
   "execution_count": null,
   "metadata": {},
   "outputs": [],
   "source": [
    "for sections in sections_list:\n",
    "    for i in range(0, len(segments_lengths)):\n",
    "\n",
    "        s1:GirderSection = sections[i]   # Section definition at the start of the segment\n",
    "        s2:GirderSection = sections[i+1] # Section definition at the end of the segment\n",
    "\n",
    "        create_surface([ s1.bf_points[1], s2.bf_points[1], s2.bf_points[0], s1.bf_points[0] ], s1.bottom_flange_thk, 0.0, \"Bottom Flange\")\n",
    "        create_surface([ s1.bf_points[2], s2.bf_points[2], s2.bf_points[0], s1.bf_points[0] ], s1.bottom_flange_thk, 0.0, \"Bottom Flange\")\n",
    "        create_surface([ s1.bf_points[1], s2.bf_points[1], s2.tf_points[1], s1.tf_points[1] ], s1.web_thk,           0.0, \"Web\")\n",
    "        create_surface([ s1.tf_points[1], s2.tf_points[1], s2.tf_points[0], s1.tf_points[0] ], s1.top_flange_thk,    0.0, \"Top Flange\")\n",
    "        create_surface([ s1.tf_points[2], s2.tf_points[2], s2.tf_points[1], s1.tf_points[1] ], s1.top_flange_thk,    0.0, \"Top Flange\")\n"
   ]
  },
  {
   "cell_type": "markdown",
   "metadata": {},
   "source": [
    "Create stiffeners surfaces"
   ]
  },
  {
   "cell_type": "code",
   "execution_count": null,
   "metadata": {},
   "outputs": [],
   "source": [
    "for sections in sections_list:\n",
    "    for i, thk in enumerate(stiffener_thicknesses):\n",
    "\n",
    "        if thk > 0:\n",
    "\n",
    "            s:GirderSection = sections[i]   # Section definition at the start of the segment\n",
    "            create_surface([ s.bf_points[0], s.tf_points[0], s.tf_points[1], s.bf_points[1] ], thk, 0.0, \"Web Stiffeners\")\n",
    "            create_surface([ s.bf_points[1], s.tf_points[1], s.tf_points[2], s.bf_points[2] ], thk, 0.0, \"Web Stiffeners\")\n"
   ]
  },
  {
   "cell_type": "markdown",
   "metadata": {},
   "source": [
    "Assign a shell mesh attribute and steel material attribute to all surfaces"
   ]
  },
  {
   "cell_type": "code",
   "execution_count": null,
   "metadata": {},
   "outputs": [],
   "source": [
    "# Assign mesh and steel material to all girder surfaces\n",
    "assignment = lusas.assignment().setAllDefaults()\n",
    "shell_mesh_attr.assignTo(\"Surfaces\", assignment)\n",
    "steel_material.assignTo(\"Surfaces\", assignment)"
   ]
  },
  {
   "cell_type": "markdown",
   "metadata": {},
   "source": [
    "Support attributes"
   ]
  },
  {
   "cell_type": "code",
   "execution_count": null,
   "metadata": {},
   "outputs": [],
   "source": [
    "# To assign these support attributes we'll need to get hold of the lines. We can do this via the points that have created for each section\n",
    "\n",
    "# Loop through each member\n",
    "for sections in sections_list:\n",
    "    # Assign supports to the end and central section\n",
    "    for section in sections:\n",
    "\n",
    "        if not isinstance(section.support, str) or section.support == '': continue # Skip sections that are not supported\n",
    "\n",
    "        p0 = section.bf_points[0] # point at the +ve flange edge\n",
    "        p1 = section.bf_points[1] # point at the centre of the web.\n",
    "        p2 = section.bf_points[2] # point at the -ve flange edge\n",
    "\n",
    "        l1 = Helpers.get_line_between_points(p1,p0)\n",
    "        l2 = Helpers.get_line_between_points(p1,p2)\n",
    "\n",
    "        if section.support == 'slide':\n",
    "            slide.assignTo(l1)\n",
    "            slide.assignTo(l2)\n",
    "        elif section.support == 'pinned':\n",
    "            pinned.assignTo(l1)\n",
    "            pinned.assignTo(l2)\n",
    "        else:\n",
    "            print(\"Unrecognised support type:\", section.support)"
   ]
  },
  {
   "cell_type": "code",
   "execution_count": null,
   "metadata": {},
   "outputs": [],
   "source": [
    "# Set Default Attributes for bracing members\n",
    "db.setAsDefault(\"Mesh\", bracing_mesh_attr)\n",
    "db.setAsDefault(\"Material\", steel_material)\n",
    "db.setAsDefault(\"Line Geometric\", bracing_section_attr)"
   ]
  },
  {
   "cell_type": "code",
   "execution_count": null,
   "metadata": {},
   "outputs": [],
   "source": [
    "# Create the bracing members\n",
    "for i in range(0, len(segments_lengths)+1):\n",
    "    line1 = Helpers.create_line_from_points(sections1[i].bf_points[1], sections2[i].tf_points[1])\n",
    "    line2 = Helpers.create_line_from_points(sections1[i].tf_points[1], sections2[i].bf_points[1])\n",
    "    line3 = Helpers.create_line_from_points(sections1[i].bf_points[1], sections2[i].bf_points[1])\n",
    "    line4 = Helpers.create_line_from_points(sections1[i].tf_points[1], sections2[i].tf_points[1])"
   ]
  },
  {
   "cell_type": "code",
   "execution_count": null,
   "metadata": {},
   "outputs": [],
   "source": [
    "# Clear default attribute assignments\n",
    "db.setAsDefault(\"Mesh\", \"None\")\n",
    "db.setAsDefault(\"Material\", \"None\")\n",
    "db.setAsDefault(\"Line Geometric\", \"None\")"
   ]
  },
  {
   "cell_type": "markdown",
   "metadata": {},
   "source": [
    "# Slab Deck"
   ]
  },
  {
   "cell_type": "code",
   "execution_count": null,
   "metadata": {},
   "outputs": [],
   "source": [
    "x_grid = [0]\n",
    "for s in segments_lengths:\n",
    "    x_grid.append(x_grid[-1]+s)\n",
    "\n",
    "y_grid = [-deck_width/2, -transverse_spacing/2, 0.0, transverse_spacing/2, deck_width/2]"
   ]
  },
  {
   "cell_type": "code",
   "execution_count": null,
   "metadata": {},
   "outputs": [],
   "source": [
    "# Create the actual points in the model\n",
    "deck_points = [[Helpers.create_point(x, y, deck_thk/2) for x in x_grid] for y in y_grid]\n",
    "# [Y][X]\n",
    "\n",
    "# Create the surfaces for the deck\n",
    "for iy in range(0, len(y_grid)-1):\n",
    "    for ix in range(0, len(x_grid)-1):\n",
    "        create_surface([ deck_points[iy][ix], deck_points[iy][ix+1], deck_points[iy+1][ix+1], deck_points[iy+1][ix] ], deck_thk, 0.0, \"Deck\")"
   ]
  },
  {
   "cell_type": "code",
   "execution_count": null,
   "metadata": {},
   "outputs": [],
   "source": [
    "shell_mesh_attr.assignTo(\"Group\", \"Deck\")\n",
    "concrete_material.assignTo(\"Group\", \"Deck\")"
   ]
  },
  {
   "cell_type": "markdown",
   "metadata": {},
   "source": [
    "# Deck to Girder connection"
   ]
  },
  {
   "cell_type": "code",
   "execution_count": null,
   "metadata": {},
   "outputs": [],
   "source": [
    "# Helper function to find the lines in the top flanges and deck surfaces\n",
    "def get_lines_x(points:list[IFPoint])->list[IFLine]:\n",
    "    lines = []\n",
    "    for point in points:\n",
    "        for hof in point.getHOFs():\n",
    "            if hof.getTypeCode() == 2 : # Line\n",
    "                # Check it is aligned with and parallel to the x axis\n",
    "                if abs(hof.getEndPosition()[1] - hof.getStartPosition()[1]) < 1e-3 and \\\n",
    "                   abs(hof.getEndPosition()[2] - hof.getStartPosition()[2]) < 1e-3:\n",
    "                    # Add to the list if not already in there\n",
    "                    if not hof in lines:\n",
    "                        lines.append(hof)\n",
    "    return lines\n",
    "\n",
    "# List of lines in section 1 top flange\n",
    "lines_s1_tf   = get_lines_x([s.tf_points[1] for s in sections1])\n",
    "# List of lines in deck corresponding to the lines in section 1\n",
    "lines_s1_deck = get_lines_x([p for p in deck_points[1]])\n",
    "\n",
    "# List of lines in section 1 top flange\n",
    "lines_s2_tf   = get_lines_x([s.tf_points[1] for s in sections2])\n",
    "# List of lines in deck corresponding to the lines in section 2\n",
    "lines_s2_deck = get_lines_x([p for p in deck_points[-2]])\n",
    "\n",
    "\n",
    "# Default assignment\n",
    "assignment = lusas.assignment().setAllDefaults()\n",
    "\n",
    "# Assign the mesh between corresponding lines of the girder top flange and deck\n",
    "for i in range(0, len(lines_s1_tf)):\n",
    "    objs = lusas.newObjectSet().add(lines_s1_deck[i]).add(lines_s1_tf[i])\n",
    "    shear_stud_mesh_attr.assignTo(objs,assignment)\n",
    "    del objs\n",
    "\n",
    "# Assign the mesh between corresponding lines of the girder top flange and deck\n",
    "for i in range(0, len(lines_s2_tf)):\n",
    "    objs = lusas.newObjectSet().add(lines_s2_deck[i]).add(lines_s2_tf[i])\n",
    "    shear_stud_mesh_attr.assignTo(objs,assignment)\n",
    "    del objs\n",
    "\n",
    "# Assign the material for the joint elements to the primary line of the joint assignment\n",
    "shear_stud_material_attr.assignTo(lines_s1_deck, assignment)\n",
    "shear_stud_material_attr.assignTo(lines_s2_deck, assignment)"
   ]
  },
  {
   "cell_type": "markdown",
   "metadata": {},
   "source": [
    "## Bottom flange slabs"
   ]
  },
  {
   "cell_type": "code",
   "execution_count": null,
   "metadata": {},
   "outputs": [],
   "source": [
    "bottom_slab_surfaces = []\n",
    "s1_lines = []\n",
    "s2_lines = []\n",
    "for i in range(len(sections1)):\n",
    "    s1 = sections1[i]\n",
    "    if np.isnan(s1.bottom_slab_thk) or s1.bottom_slab_thk <= 0: continue\n",
    "    s2 = sections2[i]\n",
    "    s11 = sections1[i+1] \n",
    "    s22 = sections2[i+1] \n",
    "    points = []\n",
    "    points.append(Helpers.create_point(s1.bf_points[1].getX(), s1.bf_points[1].getY(), s1.bf_points[1].getZ() + s1.bottom_slab_thk/2))\n",
    "    points.append(Helpers.create_point(s2.bf_points[1].getX(), s2.bf_points[1].getY(), s2.bf_points[1].getZ() + s1.bottom_slab_thk/2))\n",
    "    points.append(Helpers.create_point(s22.bf_points[1].getX(), s22.bf_points[1].getY(), s22.bf_points[1].getZ() + s1.bottom_slab_thk/2))\n",
    "    points.append(Helpers.create_point(s11.bf_points[1].getX(), s11.bf_points[1].getY(), s11.bf_points[1].getZ() + s1.bottom_slab_thk/2))\n",
    "    bottom_slab_surfaces.append(create_surface(points, s1.bottom_slab_thk, 0.0, \"Bottom Slab\"))\n",
    "    # Store pairs of lines that will be connected with joint elements\n",
    "    s1_lines.append((Helpers.get_line_between_points(s1.bf_points[1], s11.bf_points[1]), Helpers.get_line_between_points(points[0], points[3])))\n",
    "    s2_lines.append((Helpers.get_line_between_points(s2.bf_points[1], s22.bf_points[1]), Helpers.get_line_between_points(points[1], points[2])))\n",
    "\n",
    "shell_mesh_attr.assignTo(\"Group\", \"Bottom Slab\")\n",
    "concrete_material.assignTo(\"Group\", \"Bottom Slab\")"
   ]
  },
  {
   "cell_type": "code",
   "execution_count": null,
   "metadata": {},
   "outputs": [],
   "source": [
    "# Default assignment\n",
    "assignment = lusas.assignment().setAllDefaults()\n",
    "\n",
    "# Assign the mesh between corresponding lines of the girder bottom flange and bottom slabs\n",
    "for lines in [s1_lines, s2_lines]:\n",
    "    for l1, l2 in lines:\n",
    "        # Create a joint element between the two lines\n",
    "        objs = lusas.newObjectSet().add(l1).add(l2)\n",
    "        shear_stud_mesh_attr.assignTo(objs,assignment)\n",
    "\n",
    "# Assign the material for the joint elements to the primary line of the joint assignment\n",
    "shear_stud_material_attr.assignTo([l[0] for l in s1_lines], assignment)\n",
    "shear_stud_material_attr.assignTo([l[0] for l in s2_lines], assignment)"
   ]
  },
  {
   "cell_type": "code",
   "execution_count": null,
   "metadata": {},
   "outputs": [],
   "source": [
    "# Get the automatically created loadcase in analysis 1 and add automatic gravity to it\n",
    "# The loadcase will be used only to test the model is working correctly\n",
    "# NOTE: getLoadset and setName function returns a reference to the IFLoadset baseclass and must be cast to IFLoadcase to access the addGravity function\n",
    "win32.CastTo(db.getLoadset(\"Loadcase 1\", 0).setName(\"Gravity\"), \"IFLoadcase\").addGravity(True)\n",
    "db.getAnalysis(\"Analysis 1\").setName(\"00 Base\")"
   ]
  },
  {
   "cell_type": "markdown",
   "metadata": {},
   "source": [
    "## Analysis phases"
   ]
  },
  {
   "cell_type": "code",
   "execution_count": null,
   "metadata": {},
   "outputs": [],
   "source": [
    "PHASE1_NAME = \"Phase 1\"\n",
    "PHASE2_NAME = \"Phase 2\"\n",
    "PHASE3_NAME = \"Phase 3\"\n",
    "# Create 3 separate analyses, 1st stage is for the girders, 2nd stage is long term and the 3rd stage is short term\n",
    "stage1_analysis = db.createAnalysisStructural(PHASE1_NAME, False)\n",
    "stage2_analysis = db.createAnalysisStructural(PHASE2_NAME, False)\n",
    "stage3_analysis = db.createAnalysisStructural(PHASE3_NAME, False)"
   ]
  },
  {
   "cell_type": "markdown",
   "metadata": {},
   "source": [
    "### Loads in Phase 1 (Steel only)"
   ]
  },
  {
   "cell_type": "code",
   "execution_count": null,
   "metadata": {},
   "outputs": [],
   "source": [
    "# We'll deactivate the concrete in Phase 1 only.\n",
    "# The deactivate attribute must be assigned to the first loadcase in the analysis, so we'll create that first\n",
    "beam_sw_loadcase = db.createLoadcase(\"Girder Self Weight\", PHASE1_NAME)\n",
    "# To assign the attribute to the correct loadcase we need to provide additional information\n",
    "# We do this with the assignment object\n",
    "assignment = lusas.assignment().setAllDefaults().setLoadset(beam_sw_loadcase)\n",
    "# Now assign the attribute to the surfaces representing the top and bottom slabs.\n",
    "deactive_attr.assignTo(\"Group\", \"Deck\", assignment)\n",
    "deactive_attr.assignTo(\"Group\", \"Bottom Slab\", assignment)\n",
    "# Set gravity\n",
    "beam_sw_loadcase.addGravity(True)"
   ]
  },
  {
   "cell_type": "code",
   "execution_count": null,
   "metadata": {},
   "outputs": [],
   "source": [
    "# Create a loadcase for the wet concrete loads to be applied to the beams in Phase 1\n",
    "wet_conc_loadcase = db.createLoadcase(\"Wet Concrete\", PHASE1_NAME)"
   ]
  },
  {
   "cell_type": "markdown",
   "metadata": {},
   "source": [
    "### Loads in Phase 2 (Long term effects)"
   ]
  },
  {
   "cell_type": "code",
   "execution_count": null,
   "metadata": {},
   "outputs": [],
   "source": [
    "# Create a loadcase for the surfacing loads to be applied to the deck edges in Phase 2\n",
    "surface_loads_loadcase = db.createLoadcase(\"Surfacing\", PHASE2_NAME)\n",
    "# Set the loadcase in the assignment object\n",
    "assignment = lusas.assignment().setAllDefaults().setLoadset(surface_loads_loadcase)\n",
    "# Create a globally distributed load for surfacing loads\n",
    "surfacing_load_attr = db.createLoadingLocalDistributed(\"Surfacing Loads\").setLocalDistributed(0.0, 0.0, surf_load_intensity, \"surface\")\n",
    "# and surfacing_load_attr to the deck slab\n",
    "surfacing_load_attr.assignTo(\"Group\", \"Deck\", assignment)\n"
   ]
  },
  {
   "cell_type": "code",
   "execution_count": null,
   "metadata": {},
   "outputs": [],
   "source": [
    "# Create a loadcase for the parapet loads to be applied to the deck edges in Phase 2\n",
    "parapet_loads_loadcase = db.createLoadcase(\"Parapet\", PHASE2_NAME)\n",
    "# Set the loadcase in the assignment object\n",
    "assignment = lusas.assignment().setAllDefaults().setLoadset(parapet_loads_loadcase)\n",
    "# Create a globally distributed load for parapet loads\n",
    "parapet_load_attr = db.createLoadingGlobalDistributed(\"Parapet Loads\")\n",
    "parapet_load_attr.setGlobalDistributed(\"Length\", 0.0, 0.0, -10, 0.0, 0.0, 0.0, 0.0, 0.0, False, 0.0)\n",
    "# # and assign to the two edge longitudinal lines\n",
    "# parapet_load_attr.assignTo(longitudinal_lines[0], assignment)\n",
    "# parapet_load_attr.assignTo(longitudinal_lines[-1], assignment)"
   ]
  },
  {
   "cell_type": "markdown",
   "metadata": {},
   "source": [
    "Concrete shrinkage load"
   ]
  },
  {
   "cell_type": "code",
   "execution_count": null,
   "metadata": {},
   "outputs": [],
   "source": [
    "# Create an initial stress/strain attribute and populate only the strains Ex,Ey at the top middle and bottom of the shell\n",
    "# The indices of these components are specified in the list, all other values are zero\n",
    "strain_array = [0]*30\n",
    "for i in [5,6,15,16,25,26]:\n",
    "    strain_array[i] = shrinkage_strain\n",
    "\n",
    "# Create the attribute\n",
    "shrink_attr = db.createLoadingStressStrain(\"Shrinkage strain\").setStressStrain(\"Initial\", strain_array, \"Surface\", \"Thick shell\", 3)\n",
    "\n",
    "# Create a loadcase for the shrinkage loads to be applied to the deck in Phase 2\n",
    "shrink_loadcase = db.createLoadcase(\"Deck Shrinkage\", PHASE2_NAME)\n",
    "# Set the loadcase in the assignment object\n",
    "assignment = lusas.assignment().setAllDefaults().setLoadset(shrink_loadcase)\n",
    "# Use the surface set defined early to assign the load to all deck surfaces\n",
    "shrink_attr.assignTo(\"Group\", \"Deck\", assignment)\n",
    "shrink_attr.assignTo(\"Group\", \"Bottom Slab\", assignment)"
   ]
  },
  {
   "cell_type": "markdown",
   "metadata": {},
   "source": [
    "Phase 2 represents a long term stage so in this analysis we'll consider creep adjusted materials.<br/>Materials must be assigned to the first loadcase in a linear analysis"
   ]
  },
  {
   "cell_type": "code",
   "execution_count": null,
   "metadata": {},
   "outputs": [],
   "source": [
    "assignment = lusas.assignment().setAllDefaults().setLoadset(surface_loads_loadcase)\n",
    "concrete_material_long_term.assignTo(\"Group\", \"Deck\", assignment)\n",
    "concrete_material_long_term.assignTo(\"Group\", \"Bottom Slab\", assignment)"
   ]
  },
  {
   "cell_type": "markdown",
   "metadata": {},
   "source": [
    "## Loads in Phase 3 (Short term)"
   ]
  },
  {
   "cell_type": "code",
   "execution_count": null,
   "metadata": {},
   "outputs": [],
   "source": [
    "# Create a loadcases for temperature\n",
    "temp_warm_loadcase = db.createLoadcase(\"Temperature Warming\", \"Phase 3\")\n",
    "temp_cool_loadcase = db.createLoadcase(\"Temperature Cooling\", \"Phase 3\")\n",
    "# Temperature loading warming \n",
    "temp_warm_attr = db.createLoadingTemperature(\"Warming\").setTemperature(\"element\", temperature_increase, 0.0, 0.0, 0.0, 0.0, 0.0, 0.0, 0.0)\n",
    "# Temperature loading cooling \n",
    "temp_cool_attr = db.createLoadingTemperature(\"Cooling\").setTemperature(\"element\", temperature_decrease, 0.0, 0.0, 0.0, 0.0, 0.0, 0.0, 0.0)\n",
    "# Assign the temperature warming load\n",
    "assignment = lusas.assignment().setAllDefaults().setLoadset(temp_warm_loadcase)\n",
    "temp_warm_attr.assignTo(\"Group\", \"Deck\", assignment)\n",
    "# Assign the temperature cooling load\n",
    "assignment = lusas.assignment().setAllDefaults().setLoadset(temp_cool_loadcase)\n",
    "temp_cool_attr.assignTo(\"Group\", \"Deck\", assignment)"
   ]
  },
  {
   "cell_type": "markdown",
   "metadata": {},
   "source": [
    "***\n",
    "## Set display and solve if required"
   ]
  },
  {
   "cell_type": "markdown",
   "metadata": {},
   "source": [
    "Set the model to display the assigned plate thicknesses and supports in an isometric orientation"
   ]
  },
  {
   "cell_type": "code",
   "execution_count": null,
   "metadata": {},
   "outputs": [],
   "source": [
    "lusas.view().insertGeometryLayer() # Make sure the drawing layers exist before accessing them\n",
    "lusas.view().insertAttributesLayer()\n",
    "\n",
    "lusas.view().geometry().autoColourByAttributes(\"Geometric\", True)\n",
    "lusas.view().attributes().visualiseAll(\"Supports\")\n",
    "lusas.view().setIsometric()"
   ]
  },
  {
   "cell_type": "code",
   "execution_count": null,
   "metadata": {},
   "outputs": [],
   "source": [
    "# Mesh the model\n",
    "db.resetMesh()\n",
    "db.updateMesh()"
   ]
  },
  {
   "cell_type": "code",
   "execution_count": null,
   "metadata": {},
   "outputs": [],
   "source": [
    "# Solve all the analyses\n",
    "if do_solve:\n",
    "    for analysis in db.getAnalyses():\n",
    "        analysis.solve(True)\n",
    "    db.openAllResults(False)"
   ]
  },
  {
   "cell_type": "code",
   "execution_count": null,
   "metadata": {},
   "outputs": [],
   "source": [
    "# Re-enable the UI. Note if the script failed prior to this, this cell must be run manually to re-enable the UI\n",
    "lusas.enableUI(True)"
   ]
  }
 ],
 "metadata": {
  "kernelspec": {
   "display_name": "Python 3",
   "language": "python",
   "name": "python3"
  },
  "language_info": {
   "codemirror_mode": {
    "name": "ipython",
    "version": 3
   },
   "file_extension": ".py",
   "mimetype": "text/x-python",
   "name": "python",
   "nbconvert_exporter": "python",
   "pygments_lexer": "ipython3",
   "version": "3.13.2"
  }
 },
 "nbformat": 4,
 "nbformat_minor": 2
}
