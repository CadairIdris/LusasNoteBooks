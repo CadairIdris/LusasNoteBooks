{
 "cells": [
  {
   "cell_type": "markdown",
   "metadata": {},
   "source": [
    "# Loadcase Generator"
   ]
  },
  {
   "cell_type": "code",
   "execution_count": 55,
   "metadata": {},
   "outputs": [],
   "source": [
    "import pandas as pd\n",
    "import numpy as np\n",
    "import win32com.client as win32\n",
    "lusas = win32.gencache.EnsureDispatch(\"Lusas.Modeller.22.0\")\n",
    "\n"
   ]
  },
  {
   "cell_type": "markdown",
   "metadata": {},
   "source": [
    "Read the excel definitions"
   ]
  },
  {
   "cell_type": "code",
   "execution_count": 56,
   "metadata": {},
   "outputs": [
    {
     "name": "stdout",
     "output_type": "stream",
     "text": [
      "                  Name  Count                    Analysis\n",
      "0          Self Weight    NaN                         NaN\n",
      "1  Self Weight Railing    NaN                         NaN\n",
      "2            Surfacing    NaN                         NaN\n",
      "3           Settlement    4.0                         NaN\n",
      "4            Shrinkage    NaN                         NaN\n",
      "5          Temperature    2.0                         NaN\n",
      "6              Traffic   10.0  Moving Load Characteristic\n",
      "7                 Wind    4.0                         NaN\n",
      "8                 Snow    NaN                         NaN\n"
     ]
    }
   ],
   "source": [
    "df = pd.read_excel(\"11 Loadcases.xlsx\")\n",
    "print(df)"
   ]
  },
  {
   "cell_type": "code",
   "execution_count": 57,
   "metadata": {},
   "outputs": [],
   "source": [
    "base_analysis = ''\n",
    "for analysis in lusas.database().getAnalyses():\n",
    "    if analysis.isBase():\n",
    "        base_analysis = analysis.getName()\n",
    "        break"
   ]
  },
  {
   "cell_type": "markdown",
   "metadata": {},
   "source": []
  },
  {
   "cell_type": "code",
   "execution_count": 58,
   "metadata": {},
   "outputs": [],
   "source": [
    "def safe_create_loadcase(loadcase_name, analysis_name):\n",
    "    if not lusas.database().existsLoadset(loadcase_name):\n",
    "        lusas.database().createLoadcase(loadcase_name, analysis_name)\n",
    "    else:\n",
    "        i = 1\n",
    "        while lusas.database().existsLoadset(f\"{loadcase_name}({i})\"):\n",
    "            i+=1\n",
    "        lusas.database().createLoadcase(f\"{loadcase_name} - {i}\", analysis_name)"
   ]
  },
  {
   "cell_type": "code",
   "execution_count": 59,
   "metadata": {},
   "outputs": [
    {
     "name": "stdout",
     "output_type": "stream",
     "text": [
      "nan\n",
      "nan\n",
      "nan\n",
      "nan\n",
      "nan\n",
      "nan\n",
      "Moving Load Characteristic\n",
      "nan\n",
      "nan\n"
     ]
    }
   ],
   "source": [
    "for i, row in df.iterrows():\n",
    "    loadcase_name = row['Name']\n",
    "    loadcase_count = row['Count']\n",
    "    analysis_name = row['Analysis']\n",
    "    print(analysis_name)\n",
    "    if not isinstance(analysis_name, str):\n",
    "        analysis_name = base_analysis\n",
    "    else:\n",
    "        if not lusas.database().existsAnalysis(analysis_name):\n",
    "            lusas.database().createAnalysisStructural(analysis_name, False)\n",
    "\n",
    "\n",
    "\n",
    "    if np.isnan(loadcase_count) or int(loadcase_count) < 2:\n",
    "        # Single loadcase\n",
    "        safe_create_loadcase(loadcase_name, analysis_name)\n",
    "    else:\n",
    "        # Multiple loadcases\n",
    "        for i in range(1, int(loadcase_count)+1):\n",
    "            safe_create_loadcase(f\"{loadcase_name} {i}\", analysis_name)\n"
   ]
  }
 ],
 "metadata": {
  "kernelspec": {
   "display_name": "Python 3",
   "language": "python",
   "name": "python3"
  },
  "language_info": {
   "codemirror_mode": {
    "name": "ipython",
    "version": 3
   },
   "file_extension": ".py",
   "mimetype": "text/x-python",
   "name": "python",
   "nbconvert_exporter": "python",
   "pygments_lexer": "ipython3",
   "version": "3.12.3"
  }
 },
 "nbformat": 4,
 "nbformat_minor": 2
}
