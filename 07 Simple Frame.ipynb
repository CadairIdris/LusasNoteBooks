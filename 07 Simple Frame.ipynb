{
 "cells": [
  {
   "cell_type": "markdown",
   "metadata": {},
   "source": [
    "<H2>Create a simple frame structure</H2>"
   ]
  },
  {
   "cell_type": "code",
   "execution_count": 46,
   "metadata": {},
   "outputs": [],
   "source": [
    "import numpy as np\n",
    "import win32com.client as win32\n",
    "lusas = win32.gencache.EnsureDispatch(\"Lusas.Modeller.21.0\")\n",
    "db = lusas.database() # Reference to the database for convenience"
   ]
  },
  {
   "cell_type": "markdown",
   "metadata": {},
   "source": [
    "Define column spacings and storey heights"
   ]
  },
  {
   "cell_type": "code",
   "execution_count": 47,
   "metadata": {},
   "outputs": [],
   "source": [
    "column_spacing_x = [5.000, 6.000, 6.000, 5.000]\n",
    "column_spacing_y = [3.000, 4.500, 3.000]\n",
    "storey_heights = [4.500, 3.000, 3.000, 3.000]"
   ]
  },
  {
   "cell_type": "markdown",
   "metadata": {},
   "source": [
    "Start coordinates. You can run this script multiple times in the same model with different offsets to build more complex geometries"
   ]
  },
  {
   "cell_type": "code",
   "execution_count": 48,
   "metadata": {},
   "outputs": [],
   "source": [
    "origin_x = 0.0\n",
    "origin_y = 0.0"
   ]
  },
  {
   "cell_type": "markdown",
   "metadata": {},
   "source": [
    "Calculate the x and y coordinates of the frame grid"
   ]
  },
  {
   "cell_type": "code",
   "execution_count": 49,
   "metadata": {},
   "outputs": [],
   "source": [
    "column_positions_x = np.add.accumulate(column_spacing_x) + origin_x\n",
    "column_positions_x = np.insert(column_positions_x, 0, origin_x)\n",
    "\n",
    "column_positions_y = np.add.accumulate(column_spacing_y) + origin_y\n",
    "column_positions_y = np.insert(column_positions_y, 0, origin_y)"
   ]
  },
  {
   "cell_type": "markdown",
   "metadata": {},
   "source": [
    "Generate the model lines. We'll let Modeller merge the points as we create the lines"
   ]
  },
  {
   "cell_type": "code",
   "execution_count": 50,
   "metadata": {},
   "outputs": [
    {
     "name": "stdout",
     "output_type": "stream",
     "text": [
      "0.0 0.0 0.0 4.5\n",
      "0.0 3.0 0.0 4.5\n",
      "0.0 7.5 0.0 4.5\n",
      "0.0 10.5 0.0 4.5\n",
      "5.0 0.0 0.0 4.5\n",
      "5.0 3.0 0.0 4.5\n",
      "5.0 7.5 0.0 4.5\n",
      "5.0 10.5 0.0 4.5\n",
      "11.0 0.0 0.0 4.5\n",
      "11.0 3.0 0.0 4.5\n",
      "11.0 7.5 0.0 4.5\n",
      "11.0 10.5 0.0 4.5\n",
      "17.0 0.0 0.0 4.5\n",
      "17.0 3.0 0.0 4.5\n",
      "17.0 7.5 0.0 4.5\n",
      "17.0 10.5 0.0 4.5\n",
      "22.0 0.0 0.0 4.5\n",
      "22.0 3.0 0.0 4.5\n",
      "22.0 7.5 0.0 4.5\n",
      "22.0 10.5 0.0 4.5\n",
      "0.0 0.0 4.5 7.5\n",
      "0.0 3.0 4.5 7.5\n",
      "0.0 7.5 4.5 7.5\n",
      "0.0 10.5 4.5 7.5\n",
      "5.0 0.0 4.5 7.5\n",
      "5.0 3.0 4.5 7.5\n",
      "5.0 7.5 4.5 7.5\n",
      "5.0 10.5 4.5 7.5\n",
      "11.0 0.0 4.5 7.5\n",
      "11.0 3.0 4.5 7.5\n",
      "11.0 7.5 4.5 7.5\n",
      "11.0 10.5 4.5 7.5\n",
      "17.0 0.0 4.5 7.5\n",
      "17.0 3.0 4.5 7.5\n",
      "17.0 7.5 4.5 7.5\n",
      "17.0 10.5 4.5 7.5\n",
      "22.0 0.0 4.5 7.5\n",
      "22.0 3.0 4.5 7.5\n",
      "22.0 7.5 4.5 7.5\n",
      "22.0 10.5 4.5 7.5\n",
      "0.0 0.0 7.5 10.5\n",
      "0.0 3.0 7.5 10.5\n",
      "0.0 7.5 7.5 10.5\n",
      "0.0 10.5 7.5 10.5\n",
      "5.0 0.0 7.5 10.5\n",
      "5.0 3.0 7.5 10.5\n",
      "5.0 7.5 7.5 10.5\n",
      "5.0 10.5 7.5 10.5\n",
      "11.0 0.0 7.5 10.5\n",
      "11.0 3.0 7.5 10.5\n",
      "11.0 7.5 7.5 10.5\n",
      "11.0 10.5 7.5 10.5\n",
      "17.0 0.0 7.5 10.5\n",
      "17.0 3.0 7.5 10.5\n",
      "17.0 7.5 7.5 10.5\n",
      "17.0 10.5 7.5 10.5\n",
      "22.0 0.0 7.5 10.5\n",
      "22.0 3.0 7.5 10.5\n",
      "22.0 7.5 7.5 10.5\n",
      "22.0 10.5 7.5 10.5\n",
      "0.0 0.0 10.5 13.5\n",
      "0.0 3.0 10.5 13.5\n",
      "0.0 7.5 10.5 13.5\n",
      "0.0 10.5 10.5 13.5\n",
      "5.0 0.0 10.5 13.5\n",
      "5.0 3.0 10.5 13.5\n",
      "5.0 7.5 10.5 13.5\n",
      "5.0 10.5 10.5 13.5\n",
      "11.0 0.0 10.5 13.5\n",
      "11.0 3.0 10.5 13.5\n",
      "11.0 7.5 10.5 13.5\n",
      "11.0 10.5 10.5 13.5\n",
      "17.0 0.0 10.5 13.5\n",
      "17.0 3.0 10.5 13.5\n",
      "17.0 7.5 10.5 13.5\n",
      "17.0 10.5 10.5 13.5\n",
      "22.0 0.0 10.5 13.5\n",
      "22.0 3.0 10.5 13.5\n",
      "22.0 7.5 10.5 13.5\n",
      "22.0 10.5 10.5 13.5\n"
     ]
    }
   ],
   "source": [
    "# Reference to the geometryData object\n",
    "geomData = lusas.geometryData()\n",
    "\n",
    "z_bot = 0.0 # Vertical coordinate of the bottom of the storey\n",
    "z_top = 0.0 # Vertical coordinate of the top of the storey\n",
    "for height in storey_heights:\n",
    "    z_top = z_bot + height\n",
    "\n",
    "    # Columns\n",
    "    for i, x in enumerate(column_positions_x):\n",
    "        for j, y in enumerate(column_positions_y):\n",
    "            geomData.setAllDefaults()          # Reset the inputs\n",
    "            geomData.addCoords(x, y, z_bot)    # Set the coordinates of the first point\n",
    "            geomData.addCoords(x, y, z_top)    # Set the coordinates of the second point\n",
    "            geomData.setLowerOrderGeometryType(\"coordinates\")\n",
    "            geomData.setCreateMethod(\"straight\")\n",
    "            db.createLine(geomData)            # Create the column line\n",
    "\n",
    "    # Beams in y\n",
    "    for i, x in enumerate(column_positions_x):\n",
    "        for j, y in enumerate(column_positions_y):\n",
    "            if j < len(column_positions_y)-1:\n",
    "                geomData.setAllDefaults()\n",
    "                geomData.addCoords(x, y, z_top)\n",
    "                geomData.addCoords(x, column_positions_y[j+1], z_top)\n",
    "                geomData.setLowerOrderGeometryType(\"coordinates\")\n",
    "                geomData.setCreateMethod(\"straight\")\n",
    "                db.createLine(geomData)\n",
    "\n",
    "    # Beams in x\n",
    "    for i, x in enumerate(column_positions_x):\n",
    "        for j, y in enumerate(column_positions_y):\n",
    "            if i < len(column_positions_x)-1:\n",
    "                geomData.setAllDefaults()\n",
    "                geomData.addCoords(x, y, z_top)\n",
    "                geomData.addCoords(column_positions_x[i+1], y, z_top)\n",
    "                geomData.setLowerOrderGeometryType(\"coordinates\")\n",
    "                geomData.setCreateMethod(\"straight\")\n",
    "                db.createLine(geomData)\n",
    "\n",
    "    z_bot = z_top # next storey"
   ]
  }
 ],
 "metadata": {
  "kernelspec": {
   "display_name": "Python 3",
   "language": "python",
   "name": "python3"
  },
  "language_info": {
   "codemirror_mode": {
    "name": "ipython",
    "version": 3
   },
   "file_extension": ".py",
   "mimetype": "text/x-python",
   "name": "python",
   "nbconvert_exporter": "python",
   "pygments_lexer": "ipython3",
   "version": "3.10.4"
  }
 },
 "nbformat": 4,
 "nbformat_minor": 2
}
