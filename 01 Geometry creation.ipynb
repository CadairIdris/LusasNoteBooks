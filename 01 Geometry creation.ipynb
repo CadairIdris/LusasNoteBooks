{
 "cells": [
  {
   "cell_type": "markdown",
   "metadata": {},
   "source": [
    "Connect to LUSAS Modeller using the win32com library. <br>\n",
    "Substitute the version number (here 21.0) for your current version. <br>\n",
    "You must \"Pip install\" the win32com library to your python environment"
   ]
  },
  {
   "cell_type": "code",
   "execution_count": 2,
   "metadata": {},
   "outputs": [],
   "source": [
    "import win32com.client as win32\n",
    "lusas = win32.gencache.EnsureDispatch(\"Lusas.Modeller.22.0\")\n",
    "if not lusas.existsDatabase():\n",
    "    Exception(\"A model must be open before running this code\")"
   ]
  },
  {
   "cell_type": "markdown",
   "metadata": {},
   "source": [
    "# 1. Creating Points"
   ]
  },
  {
   "cell_type": "code",
   "execution_count": 3,
   "metadata": {},
   "outputs": [
    {
     "name": "stdout",
     "output_type": "stream",
     "text": [
      "Point:1 at coordinates (0.0,0.0,0.0) \n",
      "Point:3 at coordinates (1.0,0.0,0.0) \n"
     ]
    }
   ],
   "source": [
    "# The options and settings for creating all geometry in LUSAS is defined in the IFGeometryData object.\n",
    "# To start any geometry creation, get the geometryData object and set all the defaults\n",
    "geometry_data = lusas.geometryData().setAllDefaults()\n",
    "# Here we are creating points by specifying the coordinates, we set the option in setLowerOrderGeometryType\n",
    "geometry_data.setLowerOrderGeometryType(\"coordinates\")\n",
    "# Now we add the coordinates, first the origin\n",
    "geometry_data.addCoords(0.0, 0.0, 0.0)\n",
    "# And a second point, at X=1\n",
    "geometry_data.addCoords(1.0, 0.0, 0.0)\n",
    "# Now we instruct the database to the create the line. It will return an IFObject set containing the newly created points\n",
    "object_set:'IFObjectSet' = lusas.database().createPoint(geometry_data)\n",
    "# Loop through the returned objects and print their ids and coordinates\n",
    "for point in object_set.getObjects(\"Point\"):\n",
    "    print(f\"Point:{point.getID()} at coordinates ({point.getX()},{point.getY()},{point.getZ()}) \")"
   ]
  },
  {
   "cell_type": "markdown",
   "metadata": {},
   "source": [
    "# 2. Creating Lines"
   ]
  },
  {
   "cell_type": "markdown",
   "metadata": {},
   "source": [
    "2.1 Straight line By Coordinates"
   ]
  },
  {
   "cell_type": "code",
   "execution_count": 14,
   "metadata": {},
   "outputs": [
    {
     "name": "stdout",
     "output_type": "stream",
     "text": [
      "Line:3 between points (0.0,2.0,0.0) to (5.0,2.0,0.0) \n"
     ]
    }
   ],
   "source": [
    "# The options and settings for creating all geometry in LUSAS is defined in the IFGeometryData object.\n",
    "# To start any geometry creation, get the geometryData object and set all the defaults\n",
    "geometry_data = lusas.geometryData().setAllDefaults()\n",
    "# Here we are creating a line by specifying the coordinates, we set the option in setLowerOrderGeometryType\n",
    "geometry_data.setLowerOrderGeometryType(\"coordinates\")\n",
    "# We want a straight line\n",
    "geometry_data.setCreateMethod(\"straight\")\n",
    "# Now we add the start and end coordinates\n",
    "geometry_data.addCoords(0.0, 2.0, 0.0)\n",
    "geometry_data.addCoords(5.0, 2.0, 0.0)\n",
    "# Now we instruct the database to the create the line. It will return an IFObject set containing the newly created line\n",
    "object_set:'IFObjectSet' = lusas.database().createLine(geometry_data)\n",
    "# Loop through the returned objects and print their ids and coordinates\n",
    "for line in object_set.getObjects(\"Line\"):\n",
    "    p1 = line.getStartPoint()\n",
    "    p2 = line.getEndPoint()\n",
    "    print(f\"Line:{line.getID()} between points ({p1.getX()},{p1.getY()},{p1.getZ()}) to ({p2.getX()},{p2.getY()},{p2.getZ()}) \")"
   ]
  },
  {
   "cell_type": "markdown",
   "metadata": {},
   "source": [
    "Arc line by cooordinates"
   ]
  },
  {
   "cell_type": "code",
   "execution_count": 17,
   "metadata": {},
   "outputs": [
    {
     "name": "stdout",
     "output_type": "stream",
     "text": [
      "Line:4, length:5.517342468129291 between points (0.0,1.0,0.0) to (5.0,1.0,0.0) \n"
     ]
    }
   ],
   "source": [
    "# The options and settings for creating all geometry in LUSAS is defined in the IFGeometryData object.\n",
    "# To start any geometry creation, get the geometryData object and set all the defaults\n",
    "geometry_data = lusas.geometryData().setAllDefaults()\n",
    "# Here we are creating a line by specifying the coordinates, we set the option in setLowerOrderGeometryType\n",
    "geometry_data.setLowerOrderGeometryType(\"coordinates\")\n",
    "# We want an arc\n",
    "geometry_data.setCreateMethod(\"arc\")\n",
    "# Specify how we are supplying the coordinates, i.e Start->Middle->End\n",
    "geometry_data.setStartMiddleEnd()\n",
    "# Now we add the start middle end coordinates\n",
    "geometry_data.addCoords(0.0, 1.0, 0.0)\n",
    "geometry_data.addCoords(2.5, 2.0, 0.0)\n",
    "geometry_data.addCoords(5.0, 1.0, 0.0)\n",
    "\n",
    "# Now we instruct the database to the create the line. It will return an IFObject set containing the newly created line\n",
    "object_set:'IFObjectSet' = lusas.database().createLine(geometry_data)\n",
    "# Loop through the returned objects and print their ids and coordinates\n",
    "for line in object_set.getObjects(\"Line\"):\n",
    "    p1 = line.getStartPoint()\n",
    "    p2 = line.getEndPoint()\n",
    "    print(f\"Line:{line.getID()}, length:{line.getLineLength()} between points ({p1.getX()},{p1.getY()},{p1.getZ()}) to ({p2.getX()},{p2.getY()},{p2.getZ()}) \")"
   ]
  },
  {
   "cell_type": "code",
   "execution_count": 12,
   "metadata": {},
   "outputs": [],
   "source": []
  },
  {
   "cell_type": "code",
   "execution_count": 26,
   "metadata": {},
   "outputs": [],
   "source": []
  },
  {
   "cell_type": "code",
   "execution_count": 8,
   "metadata": {},
   "outputs": [],
   "source": []
  }
 ],
 "metadata": {
  "kernelspec": {
   "display_name": "Python 3",
   "language": "python",
   "name": "python3"
  },
  "language_info": {
   "codemirror_mode": {
    "name": "ipython",
    "version": 3
   },
   "file_extension": ".py",
   "mimetype": "text/x-python",
   "name": "python",
   "nbconvert_exporter": "python",
   "pygments_lexer": "ipython3",
   "version": "3.12.3"
  }
 },
 "nbformat": 4,
 "nbformat_minor": 2
}
