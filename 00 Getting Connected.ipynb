{
 "cells": [
  {
   "cell_type": "markdown",
   "metadata": {},
   "source": [
    "Connect to LUSAS Modeller using the win32com library. <br>\n",
    "Substitute the version number (here 21.0) for your current version. <br>\n",
    "You must \"Pip install\" the win32com library to your python environment"
   ]
  },
  {
   "cell_type": "code",
   "execution_count": 1,
   "metadata": {},
   "outputs": [],
   "source": [
    "import win32com.client as win32\n",
    "lusas = win32.gencache.EnsureDispatch(\"Lusas.Modeller.22.0\")"
   ]
  },
  {
   "cell_type": "markdown",
   "metadata": {},
   "source": [
    "Test the connection"
   ]
  },
  {
   "cell_type": "code",
   "execution_count": null,
   "metadata": {},
   "outputs": [],
   "source": [
    "lusas.getTextWindow().writeLine(\"Connected from Jupyter Notebooks\")"
   ]
  },
  {
   "cell_type": "markdown",
   "metadata": {},
   "source": []
  },
  {
   "cell_type": "code",
   "execution_count": null,
   "metadata": {},
   "outputs": [],
   "source": [
    "try: \n",
    "    loadcase = lusas.database().getLoadset(1)\n",
    "    print(loadcase.getDoSolve())\n",
    "except:\n",
    "    print(\"Failed calling loadcase.getDoSolve()\")"
   ]
  },
  {
   "cell_type": "code",
   "execution_count": null,
   "metadata": {},
   "outputs": [],
   "source": [
    "try: \n",
    "    loadcase = win32.CastTo( lusas.database().getLoadset(1), \"IFLoadcase\")\n",
    "    print(loadcase.getDoSolve())\n",
    "except:\n",
    "    print(\"Failed calling loadcase.getDoSolve()\")"
   ]
  },
  {
   "cell_type": "code",
   "execution_count": 11,
   "metadata": {},
   "outputs": [
    {
     "name": "stdout",
     "output_type": "stream",
     "text": [
      "Failed calling loadcase.getDoSolve()\n"
     ]
    }
   ],
   "source": [
    "lusas = win32.Dispatch(\"Lusas.Modeller.22.0\")\n",
    "\n",
    "try: \n",
    "    loadcase = lusas.database().getLoadset(1)\n",
    "    print(loadcase.getDoSolve())\n",
    "except:\n",
    "    print(\"Failed calling loadcase.getDoSolve()\")"
   ]
  }
 ],
 "metadata": {
  "kernelspec": {
   "display_name": "Python 3",
   "language": "python",
   "name": "python3"
  },
  "language_info": {
   "codemirror_mode": {
    "name": "ipython",
    "version": 3
   },
   "file_extension": ".py",
   "mimetype": "text/x-python",
   "name": "python",
   "nbconvert_exporter": "python",
   "pygments_lexer": "ipython3",
   "version": "3.12.3"
  }
 },
 "nbformat": 4,
 "nbformat_minor": 2
}
