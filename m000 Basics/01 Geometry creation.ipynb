{
 "cells": [
  {
   "cell_type": "markdown",
   "metadata": {},
   "source": [
    "Connect to LUSAS Modeller using the pywin32 module. <br>\n",
    "Substitute the version number (here 21.0) for your current version. <br>\n",
    "You must \"Pip install\" pywin32 to your python environment"
   ]
  },
  {
   "cell_type": "code",
   "execution_count": 1,
   "metadata": {},
   "outputs": [],
   "source": [
    "import math\n",
    "import win32com.client as win32\n",
    "lusas = win32.gencache.EnsureDispatch(\"Lusas.Modeller.22.0\")\n",
    "if not lusas.existsDatabase():\n",
    "    Exception(\"A model must be open before running this code\")"
   ]
  },
  {
   "cell_type": "markdown",
   "metadata": {},
   "source": [
    "# 1. Creating Points"
   ]
  },
  {
   "cell_type": "code",
   "execution_count": 3,
   "metadata": {},
   "outputs": [
    {
     "name": "stdout",
     "output_type": "stream",
     "text": [
      "Point:1 at coordinates (0.0,0.0,0.0) \n",
      "Point:3 at coordinates (1.0,0.0,0.0) \n"
     ]
    }
   ],
   "source": [
    "# The options and settings for creating all geometry in LUSAS is defined in the IFGeometryData object.\n",
    "# To start any geometry creation, get the geometryData object and set all the defaults\n",
    "geometry_data = lusas.geometryData().setAllDefaults()\n",
    "# Here we are creating points by specifying the coordinates, we set the option in setLowerOrderGeometryType\n",
    "geometry_data.setLowerOrderGeometryType(\"coordinates\")\n",
    "# Now we add the coordinates, first the origin\n",
    "geometry_data.addCoords(0.0, 0.0, 0.0)\n",
    "# And a second point, at X=1\n",
    "geometry_data.addCoords(1.0, 0.0, 0.0)\n",
    "# Now we instruct the database to the create the line. It will return an IFObject set containing the newly created points\n",
    "object_set:'IFObjectSet' = lusas.database().createPoint(geometry_data)\n",
    "# Loop through the returned objects and print their ids and coordinates\n",
    "for point in object_set.getObjects(\"Point\"):\n",
    "    print(f\"Point:{point.getID()} at coordinates ({point.getX()},{point.getY()},{point.getZ()}) \")"
   ]
  },
  {
   "cell_type": "markdown",
   "metadata": {},
   "source": [
    "It is often useful to create a small helper function to wrap these settings as follows:"
   ]
  },
  {
   "cell_type": "code",
   "execution_count": 16,
   "metadata": {},
   "outputs": [],
   "source": [
    "def create_point(x:float, y:float, z:float) -> 'IFPoint':\n",
    "    geometry_data = lusas.geometryData().setAllDefaults()\n",
    "    geometry_data.setLowerOrderGeometryType(\"coordinates\")\n",
    "    geometry_data.addCoords(x, y, z)\n",
    "    # Return the point object from the object set containing the newly created objects\n",
    "    return lusas.database().createPoint(geometry_data).getObjects(\"Points\")[0]"
   ]
  },
  {
   "cell_type": "markdown",
   "metadata": {},
   "source": [
    "# 2. Creating Lines"
   ]
  },
  {
   "cell_type": "markdown",
   "metadata": {},
   "source": [
    "2.1 Straight line By Coordinates"
   ]
  },
  {
   "cell_type": "code",
   "execution_count": 14,
   "metadata": {},
   "outputs": [
    {
     "name": "stdout",
     "output_type": "stream",
     "text": [
      "Line:3 between points (0.0,2.0,0.0) to (5.0,2.0,0.0) \n"
     ]
    }
   ],
   "source": [
    "# The options and settings for creating all geometry in LUSAS is defined in the IFGeometryData object.\n",
    "# To start any geometry creation, get the geometryData object and set all the defaults\n",
    "geometry_data = lusas.geometryData().setAllDefaults()\n",
    "# Here we are creating a line by specifying the coordinates, we set the option in setLowerOrderGeometryType\n",
    "geometry_data.setLowerOrderGeometryType(\"coordinates\")\n",
    "# We want a straight line\n",
    "geometry_data.setCreateMethod(\"straight\")\n",
    "# Now we add the start and end coordinates\n",
    "geometry_data.addCoords(0.0, 2.0, 0.0)\n",
    "geometry_data.addCoords(5.0, 2.0, 0.0)\n",
    "# Now we instruct the database to the create the line. It will return an IFObject set containing the newly created line\n",
    "object_set:'IFObjectSet' = lusas.database().createLine(geometry_data)\n",
    "# Loop through the returned objects and print their ids and coordinates\n",
    "for line in object_set.getObjects(\"Line\"):\n",
    "    p1 = line.getStartPoint()\n",
    "    p2 = line.getEndPoint()\n",
    "    print(f\"Line:{line.getID()} between points ({p1.getX()},{p1.getY()},{p1.getZ()}) to ({p2.getX()},{p2.getY()},{p2.getZ()}) \")"
   ]
  },
  {
   "cell_type": "markdown",
   "metadata": {},
   "source": [
    "Arc line by cooordinates"
   ]
  },
  {
   "cell_type": "code",
   "execution_count": 17,
   "metadata": {},
   "outputs": [
    {
     "name": "stdout",
     "output_type": "stream",
     "text": [
      "Line:4, length:5.517342468129291 between points (0.0,1.0,0.0) to (5.0,1.0,0.0) \n"
     ]
    }
   ],
   "source": [
    "# The options and settings for creating all geometry in LUSAS is defined in the IFGeometryData object.\n",
    "# To start any geometry creation, get the geometryData object and set all the defaults\n",
    "geometry_data = lusas.geometryData().setAllDefaults()\n",
    "# Here we are creating a line by specifying the coordinates, we set the option in setLowerOrderGeometryType\n",
    "geometry_data.setLowerOrderGeometryType(\"coordinates\")\n",
    "# We want an arc\n",
    "geometry_data.setCreateMethod(\"arc\")\n",
    "# Specify how we are supplying the coordinates, i.e Start->Middle->End\n",
    "geometry_data.setStartMiddleEnd()\n",
    "# Now we add the start middle end coordinates\n",
    "geometry_data.addCoords(0.0, 1.0, 0.0)\n",
    "geometry_data.addCoords(2.5, 2.0, 0.0)\n",
    "geometry_data.addCoords(5.0, 1.0, 0.0)\n",
    "\n",
    "# Now we instruct the database to the create the line. It will return an IFObject set containing the newly created line\n",
    "object_set:'IFObjectSet' = lusas.database().createLine(geometry_data)\n",
    "# Loop through the returned objects and print their ids and coordinates\n",
    "for line in object_set.getObjects(\"Line\"):\n",
    "    p1 = line.getStartPoint()\n",
    "    p2 = line.getEndPoint()\n",
    "    print(f\"Line:{line.getID()}, length:{line.getLineLength()} between points ({p1.getX()},{p1.getY()},{p1.getZ()}) to ({p2.getX()},{p2.getY()},{p2.getZ()}) \")"
   ]
  },
  {
   "cell_type": "markdown",
   "metadata": {},
   "source": [
    "Circle"
   ]
  },
  {
   "cell_type": "code",
   "execution_count": 2,
   "metadata": {},
   "outputs": [],
   "source": [
    "radius = 15\n",
    "z = 3.5\n",
    "# The options and settings for creating all geometry in LUSAS is defined in the IFGeometryData object.\n",
    "# To start any geometry creation, get the geometryData object and set all the defaults\n",
    "geometry_data = lusas.geometryData().setAllDefaults()\n",
    "# Specify the line by coordinate input\n",
    "geometry_data.setLowerOrderGeometryType(\"coordinates\")\n",
    "# Specify defining a circle\n",
    "geometry_data.makeCircle()\n",
    "# Specify the meaning of the following coordinates \n",
    "geometry_data.setStartEndCentre()\n",
    "# Start point at X=radius\n",
    "geometry_data.addCoords(radius, 0.0, z)\n",
    "# Specify the plane (X/Y)\n",
    "geometry_data.addCoords(0.0, 1.0, z)\n",
    "# Centre of the circle at the origin\n",
    "geometry_data.addCoords(0.0, 0.0, z)\n",
    "# Create the line in the database with the settings specified.\n",
    "object_set:'IFObjectSet' = lusas.database().createLine(geometry_data)\n"
   ]
  },
  {
   "cell_type": "markdown",
   "metadata": {},
   "source": [
    "Create a Line from existing points - Create a helper function that can be re-used later"
   ]
  },
  {
   "cell_type": "code",
   "execution_count": 21,
   "metadata": {},
   "outputs": [],
   "source": [
    "def create_line_from_points(p1:'IFPoint', p2:'IFPoint') -> 'IFLine':\n",
    "        # geometryData object contains all the settings to perform a geometry creation\n",
    "        geom_data = lusas.geometryData().setAllDefaults()         \n",
    "        # set the options for creating straight lines from points\n",
    "        geom_data.setCreateMethod(\"straight\")        \n",
    "        geom_data.setLowerOrderGeometryType(\"points\")\n",
    "\n",
    "        # Create an object set to contain the points and use this set to create the line\n",
    "        obs = lusas.newObjectSet()                 \n",
    "        obs.add(p1)\n",
    "        obs.add(p2)\n",
    "\n",
    "        # Create the line, get the line objects array from the returned object set and return the 1 and only line\n",
    "        return obs.createLine(geom_data).getObjects(\"Line\")[0]"
   ]
  },
  {
   "cell_type": "markdown",
   "metadata": {},
   "source": [
    "Create a circle of points and connect them with straight lines"
   ]
  },
  {
   "cell_type": "code",
   "execution_count": 35,
   "metadata": {},
   "outputs": [],
   "source": [
    "radius = 15\n",
    "intersections = 10\n",
    "# Store the list of points\n",
    "points = []\n",
    "\n",
    "for i in range(0, intersections):\n",
    "    theta = i * math.radians(360/intersections)\n",
    "    x = radius * math.cos(theta)\n",
    "    y = radius * math.sin(theta)\n",
    "    point = create_point(x, y, z)\n",
    "    points.append(point)\n",
    "\n",
    "# Create lines between each of the created points\n",
    "for i in range(0, len(points)-1):\n",
    "    create_line_from_points(points[i], points[i+1])\n",
    "create_line_from_points(points[-1], points[0])"
   ]
  },
  {
   "cell_type": "code",
   "execution_count": 40,
   "metadata": {},
   "outputs": [],
   "source": [
    "radius = 15\n",
    "intersections = 10\n",
    "floor_height = 3.5\n",
    "no_floors    = 3\n",
    "z = 3.5 * 3\n",
    "\n",
    "start_angle = 0.0\n",
    "\n",
    "points = []\n",
    "for i in range(0, intersections):\n",
    "    theta = i * math.radians(360/intersections)\n",
    "    x = radius * math.cos(theta + start_angle)\n",
    "    y = radius * math.sin(theta + start_angle)\n",
    "    point = create_point(x, y, 0.0)\n",
    "    points.append(point)\n",
    "\n",
    "for i in range(0, len(points)-1):\n",
    "    create_line_from_points(points[i], points[i+1])\n",
    "create_line_from_points(points[-1], points[0])\n",
    "\n",
    "start_angle = math.radians(360/intersections)/2\n",
    "points2 = []\n",
    "for i in range(0, intersections):\n",
    "    theta = i * math.radians(360/intersections)\n",
    "    x = radius * math.cos(theta + start_angle)\n",
    "    y = radius * math.sin(theta + start_angle)\n",
    "    point = create_point(x, y, floor_height*no_floors)\n",
    "    points2.append(point)\n",
    "\n",
    "for i in range(0, len(points2)-1):\n",
    "    create_line_from_points(points2[i], points2[i+1])\n",
    "create_line_from_points(points2[-1], points2[0])\n",
    "\n",
    "\n",
    "for i in range(0, len(points)):\n",
    "    create_line_from_points(points[i], points2[i])\n",
    "\n",
    "for i in range(0, len(points2)-1):\n",
    "    create_line_from_points(points2[i], points[i+1])\n",
    "\n"
   ]
  }
 ],
 "metadata": {
  "kernelspec": {
   "display_name": "Python 3",
   "language": "python",
   "name": "python3"
  },
  "language_info": {
   "codemirror_mode": {
    "name": "ipython",
    "version": 3
   },
   "file_extension": ".py",
   "mimetype": "text/x-python",
   "name": "python",
   "nbconvert_exporter": "python",
   "pygments_lexer": "ipython3",
   "version": "3.12.3"
  }
 },
 "nbformat": 4,
 "nbformat_minor": 2
}
