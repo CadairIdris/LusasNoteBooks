{
 "cells": [
  {
   "cell_type": "markdown",
   "metadata": {},
   "source": [
    "# Expression parsing and return values"
   ]
  },
  {
   "cell_type": "code",
   "execution_count": 1,
   "metadata": {},
   "outputs": [],
   "source": [
    "import win32com.client as win32\n",
    "lusas = win32.gencache.EnsureDispatch(\"Lusas.Modeller.22.0\")"
   ]
  },
  {
   "cell_type": "markdown",
   "metadata": {},
   "source": [
    "LUSAS Modeller provides an expression parser and string conversion function \"convertToString\"</br>"
   ]
  },
  {
   "cell_type": "code",
   "execution_count": 3,
   "metadata": {},
   "outputs": [
    {
     "name": "stdout",
     "output_type": "stream",
     "text": [
      "Failure, (0, 30.0, -2147352572, -2147352572)\n"
     ]
    }
   ],
   "source": [
    "# Input string to evaluate\n",
    "input = \"5.0 + 25\"\n",
    "# Output variable\n",
    "output = 0\n",
    "# Call the function and collect the return value\n",
    "retVal = lusas.convertFromString(input, output, True)\n",
    "\n",
    "if (retVal == 0):\n",
    "    print(\"Success\")\n",
    "    print(f\"Result of {input} = {output}\")\n",
    "else:\n",
    "    print(f\"Failure, {retVal}\")"
   ]
  },
  {
   "cell_type": "markdown",
   "metadata": {},
   "source": [
    "It can be seen that the output variable is still zero but the return value is a tuple of values. This is how python handles \"by reference\" parameters"
   ]
  },
  {
   "cell_type": "code",
   "execution_count": null,
   "metadata": {},
   "outputs": [
    {
     "name": "stdout",
     "output_type": "stream",
     "text": [
      "Success\n",
      "Result of 5.0 + 25 = 30.0\n"
     ]
    }
   ],
   "source": [
    "# Input string to evaluate\n",
    "input = \"5.0 + 25\"\n",
    "# Output variable\n",
    "output = 0\n",
    "# Call the function and collect the return value\n",
    "retVal = lusas.convertFromString(input, output, True)\n",
    "\n",
    "if (retVal[0] == 0):\n",
    "    print(\"Success\")\n",
    "    print(f\"Result of {input} = {retVal[1]}\")   \n",
    "else:\n",
    "    print(f\"Failure, {retVal[0]}\")"
   ]
  }
 ],
 "metadata": {
  "kernelspec": {
   "display_name": "Python 3",
   "language": "python",
   "name": "python3"
  },
  "language_info": {
   "codemirror_mode": {
    "name": "ipython",
    "version": 3
   },
   "file_extension": ".py",
   "mimetype": "text/x-python",
   "name": "python",
   "nbconvert_exporter": "python",
   "pygments_lexer": "ipython3",
   "version": "3.12.3"
  }
 },
 "nbformat": 4,
 "nbformat_minor": 2
}
