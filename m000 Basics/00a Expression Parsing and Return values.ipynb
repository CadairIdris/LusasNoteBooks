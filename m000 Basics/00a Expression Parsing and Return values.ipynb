{
 "cells": [
  {
   "cell_type": "markdown",
   "metadata": {},
   "source": [
    "# #00a Expression parsing and return values\n",
    "<i>Guide on how to setup the connection with LUSAS through Component Object Model (COM)</i>\n",
    "***"
   ]
  },
  {
   "cell_type": "markdown",
   "metadata": {},
   "source": [
    "Connect on LUSAS and check if a model is open"
   ]
  },
  {
   "cell_type": "code",
   "execution_count": null,
   "metadata": {},
   "outputs": [],
   "source": [
    "import sys; sys.path.append('../') # Reference modules in parent directory\n",
    "from LPI_22_0 import *\n",
    "lusas = get_lusas_modeller()\n",
    "\n",
    "if not lusas.existsDatabase():\n",
    "    raise Exception(\"A model must be open before running this code\")"
   ]
  },
  {
   "cell_type": "markdown",
   "metadata": {},
   "source": [
    "LUSAS Modeller provides an expression parser and string conversion function \"convertToString\"</br>"
   ]
  },
  {
   "cell_type": "code",
   "execution_count": null,
   "metadata": {},
   "outputs": [],
   "source": [
    "# Input string to evaluate\n",
    "input = \"5.0 + 25\"\n",
    "# Output variable\n",
    "output = 0\n",
    "# Call the function and collect the return value\n",
    "retVal = lusas.convertFromString(input, output, True)\n",
    "\n",
    "if (retVal == 0):\n",
    "    print(\"Success\")\n",
    "    print(f\"Result of {input} = {output}\")\n",
    "else:\n",
    "    print(f\"Failure, {retVal}\")"
   ]
  },
  {
   "cell_type": "markdown",
   "metadata": {},
   "source": [
    "<div class=\"alert alert-block alert-danger\">\n",
    "<b>Note:</b> The output variable is still zero!</div>"
   ]
  },
  {
   "cell_type": "markdown",
   "metadata": {},
   "source": [
    "It can be seen that the output variable is still zero but the return value is a tuple of values. This is how python handles \"by reference\" parameters"
   ]
  },
  {
   "cell_type": "code",
   "execution_count": null,
   "metadata": {},
   "outputs": [],
   "source": [
    "# Input string to evaluate\n",
    "input = \"5.0 + 25\"\n",
    "# Output variable\n",
    "output = 0\n",
    "# Call the function and collect the return value\n",
    "retVal = lusas.convertFromString(input, output, True)\n",
    "\n",
    "if (retVal[0] == 0):\n",
    "    print(\"Success\")\n",
    "    print(f\"Result of {input} = {retVal[1]}\")   \n",
    "else:\n",
    "    print(f\"Failure, {retVal[0]}\")"
   ]
  },
  {
   "cell_type": "markdown",
   "metadata": {},
   "source": [
    "Alternatively, the returned tuple of values can be assigned directly to multiple variables"
   ]
  },
  {
   "cell_type": "code",
   "execution_count": null,
   "metadata": {},
   "outputs": [],
   "source": [
    "# Input string to evaluate\n",
    "input = \"5.0 + 25\"\n",
    "# Call the function and collect the return value\n",
    "retVal, output, error_msg = lusas.convertFromString(input, True)\n",
    "\n",
    "if (retVal == 0):\n",
    "    print(\"Success\")\n",
    "    print(f\"Result of {input} = {output}\")\n",
    "else:\n",
    "    print(f\"Failure, {retVal}, {error_msg}\")"
   ]
  }
 ],
 "metadata": {
  "kernelspec": {
   "display_name": "Python 3",
   "language": "python",
   "name": "python3"
  },
  "language_info": {
   "codemirror_mode": {
    "name": "ipython",
    "version": 3
   },
   "file_extension": ".py",
   "mimetype": "text/x-python",
   "name": "python",
   "nbconvert_exporter": "python",
   "pygments_lexer": "ipython3",
   "version": "3.13.2"
  }
 },
 "nbformat": 4,
 "nbformat_minor": 2
}
