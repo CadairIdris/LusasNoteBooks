{
 "cells": [
  {
   "cell_type": "markdown",
   "metadata": {},
   "source": [
    "# #30 Simple frame structure\n",
    "<i>Creates a simple frame structure based on a 2d grid and storey height inputs</i>\n",
    "***"
   ]
  },
  {
   "cell_type": "code",
   "execution_count": null,
   "metadata": {},
   "outputs": [],
   "source": [
    "''' Inputs '''\n",
    "# Define column spacings and storey heights\n",
    "column_spacing_x = [5.000, 6.000, 6.000, 5.000]\n",
    "column_spacing_y = [3.000, 4.500, 3.000]\n",
    "storey_heights = [4.500, 3.000, 3.000, 3.000]\n",
    "\n",
    "# Start coordinates. You can run this script multiple times in the same model with different offsets to build more complex geometries\n",
    "origin_x = 0.0\n",
    "origin_y = 0.0"
   ]
  },
  {
   "cell_type": "markdown",
   "metadata": {},
   "source": [
    "Connect to LUSAS Modeller"
   ]
  },
  {
   "cell_type": "code",
   "execution_count": null,
   "metadata": {},
   "outputs": [],
   "source": [
    "import numpy as np\n",
    "import sys; sys.path.append('../') # Reference modules in parent directory\n",
    "from LPI_22_0 import *\n",
    "lusas = get_lusas_modeller()\n",
    "if lusas.existsDatabase():\n",
    "    raise Exception(\"This script will create a new model. Please save and close the current model and try again\")\n",
    "\n",
    "# Create a new model\n",
    "lusas.newProject(\"Structural\", \"Simple_I_Girder_Shell_Model.mdl\")\n",
    "# Get a reference to the model database\n",
    "db = lusas.getDatabase()\n",
    "# Set the analysis category & vertical axis\n",
    "db.setAnalysisCategory(\"3D\")\n",
    "db.setVerticalDir(\"Z\")\n",
    "# Set the unit system\n",
    "db.setModelUnits(\"kN,m,kg,s,C\")\n"
   ]
  },
  {
   "cell_type": "markdown",
   "metadata": {},
   "source": [
    "Calculate the x and y coordinates of the frame grid"
   ]
  },
  {
   "cell_type": "code",
   "execution_count": 5,
   "metadata": {},
   "outputs": [],
   "source": [
    "column_positions_x = np.add.accumulate(column_spacing_x) + origin_x\n",
    "column_positions_x = np.insert(column_positions_x, 0, origin_x)\n",
    "\n",
    "column_positions_y = np.add.accumulate(column_spacing_y) + origin_y\n",
    "column_positions_y = np.insert(column_positions_y, 0, origin_y)"
   ]
  },
  {
   "cell_type": "markdown",
   "metadata": {},
   "source": [
    "Generate the model lines. We'll let Modeller merge the points as we create the lines"
   ]
  },
  {
   "cell_type": "code",
   "execution_count": 6,
   "metadata": {},
   "outputs": [],
   "source": [
    "# Reference to the geometryData object\n",
    "geomData = lusas.geometryData()\n",
    "\n",
    "z_bot = 0.0 # Vertical coordinate of the bottom of the storey\n",
    "z_top = 0.0 # Vertical coordinate of the top of the storey\n",
    "for height in storey_heights:\n",
    "    z_top = z_bot + height\n",
    "\n",
    "    # Columns\n",
    "    for i, x in enumerate(column_positions_x):\n",
    "        for j, y in enumerate(column_positions_y):\n",
    "            geomData.setAllDefaults()          # Reset the inputs\n",
    "            geomData.addCoords(x, y, z_bot)    # Set the coordinates of the first point\n",
    "            geomData.addCoords(x, y, z_top)    # Set the coordinates of the second point\n",
    "            geomData.setLowerOrderGeometryType(\"coordinates\")\n",
    "            geomData.setCreateMethod(\"straight\")\n",
    "            db.createLine(geomData)            # Create the column line\n",
    "\n",
    "    # Beams in y\n",
    "    for i, x in enumerate(column_positions_x):\n",
    "        for j, y in enumerate(column_positions_y):\n",
    "            if j < len(column_positions_y)-1:\n",
    "                geomData.setAllDefaults()\n",
    "                geomData.addCoords(x, y, z_top)\n",
    "                geomData.addCoords(x, column_positions_y[j+1], z_top)\n",
    "                geomData.setLowerOrderGeometryType(\"coordinates\")\n",
    "                geomData.setCreateMethod(\"straight\")\n",
    "                db.createLine(geomData)\n",
    "\n",
    "    # Beams in x\n",
    "    for i, x in enumerate(column_positions_x):\n",
    "        for j, y in enumerate(column_positions_y):\n",
    "            if i < len(column_positions_x)-1:\n",
    "                geomData.setAllDefaults()\n",
    "                geomData.addCoords(x, y, z_top)\n",
    "                geomData.addCoords(column_positions_x[i+1], y, z_top)\n",
    "                geomData.setLowerOrderGeometryType(\"coordinates\")\n",
    "                geomData.setCreateMethod(\"straight\")\n",
    "                db.createLine(geomData)\n",
    "\n",
    "    z_bot = z_top # next storey"
   ]
  }
 ],
 "metadata": {
  "kernelspec": {
   "display_name": "Python 3",
   "language": "python",
   "name": "python3"
  },
  "language_info": {
   "codemirror_mode": {
    "name": "ipython",
    "version": 3
   },
   "file_extension": ".py",
   "mimetype": "text/x-python",
   "name": "python",
   "nbconvert_exporter": "python",
   "pygments_lexer": "ipython3",
   "version": "3.12.3"
  }
 },
 "nbformat": 4,
 "nbformat_minor": 2
}
