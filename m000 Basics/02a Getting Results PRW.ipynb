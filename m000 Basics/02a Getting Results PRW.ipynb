{
 "cells": [
  {
   "cell_type": "markdown",
   "metadata": {},
   "source": [
    "<H2>Getting results using the Print Results Wizard</H2>"
   ]
  },
  {
   "cell_type": "code",
   "execution_count": null,
   "metadata": {},
   "outputs": [],
   "source": [
    "import sys; sys.path.append('../') # Reference modules in parent directory\n",
    "from LPI_22_0 import *\n",
    "lusas = get_lusas_modeller()\n",
    "if not lusas.existsDatabase():\n",
    "    raise Exception(\"A model must be open before running this code\")\n",
    "\n",
    "database = lusas.database() # get a reference to the current moidel database for convenience"
   ]
  },
  {
   "cell_type": "markdown",
   "metadata": {},
   "source": [
    "Create a print results wizard for thick shell element results"
   ]
  },
  {
   "cell_type": "code",
   "execution_count": 10,
   "metadata": {},
   "outputs": [],
   "source": [
    "prw_name = \"Shell Results With Global Transform\"\n",
    "export_dir = \"C:\\Temp\\\\\""
   ]
  },
  {
   "cell_type": "code",
   "execution_count": 11,
   "metadata": {},
   "outputs": [],
   "source": [
    "# Shell Results\n",
    "attr = database.createPrintResultsWizard(prw_name)\n",
    "\n",
    "attr.setResultsType(\"Components\")\n",
    "attr.setResultsOrder(\"Mesh\")\n",
    "attr.setResultsContent(\"Tabular\")\n",
    "attr.setResultsEntity(\"Force/Moment - Thick Shell\")\n",
    "attr.setExtent(\"Elements showing results\", \"\")\n",
    "attr.setResultsLocation(\"ElementNodal\")\n",
    "attr.setLoadcasesOption(\"Active\") # Active loadset only\n",
    "\n",
    "components = [\"Nx\",\"Ny\",\"Nxy\",\"Mx\",\"My\",\"Mxy\",\"Sx\",\"Sy\"]\n",
    "attr.setComponents(components)\n",
    "\n",
    "attr.setResultsTransformGlobal()\n",
    "attr.showCoordinates(True)\n",
    "attr.showExtremeResults(False)\n",
    "attr.setSlice(False)\n",
    "attr.setAllowDerived(False)\n",
    "attr.setDisplayNow(False)\n",
    "attr.setDecimalPlaces(3)\n",
    "attr.setThreshold(1e-6)\n",
    "\n",
    "attr = None"
   ]
  },
  {
   "cell_type": "markdown",
   "metadata": {},
   "source": [
    "Export the results defined by the Print Results Wizard. Note the getAttribute function returns the IFAttribute base class and so we need to cast this to the IFResultsWizard type in order to call the showResults() function"
   ]
  },
  {
   "cell_type": "code",
   "execution_count": 12,
   "metadata": {},
   "outputs": [],
   "source": [
    "attr = win32.CastTo(database.getAttribute(\"Print Results Wizard\", prw_name), \"IFPrintResultsWizard\")\n",
    "\n",
    "# First display the table of results\n",
    "table = attr.showResults()\n",
    "table.saveAs(f\"{export_dir}{prw_name}_results.xls\", \"Microsoft Excel\")\n",
    "table.saveAs(f\"{export_dir}{prw_name}_results.txt\", \"Text\")\n",
    "table.close()"
   ]
  }
 ],
 "metadata": {
  "kernelspec": {
   "display_name": "Python 3",
   "language": "python",
   "name": "python3"
  },
  "language_info": {
   "codemirror_mode": {
    "name": "ipython",
    "version": 3
   },
   "file_extension": ".py",
   "mimetype": "text/x-python",
   "name": "python",
   "nbconvert_exporter": "python",
   "pygments_lexer": "ipython3",
   "version": "3.10.4"
  }
 },
 "nbformat": 4,
 "nbformat_minor": 2
}
