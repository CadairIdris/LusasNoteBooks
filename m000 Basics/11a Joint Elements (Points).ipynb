{
 "cells": [
  {
   "cell_type": "markdown",
   "id": "40509074",
   "metadata": {},
   "source": [
    "# #11a Joint Elements (Points)\n",
    "<i>Create joints between two separate points</i>\n",
    "***"
   ]
  },
  {
   "cell_type": "markdown",
   "id": "8891a871",
   "metadata": {},
   "source": [
    "### Joints for points"
   ]
  },
  {
   "cell_type": "code",
   "execution_count": 1,
   "id": "801d3d8c",
   "metadata": {},
   "outputs": [
    {
     "data": {
      "text/plain": [
       "<win32com.gen_py.LUSAS Modeller ActiveX Script Language 22.0.IFLoadcase instance at 0x2489449731472>"
      ]
     },
     "execution_count": 1,
     "metadata": {},
     "output_type": "execute_result"
    }
   ],
   "source": [
    "import sys; sys.path.append('../') # Reference modules in parent directory\n",
    "\n",
    "from LPI import *\n",
    "lusas = get_lusas_modeller()\n",
    "\n",
    "if lusas.existsDatabase() and lusas.db().isModified():\n",
    "    raise Exception(\"This script will create a new model. Please close the current model first\")\n",
    "\n",
    "import m100_Tools_And_Helpers.Helpers as Helpers\n",
    "Helpers.initialise(lusas)\n",
    "\n",
    "# Create a new model\n",
    "lusas.newProject(\"Structural\", \"Joint for points.mdl\")\n",
    "# Get a reference to the model database\n",
    "db = lusas.getDatabase()\n",
    "# Set the analysis category & vertical axis\n",
    "db.setAnalysisCategory(\"3D\")\n",
    "db.setVerticalDir(\"Z\")\n",
    "# Set the unit system\n",
    "db.setModelUnits(\"kN,m,t,s,C\")\n",
    "lusas.view().setIsometric()\n",
    "lusas.view().showCoordSystem(False)\n",
    "\n",
    "db.createLoadcase(\"\")\n",
    "db.createLoadcase(\"\")"
   ]
  },
  {
   "cell_type": "markdown",
   "id": "5e948aa2",
   "metadata": {},
   "source": [
    "### Supports"
   ]
  },
  {
   "cell_type": "code",
   "execution_count": 2,
   "id": "98ac592e",
   "metadata": {},
   "outputs": [
    {
     "data": {
      "text/plain": [
       "<win32com.gen_py.LUSAS Modeller ActiveX Script Language 22.0.IFSupportStructural instance at 0x2489449740112>"
      ]
     },
     "execution_count": 2,
     "metadata": {},
     "output_type": "execute_result"
    }
   ],
   "source": [
    "support_attr = db.createSupportStructural(\"Sup1\")\n",
    "support_attr.setStructural(\"R\", \"R\", \"R\", \"R\", \"R\", \"R\", \"F\", \"F\", \"C\", \"F\")"
   ]
  },
  {
   "cell_type": "code",
   "execution_count": 3,
   "id": "c8e6ac92",
   "metadata": {},
   "outputs": [],
   "source": [
    "point_load_x_attr = db.createLoadingConcentrated(\"Point Load X\").setConcentrated(1,0,0,0,0,0)\n",
    "point_load_y_attr = db.createLoadingConcentrated(\"Point Load Y\").setConcentrated(0,1,0,0,0,0)\n",
    "point_load_z_attr = db.createLoadingConcentrated(\"Point Load Z\").setConcentrated(0,0,1,0,0,0)\n",
    "loads = [point_load_x_attr, point_load_y_attr, point_load_z_attr]"
   ]
  },
  {
   "cell_type": "markdown",
   "id": "a745c894",
   "metadata": {},
   "source": [
    "### Joint mesh attributes"
   ]
  },
  {
   "cell_type": "code",
   "execution_count": 4,
   "id": "3f92b7f9",
   "metadata": {},
   "outputs": [],
   "source": [
    "# Joints assigned between two separate features\n",
    "mesh_pinned = db.createPointMeshElementAttr(\"Point Mesh Pinned\", \"JNT4\")\n",
    "mesh_moment = db.createPointMeshElementAttr(\"Point Mesh Moments\", \"JSH4\")"
   ]
  },
  {
   "cell_type": "markdown",
   "id": "1841762d",
   "metadata": {},
   "source": [
    "### Joint Materials"
   ]
  },
  {
   "cell_type": "code",
   "execution_count": 5,
   "id": "525c57cb",
   "metadata": {},
   "outputs": [],
   "source": [
    "pinned_material_attr = db.createSpringJointMaterial(\"Pinned Material\", [100, 100, 100]).setValue(\"Assignment\", \"Point\")\n",
    "moment_material_attr = db.createSpringJointMaterial(\"Moments material\", [100, 100, 100, 100, 100, 100]).setValue(\"Assignment\", \"Point\")"
   ]
  },
  {
   "cell_type": "markdown",
   "id": "f2e08568",
   "metadata": {},
   "source": [
    "### Joint Geometry"
   ]
  },
  {
   "cell_type": "code",
   "execution_count": 6,
   "id": "82b91f2d",
   "metadata": {},
   "outputs": [],
   "source": [
    "# Analysis 1 has no joint geometry assigned. In this case the nodes of the joint should be coincident, no eccentricity (lever arm) is considered.\n",
    "\n",
    "# Analysis 2, Use joint length to determine the eccentricity.\n",
    "geom_by_length_attr = db.createGeometricJoint(\"Geom (joint length = 1)\").setJoint(0.0, 0.5, 0.5, True)\n",
    "\n",
    "# Analysis 3, specify a known eccentricty of 0.5, regardless of joint length/arrangement.\n",
    "geom_ecc_z_attr     = db.createGeometricJoint(\"Geom (eccentricity = 0.5)\").setJoint(0.5, 0.0, 0.0, False)"
   ]
  },
  {
   "cell_type": "markdown",
   "id": "55690069",
   "metadata": {},
   "source": [
    "### Joints between two points"
   ]
  },
  {
   "cell_type": "code",
   "execution_count": 7,
   "id": "22c55fce",
   "metadata": {},
   "outputs": [],
   "source": [
    "lower_points:list[IFPoint]=[]\n",
    "upper_points:list[IFPoint]=[]\n",
    "\n",
    "for x in [0, 1]:\n",
    "    lower_points.append(Helpers.create_point(x, 0, 0))\n",
    "    upper_points.append(Helpers.create_point(x, 0, 1))"
   ]
  },
  {
   "cell_type": "code",
   "execution_count": 8,
   "id": "5d90aad8",
   "metadata": {},
   "outputs": [
    {
     "data": {
      "text/plain": [
       "<win32com.gen_py.LUSAS Modeller ActiveX Script Language 22.0.IFObjectSet instance at 0x2489439859200>"
      ]
     },
     "execution_count": 8,
     "metadata": {},
     "output_type": "execute_result"
    }
   ],
   "source": [
    "support_attr.assignTo(lower_points)\n",
    "pinned_material_attr.assignTo(lower_points[0])\n",
    "moment_material_attr.assignTo(lower_points[1])\n",
    "\n",
    "mesh_pinned.assignTo([lower_points[0], upper_points[0]])\n",
    "mesh_moment.assignTo([lower_points[1], upper_points[1]])\n",
    "\n",
    "point_load_x_attr.assignTo(upper_points)\n",
    "assign = lusas.assignment().setAllDefaults().setLoadset(2)\n",
    "point_load_y_attr.assignTo(upper_points, assign)\n",
    "assign = lusas.assignment().setAllDefaults().setLoadset(3)\n",
    "point_load_z_attr.assignTo(upper_points, assign)\n"
   ]
  },
  {
   "cell_type": "markdown",
   "id": "c1bdf9ae",
   "metadata": {},
   "source": [
    "### Eccentric joints"
   ]
  },
  {
   "cell_type": "code",
   "execution_count": 9,
   "id": "5832d8f6",
   "metadata": {},
   "outputs": [],
   "source": [
    "for i in range(2):\n",
    "    analysis = db.createAnalysisStructural(\"\", False)\n",
    "\n",
    "    for j in range(3):\n",
    "        loadcase = db.createLoadcase(\"\", analysis.getName())\n",
    "        assign = lusas.assignment().setAllDefaults().setLoadset(loadcase)\n",
    "        loads[j].assignTo(upper_points, assign)\n",
    "\n",
    "        if i == 0:\n",
    "            geom_by_length_attr.assignTo(lower_points, assign)\n",
    "        else:\n",
    "            geom_ecc_z_attr.assignTo(lower_points, assign)\n"
   ]
  },
  {
   "cell_type": "markdown",
   "id": "c7cd0d63",
   "metadata": {},
   "source": [
    "### Solve"
   ]
  },
  {
   "cell_type": "code",
   "execution_count": 10,
   "id": "020f0b3c",
   "metadata": {},
   "outputs": [
    {
     "data": {
      "text/plain": [
       "<win32com.gen_py.LUSAS Modeller ActiveX Script Language 22.0.IFDatabase instance at 0x2489451402096>"
      ]
     },
     "execution_count": 10,
     "metadata": {},
     "output_type": "execute_result"
    }
   ],
   "source": [
    "db.resetMesh()\n",
    "db.updateMesh()"
   ]
  },
  {
   "cell_type": "code",
   "execution_count": 11,
   "id": "a19066a4",
   "metadata": {},
   "outputs": [],
   "source": [
    "for analysis in db.getAnalyses():\n",
    "   analysis.solve(True)\n",
    "db.openAllResults(True, True)\n",
    "\n",
    "lusas.view().insertValuesLayer()\n",
    "lusas.view().values().setResults(\"Force/Moment - 3D Joint (JSH4,JL46)\", \"My\")\n",
    "lusas.view().values().setShowAtGauss()\n",
    "lusas.view().mesh().showElementOrient(True)"
   ]
  },
  {
   "cell_type": "markdown",
   "id": "ddac0df9",
   "metadata": {},
   "source": [
    "### Display Reactions for each loadcase"
   ]
  },
  {
   "cell_type": "code",
   "execution_count": 12,
   "id": "5bbd9047",
   "metadata": {},
   "outputs": [
    {
     "data": {
      "text/plain": [
       "<win32com.gen_py.LUSAS Modeller ActiveX Script Language 22.0.IFGridWindow instance at 0x2489450058416>"
      ]
     },
     "execution_count": 12,
     "metadata": {},
     "output_type": "execute_result"
    }
   ],
   "source": [
    "prw = db.createPrintResultsWizard(\"Reactions per loadcase\")\n",
    "prw.setResultsOrder(\"Feature\")\n",
    "prw.setResultsContent(\"Tabular\")\n",
    "prw.setResultsEntity(\"Reaction\")\n",
    "prw.setResultsLocation(\"Nodal\")\n",
    "prw.setLoadcasesOption(\"All\")\n",
    "prw.setComponents([\"All\"])\n",
    "prw.setDisplayNow(True)\n",
    "prw.showResults()"
   ]
  }
 ],
 "metadata": {
  "kernelspec": {
   "display_name": "Python 3",
   "language": "python",
   "name": "python3"
  },
  "language_info": {
   "codemirror_mode": {
    "name": "ipython",
    "version": 3
   },
   "file_extension": ".py",
   "mimetype": "text/x-python",
   "name": "python",
   "nbconvert_exporter": "python",
   "pygments_lexer": "ipython3",
   "version": "3.13.2"
  }
 },
 "nbformat": 4,
 "nbformat_minor": 5
}
