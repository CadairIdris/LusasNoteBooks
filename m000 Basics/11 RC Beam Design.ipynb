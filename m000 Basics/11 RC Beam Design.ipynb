{
 "cells": [
  {
   "cell_type": "markdown",
   "metadata": {},
   "source": [
    "<H1>Create rigid constraints (links) between deck beams and pier legs</H1>"
   ]
  },
  {
   "cell_type": "code",
   "execution_count": null,
   "metadata": {},
   "outputs": [],
   "source": [
    "# Input Params\n",
    "spans_lengths = [5, 10, 5] #m\n",
    "tee_section_width = 1.0\n",
    "tee_section_depth = 1.0\n",
    "tee_section_thk_flange = 0.2\n",
    "tee_section_thk_web = 0.2\n",
    "\n",
    "loading = 10"
   ]
  },
  {
   "cell_type": "code",
   "execution_count": null,
   "metadata": {},
   "outputs": [],
   "source": [
    "import win32com.client as win32\n",
    "lusas = win32.gencache.EnsureDispatch(\"Lusas.Modeller.21.1\")"
   ]
  },
  {
   "cell_type": "code",
   "execution_count": null,
   "metadata": {},
   "outputs": [],
   "source": [
    "# Create a new model\n",
    "db = lusas.newDatabase(\"Structural\", f\"RC Beam Design.mdl\")\n",
    "# Set the vertical axis\n",
    "db.setLogicalUpAxis(\"Z\")\n",
    "# Set the unit system\n",
    "db.setModelUnits(\"kN,m,t,s,C\")\n",
    "\n",
    "lusas.view().setIsometric()"
   ]
  },
  {
   "cell_type": "code",
   "execution_count": null,
   "metadata": {},
   "outputs": [],
   "source": [
    "''' Create deck lines'''\n",
    "deck_lines = []\n",
    "\n",
    "cur_x = 0\n",
    "for length in spans_lengths:\n",
    "    # Get the geometry data object\n",
    "    geomData = lusas.geometryData().setAllDefaults()\n",
    "    # set the options for creating points from coordinates\n",
    "    geomData.setLowerOrderGeometryType(\"coordinates\")\n",
    "    # Set the coordinates of the first point\n",
    "    geomData.addCoords(cur_x, 0, 0)\n",
    "    # Set the coordinates of the second point\n",
    "    geomData.addCoords(cur_x + length, 0, 0)\n",
    "    # Create the line object from the geomety data\n",
    "    objs = db.createLine(geomData) # Modeller returns an object set containing all the lines created, in this case we only have 1.\n",
    "    # Get the line\n",
    "    deck_lines.append(objs.getObjects(\"Lines\")[0])\n",
    "    # Increment the current x position\n",
    "    cur_x += length\n"
   ]
  },
  {
   "cell_type": "code",
   "execution_count": null,
   "metadata": {},
   "outputs": [],
   "source": [
    "''' Create a mesh attribute'''\n",
    "# Beam mesh with BMI21 (2 Noded Linear) Elements at 1m lengths\n",
    "mesh_attr = db.createMeshLine(\"Beam Mesh\").setSize(\"BMI21\", 1)"
   ]
  },
  {
   "cell_type": "code",
   "execution_count": null,
   "metadata": {},
   "outputs": [],
   "source": [
    "''' Create a geometric attribute'''\n",
    "\n",
    "# Create a parametric section utility\n",
    "util = db.createParametricSection('Tee Section Utility')\n",
    "util.setType(\"Reactangular Solid\")\n",
    "util.setDimensions(['B', 'D', 'tf', 'tw'], [tee_section_width, tee_section_depth, tee_section_thk_flange, tee_section_thk_web])\n",
    "\n",
    "# Now create the attribute which is based on the utility but provides additional transformations such as eccentrity and tapering\n",
    "geom_section_attr = db.createGeometricLine('Tee Section')\n",
    "geom_section_attr.setFromLibrary(\"Utilities\", \"\", 'Tee Section Utility', 0, 0, 0)\n"
   ]
  },
  {
   "cell_type": "code",
   "execution_count": null,
   "metadata": {},
   "outputs": [],
   "source": [
    "''' Create a material attribute'''\n",
    "concrete_material_attr = db.createIsotropicMaterial(\"Concrete\", 35_000_000, 0.2, 2.4, 10e-6)\n",
    "rebar_material_attr = db.createIsotropicMaterial(\"Rebar\", 209_000_000, 0.3, 7.8, 10e-6)\n",
    "\n",
    "lusas.getModule(\"MaterialLibrary\").createMaterial(\"Europe\", \"EN1992-1-1:2005\")\n",
    "\n",
    "\n",
    "rc_material_attr = None"
   ]
  },
  {
   "cell_type": "code",
   "execution_count": null,
   "metadata": {},
   "outputs": [],
   "source": [
    "''' Create a support attribute '''\n",
    "fixedSupport = db.createSupportStructural(\"Fully Fixed\")\n",
    "# set the freedoms F=Free, R=Restrained\n",
    "fixedSupport.setStructural(\"R\", \"R\", \"R\", \"R\", \"R\", \"R\", \"F\", \"F\", \"F\")\n",
    "\n",
    "''' Create a support attribute '''\n",
    "pinnedSupport = db.createSupportStructural(\"Pinned\")\n",
    "# set the freedoms \n",
    "pinnedSupport.setStructural(\"F\", \"R\", \"R\", \"F\", \"F\", \"F\", \"F\", \"F\", \"F\")"
   ]
  },
  {
   "cell_type": "code",
   "execution_count": null,
   "metadata": {},
   "outputs": [],
   "source": [
    "''' Create a beam load attribute '''\n",
    "loadAttr = db.createLoadingBeamDistributed(\"UDL\")\n",
    "loadAttr.setBeamDistributed(\"Parametric\", \"Global\", \"beam\")\n",
    "loadAttr.addRow(0.0, 0.0, 0.0, -loading, 0.0, 0.0, 0.0, 1.0, 0.0, 0.0, -loading, 0.0, 0.0, 0.0)"
   ]
  },
  {
   "cell_type": "code",
   "execution_count": null,
   "metadata": {},
   "outputs": [],
   "source": [
    "''' Assign the attributes to the deck_lines '''\n",
    "# get the assignment object\n",
    "assignment = lusas.assignment().setAllDefaults()\n",
    "# Assign the mesh\n",
    "mesh_attr.assignTo(deck_lines, assignment)\n",
    "# Assign the geometry\n",
    "geom_section_attr.assignTo(deck_lines, assignment)\n",
    "# Assign the material\n",
    "rc_material_attr.assignTo(deck_lines, assignment)\n",
    "# Assign the loading\n",
    "loadAttr.assignTo(deck_lines, assignment)\n",
    "\n",
    "''' Assign the supports to the points of the line '''\n",
    "# Assign the pinned support to the first point\n",
    "pinnedSupport.assignTo(deck_lines[0].getStartPoint(), assignment)\n",
    "# Assign the pinned support to the last point\n",
    "pinnedSupport.assignTo(deck_lines[-1].getEndPoint(), assignment)"
   ]
  },
  {
   "cell_type": "code",
   "execution_count": null,
   "metadata": {},
   "outputs": [],
   "source": [
    "db.updateMesh()"
   ]
  },
  {
   "cell_type": "markdown",
   "metadata": {},
   "source": [
    "<H2>Solving the Analysis</H2>"
   ]
  },
  {
   "cell_type": "code",
   "execution_count": null,
   "metadata": {},
   "outputs": [],
   "source": [
    "db.getAnalysis(\"Analysis 1\").solve(True)\n",
    "db.openAllResults(False)"
   ]
  },
  {
   "cell_type": "code",
   "execution_count": null,
   "metadata": {},
   "outputs": [],
   "source": [
    "lusas.view().insertDiagramsLayer()\n",
    "lusas.view().diagrams().setResultsTransformNone()\n",
    "lusas.view().diagrams().setResults(\"Force/Moment - Thick 3D Beam\", \"My\")\n"
   ]
  }
 ],
 "metadata": {
  "kernelspec": {
   "display_name": "Python 3",
   "language": "python",
   "name": "python3"
  },
  "language_info": {
   "codemirror_mode": {
    "name": "ipython",
    "version": 3
   },
   "file_extension": ".py",
   "mimetype": "text/x-python",
   "name": "python",
   "nbconvert_exporter": "python",
   "pygments_lexer": "ipython3",
   "version": "3.12.3"
  }
 },
 "nbformat": 4,
 "nbformat_minor": 2
}
