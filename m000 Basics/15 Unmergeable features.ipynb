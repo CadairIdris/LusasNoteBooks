{
 "cells": [
  {
   "cell_type": "markdown",
   "id": "af90db6c",
   "metadata": {},
   "source": [
    "# #15 Unmergeable features\n",
    "<i>Un mergeable features allow two features to occupy the same place. They are often required to create interfaces between two components with interface or joint elements. Unmerged features can cause \"cracks\" in the mesh since they do not share nodes.</i>\n",
    "***"
   ]
  },
  {
   "cell_type": "code",
   "execution_count": 2,
   "id": "5db05484",
   "metadata": {},
   "outputs": [],
   "source": [
    "import sys; sys.path.append('../') # Reference modules in parent directory\n",
    "\n",
    "from LPI import *\n",
    "lusas = get_lusas_modeller()\n",
    "\n",
    "if not lusas.existsDatabase():\n",
    "    raise Exception(\"A model must be open before running this code\")\n",
    "\n",
    "db = lusas.database()"
   ]
  },
  {
   "cell_type": "markdown",
   "id": "cd118ace",
   "metadata": {},
   "source": [
    "### Identify unmerged features\n",
    "See also example # 121 which identifies adjacent nodes which may not have been intended"
   ]
  },
  {
   "cell_type": "code",
   "execution_count": 3,
   "id": "334165b7",
   "metadata": {},
   "outputs": [],
   "source": [
    "# Clear the current selection\n",
    "lusas.selection().remove(\"all\")\n",
    "\n",
    "# Get all the lines in the database\n",
    "lines:list[IFLine] = db.getObjects(\"Lines\")\n",
    "\n",
    "# Add unmergeable lines to the current selection\n",
    "for line in lines:\n",
    "    if not line.isMergeable():\n",
    "        lusas.selection().add(line)"
   ]
  },
  {
   "cell_type": "markdown",
   "id": "87042508",
   "metadata": {},
   "source": [
    "### Make features unmergeable"
   ]
  },
  {
   "cell_type": "code",
   "execution_count": 3,
   "id": "873331f2",
   "metadata": {},
   "outputs": [],
   "source": [
    "# Get all the lines in the selection\n",
    "lines:list[IFLine] = lusas.selection().getObjects(\"Lines\")\n",
    "# set them to be unmergable\n",
    "for line in lines:\n",
    "    line.makeUnmergeable()\n",
    "    # make the lower order features unmergable too\n",
    "    line.getStartPoint().makeUnmergeable()\n",
    "    line.getEndPoint().makeUnmergeable()\n"
   ]
  },
  {
   "cell_type": "code",
   "execution_count": null,
   "id": "7a7dd40d",
   "metadata": {},
   "outputs": [],
   "source": [
    "db.options().setString(\"Coupling Type\", \"Thermal\", False, \"\")"
   ]
  }
 ],
 "metadata": {
  "kernelspec": {
   "display_name": "Python 3",
   "language": "python",
   "name": "python3"
  },
  "language_info": {
   "codemirror_mode": {
    "name": "ipython",
    "version": 3
   },
   "file_extension": ".py",
   "mimetype": "text/x-python",
   "name": "python",
   "nbconvert_exporter": "python",
   "pygments_lexer": "ipython3",
   "version": "3.12.3"
  }
 },
 "nbformat": 4,
 "nbformat_minor": 5
}
