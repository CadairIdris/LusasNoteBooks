{
 "cells": [
  {
   "cell_type": "markdown",
   "metadata": {},
   "source": [
    "# #50 Create a simple cantilever line beam model\n",
    "<i>Creates and solves a steel beam cantilver model</i>\n",
    "*** \n"
   ]
  },
  {
   "cell_type": "code",
   "execution_count": null,
   "metadata": {},
   "outputs": [],
   "source": [
    "# Input Params\n",
    "length = 5.0 #m\t\t     Length of beam\n",
    "point_load = 10.0  #kN   Concentrated load on cantilever tip"
   ]
  },
  {
   "cell_type": "code",
   "execution_count": null,
   "metadata": {},
   "outputs": [],
   "source": [
    "import sys; sys.path.append('../') # Reference modules in parent directory\n",
    "from LPI_22_0 import *\n",
    "lusas = get_lusas_modeller()\n",
    "if lusas.existsDatabase():\n",
    "    raise Exception(\"This script will create a new model. Please save and close the current model and try again\")"
   ]
  },
  {
   "cell_type": "markdown",
   "metadata": {},
   "source": [
    "<div class=\"alert alert-block alert-info\">\n",
    "<b>Tip:</b> When interacting with Modeller externally, as we are here. A significant speed up can be achieved by disabling the user interface. In v22 and later this can be done with the <b>enableUI</b> function, in earlier versions the application must be set to be invisible. Take care to restore the visibility and watch out for exceptions in the code that can leave Modeller running in the background or disabled. See the code below to ensure this is properly restored.\n",
    "</div>"
   ]
  },
  {
   "cell_type": "code",
   "execution_count": null,
   "metadata": {},
   "outputs": [],
   "source": [
    "do_speed_up = False # To speed up interaction with Modeller from python set this to True\n",
    "\n",
    "if do_speed_up: \n",
    "    if lusas.getMajorVersionNumber() >= 22:\n",
    "        lusas.enableUI(False)\n",
    "    else:\n",
    "        lusas.setVisible(False)"
   ]
  },
  {
   "cell_type": "code",
   "execution_count": null,
   "metadata": {},
   "outputs": [],
   "source": [
    "# Create a new model\n",
    "lusas.newProject(\"Structural\", \"Cantilever Line Beam.mdl\")\n",
    "# Get a reference to the model database\n",
    "db = lusas.getDatabase()\n",
    "# Set the analysis category & vertical axis\n",
    "db.setAnalysisCategory(\"3D\")\n",
    "db.setVerticalDir(\"Z\")\n",
    "# Set the unit system\n",
    "db.setModelUnits(\"kN,m,t,s,C\")"
   ]
  },
  {
   "cell_type": "code",
   "execution_count": null,
   "metadata": {},
   "outputs": [],
   "source": [
    "''' Create a line'''\n",
    "# Get the geometry data object\n",
    "geomData = lusas.geometryData()\n",
    "# Set the defaults\n",
    "geomData.setAllDefaults()\n",
    "# Set the coordinates of the first point\n",
    "geomData.addCoords(0, 0, 0)\n",
    "# Set the coordinates of the second point\n",
    "geomData.addCoords(length, 0, 0)\n",
    "# Create the line object from the geometry data\n",
    "objs = db.createLine(geomData) # Modeller returns an object set containing all the lines created, in this case we only have 1.\n",
    "# Get the lines\n",
    "lines = objs.getObjects(\"Lines\")\n",
    "# Get the single line from the returned array\n",
    "beamLine = lines[0]"
   ]
  },
  {
   "cell_type": "code",
   "execution_count": null,
   "metadata": {},
   "outputs": [],
   "source": [
    "''' Create a mesh attribute'''\n",
    "meshAttr = db.createMeshLine(\"Beam Mesh\")\n",
    "# Set the element type and size of elements BMI21 = 2Node thick beam elements, 1 = 1m length\n",
    "meshAttr.setSize(\"BMI21\", 1)"
   ]
  },
  {
   "cell_type": "code",
   "execution_count": null,
   "metadata": {},
   "outputs": [],
   "source": [
    "''' Create a geometric attribute'''\n",
    "geomAttr = db.createGeometricLine(\"Beam Geometry\")\n",
    "# Set the element type\n",
    "geomAttr.setValue(\"elementType\", \"3D Thick Beam\")\n",
    "# Set the beam section properties for the section library\n",
    "geomAttr.setFromLibrary(\"UK Sections\", \"Universal Beams (BS4)\", \"406x178x74kg UB\", 0, 0, 0)"
   ]
  },
  {
   "cell_type": "code",
   "execution_count": null,
   "metadata": {},
   "outputs": [],
   "source": [
    "''' Create a material attribute'''\n",
    "materialAttr = db.createIsotropicMaterial(\"Steel\", 209_000_000, 0.3, 7.8)"
   ]
  },
  {
   "cell_type": "code",
   "execution_count": null,
   "metadata": {},
   "outputs": [],
   "source": [
    "''' Create a support attribute (fixed) '''\n",
    "fixedSupport = db.createSupportStructural(\"Fixed\")\n",
    "# set the freedoms F=Free, R=Restrained\n",
    "fixedSupport.setStructural(\"R\", \"R\", \"R\", \"R\", \"R\", \"R\", \"F\", \"F\", \"F\")"
   ]
  },
  {
   "cell_type": "code",
   "execution_count": null,
   "metadata": {},
   "outputs": [],
   "source": [
    "''' Create a point load attribute '''\n",
    "loadAttr = db.createLoadingConcentrated(\"Point load\")\n",
    "loadAttr.setConcentrated(0.0, 0.0, -point_load)"
   ]
  },
  {
   "cell_type": "code",
   "execution_count": null,
   "metadata": {},
   "outputs": [],
   "source": [
    "''' Assign the attributes to the geometry '''\n",
    "# get the assignment object\n",
    "assignment = lusas.assignment()\n",
    "# set the defaults\n",
    "assignment.setAllDefaults()\n",
    "\n",
    "# Assign the mesh\n",
    "meshAttr.assignTo(beamLine, assignment)\n",
    "# Assign the geometry\n",
    "geomAttr.assignTo(beamLine, assignment)\n",
    "# Assign the material\n",
    "materialAttr.assignTo(beamLine, assignment)\n",
    "# Assign the loading\n",
    "loadAttr.assignTo(beamLine.getEndPoint(), assignment)\n",
    "\n",
    "''' Assign the supports to the points of the line '''\n",
    "# Assign the fixed support to the first point\n",
    "fixedSupport.assignTo(beamLine.getStartPoint(), assignment)\n"
   ]
  },
  {
   "cell_type": "code",
   "execution_count": null,
   "metadata": {},
   "outputs": [],
   "source": [
    "# Mesh the model, ready for analysis\n",
    "db.resetMesh()\n",
    "db.updateMesh()\n",
    "# Set the view\n",
    "lusas.view().setIsometric()"
   ]
  },
  {
   "cell_type": "code",
   "execution_count": null,
   "metadata": {},
   "outputs": [],
   "source": [
    "# Solve the analysis\n",
    "db.getAnalysis(\"Analysis 1\").solve(True)\n",
    "db.openAllResults(True, True)"
   ]
  },
  {
   "cell_type": "code",
   "execution_count": null,
   "metadata": {},
   "outputs": [],
   "source": [
    "# Display the deformed contours\n",
    "lusas.view().insertContoursLayer()\n",
    "lusas.view().contours().setResultsTransformNone()\n",
    "lusas.view().contours().setResults(\"Displacement\", \"DZ\")\n",
    "lusas.view().contours().setShowDeformed(True)\n",
    "lusas.view().insertAnnotationLayer()\n",
    "lusas.view().attributes().setShowDeformed(\"Geometric\", True)"
   ]
  },
  {
   "cell_type": "markdown",
   "metadata": {},
   "source": [
    "<div class=\"alert alert-block alert-warning\">\n",
    "<b>Note:</b> If the code fails before this point the cell below must be run manually to restore the user interface\n",
    "</div>"
   ]
  },
  {
   "cell_type": "code",
   "execution_count": null,
   "metadata": {},
   "outputs": [],
   "source": [
    "if lusas.getMajorVersionNumber() >= 22:\n",
    "    lusas.enableUI(True)\n",
    "else:\n",
    "    lusas.setVisible(True)"
   ]
  }
 ],
 "metadata": {
  "kernelspec": {
   "display_name": "Python 3",
   "language": "python",
   "name": "python3"
  },
  "language_info": {
   "codemirror_mode": {
    "name": "ipython",
    "version": 3
   },
   "file_extension": ".py",
   "mimetype": "text/x-python",
   "name": "python",
   "nbconvert_exporter": "python",
   "pygments_lexer": "ipython3",
   "version": "3.13.2"
  }
 },
 "nbformat": 4,
 "nbformat_minor": 2
}
