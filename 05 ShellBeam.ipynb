{
 "cells": [
  {
   "cell_type": "markdown",
   "metadata": {},
   "source": [
    "<H2>Create an I girder model in shell elements</H2>"
   ]
  },
  {
   "cell_type": "markdown",
   "metadata": {},
   "source": [
    "Create a girder class to hold the section dimensions for each segment\n",
    "We'll create points in the LUSAS model for each section and then use the points to create surfaces joining them."
   ]
  },
  {
   "cell_type": "code",
   "execution_count": null,
   "metadata": {},
   "outputs": [],
   "source": [
    "class Girder:\n",
    "    def __init__(self, tfb:float, tfthk:float, dw:float, tw:float, bfb:float, bfthk:float):\n",
    "        self.top_flange_breadth = tfb\n",
    "        self.top_flange_thk = tfthk\n",
    "        self.web_depth = dw\n",
    "        self.web_thk = tw\n",
    "        self.bottom_flange_breadth = bfb\n",
    "        self.bottom_flange_thk = bfb\n",
    "        # Wé'll save the points in these lists\n",
    "        self.bf_points = []\n",
    "        self.tf_points = []\n"
   ]
  },
  {
   "cell_type": "markdown",
   "metadata": {},
   "source": [
    "Define a list of segment lengths so the girder can have changes in sections"
   ]
  },
  {
   "cell_type": "code",
   "execution_count": 4,
   "metadata": {},
   "outputs": [],
   "source": [
    "segments_lengths = [6000, 5000, 6000]"
   ]
  },
  {
   "cell_type": "markdown",
   "metadata": {},
   "source": [
    "Create a list of section definitions, we'll need one per segment"
   ]
  },
  {
   "cell_type": "code",
   "execution_count": null,
   "metadata": {},
   "outputs": [],
   "source": [
    "sections = []\n",
    "sections.append(Girder(500, 50, 1500, 15, 600, 60))\n",
    "sections.append(Girder(500, 50, 1500, 15, 600, 60))\n",
    "sections.append(Girder(500, 50, 1500, 15, 600, 60))\n",
    "\n",
    "# Check we have a section for each segment\n",
    "assert(len(segments_lengths) == len(sections))"
   ]
  },
  {
   "cell_type": "markdown",
   "metadata": {},
   "source": [
    "Connect to LUSAS Modeller"
   ]
  },
  {
   "cell_type": "code",
   "execution_count": 3,
   "metadata": {},
   "outputs": [],
   "source": [
    "import win32com.client as win32\n",
    "lusas = win32.gencache.EnsureDispatch(\"Lusas.Modeller.21.0\")\n",
    "db = lusas.database()"
   ]
  },
  {
   "cell_type": "markdown",
   "metadata": {},
   "source": [
    "Create a helper function to create a point in the model"
   ]
  },
  {
   "cell_type": "code",
   "execution_count": null,
   "metadata": {},
   "outputs": [],
   "source": [
    "def create_point_in_modeller(x:float, y:float, z:float) -> 'IFPoint':\n",
    "    return win32.CastTo(db.createPoint(x, y, z))"
   ]
  },
  {
   "cell_type": "markdown",
   "metadata": {},
   "source": [
    "Create all the points for each section"
   ]
  },
  {
   "cell_type": "code",
   "execution_count": null,
   "metadata": {},
   "outputs": [],
   "source": [
    "s:Girder\n",
    "for i, s in enumerate(sections):\n",
    "    # Determine the longitudinal position (x coord) for each section\n",
    "    x = 0 if i == 0 else segments_lengths[i-1]\n",
    "    # Create the bottom flange points\n",
    "    s.bf_points.append(create_point_in_modeller(x, +s.bottom_flange_breadth/2, 0.0))\n",
    "    s.bf_points.append(create_point_in_modeller(x, 0.0, 0.0))\n",
    "    s.bf_points.append(create_point_in_modeller(x, -s.bottom_flange_breadth/2, 0.0))\n",
    "    # Create the top flange points\n",
    "    s.tf_points.append(create_point_in_modeller(x, +s.top_flange_breadth/2, 0.0))\n",
    "    s.tf_points.append(create_point_in_modeller(x, 0.0, 0.0))\n",
    "    s.tf_points.append(create_point_in_modeller(x, -s.top_flange_breadth/2, 0.0))"
   ]
  },
  {
   "cell_type": "markdown",
   "metadata": {},
   "source": [
    "Now join up the segment points. First create helper function to create surfaces and assign a geometric thickness attribute"
   ]
  },
  {
   "cell_type": "code",
   "execution_count": null,
   "metadata": {},
   "outputs": [],
   "source": [
    "def create_surface_in_lusas(pnts: list, thk:float, ecc:float, group:str):\n",
    "\n",
    "    geometryData = lusas.geometryData()\n",
    "    geometryData.setAllDefaults()\n",
    "    geometryData.setCreateMethod(\"coons\")\n",
    "    geometryData.setLowerOrderGeometryType(\"points\")\n",
    "\n",
    "    obs = lusas.newObjectSet()\n",
    "    for p in pnts:\n",
    "        obs.add(p)\n",
    "\n",
    "    objs = obs.createSurface(geometryData).getObjects(\"Surface\")\n",
    "    grp = db.getGroupByName(group)\n",
    "    grp.add(objs, \"Surfaces\")\n",
    "\n",
    "    name = f\"{group} ({thk:.1f}mm)\"\n",
    "\n",
    "    db.createGeometricSurface(name).setSurface(thk, ecc).assignTo(objs)\n"
   ]
  },
  {
   "cell_type": "markdown",
   "metadata": {},
   "source": [
    "Create groups to contain the surfaces"
   ]
  },
  {
   "cell_type": "code",
   "execution_count": null,
   "metadata": {},
   "outputs": [],
   "source": [
    "db.createEmptyGroup(\"Top Flange\")\n",
    "db.createEmptyGroup(\"Web\")\n",
    "db.createEmptyGroup(\"Bottom Flange\")"
   ]
  },
  {
   "cell_type": "code",
   "execution_count": null,
   "metadata": {},
   "outputs": [],
   "source": [
    "for i, s in range(0, len(sections)):\n",
    "\n",
    "    s1:Girder = sections[i]\n",
    "    s2:Girder = sections[i+1]\n",
    "\n",
    "    create_surface_in_lusas([s1.bf_points[0], s2.bf_points[0], s2.bf_points[1], s1.bf_points[1] ], s1.bottom_flange_thk, 0.0, \"Bottom Flange\")\n",
    "    create_surface_in_lusas([s1.bf_points[1], s2.bf_points[1], s2.bf_points[2], s1.bf_points[2] ], s1.bottom_flange_thk, 0.0, \"Bottom Flange\")\n",
    "    create_surface_in_lusas([s1.bf_points[1], s1.tf_points[1], s2.tf_points[1], s2.bf_points[1] ], s1.web_thk, 0.0, \"Web\")\n",
    "    create_surface_in_lusas([s1.tf_points[0], s2.tf_points[0], s2.tf_points[1], s1.tf_points[1] ], s1.top_flange_thk, 0.0, \"Top Flange\")\n",
    "    create_surface_in_lusas([s1.tf_points[1], s2.tf_points[1], s2.tf_points[2], s1.tf_points[2] ], s1.top_flange_thk, 0.0, \"Top Flange\")"
   ]
  }
 ],
 "metadata": {
  "kernelspec": {
   "display_name": "Python 3",
   "language": "python",
   "name": "python3"
  },
  "language_info": {
   "codemirror_mode": {
    "name": "ipython",
    "version": 3
   },
   "file_extension": ".py",
   "mimetype": "text/x-python",
   "name": "python",
   "nbconvert_exporter": "python",
   "pygments_lexer": "ipython3",
   "version": "3.11.9"
  }
 },
 "nbformat": 4,
 "nbformat_minor": 2
}
