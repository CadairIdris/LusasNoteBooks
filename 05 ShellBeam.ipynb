{
 "cells": [
  {
   "cell_type": "markdown",
   "metadata": {},
   "source": [
    "<H2>Create an I girder model in shell elements</H2>"
   ]
  },
  {
   "cell_type": "markdown",
   "metadata": {},
   "source": [
    "Create a girder class to hold the section dimensions for each segment\n",
    "We'll create points in the LUSAS model for each section and then use the points to create surfaces joining them."
   ]
  },
  {
   "cell_type": "code",
   "execution_count": 86,
   "metadata": {},
   "outputs": [],
   "source": [
    "class Girder:\n",
    "    def __init__(self, tfb:float, tfthk:float, dw:float, tw:float, bfb:float, bfthk:float):\n",
    "        self.top_flange_breadth = tfb\n",
    "        self.top_flange_thk = tfthk\n",
    "        self.web_depth = dw\n",
    "        self.web_thk = tw\n",
    "        self.bottom_flange_breadth = bfb\n",
    "        self.bottom_flange_thk = bfthk\n",
    "        # We'll save the points created in the model in these lists so we can later use them to define surfaces\n",
    "        self.bf_points = []\n",
    "        self.tf_points = []\n"
   ]
  },
  {
   "cell_type": "markdown",
   "metadata": {},
   "source": [
    "Define a list of segment lengths so the girder can have changes in sections"
   ]
  },
  {
   "cell_type": "code",
   "execution_count": 87,
   "metadata": {},
   "outputs": [],
   "source": [
    "segments_lengths = [6000, 5000, 6000]"
   ]
  },
  {
   "cell_type": "markdown",
   "metadata": {},
   "source": [
    "Create a list of section definitions, we'll need one per segment + 1 for the end."
   ]
  },
  {
   "cell_type": "code",
   "execution_count": 88,
   "metadata": {},
   "outputs": [],
   "source": [
    "sections = []\n",
    "sections.append(Girder(500, 30, 1500, 15, 600, 40))\n",
    "sections.append(Girder(500, 50, 1500, 10, 600, 60))\n",
    "sections.append(Girder(500, 30, 1500, 15, 600, 40))\n",
    "sections.append(Girder(500, 30, 1500, 15, 600, 40))\n",
    "# Check we have defined one more section then segment lengths\n",
    "assert(len(segments_lengths) == len(sections)-1)"
   ]
  },
  {
   "cell_type": "markdown",
   "metadata": {},
   "source": [
    "Connect to LUSAS Modeller"
   ]
  },
  {
   "cell_type": "code",
   "execution_count": 89,
   "metadata": {},
   "outputs": [],
   "source": [
    "import win32com.client as win32\n",
    "lusas = win32.gencache.EnsureDispatch(\"Lusas.Modeller.21.0\")\n",
    "db = lusas.database() # Get a reference to the current model database for convenience - note a blank model needs to be open\n"
   ]
  },
  {
   "cell_type": "markdown",
   "metadata": {},
   "source": [
    "Create a helper function to create a point in the model"
   ]
  },
  {
   "cell_type": "code",
   "execution_count": 90,
   "metadata": {},
   "outputs": [],
   "source": [
    "def create_point_in_modeller(x:float, y:float, z:float) -> 'IFPoint':\n",
    "    return win32.CastTo(db.createPoint(x, y, z), \"IFPoint\")"
   ]
  },
  {
   "cell_type": "markdown",
   "metadata": {},
   "source": [
    "Create all the points for each section"
   ]
  },
  {
   "cell_type": "code",
   "execution_count": 91,
   "metadata": {},
   "outputs": [],
   "source": [
    "s:Girder\n",
    "x = 0\n",
    "for i in range(0, len(sections)):\n",
    "    # Determine the longitudinal position (x coord) for each section\n",
    "    if i > 0 : x += segments_lengths[i-1]\n",
    "    # Determine the section to use at each longitudinal position\n",
    "    s = sections[i]\n",
    "    # Create the bottom flange points\n",
    "    s.bf_points.append(create_point_in_modeller(x, +s.bottom_flange_breadth/2, 0.0))\n",
    "    s.bf_points.append(create_point_in_modeller(x, 0.0,                        0.0))\n",
    "    s.bf_points.append(create_point_in_modeller(x, -s.bottom_flange_breadth/2, 0.0))\n",
    "    # Create the top flange points\n",
    "    s.tf_points.append(create_point_in_modeller(x, +s.top_flange_breadth/2, s.web_depth))\n",
    "    s.tf_points.append(create_point_in_modeller(x, 0.0,                     s.web_depth))\n",
    "    s.tf_points.append(create_point_in_modeller(x, -s.top_flange_breadth/2, s.web_depth))"
   ]
  },
  {
   "cell_type": "markdown",
   "metadata": {},
   "source": [
    "Now join up the segment points. First create helper function to create surfaces and assign a geometric thickness attribute"
   ]
  },
  {
   "cell_type": "code",
   "execution_count": 92,
   "metadata": {},
   "outputs": [],
   "source": [
    "def create_surface_in_lusas(pnts: list, thk:float, ecc:float, group:str):\n",
    "\n",
    "    geometryData = lusas.geometryData()\n",
    "    geometryData.setAllDefaults()\n",
    "    geometryData.setCreateMethod(\"coons\")\n",
    "    geometryData.setLowerOrderGeometryType(\"points\")\n",
    "\n",
    "    obs = lusas.newObjectSet()\n",
    "    for p in pnts:\n",
    "        obs.add(p)\n",
    "\n",
    "    objs = obs.createSurface(geometryData).getObjects(\"Surface\")\n",
    "    grp = db.getGroupByName(group)\n",
    "    grp.add(objs, \"Surfaces\")\n",
    "\n",
    "    name = f\"{group} ({thk:.1f}mm)\"\n",
    "\n",
    "    db.createGeometricSurface(name).setSurface(thk, ecc).assignTo(objs)\n"
   ]
  },
  {
   "cell_type": "markdown",
   "metadata": {},
   "source": [
    "Create groups to contain the girder surfaces"
   ]
  },
  {
   "cell_type": "code",
   "execution_count": 93,
   "metadata": {},
   "outputs": [
    {
     "data": {
      "text/plain": [
       "<win32com.gen_py.LUSAS Modeller ActiveX Script Language 21.0.IFGroup instance at 0x2253936993008>"
      ]
     },
     "execution_count": 93,
     "metadata": {},
     "output_type": "execute_result"
    }
   ],
   "source": [
    "db.createEmptyGroup(\"Top Flange\")\n",
    "db.createEmptyGroup(\"Web\")\n",
    "db.createEmptyGroup(\"Bottom Flange\")"
   ]
  },
  {
   "cell_type": "markdown",
   "metadata": {},
   "source": [
    "Here we'll create the surfaces between each section definition using the points we created earlier"
   ]
  },
  {
   "cell_type": "code",
   "execution_count": 94,
   "metadata": {},
   "outputs": [],
   "source": [
    "for i in range(0, len(segments_lengths)):\n",
    "\n",
    "    s1:Girder = sections[i]   # Section definition at the start of the segment\n",
    "    s2:Girder = sections[i+1] # Section definition at the end of the segment\n",
    "\n",
    "    create_surface_in_lusas([ s1.bf_points[0], s2.bf_points[0], s2.bf_points[1], s1.bf_points[1] ], s1.bottom_flange_thk, 0.0, \"Bottom Flange\")\n",
    "    create_surface_in_lusas([ s1.bf_points[1], s2.bf_points[1], s2.bf_points[2], s1.bf_points[2] ], s1.bottom_flange_thk, 0.0, \"Bottom Flange\")\n",
    "    create_surface_in_lusas([ s1.bf_points[1], s1.tf_points[1], s2.tf_points[1], s2.bf_points[1] ], s1.web_thk,           0.0, \"Web\")\n",
    "    create_surface_in_lusas([ s1.tf_points[0], s2.tf_points[0], s2.tf_points[1], s1.tf_points[1] ], s1.top_flange_thk,    0.0, \"Top Flange\")\n",
    "    create_surface_in_lusas([ s1.tf_points[1], s2.tf_points[1], s2.tf_points[2], s1.tf_points[2] ], s1.top_flange_thk,    0.0, \"Top Flange\")"
   ]
  },
  {
   "cell_type": "markdown",
   "metadata": {},
   "source": [
    "We'll need to create and assign a shell mesh attribute"
   ]
  },
  {
   "cell_type": "code",
   "execution_count": 95,
   "metadata": {},
   "outputs": [],
   "source": [
    "# Create the mesh attribute\n",
    "mesh_attr = db.createMeshSurface(\"SMsh1\")\n",
    "mesh_attr.setRegular(\"QTS4\", 0, 0, True)\n",
    "mesh_attr.setValue(\"allowIrregular\", True)\n",
    "\n",
    "# Assign to all \n",
    "assignment = lusas.assignment().setAllDefaults().setLoadset(1)\n",
    "mesh_attr.assignToAll(assignment)\n",
    "\n",
    "assignment = None # Prevent notebook holding on to objects\n",
    "mesh_attr  = None"
   ]
  },
  {
   "cell_type": "markdown",
   "metadata": {},
   "source": [
    "And a material attribute"
   ]
  },
  {
   "cell_type": "code",
   "execution_count": 96,
   "metadata": {},
   "outputs": [
    {
     "data": {
      "text/plain": [
       "<win32com.gen_py.LUSAS Modeller ActiveX Script Language 21.0.IFAttribute instance at 0x2253976691872>"
      ]
     },
     "execution_count": 96,
     "metadata": {},
     "output_type": "execute_result"
    }
   ],
   "source": [
    "# Create and assign the steel material attribute, we'll do this all inline so we dont hold onto any references\n",
    "db.createIsotropicMaterial(\"Steel\", 200_000, 0.3, 7.8, 10e-6).assignToAll(lusas.assignment().setAllDefaults().setLoadset(1))"
   ]
  },
  {
   "cell_type": "markdown",
   "metadata": {},
   "source": [
    "Support attributes"
   ]
  },
  {
   "cell_type": "code",
   "execution_count": 97,
   "metadata": {},
   "outputs": [],
   "source": [
    "pinned = db.createSupportStructural(\"Fixed in XYZ\").setStructural(\"R\", \"R\", \"R\", \"F\", \"F\", \"F\", \"F\", \"F\", \"C\", \"F\")\n",
    "slide = db.createSupportStructural(\"Fixed in YZ\").setStructural(\"F\", \"R\", \"R\", \"F\", \"F\", \"F\", \"F\", \"F\", \"C\", \"F\")\n",
    "\n",
    "\n"
   ]
  },
  {
   "cell_type": "markdown",
   "metadata": {},
   "source": [
    "Release all of the references to the point objects now we no longer need them. Note for a normal script that runs start to end these will be released automatically. For a program that ho0lds state, such as is the case in this notebook, it's good practice to release any references"
   ]
  },
  {
   "cell_type": "code",
   "execution_count": 98,
   "metadata": {},
   "outputs": [],
   "source": [
    "for s in sections:\n",
    "    s.bf_points = None\n",
    "    s.tf_points = None"
   ]
  },
  {
   "cell_type": "markdown",
   "metadata": {},
   "source": [
    "Set the model to display the assigned plate thicknesses in an isometric orientation"
   ]
  },
  {
   "cell_type": "code",
   "execution_count": 99,
   "metadata": {},
   "outputs": [],
   "source": [
    "lusas.view().geometry().autoColourByAttributes(\"Geometric\", True)\n",
    "lusas.view().setIsometric()"
   ]
  }
 ],
 "metadata": {
  "kernelspec": {
   "display_name": "Python 3",
   "language": "python",
   "name": "python3"
  },
  "language_info": {
   "codemirror_mode": {
    "name": "ipython",
    "version": 3
   },
   "file_extension": ".py",
   "mimetype": "text/x-python",
   "name": "python",
   "nbconvert_exporter": "python",
   "pygments_lexer": "ipython3",
   "version": "3.10.4"
  }
 },
 "nbformat": 4,
 "nbformat_minor": 2
}
