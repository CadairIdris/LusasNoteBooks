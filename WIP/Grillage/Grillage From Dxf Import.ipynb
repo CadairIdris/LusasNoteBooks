{
 "cells": [
  {
   "cell_type": "markdown",
   "metadata": {},
   "source": [
    "<H2>Grillage Model from Dxf import</H2>"
   ]
  },
  {
   "cell_type": "markdown",
   "metadata": {},
   "source": [
    "We'll use the ezdxf python package to raed the dxf -> https://ezdxf.readthedocs.io/en/stable/tutorials/getting_data.html\n",
    "\n",
    "Note that LUSAS already includes an import from DXF function which is more robust and efficient then this approach. This example shows however that creation and assignmnet of model attribute can be automated at the same time as model geometry creation and how this maybe extended further by including metadata in the dxf that could be used for this process"
   ]
  },
  {
   "cell_type": "markdown",
   "metadata": {},
   "source": [
    "Import the libraries"
   ]
  },
  {
   "cell_type": "code",
   "execution_count": 17,
   "metadata": {},
   "outputs": [],
   "source": [
    "import ezdxf \n",
    "import win32com.client as win32\n",
    "lusas = win32.gencache.EnsureDispatch(\"Lusas.Modeller.21.0\")\n",
    "db = lusas.getDatabase()"
   ]
  },
  {
   "cell_type": "markdown",
   "metadata": {},
   "source": [
    "Options/inputs"
   ]
  },
  {
   "cell_type": "code",
   "execution_count": 18,
   "metadata": {},
   "outputs": [],
   "source": [
    "dxf_path = \"Grillage.dxf\" # File path to the dxf file.\n",
    "create_new_model = True   # Option to create a new model. Warning this will close the existing model without saving \n",
    "model_file_name = \"Grillage From DXF\"\n",
    "\n",
    "# Geometric Sections\n",
    "precast_libray = \"UK Sections\"\n",
    "slab_thickness = 0.25\n",
    "\n",
    "# Define sections as a dictionary of name followed by a tuple of dimensions\n",
    "\n",
    "# Transverse slab (breadth, depth)\n",
    "transverse_slab_dictionary = { \"Transverse Slab\":(2.0, slab_thickness) }\n",
    "\n",
    "# Precast beams with top slabs, (\"Beam Type\", \"Beam Size\", slab breadth, slab depth)\n",
    "precast_dictionary = { \"Edge Beams\":(\"Precast TYE Beams\", \"TYE11\", 2.0, slab_thickness), \"Inner Beams\":(\"Precast TY Beams\", \"TY11\", 2.0, slab_thickness) }\n",
    "\n",
    "# Rectangular sections (breadth, depth)\n",
    "sections_dictionary = { \"Diaphrams\":(0.75, 1.25) }\n",
    "\n"
   ]
  },
  {
   "cell_type": "markdown",
   "metadata": {},
   "source": [
    "Create the new model if required"
   ]
  },
  {
   "cell_type": "code",
   "execution_count": 19,
   "metadata": {},
   "outputs": [],
   "source": [
    "if create_new_model:\n",
    "    db = lusas.newDatabase(\"Structural\", f\"{model_file_name}.mdl\")\n",
    "    db.setAnalysisCategory(\"2D Grillage/Plate\")\n",
    "    db.setModelUnits(\"kN,m,t,s,C\")\n",
    "    db.setTimescaleUnits(\"Seconds\")\n",
    "\n",
    "    lusas.fileOpen(\"%Scripts%\\Treeview\\grillage.lsc\") # Use the grillage template script to set up default attributes"
   ]
  },
  {
   "cell_type": "markdown",
   "metadata": {},
   "source": [
    "We'll read the dxf and create the equivalent geometry in LUSAS Modeller."
   ]
  },
  {
   "cell_type": "code",
   "execution_count": 20,
   "metadata": {},
   "outputs": [],
   "source": [
    "# Read the dxf file\n",
    "doc = ezdxf.readfile(dxf_path)\n",
    "# Get the modelspace\n",
    "msp = doc.modelspace()"
   ]
  },
  {
   "cell_type": "markdown",
   "metadata": {},
   "source": [
    "Loop through the dxf \"LINE\"s and create the equivalent lines in Modeller. Note that the grillage here is defined as simple straight lines. More complex geometries can be considered with polylines"
   ]
  },
  {
   "cell_type": "code",
   "execution_count": null,
   "metadata": {},
   "outputs": [],
   "source": [
    "for e in msp:\n",
    "    if e.dxftype() == \"LINE\":\n",
    "        layer = e.dxf.layer  # layer of the entity as string\n",
    "\n",
    "        if not db.exists(\"Group\", layer):\n",
    "            group = db.createEmptyGroup(layer)\n",
    "        else:\n",
    "            group = db.getGroupByName(layer)\n",
    "\n",
    "        # Points at the start and end of the line\n",
    "        p1 = e.dxf.start\n",
    "        p2 = e.dxf.end\n",
    "\n",
    "        # Create Line in LUSAS\n",
    "        # Reference to the geometryData object\n",
    "        geomData = lusas.geometryData()\n",
    "        geomData.setAllDefaults()               # Reset the inputs\n",
    "        geomData.addCoords(p1.x, p1.y, p1.z)    # Set the coordinates of the first point\n",
    "        geomData.addCoords(p2.x, p2.y, p2.z)    # Set the coordinates of the second point\n",
    "        geomData.setLowerOrderGeometryType(\"coordinates\")\n",
    "        geomData.setCreateMethod(\"straight\")\n",
    "        # Create the line and add it to the group\n",
    "        line = win32.CastTo(db.createLine(geomData).getObject(\"Line\"), \"IFLine\")\n",
    "        group.add(line) \n"
   ]
  },
  {
   "cell_type": "markdown",
   "metadata": {},
   "source": [
    "<H3>Create and assign Geometric attributes</H3>\n",
    "\n",
    "We'll use the \"Bridge Deck Grillage\" attributes for this"
   ]
  },
  {
   "cell_type": "code",
   "execution_count": 22,
   "metadata": {},
   "outputs": [],
   "source": [
    "# First the transverse slab sections. The dimensions tuple contains a breadth and thickness\n",
    "for key in transverse_slab_dictionary.keys():\n",
    "    dims = transverse_slab_dictionary[key]\n",
    "    attr = db.createGeometricLine(key)\n",
    "    # attr.setValue(\"elementType\", \"3D Thick Beam\")\n",
    "    attr.setBridgeDeckSection(\"RC slab\", \"Solid\")\n",
    "    attr.setSlabTreatment(\"Uncracked\")\n",
    "    attr.setTorsionConstant(\"Grillage slab\")\n",
    "    attr.addBridgeDeckSlabA(dims[0], dims[1])\n",
    "    if db.exists(\"Group\", key):\n",
    "        attr.assignTo(\"Group\", key)\n",
    "\n",
    "# Precast beams with deck slab\n",
    "for key in precast_dictionary.keys():\n",
    "    dims = precast_dictionary[key]\n",
    "    attr = db.createGeometricLine(key)\n",
    "    # attr.setValue(\"elementType\", \"3D Thick Beam\")\n",
    "    attr.setBridgeDeckSection(\"Girder with slab\", \"Composite\")\n",
    "    attr.setSlabTreatment(\"Uncracked - concrete only\")\n",
    "    attr.setTorsionConstant(\"Sum slab and girder\", \"None (use St Venant)\", 0.0)\n",
    "    attr.setFromLibrary(precast_libray, dims[0], dims[1], 0, 0, 0)\n",
    "    attr.addBridgeDeckSlabA(dims[2], dims[3])\n",
    "    if db.exists(\"Group\", key):\n",
    "        attr.assignTo(\"Group\", key)\n",
    "\n",
    "\n",
    "# Rectangular sections\n",
    "for key in sections_dictionary.keys():\n",
    "    # First the section definition\n",
    "    attr = db.createParametricSection(key)\n",
    "    attr.setType(\"Rectangular Solid\")\n",
    "    names = [\"B\", \"D\"]\n",
    "    values = sections_dictionary[key]\n",
    "    attr.setDimensions(names, values)\n",
    "    # Then the geometric attribute which references the section definition\n",
    "    attr = db.createGeometricLine(key)\n",
    "    attr.setFromLibrary(\"Utilities\", \"\", key, 0, 0, 0)\n",
    "    attr.setValue(\"Epw\", values[0], 0)\n",
    "    if db.exists(\"Group\", key):\n",
    "        attr.assignTo(\"Group\", key)\n"
   ]
  },
  {
   "cell_type": "markdown",
   "metadata": {},
   "source": [
    "Assign the mesh attribute"
   ]
  },
  {
   "cell_type": "code",
   "execution_count": 23,
   "metadata": {},
   "outputs": [],
   "source": [
    "\n",
    "if db.existsAttribute(\"Mesh\", \"Grillage element div=1\"):\n",
    "    attr = db.getAttribute(\"Mesh\", \"Grillage element div=1\")\n",
    "    attr.assignToAll(lusas.assign().setAllDefaults())\n",
    "    db.updateMesh() # Calculate the mesh so we can visualise assignments\n"
   ]
  },
  {
   "cell_type": "markdown",
   "metadata": {},
   "source": [
    "Set the display"
   ]
  },
  {
   "cell_type": "code",
   "execution_count": 24,
   "metadata": {},
   "outputs": [],
   "source": [
    "\n",
    "lusas.view().geometry().colourByParentGroup(True)\n",
    "lusas.view().attributes().setVisible(True)\n",
    "lusas.view().attributes().setDrawStyle(\"Geometric\", \"Arrows\")\n",
    "lusas.view().attributes().visualiseAll(\"Geometric\")\n",
    "lusas.view().attributes().visualiseAllTransparent(\"Geometric\")\n",
    "\n"
   ]
  }
 ],
 "metadata": {
  "kernelspec": {
   "display_name": "Python 3",
   "language": "python",
   "name": "python3"
  },
  "language_info": {
   "codemirror_mode": {
    "name": "ipython",
    "version": 3
   },
   "file_extension": ".py",
   "mimetype": "text/x-python",
   "name": "python",
   "nbconvert_exporter": "python",
   "pygments_lexer": "ipython3",
   "version": "3.10.4"
  }
 },
 "nbformat": 4,
 "nbformat_minor": 2
}
