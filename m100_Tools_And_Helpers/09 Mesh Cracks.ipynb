{
 "cells": [
  {
   "cell_type": "markdown",
   "metadata": {},
   "source": [
    "<H2>Detecting nodes within a distance that may occur due to unjoined mesh</H2> "
   ]
  },
  {
   "cell_type": "code",
   "execution_count": 48,
   "metadata": {},
   "outputs": [],
   "source": [
    "import pandas as pd\n",
    "import numpy as np\n",
    "import itertools   \n",
    "import time\n",
    "import win32com.client as win32\n",
    "lusas = win32.gencache.EnsureDispatch(\"Lusas.Modeller.19.0\")\n",
    "if not lusas.existsDatabase():\n",
    "    Exception(\"A model must be open before running this code\")\n"
   ]
  },
  {
   "cell_type": "markdown",
   "metadata": {},
   "source": [
    "Define the distance below which we want to detect adjacent nodes"
   ]
  },
  {
   "cell_type": "code",
   "execution_count": 49,
   "metadata": {},
   "outputs": [],
   "source": [
    "TOLERANCE = 0.05 # Distance between nodes which is suspicious, this should be smaller than the mesh size\n",
    "APPROACH = 2     # Approach to be taken, 2 is reccommended\n",
    "EXTENT_OPTION = 1 # 0=all nodes in database, 1=nodes in current selection (recommended)\n",
    "\n",
    "# In general it is best to select lines to be checked since it is at lines that mesh cracks form, it is not worth checking all nodes within surfaces and volumes\n",
    "try:\n",
    "    lusas.setVisible(False) # Setting Lusas Modeller invisible speeds up calls to teh LPI because the application doesnt have to respond to user events at the same time.\n",
    "    match EXTENT_OPTION:\n",
    "        case 0: \n",
    "            nodes = lusas.database().getObjects(\"Nodes\")\n",
    "        case 1:\n",
    "            nodes = lusas.selection().getObjects(\"Nodes\")\n",
    "finally:\n",
    "    lusas.setVisible(True)"
   ]
  },
  {
   "cell_type": "markdown",
   "metadata": {},
   "source": [
    "## Approach 1, using itertools to generate the necessary comparison combinations"
   ]
  },
  {
   "cell_type": "markdown",
   "metadata": {},
   "source": [
    "Note, the limit of 100 nodes because this code is very slow for large number of nodes"
   ]
  },
  {
   "cell_type": "code",
   "execution_count": 50,
   "metadata": {},
   "outputs": [],
   "source": [
    "if APPROACH == 1:\n",
    "    if len(nodes) > 100:\n",
    "        assert False, \"This will take a very long time\"\n",
    "\n",
    "    start = time.time()\n",
    "    no_comparisons = 0\n",
    "\n",
    "    # Use itertools to generate the comparison of each node with each other node\n",
    "    # No of comparisons will be n? where the ? indicates sumation of all integers fron n to 0\n",
    "    for a, b in itertools.combinations(nodes, 2):\n",
    "        no_comparisons+=1\n",
    "        delta = np.sqrt( (a.getX() - b.getX())**2 + (a.getY() - b.getY())**2 + (a.getZ() - b.getZ())**2 )\n",
    "        if delta < TOLERANCE:\n",
    "            print(f\"Nodes {a.getID()} and {b.getID()} are within {delta:.3f}\")\n",
    "\n",
    "    print(f\"Comparison time = {time.time() - start:.2f} seconds for {no_comparisons} comparisons\")\n"
   ]
  },
  {
   "cell_type": "markdown",
   "metadata": {},
   "source": [
    "## Approach 2 - As 1 but reducing calls to the LPI"
   ]
  },
  {
   "cell_type": "markdown",
   "metadata": {},
   "source": [
    "Same approach as above here but first we compile a list of node coordinates. \n",
    "This avoids many repeated calls to get node coordinates"
   ]
  },
  {
   "cell_type": "code",
   "execution_count": 51,
   "metadata": {},
   "outputs": [
    {
     "name": "stdout",
     "output_type": "stream",
     "text": [
      "Nodes 92721.0 and 123380.0 are within 0.001\n",
      "Nodes 92722.0 and 123381.0 are within 0.002\n",
      "Nodes 92723.0 and 123382.0 are within 0.004\n",
      "Nodes 92724.0 and 123379.0 are within 0.005\n",
      "Nodes 92725.0 and 128039.0 are within 0.004\n",
      "Nodes 92726.0 and 128040.0 are within 0.003\n",
      "Nodes 92727.0 and 128041.0 are within 0.003\n",
      "Nodes 92728.0 and 128042.0 are within 0.002\n",
      "Nodes 92729.0 and 128043.0 are within 0.001\n",
      "Nodes 92820.0 and 128022.0 are within 0.010\n",
      "Nodes 92821.0 and 128023.0 are within 0.019\n",
      "Nodes 92822.0 and 128024.0 are within 0.029\n",
      "Nodes 92823.0 and 128025.0 are within 0.038\n",
      "Nodes 92824.0 and 128026.0 are within 0.048\n",
      "Nodes 92834.0 and 127695.0 are within 0.029\n",
      "Nodes 92848.0 and 127684.0 are within 0.025\n",
      "Nodes 92857.0 and 127739.0 are within 0.029\n",
      "Comparison time = 1.99 seconds for 17205 comparisons\n"
     ]
    }
   ],
   "source": [
    "if APPROACH == 2:\n",
    "    start = time.time()\n",
    "    no_comparisons = 0\n",
    "\n",
    "    positions  = np.array([[n.getX(), n.getY(), n.getZ(), n.getID()] for n in nodes])\n",
    "    for a, b in itertools.combinations(positions, 2):\n",
    "        no_comparisons+=1\n",
    "        delta = np.sqrt( (a[0] - b[0])**2 + (a[1] - b[1])**2 + (a[2] - b[2])**2 )\n",
    "        if delta < TOLERANCE:\n",
    "            print(f\"Nodes {a[3]} and {b[3]} are within {delta:.3f}\")\n",
    "\n",
    "    print(f\"Comparison time = {time.time() - start:.2f} seconds for {no_comparisons} comparisons\")"
   ]
  },
  {
   "cell_type": "markdown",
   "metadata": {},
   "source": [
    "As you can see repeated calls to the LPI functions can have a dramatic affect on performance and should be avoided where posible "
   ]
  },
  {
   "cell_type": "markdown",
   "metadata": {},
   "source": [
    "## Approach 3 using numpy arrays - more complicated"
   ]
  },
  {
   "cell_type": "code",
   "execution_count": 52,
   "metadata": {},
   "outputs": [],
   "source": [
    "if APPROACH == 3:\n",
    "    start = time.time()\n",
    "    ids = np.array([n.getID() for n in nodes])\n",
    "    positions  = np.array([[n.getX(), n.getY(), n.getZ()] for n in nodes])\n",
    "\n",
    "    # Relative positions of each node \n",
    "    rel = positions[None, :, :] - positions[:, None, :]\n",
    "\n",
    "    # distances of each node from the x,y,z relative offsets\n",
    "    distances = np.sqrt(np.square(rel).sum(axis=2))\n",
    "\n",
    "\n",
    "    for i in range(0, len(distances)):\n",
    "        a = np.where(distances[i] < TOLERANCE)\n",
    "        if len(a[0]) == 2 and a[0][0] != i:\n",
    "            print(f\"Nodes {ids[a[0][0]]} and {ids[a[0][1]]} are within {distances[i][a[0][0]]:.3f}\")\n",
    "\n",
    "\n",
    "    print(f\"Comparison time = {time.time() - start:.2f} seconds using numpy arrays\")"
   ]
  }
 ],
 "metadata": {
  "kernelspec": {
   "display_name": "Python 3",
   "language": "python",
   "name": "python3"
  },
  "language_info": {
   "codemirror_mode": {
    "name": "ipython",
    "version": 3
   },
   "file_extension": ".py",
   "mimetype": "text/x-python",
   "name": "python",
   "nbconvert_exporter": "python",
   "pygments_lexer": "ipython3",
   "version": "3.10.4"
  }
 },
 "nbformat": 4,
 "nbformat_minor": 2
}
