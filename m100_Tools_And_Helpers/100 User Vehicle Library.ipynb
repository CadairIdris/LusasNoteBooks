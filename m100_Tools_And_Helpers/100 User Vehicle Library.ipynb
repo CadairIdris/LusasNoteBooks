{
 "cells": [
  {
   "cell_type": "markdown",
   "metadata": {},
   "source": [
    "# User Vehicles"
   ]
  },
  {
   "cell_type": "code",
   "execution_count": 43,
   "metadata": {},
   "outputs": [],
   "source": [
    "file_path = \"User Vehicles.xlsx\"\n",
    "vehicles_to_generate = []"
   ]
  },
  {
   "cell_type": "code",
   "execution_count": 44,
   "metadata": {},
   "outputs": [],
   "source": [
    "# Read definitions file\n",
    "import pandas as pd\n",
    "df = pd.read_excel(file_path, sheet_name=\"Vehicles\", usecols=range(0,5))"
   ]
  },
  {
   "cell_type": "code",
   "execution_count": 45,
   "metadata": {},
   "outputs": [],
   "source": [
    "# Filter the list of vehicles if required\n",
    "if len(vehicles_to_generate) > 0:\n",
    "    df = df[df.Name.isin(vehicles_to_generate)] "
   ]
  },
  {
   "cell_type": "code",
   "execution_count": 46,
   "metadata": {},
   "outputs": [],
   "source": [
    "# Connect to LUSAS\n",
    "import win32com.client as win32\n",
    "lusas = win32.gencache.EnsureDispatch(\"Lusas.Modeller.22.0\")\n",
    "# Reference the current database for convienience\n",
    "db = lusas.database()\n",
    "# Get the current database units\n",
    "model_units = db.getModelUnits()"
   ]
  },
  {
   "cell_type": "code",
   "execution_count": null,
   "metadata": {},
   "outputs": [],
   "source": [
    "# Loop through each of the vehcicle definitions in the sheet, each one is defined on a single row\n",
    "for i, row in df.iterrows():\n",
    "    # Name of the vehicle attribute to be created - Will overwrite existing attributes with the same name\n",
    "    name = row.Name\n",
    "    # Read the axle spacing, axle load and axle width\n",
    "    spacings = str(row.Spacings).split(\"|\")\n",
    "    loads    = str(row.Loads).split(\"|\")\n",
    "    widths   = str(row.Widths).split(\"|\")\n",
    "    # Check that the number of each are consistent\n",
    "    if len(spacings) == len(loads) == len(widths):\n",
    "        \n",
    "        try:\n",
    "            # Get the unit set for the vehicle definitions\n",
    "            vehicle_units = lusas.getUnitSet(row.Units)\n",
    "            # Create the discrete point load attribute with loads acting in the Z direction\n",
    "            vehicle_attr = db.createLoadingDiscretePoint(name)\n",
    "            vehicle_attr.setDiscrete(\"Z\", [0,0,-1], len(spacings), 2)\n",
    "            \n",
    "            # Longitudinal position of each axle\n",
    "            x = 0\n",
    "            for i in range(0, len(spacings)):\n",
    "                # Get the details of the current axle\n",
    "                s = float(spacings[i])\n",
    "                f = float(loads[i])\n",
    "                w = float(widths[i])\n",
    "                # Convert values to the model unit set\n",
    "                vehicle_units.convertToUnitSet(model_units, s, 0,0,1,0,0,0)\n",
    "                vehicle_units.convertToUnitSet(model_units, f, 0,1,0,0,0,0)\n",
    "                vehicle_units.convertToUnitSet(model_units, w, 0,0,1,0,0,0)\n",
    "                # Increment the axle position by the spacing\n",
    "                x-=s\n",
    "                # Add wheel loads for the axle\n",
    "                vehicle_attr.addRow(x, w/2, 0, 0, 0, -abs(w/2))\n",
    "                vehicle_attr.addRow(x, -w/2, 0, 0, 0, -abs(w/2))\n",
    "\n",
    "        except Exception as e:\n",
    "            print(f\"Failed creating vehichle {name}\")\n",
    "            print(e)\n",
    "    else:\n",
    "        print(f\"The number of values in {name} is inconsistent\")\n"
   ]
  }
 ],
 "metadata": {
  "kernelspec": {
   "display_name": "Python 3",
   "language": "python",
   "name": "python3"
  },
  "language_info": {
   "codemirror_mode": {
    "name": "ipython",
    "version": 3
   },
   "file_extension": ".py",
   "mimetype": "text/x-python",
   "name": "python",
   "nbconvert_exporter": "python",
   "pygments_lexer": "ipython3",
   "version": "3.11.9"
  }
 },
 "nbformat": 4,
 "nbformat_minor": 2
}
