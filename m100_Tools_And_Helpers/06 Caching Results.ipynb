{
 "cells": [
  {
   "cell_type": "markdown",
   "metadata": {},
   "source": [
    "<H2>Cached Combination Results</H2>"
   ]
  },
  {
   "cell_type": "markdown",
   "metadata": {},
   "source": [
    "Load combinations and envelopes can take a long time to compute, especially with complex nested loadsets over multiple analyses.\n",
    "Modeller contains a results cache such that it can cache the results of these post-processed loadsets. This cache can be set up to automatically calculate specific results or we can simply request the results in loop and have them cached whilst the computer is idle. This is an example of the latter, but the former is generally a more performant option"
   ]
  },
  {
   "cell_type": "code",
   "execution_count": 3,
   "metadata": {},
   "outputs": [],
   "source": [
    "import win32com.client as win32\n",
    "lusas = win32.gencache.EnsureDispatch(\"Lusas.Modeller.21.0\")\n",
    "db = lusas.getDatabase()"
   ]
  },
  {
   "cell_type": "markdown",
   "metadata": {},
   "source": [
    "With the model displaying contours of the results of interest we'll loop through our design combinations setting active each loadset to request the results be generated. Modeller will then cache the computed results making them much quicker to access"
   ]
  },
  {
   "cell_type": "code",
   "execution_count": null,
   "metadata": {},
   "outputs": [],
   "source": [
    "entity = \"Displacement\"\n",
    "components = [\"DZ\"]\n",
    "\n",
    "# Make sure modeller is displaying some results otherwise they will not be calculated\n",
    "lusas.view().insertContoursLayer()\n",
    "lusas.view().contours().setResults(entity, components[0])\n",
    "\n",
    "# It's important to set the required results transformation (although its technically notr required for displacements as that is always in global axes)\n",
    "lusas.view().setResultsTransformGlobal() "
   ]
  },
  {
   "cell_type": "markdown",
   "metadata": {},
   "source": [
    "Define the loadsets (Basic/Smart Combinations, Envelopes etc). We'll just loop through them and trigger the calculation by displaying them to screen, having the results automatically cached"
   ]
  },
  {
   "cell_type": "code",
   "execution_count": 4,
   "metadata": {},
   "outputs": [],
   "source": [
    "loadsets = [\"SLS QP - P10 WL (S1)_101\", \n",
    "            \"SLS QP - P10 WL (S2)_101\", \n",
    "            \"SLS QP - P10 WL (S1)_102\", \n",
    "            \"SLS QP - P10 WL (S2)_102\", \n",
    "            \"SLS QP - P10 WL (S1)_103\", \n",
    "            \"SLS QP - P10 WL (S2)_103\", \n",
    "            \"SLS QP - P10 WL (S1)_104\", \n",
    "            \"SLS QP - P10 WL (S2)_104\",\n",
    "            \"SLS QP - P10 WL (S1)_105\", \n",
    "            \"SLS QP - P10 WL (S2)_105\"]\n",
    "\n",
    "for loadset in loadsets:\n",
    "\n",
    "    ls = db.getLoadset(loadset)\n",
    "\n",
    "    for component in components:\n",
    "\n",
    "        if ls.getTypeCode() == 2 or ls.getTypeCode() == 6:\n",
    "\n",
    "            for max_min in [\"(Max)\", \"(Min)\"]:\n",
    "                lusas.view().setActiveLoadsetAssocVal(entity, component, f\"{loadset} {max_min}\")\n",
    "        else:\n",
    "            lusas.view().setActiveLoadset(loadset)"
   ]
  },
  {
   "cell_type": "markdown",
   "metadata": {},
   "source": [
    "The results cache in the treeview should now show that its storing some results"
   ]
  },
  {
   "attachments": {
    "image.png": {
     "image/png": "[encoded data removed]"
    }
   },
   "cell_type": "markdown",
   "metadata": {},
   "source": [
    "![image.png](attachment:image.png)"
   ]
  }
 ],
 "metadata": {
  "kernelspec": {
   "display_name": "Python 3",
   "language": "python",
   "name": "python3"
  },
  "language_info": {
   "codemirror_mode": {
    "name": "ipython",
    "version": 3
   },
   "file_extension": ".py",
   "mimetype": "text/x-python",
   "name": "python",
   "nbconvert_exporter": "python",
   "pygments_lexer": "ipython3",
   "version": "3.10.4"
  }
 },
 "nbformat": 4,
 "nbformat_minor": 2
}
