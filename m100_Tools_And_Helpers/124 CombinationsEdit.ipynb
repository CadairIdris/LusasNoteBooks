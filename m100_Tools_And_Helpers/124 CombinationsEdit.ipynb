{
 "cells": [
  {
   "cell_type": "markdown",
   "metadata": {},
   "source": [
    "<H2>View all basic combination definitions</H2>"
   ]
  },
  {
   "cell_type": "code",
   "execution_count": 12,
   "metadata": {},
   "outputs": [],
   "source": [
    "import pandas as pd\n",
    "import numpy as np\n",
    "import sys; sys.path.append('../') # Locate the helpers file\n",
    "from LPI_22_0 import *\n",
    "lusas = get_lusas_modeller()\n",
    "if not lusas.existsDatabase():\n",
    "    Exception(\"A model must be open before running this code\")\n",
    "\n",
    "db = lusas.database() # Reference to the database for convenience\n",
    "\n",
    "\n",
    "# Read in the combination definitions from the spreadsheet\n",
    "import os\n",
    "import_dir = os.path.expanduser(\"~/Desktop\")\n",
    "file_path = rf\"{import_dir}\\Delete\\combs.xlsx\"\n",
    "\n",
    "create_missing_loadcases = True"
   ]
  },
  {
   "cell_type": "code",
   "execution_count": 13,
   "metadata": {},
   "outputs": [],
   "source": [
    "def get_loadcase_name(loadcase:str) -> str:\n",
    "    split = loadcase.split(\":\")\n",
    "    # id = int(split[0]) if len(split)>0 else -1\n",
    "    name = split[1] if len(split)>0 else split[0]\n",
    "    return name"
   ]
  },
  {
   "cell_type": "markdown",
   "metadata": {},
   "source": [
    "Basic combinations"
   ]
  },
  {
   "cell_type": "code",
   "execution_count": null,
   "metadata": {},
   "outputs": [
    {
     "name": "stdout",
     "output_type": "stream",
     "text": [
      "Creating Combination :  Combination 1\n",
      "[('1:Loadcase 1', 1.0), ('2:Loadcase 2', 1.0), ('3:Loadcase 3', 1.0)]\n",
      "Creating Combination :  Combination 2\n",
      "[('6:Loadcase 6', 1.0), ('7:Loadcase 7', 1.0)]\n",
      "Creating Combination :  Combination 3\n",
      "[('1:Loadcase 1', 22.0)]\n"
     ]
    }
   ],
   "source": [
    "df_basic = pd.read_excel(file_path, sheet_name=\"Basic Combinations\")\n",
    "\n",
    "for col, row in df_basic.iterrows():\n",
    "    name = get_loadcase_name(row[\"Combination\"])\n",
    "    loadcases = []\n",
    "    factors = []\n",
    "\n",
    "    for col in df_basic.columns[1:]:\n",
    "        if isinstance(row.loc[col], str):\n",
    "            print (\"Unknown value \", row.loc[col])\n",
    "            continue\n",
    "        if not np.isnan(row.loc[col]):\n",
    "            factor = float(row.loc[col])\n",
    "            loadcases.append(col)\n",
    "            factors.append(factor)\n",
    "\n",
    "\n",
    "    if(len(loadcases)>0):\n",
    "        print(\"Creating Combination : \", name)\n",
    "        print(list(zip(loadcases, factors)))\n",
    "\n",
    "        loadcase_names = [get_loadcase_name(loadcase) for loadcase in loadcases]\n",
    "        \n",
    "        if db.existsLoadset(name) and db.getLoadset(name).getTypeCode() != 2:\n",
    "            print(f\"Error - Loadcase '{name}' already exists but is not a basic combination\")\n",
    "            continue\n",
    "\n",
    "\n",
    "        bc = db.createCombinationBasic(name).removeEntries()\n",
    "\n",
    "        for i in range(len(loadcase_names)):\n",
    "            \n",
    "            if not db.existsLoadset(loadcase_names[i]):\n",
    "                if create_missing_loadcases:\n",
    "                    db.createLoadcase(loadcase_names[i])\n",
    "                else:\n",
    "                    print(f\"Warning - Loadcase '{loadcase_names[i]}' does not exist and was not included in combination '{name}'\")\n",
    "                    continue\n",
    "\n",
    "            bc.addEntry(factors[i], loadcase_names[i])\n"
   ]
  }
 ],
 "metadata": {
  "kernelspec": {
   "display_name": "Python 3",
   "language": "python",
   "name": "python3"
  },
  "language_info": {
   "codemirror_mode": {
    "name": "ipython",
    "version": 3
   },
   "file_extension": ".py",
   "mimetype": "text/x-python",
   "name": "python",
   "nbconvert_exporter": "python",
   "pygments_lexer": "ipython3",
   "version": "3.13.2"
  }
 },
 "nbformat": 4,
 "nbformat_minor": 2
}
