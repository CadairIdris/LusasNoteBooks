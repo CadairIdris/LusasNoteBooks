{
 "cells": [
  {
   "cell_type": "markdown",
   "metadata": {},
   "source": [
    "<H2>View all basic combination definitions</H2>"
   ]
  },
  {
   "cell_type": "code",
   "execution_count": null,
   "metadata": {},
   "outputs": [],
   "source": [
    "import pandas as pd\n",
    "import numpy as np\n",
    "import win32com.client as win32\n",
    "lusas = win32.gencache.EnsureDispatch(\"Lusas.Modeller.22.0\")\n",
    "if not lusas.existsDatabase():\n",
    "    Exception(\"A model must be open before running this code\")\n",
    "\n",
    "db = lusas.database() # Reference to the database for convenience\n",
    "\n",
    "\n",
    "# Read in the combination definitions from the spreadsheet\n",
    "import os\n",
    "export_dir = os.path.expanduser(\"~/Desktop\")\n",
    "file_path = rf\"{export_dir}\\{db.getDBBasename()}-Combination Definitions.xlsx\"\n"
   ]
  },
  {
   "cell_type": "markdown",
   "metadata": {},
   "source": [
    "Basic combinations"
   ]
  },
  {
   "cell_type": "code",
   "execution_count": null,
   "metadata": {},
   "outputs": [],
   "source": [
    "df_basic = pd.read_excel(file_path, sheet_name=\"Basic Combinations\")\n",
    "\n",
    "for i, row in df_basic.iterrows():\n",
    "    name = row[\"Combination\"]\n",
    "    # Create the combination overwriting the existing\n",
    "    basic_comb = db.createCombinationBasic(name)\n",
    "\n",
    "    # # Loop through the columns\n",
    "    # for details, factor in df_basic.xs(\"Sup\",level =2).iteritems():\n",
    "\n",
    "    #     if not pd.isna(factor):\n",
    "    #         inf_factor = df_basic.xs(\"Inf\",level =2)[details]\n",
    "    #         name = details[0]\n",
    "\n",
    "    for i in df_basic.columns[1:]:\n",
    "        print(i)"
   ]
  }
 ],
 "metadata": {
  "kernelspec": {
   "display_name": "Python 3",
   "language": "python",
   "name": "python3"
  },
  "language_info": {
   "codemirror_mode": {
    "name": "ipython",
    "version": 3
   },
   "file_extension": ".py",
   "mimetype": "text/x-python",
   "name": "python",
   "nbconvert_exporter": "python",
   "pygments_lexer": "ipython3",
   "version": "3.12.3"
  }
 },
 "nbformat": 4,
 "nbformat_minor": 2
}
