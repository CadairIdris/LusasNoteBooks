{
 "cells": [
  {
   "cell_type": "markdown",
   "metadata": {},
   "source": [
    "# Combination Generator"
   ]
  },
  {
   "cell_type": "code",
   "execution_count": null,
   "metadata": {},
   "outputs": [],
   "source": [
    "import pandas as pd\n",
    "import numpy as np\n",
    "import win32com.client as win32\n",
    "lusas = win32.gencache.EnsureDispatch(\"Lusas.Modeller.22.0\")\n",
    "db = lusas.database()"
   ]
  },
  {
   "cell_type": "markdown",
   "metadata": {},
   "source": [
    "Read the excel definitions"
   ]
  },
  {
   "cell_type": "code",
   "execution_count": null,
   "metadata": {},
   "outputs": [],
   "source": [
    "file_name = \"Datafiles/12 Combinations.xlsx\"\n",
    "actions_sheet = \"Actions\"\n",
    "is610 = False    # Create combination 6.10 or 6.10a and 6.10b"
   ]
  },
  {
   "cell_type": "markdown",
   "metadata": {},
   "source": [
    "# Action Definitions"
   ]
  },
  {
   "cell_type": "code",
   "execution_count": null,
   "metadata": {},
   "outputs": [],
   "source": [
    "# Permanent Actions\n",
    "df_permanent_actions = pd.read_excel(file_name, sheet_name=actions_sheet, usecols=range(0,4), header=1).dropna()\n",
    "\n",
    "# Variable Actions\n",
    "df_variable_actions = pd.read_excel(file_name, sheet_name=actions_sheet, usecols=range(5,10), header=1).dropna()\n",
    "\n",
    "# Prestress Actions\n",
    "df_prestress_actions = pd.read_excel(file_name, sheet_name=actions_sheet, usecols=range(11,14), header=1).dropna()\n",
    "df_prestress_actions.columns = df_prestress_actions.columns.str.replace(r'.\\d+', '', regex=True)\n",
    "\n",
    "# Accidental Actions\n",
    "df_accidental_actions = pd.read_excel(file_name, sheet_name=actions_sheet, usecols=range(15,17), header=1).dropna()\n",
    "\n",
    "# Seismic Actions\n",
    "df_seismic_actions = pd.read_excel(file_name, sheet_name=actions_sheet, usecols=range(18,20), header=1).dropna()"
   ]
  },
  {
   "cell_type": "markdown",
   "metadata": {},
   "source": [
    "# Loadcase Definitions"
   ]
  },
  {
   "cell_type": "code",
   "execution_count": null,
   "metadata": {},
   "outputs": [],
   "source": [
    "# Permanent Loadcases in LUSAS \n",
    "df_perm_loadcases = pd.read_excel(file_name, sheet_name=\"PermanentLoadcases\")\n",
    "# Mapping of Action Name to list of corresponding LUSAS Loadcases\n",
    "dict_perm_loadcases = df_perm_loadcases.set_index('Action Name').T.to_dict('list')\n",
    "\n",
    "# Variable Loadcases in LUSAS \n",
    "df_var_loadcases = pd.read_excel(file_name, sheet_name=\"VariableLoadcases\")\n",
    "# Mapping of Action Name to list of corresponding LUSAS Loadcases\n",
    "dict_var_loadcases = df_var_loadcases.set_index('Action Name').T.to_dict('list')\n",
    "\n",
    "# Accidental Loadcases in LUSAS \n",
    "df_acc_loadcases = pd.read_excel(file_name, sheet_name=\"AccidentalLoadcases\")\n",
    "# Mapping of Action Name to list of corresponding LUSAS Loadcases\n",
    "dict_acc_loadcases = df_acc_loadcases.set_index('Action Name').T.to_dict('list')\n",
    "\n",
    "# Seismic Loadcases in LUSAS \n",
    "df_seismic_loadcases = pd.read_excel(file_name, sheet_name=\"SeismicLoadcases\")\n",
    "# Mapping of Action Name to list of corresponding LUSAS Loadcases\n",
    "dict_seismic_loadcases = df_seismic_loadcases.set_index('Action Name').T.to_dict('list')"
   ]
  },
  {
   "cell_type": "code",
   "execution_count": null,
   "metadata": {},
   "outputs": [],
   "source": [
    "# Debug\n",
    "#print(df_acc_loadcases.head())\n",
    "#print(dict_acc_loadcases)"
   ]
  },
  {
   "cell_type": "markdown",
   "metadata": {},
   "source": [
    "## Helper functions"
   ]
  },
  {
   "cell_type": "code",
   "execution_count": null,
   "metadata": {},
   "outputs": [],
   "source": [
    "# Helper method to add different loadcase types to a smart combination\n",
    "def add_loadset_to_smart_comb(smart_comb, loadcase:str, beneficial:float, adverse:float) -> bool:\n",
    "    if db.existsLoadset(loadcase):\n",
    "        loadset = db.getLoadset(loadcase)\n",
    "        type_code = loadset.getTypeCode()\n",
    "\n",
    "        if type_code <= 2:\n",
    "            smart_comb.addEntry(beneficial, (adverse-beneficial), loadset)\n",
    "        elif type_code == 3:\n",
    "            envelope1 = win32.CastTo(loadset, \"IFEnvelope\")\n",
    "            envelope2 = envelope1.getAssocLoadset()\n",
    "            smart_comb.addEntry(beneficial, (adverse-beneficial), envelope1)\n",
    "            smart_comb.addEntry(beneficial, (adverse-beneficial), envelope2)\n",
    "        elif type_code == 6:\n",
    "            smart1 = win32.CastTo(loadset, \"IFSmartCombination\")\n",
    "            smart2 = smart1.getAssocLoadset()\n",
    "            smart_comb.addEntry(beneficial, (adverse-beneficial), smart1)\n",
    "            smart_comb.addEntry(beneficial, (adverse-beneficial), smart2)\n",
    "        return True\n",
    "    else:\n",
    "        return False\n"
   ]
  },
  {
   "cell_type": "code",
   "execution_count": null,
   "metadata": {},
   "outputs": [],
   "source": [
    "# Helper function to add permanent actions to the smart combination\n",
    "def add_permanent_actions_to_smart_combination(smart_comb, include_factors=True, include_reduction=False):\n",
    "    for action_type in dict_perm_loadcases.keys():\n",
    "        # Factors for this type\n",
    "        if include_factors:\n",
    "            beneficial = df_permanent_actions[df_permanent_actions['Perm Action Name'] == action_type]['Beneficial']\n",
    "            adverse    = df_permanent_actions[df_permanent_actions['Perm Action Name'] == action_type]['Adverse']\n",
    "            reduction  = df_permanent_actions[df_permanent_actions['Perm Action Name'] == action_type]['Reduction']\n",
    "            reduction  = reduction if include_reduction else 1.0\n",
    "        else:\n",
    "            beneficial = 1.0\n",
    "            adverse    = 1.0\n",
    "            reduction  = 1.0\n",
    "\n",
    "        # LUSAS Loadcases\n",
    "        for loadcase in dict_perm_loadcases[action_type]:\n",
    "            if not isinstance(loadcase, str) and np.isnan(loadcase) : continue\n",
    "\n",
    "            if not add_loadset_to_smart_comb(smart_comb, loadcase, beneficial, adverse * reduction):\n",
    "                print(f\"Permanent loadcase '{loadcase}' does not exists\")"
   ]
  },
  {
   "cell_type": "code",
   "execution_count": null,
   "metadata": {},
   "outputs": [],
   "source": [
    "# Helper function to add factored prestress loads to the smart combination\n",
    "def add_prestress_loads_to_smart_combination(smart_comb, include_factors=True):\n",
    "    for ip, rowp in df_prestress_actions.iterrows():\n",
    "        loadcase = rowp['Loadcase Name']\n",
    "        if not isinstance(loadcase, str) and np.isnan(loadcase) : continue        \n",
    "        \n",
    "        # Factors for this type\n",
    "        if include_factors:\n",
    "            beneficial = rowp['Beneficial']\n",
    "            adverse    = rowp['Adverse']\n",
    "        else:\n",
    "            beneficial = 1.0\n",
    "            adverse    = 1.0\n",
    "\n",
    "        if not add_loadset_to_smart_comb(smart_comb, loadcase, beneficial, adverse):\n",
    "            print(f\"Prestress loadcase '{loadcase}' does not exists\")"
   ]
  },
  {
   "cell_type": "markdown",
   "metadata": {},
   "source": [
    "## Equ 6.10"
   ]
  },
  {
   "cell_type": "markdown",
   "metadata": {},
   "source": [
    "$$ \\sum_{j\\ge1}{\\gamma_{G,j}G_{k,j} + \\gamma_pP + \\gamma_{Q,1}Q_{k,1}}  + \\sum_{i\\gt1}{ \\gamma_{Q,i}\\psi_{0,i}Q_{k,i}}"
   ]
  },
  {
   "cell_type": "code",
   "execution_count": null,
   "metadata": {},
   "outputs": [],
   "source": [
    "def add_loadset_to_smart_comb(smart_comb, loadcase:str, beneficial:float, adverse:float) -> bool:\n",
    "    if db.existsLoadset(loadcase):\n",
    "        loadset = db.getLoadset(loadcase)\n",
    "        type_code = loadset.getTypeCode()\n",
    "\n",
    "        if type_code <= 2:\n",
    "            smart_comb.addEntry(beneficial, (adverse-beneficial), loadset)\n",
    "        elif type_code == 3:\n",
    "            envelope1 = win32.CastTo(loadset, \"IFEnvelope\")\n",
    "            envelope2 = envelope1.getAssocLoadset()\n",
    "            smart_comb.addEntry(beneficial, (adverse-beneficial), envelope1)\n",
    "            smart_comb.addEntry(beneficial, (adverse-beneficial), envelope2)\n",
    "        elif type_code == 6:\n",
    "            smart1 = win32.CastTo(loadset, \"IFSmartCombination\")\n",
    "            smart2 = smart1.getAssocLoadset()\n",
    "            smart_comb.addEntry(beneficial, (adverse-beneficial), smart1)\n",
    "            smart_comb.addEntry(beneficial, (adverse-beneficial), smart2)\n",
    "        return True\n",
    "    else:\n",
    "        return False\n"
   ]
  },
  {
   "cell_type": "markdown",
   "metadata": {},
   "source": [
    "Equ 6.10"
   ]
  },
  {
   "cell_type": "code",
   "execution_count": null,
   "metadata": {},
   "outputs": [],
   "source": [
    "if is610:\n",
    "\n",
    "    uls_envelope = db.createEnvelope(\"ULS 6.10\")\n",
    "    uls_envelope.setTreeLocation(\"Design Envelopes\", True)\n",
    "\n",
    "    # Consider each variable action as a leading action\n",
    "    for i, row in df_variable_actions.iterrows():\n",
    "        action = row[\"Var Action Name\"]\n",
    "        load_factor = row[\"DesignFactor\"]\n",
    "        comb_factor = row[\"CombinationFactor\"]\n",
    "        \n",
    "        smart_comb = db.createCombinationSmart(f\"ULS - 610 - {action}\")\n",
    "\n",
    "        # Permanent actions\n",
    "        add_permanent_actions_to_smart_combination(smart_comb)\n",
    "\n",
    "        # Prestress actions\n",
    "        add_prestress_loads_to_smart_combination(smart_comb)\n",
    "\n",
    "        # Variable actions\n",
    "        for action_type in dict_var_loadcases.keys():\n",
    "            # Determine variable factor\n",
    "            if action_type == action:\n",
    "                adverse = load_factor                        # Leading Variable\n",
    "            else:\n",
    "                adverse = load_factor * comb_factor          # Accompanying Variable\n",
    "\n",
    "            # LUSAS Loadcases\n",
    "            for loadcase in dict_var_loadcases[action_type]:\n",
    "                if not isinstance(loadcase, str) and np.isnan(loadcase) : continue\n",
    "\n",
    "                if not add_loadset_to_smart_comb(smart_comb, loadcase, 0.0, adverse):\n",
    "                    print(f\"Variable loadcase '{loadcase}' does not exists\")\n",
    "\n",
    "\n",
    "        # Add combination to overall design envelope\n",
    "        uls_envelope.addEntry(smart_comb)\n",
    "        uls_envelope.addEntry(smart_comb.getAssocLoadset())\n",
    "        smart_comb.setTreeParent(uls_envelope)\n",
    "        smart_comb.getAssocLoadset().setTreeParent(uls_envelope.getAssocLoadset())\n"
   ]
  },
  {
   "cell_type": "markdown",
   "metadata": {},
   "source": [
    "## 6.10a Or 6.10b"
   ]
  },
  {
   "cell_type": "code",
   "execution_count": null,
   "metadata": {},
   "outputs": [],
   "source": [
    "if not is610:\n",
    "    uls_envelope = db.createEnvelope(\"ULS 6.10a or 6.10b\")\n",
    "    uls_envelope.setTreeLocation(\"Design Envelopes\", True)\n",
    "\n",
    "    uls_envelope_610a = db.createEnvelope(\"ULS 6.10a\")\n",
    "    uls_envelope_610b = db.createEnvelope(\"ULS 6.10b\")\n",
    "\n",
    "    uls_envelope.addEntry(uls_envelope_610a)\n",
    "    uls_envelope.addEntry(uls_envelope_610a.getAssocLoadset())\n",
    "\n",
    "    uls_envelope.addEntry(uls_envelope_610b)\n",
    "    uls_envelope.addEntry(uls_envelope_610b.getAssocLoadset())\n",
    "\n",
    "    uls_envelope_610a.setTreeParent(uls_envelope)\n",
    "    uls_envelope_610a.getAssocLoadset().setTreeParent(uls_envelope.getAssocLoadset())\n",
    "        \n",
    "    uls_envelope_610b.setTreeParent(uls_envelope)\n",
    "    uls_envelope_610b.getAssocLoadset().setTreeParent(uls_envelope.getAssocLoadset())\n"
   ]
  },
  {
   "cell_type": "markdown",
   "metadata": {},
   "source": [
    "# 6.10a"
   ]
  },
  {
   "cell_type": "markdown",
   "metadata": {},
   "source": [
    "$$ \\sum_{j\\ge1}{\\gamma_{G,j}G_{k,j} + \\gamma_pP + \\gamma_{Q,1}\\psi_{0,i}Q_{k,1}}  + \\sum_{i\\gt1}{ \\gamma_{Q,i}\\psi_{0,i}Q_{k,i}}"
   ]
  },
  {
   "cell_type": "code",
   "execution_count": null,
   "metadata": {},
   "outputs": [],
   "source": [
    "if not is610:\n",
    "    # Expression 610a\n",
    "    # All variable actions consider a combination factor\n",
    "    smart_comb = db.createCombinationSmart(f\"ULS - 610a\")\n",
    "\n",
    "    # Permanent actions\n",
    "    add_permanent_actions_to_smart_combination(smart_comb)\n",
    "\n",
    "    # Prestress actions\n",
    "    add_prestress_loads_to_smart_combination(smart_comb)\n",
    "\n",
    "    # Variable actions\n",
    "    for i, row in df_variable_actions.iterrows():\n",
    "        action_type = row[\"Var Action Name\"]\n",
    "        load_factor = row[\"DesignFactor\"]\n",
    "        comb_factor = row[\"CombinationFactor\"]\n",
    "\n",
    "        # Add all of the LUSAS Loadcases of the action type\n",
    "        for loadcase in dict_var_loadcases[action_type]:\n",
    "            if not isinstance(loadcase, str) and np.isnan(loadcase) : continue\n",
    "\n",
    "            if not add_loadset_to_smart_comb(smart_comb, loadcase, 0.0, load_factor * comb_factor):\n",
    "                print(f\"Variable loadcase '{loadcase}' does not exists\")\n",
    "\n",
    "\n",
    "    # Add combination to 6.10a envelope\n",
    "    uls_envelope_610a.addEntry(smart_comb)\n",
    "    uls_envelope_610a.addEntry(smart_comb.getAssocLoadset())\n",
    "    smart_comb.setTreeParent(uls_envelope_610a)\n",
    "    smart_comb.getAssocLoadset().setTreeParent(uls_envelope_610a.getAssocLoadset())"
   ]
  },
  {
   "cell_type": "markdown",
   "metadata": {},
   "source": [
    "# 6.10b"
   ]
  },
  {
   "cell_type": "markdown",
   "metadata": {},
   "source": [
    "$$ \\sum_{j\\ge1}{\\xi_j\\gamma_{G,j}G_{k,j} + \\gamma_pP + \\gamma_{Q,1}Q_{k,1}}  + \\sum_{i\\gt1}{ \\gamma_{Q,i}\\psi_{0,i}Q_{k,i}}"
   ]
  },
  {
   "cell_type": "code",
   "execution_count": null,
   "metadata": {},
   "outputs": [],
   "source": [
    "if not is610:\n",
    "    # Expression 610b\n",
    "    # Consider each variable action as a leading action\n",
    "    for i, row in df_variable_actions.iterrows():\n",
    "        action = row[\"Var Action Name\"]\n",
    "        load_factor = row[\"DesignFactor\"]\n",
    "        comb_factor = row[\"CombinationFactor\"]\n",
    "        \n",
    "        smart_comb = db.createCombinationSmart(f\"ULS - 6.10b - {action}\")\n",
    "\n",
    "        # Permanent actions with associated reduction factor\n",
    "        add_permanent_actions_to_smart_combination(smart_comb, include_reduction=True)\n",
    "\n",
    "        # Prestress actions\n",
    "        add_prestress_loads_to_smart_combination(smart_comb)\n",
    "\n",
    "        # Variable actions\n",
    "        for action_type in dict_var_loadcases.keys():\n",
    "            # Determine variable factor\n",
    "            if action_type == action:\n",
    "                adverse = load_factor                        # Leading Variable\n",
    "            else:\n",
    "                adverse = load_factor * comb_factor          # Accompanying Variable\n",
    "\n",
    "            # Add all of the LUSAS Loadcases of the action type\n",
    "            for loadcase in dict_var_loadcases[action_type]:\n",
    "                if not isinstance(loadcase, str) and np.isnan(loadcase) : continue\n",
    "\n",
    "                if not add_loadset_to_smart_comb(smart_comb, loadcase, 0.0, adverse):\n",
    "                    print(f\"Variable loadcase '{loadcase}' does not exists\")\n",
    "\n",
    "\n",
    "        # Add leading variable action combination to 6.10b envelope\n",
    "        uls_envelope_610b.addEntry(smart_comb)\n",
    "        uls_envelope_610b.addEntry(smart_comb.getAssocLoadset())\n",
    "        smart_comb.setTreeParent(uls_envelope_610b.getAssocLoadset())\n",
    "        smart_comb.getAssocLoadset().setTreeParent(uls_envelope_610b)"
   ]
  },
  {
   "cell_type": "markdown",
   "metadata": {},
   "source": [
    "# Accidental 6.11"
   ]
  },
  {
   "cell_type": "markdown",
   "metadata": {},
   "source": [
    "$$ \\sum_{j\\ge1}{G_{k,j} + P + A_{d} + (\\psi_{1,1} | \\psi_{2,1})Q_{k,1} + \\sum_{i\\gt1}{ \\psi_{2,i}Q_{k,i}}}"
   ]
  },
  {
   "cell_type": "code",
   "execution_count": null,
   "metadata": {},
   "outputs": [],
   "source": [
    "accidental_envelope = db.createEnvelope(\"Accidental 6.11\")\n",
    "accidental_envelope.setTreeLocation(\"Design Envelopes\", True)\n",
    "\n",
    "# Accidental scenarios\n",
    "for i1, rows in df_accidental_actions.iterrows():\n",
    "    acc_action = rows['Acc Action Name']\n",
    "    if not isinstance(acc_action, str) and np.isnan(acc_action) : continue \n",
    "    \n",
    "    # Consider each variable action as a leading action\n",
    "    for i, row in df_variable_actions.iterrows():\n",
    "        var_action  = row[\"Var Action Name\"]\n",
    "        load_factor = 1.0\n",
    "        freq_factor = row[\"FrequentFactor\"]\n",
    "        quasi_factor = row[\"QuasiFactor\"]\n",
    "        \n",
    "        smart_comb = db.createCombinationSmart(f\"Accidental - 611 - {acc_action} - {var_action}\")\n",
    "\n",
    "        # Permanent actions\n",
    "        add_permanent_actions_to_smart_combination(smart_comb, include_factors=False)\n",
    "\n",
    "        # Prestress actions\n",
    "        add_prestress_loads_to_smart_combination(smart_comb, include_factors=False)\n",
    "\n",
    "        # Accidental Action\n",
    "        # Factors for this type, should be 1\n",
    "        factor = rows['AccFactor']\n",
    "        # Accidental loadcases for the current accidental action\n",
    "        for loadcase_name in dict_acc_loadcases[acc_action]:\n",
    "            if not isinstance(loadcase, str) and np.isnan(loadcase) : continue\n",
    "            \n",
    "            if not add_loadset_to_smart_comb(smart_comb, loadcase_name, 0.0, factor):\n",
    "                print(f\"Accidental loadcase '{loadcase_name}' does not exists\")\n",
    "\n",
    "\n",
    "        # Variable actions\n",
    "        for action_type in dict_var_loadcases.keys():\n",
    "            # Determine variable factor\n",
    "            if action_type == action:\n",
    "                adverse = load_factor                        # Leading Variable\n",
    "            else:\n",
    "                adverse = load_factor * freq_factor          # Accompanying Variable\n",
    "\n",
    "            # LUSAS Loadcases\n",
    "            for loadcase in dict_var_loadcases[action_type]:\n",
    "                if not isinstance(loadcase, str) and np.isnan(loadcase) : continue\n",
    "\n",
    "                if not add_loadset_to_smart_comb(smart_comb, loadcase, 0.0, adverse):\n",
    "                    print(f\"Variable loadcase '{loadcase}' does not exists\")\n",
    "\n",
    "\n",
    "        # Add combination to envelope\n",
    "        accidental_envelope.addEntry(smart_comb)\n",
    "        accidental_envelope.addEntry(smart_comb.getAssocLoadset())\n",
    "        smart_comb.setTreeParent(accidental_envelope)\n",
    "        smart_comb.getAssocLoadset().setTreeParent(accidental_envelope.getAssocLoadset())    "
   ]
  },
  {
   "cell_type": "markdown",
   "metadata": {},
   "source": [
    "# Seismic 6.12"
   ]
  },
  {
   "cell_type": "markdown",
   "metadata": {},
   "source": [
    "$$ \\sum_{j\\ge1}{G_{k,j} + P + A_{Ed} + \\sum_{i\\gt1}{ \\psi_{2,i}Q_{k,i}}}"
   ]
  },
  {
   "cell_type": "code",
   "execution_count": null,
   "metadata": {},
   "outputs": [],
   "source": [
    "seismic_envelope = db.createEnvelope(\"Seismic 6.12\")\n",
    "seismic_envelope.setTreeLocation(\"Design Envelopes\", True)\n",
    "\n",
    "# Seismic scenarios\n",
    "for i1, rows in df_seismic_actions.iterrows():\n",
    "    action_name = rows['Seismic Action Name']\n",
    "    if not isinstance(action_name, str) and np.isnan(action_name) : continue    \n",
    "\n",
    "    smart_comb = db.createCombinationSmart(f\"Seismic - 612 - {action_name}\")\n",
    "\n",
    "    # Permanent actions\n",
    "    add_permanent_actions_to_smart_combination(smart_comb, include_factors=False)\n",
    "\n",
    "    # Prestress actions\n",
    "    add_prestress_loads_to_smart_combination(smart_comb, include_factors=False)\n",
    "\n",
    "    # Seimic Action\n",
    "    # Factors for this type, should be 1\n",
    "    factor = rows['SeismicFactor']\n",
    "    # Seismic loadcase should be a single envelope\n",
    "    for loadcase_name in dict_seismic_loadcases.keys():\n",
    "        if not add_loadset_to_smart_comb(smart_comb, loadcase_name, 0.0, factor):\n",
    "            print(f\"Seismic loadcase '{loadcase_name}' does not exists\")\n",
    "\n",
    "\n",
    "    # All variable actions with quasi combination factors\n",
    "    for i, row in df_variable_actions.iterrows():\n",
    "        action_type = row[\"Var Action Name\"]\n",
    "        quasi_factor = row[\"QuasiFactor\"]\n",
    "\n",
    "        # Add all of the LUSAS Loadcases of the action type\n",
    "        for loadcase in dict_var_loadcases[action_type]:\n",
    "            if not isinstance(loadcase, str) and np.isnan(loadcase) : continue\n",
    "\n",
    "            if not add_loadset_to_smart_comb(smart_comb, loadcase, 0.0, quasi_factor):\n",
    "                print(f\"Variable loadcase '{loadcase}' does not exists\")\n",
    "\n",
    "\n",
    "    # Add combination to envelope\n",
    "    seismic_envelope.addEntry(smart_comb)\n",
    "    seismic_envelope.addEntry(smart_comb.getAssocLoadset())\n",
    "    smart_comb.setTreeParent(seismic_envelope)\n",
    "    smart_comb.getAssocLoadset().setTreeParent(seismic_envelope.getAssocLoadset())"
   ]
  },
  {
   "cell_type": "markdown",
   "metadata": {},
   "source": [
    "# Characteristic 6.14"
   ]
  },
  {
   "cell_type": "markdown",
   "metadata": {},
   "source": [
    "$$ \\sum_{j\\ge1}{G_{k,j} + P + Q_{k,1}}  + \\sum_{i\\gt1}{ \\psi_{0,i}Q_{k,i}}"
   ]
  },
  {
   "cell_type": "code",
   "execution_count": null,
   "metadata": {},
   "outputs": [],
   "source": [
    "characteristic_envelope = db.createEnvelope(\"SLS Characteristic 6.14\")\n",
    "characteristic_envelope.setTreeLocation(\"Design Envelopes\", True)\n",
    "\n",
    "# Consider each variable action as a leading action\n",
    "for i, row in df_variable_actions.iterrows():\n",
    "    action = row[\"Var Action Name\"]\n",
    "    load_factor = 1.0\n",
    "    comb_factor = row[\"CombinationFactor\"]\n",
    "    \n",
    "    smart_comb = db.createCombinationSmart(f\"SLS Char - 614 - {action}\")\n",
    "\n",
    "    # Permanent actions\n",
    "    add_permanent_actions_to_smart_combination(smart_comb, include_factors=False)\n",
    "\n",
    "    # Prestress actions\n",
    "    add_prestress_loads_to_smart_combination(smart_comb, include_factors=False)\n",
    "\n",
    "    # Variable actions\n",
    "    for action_type in dict_var_loadcases.keys():\n",
    "        # Determine variable factor\n",
    "        if action_type == action:\n",
    "            adverse = load_factor                        # Leading Variable\n",
    "        else:\n",
    "            adverse = load_factor * comb_factor          # Accompanying Variable\n",
    "\n",
    "        # LUSAS Loadcases\n",
    "        for loadcase in dict_var_loadcases[action_type]:\n",
    "            if not isinstance(loadcase, str) and np.isnan(loadcase) : continue\n",
    "\n",
    "            if not add_loadset_to_smart_comb(smart_comb, loadcase, 0.0, adverse):\n",
    "                print(f\"Variable loadcase '{loadcase}' does not exists\")\n",
    "\n",
    "\n",
    "    # Add combination to overall design envelope\n",
    "    characteristic_envelope.addEntry(smart_comb)\n",
    "    characteristic_envelope.addEntry(smart_comb.getAssocLoadset())\n",
    "    smart_comb.setTreeParent(characteristic_envelope)\n",
    "    smart_comb.getAssocLoadset().setTreeParent(characteristic_envelope.getAssocLoadset())"
   ]
  },
  {
   "cell_type": "markdown",
   "metadata": {},
   "source": [
    "# Frequent 6.15"
   ]
  },
  {
   "cell_type": "markdown",
   "metadata": {},
   "source": [
    "$$ \\sum_{j\\ge1}{G_{k,j} + P + \\psi_{1,1}Q_{k,1}}  + \\sum_{i\\gt1}{ \\psi_{2,i}Q_{k,i}}"
   ]
  },
  {
   "cell_type": "code",
   "execution_count": null,
   "metadata": {},
   "outputs": [],
   "source": [
    "frequent_envelope = db.createEnvelope(\"SLS Frequent 6.15\")\n",
    "frequent_envelope.setTreeLocation(\"Design Envelopes\", True)\n",
    "\n",
    "# Consider each variable action as a leading action\n",
    "for i, row in df_variable_actions.iterrows():\n",
    "    action = row[\"Var Action Name\"]\n",
    "    load_factor = 1.0\n",
    "    freq_factor = row[\"FrequentFactor\"]\n",
    "    quasi_factor = row[\"QuasiFactor\"]   \n",
    "    \n",
    "    smart_comb = db.createCombinationSmart(f\"SLS Freq - 615 - {action}\")\n",
    "\n",
    "    # Permanent actions\n",
    "    add_permanent_actions_to_smart_combination(smart_comb, include_factors=False)\n",
    "\n",
    "    # Prestress actions\n",
    "    add_prestress_loads_to_smart_combination(smart_comb, include_factors=False)\n",
    "\n",
    "    # Variable actions\n",
    "    for action_type in dict_var_loadcases.keys():\n",
    "        # Determine variable factor\n",
    "        if action_type == action:\n",
    "            adverse = load_factor * freq_factor           # Leading Variable\n",
    "        else:\n",
    "            adverse = load_factor * quasi_factor          # Accompanying Variable\n",
    "\n",
    "        # LUSAS Loadcases\n",
    "        for loadcase in dict_var_loadcases[action_type]:\n",
    "            if not isinstance(loadcase, str) and np.isnan(loadcase) : continue\n",
    "\n",
    "            if not add_loadset_to_smart_comb(smart_comb, loadcase, 0.0, adverse):\n",
    "                print(f\"Variable loadcase '{loadcase}' does not exists\")\n",
    "\n",
    "\n",
    "    # Add combination to overall design envelope\n",
    "    frequent_envelope.addEntry(smart_comb)\n",
    "    frequent_envelope.addEntry(smart_comb.getAssocLoadset())\n",
    "    smart_comb.setTreeParent(frequent_envelope)\n",
    "    smart_comb.getAssocLoadset().setTreeParent(frequent_envelope.getAssocLoadset())"
   ]
  },
  {
   "cell_type": "markdown",
   "metadata": {},
   "source": [
    "# Quasi-permanent 6.16"
   ]
  },
  {
   "cell_type": "markdown",
   "metadata": {},
   "source": [
    "$$ \\sum_{j\\ge1}{G_{k,j} + P + \\sum_{i\\gt1}{ \\psi_{2,i}Q_{k,i}}}"
   ]
  },
  {
   "cell_type": "code",
   "execution_count": null,
   "metadata": {},
   "outputs": [],
   "source": [
    "quasi_envelope = db.createEnvelope(\"SLS Quasi-Permanent 6.16\")\n",
    "quasi_envelope.setTreeLocation(\"Design Envelopes\", True)    \n",
    "\n",
    "# All variable actions consider a quasi-permanent factor\n",
    "smart_comb = db.createCombinationSmart(f\"SLS Quasi - 616\")\n",
    "\n",
    "# Permanent actions\n",
    "add_permanent_actions_to_smart_combination(smart_comb, include_factors=False)\n",
    "\n",
    "# Prestress actions\n",
    "add_prestress_loads_to_smart_combination(smart_comb, include_factors=False)\n",
    "\n",
    "# Variable actions\n",
    "for i, row in df_variable_actions.iterrows():\n",
    "    action_type = row[\"Var Action Name\"]\n",
    "    quasi_factor = row[\"QuasiFactor\"]\n",
    "\n",
    "    # Add all of the LUSAS Loadcases of the action type\n",
    "    for loadcase in dict_var_loadcases[action_type]:\n",
    "        if not isinstance(loadcase, str) and np.isnan(loadcase) : continue\n",
    "\n",
    "        if not add_loadset_to_smart_comb(smart_comb, loadcase, 0.0, quasi_factor):\n",
    "            print(f\"Variable loadcase '{loadcase}' does not exists\")\n",
    "\n",
    "\n",
    "# Add combination to envelope\n",
    "quasi_envelope.addEntry(smart_comb)\n",
    "quasi_envelope.addEntry(smart_comb.getAssocLoadset())\n",
    "smart_comb.setTreeParent(quasi_envelope)\n",
    "smart_comb.getAssocLoadset().setTreeParent(quasi_envelope.getAssocLoadset())"
   ]
  }
 ],
 "metadata": {
  "kernelspec": {
   "display_name": "Python 3",
   "language": "python",
   "name": "python3"
  },
  "language_info": {
   "codemirror_mode": {
    "name": "ipython",
    "version": 3
   },
   "file_extension": ".py",
   "mimetype": "text/x-python",
   "name": "python",
   "nbconvert_exporter": "python",
   "pygments_lexer": "ipython3",
   "version": "3.12.3"
  }
 },
 "nbformat": 4,
 "nbformat_minor": 2
}
