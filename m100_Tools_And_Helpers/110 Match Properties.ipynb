{
 "cells": [
  {
   "cell_type": "markdown",
   "metadata": {},
   "source": [
    "<H2>Match properties (assignments) between two surfaces</H2>"
   ]
  },
  {
   "cell_type": "code",
   "execution_count": null,
   "metadata": {},
   "outputs": [],
   "source": [
    "import sys; sys.path.append('../') # Reference modules in parent directory\n",
    "from LPI_22_0 import *\n",
    "lusas = get_lusas_modeller()\n",
    "if not lusas.existsDatabase():\n",
    "    raise Exception(\"A model must be open before running this code\")\n",
    "db = lusas.database()"
   ]
  },
  {
   "cell_type": "markdown",
   "metadata": {},
   "source": [
    "This code will copy the various assignments from the first surface selected to all remaining surfaces in the selection. The option to copy the mesh is provided as reassigning a mesh attribute will require the model to be re-meshed and this is not always wanted until all modelling work is complete"
   ]
  },
  {
   "cell_type": "code",
   "execution_count": null,
   "metadata": {},
   "outputs": [],
   "source": [
    "copy_mesh = True"
   ]
  },
  {
   "cell_type": "markdown",
   "metadata": {},
   "source": [
    "First define a helper function to copy assignments"
   ]
  },
  {
   "cell_type": "code",
   "execution_count": null,
   "metadata": {},
   "outputs": [],
   "source": [
    "def copy_assignments(surfaces:list, attrType:str) -> None:\n",
    "\t# Get a list of the assignments for the given attribute\n",
    "\tprimary_assignments = surfaces[0].getAssignments(attrType)\n",
    "\t# For each assignment get the corresponding attribute\n",
    "\tfor a in range(0, len(primary_assignments)):\n",
    "\t\tattr = primary_assignments[a].getAttribute()\n",
    "\t\t# and assign it to the remaining selected surfaces, using the original assignment details\n",
    "\t\tfor i in range(1, len(surfaces)):\n",
    "\t\t\tattr.assignTo(surfaces[i], primary_assignments[a])\n"
   ]
  },
  {
   "cell_type": "markdown",
   "metadata": {},
   "source": [
    "And a helper function to copy groups"
   ]
  },
  {
   "cell_type": "code",
   "execution_count": null,
   "metadata": {},
   "outputs": [],
   "source": [
    "def copy_groups(surfaces:list) -> None:\n",
    "\tfor g in db.getObjects(\"Group\"):\n",
    "\t\tif surfaces[0].isMemberOfGroup(g):\n",
    "\t\t\tfor i in range(1, len(surfaces)):\n",
    "\t\t\t\tg.add(surfaces[i])"
   ]
  },
  {
   "cell_type": "markdown",
   "metadata": {},
   "source": [
    "Finally a helper function to cycle a surface orientation relative to the first surface"
   ]
  },
  {
   "cell_type": "code",
   "execution_count": null,
   "metadata": {},
   "outputs": [],
   "source": [
    "def cycle_relative():\n",
    "\ttempSetA = lusas.newObjectSet()\n",
    "\ttempSetA.add(lusas.selection(), \"Surface\")\n",
    "\ttempSetA.cycleRelative(lusas.geometryData().setAllDefaults())\n"
   ]
  },
  {
   "cell_type": "markdown",
   "metadata": {},
   "source": [
    "Now we'll copy the assignments of the following attributes, additional attributes can easily be specified by adding a new line with the attribute type"
   ]
  },
  {
   "cell_type": "code",
   "execution_count": 4,
   "metadata": {},
   "outputs": [],
   "source": [
    "if lusas.selection().countSurfaces() < 2:\n",
    "\tlusas.AfxMsgBox(\"You must select at least two surfaces\")\n",
    "else:\n",
    "\t# get the list of selected surfaces\n",
    "\tsurfaces = lusas.selection().getObjects(\"Surface\")\n",
    "\n",
    "\tcopy_assignments(surfaces, \"Geometric\")\n",
    "\tcopy_assignments(surfaces, \"Material\")\n",
    "\tcopy_assignments(surfaces, \"Loading\")\n",
    "\tcopy_assignments(surfaces, \"Supports\")\n",
    "\tcopy_assignments(surfaces, \"Search Area\")\n",
    "\tcopy_assignments(surfaces, \"Wood-Armer\")\n",
    "\tcopy_assignments(surfaces, \"Design\")\n",
    "\n",
    "\tif copy_mesh: # Causes re-mesh\n",
    "\t\tcycle_relative()\n",
    "\t\tcopy_assignments(surfaces, \"Mesh\")\t\n"
   ]
  }
 ],
 "metadata": {
  "kernelspec": {
   "display_name": "Python 3",
   "language": "python",
   "name": "python3"
  },
  "language_info": {
   "codemirror_mode": {
    "name": "ipython",
    "version": 3
   },
   "file_extension": ".py",
   "mimetype": "text/x-python",
   "name": "python",
   "nbconvert_exporter": "python",
   "pygments_lexer": "ipython3",
   "version": "3.10.4"
  }
 },
 "nbformat": 4,
 "nbformat_minor": 2
}
