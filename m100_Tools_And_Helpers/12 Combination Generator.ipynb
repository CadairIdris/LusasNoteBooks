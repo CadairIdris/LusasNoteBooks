{
 "cells": [
  {
   "cell_type": "markdown",
   "metadata": {},
   "source": [
    "# Combination Generator"
   ]
  },
  {
   "cell_type": "code",
   "execution_count": 182,
   "metadata": {},
   "outputs": [],
   "source": [
    "import pandas as pd\n",
    "import numpy as np\n",
    "import win32com.client as win32\n",
    "lusas = win32.gencache.EnsureDispatch(\"Lusas.Modeller.21.1\")\n",
    "db = lusas.database()"
   ]
  },
  {
   "cell_type": "markdown",
   "metadata": {},
   "source": [
    "Read the excel definitions"
   ]
  },
  {
   "cell_type": "code",
   "execution_count": 183,
   "metadata": {},
   "outputs": [],
   "source": [
    "file_name = \"12 Combinations.xlsx\"\n",
    "actions_sheet = \"Actions\"\n",
    "do_print = False"
   ]
  },
  {
   "cell_type": "code",
   "execution_count": 184,
   "metadata": {},
   "outputs": [],
   "source": [
    "df_permanent = pd.read_excel(file_name, sheet_name=actions_sheet, usecols=range(0,3), header=1).dropna()\n",
    "if do_print : print(df_permanent.head())"
   ]
  },
  {
   "cell_type": "code",
   "execution_count": 185,
   "metadata": {},
   "outputs": [],
   "source": [
    "df_variable = pd.read_excel(file_name, sheet_name=actions_sheet, usecols=range(4,9), header=1).dropna()\n",
    "if do_print : print(df_variable.head())"
   ]
  },
  {
   "cell_type": "code",
   "execution_count": 186,
   "metadata": {},
   "outputs": [],
   "source": [
    "df_prestress = pd.read_excel(file_name, sheet_name=actions_sheet, usecols=range(10,13), header=1).dropna()\n",
    "if do_print : print(df_prestress.head())"
   ]
  },
  {
   "cell_type": "code",
   "execution_count": 187,
   "metadata": {},
   "outputs": [],
   "source": [
    "df_accidental = pd.read_excel(file_name, sheet_name=actions_sheet, usecols=range(14,16), header=1).dropna()\n",
    "if do_print : print(df_accidental.head())"
   ]
  },
  {
   "cell_type": "code",
   "execution_count": 188,
   "metadata": {},
   "outputs": [
    {
     "name": "stdout",
     "output_type": "stream",
     "text": [
      "      Action Name        Loadcase Name      Loadcase Name.1\n",
      "0  Permanent load          Self Weight  Self Weight Railing\n",
      "1    SuperImposed            Surfacing                  NaN\n",
      "2      Settlement  Settlement Envelope                  NaN\n",
      "3       Shrinkage            Shrinkage                  NaN\n",
      "{'Permanent load': ['Self Weight', 'Self Weight Railing'], 'SuperImposed': ['Surfacing', nan], 'Settlement': ['Settlement Envelope', nan], 'Shrinkage': ['Shrinkage', nan]}\n"
     ]
    }
   ],
   "source": [
    "df_perm_loadcases = pd.read_excel(file_name, sheet_name=\"PermanentLoadcases\")\n",
    "print(df_perm_loadcases.head())\n",
    "dict_perm_loadcases = df_perm_loadcases.set_index('Action Name').T.to_dict('list')\n",
    "print(dict_perm_loadcases)"
   ]
  },
  {
   "cell_type": "code",
   "execution_count": 189,
   "metadata": {},
   "outputs": [],
   "source": [
    "df_var_loadcases = pd.read_excel(file_name, sheet_name=\"VariableLoadcases\")\n",
    "if do_print : print(df_var_loadcases.head())\n",
    "dict_var_loadcases = df_var_loadcases.set_index('Action Name').T.to_dict('list')"
   ]
  },
  {
   "cell_type": "code",
   "execution_count": 190,
   "metadata": {},
   "outputs": [],
   "source": [
    "df_acc_loadcases = pd.read_excel(file_name, sheet_name=\"AccidentalLoadcases\")\n",
    "if do_print : print(df_acc_loadcases.head())"
   ]
  },
  {
   "cell_type": "code",
   "execution_count": 191,
   "metadata": {},
   "outputs": [
    {
     "name": "stderr",
     "output_type": "stream",
     "text": [
      "C:\\Users\\rob\\AppData\\Local\\Temp\\gen_py\\3.12\\AC0CF861-2101-11CF-91D8-0020AFC19F64x0x21x1\\IFSmartCombination.py:46: FutureWarning: Calling float on a single element Series is deprecated and will raise a TypeError in the future. Use float(ser.iloc[0]) instead\n",
      "  ret = self._oleobj_.InvokeTypes(1610874881, LCID, 1, (9, 0), ((5, 1), (5, 1), (12, 1), (12, 17), (12, 17), (12, 17)),factor\n"
     ]
    }
   ],
   "source": [
    "for i, row in df_variable.iterrows():\n",
    "    action = row[\"Var Action Name\"]\n",
    "    load_factor = row[\"DesignFactor\"]\n",
    "    comb_factor = row[\"CombinationFactor\"]\n",
    "    freq_factor = row[\"FrequentFactor\"]\n",
    "    quas_factor = row[\"QuasiFactor\"]\n",
    "    \n",
    "    smart_comb = db.createCombinationSmart(f\"ULS - {action}\")\n",
    "\n",
    "\n",
    "    # Permanent actions\n",
    "    for action_type in dict_perm_loadcases.keys():\n",
    "        # Factors for this type\n",
    "        beneficial = df_permanent[df_permanent['Perm Action Name'] == action_type]['Beneficial']\n",
    "        adverse    = df_permanent[df_permanent['Perm Action Name'] == action_type]['Adverse']\n",
    "\n",
    "        # LUSAS Loadcases\n",
    "        for loadcase in dict_perm_loadcases[action_type]:\n",
    "            if not isinstance(loadcase, str) and np.isnan(loadcase) : continue\n",
    "\n",
    "            if db.existsLoadset(loadcase):\n",
    "                loadset = db.getLoadset(loadcase)\n",
    "                type_code = loadset.getTypeCode()\n",
    "\n",
    "                if type_code <= 2:\n",
    "                    smart_comb.addEntry(beneficial, (adverse-beneficial), loadset)\n",
    "                elif type_code == 3:\n",
    "                    envelope1 = win32.CastTo(loadset, \"IFEnvelope\")\n",
    "                    envelope2 = envelope1.getAssocLoadset()\n",
    "                    smart_comb.addEntry(beneficial, (adverse-beneficial), envelope1)\n",
    "                    smart_comb.addEntry(beneficial, (adverse-beneficial), envelope2)\n",
    "                elif type_code == 6:\n",
    "                    smart1 = win32.CastTo(loadset, \"IFSmartCombination\")\n",
    "                    smart2 = smart1.getAssocLoadset()\n",
    "                    smart_comb.addEntry(beneficial, (adverse-beneficial), smart1)\n",
    "                    smart_comb.addEntry(beneficial, (adverse-beneficial), smart2)\n",
    "            else:\n",
    "                print(f\"Permanent loadcase '{loadcase}' does not exists\")\n",
    "\n",
    "\n",
    "    # Variable actions\n",
    "    for action_type in dict_var_loadcases.keys():\n",
    "        # Determine variable factor\n",
    "        if action_type == action:\n",
    "            adverse_factor = load_factor                        # Leading Variable\n",
    "        else:\n",
    "            adverse_factor = load_factor * comb_factor          # Accompanying Variable\n",
    "\n",
    "        # LUSAS Loadcases\n",
    "        for loadcase in dict_var_loadcases[action_type]:\n",
    "            if not isinstance(loadcase, str) and np.isnan(loadcase) : continue\n",
    "\n",
    "            if db.existsLoadset(loadcase):\n",
    "                loadset = db.getLoadset(loadcase)\n",
    "                type_code = loadset.getTypeCode()\n",
    "\n",
    "                if type_code <= 2:\n",
    "                    smart_comb.addEntry(0.0, adverse_factor, loadset)\n",
    "                elif type_code == 3:\n",
    "                    envelope1 = win32.CastTo(loadset, \"IFEnvelope\")\n",
    "                    envelope2 = envelope1.getAssocLoadset()\n",
    "                    smart_comb.addEntry(0.0, adverse_factor, envelope1)\n",
    "                    smart_comb.addEntry(0.0, adverse_factor, envelope2)\n",
    "                elif type_code == 6:\n",
    "                    smart1 = win32.CastTo(loadset, \"IFSmartCombination\")\n",
    "                    smart2 = smart1.getAssocLoadset()\n",
    "                    smart_comb.addEntry(0.0, adverse_factor, smart1)\n",
    "                    smart_comb.addEntry(0.0, adverse_factor, smart2)\n",
    "            else:\n",
    "                print(f\"Variable loadcase '{loadcase}' does not exists\")\n",
    "\n",
    "\n",
    "\n",
    "\n"
   ]
  }
 ],
 "metadata": {
  "kernelspec": {
   "display_name": "Python 3",
   "language": "python",
   "name": "python3"
  },
  "language_info": {
   "codemirror_mode": {
    "name": "ipython",
    "version": 3
   },
   "file_extension": ".py",
   "mimetype": "text/x-python",
   "name": "python",
   "nbconvert_exporter": "python",
   "pygments_lexer": "ipython3",
   "version": "3.12.3"
  }
 },
 "nbformat": 4,
 "nbformat_minor": 2
}
