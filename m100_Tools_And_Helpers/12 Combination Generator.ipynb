{
 "cells": [
  {
   "cell_type": "markdown",
   "metadata": {},
   "source": [
    "# Combination Generator"
   ]
  },
  {
   "cell_type": "code",
   "execution_count": 182,
   "metadata": {},
   "outputs": [],
   "source": [
    "import pandas as pd\n",
    "import numpy as np\n",
    "import win32com.client as win32\n",
    "lusas = win32.gencache.EnsureDispatch(\"Lusas.Modeller.21.1\")\n",
    "db = lusas.database()"
   ]
  },
  {
   "cell_type": "markdown",
   "metadata": {},
   "source": [
    "Read the excel definitions"
   ]
  },
  {
   "cell_type": "code",
   "execution_count": 183,
   "metadata": {},
   "outputs": [],
   "source": [
    "file_name = \"12 Combinations.xlsx\"\n",
    "actions_sheet = \"Actions\"\n",
    "do_print = False"
   ]
  },
  {
   "cell_type": "code",
   "execution_count": 184,
   "metadata": {},
   "outputs": [],
   "source": [
    "df_permanent = pd.read_excel(file_name, sheet_name=actions_sheet, usecols=range(0,3), header=1).dropna()\n",
    "if do_print : print(df_permanent.head())"
   ]
  },
  {
   "cell_type": "code",
   "execution_count": 185,
   "metadata": {},
   "outputs": [],
   "source": [
    "df_variable = pd.read_excel(file_name, sheet_name=actions_sheet, usecols=range(4,9), header=1).dropna()\n",
    "if do_print : print(df_variable.head())"
   ]
  },
  {
   "cell_type": "code",
   "execution_count": 186,
   "metadata": {},
   "outputs": [],
   "source": [
    "df_prestress = pd.read_excel(file_name, sheet_name=actions_sheet, usecols=range(10,13), header=1).dropna()\n",
    "if do_print : print(df_prestress.head())"
   ]
  },
  {
   "cell_type": "code",
   "execution_count": 187,
   "metadata": {},
   "outputs": [],
   "source": [
    "df_accidental = pd.read_excel(file_name, sheet_name=actions_sheet, usecols=range(14,16), header=1).dropna()\n",
    "if do_print : print(df_accidental.head())"
   ]
  },
  {
   "cell_type": "code",
   "execution_count": null,
   "metadata": {},
   "outputs": [],
   "source": [
    "df_perm_loadcases = pd.read_excel(file_name, sheet_name=\"PermanentLoadcases\")\n",
    "print(df_perm_loadcases.head())\n",
    "dict_perm_loadcases = df_perm_loadcases.set_index('Action Name').T.to_dict('list')\n",
    "print(dict_perm_loadcases)"
   ]
  },
  {
   "cell_type": "code",
   "execution_count": 189,
   "metadata": {},
   "outputs": [],
   "source": [
    "df_var_loadcases = pd.read_excel(file_name, sheet_name=\"VariableLoadcases\")\n",
    "if do_print : print(df_var_loadcases.head())\n",
    "dict_var_loadcases = df_var_loadcases.set_index('Action Name').T.to_dict('list')"
   ]
  },
  {
   "cell_type": "code",
   "execution_count": 190,
   "metadata": {},
   "outputs": [],
   "source": [
    "df_acc_loadcases = pd.read_excel(file_name, sheet_name=\"AccidentalLoadcases\")\n",
    "if do_print : print(df_acc_loadcases.head())"
   ]
  },
  {
   "cell_type": "code",
   "execution_count": null,
   "metadata": {},
   "outputs": [],
   "source": [
    "def add_loadset_to_smart_comb(smart_comb, loadcase:str, beneficial:float, adverse:float) -> bool:\n",
    "    if db.existsLoadset(loadcase):\n",
    "        loadset = db.getLoadset(loadcase)\n",
    "        type_code = loadset.getTypeCode()\n",
    "\n",
    "        if type_code <= 2:\n",
    "            smart_comb.addEntry(beneficial, (adverse-beneficial), loadset)\n",
    "        elif type_code == 3:\n",
    "            envelope1 = win32.CastTo(loadset, \"IFEnvelope\")\n",
    "            envelope2 = envelope1.getAssocLoadset()\n",
    "            smart_comb.addEntry(beneficial, (adverse-beneficial), envelope1)\n",
    "            smart_comb.addEntry(beneficial, (adverse-beneficial), envelope2)\n",
    "        elif type_code == 6:\n",
    "            smart1 = win32.CastTo(loadset, \"IFSmartCombination\")\n",
    "            smart2 = smart1.getAssocLoadset()\n",
    "            smart_comb.addEntry(beneficial, (adverse-beneficial), smart1)\n",
    "            smart_comb.addEntry(beneficial, (adverse-beneficial), smart2)\n",
    "        return True\n",
    "    else:\n",
    "        return False\n"
   ]
  },
  {
   "cell_type": "markdown",
   "metadata": {},
   "source": [
    "Equ 6.10"
   ]
  },
  {
   "cell_type": "code",
   "execution_count": null,
   "metadata": {},
   "outputs": [],
   "source": [
    "uls_envelope = db.createEnvelope(\"ULS 6.10\")\n",
    "\n",
    "# Consider each variable action as a leading action\n",
    "for i, row in df_variable.iterrows():\n",
    "    action = row[\"Var Action Name\"]\n",
    "    load_factor = row[\"DesignFactor\"]\n",
    "    comb_factor = row[\"CombinationFactor\"]\n",
    "    \n",
    "    smart_comb = db.createCombinationSmart(f\"ULS - {action}\")\n",
    "\n",
    "    # Permanent actions\n",
    "    for action_type in dict_perm_loadcases.keys():\n",
    "        # Factors for this type\n",
    "        beneficial = df_permanent[df_permanent['Perm Action Name'] == action_type]['Beneficial']\n",
    "        adverse    = df_permanent[df_permanent['Perm Action Name'] == action_type]['Adverse']\n",
    "\n",
    "        # LUSAS Loadcases\n",
    "        for loadcase in dict_perm_loadcases[action_type]:\n",
    "            if not isinstance(loadcase, str) and np.isnan(loadcase) : continue\n",
    "\n",
    "            if not add_loadset_to_smart_comb(smart_comb, loadcase, beneficial, adverse):\n",
    "                print(f\"Permanent loadcase '{loadcase}' does not exists\")\n",
    "\n",
    "\n",
    "    # Variable actions\n",
    "    for action_type in dict_var_loadcases.keys():\n",
    "        # Determine variable factor\n",
    "        if action_type == action:\n",
    "            adverse = load_factor                        # Leading Variable\n",
    "        else:\n",
    "            adverse = load_factor * comb_factor          # Accompanying Variable\n",
    "\n",
    "        # LUSAS Loadcases\n",
    "        for loadcase in dict_var_loadcases[action_type]:\n",
    "            if not isinstance(loadcase, str) and np.isnan(loadcase) : continue\n",
    "\n",
    "            if not add_loadset_to_smart_comb(smart_comb, loadcase, 0.0, adverse):\n",
    "                print(f\"Variable loadcase '{loadcase}' does not exists\")\n",
    "\n",
    "\n",
    "    # Prestress actions\n",
    "    for ip, rowp in df_prestress.iterrows():\n",
    "        loadcase = rowp['Loadcase Name']\n",
    "        if not isinstance(loadcase, str) and np.isnan(loadcase) : continue        \n",
    "        \n",
    "        # Factors for this type\n",
    "        beneficial = rowp['Beneficial']\n",
    "        adverse    = rowp['Adverse']\n",
    "\n",
    "        if not add_loadset_to_smart_comb(smart_comb, loadcase, beneficial, adverse):\n",
    "            print(f\"Prestress loadcase '{loadcase}' does not exists\")\n",
    "\n",
    "    uls_envelope.addEntry(smart_comb)\n",
    "    uls_envelope.addEntry(smart_comb.getAssocLoadset())\n",
    "    smart_comb.setTreeParent(uls_envelope)\n"
   ]
  }
 ],
 "metadata": {
  "kernelspec": {
   "display_name": "Python 3",
   "language": "python",
   "name": "python3"
  },
  "language_info": {
   "codemirror_mode": {
    "name": "ipython",
    "version": 3
   },
   "file_extension": ".py",
   "mimetype": "text/x-python",
   "name": "python",
   "nbconvert_exporter": "python",
   "pygments_lexer": "ipython3",
   "version": "3.12.3"
  }
 },
 "nbformat": 4,
 "nbformat_minor": 2
}
