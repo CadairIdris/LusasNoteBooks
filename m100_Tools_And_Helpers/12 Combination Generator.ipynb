{
 "cells": [
  {
   "cell_type": "markdown",
   "metadata": {},
   "source": [
    "# Combination Generator"
   ]
  },
  {
   "cell_type": "code",
   "execution_count": 298,
   "metadata": {},
   "outputs": [],
   "source": [
    "import pandas as pd\n",
    "import numpy as np\n",
    "import win32com.client as win32\n",
    "lusas = win32.gencache.EnsureDispatch(\"Lusas.Modeller.21.1\")\n",
    "db = lusas.database()"
   ]
  },
  {
   "cell_type": "markdown",
   "metadata": {},
   "source": [
    "Read the excel definitions"
   ]
  },
  {
   "cell_type": "code",
   "execution_count": 299,
   "metadata": {},
   "outputs": [],
   "source": [
    "file_name = \"12 Combinations.xlsx\"\n",
    "actions_sheet = \"Actions\"\n",
    "do_print = False # Print out each of the input tables for debugging\n",
    "is610 = True    # Create combination 6.10 or 6.10a and 6.10b"
   ]
  },
  {
   "cell_type": "code",
   "execution_count": 300,
   "metadata": {},
   "outputs": [],
   "source": [
    "df_permanent = pd.read_excel(file_name, sheet_name=actions_sheet, usecols=range(0,4), header=1).dropna()\n",
    "if do_print : print(df_permanent.head())"
   ]
  },
  {
   "cell_type": "code",
   "execution_count": 301,
   "metadata": {},
   "outputs": [],
   "source": [
    "df_variable = pd.read_excel(file_name, sheet_name=actions_sheet, usecols=range(5,10), header=1).dropna()\n",
    "if do_print : print(df_variable.head())"
   ]
  },
  {
   "cell_type": "code",
   "execution_count": 302,
   "metadata": {},
   "outputs": [],
   "source": [
    "df_prestress = pd.read_excel(file_name, sheet_name=actions_sheet, usecols=range(11,14), header=1).dropna()\n",
    "df_prestress.columns = df_prestress.columns.str.replace(r'.\\d+', '', regex=True)\n",
    "if do_print : print(df_prestress.head())"
   ]
  },
  {
   "cell_type": "code",
   "execution_count": 303,
   "metadata": {},
   "outputs": [],
   "source": [
    "df_accidental = pd.read_excel(file_name, sheet_name=actions_sheet, usecols=range(15,17), header=1).dropna()\n",
    "if do_print : print(df_accidental.head())"
   ]
  },
  {
   "cell_type": "code",
   "execution_count": 304,
   "metadata": {},
   "outputs": [],
   "source": [
    "df_perm_loadcases = pd.read_excel(file_name, sheet_name=\"PermanentLoadcases\")\n",
    "if do_print : print(df_perm_loadcases.head())\n",
    "dict_perm_loadcases = df_perm_loadcases.set_index('Action Name').T.to_dict('list')\n",
    "if do_print : print(dict_perm_loadcases)"
   ]
  },
  {
   "cell_type": "code",
   "execution_count": 305,
   "metadata": {},
   "outputs": [],
   "source": [
    "df_var_loadcases = pd.read_excel(file_name, sheet_name=\"VariableLoadcases\")\n",
    "if do_print : print(df_var_loadcases.head())\n",
    "dict_var_loadcases = df_var_loadcases.set_index('Action Name').T.to_dict('list')"
   ]
  },
  {
   "cell_type": "code",
   "execution_count": 306,
   "metadata": {},
   "outputs": [],
   "source": [
    "df_acc_loadcases = pd.read_excel(file_name, sheet_name=\"AccidentalLoadcases\")\n",
    "if do_print : print(df_acc_loadcases.head())"
   ]
  },
  {
   "cell_type": "code",
   "execution_count": 307,
   "metadata": {},
   "outputs": [],
   "source": [
    "# Helper method to add different loadcase types to a smart combination\n",
    "def add_loadset_to_smart_comb(smart_comb, loadcase:str, beneficial:float, adverse:float) -> bool:\n",
    "    if db.existsLoadset(loadcase):\n",
    "        loadset = db.getLoadset(loadcase)\n",
    "        type_code = loadset.getTypeCode()\n",
    "\n",
    "        if type_code <= 2:\n",
    "            smart_comb.addEntry(beneficial, (adverse-beneficial), loadset)\n",
    "        elif type_code == 3:\n",
    "            envelope1 = win32.CastTo(loadset, \"IFEnvelope\")\n",
    "            envelope2 = envelope1.getAssocLoadset()\n",
    "            smart_comb.addEntry(beneficial, (adverse-beneficial), envelope1)\n",
    "            smart_comb.addEntry(beneficial, (adverse-beneficial), envelope2)\n",
    "        elif type_code == 6:\n",
    "            smart1 = win32.CastTo(loadset, \"IFSmartCombination\")\n",
    "            smart2 = smart1.getAssocLoadset()\n",
    "            smart_comb.addEntry(beneficial, (adverse-beneficial), smart1)\n",
    "            smart_comb.addEntry(beneficial, (adverse-beneficial), smart2)\n",
    "        return True\n",
    "    else:\n",
    "        return False\n"
   ]
  },
  {
   "cell_type": "code",
   "execution_count": 308,
   "metadata": {},
   "outputs": [],
   "source": [
    "# Helper function to add permanent actions to the smart combination\n",
    "def add_permanent_actions_to_smart_combination(smart_comb, include_reduction=False):\n",
    "    for action_type in dict_perm_loadcases.keys():\n",
    "        # Factors for this type\n",
    "        beneficial = df_permanent[df_permanent['Perm Action Name'] == action_type]['Beneficial']\n",
    "        adverse    = df_permanent[df_permanent['Perm Action Name'] == action_type]['Adverse']\n",
    "        reduction  = df_permanent[df_permanent['Perm Action Name'] == action_type]['Reduction']\n",
    "        reduction  = reduction if include_reduction else 1.0\n",
    "\n",
    "        # LUSAS Loadcases\n",
    "        for loadcase in dict_perm_loadcases[action_type]:\n",
    "            if not isinstance(loadcase, str) and np.isnan(loadcase) : continue\n",
    "\n",
    "            if not add_loadset_to_smart_comb(smart_comb, loadcase, beneficial, adverse * reduction):\n",
    "                print(f\"Permanent loadcase '{loadcase}' does not exists\")"
   ]
  },
  {
   "cell_type": "code",
   "execution_count": 309,
   "metadata": {},
   "outputs": [],
   "source": [
    "# Helper function to add factored prestress loads to the smart combination\n",
    "def add_prestress_loads_to_smart_combination(smart_comb):\n",
    "    for ip, rowp in df_prestress.iterrows():\n",
    "        loadcase = rowp['Loadcase Name']\n",
    "        if not isinstance(loadcase, str) and np.isnan(loadcase) : continue        \n",
    "        \n",
    "        # Factors for this type\n",
    "        beneficial = rowp['Beneficial']\n",
    "        adverse    = rowp['Adverse']\n",
    "\n",
    "        if not add_loadset_to_smart_comb(smart_comb, loadcase, beneficial, adverse):\n",
    "            print(f\"Prestress loadcase '{loadcase}' does not exists\")"
   ]
  },
  {
   "cell_type": "markdown",
   "metadata": {},
   "source": [
    "## Equ 6.10"
   ]
  },
  {
   "cell_type": "markdown",
   "metadata": {},
   "source": [
    "$$ \\sum_{j\\ge1}{\\gamma_{G,j}G_{k,j} + \\gamma_pP + \\gamma_{Q,1}Q_{k,1}}  + \\sum_{i\\gt1}{ \\gamma_{Q,i}\\psi_{0,i}Q_{k,i}}"
   ]
  },
  {
   "cell_type": "code",
   "execution_count": 310,
   "metadata": {},
   "outputs": [],
   "source": [
    "if is610:\n",
    "\n",
    "    uls_envelope = db.createEnvelope(\"ULS 6.10\")\n",
    "    uls_envelope.setTreeLocation(\"Design Envelopes\", True)\n",
    "\n",
    "    # Consider each variable action as a leading action\n",
    "    for i, row in df_variable.iterrows():\n",
    "        action = row[\"Var Action Name\"]\n",
    "        load_factor = row[\"DesignFactor\"]\n",
    "        comb_factor = row[\"CombinationFactor\"]\n",
    "        \n",
    "        smart_comb = db.createCombinationSmart(f\"ULS - 610 - {action}\")\n",
    "\n",
    "        # Permanent actions\n",
    "        add_permanent_actions_to_smart_combination(smart_comb)\n",
    "\n",
    "        # Prestress actions\n",
    "        add_prestress_loads_to_smart_combination(smart_comb)\n",
    "\n",
    "        # Variable actions\n",
    "        for action_type in dict_var_loadcases.keys():\n",
    "            # Determine variable factor\n",
    "            if action_type == action:\n",
    "                adverse = load_factor                        # Leading Variable\n",
    "            else:\n",
    "                adverse = load_factor * comb_factor          # Accompanying Variable\n",
    "\n",
    "            # LUSAS Loadcases\n",
    "            for loadcase in dict_var_loadcases[action_type]:\n",
    "                if not isinstance(loadcase, str) and np.isnan(loadcase) : continue\n",
    "\n",
    "                if not add_loadset_to_smart_comb(smart_comb, loadcase, 0.0, adverse):\n",
    "                    print(f\"Variable loadcase '{loadcase}' does not exists\")\n",
    "\n",
    "\n",
    "        # Add combination to overall design envelope\n",
    "        uls_envelope.addEntry(smart_comb)\n",
    "        uls_envelope.addEntry(smart_comb.getAssocLoadset())\n",
    "        smart_comb.setTreeParent(uls_envelope)\n",
    "        smart_comb.getAssocLoadset().setTreeParent(uls_envelope.getAssocLoadset())\n"
   ]
  },
  {
   "cell_type": "markdown",
   "metadata": {},
   "source": [
    "## 6.10a Or 6.10b"
   ]
  },
  {
   "cell_type": "markdown",
   "metadata": {},
   "source": [
    "$$ \\sum_{j\\ge1}{\\gamma_{G,j}G_{k,j} + \\gamma_pP + \\gamma_{Q,1}\\psi_{0,i}Q_{k,1}}  + \\sum_{i\\gt1}{ \\gamma_{Q,i}\\psi_{0,i}Q_{k,i}}"
   ]
  },
  {
   "cell_type": "code",
   "execution_count": 311,
   "metadata": {},
   "outputs": [],
   "source": [
    "if not is610:\n",
    "    uls_envelope = db.createEnvelope(\"ULS 6.10a or 6.10b\")\n",
    "    uls_envelope.setTreeLocation(\"Design Envelopes\", True)\n",
    "\n",
    "    uls_envelope_610a = db.createEnvelope(\"ULS 6.10a\")\n",
    "    uls_envelope_610b = db.createEnvelope(\"ULS 6.10b\")\n",
    "\n",
    "    uls_envelope.addEntry(uls_envelope_610a)\n",
    "    uls_envelope.addEntry(uls_envelope_610a.getAssocLoadset())\n",
    "\n",
    "    uls_envelope.addEntry(uls_envelope_610b)\n",
    "    uls_envelope.addEntry(uls_envelope_610b.getAssocLoadset())\n",
    "\n",
    "    uls_envelope_610a.setTreeParent(uls_envelope)\n",
    "    uls_envelope_610a.getAssocLoadset().setTreeParent(uls_envelope.getAssocLoadset())\n",
    "        \n",
    "    uls_envelope_610b.setTreeParent(uls_envelope)\n",
    "    uls_envelope_610b.getAssocLoadset().setTreeParent(uls_envelope.getAssocLoadset())\n"
   ]
  },
  {
   "cell_type": "code",
   "execution_count": 312,
   "metadata": {},
   "outputs": [
    {
     "name": "stderr",
     "output_type": "stream",
     "text": [
      "C:\\Users\\rob\\AppData\\Local\\Temp\\gen_py\\3.12\\AC0CF861-2101-11CF-91D8-0020AFC19F64x0x21x1\\IFSmartCombination.py:46: FutureWarning: Calling float on a single element Series is deprecated and will raise a TypeError in the future. Use float(ser.iloc[0]) instead\n",
      "  ret = self._oleobj_.InvokeTypes(1610874881, LCID, 1, (9, 0), ((5, 1), (5, 1), (12, 1), (12, 17), (12, 17), (12, 17)),factor\n"
     ]
    }
   ],
   "source": [
    "if not is610:\n",
    "    # Expression 610a\n",
    "    # All variable actions consider a combination factor\n",
    "    smart_comb = db.createCombinationSmart(f\"ULS - 610a\")\n",
    "\n",
    "    # Permanent actions\n",
    "    add_permanent_actions_to_smart_combination(smart_comb)\n",
    "\n",
    "    # Prestress actions\n",
    "    add_prestress_loads_to_smart_combination(smart_comb)\n",
    "\n",
    "    # Variable actions\n",
    "    for i, row in df_variable.iterrows():\n",
    "        action_type = row[\"Var Action Name\"]\n",
    "        load_factor = row[\"DesignFactor\"]\n",
    "        comb_factor = row[\"CombinationFactor\"]\n",
    "\n",
    "        # Add all of the LUSAS Loadcases of the action type\n",
    "        for loadcase in dict_var_loadcases[action_type]:\n",
    "            if not isinstance(loadcase, str) and np.isnan(loadcase) : continue\n",
    "\n",
    "            if not add_loadset_to_smart_comb(smart_comb, loadcase, 0.0, load_factor * comb_factor):\n",
    "                print(f\"Variable loadcase '{loadcase}' does not exists\")\n",
    "\n",
    "\n",
    "    # Add combination to 6.10a envelope\n",
    "    uls_envelope_610a.addEntry(smart_comb)\n",
    "    uls_envelope_610a.addEntry(smart_comb.getAssocLoadset())\n",
    "    smart_comb.setTreeParent(uls_envelope_610a)\n",
    "    smart_comb.getAssocLoadset().setTreeParent(uls_envelope_610a.getAssocLoadset())"
   ]
  },
  {
   "cell_type": "markdown",
   "metadata": {},
   "source": [
    "Exp(610b)"
   ]
  },
  {
   "cell_type": "markdown",
   "metadata": {},
   "source": [
    "$$ \\sum_{j\\ge1}{\\xi_j\\gamma_{G,j}G_{k,j} + \\gamma_pP + \\gamma_{Q,1}Q_{k,1}}  + \\sum_{i\\gt1}{ \\gamma_{Q,i}\\psi_{0,i}Q_{k,i}}"
   ]
  },
  {
   "cell_type": "code",
   "execution_count": 313,
   "metadata": {},
   "outputs": [],
   "source": [
    "if not is610:\n",
    "    # Expression 610b\n",
    "    # Consider each variable action as a leading action\n",
    "    for i, row in df_variable.iterrows():\n",
    "        action = row[\"Var Action Name\"]\n",
    "        load_factor = row[\"DesignFactor\"]\n",
    "        comb_factor = row[\"CombinationFactor\"]\n",
    "        \n",
    "        smart_comb = db.createCombinationSmart(f\"ULS - 6.10b - {action}\")\n",
    "\n",
    "        # Permanent actions with associated reduction factor\n",
    "        add_permanent_actions_to_smart_combination(smart_comb, include_reduction=True)\n",
    "\n",
    "        # Prestress actions\n",
    "        add_prestress_loads_to_smart_combination(smart_comb)\n",
    "\n",
    "        # Variable actions\n",
    "        for action_type in dict_var_loadcases.keys():\n",
    "            # Determine variable factor\n",
    "            if action_type == action:\n",
    "                adverse = load_factor                        # Leading Variable\n",
    "            else:\n",
    "                adverse = load_factor * comb_factor          # Accompanying Variable\n",
    "\n",
    "            # Add all of the LUSAS Loadcases of the action type\n",
    "            for loadcase in dict_var_loadcases[action_type]:\n",
    "                if not isinstance(loadcase, str) and np.isnan(loadcase) : continue\n",
    "\n",
    "                if not add_loadset_to_smart_comb(smart_comb, loadcase, 0.0, adverse):\n",
    "                    print(f\"Variable loadcase '{loadcase}' does not exists\")\n",
    "\n",
    "\n",
    "        # Add leading variable action combination to 6.10b envelope\n",
    "        uls_envelope_610b.addEntry(smart_comb)\n",
    "        uls_envelope_610b.addEntry(smart_comb.getAssocLoadset())\n",
    "        smart_comb.setTreeParent(uls_envelope_610b.getAssocLoadset())\n",
    "        smart_comb.getAssocLoadset().setTreeParent(uls_envelope_610b)"
   ]
  }
 ],
 "metadata": {
  "kernelspec": {
   "display_name": "Python 3",
   "language": "python",
   "name": "python3"
  },
  "language_info": {
   "codemirror_mode": {
    "name": "ipython",
    "version": 3
   },
   "file_extension": ".py",
   "mimetype": "text/x-python",
   "name": "python",
   "nbconvert_exporter": "python",
   "pygments_lexer": "ipython3",
   "version": "3.12.3"
  }
 },
 "nbformat": 4,
 "nbformat_minor": 2
}
