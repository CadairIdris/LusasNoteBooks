{
 "cells": [
  {
   "cell_type": "markdown",
   "metadata": {},
   "source": [
    "# Loadcase Generator"
   ]
  },
  {
   "cell_type": "code",
   "execution_count": 17,
   "metadata": {},
   "outputs": [],
   "source": [
    "import pandas as pd\n",
    "import numpy as np\n",
    "import win32com.client as win32\n",
    "lusas = win32.gencache.EnsureDispatch(\"Lusas.Modeller.21.1\")\n",
    "\n",
    "delete_all_previous = True\n",
    "if delete_all_previous:\n",
    "    lusas.database().deleteAllAnalyses()\n",
    "    lusas.database().createAnalysisStructural(\"Analysis 1\", False)\n",
    "    lusas.database().deleteLoadsets(\"all\") # remaining post-prosessing loadsest"
   ]
  },
  {
   "cell_type": "markdown",
   "metadata": {},
   "source": [
    "Read the excel definitions"
   ]
  },
  {
   "cell_type": "code",
   "execution_count": 18,
   "metadata": {},
   "outputs": [
    {
     "name": "stdout",
     "output_type": "stream",
     "text": [
      "                  Name  Count Gravity Analysis\n",
      "0          Self Weight    NaN     Yes      NaN\n",
      "1  Self Weight Railing    NaN     NaN      NaN\n",
      "2            Surfacing    NaN     NaN      NaN\n",
      "3           Settlement    4.0     NaN      NaN\n",
      "4            Shrinkage    NaN     NaN      NaN\n"
     ]
    }
   ],
   "source": [
    "df = pd.read_excel(\"11 Loadcases.xlsx\", sheet_name=\"Loadcases\", usecols=range(0,4))\n",
    "print(df.head())"
   ]
  },
  {
   "cell_type": "code",
   "execution_count": 19,
   "metadata": {},
   "outputs": [],
   "source": [
    "base_analysis = ''\n",
    "for analysis in lusas.database().getAnalyses():\n",
    "    if analysis.isBase():\n",
    "        base_analysis = analysis.getName()\n",
    "        break"
   ]
  },
  {
   "cell_type": "markdown",
   "metadata": {},
   "source": [
    "We'll create a wrapper function that checks for the existance of a loadcase and increments the name"
   ]
  },
  {
   "cell_type": "code",
   "execution_count": 20,
   "metadata": {},
   "outputs": [],
   "source": [
    "def safe_create_loadcase(loadcase_name:str, analysis_name:str) -> 'IFLoadcase':\n",
    "    if not lusas.database().existsLoadset(loadcase_name):\n",
    "        return lusas.database().createLoadcase(loadcase_name, analysis_name)\n",
    "    else:\n",
    "        i = 1\n",
    "        while lusas.database().existsLoadset(f\"{loadcase_name}({i})\"):\n",
    "            i+=1\n",
    "        lusas.database().createLoadcase(f\"{loadcase_name} - {i}\", analysis_name)"
   ]
  },
  {
   "cell_type": "markdown",
   "metadata": {},
   "source": [
    "Loop throgh the rows in the loadcase table creating the loadcases as required"
   ]
  },
  {
   "cell_type": "code",
   "execution_count": 21,
   "metadata": {},
   "outputs": [],
   "source": [
    "for i, row in df.iterrows():\n",
    "    loadcase_name = row['Name']\n",
    "    loadcase_count = row['Count']\n",
    "    # Make sure we have a string for comparison, it should be Yes or empty\n",
    "    add_gravity = row['Gravity'] if isinstance(row['Gravity'], str) else \"\"\n",
    "    # For the analysis name, we need a string and if the analysis doesnt exist we'll need to create it before trying to add the loadcase\n",
    "    analysis_name = row['Analysis']\n",
    "\n",
    "    if not isinstance(analysis_name, str):\n",
    "        analysis_name = base_analysis\n",
    "    else:\n",
    "        if not lusas.database().existsAnalysis(analysis_name):\n",
    "            lusas.database().createAnalysisStructural(analysis_name, False)\n",
    "\n",
    "    # If the number of requested \"similar\" loadcases is less than two, create a single loadcase\n",
    "    if np.isnan(loadcase_count) or int(loadcase_count) < 2:\n",
    "        loadcase = safe_create_loadcase(loadcase_name, analysis_name)\n",
    "        if add_gravity == \"Yes\": loadcase.addGravity(True)\n",
    "    else:\n",
    "        # Multiple loadcases\n",
    "        for i in range(1, int(loadcase_count)+1):\n",
    "            loadcase = safe_create_loadcase(f\"{loadcase_name} {i}\", analysis_name)\n",
    "            if add_gravity == \"Yes\": loadcase.addGravity(True)\n"
   ]
  },
  {
   "cell_type": "code",
   "execution_count": 22,
   "metadata": {},
   "outputs": [],
   "source": [
    "def safe_create_envelope(envelope_name:str) -> 'IFEnvelope':\n",
    "    if not lusas.database().existsLoadset(envelope_name):\n",
    "        return lusas.database().createEnvelope(envelope_name)\n",
    "    else:\n",
    "        i = 1\n",
    "        while lusas.database().existsLoadset(f\"{envelope_name}({i})\"):\n",
    "            i+=1\n",
    "        return lusas.database().createEnvelope(f\"{envelope_name} - {i}\")"
   ]
  },
  {
   "cell_type": "markdown",
   "metadata": {},
   "source": [
    "Read in the envelope definition sheets and print the top for rows to confirm data as expected"
   ]
  },
  {
   "cell_type": "code",
   "execution_count": 23,
   "metadata": {},
   "outputs": [
    {
     "name": "stdout",
     "output_type": "stream",
     "text": [
      "                   Name    Loadcases FindSimilar                Folder\n",
      "0   Settlement Envelope   Settlement         Yes  00 Permanent Actions\n",
      "1         Wind Envelope         Wind         Yes   01 Variable Actions\n",
      "2      Thermal Envelope  Temperature         Yes   01 Variable Actions\n",
      "3  TLO Traffic Envelope    Traffic 1         NaN   01 Variable Actions\n",
      "4  TLO Traffic Envelope    Traffic 2         NaN   01 Variable Actions\n"
     ]
    }
   ],
   "source": [
    "df = pd.read_excel(\"11 Loadcases.xlsx\", sheet_name=\"Envelopes\", usecols=range(0,4))\n",
    "print(df.head())"
   ]
  },
  {
   "cell_type": "code",
   "execution_count": 24,
   "metadata": {},
   "outputs": [],
   "source": [
    "\n",
    "\n",
    "for name in df['Name'].unique():\n",
    "    #print(name)\n",
    "    df_env = df[df['Name'] == name]\n",
    "    #print(df_env)\n",
    "    # Loadset ids to add to the envelope\n",
    "    ids = []         \n",
    "    for i, row in df_env.iterrows():\n",
    "        loadcase_name = row['Loadcases']\n",
    "        find_similar = row['FindSimilar']\n",
    "        # Add all lodsets that start with the given name\n",
    "        if find_similar == \"Yes\":\n",
    "            for loadset in lusas.database().getLoadsets():\n",
    "                if str(loadset.getName()).startswith(loadcase_name):\n",
    "                    ids.append(loadset.getID())\n",
    "        else:\n",
    "            if lusas.database().existsLoadset(loadcase_name):\n",
    "                loadset = lusas.database().getLoadset(loadcase_name)\n",
    "                type_code = loadset.getTypeCode()\n",
    "                # append the id\n",
    "                ids.append(loadset.getID())\n",
    "                if type_code == 3:\n",
    "                    ids.append(win32.CastTo(loadset, 'IFEnvelope').getAssocLoadset().getID())\n",
    "                elif type_code == 6:\n",
    "                    ids.append(win32.CastTo(loadset, 'IFSmarCombination').getAssocLoadset().getID())\n",
    "\n",
    "    \n",
    "    env = safe_create_envelope(name)\n",
    "    for id in ids:\n",
    "        env.addEntry(id)\n",
    "\n",
    "    # Set the treeview folder name if available\n",
    "    folder_name = row['Folder']\n",
    "    if isinstance(folder_name, str) and len(folder_name) > 0:\n",
    "        env.setTreeLocation(folder_name, True)\n"
   ]
  }
 ],
 "metadata": {
  "kernelspec": {
   "display_name": "Python 3",
   "language": "python",
   "name": "python3"
  },
  "language_info": {
   "codemirror_mode": {
    "name": "ipython",
    "version": 3
   },
   "file_extension": ".py",
   "mimetype": "text/x-python",
   "name": "python",
   "nbconvert_exporter": "python",
   "pygments_lexer": "ipython3",
   "version": "3.12.3"
  }
 },
 "nbformat": 4,
 "nbformat_minor": 2
}
