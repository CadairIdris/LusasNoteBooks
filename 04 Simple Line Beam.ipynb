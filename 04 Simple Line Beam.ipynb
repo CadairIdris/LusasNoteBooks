{
 "cells": [
  {
   "cell_type": "markdown",
   "metadata": {},
   "source": [
    "<H1>Create a simple line beam model</H1>\n",
    "Run the whole code to generate and solve the model and display the minimum sagging moment, 3 different ways"
   ]
  },
  {
   "cell_type": "code",
   "execution_count": 25,
   "metadata": {},
   "outputs": [],
   "source": [
    "import win32com.client as win32\n",
    "lusas = win32.gencache.EnsureDispatch(\"Lusas.Modeller.21.0\")"
   ]
  },
  {
   "cell_type": "code",
   "execution_count": 26,
   "metadata": {},
   "outputs": [],
   "source": [
    "# Input Params\n",
    "length = 10.0 #m\t\tLength of beam\n",
    "loading = 10.0  #kN/m   Uniformly distibuted load\n",
    "model_name = \"myBeamModel\" "
   ]
  },
  {
   "cell_type": "markdown",
   "metadata": {},
   "source": [
    "When interacting with Modeller externally a large speed up can be achived by setting the model to be invisible. Take care to restore the visibility and watch out for exceptions in the code that can leave Modeller running in the background."
   ]
  },
  {
   "cell_type": "code",
   "execution_count": 27,
   "metadata": {},
   "outputs": [],
   "source": [
    "if 0: # To speed up interaction with Modeller from python set the app invisible (toggle this to true)\n",
    "    lusas.setVisible(False)"
   ]
  },
  {
   "cell_type": "code",
   "execution_count": 28,
   "metadata": {},
   "outputs": [],
   "source": [
    "# Create a new model\n",
    "db = lusas.newDatabase(\"Structural\", f\"{model_name}.mdl\")\n",
    "# Set the vertical axis\n",
    "db.setLogicalUpAxis(\"Z\")\n",
    "# Set the unit system\n",
    "db.setModelUnits(\"kN,m,t,s,C\")"
   ]
  },
  {
   "cell_type": "code",
   "execution_count": 29,
   "metadata": {},
   "outputs": [],
   "source": [
    "''' *** Create a line ***'''\n",
    "# Get the geometry data object\n",
    "geomData = lusas.geometryData()\n",
    "# Set the defaults\n",
    "geomData.setAllDefaults()\n",
    "# Set the coordinates of the first point\n",
    "geomData.addCoords(0, 0, 0)\n",
    "# Set the coordinates of the second point\n",
    "geomData.addCoords(length, 0, 0)\n",
    "# Create the line object from the geomety data\n",
    "linesDBop = win32.CastTo(db.createLine(geomData), \"IFObjectSet\") # Modeller returns the baseclass IFDatabaseOperations, we need to upcast\n",
    "# Get the lines\n",
    "lines = linesDBop.getObjects(\"Lines\", \"All\")\n",
    "# Get a reference to the created line, there is only one here but there can be many depending on the coords in geomdata\n",
    "beamLine = lines[0]"
   ]
  },
  {
   "cell_type": "code",
   "execution_count": null,
   "metadata": {},
   "outputs": [],
   "source": [
    "''' *** Create a mesh attribute ***'''\n",
    "meshAttr = db.createMeshLine(\"Beam Mesh\")\n",
    "# Set the element type and number of elements (3 thick beam elements here)\n",
    "meshAttr.setNumber(\"BMI21\", 3)"
   ]
  },
  {
   "cell_type": "code",
   "execution_count": null,
   "metadata": {},
   "outputs": [],
   "source": [
    "''' *** Create a geometric attribute ***'''\n",
    "geomAttr = db.createGeometricLine(\"Beam Geometry\")\n",
    "# Set the element type\n",
    "geomAttr.setValue(\"elementType\", \"3D Thick Beam\")\n",
    "# Set the beam section properties\n",
    "geomAttr.setBeam(0.0125, 0.0004573, 0.00002347, 0.0, 0.00000121, 0.00532608, 0.00755776, 0.0, 0.0, 0)"
   ]
  },
  {
   "cell_type": "code",
   "execution_count": 32,
   "metadata": {},
   "outputs": [],
   "source": [
    "''' *** Create a material attribute ***'''\n",
    "materialAttr = db.createIsotropicMaterial(\"Steel\", 209000000.0, 0.3, 7.8)"
   ]
  },
  {
   "cell_type": "code",
   "execution_count": null,
   "metadata": {},
   "outputs": [],
   "source": [
    "''' *** Create a support attribute (fixed) *** '''\n",
    "fixedSupport = db.createSupportStructural(\"Fixed\")\n",
    "# set the freedoms F=Free, R=Restrained\n",
    "fixedSupport.setStructural(\"R\", \"R\", \"R\", \"F\", \"F\", \"F\", \"F\", \"F\", \"F\")\n",
    "\n",
    "''' *** Create a support attribute (pinned) *** '''\n",
    "pinnedSupport = db.createSupportStructural(\"Pinned\")\n",
    "# set the freedoms \n",
    "pinnedSupport.setStructural(\"F\", \"R\", \"R\", \"F\", \"F\", \"F\", \"F\", \"F\", \"F\")"
   ]
  },
  {
   "cell_type": "code",
   "execution_count": null,
   "metadata": {},
   "outputs": [],
   "source": [
    "''' *** Create a beam load attribute *** '''\n",
    "loadAttr = db.createLoadingBeamDistributed(\"UDL\")\n",
    "loadAttr.setBeamDistributed(\"Parametric\", \"Global\", \"beam\")\n",
    "loadAttr.addRow(0.0, 0.0, 0.0, -loading, 0.0, 0.0, 0.0, 1.0, 0.0, 0.0, -loading, 0.0, 0.0, 0.0)"
   ]
  },
  {
   "cell_type": "code",
   "execution_count": null,
   "metadata": {},
   "outputs": [],
   "source": [
    "''' *** Assign the attributes to the geometry *** '''\n",
    "# get the assignment object\n",
    "assignment = lusas.assignment()\n",
    "# set the defaults\n",
    "assignment.setAllDefaults()\n",
    "\n",
    "# Assign the mesh\n",
    "meshAttr.assignTo(beamLine, assignment)\n",
    "# Assign the geometry\n",
    "geomAttr.assignTo(beamLine, assignment)\n",
    "# Assign the material\n",
    "materialAttr.assignTo(beamLine, assignment)\n",
    "# Assign the loading\n",
    "loadAttr.assignTo(beamLine, assignment)\n",
    "\n",
    "''' Assign the supports to the points of the line '''\n",
    "# Assign the fixed support to the first point\n",
    "fixedSupport.assignTo(beamLine.getStartPoint(), assignment)\n",
    "# Assign the pinned support to the last point\n",
    "pinnedSupport.assignTo(beamLine.getEndPoint(), assignment)"
   ]
  },
  {
   "cell_type": "markdown",
   "metadata": {},
   "source": [
    "<H2>Solving the Analysis</H2>"
   ]
  },
  {
   "cell_type": "code",
   "execution_count": 36,
   "metadata": {},
   "outputs": [],
   "source": [
    "import sys\n",
    "''' The model is ready to be solved '''\n",
    "db.save()\n",
    "\n",
    "\n",
    "for analysis in db.getAnalyses():\n",
    "    # File paths for the data file and results file\n",
    "    datPath = analysis.getFilenameNoExtension() + \".dat\"\n",
    "    mysPath = analysis.getFilenameNoExtension() + \".mys\"\n",
    "\n",
    "    # Get the solverOptions object and set the defaults\n",
    "    solverOptions = lusas.solverOptions()\n",
    "    solverOptions.setAllDefaults()\n",
    "\n",
    "    # Get the exporter object that will export the model to solver\n",
    "    solverExport = lusas.solverExport()\n",
    "    # Set the analysis name\n",
    "    solverExport.setAllDefaults()\n",
    "    solverExport.setAnalysis(analysis.getName())\n",
    "\n",
    "    # Export the model as a solver data file (.dat)\n",
    "    returnCode = db.exportSolver(solverExport, solverOptions)\n",
    "    if (returnCode != 0) :\n",
    "        # If the export fails we cannot run the analysis\n",
    "        print(f\"Tabulation of the data file failed with return code {returnCode}\")\n",
    "        sys.exit(returnCode)\n",
    "\n",
    "    # If we sucessfully exported the .dat file we can run the analysis\n",
    "    returnCode = lusas.solve(datPath, solverOptions)\n",
    "    if (returnCode != 0) :\n",
    "        # If the analysis fails we cannot access the results\n",
    "        print(f\"The analysis failed with return code {returnCode}\")\n",
    "        sys.exit(returnCode)\n",
    "    else:\n",
    "        # if the analysis is sucessful load the results\n",
    "        db.openResults(mysPath)\n",
    "        db.getResultsCache().calculateNow()"
   ]
  },
  {
   "cell_type": "code",
   "execution_count": 37,
   "metadata": {},
   "outputs": [],
   "source": [
    "''' *** Successful analysis - Process the results to determine the max bending *** '''\n",
    "min_moment = sys.float_info.max\n",
    "nodeNum = 0\n",
    "# Get the results at each node to determine the max\n",
    "for element in beamLine.getElements():\n",
    "    for node in element.getNodes():\n",
    "        # Extract the nodal result for the required Entity and Component\n",
    "        my = node.getResults(\"Force/Moment - Thick 3D Beam\", \"My\")[0] # returns a tuple, take the actual value\n",
    "        # Save the minimum (sagging) moment -ve in LUSAS\n",
    "        if my < min_moment :\n",
    "            min_moment = my\n",
    "            nodeNum = node.getID()"
   ]
  },
  {
   "cell_type": "code",
   "execution_count": null,
   "metadata": {},
   "outputs": [],
   "source": [
    "# Get the units of the current model for display\n",
    "forceUnit = db.getModelUnits().getForceShortName()\n",
    "lengthUnit = db.getModelUnits().getLengthShortName()\n",
    "\n",
    "# Print the result\n",
    "print(\"Max Sagging Bending Moment (Nodal) = {0:.1f}{1}{2} at node {3}\".format(min_moment, forceUnit, lengthUnit, nodeNum) )"
   ]
  },
  {
   "cell_type": "code",
   "execution_count": null,
   "metadata": {},
   "outputs": [],
   "source": [
    "# BMI21 Elements have results at \"internal points\" between nodes, get the results here too\n",
    "min_moment2 = sys.float_info.max\n",
    "elementNum = 0\n",
    "internalPnt = 0\n",
    "for element in beamLine.getElements():\n",
    "\tif element.shouldUseInternalPoints(): # We know they should but good practice to check incase this code is used elsewhere\n",
    "\t\tfor i in range(0, element.countInternalPoints()):\n",
    "\t\t\t# Extract the nodal result for the required Entity and Component\n",
    "\t\t\tmy = element.getInternalResults(i, \"Force/Moment - Thick 3D Beam\", \"My\")[0] # returns a tuple, take the actual value\n",
    "\t\t\t# Save the minimum (sagging) moment -ve in LUSAS\n",
    "\t\t\tif my < min_moment2 :\n",
    "\t\t\t\tmin_moment2 = my\n",
    "\t\t\t\telementNum = element.getID()\n",
    "\t\t\t\tinternalPnt = i\n",
    "\t\t\t\t\n",
    "# Print the result using the lusas string format\n",
    "print(\"Max Sagging Bending Moment (Internal Point) = {0:.1f}{1}{2} at element {3}, ip {4}\".format(min_moment2, forceUnit, lengthUnit, elementNum, internalPnt) )"
   ]
  },
  {
   "cell_type": "markdown",
   "metadata": {},
   "source": [
    "Alternatively we can simply ask the line to do this work for us"
   ]
  },
  {
   "cell_type": "code",
   "execution_count": null,
   "metadata": {},
   "outputs": [],
   "source": [
    "min_moment3 = beamLine.getResults(\"featureMin\", \"Force/Moment - Thick 3D Beam\", \"My\", None, elementNum, internalPnt)\n",
    "\n",
    "print(\"Max Sagging Bending Moment (Feature) = {0:.1f}{1}{2} at element {3}, ip {4}\".format(min_moment2, forceUnit, lengthUnit, elementNum, internalPnt) )\n"
   ]
  }
 ],
 "metadata": {
  "kernelspec": {
   "display_name": "Python 3",
   "language": "python",
   "name": "python3"
  },
  "language_info": {
   "codemirror_mode": {
    "name": "ipython",
    "version": 3
   },
   "file_extension": ".py",
   "mimetype": "text/x-python",
   "name": "python",
   "nbconvert_exporter": "python",
   "pygments_lexer": "ipython3",
   "version": "3.11.9"
  }
 },
 "nbformat": 4,
 "nbformat_minor": 2
}
