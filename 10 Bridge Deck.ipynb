{
 "cells": [
  {
   "cell_type": "markdown",
   "metadata": {},
   "source": [
    "<H2>Create a single span bridge deck - v21.1 and later</H2>"
   ]
  },
  {
   "cell_type": "code",
   "execution_count": 413,
   "metadata": {},
   "outputs": [],
   "source": [
    "import numpy as np\n",
    "import math\n",
    "import win32com.client as win32\n",
    "lusas = win32.gencache.EnsureDispatch(\"Lusas.Modeller.22.0\") # Connect to LUSAS Modeller\n",
    "\n",
    "# If there is not currently a model open, create one\n",
    "if not lusas.existsDatabase():\n",
    "    lusas.newProject(\"Structural\", \"Bridge Deck\")\n",
    "\n",
    "db = lusas.database() # Reference to the model database for convenience\n",
    "\n",
    "# Close any previous results\n",
    "db.closeAllResults()\n",
    "\n",
    "# Delete all previous model data\n",
    "db.deleteAll()\n",
    "db.deleteAllAttributes()\n",
    "db.deleteAllAnalyses()\n",
    "db.deleteAllNoGroups()\n",
    "\n",
    "# 3D model with Z vertical\n",
    "db.setAnalysisCategory(\"3D\")\n",
    "\n",
    "# Set the unit system\n",
    "db.setModelUnits(\"kN,m,t,s,C\")"
   ]
  },
  {
   "cell_type": "markdown",
   "metadata": {},
   "source": [
    "Define model parameters"
   ]
  },
  {
   "cell_type": "code",
   "execution_count": 414,
   "metadata": {},
   "outputs": [],
   "source": [
    "deck_width = 18\n",
    "deck_length = 25\n",
    "no_beams = 4\n",
    "deck_overhang = 1.5\n",
    "skew_angle = 35\n",
    "deck_thk = 0.2\n",
    "\n",
    "mesh_size = 1\n"
   ]
  },
  {
   "cell_type": "markdown",
   "metadata": {},
   "source": [
    "Create the attributes to be assigned to the geometric features. Mesh, Geometric and Material."
   ]
  },
  {
   "cell_type": "code",
   "execution_count": 415,
   "metadata": {},
   "outputs": [],
   "source": [
    "# Deck surface attributes\n",
    "deck_mesh_attr    = db.createMeshSurface(\"SMsh1\").setRegularSize(\"QTS4\", mesh_size, True)\n",
    "deck_surface_attr = db.createGeometricSurface(\"Deck Slab\").setSurface(deck_thk, 0.0)\n",
    "deck_mat_attr     = db.createIsotropicMaterial(\"Concrete deck\", 34.8E6, 0.2, 2.4)\n",
    "\n",
    "# Beam mesh attributes\n",
    "beam_mesh_attr = db.createMeshLine(\"LMsh2\").setSize(\"BMI21\", mesh_size)\n",
    "beam_geom_attr = db.createGeometricLine(\"LGeo2\").setFromLibrary(\"Australian Sections\", \"Precast Super T (Open)\", \"T3 (100)\", 0, 0, 0)\n",
    "beam_geom_attr.setValue(\"elementType\", \"3D Thick Beam\")\n",
    "beam_geom_attr.setEccentricityOrigin(\"Centroid\", \"Fibre\", \"\", \"A1\")\n",
    "beam_mat_attr = db.createIsotropicMaterial(\"Concrete beam\", 34.8E6, 0.2, 2.4)\n",
    "\n",
    "# Support attributes\n",
    "support_pinned_attr = db.createSupportStructural(\"Pinned\").setStructural(\"R\", \"R\", \"R\", \"F\", \"F\", \"F\", \"F\", \"F\", \"C\", \"F\") # F=Free, R=Restrained\n",
    "support_slide_attr  = db.createSupportStructural(\"Slide\").setStructural(\"F\", \"R\", \"R\", \"F\", \"F\", \"F\", \"F\", \"F\", \"C\", \"F\")\n"
   ]
  },
  {
   "cell_type": "markdown",
   "metadata": {},
   "source": [
    "In order to assign any attributes we need a loadcase to assign them to. <br>We'll create a base analysis with a single loadcase"
   ]
  },
  {
   "cell_type": "code",
   "execution_count": 416,
   "metadata": {},
   "outputs": [],
   "source": [
    "base_analysis = db.createAnalysisStructural(\"Base\")\n",
    "# We'll get the loadcase and add automatic gravity to it\n",
    "# NOTE: getLoadset returns a reference to the IFLoadset baseclass and must be cast to IFLoadcase to access the addGravity function\n",
    "win32.CastTo(db.getLoadset(\"Loadcase 1\", 0), \"IFLoadcase\").addGravity(True) "
   ]
  },
  {
   "cell_type": "markdown",
   "metadata": {},
   "source": [
    "Define some useful helper functions for creating lines. This keeps the code clean and avoid duplication"
   ]
  },
  {
   "cell_type": "code",
   "execution_count": 417,
   "metadata": {},
   "outputs": [],
   "source": [
    "# Define a useful helper function to create a line from two point coordinates\n",
    "def create_line(p1:list, p2:list) -> 'IFLine':\n",
    "        # geometryData object contains all the settings to perform a geometry creation\n",
    "        geomData = lusas.geometryData().setAllDefaults()  \n",
    "        # set the options for creating straigt lines from coordinates\n",
    "        geomData.setCreateMethod(\"straight\")        \n",
    "        geomData.setLowerOrderGeometryType(\"coordinates\")        \n",
    "        \n",
    "        # Add the cordinates, lines directions will follow the order of the coordinates\n",
    "        geomData.addCoords(p1[0], p1[1], p1[2])    # Set the coordinates of the first point X,Y,Z\n",
    "        geomData.addCoords(p2[0], p2[1], p2[2])    # Set the coordinates of the second point X,Y,Z\n",
    "\n",
    "        # Create the line, get the line objects array from the returned object set and return the 1 and only line\n",
    "        return db.createLine(geomData).getObjects(\"Line\")[0]\n",
    "\n",
    "\n",
    "# Define a useful helper function to create a line from two point objects\n",
    "# Note that we expect two IFPoint objects, these are references to points already created in the model\n",
    "def create_line_from_points(p1:'IFPoint', p2:'IFPoint') -> 'IFLine':\n",
    "        # geometryData object contains all the settings to perform a geometry creation\n",
    "        geomData = lusas.geometryData().setAllDefaults()         \n",
    "        # set the options for creating straigt lines from points\n",
    "        geomData.setCreateMethod(\"straight\")        \n",
    "        geomData.setLowerOrderGeometryType(\"points\")\n",
    "\n",
    "        # Create an object set to contain the points and use this set to create the line\n",
    "        obs = lusas.newObjectSet()                 \n",
    "        obs.add(p1)\n",
    "        obs.add(p2)\n",
    "\n",
    "        # Create the line, get the line objects array from the returned object set and return the 1 and only line\n",
    "        return obs.createLine(geomData).getObjects(\"Line\")[0]"
   ]
  },
  {
   "cell_type": "markdown",
   "metadata": {},
   "source": [
    "Helper function to calculate beam coordinates accounting for the skew angle"
   ]
  },
  {
   "cell_type": "code",
   "execution_count": 418,
   "metadata": {},
   "outputs": [],
   "source": [
    "def get_x(y:float)->float:\n",
    "    return y * math.tan(math.radians(skew_angle))"
   ]
  },
  {
   "cell_type": "markdown",
   "metadata": {},
   "source": [
    "Calculate the x and y coordinates of the frame grid"
   ]
  },
  {
   "cell_type": "code",
   "execution_count": 419,
   "metadata": {},
   "outputs": [
    {
     "name": "stdout",
     "output_type": "stream",
     "text": [
      "Beam Spacing = 5.0\n",
      "long line y coordinates = [0.0, 1.5, 4.0, 6.5, 9.0, 11.5, 14.0, 16.5, 18]\n"
     ]
    }
   ],
   "source": [
    "# Calculate the beam spacing \n",
    "beam_spacing = (deck_width - 2*deck_overhang) / (no_beams-1)\n",
    "print(f\"Beam Spacing = {beam_spacing}\")\n",
    "assert beam_spacing > 0, \"Cant have a negative beam spacing\"\n",
    "\n",
    "# Y coordinates of lomngitudinal lines. \n",
    "# Note the surfaces between the beams are split evenly between the beams\n",
    "long_ys = [0.0, deck_overhang]\n",
    "for i in range(0, no_beams-1):\n",
    "    long_ys.append(long_ys[-1] + beam_spacing/2)\n",
    "    long_ys.append(long_ys[-2] + beam_spacing)\n",
    "long_ys.append(deck_width)\n",
    "print(f\"long line y coordinates = {long_ys}\")\n",
    "\n",
    "# Create the longitudinal lines storing them in two lists for reference\n",
    "# One for all lines and one for just the beam lines\n",
    "longitudinal_lines = []\n",
    "beam_lines = []\n",
    "\n",
    "# Create the longitudinal lines. ALtenate lines are beam lines so we'll assign the beam attributes only to those\n",
    "for i, y in enumerate(long_ys):\n",
    "    line = create_line([get_x(y), y, 0], [get_x(y) + deck_length, y, 0])\n",
    "    if i%2 != 0:\n",
    "        beam_mesh_attr.assignTo(line)\n",
    "        beam_geom_attr.assignTo(line)\n",
    "        beam_mat_attr.assignTo(line)\n",
    "        beam_lines.append(line)\n",
    "    longitudinal_lines.append(line)\n",
    "\n",
    "# Now the start end support lines\n",
    "end1_lines = []\n",
    "for i in range(0, len(longitudinal_lines)-1):\n",
    "    end1_lines.append(create_line_from_points(longitudinal_lines[i].getStartPoint(), longitudinal_lines[i+1].getStartPoint()))\n",
    "\n",
    "# And opposite end support lines\n",
    "end2_lines = []\n",
    "for i in range(0, len(longitudinal_lines)-1):\n",
    "    end2_lines.append(create_line_from_points(longitudinal_lines[i].getEndPoint(), longitudinal_lines[i+1].getEndPoint()))\n"
   ]
  },
  {
   "cell_type": "markdown",
   "metadata": {},
   "source": [
    "Define helper function for creating surfaces."
   ]
  },
  {
   "cell_type": "code",
   "execution_count": 420,
   "metadata": {},
   "outputs": [],
   "source": [
    "def create_surface_from_lines(lines: list):\n",
    "    # Set the options for creating surfaces from lines\n",
    "    geometryData = lusas.geometryData().setAllDefaults()\n",
    "    geometryData.setLowerOrderGeometryType(\"lines\")\n",
    "\n",
    "    # Add the lines being used to define the surface to an object set\n",
    "    obs = lusas.newObjectSet()\n",
    "    for p in lines:\n",
    "        obs.add(p)\n",
    "\n",
    "    # Use the object set to create the surface and then get the created features as an array. (in this case an array of 1) \n",
    "    objs = obs.createSurface(geometryData).getObjects(\"Surface\")\n",
    "\n",
    "    # Assign the mesh attribute to the created surfaces\n",
    "    deck_mesh_attr.assignTo(objs)\n",
    "    # Assign the geometric thickness attribute to the created surfaces\n",
    "    deck_surface_attr.assignTo(objs)\n",
    "    # Assign the material attribute to the created surfaces\n",
    "    deck_mat_attr.assignTo(objs)"
   ]
  },
  {
   "cell_type": "markdown",
   "metadata": {},
   "source": [
    "Create surfaces between the deck lines and assign the mesh and thickness attributes"
   ]
  },
  {
   "cell_type": "code",
   "execution_count": 421,
   "metadata": {},
   "outputs": [],
   "source": [
    "for i in range(0, len(longitudinal_lines)-1):\n",
    "    # Create a list of lines in clock-wise order from which to create the surface\n",
    "    lines=[]\n",
    "    lines.append(longitudinal_lines[i])\n",
    "    lines.append(end1_lines[i])\n",
    "    lines.append(end2_lines[i])\n",
    "    lines.append(longitudinal_lines[i+1])\n",
    "    create_surface_from_lines(lines)"
   ]
  },
  {
   "cell_type": "markdown",
   "metadata": {},
   "source": [
    "Generate the mesh from the assignments"
   ]
  },
  {
   "cell_type": "code",
   "execution_count": 422,
   "metadata": {},
   "outputs": [
    {
     "data": {
      "text/plain": [
       "<win32com.gen_py.LUSAS Modeller ActiveX Script Language 22.0.IFDatabase instance at 0x2031457759072>"
      ]
     },
     "execution_count": 422,
     "metadata": {},
     "output_type": "execute_result"
    }
   ],
   "source": [
    "db.resetMesh()\n",
    "db.updateMesh()"
   ]
  },
  {
   "cell_type": "markdown",
   "metadata": {},
   "source": [
    "Assign the support attributes to the points at the beam ends"
   ]
  },
  {
   "cell_type": "code",
   "execution_count": 423,
   "metadata": {},
   "outputs": [],
   "source": [
    "for i in range(1, len(beam_lines)-1):\n",
    "    support_pinned_attr.assignTo(beam_lines[i].getStartPoint())\n",
    "    support_slide_attr.assignTo(beam_lines[i].getEndPoint())"
   ]
  },
  {
   "cell_type": "markdown",
   "metadata": {},
   "source": [
    "Create a group for each of the beams with the associated deck"
   ]
  },
  {
   "cell_type": "code",
   "execution_count": 424,
   "metadata": {},
   "outputs": [],
   "source": [
    "for i, line in enumerate(beam_lines):\n",
    "    group = db.createGroup(f\"Beam {i+1}\")\n",
    "    group.add(line)\n",
    "    group.add(line.getHOFs())"
   ]
  },
  {
   "cell_type": "markdown",
   "metadata": {},
   "source": [
    "Create staged analyses with deactivated deck"
   ]
  },
  {
   "cell_type": "code",
   "execution_count": null,
   "metadata": {},
   "outputs": [],
   "source": [
    "# Deactivate attribute disables elments to which its assigned\n",
    "deactive_attr = db.createDeactivate(\"Deact1\").setDeactivate(\"activeMesh\", 100.0, 1.0E-6)\n",
    "# Activate attribute reactivates attributes in the loadcase to which it's assigned\n",
    "activate_attr = db.createActivate(\"Act1\")\n",
    "\n",
    "# Create 3 separate analyses, 1st stage is for the beams, 2nd stage is long term and the 3rd stage is short term\n",
    "stage1_analysis = db.createAnalysisStructural(\"Stage 1\", False)\n",
    "stage2_analysis = db.createAnalysisStructural(\"Stage 2\", False)\n",
    "stage3_analysis = db.createAnalysisStructural(\"Stage 3\", False)\n",
    "\n",
    "# We'll deactivate the deck in stage 1 only.\n",
    "# The deactiavte attribute must be assigned to the first loadcase in the analysis, so we'll create that first\n",
    "stage1_loadcase = db.createLoadcase(\"Beam Self Weight\", \"Stage 1\")\n",
    "# To assign the attribute to the correct loadcase we need to provide additional infomation\n",
    "# We do this with the assignment object\n",
    "assignment = lusas.assignment().setAllDefaults()\n",
    "assignment.setLoadset(stage1_loadcase)\n",
    "# Now we need to get the objects to assign to. In this case we know that all surfaces are to be deactivated\n",
    "surface_set = db.getObjects(\"Surfaces\")\n",
    "# Now assign the attribute to the surfaces with the additional assignment object\n",
    "deactive_attr.assignTo(surface_set, assignment)\n",
    "# Set gravity on the beams only loadcase\n",
    "stage1_loadcase.addGravity(True)"
   ]
  },
  {
   "cell_type": "markdown",
   "metadata": {},
   "source": [
    "Calculate and assign loads for the wet concrete of th edeck in stage 1"
   ]
  },
  {
   "cell_type": "code",
   "execution_count": 426,
   "metadata": {},
   "outputs": [],
   "source": [
    "# Helper function to get the area of all surfaces attached to the given line\n",
    "def get_attached_surface_area(line) -> float:\n",
    "    surface_area = 0\n",
    "    for obj in line.getHOFs():\n",
    "        if obj.getTypeCode() == 4: # Surface\n",
    "                surface_area += obj.getArea()\n",
    "    return surface_area"
   ]
  },
  {
   "cell_type": "code",
   "execution_count": 427,
   "metadata": {},
   "outputs": [],
   "source": [
    "# Create a loadcase for the wet concrte loads to be applied to the beams in stage 1\n",
    "wet_conc_loadcase = db.createLoadcase(\"Wet Concrete\", \"Stage 1\")\n",
    "# Set the loadcase in the assignment object\n",
    "assignment = lusas.assignment().setAllDefaults()\n",
    "assignment.setLoadset(wet_conc_loadcase)\n",
    "\n",
    "# Now calculate the deck area for each beam based on the attached surfaces\n",
    "for i, line in enumerate(beam_lines):\n",
    "    deck_area = get_attached_surface_area(line)\n",
    "    beam_load = (deck_area * deck_thk * 2.4)/line.getLineLength()\n",
    "    # And create a load attribute for each beam.\n",
    "    attr = db.createLoadingBeamDistributed(f\"Wet Concrete - Beam {i+1}\")\n",
    "    attr.setBeamDistributed(\"Parametric\", \"Global\", \"beam\")\n",
    "    attr.addRow(0.0, 0.0, 0.0, -beam_load, 0.0, 0.0, 0.0, 1.0, 0.0, 0.0, -beam_load, 0.0, 0.0, 0.0)\n",
    "    # and assign the load\n",
    "    attr.assignTo(line, assignment)\n",
    "\n",
    "# set the wet concrete loadcase active\n",
    "lusas.view().setActiveLoadset(wet_conc_loadcase)"
   ]
  },
  {
   "cell_type": "markdown",
   "metadata": {},
   "source": [
    "Solve the analyses"
   ]
  },
  {
   "cell_type": "code",
   "execution_count": 428,
   "metadata": {},
   "outputs": [],
   "source": [
    "# Solve each analysis and open all the available results files\n",
    "db.getAnalysis(\"Base\").solve(True)\n",
    "db.getAnalysis(\"Stage1 1\").solve(True)\n",
    "db.openAllResults(False)"
   ]
  },
  {
   "cell_type": "markdown",
   "metadata": {},
   "source": [
    "Create beam/shell slicing to compute equivalent beam results. Slices are positioned at 2m increments for demo"
   ]
  },
  {
   "cell_type": "code",
   "execution_count": 429,
   "metadata": {},
   "outputs": [],
   "source": [
    "slice_type = 4      # Constant spacing\n",
    "slice_position = \"2\"\n",
    "#for i, line in enumerate(beam_lines):\n",
    "    #slice1 = db.createBeamShellSlice(\"Girder 1\")\n",
    "    #slice1.setBeamShellSlice(slice_type, slice_position, -1, 0.0, -1, -1, beam_spacing, 0, -1, \"Slice\", 0, \"\", \"2\", 0.0)\n",
    "slice2 = db.createBeamShellSlice(\"Girder 2\")\n",
    "slice2.setBeamShellSlice(slice_type, slice_position, -1, 0.0, -1, -1, beam_spacing, 0, -1, \"Slice\", 0, \"\", \"3\", 0.0)"
   ]
  },
  {
   "cell_type": "markdown",
   "metadata": {},
   "source": [
    "Plot diagrams of the beam shell resultants"
   ]
  },
  {
   "cell_type": "code",
   "execution_count": 430,
   "metadata": {},
   "outputs": [],
   "source": [
    "if 0:\n",
    "    lusas.view().insertDiagramsLayer()\n",
    "    diagrams_layer = lusas.view().diagrams()\n",
    "    diagrams_layer.setResultsTransformNone()\n",
    "    diagrams_layer.setResults(\"Beam/Shell Slice Resultants\", \"My\")\n",
    "    diagrams_layer.setLocation(\"BeamShellSlice\")\n",
    "    diagrams_layer.setAssocOption(\"Single\")\n"
   ]
  },
  {
   "cell_type": "markdown",
   "metadata": {},
   "source": [
    "Create results tables known as \"Print Results Wizards\""
   ]
  },
  {
   "cell_type": "code",
   "execution_count": 431,
   "metadata": {},
   "outputs": [
    {
     "data": {
      "text/plain": [
       "<win32com.gen_py.LUSAS Modeller ActiveX Script Language 22.0.IFPrintResultsWizard instance at 0x2031434455024>"
      ]
     },
     "execution_count": 431,
     "metadata": {},
     "output_type": "execute_result"
    }
   ],
   "source": [
    "attr = db.createPrintResultsWizard(\"PRW1\")\n",
    "\n",
    "#attr.setResultsType(\"Components\")\n",
    "attr.setResultsOrder(\"Mesh\")\n",
    "attr.setResultsContent(\"Tabular\")                       # Tabular results only, summary not required\n",
    "attr.setResultsEntity(\"Beam/Shell Slice Resultants\")\n",
    "attr.setExtent(\"Elements showing results\", \"\")\n",
    "attr.setResultsLocation(\"BeamShellSlice\")\n",
    "\n",
    "# Specify the loadcases required.\n",
    "attr.setLoadcasesOption(\"Selected\")\n",
    "lcIDs = [1]\n",
    "# We need to pass corresponding array of results ids\n",
    "lcResFileIDs = [0] *len(lcIDs)\n",
    "lcEigenvalueIDs = [-1] *len(lcIDs) # No eigenvalues hence -1\n",
    "lcHarmonicIDs = [-1] *len(lcIDs)   # No harmonic loadcases hence -1\n",
    "attr.setLoadcases(lcIDs, lcResFileIDs, lcEigenvalueIDs, lcHarmonicIDs)\n",
    "\n",
    "# Results components to report\n",
    "components = [\"Fx\", \"Fy\", \"Fz\", \"Mx\", \"My\", \"Mz\"]\n",
    "attr.setComponents(components)\n",
    "\n",
    "attr.showCoordinates(True) # Add the coordinates of each slice location for use with design checks, plots etc"
   ]
  }
 ],
 "metadata": {
  "kernelspec": {
   "display_name": "Python 3",
   "language": "python",
   "name": "python3"
  },
  "language_info": {
   "codemirror_mode": {
    "name": "ipython",
    "version": 3
   },
   "file_extension": ".py",
   "mimetype": "text/x-python",
   "name": "python",
   "nbconvert_exporter": "python",
   "pygments_lexer": "ipython3",
   "version": "3.12.3"
  }
 },
 "nbformat": 4,
 "nbformat_minor": 2
}
