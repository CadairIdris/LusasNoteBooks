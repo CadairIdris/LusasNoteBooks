{
 "cells": [
  {
   "cell_type": "markdown",
   "metadata": {},
   "source": [
    "<H2>Create a single span bridge deck - v21.1 and later</H2>"
   ]
  },
  {
   "cell_type": "code",
   "execution_count": 53,
   "metadata": {},
   "outputs": [],
   "source": [
    "import numpy as np\n",
    "import math\n",
    "import win32com.client as win32\n",
    "lusas = win32.gencache.EnsureDispatch(\"Lusas.Modeller.22.0\") # Connect to LUSAS Modeller\n",
    "\n",
    "# If there is not currently a model open, create one\n",
    "if not lusas.existsDatabase():\n",
    "    lusas.newProject(\"Structural\", \"Bridge Deck\")\n",
    "\n",
    "db = lusas.database() # Reference to the model database for convenience\n",
    "\n",
    "# Delete all previous geometry and attributes/utilites\n",
    "db.deleteAll()\n",
    "db.deleteAllAttributes()\n",
    "\n",
    "# 3D model with Z vertical\n",
    "db.setAnalysisCategory(\"3D\")\n",
    "\n",
    "# Set the unit system\n",
    "db.setModelUnits(\"kN,m,t,s,C\")"
   ]
  },
  {
   "cell_type": "markdown",
   "metadata": {},
   "source": [
    "Define model parameters"
   ]
  },
  {
   "cell_type": "code",
   "execution_count": 54,
   "metadata": {},
   "outputs": [],
   "source": [
    "deck_width = 18\n",
    "deck_length = 25\n",
    "no_beams = 4\n",
    "deck_overhang = 1.5\n",
    "skew_angle = 10\n",
    "deck_thk = 0.2\n",
    "\n",
    "mesh_size = 1\n"
   ]
  },
  {
   "cell_type": "markdown",
   "metadata": {},
   "source": [
    "Create the attributes to be assigned to the geometric features. Mesh, Geometric and Material."
   ]
  },
  {
   "cell_type": "code",
   "execution_count": 55,
   "metadata": {},
   "outputs": [],
   "source": [
    "# Deck surface attributes\n",
    "deck_mesh_attr    = db.createMeshSurface(\"SMsh1\").setRegularSize(\"QTS4\", mesh_size, True)\n",
    "deck_surface_attr = db.createGeometricSurface(\"Deck Slab\").setSurface(deck_thk, 0.0)\n",
    "deck_mat_attr     = db.createIsotropicMaterial(\"Concrete deck\", 34.8E6, 0.2, 2.4)\n",
    "\n",
    "# Beam mesh attributes\n",
    "beam_mesh_attr = db.createMeshLine(\"LMsh2\").setSize(\"BMI21\", mesh_size)\n",
    "beam_geom_attr = db.createGeometricLine(\"LGeo2\").setFromLibrary(\"Australian Sections\", \"Precast Super T (Open)\", \"T3 (100)\", 0, 0, 0)\n",
    "beam_geom_attr.setValue(\"elementType\", \"3D Thick Beam\")\n",
    "beam_geom_attr.setEccentricityOrigin(\"Centroid\", \"Fibre\", \"\", \"A1\")\n",
    "beam_mat_attr = db.createIsotropicMaterial(\"Concrete beam\", 34.8E6, 0.2, 2.4)\n",
    "\n",
    "# Support attributes\n",
    "support_pinned_attr = db.createSupportStructural(\"Pinned\").setStructural(\"R\", \"R\", \"R\", \"F\", \"F\", \"F\", \"F\", \"F\", \"C\", \"F\") # F=Free, R=Restrained\n",
    "support_slide_attr  = db.createSupportStructural(\"Slide\").setStructural(\"F\", \"R\", \"R\", \"F\", \"F\", \"F\", \"F\", \"F\", \"C\", \"F\")\n"
   ]
  },
  {
   "cell_type": "markdown",
   "metadata": {},
   "source": [
    "Define some useful helper functions for creating lines. This keeps the code clean and avoid duplication"
   ]
  },
  {
   "cell_type": "code",
   "execution_count": 56,
   "metadata": {},
   "outputs": [],
   "source": [
    "# Define a useful helper function to create a line from two point coordinates\n",
    "def create_line(p1:list, p2:list) -> 'IFLine':\n",
    "      \n",
    "        geomData = lusas.geometryData()            # geometryData object contains all the settings to perform a geometry creation\n",
    "        geomData.setAllDefaults()                  # Reset the inputs\n",
    "        geomData.addCoords(p1[0], p1[1], p1[2])    # Set the coordinates of the first point\n",
    "        geomData.addCoords(p2[0], p2[1], p2[2])    # Set the coordinates of the second point\n",
    "        geomData.setLowerOrderGeometryType(\"coordinates\")\n",
    "        geomData.setCreateMethod(\"straight\")\n",
    "        # Create the line and add it to the group\n",
    "        return win32.CastTo(db.createLine(geomData), \"IFObjectSet\").getObjects(\"Line\")[0]\n",
    "\n",
    "\n",
    "# Define a useful helper function to create a line from two point objects\n",
    "def create_line_from_points(p1:'IFPoint', p2:'IFPoint') -> 'IFLine':\n",
    "      \n",
    "        geomData = lusas.geometryData()            # geometryData object contains all the settings to perform a geometry creation\n",
    "        geomData.setAllDefaults()                  # Reset the inputs\n",
    "        geomData.setLowerOrderGeometryType(\"points\")\n",
    "        geomData.setCreateMethod(\"straight\")\n",
    "\n",
    "        obs = lusas.newObjectSet()                 # Create an object set to contain the points and use this set to create the line\n",
    "        obs.add(p1)\n",
    "        obs.add(p2)\n",
    "\n",
    "        # Create the line and return it\n",
    "        return win32.CastTo(obs.createLine(geomData), \"IFObjectSet\").getObjects(\"Line\")[0]"
   ]
  },
  {
   "cell_type": "markdown",
   "metadata": {},
   "source": [
    "Helper function to calculate beam coordinates accounting for the skew angle"
   ]
  },
  {
   "cell_type": "code",
   "execution_count": 57,
   "metadata": {},
   "outputs": [],
   "source": [
    "def get_x(y:float)->float:\n",
    "    return y * math.tan(math.radians(skew_angle))"
   ]
  },
  {
   "cell_type": "markdown",
   "metadata": {},
   "source": [
    "Calculate the x and y coordinates of the frame grid"
   ]
  },
  {
   "cell_type": "code",
   "execution_count": 58,
   "metadata": {},
   "outputs": [
    {
     "name": "stdout",
     "output_type": "stream",
     "text": [
      "Beam Spacing = 5.0\n",
      "Beam y coordinates = [1.5, 6.5, 11.5, 16.5]\n"
     ]
    }
   ],
   "source": [
    "# Calculate the beam spacing \n",
    "beam_spacing = (deck_width - 2*deck_overhang) / (no_beams-1)\n",
    "print(f\"Beam Spacing = {beam_spacing}\")\n",
    "assert beam_spacing > 0, \"Cant have a negative beam spacing\"\n",
    "\n",
    "# Y cordinates of beams between the overhangs\n",
    "beam_ys = [deck_overhang]\n",
    "beam_ys.extend([float(y) for y in np.add.accumulate([beam_spacing]*(no_beams-1)) + deck_overhang])\n",
    "print(f\"Beam y coordinates = {beam_ys}\")\n",
    "\n",
    "\n",
    "# Create the longitudinal lines storing them in a list for reference\n",
    "longitudinal_lines = []\n",
    "\n",
    "# First the near edge line\n",
    "longitudinal_lines.append( create_line([0, 0, 0], [deck_length, 0, 0]) )\n",
    "\n",
    "# Now the internal beam lines, here we'll also assign the beam attributes\n",
    "for y in beam_ys:\n",
    "    line = create_line([get_x(y), y, 0], [get_x(y) + deck_length, y, 0])\n",
    "    beam_mesh_attr.assignTo(line)\n",
    "    beam_geom_attr.assignTo(line)\n",
    "    beam_mat_attr.assignTo(line)\n",
    "    longitudinal_lines.append(line)\n",
    "\n",
    "# And the far side edge line\n",
    "longitudinal_lines.append( create_line([get_x(deck_width), deck_width, 0], [get_x(deck_width) + deck_length, deck_width, 0]) )\n",
    "\n",
    "\n",
    "# Now the start end support lines\n",
    "end1_lines = []\n",
    "for i in range(0, len(longitudinal_lines)-1):\n",
    "    end1_lines.append(create_line_from_points(longitudinal_lines[i].getStartPoint(), longitudinal_lines[i+1].getStartPoint()))\n",
    "\n",
    "# And opposite end support lines\n",
    "end2_lines = []\n",
    "for i in range(0, len(longitudinal_lines)-1):\n",
    "    end2_lines.append(create_line_from_points(longitudinal_lines[i].getEndPoint(), longitudinal_lines[i+1].getEndPoint()))\n"
   ]
  },
  {
   "cell_type": "markdown",
   "metadata": {},
   "source": [
    "Define helper function for creating surfaces."
   ]
  },
  {
   "cell_type": "code",
   "execution_count": 59,
   "metadata": {},
   "outputs": [],
   "source": [
    "def create_surface_from_lines(lines: list):\n",
    "\n",
    "    geometryData = lusas.geometryData()\n",
    "    geometryData.setAllDefaults()\n",
    "    geometryData.setCreateMethod(\"coons\")\n",
    "    geometryData.setLowerOrderGeometryType(\"lines\")\n",
    "\n",
    "    obs = lusas.newObjectSet()\n",
    "    for p in lines:\n",
    "        obs.add(p)\n",
    "\n",
    "    objs = obs.createSurface(geometryData).getObjects(\"Surface\")\n",
    "\n",
    "    # Assign the mesh attribute to the created surfaces\n",
    "    deck_mesh_attr.assignTo(objs)\n",
    "    # Assign the geometric thickness attribute to the created surfaces\n",
    "    deck_surface_attr.assignTo(objs)\n",
    "    # Assign the material attribute to the created surfaces\n",
    "    deck_mat_attr.assignTo(objs)"
   ]
  },
  {
   "cell_type": "markdown",
   "metadata": {},
   "source": [
    "Create surfaces between the deck lines and assign the mesh and thickness attributes"
   ]
  },
  {
   "cell_type": "code",
   "execution_count": 60,
   "metadata": {},
   "outputs": [],
   "source": [
    "for i in range(0, len(longitudinal_lines)-1):\n",
    "    # Create a list of lines in clock-wise order from which to create the surface\n",
    "    lines=[]\n",
    "    lines.append(longitudinal_lines[i])\n",
    "    lines.append(end1_lines[i])\n",
    "    lines.append(end2_lines[i])\n",
    "    lines.append(longitudinal_lines[i+1])\n",
    "    create_surface_from_lines(lines)"
   ]
  },
  {
   "cell_type": "markdown",
   "metadata": {},
   "source": [
    "Generate the mesh from the assignments"
   ]
  },
  {
   "cell_type": "code",
   "execution_count": 61,
   "metadata": {},
   "outputs": [
    {
     "data": {
      "text/plain": [
       "<win32com.gen_py.LUSAS Modeller ActiveX Script Language 22.0.IFDatabase instance at 0x1654334231600>"
      ]
     },
     "execution_count": 61,
     "metadata": {},
     "output_type": "execute_result"
    }
   ],
   "source": [
    "db.resetMesh()\n",
    "db.updateMesh()"
   ]
  },
  {
   "cell_type": "code",
   "execution_count": 62,
   "metadata": {},
   "outputs": [],
   "source": [
    "for i in range(1, len(longitudinal_lines)-1):\n",
    "    support_pinned_attr.assignTo(longitudinal_lines[i].getStartPoint())\n",
    "    support_slide_attr.assignTo(longitudinal_lines[i].getEndPoint())"
   ]
  },
  {
   "cell_type": "markdown",
   "metadata": {},
   "source": [
    "Assign gravity and solve"
   ]
  },
  {
   "cell_type": "code",
   "execution_count": 63,
   "metadata": {},
   "outputs": [],
   "source": [
    "# getLoadset returns a reference to the IFLoadset baseclass and must be cast to IFLoadcase to access the addGravity funtion\n",
    "win32.CastTo(db.getLoadset(\"Loadcase 1\", 0), \"IFLoadcase\").addGravity(True) \n",
    "\n",
    "db.getAnalysis(\"Analysis 1\").solve(True)\n",
    "db.openAllResults(False)\n",
    "\n"
   ]
  },
  {
   "cell_type": "markdown",
   "metadata": {},
   "source": [
    "Create beam/shell slicing to compute equivalent beam results"
   ]
  },
  {
   "cell_type": "code",
   "execution_count": 64,
   "metadata": {},
   "outputs": [],
   "source": [
    "slice = db.createBeamShellSlice(\"Girder 1\")\n",
    "slice.setBeamShellSlice(4, \"1\", -1, 0.0, -1, -1, beam_spacing, 0, -1, \"Slice\", 0, \"\", \"2\", 0.0)\n",
    "slice = db.createBeamShellSlice(\"Girder 2\")\n",
    "slice.setBeamShellSlice(4, \"1\", -1, 0.0, -1, -1, beam_spacing, 0, -1, \"Slice\", 0, \"\", \"3\", 0.0)"
   ]
  },
  {
   "cell_type": "markdown",
   "metadata": {},
   "source": [
    "Plot diagrams of the beam shell resultants"
   ]
  },
  {
   "cell_type": "code",
   "execution_count": 65,
   "metadata": {},
   "outputs": [],
   "source": [
    "lusas.view().insertDiagramsLayer()\n",
    "diagrams_layer = lusas.view().diagrams()\n",
    "diagrams_layer.setResultsTransformNone()\n",
    "diagrams_layer.setResults(\"Beam/Shell Slice Resultants\", \"My\")\n",
    "diagrams_layer.setLocation(\"BeamShellSlice\")\n",
    "diagrams_layer.setAssocOption(\"Single\")\n"
   ]
  }
 ],
 "metadata": {
  "kernelspec": {
   "display_name": "Python 3",
   "language": "python",
   "name": "python3"
  },
  "language_info": {
   "codemirror_mode": {
    "name": "ipython",
    "version": 3
   },
   "file_extension": ".py",
   "mimetype": "text/x-python",
   "name": "python",
   "nbconvert_exporter": "python",
   "pygments_lexer": "ipython3",
   "version": "3.12.3"
  }
 },
 "nbformat": 4,
 "nbformat_minor": 2
}
