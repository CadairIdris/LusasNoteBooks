{
 "cells": [
  {
   "cell_type": "markdown",
   "metadata": {},
   "source": [
    "# #411 Multi span post-tensioned concrete tee beam and slab bridge deck with pier columns\n",
    "<i>Deck slab modelled in shell elements, tee beams and piers modelled with beam elements. Influence analysis based on sliced resultants</i>\n",
    "***"
   ]
  },
  {
   "cell_type": "code",
   "execution_count": null,
   "metadata": {},
   "outputs": [],
   "source": [
    "solve_analyses = False\n",
    "dmi_grid = False # Use nodes in search area instead"
   ]
  },
  {
   "cell_type": "markdown",
   "metadata": {},
   "source": [
    "Define model parameters"
   ]
  },
  {
   "cell_type": "code",
   "execution_count": null,
   "metadata": {},
   "outputs": [],
   "source": [
    "# Span lengths\n",
    "span_lengths = [25, 35, 25]\n",
    "contraflexure = 0.15\n",
    "skew_angle = 25\n",
    "\n",
    "# Deck \n",
    "beam_spacing = [3, 3, 3, 3, 3]\n",
    "\n",
    "deck_overhang = 1.5\n",
    "deck_thk = 0.2\n",
    "deck_thk_outstand = 0.25\n",
    "# deck_thk_pier = 1.4\n",
    "tee_depth = 1.0\n",
    "tee_web_thk = 0.5\n",
    "\n",
    "# Piers\n",
    "column_dia = 1.1\n",
    "pier_head = 2.0\n",
    "abut_width = 1.0\n",
    "pier_height = 5\n",
    "\n",
    "# Meshing\n",
    "mesh_size = 2\n",
    "\n",
    "# Loading area\n",
    "carriageway_width = 11\n",
    "\n",
    "# Loads\n",
    "surf_load_intensity = -2.5\n",
    "parapet_load_udl = -2.5\n",
    "footpath_surface_load_intensity = -1 # Additional thickness of footpath\n",
    "settlement = -0.01 # m\n",
    "\n",
    "# Temperatures\n",
    "temperature_increase = 20\n",
    "temperature_decrease = -20\n",
    "temp_max = 25\n",
    "temp_min = 0.0\n",
    "\n",
    "# Live loads\n",
    "pedestrian_live_load = -5 # kpa\n",
    "breaking_load = 900 # kN\n",
    "horiz_load = 200    # kN\n",
    "pier_impact_load = 1000 # kN\n",
    "deck_impact_load = 1000 # kN/m"
   ]
  },
  {
   "cell_type": "code",
   "execution_count": null,
   "metadata": {},
   "outputs": [],
   "source": [
    "# Calculated dimensions\n",
    "overall_length = sum(span_lengths) + abut_width\n",
    "overall_width  = sum(beam_spacing) + 2 * deck_overhang\n",
    "footway_width  = (overall_width-carriageway_width)/2\n",
    "\n",
    "breaking_load_intensity = breaking_load / (carriageway_width*overall_length)\n",
    "\n",
    "# eccentcity_pier = (deck_thk_pier-deck_thk)/2\n",
    "eccentcity_outstand = (deck_thk_outstand-deck_thk)/2\n",
    "pier_head_gap = deck_thk/2 + tee_depth"
   ]
  },
  {
   "cell_type": "markdown",
   "metadata": {},
   "source": [
    "Connect to LUSAS and either create a new model or delete the contents of the existing one - be careful if you have a model already loaded"
   ]
  },
  {
   "cell_type": "code",
   "execution_count": null,
   "metadata": {},
   "outputs": [],
   "source": [
    "import numpy as np\n",
    "import math\n",
    "import sys; sys.path.append('../') # Reference modules in parent directory\n",
    "from LPI_22_0 import *\n",
    "lusas = get_lusas_modeller()\n",
    "\n",
    "from m100_Tools_And_Helpers import Helpers\n",
    "Helpers.initialise(lusas)\n",
    "\n",
    "# if lusas.existsDatabase():\n",
    "#     raise Exception(\"This script will create a new model. Please save and close the current model and try again\")\n",
    "\n",
    "# Create a new model\n",
    "lusas.newProject(\"Structural\", f\"Post Tensioned Tee beam Bridge Deck\")\n",
    "# Reference to the model database for convenience\n",
    "db = lusas.database() \n",
    "# 3D model with Z vertical\n",
    "db.setAnalysisCategory(\"3D\")\n",
    "db.setVerticalDir(\"Z\")\n",
    "# Set the unit system\n",
    "db.setModelUnits(\"kN,m,t,s,C\")"
   ]
  },
  {
   "cell_type": "markdown",
   "metadata": {},
   "source": [
    "Create the attributes to be assigned to the geometric features. Mesh, Geometric and Material."
   ]
  },
  {
   "cell_type": "code",
   "execution_count": null,
   "metadata": {},
   "outputs": [],
   "source": [
    "# Main tee beam element mesh\n",
    "beam_mesh_attr = db.createMeshLine(\"Tee beam mesh\").setSize(\"BMI21\", mesh_size)\n",
    "\n",
    "# Tee section geometric attribute\n",
    "beam_geom_attr = Helpers.create_rectangular_section(db, 'Tee section', tee_web_thk, tee_depth)\n",
    "beam_geom_attr.setValue(\"ez\", tee_depth / 2 + deck_thk / 2)"
   ]
  },
  {
   "cell_type": "code",
   "execution_count": null,
   "metadata": {},
   "outputs": [],
   "source": [
    "# Pier cross heads\n",
    "pier_head_mesh_attr = db.createMeshLine(\"Pier head mesh\").setSize(\"BMI21\", mesh_size)\n",
    "# Pier head geometric attribute\n",
    "pier_head_geom_attr = Helpers.create_rectangular_section(db, 'Pier head', 1, 1)"
   ]
  },
  {
   "cell_type": "code",
   "execution_count": null,
   "metadata": {},
   "outputs": [],
   "source": [
    "# Pier columns\n",
    "pier_col_mesh_attr = db.createMeshLine(\"Pier column mesh\").setSize(\"BMI21\", mesh_size)\n",
    "# Set the upper section which overlaps with the deck to be rigid\n",
    "pier_col_mesh_attr.setEndRigidZoneSameAsStart(False).setRigid(\"Start\", \"formulaNoError\", False, 1.0, 1.0)\n",
    "# Pier column geometric attribute\n",
    "pier_geom_attr = Helpers.create_circular_section(db, 'Pier column', column_dia)"
   ]
  },
  {
   "cell_type": "code",
   "execution_count": null,
   "metadata": {},
   "outputs": [],
   "source": [
    "# End diaphragms\n",
    "diaphragm_mesh_attr = db.createMeshLine(\"End diaphragm mesh\").setSize(\"BMI21\", mesh_size)\n",
    "# Diaphragm section geometric attribute\n",
    "diaphragm_geom_attr = Helpers.create_rectangular_section(db, 'Diaphragm section', 0.5, 1.0)\n",
    "diaphragm_geom_attr.setValue(\"ez\", 1 / 2 + deck_thk / 2)"
   ]
  },
  {
   "cell_type": "code",
   "execution_count": null,
   "metadata": {},
   "outputs": [],
   "source": [
    "# Deck mesh attribute, thick shell elements\n",
    "deck_mesh_attr    = db.createMeshSurface(\"SMsh1\").setRegularSize(\"QTS4\", mesh_size, True)\n",
    "# Deck surface thickness attribute\n",
    "deck_surface_attr      = db.createGeometricSurface(\"Deck Slab\").setSurface(deck_thk, 0.0)\n",
    "# pier_head_surface_attr = db.createGeometricSurface(\"Deck Slab at Pier\").setSurface(deck_thk_pier, eccentcity_pier)\n",
    "outstand_surface_attr  = db.createGeometricSurface(\"Deck Outstand\").setSurface(deck_thk_outstand, eccentcity_outstand)"
   ]
  },
  {
   "cell_type": "code",
   "execution_count": null,
   "metadata": {},
   "outputs": [],
   "source": [
    "# Bearing joints between pier heads and longitudinal beams\n",
    "joint_mesh_attr = db.createPointMeshElementAttr(\"Bearing Joint\", \"JNT4\")\n",
    "\n",
    "joint_material_attr = db.createSpringJointMaterial(\"Bearing Material\", [10e9, 10e9, 10e9])\n",
    "joint_material_attr.setValue(\"Assignment\", \"Point\")"
   ]
  },
  {
   "cell_type": "code",
   "execution_count": null,
   "metadata": {},
   "outputs": [],
   "source": [
    "# Concrete material attribute\n",
    "concrete_mat_attr = db.createIsotropicMaterial(\"Concrete\", 34.8E6, 0.2, 2.4, 10e-6)\n",
    "\n",
    "# Set the Concrete material to be default and automatically assigned to all newly created geometry \n",
    "db.setAsDefault(\"Material\", concrete_mat_attr)"
   ]
  },
  {
   "cell_type": "code",
   "execution_count": null,
   "metadata": {},
   "outputs": [],
   "source": [
    "# Support attributes\n",
    "support_pinned_attr = db.createSupportStructural(\"Pinned\").setStructural(\"R\", \"R\", \"R\", \"F\", \"F\", \"F\", \"F\", \"F\", \"C\", \"F\") # F=Free, R=Restrained\n",
    "support_slide_attr  = db.createSupportStructural(\"Slide\").setStructural(\"F\", \"R\", \"R\", \"F\", \"F\", \"F\", \"F\", \"F\", \"C\", \"F\")\n",
    "support_fixed_attr  = db.createSupportStructural(\"Fully Fixed\").setStructural(\"R\", \"R\", \"R\", \"R\", \"R\", \"R\", \"F\", \"F\", \"C\", \"F\")"
   ]
  },
  {
   "cell_type": "markdown",
   "metadata": {},
   "source": [
    "## Create the model geometry"
   ]
  },
  {
   "cell_type": "code",
   "execution_count": null,
   "metadata": {},
   "outputs": [],
   "source": [
    "# Helper function to calculate beam coordinates accounting for the skew angle\n",
    "def skew_x(y:float)->float:\n",
    "    return y * math.tan(math.radians(skew_angle))"
   ]
  },
  {
   "cell_type": "code",
   "execution_count": null,
   "metadata": {},
   "outputs": [],
   "source": [
    "# X Coordinates for the entire deck grid\n",
    "x_grid = list()\n",
    "x = abut_width/2\n",
    "# First support\n",
    "x_grid.extend([0.0, x, x+abut_width/2])\n",
    "# Pier lines\n",
    "for iy in range(0, len(span_lengths)-1):\n",
    "    x+=span_lengths[iy]\n",
    "    x_grid.extend([x-span_lengths[iy]*contraflexure, x, x+span_lengths[iy+1]*contraflexure])\n",
    "# final support\n",
    "x+=span_lengths[-1]\n",
    "x_grid.extend([x-abut_width/2, x, x+abut_width/2])\n",
    "\n",
    "# Y Coordinates for deck grid\n",
    "s1 = []\n",
    "for s in [ s/2 for s in beam_spacing ]:\n",
    "    s1.append(s)\n",
    "    s1.append(s)\n",
    "\n",
    "spacing = [deck_overhang] + s1 + [deck_overhang]\n",
    "y_grid = [0]+list(np.add.accumulate(spacing))\n",
    "y_grid = [i - overall_width/2 for i in y_grid]\n"
   ]
  },
  {
   "cell_type": "code",
   "execution_count": null,
   "metadata": {},
   "outputs": [],
   "source": [
    "# Create the actual points in the model [Y][X]\n",
    "deck_points = [[Helpers.create_point(x+skew_x(y), y, 0.0) for x in x_grid] for y in y_grid]"
   ]
  },
  {
   "cell_type": "code",
   "execution_count": null,
   "metadata": {},
   "outputs": [],
   "source": [
    "''' Create Deck surfaces '''\n",
    "# Set the default mesh attribute which is automatically assigned to each newly created surface\n",
    "db.setAsDefault(\"Surface Mesh\", deck_mesh_attr)\n",
    "\n",
    "# Create the surfaces for the first outstand\n",
    "db.setAsDefault(\"Surface Geometric\", outstand_surface_attr)\n",
    "for ix in range(0, len(x_grid)-1):\n",
    "    Helpers.create_surface_from_points([ deck_points[0][ix], deck_points[0][ix+1], deck_points[1][ix+1], deck_points[1][ix] ])\n",
    "\n",
    "# Create the surfaces for the main deck\n",
    "db.setAsDefault(\"Surface Geometric\", deck_surface_attr)\n",
    "for iy in range(1, len(y_grid)-2):\n",
    "    for ix in range(0, len(x_grid)-1):\n",
    "        Helpers.create_surface_from_points([ deck_points[iy][ix], deck_points[iy][ix+1], deck_points[iy+1][ix+1], deck_points[iy+1][ix] ])\n",
    "\n",
    "# Create the surfaces for the second outstand\n",
    "db.setAsDefault(\"Surface Geometric\", outstand_surface_attr)\n",
    "for ix in range(0, len(x_grid)-1):\n",
    "    Helpers.create_surface_from_points([ deck_points[-2][ix], deck_points[-2][ix+1], deck_points[-1][ix+1], deck_points[-1][ix] ])\n"
   ]
  },
  {
   "cell_type": "code",
   "execution_count": null,
   "metadata": {},
   "outputs": [],
   "source": [
    "beam_indicies = []\n",
    "for iy in range(1, len(y_grid)-1):\n",
    "    if iy % 2 == 1:\n",
    "        beam_indicies.append(iy)"
   ]
  },
  {
   "cell_type": "code",
   "execution_count": null,
   "metadata": {},
   "outputs": [],
   "source": [
    "# Beam shell slcing parameters\n",
    "slice_type = 4      # Constant spacing\n",
    "slice_distances = \"2\"\n",
    "include_points = False\n",
    "start_distance = 0\n",
    "about_neutral_axis = True\n",
    "use_effective_width = False         # Use groups instead\n",
    "effective_width = 0.0\n",
    "whole_elements = False\n",
    "smooth_corners = True\n",
    "extent = 2 # Group\n",
    "rotation = 0"
   ]
  },
  {
   "cell_type": "code",
   "execution_count": null,
   "metadata": {},
   "outputs": [],
   "source": [
    "# Beam mesh\n",
    "girder_no = 1\n",
    "for no, iy in enumerate(beam_indicies):\n",
    "    girder_no = no + 1\n",
    "\n",
    "    line = Helpers.get_line_between_points(deck_points[iy][0], deck_points[iy][1])\n",
    "    group = db.createGroup(f\"Girder {girder_no}\")\n",
    "    group.add(line)\n",
    "    group.addColinearNeighbours(1)\n",
    "    beam_mesh_attr.assignTo(group)\n",
    "    beam_geom_attr.assignTo(group)\n",
    "\n",
    "    # now add the adjacent deck surfaces so the group contains all contributing elements for the slicing\n",
    "    beam_lines = ','.join([str(l.getID()) for l in group.getObjects(\"Line\")])\n",
    "    group.addHOF(\"Surface\")\n",
    "    slice = db.createBeamShellSlice(f\"Girder {girder_no}\")\n",
    "    slice.setBeamShellSlice(slice_type, slice_distances, include_points, start_distance, about_neutral_axis, use_effective_width, \n",
    "                            effective_width, whole_elements, smooth_corners, \"Slice\", extent, group.getName(), beam_lines, rotation)\n",
    "\n",
    "lusas.enableTrees(True) #needed to refresh the treeview and display the beam shell slices"
   ]
  },
  {
   "cell_type": "code",
   "execution_count": null,
   "metadata": {},
   "outputs": [],
   "source": [
    "# Determine the array indices for all support points\n",
    "support_indices = [1]\n",
    "for s in span_lengths:\n",
    "    support_indices.append(support_indices[-1]+3)"
   ]
  },
  {
   "cell_type": "code",
   "execution_count": null,
   "metadata": {},
   "outputs": [],
   "source": [
    "# Sub structures and supports\n",
    "\n",
    "# List of List of supported points, we'll use this later to assign displacements in the settlement analysis\n",
    "all_support_points = list()\n",
    "# List of pier lines, we'll use this later to assign impact loads\n",
    "pier_column_lines = list()\n",
    "\n",
    "# Pier indices\n",
    "pier_indices_X = support_indices[1:-1]\n",
    "pier_indices_Y = [2]\n",
    "for i in range(len(beam_spacing)-1):\n",
    "    pier_indices_Y.append(pier_indices_Y[-1]+2)\n",
    "\n",
    "# bearing joints requiore coincident points, make sure they dont merge together\n",
    "db.options().setBoolean(\"newFeaturesMergeable\", False)\n",
    "\n",
    "rigid_link_id = 1\n",
    "\n",
    "# Create pier lines\n",
    "for ix in pier_indices_X:\n",
    "    lusas.assignment().setAllDefaults()\n",
    "    # Create a pier head\n",
    "    pier_points = []\n",
    "    for iy in range(len(y_grid)):\n",
    "        p = deck_points[iy][ix]\n",
    "        pier_points.append(Helpers.create_point(p.getX(), p.getY(), p.getZ() - pier_head_gap))\n",
    "\n",
    "    for i in range(len(pier_points)-1):\n",
    "        line = Helpers.create_line_from_points(pier_points[i], pier_points[i+1])\n",
    "        pier_head_mesh_attr.assignTo(line)\n",
    "        pier_head_geom_attr.assignTo(line)\n",
    "\n",
    "    bearing_points = []\n",
    "    for i in beam_indicies:\n",
    "        p = pier_points[i]\n",
    "        bearing_points.append(Helpers.create_point(p.getX(), p.getY(), p.getZ()))\n",
    "\n",
    "        objs = lusas.newObjectSet().add(p).add(bearing_points[-1])\n",
    "        joint_mesh_attr.assignTo(objs)\n",
    "        joint_material_attr.assignTo(p)\n",
    "\n",
    "        # Form a rigid link between the top of the bearing and the point in th edeck plane\n",
    "        rigid_link_attr = db.createRigidLinkConstraint(f\"Rigid Link {rigid_link_id}\")\n",
    "        objs = lusas.newObjectSet().add(bearing_points[-1]).add(deck_points[i][ix])\n",
    "        rigid_link_attr.assignTo(objs)\n",
    "        rigid_link_id+=1\n",
    "    \n",
    "\n",
    "    supports = list()\n",
    "    for iy in pier_indices_Y:\n",
    "        deck_point = pier_points[iy]\n",
    "        ground_point = Helpers.create_point(deck_point.getX(), deck_point.getY(), -pier_height)\n",
    "        pier_column_lines.append(Helpers.create_line_from_points(deck_point, ground_point))\n",
    "        # Assign the fixed support attribute to the bottom point\n",
    "        support_fixed_attr.assignTo(ground_point)\n",
    "        supports.append(ground_point)\n",
    "    all_support_points.append(supports)\n",
    "    pier_geom_attr.assignTo(pier_column_lines)\n",
    "    pier_col_mesh_attr.assignTo(pier_column_lines)\n",
    "\n",
    "db.options().setBoolean(\"newFeaturesMergeable\", True)\n"
   ]
  },
  {
   "cell_type": "code",
   "execution_count": null,
   "metadata": {},
   "outputs": [],
   "source": [
    "# End diaphragms\n",
    "for ix in [support_indices[0], support_indices[-1]]:\n",
    "    for iy in range(len(y_grid)-1):\n",
    "        l = Helpers.get_line_between_points(deck_points[iy][ix], deck_points[iy+1][ix])\n",
    "        diaphragm_mesh_attr.assignTo(l)\n",
    "        diaphragm_geom_attr.assignTo(l)"
   ]
  },
  {
   "cell_type": "code",
   "execution_count": null,
   "metadata": {},
   "outputs": [],
   "source": [
    "# End 1 slide supports\n",
    "all_support_points.insert(0, list())\n",
    "for iy in beam_indicies:\n",
    "    deck_point = deck_points[iy][1]\n",
    "    support_slide_attr.assignTo(deck_point)\n",
    "    all_support_points[0].append(deck_point)\n",
    "\n",
    "# End 2 slide supports\n",
    "all_support_points.append(list())\n",
    "for iy in beam_indicies:\n",
    "    deck_point = deck_points[iy][len(x_grid) - 2]\n",
    "    support_slide_attr.assignTo(deck_point)\n",
    "    all_support_points[-1].append(deck_point)"
   ]
  },
  {
   "cell_type": "code",
   "execution_count": null,
   "metadata": {},
   "outputs": [],
   "source": [
    "# Turn off default attribute assignments\n",
    "db.setAsDefault(\"Mesh\", \"None\")\n",
    "db.setAsDefault(\"Surface Mesh\", \"None\")\n",
    "db.setAsDefault(\"Line Geometric\", \"None\")\n",
    "db.setAsDefault(\"Surface Geometric\", \"None\")\n",
    "db.setAsDefault(\"Isotropic Material\", \"None\")"
   ]
  },
  {
   "cell_type": "markdown",
   "metadata": {},
   "source": [
    "Generate the mesh"
   ]
  },
  {
   "cell_type": "code",
   "execution_count": null,
   "metadata": {},
   "outputs": [],
   "source": [
    "db.resetMesh()\n",
    "db.updateMesh()"
   ]
  },
  {
   "cell_type": "markdown",
   "metadata": {},
   "source": [
    "Define the carriageway by two kerb lines"
   ]
  },
  {
   "cell_type": "code",
   "execution_count": null,
   "metadata": {},
   "outputs": [],
   "source": [
    "overall_length = sum(span_lengths) + abut_width\n",
    "# Create lines to represent the carriageway kerbs that can be used for the Vehicle Load Optimiser\n",
    "curb_line1 = Helpers.create_line([-10,  carriageway_width/2, 0.5], [10 + overall_length,  carriageway_width/2, 0.5])\n",
    "curb_line2 = Helpers.create_line([-10, -carriageway_width/2, 0.5], [10 + overall_length, -carriageway_width/2, 0.5])\n",
    "# Set the colour to distinguish them from model lines\n",
    "curb_line1.setPen(2)\n",
    "curb_line2.setPen(2)"
   ]
  },
  {
   "cell_type": "markdown",
   "metadata": {},
   "source": [
    "# Loads"
   ]
  },
  {
   "cell_type": "code",
   "execution_count": null,
   "metadata": {},
   "outputs": [],
   "source": [
    "# Get the automatically created loadcase in analysis 1 and add automatic gravity to it\n",
    "win32.CastTo(db.getLoadset(\"Loadcase 1\", 0).setName(\"Gravity\"), \"IFLoadcase\").addGravity(True)"
   ]
  },
  {
   "cell_type": "code",
   "execution_count": null,
   "metadata": {},
   "outputs": [],
   "source": [
    "# Create a loadcase for the Parapet loads to be applied to the entire deck surface\n",
    "parapet_loadcase = db.createLoadcase(\"Parapet Loads\")\n",
    "# Set the loadcase in the assignment object\n",
    "assignment = lusas.assignment().setAllDefaults().setLoadset(parapet_loadcase)\n",
    "# Create a locally distributed load for Parapet loads\n",
    "parapet_load_attr = db.createLoadingGlobalDistributed(\"Parapet Loads\").setGlobalDistributed(\"Length\", 0.0, 0.0, parapet_load_udl, 0.0, 0.0, 0.0)\n",
    "# and assign to all the edge lines\n",
    "\n",
    "# Start with the first point at either edge of the deck\n",
    "for iy in [0, len(y_grid)-1]:\n",
    "    p0 = deck_points[iy][0]\n",
    "    p1 = deck_points[iy][1]\n",
    "    # Find the line that connects the first and second points, i.e. along the x axis and add to the object set\n",
    "    objs = lusas.newObjectSet()\n",
    "    for geom in p0.getHOFs():\n",
    "        if geom.getEndPoint() == p1 or geom.getStartPoint() == p1: # Line directions are different so check both points\n",
    "            objs.add(geom)\n",
    "    # Include all connected collinear lines\n",
    "    objs.addColinearNeighbours(1)\n",
    "    # Assign the parapet loads\n",
    "    parapet_load_attr.assignTo(objs, assignment)"
   ]
  },
  {
   "cell_type": "code",
   "execution_count": null,
   "metadata": {},
   "outputs": [],
   "source": [
    "# Create a loadcase for the Surfacing loads to be applied to the entire deck surface\n",
    "surfacing_loadcase = db.createLoadcase(\"Surfacing\")\n",
    "# Set the loadcase in the assignment object\n",
    "assignment = lusas.assignment().setAllDefaults().setLoadset(surfacing_loadcase)\n",
    "# Create a locally distributed load for Surfacing loads\n",
    "surf_load_attr = db.createLoadingLocalDistributed(\"Surfacing\").setLocalDistributed(0.0, 0.0, surf_load_intensity, \"surface\")\n",
    "# and assign to all the surfaces\n",
    "surf_load_attr.assignTo(\"Surfaces\", assignment)"
   ]
  },
  {
   "cell_type": "markdown",
   "metadata": {},
   "source": [
    "Discrete loads can be be re-used in the model and assigned to a different origin. We'll do that for the footpath loads.<br/>\n",
    "We'll make a generic function to create a 4 noded discrete patch load the size of the footpath."
   ]
  },
  {
   "cell_type": "code",
   "execution_count": null,
   "metadata": {},
   "outputs": [],
   "source": [
    "POINT_OFFSET = 9 # Points created for assignment of discrete loads will be offset from the deck for clarity\n",
    "Z_OFFSET = 1\n",
    "\n",
    "def create_footpath_load(name:str, load1:float, load2:float)->'IFLoadingDiscretePatch':\n",
    "    attr = db.createLoadingDiscretePatch(name).setDiscretePatch(\"surf4\", \"Z\")\n",
    "    # Add the points of an 4 node patch load in which the load intensity varies across the width\n",
    "    # The x coordinates are increased by 1 because we'll assign these loads to points created at x=-1 to hold these loads\n",
    "    attr.addRow(POINT_OFFSET,                0.0,           Z_OFFSET, load1)\n",
    "    attr.addRow(POINT_OFFSET,                footway_width, Z_OFFSET, load2)\n",
    "    attr.addRow(POINT_OFFSET+overall_length, footway_width, Z_OFFSET, load2)\n",
    "    attr.addRow(POINT_OFFSET+overall_length, 0.0,           Z_OFFSET, load1)\n",
    "    # Explicitly specify how the patch load should be divided up.\n",
    "    # We know the width of the footway is small so we dont need so many divisions\n",
    "    # Limiting the divisions speeds up the time to resolve the patch load into nodal loads\n",
    "    attr.setDivisions(math.ceil(footway_width), 40)\n",
    "\n",
    "    return attr"
   ]
  },
  {
   "cell_type": "code",
   "execution_count": null,
   "metadata": {},
   "outputs": [],
   "source": [
    "# Create a surfacing load using the generic function\n",
    "footpath_surf_load_attr = create_footpath_load(\"Footpath Surface\", footpath_surface_load_intensity, footpath_surface_load_intensity)\n",
    "\n",
    "# Assign this to a new point using the assignment object set up for the deck surfacing loads\n",
    "footpath_point1 = Helpers.create_point(-POINT_OFFSET, -overall_width/2, 0.0)\n",
    "footpath_point1.setPen(2)\n",
    "footpath_surf_load_attr.assignTo(footpath_point1, assignment)\n",
    "# And again to a 2nd new point\n",
    "footpath_point2 = Helpers.create_point(-POINT_OFFSET, carriageway_width/2, 0.0)\n",
    "footpath_point2.setPen(2)\n",
    "footpath_surf_load_attr.assignTo(footpath_point2, assignment)\n",
    "\n",
    "# Note that we set the colour of the new points to blue so we can identify that they are not part of the model and only used to locate the discrete loads"
   ]
  },
  {
   "cell_type": "markdown",
   "metadata": {},
   "source": [
    "Create a settlement load acting only on each support"
   ]
  },
  {
   "cell_type": "code",
   "execution_count": null,
   "metadata": {},
   "outputs": [],
   "source": [
    "# Create the prescribed displacement attribute to represent vertical settlement\n",
    "settlement_attr = db.createPrescribedDisplacementLoad(\"Settlement\", \"Total\")\n",
    "settlement_attr.setDisplacement(\"W\", settlement)\n",
    "\n",
    "# Create a loadcase for each support settlement\n",
    "for iy in range(0, len(all_support_points)):\n",
    "    settlement_loadcase = db.createLoadcase(f\"Settlement {iy+1}\")\n",
    "    # Set the loadcase in the assignment object\n",
    "    assignment = lusas.assignment().setAllDefaults().setLoadset(settlement_loadcase)\n",
    "    # Use the surface set defined early to assign the load to all deck surfaces\n",
    "    for p in all_support_points[iy]:\n",
    "        settlement_attr.assignTo(p, assignment)"
   ]
  },
  {
   "cell_type": "markdown",
   "metadata": {},
   "source": [
    "# Variable Loads"
   ]
  },
  {
   "cell_type": "markdown",
   "metadata": {},
   "source": [
    "Create temperature loads"
   ]
  },
  {
   "cell_type": "code",
   "execution_count": null,
   "metadata": {},
   "outputs": [],
   "source": [
    "# Create a loadcases for temperature\n",
    "temp_warm_loadcase = db.createLoadcase(\"Temperature +dT\")\n",
    "temp_cool_loadcase = db.createLoadcase(\"Temperature -dT\")\n",
    "# Temperature loading warming \n",
    "temp_warm_attr = db.createLoadingTemperature(\"Warming\").setTemperature(\"element\", temperature_increase, 0.0, 0.0, 0.0, 0.0, 0.0, 0.0, 0.0)\n",
    "# Temperature loading cooling \n",
    "temp_cool_attr = db.createLoadingTemperature(\"Cooling\").setTemperature(\"element\", temperature_decrease, 0.0, 0.0, 0.0, 0.0, 0.0, 0.0, 0.0)\n",
    "# Assign the temperature warming load\n",
    "assignment = lusas.assignment().setAllDefaults().setLoadset(temp_warm_loadcase)\n",
    "temp_warm_attr.assignTo(\"Surfaces\", assignment)\n",
    "# Assign the temperature cooling load\n",
    "assignment = lusas.assignment().setAllDefaults().setLoadset(temp_cool_loadcase)\n",
    "temp_cool_attr.assignTo(\"Surfaces\", assignment)"
   ]
  },
  {
   "cell_type": "code",
   "execution_count": null,
   "metadata": {},
   "outputs": [],
   "source": [
    "# Create a loadcases for temperature Gradient\n",
    "temp_warm_grad_loadcase = db.createLoadcase(\"Temperature +dT Grad\")\n",
    "temp_cool_grad_loadcase = db.createLoadcase(\"Temperature -dT Grad\")\n",
    "# Temperature loading warming \n",
    "temp_warm_attr = db.createLoadingTemperatureProfile(\"Warming Gradient\").setTopTemperature(temp_max).setBottomTemperature(temp_min)\n",
    "# Temperature loading cooling \n",
    "temp_cool_attr = db.createLoadingTemperatureProfile(\"Cooling Gradient\").setTopTemperature(temp_min).setBottomTemperature(temp_max)\n",
    "# Assign the temperature warming load\n",
    "assignment = lusas.assignment().setAllDefaults().setLoadset(temp_warm_grad_loadcase)\n",
    "temp_warm_attr.assignTo(\"Surfaces\", assignment)\n",
    "# Assign the temperature cooling load\n",
    "assignment = lusas.assignment().setAllDefaults().setLoadset(temp_cool_grad_loadcase)\n",
    "temp_cool_attr.assignTo(\"Surfaces\", assignment)"
   ]
  },
  {
   "cell_type": "markdown",
   "metadata": {},
   "source": [
    "Pedestrian live loads"
   ]
  },
  {
   "cell_type": "code",
   "execution_count": null,
   "metadata": {},
   "outputs": [],
   "source": [
    "# We can reuse the discrete patch load function to create pedestrian live loads \n",
    "ped_live_load_attr = create_footpath_load(\"Pedestrian Live load\", pedestrian_live_load, pedestrian_live_load)\n",
    "\n",
    "# Create a loadcase for the pedestrian live loads\n",
    "ped_loads_loadcase = db.createLoadcase(\"Pedestrian live loads\")\n",
    "\n",
    "# Redefine the assignment object for the discrete load assignment as we did for the surfacing loads\n",
    "assignment = lusas.assignment().setAllDefaults().setLoadset(ped_loads_loadcase)\n",
    "assignment.setLoadMoving(\"Exclude All Load\")\n",
    "assignment.setSearchAssignType(\"area\")\n",
    "\n",
    "# Again, assign the same load to the two dedicated points\n",
    "ped_live_load_attr.assignTo(footpath_point1, assignment)\n",
    "ped_live_load_attr.assignTo(footpath_point2, assignment)"
   ]
  },
  {
   "cell_type": "markdown",
   "metadata": {},
   "source": [
    "Breaking load"
   ]
  },
  {
   "cell_type": "code",
   "execution_count": null,
   "metadata": {},
   "outputs": [],
   "source": [
    "# Create a discrete patch load with the loads acting in the X direction.\n",
    "# Patch loads are projected onto the structure in the direction of their normal. Which will be the Z axis in this case.\n",
    "breaking_load_attr = db.createLoadingDiscretePatch(\"Braking load 1\").setDiscretePatch(\"surf4\", \"X\")\n",
    "# Add the points of an 4 node patch load\n",
    "breaking_load_attr.addRow(POINT_OFFSET,                -carriageway_width/2, Z_OFFSET, breaking_load_intensity)\n",
    "breaking_load_attr.addRow(POINT_OFFSET,                 carriageway_width/2, Z_OFFSET, breaking_load_intensity)\n",
    "breaking_load_attr.addRow(POINT_OFFSET+overall_length,  carriageway_width/2, Z_OFFSET, breaking_load_intensity)\n",
    "breaking_load_attr.addRow(POINT_OFFSET+overall_length, -carriageway_width/2, Z_OFFSET, breaking_load_intensity)\n",
    "\n",
    "# Create a loadcase for the braking loads\n",
    "breaking_loads_loadcase1 = db.createLoadcase(\"Braking load +ve\")\n",
    "breaking_loads_loadcase2 = db.createLoadcase(\"Braking load -ve\")\n",
    "\n",
    "# Redefine the assignment object for the discrete load assignment as we did for the surfacing loads\n",
    "assignment = lusas.assignment().setAllDefaults().setLoadset(breaking_loads_loadcase1)\n",
    "assignment.setLoadMoving(\"Exclude All Load\")\n",
    "assignment.setSearchAssignType(\"area\")\n",
    "\n",
    "# Assign to the point at the origin\n",
    "point0 = Helpers.create_point(-POINT_OFFSET, 0.0, 0.0)\n",
    "point0.setPen(2)\n",
    "breaking_load_attr.assignTo(point0, assignment)\n",
    "\n",
    "# Assign the same load with a negative load factor for the opposite direction\n",
    "assignment.setLoadFactor(-1)\n",
    "assignment.setLoadset(breaking_loads_loadcase2)\n",
    "breaking_load_attr.assignTo(point0, assignment)"
   ]
  },
  {
   "cell_type": "markdown",
   "metadata": {},
   "source": [
    "Horizontal loads"
   ]
  },
  {
   "cell_type": "code",
   "execution_count": null,
   "metadata": {},
   "outputs": [],
   "source": [
    "# Create the concentrated load attribute\n",
    "horiz_load_pos_attr = db.createLoadingConcentrated(\"Horizontal +ve\")\n",
    "horiz_load_pos_attr.setConcentrated(0.0, horiz_load, 0.0, 0.0, 0.0, 0.0, 0.0, 0.0, 0.0, 0.0)\n",
    "horiz_load_neg_attr = db.createLoadingConcentrated(\"Horizontal -ve\")\n",
    "horiz_load_neg_attr.setConcentrated(0.0, -horiz_load, 0.0, 0.0, 0.0, 0.0, 0.0, 0.0, 0.0, 0.0)\n",
    "\n",
    "# Assign positive and negative horizontal loads to each pier\n",
    "count = 1\n",
    "for ix in pier_indices_X:\n",
    "    horiz_pos_loadcase = db.createLoadcase(f\"Horizontal +ve {count}\")\n",
    "    horiz_neg_loadcase = db.createLoadcase(f\"Horizontal -ve {count}\")\n",
    "    # Assign the lateral load to the central column of each pier\n",
    "    deck_point = deck_points[pier_indices_Y[1]][ix]\n",
    "    assignment = lusas.assignment().setAllDefaults().setLoadset(horiz_pos_loadcase)\n",
    "    horiz_load_pos_attr.assignTo(deck_point, assignment)\n",
    "    assignment = lusas.assignment().setAllDefaults().setLoadset(horiz_neg_loadcase)\n",
    "    horiz_load_neg_attr.assignTo(deck_point, assignment)\n",
    "    count+=1"
   ]
  },
  {
   "cell_type": "markdown",
   "metadata": {},
   "source": [
    "# Impact Loads"
   ]
  },
  {
   "cell_type": "code",
   "execution_count": null,
   "metadata": {},
   "outputs": [],
   "source": [
    "# Impact load defined as a point load at mid height of the pier leg\n",
    "impact_load_attr = db.createLoadingBeamPoint(\"Pier Impact\").setBeamPoint(\"Parametric\", \"Global\", \"beam\")\n",
    "impact_load_attr.addRow(0.5, -pier_impact_load/2, pier_impact_load, 0.0, 0.0, 0.0, 0.0)\n",
    "# Create the loadcase - we'll just consider a single case here\n",
    "impact_loadcase = db.createLoadcase(f\"Pier Impact\")\n",
    "# Assign to the first pier leg\n",
    "impact_load_attr.assignTo(pier_column_lines[0], assignment.setAllDefaults().setLoadset(impact_loadcase))"
   ]
  },
  {
   "cell_type": "code",
   "execution_count": null,
   "metadata": {},
   "outputs": [],
   "source": [
    "# Impact load applied to the deck\n",
    "# Create a discrete line load acting in the global Y direction, but projected onto the model in the Z direction\n",
    "deck_impact_load_attr = db.createLoadingDiscretePatch(\"Deck Impact\").setDiscretePatch(\"line2\", \"Y\", [0,0,1])\n",
    "# Specify the load position relative to the \n",
    "deck_impact_load_attr.addRow(span_lengths[1]/2 -0.5, 0.0, 0.0, deck_impact_load)\n",
    "deck_impact_load_attr.addRow(span_lengths[1]/2 +0.5, 0.0, 0.0, deck_impact_load)\n",
    "# Create the loadcase\n",
    "impact_loadcase = db.createLoadcase(f\"Deck Impact\")\n",
    "# Assign to the point at the start of span 2\n",
    "p0 = deck_points[1][4]\n",
    "deck_impact_load_attr.assignTo(p0, assignment.setAllDefaults().setLoadset(impact_loadcase))"
   ]
  },
  {
   "cell_type": "markdown",
   "metadata": {},
   "source": [
    "# Load Groups"
   ]
  },
  {
   "cell_type": "code",
   "execution_count": null,
   "metadata": {},
   "outputs": [],
   "source": [
    "''' Create some intermediate load groups to help with later design combinations '''\n",
    "# Get all the loadcases in the model\n",
    "loadcases = db.getLoadsets(\"Loadcase\")\n",
    "# Envelope Settlement cases\n",
    "settlement_env = db.createEnvelope(\"Settlement Env\")\n",
    "for lc in loadcases:\n",
    "    if \"Settlement\" in lc.getName():\n",
    "        settlement_env.addEntry(lc)\n",
    "# Envelope +/- Temperature cases\n",
    "temp_annual_env = db.createEnvelope(\"Temp Annual Env\")\n",
    "temp_annual_env.addEntry(temp_warm_loadcase)\n",
    "temp_annual_env.addEntry(temp_cool_loadcase)\n",
    "temp_daily_env = db.createEnvelope(\"Temp Daily Env\")\n",
    "temp_daily_env.addEntry(temp_warm_grad_loadcase)\n",
    "temp_daily_env.addEntry(temp_cool_grad_loadcase)\n",
    "# Then combine seasonal and daily variations. Note both max and min versions of the envelope should be included in the smart combination\n",
    "temp_comb = db.createCombinationSmart(\"Temperature\")\n",
    "temp_comb.addEntry(1,0,temp_annual_env)\n",
    "temp_comb.addEntry(1,0,temp_annual_env.getAssocLoadset())\n",
    "temp_comb.addEntry(1,0,temp_daily_env)\n",
    "temp_comb.addEntry(1,0,temp_daily_env.getAssocLoadset())\n",
    "# Envelope Braking Loadcases\n",
    "braking_env = db.createEnvelope(\"Braking Env\")\n",
    "for lc in loadcases:\n",
    "    if \"Braking\" in lc.getName():\n",
    "        braking_env.addEntry(lc)\n",
    "# Envelope Horizontal Loadcases\n",
    "braking_env = db.createEnvelope(\"Horizontal Env\")\n",
    "for lc in loadcases:\n",
    "    if \"Horizontal\" in lc.getName():\n",
    "        braking_env.addEntry(lc)"
   ]
  },
  {
   "cell_type": "markdown",
   "metadata": {},
   "source": [
    "# Influence analysis"
   ]
  },
  {
   "cell_type": "code",
   "execution_count": null,
   "metadata": {},
   "outputs": [],
   "source": [
    "# An influence analysis considers unit loads applied to a group of elements in order to generate influence surfaces.\n",
    "# We need to specify the group of elements by assigning a search area\n",
    "# Create a search area attribute\n",
    "search_area_attr = db.createSearchArea(\"Deck Slab\")\n",
    "# Assign the search area attribute to the same surfaces\n",
    "search_area_attr.assignTo(\"Surfaces\", lusas.assignment().setAllDefaults())"
   ]
  },
  {
   "cell_type": "code",
   "execution_count": null,
   "metadata": {},
   "outputs": [],
   "source": [
    "# Create a Direct Method Influence Analysis\n",
    "dmi_analysis = db.createAnalysisDirectMethodInf(\"DMI\")\n",
    "# Specify the elements in the search area deck slab\n",
    "dmi_analysis.setSearchArea(\"Deck Slab\")\n",
    "dmi_analysis.setSearchAssignType(\"area\")\n",
    "dmi_analysis.setIsGrillageType(1)\n",
    "if dmi_grid:\n",
    "    dmi_analysis.setGridCentreline(\"X\")\n",
    "    dmi_analysis.setGridWidth(carriageway_width)\n",
    "dmi_analysis.setDoMatchNodes(dmi_grid)\n",
    "#dmi_analysis.setIncludeMidSideNodes(False)\n",
    "dmi_analysis.setSelectedResultsGroup(\"assignments\")\n",
    "dmi_analysis.createElements()"
   ]
  },
  {
   "cell_type": "markdown",
   "metadata": {},
   "source": [
    "# Influence based on slice locations"
   ]
  },
  {
   "cell_type": "code",
   "execution_count": null,
   "metadata": {},
   "outputs": [],
   "source": [
    "# Create an influence attribute which is assigned to slice locations\n",
    "inf_attr = db.createDirectInfluence(\"Girder Major Bending\")\n",
    "inf_attr.setResultsTransformGlobal()\n",
    "inf_attr.setInfluence(\"Beam/Shell Slice Resultants\", \"My\")"
   ]
  },
  {
   "cell_type": "markdown",
   "metadata": {},
   "source": [
    "# Solve the analyses"
   ]
  },
  {
   "cell_type": "code",
   "execution_count": null,
   "metadata": {},
   "outputs": [],
   "source": [
    "# Solve each analysis and open all the available results files\n",
    "if solve_analyses:\n",
    "    db.getAnalysis(\"Analysis 1\").solve(True)\n",
    "    db.openAllResults(False)"
   ]
  },
  {
   "cell_type": "code",
   "execution_count": null,
   "metadata": {},
   "outputs": [],
   "source": [
    "if solve_analyses:\n",
    "    inf_attr.assignToBeamShellSlice(\"Girder 3\", \"Direct Method Influence Analysis 1\")"
   ]
  },
  {
   "cell_type": "code",
   "execution_count": null,
   "metadata": {},
   "outputs": [],
   "source": [
    "# lusas.view().insertValuesLayer()\n",
    "# lusas.view().values().setResultsTransformNone()\n",
    "# lusas.view().values().setResults(\"Reaction\", \"FZ\")"
   ]
  },
  {
   "cell_type": "markdown",
   "metadata": {},
   "source": [
    "Set the view to be perspective mode"
   ]
  },
  {
   "cell_type": "code",
   "execution_count": null,
   "metadata": {},
   "outputs": [],
   "source": [
    "# lusas.view().setProjection(1)\n",
    "# lusas.view().setIsometric()\n",
    "lusas.view().setScaledToFit(True)\n",
    "# lusas.view().geometry().colourByParentGroup(True)\n"
   ]
  },
  {
   "cell_type": "markdown",
   "metadata": {},
   "source": [
    "Set the view to display the assigned loading in the attributes layers as well as the geometric \"fleshing\""
   ]
  },
  {
   "cell_type": "code",
   "execution_count": null,
   "metadata": {},
   "outputs": [],
   "source": [
    "lusas.view().insertAttributesLayer()\n",
    "lusas.view().attributes().drawPatchByDefinition(True)\n",
    "lusas.view().attributes().visualiseAll(\"Loading\")\n",
    "lusas.view().attributes().visualiseAll(\"Geometric\")\n",
    "#lusas.view().attributes().visualiseAllTransparent(\"Geometric\")\n",
    "\n",
    "if solve_analyses:\n",
    "    lusas.view().insertDiagramsLayer()\n",
    "    lusas.view().diagrams().setResultsTransformNone()\n",
    "    lusas.view().diagrams().setResults(\"Beam/Shell Slice Resultants\", \"My\")\n",
    "    lusas.view().diagrams().setLocation(\"BeamShellSlice\")\n",
    "    lusas.view().diagrams().setAssocOption(\"Single\")\n",
    "\n",
    "# dont show beam shell slice definitions\n",
    "lusas.view().utilities().setBeamShellSliceOptions(False, False, False, False)\n"
   ]
  }
 ],
 "metadata": {
  "kernelspec": {
   "display_name": "Python 3",
   "language": "python",
   "name": "python3"
  },
  "language_info": {
   "codemirror_mode": {
    "name": "ipython",
    "version": 3
   },
   "file_extension": ".py",
   "mimetype": "text/x-python",
   "name": "python",
   "nbconvert_exporter": "python",
   "pygments_lexer": "ipython3",
   "version": "3.13.2"
  }
 },
 "nbformat": 4,
 "nbformat_minor": 2
}
