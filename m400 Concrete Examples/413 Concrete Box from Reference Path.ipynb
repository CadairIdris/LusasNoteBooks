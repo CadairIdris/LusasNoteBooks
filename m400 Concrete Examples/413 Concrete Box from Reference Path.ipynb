{
 "cells": [
  {
   "cell_type": "markdown",
   "id": "dc13136d",
   "metadata": {},
   "source": [
    "# #413 Box section following path\n",
    "<i></i>\n",
    "***"
   ]
  },
  {
   "cell_type": "code",
   "execution_count": null,
   "id": "fedeae8a",
   "metadata": {},
   "outputs": [],
   "source": [
    "import sys; sys.path.append('../') # Reference modules in parent directory\n",
    "from LPI_22_0 import *\n",
    "lusas = get_lusas_modeller()\n",
    "db = lusas.database()\n",
    "\n",
    "from m100_Tools_And_Helpers import Helpers\n",
    "Helpers.initialise(lusas)\n",
    "\n",
    "import numpy as np\n",
    "import math\n",
    "import copy"
   ]
  },
  {
   "cell_type": "code",
   "execution_count": null,
   "id": "0ce0b478",
   "metadata": {},
   "outputs": [],
   "source": [
    "# Sections defined at parametric distances along the path\n",
    "INCREMENT = 0.1"
   ]
  },
  {
   "cell_type": "code",
   "execution_count": null,
   "id": "2e82002f",
   "metadata": {},
   "outputs": [],
   "source": [
    "class Point:\n",
    "    \n",
    "    def __init__(self, x:float, y:float, z:float):\n",
    "        self.X = x\n",
    "        self.Y = y\n",
    "        self.Z = z\n",
    "\n",
    "    def __repr__(self) -> str:\n",
    "        return f\"({self.X}, {self.Y})\""
   ]
  },
  {
   "cell_type": "code",
   "execution_count": null,
   "id": "b6bc3629",
   "metadata": {},
   "outputs": [],
   "source": [
    "class BoxSection:\n",
    "\n",
    "    def __init__(self, bf_width, tf_width, outstand_width, web_depth):\n",
    "        # Top flange\n",
    "        self.P1 = Point(0.0,  tf_width / 2 + outstand_width, 0.0)\n",
    "        self.P2 = Point(0.0,  tf_width / 2, 0.0)\n",
    "        self.P3 = Point(0.0, -tf_width / 2, 0.0)\n",
    "        self.P4 = Point(0.0, -tf_width / 2 - outstand_width, 0.0)\n",
    "        # Bottom flange\n",
    "        self.P5 = Point(0.0,  bf_width / 2, -web_depth)\n",
    "        self.P6 = Point(0.0, -bf_width / 2, -web_depth)\n",
    "\n",
    "        self.model_points : list[IFPoint]\n",
    "        self.model_lines : list[IFLine]\n",
    "\n",
    "    def get_points(self):\n",
    "        return [self.P1, self.P2, self.P3, self.P4, self.P5, self.P6]\n",
    "    \n",
    "    def translate(self, x:float, y:float, z:float):\n",
    "        for p in self.get_points():\n",
    "            p.X += x\n",
    "            p.Y += y\n",
    "            p.Z += z\n",
    "\n",
    "    def rotate(self, origin, theta_z):\n",
    "        for p in self.get_points():\n",
    "            dx = 0 # section should have been translated to x\n",
    "            dy = p.Y-origin[1]\n",
    "            x1 = (dx * math.cos(theta_z) - dy * math.sin(theta_z))\n",
    "            y1 = (dx * math.sin(theta_z) + dy * math.cos(theta_z))\n",
    "            p.X += (x1-dx)\n",
    "            p.Y += (y1-dy)\n",
    "\n",
    "\n",
    "    def create_model_points(self):\n",
    "        self.model_points = [Helpers.create_point(p.X, p.Y, p.Z) for p in self.get_points()]\n",
    "\n",
    "    def create_model_lines(self):\n",
    "        self.model_lines = []\n",
    "        # Top Flange\n",
    "        for i in range(3):\n",
    "            self.model_lines.append(Helpers.create_line_from_points(self.model_points[i], self.model_points[i+1]))\n",
    "\n",
    "        # Webs\n",
    "        self.model_lines.append(Helpers.create_line_from_points(self.model_points[1], self.model_points[4]))\n",
    "        self.model_lines.append(Helpers.create_line_from_points(self.model_points[2], self.model_points[5]))\n",
    "\n",
    "        # Bottom flange        \n",
    "        self.model_lines.append(Helpers.create_line_from_points(self.model_points[4], self.model_points[5]))  \n",
    "     "
   ]
  },
  {
   "cell_type": "code",
   "execution_count": null,
   "id": "05f84f36",
   "metadata": {},
   "outputs": [],
   "source": [
    "base_section = BoxSection(5.0, 6.0, 3.0, 3.0)"
   ]
  },
  {
   "cell_type": "code",
   "execution_count": null,
   "id": "d5ac6bbd",
   "metadata": {},
   "outputs": [],
   "source": [
    "# Reference path defining the bridge alignment\n",
    "ref_path : IFReferencePath = win32.CastTo( db.getObject(\"Reference Path\", \"Path1\"), \"IFReferencePath\" )\n",
    "poly = ref_path.getDefn()"
   ]
  },
  {
   "cell_type": "code",
   "execution_count": null,
   "id": "b608bb9e",
   "metadata": {},
   "outputs": [],
   "source": [
    "# Start of the path\n",
    "xStart = 0\n",
    "yStart = 0\n",
    "zStart = 0\n",
    "poly.getStartCoord(xStart, yStart, zStart)"
   ]
  },
  {
   "cell_type": "code",
   "execution_count": null,
   "id": "46d7c5a3",
   "metadata": {},
   "outputs": [],
   "source": [
    "section_list :list[BoxSection] = []"
   ]
  },
  {
   "cell_type": "code",
   "execution_count": null,
   "id": "61f8497e",
   "metadata": {},
   "outputs": [],
   "source": [
    "\n",
    "for x in np.arange(0.0, 1.01, INCREMENT):\n",
    "     # Translation\n",
    "    position = poly.getInterpolatedPosition(x)\n",
    "    xOffset = position[0] - xStart\n",
    "    yOffset = position[1] - yStart\n",
    "    zOffset = position[2] - zStart\n",
    "\n",
    "    # Rotations\n",
    "    tangent = poly.getInterpolatedTangent(x)\n",
    "    theta_z = np.arccos(tangent[0])\n",
    "    if(tangent[1] < 0):\n",
    "        theta_z *= -1\n",
    "\n",
    "\n",
    "    # New section \n",
    "    new_section = copy.deepcopy(base_section)\n",
    "    # move to the parametric distance x\n",
    "    new_section.translate(xOffset, yOffset, zOffset)\n",
    "    # rotate to perpendicular to path\n",
    "    new_section.rotate(position, theta_z)\n",
    "    # create geometry\n",
    "    new_section.create_model_points()\n",
    "    new_section.create_model_lines()\n",
    "    # save section\n",
    "    section_list.append(new_section)"
   ]
  },
  {
   "cell_type": "code",
   "execution_count": null,
   "id": "2c4402a5",
   "metadata": {},
   "outputs": [],
   "source": [
    "# Join the sections\n",
    "for ip, sp in enumerate(base_section.get_points()):\n",
    "\n",
    "    objs = lusas.newObjectSet()\n",
    "\n",
    "    for s in section_list:\n",
    "        objs.add(s.model_points[ip])\n",
    "\n",
    "    geom_data = lusas.geometryData().setAllDefaults()\n",
    "    geom_data.setCreateMethod(\"spline\")\n",
    "    geom_data.useSelectionOrder(True)\n",
    "    geom_data.setLowerOrderGeometryType(\"points\")\n",
    "    newObjs = objs.createLine(geom_data)\n",
    "    newObjs.add(objs)\n",
    "    geom_data.setAllDefaults()\n",
    "    splitLines = newObjs.splitLine(geom_data)\n",
    "\n",
    "    assert splitLines.count(\"Line\") == len(section_list) - 1"
   ]
  },
  {
   "cell_type": "code",
   "execution_count": null,
   "id": "a19ae710",
   "metadata": {},
   "outputs": [],
   "source": [
    "# Surfaces\n",
    "\n",
    "for iSection in range(len(section_list)-1):\n",
    "\n",
    "    s1 = section_list[iSection]\n",
    "    s2 = section_list[iSection+1]\n",
    "\n",
    "    long_lines = []\n",
    "    for iLine in range(len(base_section.get_points())):\n",
    "        long_lines.append(Helpers.get_line_between_points(s1.model_points[iLine], s2.model_points[iLine]))\n",
    "\n",
    "    # Top Flange\n",
    "    for i in range(3):\n",
    "        Helpers.create_surface_from_lines([long_lines[i], s2.model_lines[i], long_lines[i+1], s1.model_lines[i]])\n",
    "\n",
    "    # Webs\n",
    "    Helpers.create_surface_from_lines([long_lines[1], s2.model_lines[-3], long_lines[-2], s1.model_lines[-3]])\n",
    "    Helpers.create_surface_from_lines([long_lines[2], s2.model_lines[-2], long_lines[-1], s1.model_lines[-2]])\n",
    "\n",
    "    # Bottom flange\n",
    "    Helpers.create_surface_from_lines([long_lines[-2], s2.model_lines[-1], long_lines[-1], s1.model_lines[-1]])    \n"
   ]
  }
 ],
 "metadata": {
  "kernelspec": {
   "display_name": "Python 3",
   "language": "python",
   "name": "python3"
  },
  "language_info": {
   "codemirror_mode": {
    "name": "ipython",
    "version": 3
   },
   "file_extension": ".py",
   "mimetype": "text/x-python",
   "name": "python",
   "nbconvert_exporter": "python",
   "pygments_lexer": "ipython3",
   "version": "3.13.2"
  }
 },
 "nbformat": 4,
 "nbformat_minor": 5
}
