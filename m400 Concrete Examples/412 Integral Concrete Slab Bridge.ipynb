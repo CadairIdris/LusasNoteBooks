{
 "cells": [
  {
   "cell_type": "markdown",
   "metadata": {},
   "source": [
    "# #41 Multi span concrete slab bridge deck with integral substructures\n",
    "<i>Deck slab modelled in shell elements and piers modelled with beam elements. 3 options for creating influence analysis are demonstrated ready for traffic load optimisation</i>\n",
    "***"
   ]
  },
  {
   "cell_type": "code",
   "execution_count": null,
   "metadata": {},
   "outputs": [],
   "source": [
    "solve_analyses = False\n",
    "dmi_grid = False # Use nodes in search area instead\n",
    "influence_locations = [0.5] #[0.0, 0.2, 0.4, 0.6, 0.8, 1.0]  # Parametric distances along each line\n",
    "influence_lines_y   = [3]   #[2,3,4]                         # Lines across the deck to consider\n",
    "N_NODE = 3  # For influence analysis based on nodes, add influence assignments and avery N nodes"
   ]
  },
  {
   "cell_type": "markdown",
   "metadata": {},
   "source": [
    "Define model parameters"
   ]
  },
  {
   "cell_type": "code",
   "execution_count": null,
   "metadata": {},
   "outputs": [],
   "source": [
    "# Spans\n",
    "span_lengths = [15, 20, 15]\n",
    "skew_angle = 25\n",
    "\n",
    "# Geometric\n",
    "deck_width = 11\n",
    "deck_overhang = 1.5\n",
    "deck_thk = 1.0\n",
    "deck_thk_outstand = 0.25\n",
    "# deck_thk_pier = 1.4\n",
    "\n",
    "abut_thk = 1.0\n",
    "pier_thk = 1.1\n",
    "# pier_head = 2.0\n",
    "\n",
    "pier_height = 5\n",
    "\n",
    "\n",
    "# Meshing\n",
    "mesh_size = 2\n",
    "\n",
    "# Loading area\n",
    "carriageway_width = 11\n",
    "\n",
    "# Loads\n",
    "surf_load_intensity = -2.5\n",
    "parapet_load_udl = -2.5\n",
    "footpath_surface_load_intensity = -1 # Additional thickness of footpath\n",
    "settlement = -0.01 # m\n",
    "\n",
    "# Temperatures\n",
    "temperature_increase = 20\n",
    "temperature_decrease = -20\n",
    "temp_max = 25\n",
    "temp_min = 0.0\n",
    "\n",
    "# Wind load\n",
    "wind_udl = 10\n",
    "wind_mom = 2\n",
    "\n",
    "# Live loads\n",
    "pedestrian_live_load = -5 # kpa\n",
    "breaking_load = 900 # kN\n",
    "horiz_load = 200    # kN\n",
    "pier_impact_load = 1000 # kN\n",
    "deck_impact_load = 1000 # kN/m"
   ]
  },
  {
   "cell_type": "code",
   "execution_count": null,
   "metadata": {},
   "outputs": [],
   "source": [
    "# Calculated dimensions\n",
    "overall_length = sum(span_lengths) + abut_thk\n",
    "overall_width  = 2*deck_overhang + deck_width\n",
    "\n",
    "footway_width = (overall_width-carriageway_width)/2\n",
    "\n",
    "breaking_load_intensity = breaking_load / (carriageway_width*overall_length)\n",
    "\n",
    "# eccentcity_pier = (deck_thk_pier-deck_thk)/2\n",
    "eccentcity_outstand = (deck_thk_outstand-deck_thk)/2"
   ]
  },
  {
   "cell_type": "markdown",
   "metadata": {},
   "source": [
    "Connect to LUSAS and either create a new model or delete the contents of the existing one - be careful if you have a model already loaded"
   ]
  },
  {
   "cell_type": "code",
   "execution_count": null,
   "metadata": {},
   "outputs": [],
   "source": [
    "import numpy as np\n",
    "import math\n",
    "import sys; sys.path.append('../') # Reference modules in parent directory\n",
    "from LPI_22_0 import *\n",
    "lusas = get_lusas_modeller()\n",
    "\n",
    "from m100_Tools_And_Helpers import Helpers\n",
    "Helpers.initialise(lusas)\n",
    "\n",
    "# if lusas.existsDatabase():\n",
    "#     raise Exception(\"This script will create a new model. Please save and close the current model and try again\")\n",
    "\n",
    "# Create a new model\n",
    "lusas.newProject(\"Structural\", f\"Integral Slab Bridge Deck\")\n",
    "# Reference to the model database for convenience\n",
    "db = lusas.database() \n",
    "# 3D model with Z vertical\n",
    "db.setAnalysisCategory(\"3D\")\n",
    "db.setVerticalDir(\"Z\")\n",
    "# Set the unit system\n",
    "db.setModelUnits(\"kN,m,t,s,C\")"
   ]
  },
  {
   "cell_type": "markdown",
   "metadata": {},
   "source": [
    "Create the attributes to be assigned to the geometric features. Mesh, Geometric and Material."
   ]
  },
  {
   "cell_type": "code",
   "execution_count": null,
   "metadata": {},
   "outputs": [],
   "source": [
    "# Concrete material attribute\n",
    "concrete_mat_attr = db.createIsotropicMaterial(\"Concrete\", 34.8E6, 0.2, 2.4, 10e-6)\n",
    "\n",
    "# Set the Concrete material to be default and automatically assigned to all newly created geometry \n",
    "db.setAsDefault(\"Material\", concrete_mat_attr)\n",
    "\n",
    "# Deck mesh attribute, thick shell elements\n",
    "deck_mesh_attr         = db.createMeshSurface(\"SMsh1\").setRegularSize(\"QTS4\", mesh_size, True)\n",
    "# Deck surface thickness attribute\n",
    "deck_surface_attr      = db.createGeometricSurface(f\"Deck Slab {deck_thk:.1f}m\").setSurface(deck_thk, 0.0)\n",
    "outstand_surface_attr  = db.createGeometricSurface(f\"Deck Outstand {deck_thk_outstand:.1f}m\").setSurface(deck_thk_outstand, eccentcity_outstand)\n",
    "abut_surface_attr      = db.createGeometricSurface(f'Abutment {abut_thk:.1f}m').setSurface(abut_thk)\n",
    "pier_surface_attr      = db.createGeometricSurface(f'Pier {pier_thk:.1f}m').setSurface(pier_thk)\n",
    "\n",
    "# Support attributes\n",
    "support_pinned_attr = db.createSupportStructural(\"Pinned\").setStructural(\"R\", \"R\", \"R\", \"F\", \"F\", \"F\", \"F\", \"F\", \"C\", \"F\") # F=Free, R=Restrained\n",
    "support_slide_attr  = db.createSupportStructural(\"Slide\").setStructural(\"F\", \"R\", \"R\", \"F\", \"F\", \"F\", \"F\", \"F\", \"C\", \"F\")\n",
    "support_fixed_attr  = db.createSupportStructural(\"Fully Fixed\").setStructural(\"R\", \"R\", \"R\", \"R\", \"R\", \"R\", \"F\", \"F\", \"C\", \"F\")"
   ]
  },
  {
   "cell_type": "code",
   "execution_count": null,
   "metadata": {},
   "outputs": [],
   "source": [
    "# Local coords for skew angle\n",
    "skew_coords_attr = db.createLocalCartesianXYAttr(\"Skew\", -skew_angle, [0,0,0]).setAxesType(\"Cartesian\")\n",
    "skew_coords_attr.visualiseDefn(False)"
   ]
  },
  {
   "cell_type": "code",
   "execution_count": null,
   "metadata": {},
   "outputs": [],
   "source": [
    "# Helper function to calculate beam coordinates accounting for the skew angle\n",
    "def skew_x(y:float)->float:\n",
    "    return y * math.tan(math.radians(skew_angle))"
   ]
  },
  {
   "cell_type": "markdown",
   "metadata": {},
   "source": [
    "## Create the model geometry"
   ]
  },
  {
   "cell_type": "code",
   "execution_count": null,
   "metadata": {},
   "outputs": [],
   "source": [
    "# X Coordinates for the entire deck grid\n",
    "x_grid = list()\n",
    "x = abut_thk/2\n",
    "# First support\n",
    "x_grid.extend([0.0, x, x+abut_thk/2])\n",
    "# Pier lines\n",
    "for ix in range(0, len(span_lengths)-1):\n",
    "    x+=span_lengths[ix]\n",
    "    x_grid.extend([x-pier_thk/2, x, x+pier_thk/2])\n",
    "# final support\n",
    "x+=span_lengths[-1]\n",
    "x_grid.extend([x-abut_thk/2, x, x+abut_thk/2])\n",
    "\n",
    "# Y Coordinates for deck grid\n",
    "y_grid = [-deck_width/2-deck_overhang, -deck_width/2, -deck_width/3, 0.0, deck_width/3, deck_width/2, deck_width/2+deck_overhang]"
   ]
  },
  {
   "cell_type": "code",
   "execution_count": null,
   "metadata": {},
   "outputs": [],
   "source": [
    "# Create the actual points in the model [X][Y]\n",
    "deck_points = [[Helpers.create_point(x+skew_x(y), y, 0.0) for y in y_grid] for x in x_grid]"
   ]
  },
  {
   "cell_type": "code",
   "execution_count": null,
   "metadata": {},
   "outputs": [],
   "source": [
    "''' Create Deck surfaces '''\n",
    "# Set the default mesh attribute which is automatically assigned to each newly created surface\n",
    "db.setAsDefault(\"Surface Mesh\", deck_mesh_attr)\n",
    "# Set a default group to which the new geometry is added\n",
    "group = db.createGroup(\"Deck\").setCurrent()\n",
    "\n",
    "# Create the surfaces for the first outstand\n",
    "db.setAsDefault(\"Surface Geometric\", outstand_surface_attr)\n",
    "for ix in range(0, len(x_grid)-1):\n",
    "    Helpers.create_surface_from_points([ deck_points[ix][0], deck_points[ix+1][0], deck_points[ix+1][1], deck_points[ix][1] ])\n",
    "\n",
    "# Create the surfaces for the main deck\n",
    "db.setAsDefault(\"Surface Geometric\", deck_surface_attr)\n",
    "for iy in range(1, len(y_grid)-2):\n",
    "    for ix in range(0, len(x_grid)-1):\n",
    "        Helpers.create_surface_from_points([ deck_points[ix][iy], deck_points[ix+1][iy], deck_points[ix+1][iy+1], deck_points[ix][iy+1] ])\n",
    "\n",
    "# Create the surfaces for the second outstand\n",
    "db.setAsDefault(\"Surface Geometric\", outstand_surface_attr)\n",
    "for ix in range(0, len(x_grid)-1):\n",
    "    Helpers.create_surface_from_points([ deck_points[ix][-2], deck_points[ix+1][-2], deck_points[ix+1][-1], deck_points[ix][-1] ])\n",
    "\n",
    "db.setCurrent() # remove the default group"
   ]
  },
  {
   "cell_type": "code",
   "execution_count": null,
   "metadata": {},
   "outputs": [],
   "source": [
    "# Determine the array indices for sub structure locations\n",
    "support_indices = [1]\n",
    "for s in span_lengths:\n",
    "    support_indices.append(support_indices[-1]+3)\n",
    "\n",
    "# Sub structure points\n",
    "base_points = {}\n",
    "for ix in support_indices:\n",
    "    base_points[ix] = [Helpers.create_point(p.getX(), p.getY(), p.getZ() - pier_height) for p in deck_points[ix]]"
   ]
  },
  {
   "cell_type": "code",
   "execution_count": null,
   "metadata": {},
   "outputs": [],
   "source": [
    "# Sub structure surfaces\n",
    "ia = 1\n",
    "ip = 1\n",
    "for ix in support_indices:\n",
    "    isAbut = (ix == support_indices[0] or ix == support_indices[-1])\n",
    "    if isAbut:\n",
    "        group = db.createGroup(f\"Abut {ia}\") ; ia+=1\n",
    "        db.setAsDefault(\"Surface Geometric\", abut_surface_attr)\n",
    "    else:\n",
    "        group = db.createGroup(f\"Pier {ip}\") ; ip+=1\n",
    "        db.setAsDefault(\"Surface Geometric\", pier_surface_attr)\n",
    "\n",
    "    for iy in range(1, len(y_grid)-2):\n",
    "        s = Helpers.create_surface_from_points([deck_points[ix][iy], deck_points[ix][iy+1], base_points[ix][iy+1], base_points[ix][iy]])\n",
    "        group.add(s) "
   ]
  },
  {
   "cell_type": "code",
   "execution_count": null,
   "metadata": {},
   "outputs": [],
   "source": [
    "# Supports\n",
    "for ix in support_indices:\n",
    "    points = base_points[ix]\n",
    "    for iy in range(1, len(y_grid)-2):\n",
    "        line = Helpers.get_line_between_points(base_points[ix][iy], base_points[ix][iy+1])\n",
    "        support_fixed_attr.assignTo(line)\n",
    "        skew_coords_attr.assignTo(line)"
   ]
  },
  {
   "cell_type": "code",
   "execution_count": null,
   "metadata": {},
   "outputs": [],
   "source": [
    "# Turn off default attribute assignments\n",
    "db.setAsDefault(\"Mesh\", \"None\")\n",
    "db.setAsDefault(\"Surface Mesh\", \"None\")\n",
    "db.setAsDefault(\"Line Geometric\", \"None\")\n",
    "db.setAsDefault(\"Surface Geometric\", \"None\")\n",
    "db.setAsDefault(\"Isotropic Material\", \"None\")"
   ]
  },
  {
   "cell_type": "markdown",
   "metadata": {},
   "source": [
    "Generate the mesh"
   ]
  },
  {
   "cell_type": "code",
   "execution_count": null,
   "metadata": {},
   "outputs": [],
   "source": [
    "db.resetMesh()\n",
    "db.updateMesh()"
   ]
  },
  {
   "cell_type": "markdown",
   "metadata": {},
   "source": [
    "Define the carriageway by two kerb lines"
   ]
  },
  {
   "cell_type": "code",
   "execution_count": null,
   "metadata": {},
   "outputs": [],
   "source": [
    "overall_length = sum(span_lengths) + abut_thk\n",
    "# Create lines to represent the carriageway kerbs that can be used for the Vehicle Load Optimiser\n",
    "curb_line1 = Helpers.create_line([-10,  carriageway_width/2, 0.5], [10 + overall_length,  carriageway_width/2, 0.5])\n",
    "curb_line2 = Helpers.create_line([-10, -carriageway_width/2, 0.5], [10 + overall_length, -carriageway_width/2, 0.5])\n",
    "# Set the colour to distinguish them from model lines\n",
    "curb_line1.setPen(2)\n",
    "curb_line2.setPen(2)"
   ]
  },
  {
   "cell_type": "markdown",
   "metadata": {},
   "source": [
    "# Create useful groups "
   ]
  },
  {
   "cell_type": "code",
   "execution_count": null,
   "metadata": {},
   "outputs": [],
   "source": [
    "group_deck_edge1 = db.createGroup(\"Deck Edge 1\")\n",
    "group_deck_edge2 = db.createGroup(\"Deck Edge 2\")\n",
    "\n",
    "# Add lines, start with the first point at either edge of the deck\n",
    "for iy in [0, len(y_grid)-1]:\n",
    "    p0 = deck_points[0][iy]\n",
    "    p1 = deck_points[1][iy]\n",
    "    # set the group to add lines to\n",
    "    group = group_deck_edge1 if iy == 0 else group_deck_edge2\n",
    "    # Find the line that connects the first and second points, i.e. along the x axis and add to the object set\n",
    "    for geom in p0.getHOFs():\n",
    "        if geom.getEndPoint() == p1 or geom.getStartPoint() == p1: # Line directions are different so check both points\n",
    "            group.add(geom)\n",
    "    # Include all connected collinear lines\n",
    "    group.addColinearNeighbours(1)"
   ]
  },
  {
   "cell_type": "markdown",
   "metadata": {},
   "source": [
    "# Loads"
   ]
  },
  {
   "cell_type": "code",
   "execution_count": null,
   "metadata": {},
   "outputs": [],
   "source": [
    "# Get the automatically created loadcase in analysis 1 and add automatic gravity to it\n",
    "win32.CastTo(db.getLoadset(\"Loadcase 1\", 0).setName(\"Gravity\"), \"IFLoadcase\").addGravity(True)"
   ]
  },
  {
   "cell_type": "code",
   "execution_count": null,
   "metadata": {},
   "outputs": [],
   "source": [
    "# Create a loadcase for the Parapet loads to be applied to the entire deck surface\n",
    "parapet_loadcase = db.createLoadcase(\"Parapet Loads\")\n",
    "# Set the loadcase in the assignment object\n",
    "assignment = lusas.assignment().setAllDefaults().setLoadset(parapet_loadcase)\n",
    "# Create a locally distributed load for Parapet loads\n",
    "parapet_load_attr = db.createLoadingGlobalDistributed(\"Parapet Loads\").setGlobalDistributed(\"Length\", 0.0, 0.0, parapet_load_udl, 0.0, 0.0, 0.0)\n",
    "# and assign to all the edge lines\n",
    "parapet_load_attr.assignTo(group_deck_edge1, assignment)\n",
    "parapet_load_attr.assignTo(group_deck_edge2, assignment)"
   ]
  },
  {
   "cell_type": "code",
   "execution_count": null,
   "metadata": {},
   "outputs": [],
   "source": [
    "# Create a loadcase for the Surfacing loads to be applied to the entire deck surface\n",
    "surfacing_loadcase = db.createLoadcase(\"Surfacing\")\n",
    "# Set the loadcase in the assignment object\n",
    "assignment = lusas.assignment().setAllDefaults().setLoadset(surfacing_loadcase)\n",
    "# Create a locally distributed load for Surfacing loads\n",
    "surf_load_attr = db.createLoadingLocalDistributed(\"Surfacing\").setLocalDistributed(0.0, 0.0, surf_load_intensity, \"surface\")\n",
    "# and assign to all the surfaces\n",
    "objs = lusas.newObjectSet().add(deck_surface_attr)\n",
    "surf_load_attr.assignTo(objs, assignment)"
   ]
  },
  {
   "cell_type": "markdown",
   "metadata": {},
   "source": [
    "Discrete loads can be be re-used in the model and assigned to a different origin. We'll do that for the footpath loads.<br/>\n",
    "We'll make a generic function to create a 4 noded discrete patch load the size of the footpath."
   ]
  },
  {
   "cell_type": "code",
   "execution_count": null,
   "metadata": {},
   "outputs": [],
   "source": [
    "POINT_OFFSET = 9 # Points created for assignment of discrete loads will be offset from the deck for clarity\n",
    "Z_OFFSET = 1\n",
    "\n",
    "def create_footpath_load(name:str, load1:float, load2:float)->'IFLoadingDiscretePatch':\n",
    "    attr = db.createLoadingDiscretePatch(name).setDiscretePatch(\"surf4\", \"Z\")\n",
    "    # Add the points of an 4 node patch load in which the load intensity varies across the width\n",
    "    # The x coordinates are increased by 1 because we'll assign these loads to points created at x=-1 to hold these loads\n",
    "    attr.addRow(POINT_OFFSET,                0.0,           Z_OFFSET, load1)\n",
    "    attr.addRow(POINT_OFFSET,                footway_width, Z_OFFSET, load2)\n",
    "    attr.addRow(POINT_OFFSET+overall_length, footway_width, Z_OFFSET, load2)\n",
    "    attr.addRow(POINT_OFFSET+overall_length, 0.0,           Z_OFFSET, load1)\n",
    "    # Explicitly specify how the patch load should be divided up.\n",
    "    # We know the width of the footway is small so we dont need so many divisions\n",
    "    # Limiting the divisions speeds up the time to resolve the patch load into nodal loads\n",
    "    attr.setDivisions(math.ceil(footway_width), 40)\n",
    "\n",
    "    return attr"
   ]
  },
  {
   "cell_type": "code",
   "execution_count": null,
   "metadata": {},
   "outputs": [],
   "source": [
    "# Create a surfacing load using the generic function\n",
    "footpath_surf_load_attr = create_footpath_load(\"Footpath Surface\", footpath_surface_load_intensity, footpath_surface_load_intensity)\n",
    "\n",
    "# Assign this to a new point using the assignment object set up for the deck surfacing loads\n",
    "footpath_point1 = Helpers.create_point(-POINT_OFFSET, -overall_width/2, 0.0)\n",
    "footpath_point1.setPen(2)\n",
    "footpath_surf_load_attr.assignTo(footpath_point1, assignment)\n",
    "# And again to a 2nd new point\n",
    "footpath_point2 = Helpers.create_point(-POINT_OFFSET, carriageway_width/2, 0.0)\n",
    "footpath_point2.setPen(2)\n",
    "footpath_surf_load_attr.assignTo(footpath_point2, assignment)\n",
    "\n",
    "# Note that we set the colour of the new points to blue so we can identify that they are not part of the model and only used to locate the discrete loads"
   ]
  },
  {
   "cell_type": "markdown",
   "metadata": {},
   "source": [
    "Create a settlement load acting only on each support"
   ]
  },
  {
   "cell_type": "code",
   "execution_count": null,
   "metadata": {},
   "outputs": [],
   "source": [
    "# Create the prescribed displacement attribute to represent vertical settlement\n",
    "settlement_attr = db.createPrescribedDisplacementLoad(\"Settlement\", \"Total\")\n",
    "settlement_attr.setDisplacement(\"W\", settlement)\n",
    "\n",
    "# Create a loadcase for each support settlement\n",
    "for i, ix in enumerate(base_points.keys()):\n",
    "    settlement_loadcase = db.createLoadcase(f\"Settlement {i+1}\")\n",
    "    # Set the loadcase in the assignment object\n",
    "    assignment = lusas.assignment().setAllDefaults().setLoadset(settlement_loadcase)\n",
    "    # Assign to the supported lines\n",
    "    points = base_points[ix]\n",
    "    for iy in range(1, len(y_grid)-2):\n",
    "        line = Helpers.get_line_between_points(points[iy], points[iy+1])\n",
    "        settlement_attr.assignTo(line, assignment)"
   ]
  },
  {
   "cell_type": "markdown",
   "metadata": {},
   "source": [
    "# Variable Loads"
   ]
  },
  {
   "cell_type": "markdown",
   "metadata": {},
   "source": [
    "Create temperature loads"
   ]
  },
  {
   "cell_type": "code",
   "execution_count": null,
   "metadata": {},
   "outputs": [],
   "source": [
    "# Create a loadcases for temperature\n",
    "temp_warm_loadcase = db.createLoadcase(\"Temperature +dT\")\n",
    "temp_cool_loadcase = db.createLoadcase(\"Temperature -dT\")\n",
    "# Temperature loading warming \n",
    "temp_warm_attr = db.createLoadingTemperature(\"Warming\").setTemperature(\"element\", temperature_increase, 0.0, 0.0, 0.0, 0.0, 0.0, 0.0, 0.0)\n",
    "# Temperature loading cooling \n",
    "temp_cool_attr = db.createLoadingTemperature(\"Cooling\").setTemperature(\"element\", temperature_decrease, 0.0, 0.0, 0.0, 0.0, 0.0, 0.0, 0.0)\n",
    "# Assign the temperature warming load\n",
    "assignment = lusas.assignment().setAllDefaults().setLoadset(temp_warm_loadcase)\n",
    "temp_warm_attr.assignTo(\"Group\", \"Deck\", assignment)\n",
    "# Assign the temperature cooling load\n",
    "assignment = lusas.assignment().setAllDefaults().setLoadset(temp_cool_loadcase)\n",
    "temp_cool_attr.assignTo(\"Group\", \"Deck\", assignment)"
   ]
  },
  {
   "cell_type": "code",
   "execution_count": null,
   "metadata": {},
   "outputs": [],
   "source": [
    "# Create a loadcases for temperature Gradient\n",
    "temp_warm_grad_loadcase = db.createLoadcase(\"Temperature +dT Grad\")\n",
    "temp_cool_grad_loadcase = db.createLoadcase(\"Temperature -dT Grad\")\n",
    "# Temperature loading warming \n",
    "temp_warm_attr = db.createLoadingTemperatureProfile(\"Warming Gradient\").setTopTemperature(temp_max).setBottomTemperature(temp_min)\n",
    "# Temperature loading cooling \n",
    "temp_cool_attr = db.createLoadingTemperatureProfile(\"Cooling Gradient\").setTopTemperature(temp_min).setBottomTemperature(temp_max)\n",
    "# Assign the temperature warming load\n",
    "assignment = lusas.assignment().setAllDefaults().setLoadset(temp_warm_grad_loadcase)\n",
    "temp_warm_attr.assignTo(\"Group\", \"Deck\", assignment)\n",
    "# Assign the temperature cooling load\n",
    "assignment = lusas.assignment().setAllDefaults().setLoadset(temp_cool_grad_loadcase)\n",
    "temp_cool_attr.assignTo(\"Group\", \"Deck\", assignment)"
   ]
  },
  {
   "cell_type": "markdown",
   "metadata": {},
   "source": [
    "Wind loads"
   ]
  },
  {
   "cell_type": "code",
   "execution_count": null,
   "metadata": {},
   "outputs": [],
   "source": [
    "# Create a loadcases for wind\n",
    "wind_north_loadcase = db.createLoadcase(\"Wind north\")\n",
    "wind_south_loadcase = db.createLoadcase(\"Wind south\")\n",
    "\n",
    "# Create a globally distributed load for Wind loads\n",
    "wind_load_north_attr = db.createLoadingGlobalDistributed(\"Wind load north\").setGlobalDistributed(\"Length\", 0.0, wind_udl, 0.0, wind_mom, 0.0, 0.0)\n",
    "wind_load_south_attr = db.createLoadingGlobalDistributed(\"Wind load south\").setGlobalDistributed(\"Length\", 0.0, -wind_udl, 0.0, -wind_mom, 0.0, 0.0)\n",
    "\n",
    "# and assign to all the edge lines\n",
    "wind_load_north_attr.assignTo(group_deck_edge1, lusas.assignment().setAllDefaults().setLoadset(wind_north_loadcase))\n",
    "wind_load_south_attr.assignTo(group_deck_edge2, lusas.assignment().setAllDefaults().setLoadset(wind_south_loadcase))"
   ]
  },
  {
   "cell_type": "markdown",
   "metadata": {},
   "source": [
    "Pedestrian live loads"
   ]
  },
  {
   "cell_type": "code",
   "execution_count": null,
   "metadata": {},
   "outputs": [],
   "source": [
    "# We can reuse the discrete patch load function to create pedestrian live loads \n",
    "ped_live_load_attr = create_footpath_load(\"Pedestrian Live load\", pedestrian_live_load, pedestrian_live_load)\n",
    "\n",
    "# Create a loadcase for the pedestrian live loads\n",
    "ped_loads_loadcase = db.createLoadcase(\"Pedestrian live loads\")\n",
    "\n",
    "# Redefine the assignment object for the discrete load assignment as we did for the surfacing loads\n",
    "assignment = lusas.assignment().setAllDefaults().setLoadset(ped_loads_loadcase)\n",
    "assignment.setLoadMoving(\"Exclude All Load\")\n",
    "assignment.setSearchAssignType(\"area\")\n",
    "\n",
    "# Again, assign the same load to the two dedicated points\n",
    "ped_live_load_attr.assignTo(footpath_point1, assignment)\n",
    "ped_live_load_attr.assignTo(footpath_point2, assignment)"
   ]
  },
  {
   "cell_type": "markdown",
   "metadata": {},
   "source": [
    "Breaking load"
   ]
  },
  {
   "cell_type": "code",
   "execution_count": null,
   "metadata": {},
   "outputs": [],
   "source": [
    "\n",
    "# Create a discrete patch load with the loads acting in the X direction.\n",
    "# Patch loads are projected onto the structure in the direction of their normal. Which will be the Z axis in this case.\n",
    "breaking_load_attr = db.createLoadingDiscretePatch(\"Braking load 1\").setDiscretePatch(\"surf4\", \"X\")\n",
    "# Add the points of an 4 node patch load\n",
    "breaking_load_attr.addRow(POINT_OFFSET,                -carriageway_width/2, Z_OFFSET, breaking_load_intensity)\n",
    "breaking_load_attr.addRow(POINT_OFFSET,                 carriageway_width/2, Z_OFFSET, breaking_load_intensity)\n",
    "breaking_load_attr.addRow(POINT_OFFSET+overall_length,  carriageway_width/2, Z_OFFSET, breaking_load_intensity)\n",
    "breaking_load_attr.addRow(POINT_OFFSET+overall_length, -carriageway_width/2, Z_OFFSET, breaking_load_intensity)\n",
    "\n",
    "# Create a loadcase for the braking loads\n",
    "breaking_loads_loadcase1 = db.createLoadcase(\"Braking load +ve\")\n",
    "breaking_loads_loadcase2 = db.createLoadcase(\"Braking load -ve\")\n",
    "\n",
    "# Redefine the assignment object for the discrete load assignment as we did for the surfacing loads\n",
    "assignment = lusas.assignment().setAllDefaults().setLoadset(breaking_loads_loadcase1)\n",
    "assignment.setLoadMoving(\"Exclude All Load\")\n",
    "assignment.setSearchAssignType(\"area\")\n",
    "\n",
    "# Assign to the point at the origin\n",
    "point0 = Helpers.create_point(-POINT_OFFSET, 0.0, 0.0)\n",
    "point0.setPen(2)\n",
    "breaking_load_attr.assignTo(point0, assignment)\n",
    "\n",
    "# Assign the same load with a negative load factor for the opposite direction\n",
    "assignment.setLoadFactor(-1)\n",
    "assignment.setLoadset(breaking_loads_loadcase2)\n",
    "breaking_load_attr.assignTo(point0, assignment)"
   ]
  },
  {
   "cell_type": "markdown",
   "metadata": {},
   "source": [
    "Horizontal loads"
   ]
  },
  {
   "cell_type": "code",
   "execution_count": null,
   "metadata": {},
   "outputs": [],
   "source": [
    "# # Create the concentrated load attribute\n",
    "# horiz_load_pos_attr = db.createLoadingConcentrated(\"Horizontal +ve\")\n",
    "# horiz_load_pos_attr.setConcentrated(0.0, horiz_load, 0.0, 0.0, 0.0, 0.0, 0.0, 0.0, 0.0, 0.0)\n",
    "# horiz_load_neg_attr = db.createLoadingConcentrated(\"Horizontal -ve\")\n",
    "# horiz_load_neg_attr.setConcentrated(0.0, -horiz_load, 0.0, 0.0, 0.0, 0.0, 0.0, 0.0, 0.0, 0.0)\n",
    "\n",
    "# # Assign positive and negative horizontal loads to each pier\n",
    "# count = 1\n",
    "# for ix in pier_indices_X:\n",
    "#     horiz_pos_loadcase = db.createLoadcase(f\"Horizontal +ve {count}\")\n",
    "#     horiz_neg_loadcase = db.createLoadcase(f\"Horizontal -ve {count}\")\n",
    "#     # Assign the lateral load to the central column of each pier\n",
    "#     deck_point = deck_points[ix][pier_indices_Y[1]]\n",
    "#     assignment = lusas.assignment().setAllDefaults().setLoadset(horiz_pos_loadcase)\n",
    "#     horiz_load_pos_attr.assignTo(deck_point, assignment)\n",
    "#     assignment = lusas.assignment().setAllDefaults().setLoadset(horiz_neg_loadcase)\n",
    "#     horiz_load_neg_attr.assignTo(deck_point, assignment)\n",
    "#     count+=1"
   ]
  },
  {
   "cell_type": "markdown",
   "metadata": {},
   "source": [
    "# Load Groups"
   ]
  },
  {
   "cell_type": "code",
   "execution_count": null,
   "metadata": {},
   "outputs": [],
   "source": [
    "# Create envelopes for each load group. They will be grouped in a subfolder in the treeview\n",
    "GROUP_FOLDER = \"Load Groups\""
   ]
  },
  {
   "cell_type": "code",
   "execution_count": null,
   "metadata": {},
   "outputs": [],
   "source": [
    "''' Create some intermediate load groups to help with later design combinations '''\n",
    "\n",
    "# Get all the loadcases in the model\n",
    "loadcases = db.getLoadsets(\"Loadcase\")\n",
    "\n",
    "# Envelope Settlement cases\n",
    "settlement_env = db.createEnvelope(\"Settlement Env\")\n",
    "settlement_env.setTreeLocation(GROUP_FOLDER)\n",
    "for lc in loadcases:\n",
    "    if \"Settlement\" in lc.getName():\n",
    "        settlement_env.addEntry(lc)\n",
    "\n",
    "# Envelope +/- Temperature cases\n",
    "temp_annual_env = db.createEnvelope(\"Temp Annual Env\")\n",
    "temp_annual_env.setTreeLocation(GROUP_FOLDER)\n",
    "temp_annual_env.addEntry(temp_warm_loadcase)\n",
    "temp_annual_env.addEntry(temp_cool_loadcase)\n",
    "\n",
    "temp_daily_env = db.createEnvelope(\"Temp Daily Env\")\n",
    "temp_daily_env.setTreeLocation(GROUP_FOLDER)\n",
    "temp_daily_env.addEntry(temp_warm_grad_loadcase)\n",
    "temp_daily_env.addEntry(temp_cool_grad_loadcase)\n",
    "\n",
    "# Then combine seasonal and daily variations. Note both max and min versions of the envelope should be included in the smart combination\n",
    "temp_comb = db.createCombinationSmart(\"Temperature\")\n",
    "temp_comb.setTreeLocation(GROUP_FOLDER)\n",
    "temp_comb.addEntry(1,0,temp_annual_env)\n",
    "temp_comb.addEntry(1,0,temp_annual_env.getAssocLoadset())\n",
    "temp_comb.addEntry(1,0,temp_daily_env)\n",
    "temp_comb.addEntry(1,0,temp_daily_env.getAssocLoadset())\n",
    "\n",
    "# Then combine seasonal and daily variations. Note both max and min versions of the envelope should be included in the smart combination\n",
    "wind_env = db.createEnvelope(\"Wind Env\")\n",
    "wind_env.setTreeLocation(GROUP_FOLDER)\n",
    "wind_env.addEntry(wind_north_loadcase)\n",
    "wind_env.addEntry(wind_south_loadcase)\n",
    "\n",
    "# Envelope Braking Loadcases\n",
    "braking_env = db.createEnvelope(\"Braking Env\")\n",
    "braking_env.setTreeLocation(GROUP_FOLDER)\n",
    "for lc in loadcases:\n",
    "    if \"Braking\" in lc.getName():\n",
    "        braking_env.addEntry(lc)\n",
    "\n",
    "# Envelope Horizontal Loadcases\n",
    "braking_env = db.createEnvelope(\"Horizontal Env\")\n",
    "braking_env.setTreeLocation(GROUP_FOLDER)\n",
    "for lc in loadcases:\n",
    "    if \"Horizontal\" in lc.getName():\n",
    "        braking_env.addEntry(lc)"
   ]
  },
  {
   "cell_type": "markdown",
   "metadata": {},
   "source": [
    "# Influence analysis"
   ]
  },
  {
   "cell_type": "code",
   "execution_count": null,
   "metadata": {},
   "outputs": [],
   "source": [
    "# An influence analysis considers unit loads applied to a group of elements in order to generate influence surfaces.\n",
    "# We need to specify the group of elements by assigning a search area\n",
    "# Create a search area attribute\n",
    "search_area_attr = db.createSearchArea(\"Deck Slab\")\n",
    "# Assign the search area attribute to the same surfaces\n",
    "search_area_attr.assignTo(\"Group\", \"Deck\", lusas.assignment().setAllDefaults())"
   ]
  },
  {
   "cell_type": "code",
   "execution_count": null,
   "metadata": {},
   "outputs": [],
   "source": [
    "# Create a Direct Method Influence Analysis\n",
    "dmi_analysis = db.createAnalysisDirectMethodInf(\"Influence Analysis\")\n",
    "# Specify the elements in the search area deck slab\n",
    "dmi_analysis.setSearchArea(\"Deck Slab\")\n",
    "dmi_analysis.setSearchAssignType(\"area\")\n",
    "dmi_analysis.setIsGrillageType(1)\n",
    "if dmi_grid:\n",
    "    dmi_analysis.setGridCentreline(\"X\")\n",
    "    dmi_analysis.setGridWidth(carriageway_width)\n",
    "\n",
    "dmi_analysis.setDoMatchNodes(dmi_grid)\n",
    "dmi_analysis.setSelectedResultsGroup(\"assignments\")\n",
    "dmi_analysis.createElements()"
   ]
  },
  {
   "cell_type": "code",
   "execution_count": null,
   "metadata": {},
   "outputs": [],
   "source": [
    "# Create an influence attribute which is assigned to specific locations in the model.\n",
    "inf_attr = db.createDirectInfluence(\"Deck Major Bending Mx\")\n",
    "inf_attr.setResultsTransformGlobal()\n",
    "inf_attr.setInfluence(\"Force/Moment - Thick Shell\", \"Mx\")\n",
    "\n",
    "# Create an inspection point attribute defined parametrically along a the assigned line\n",
    "inspect_attr = db.createInspectionPoint(\"Inspection Points\")\n",
    "inspect_attr.setInspection(\"Line\", \"Parametric\", True)\n",
    "for x in influence_locations:\n",
    "    inspect_attr.addLocation(x, 0.0, 0.0)\n",
    "\n",
    "\n",
    "# Determine the indices of the deck lines between the supports\n",
    "span_indicies = [2]\n",
    "for s in range(len(span_lengths)-1):\n",
    "    span_indicies.append(span_indicies[-1]+3)\n",
    "# Select the lines to which the inspection point attribute will be assigned\n",
    "objs = lusas.newObjectSet()\n",
    "for iy in influence_lines_y:\n",
    "    for ix in span_indicies:\n",
    "        p0 = deck_points[ix][iy]\n",
    "        p1 = deck_points[ix+1][iy]\n",
    "        for hof in p0.getHOFs():\n",
    "            if hof.getStartPoint() == p1 or hof.getEndPoint() == p1:\n",
    "                objs.add(hof)\n",
    "\n",
    "# Assign the inspection location to the lines\n",
    "lusas.assignment().setAllDefaults()\n",
    "inspect_attr.assignTo(objs.getObjects(\"Lines\"))\n",
    "\n",
    "# Assign the influence attribute to the inspection locations\n",
    "inf_attr.assignToInspLocation(inspect_attr.getName(), dmi_analysis.getName()) \n"
   ]
  },
  {
   "cell_type": "markdown",
   "metadata": {},
   "source": [
    "### Transformation Attributes\n",
    "Tranformation attributes are used to transform results to consistent axes. They are required to be assigned if slab/wall design is carried out"
   ]
  },
  {
   "cell_type": "code",
   "execution_count": null,
   "metadata": {},
   "outputs": [],
   "source": [
    "# Slabs are in global coordinates\n",
    "res_transform_deck_attr = db.createResultsTransformation(\"Deck\")\n",
    "res_transform_deck_attr.setTransformation(\"Global\")\n",
    "res_transform_deck_attr.assignTo(\"Group\", \"Deck\")\n",
    "\n",
    "# Walls will transform to have x vertical so that consistent Mx diagrams can be created\n",
    "local_coord_attr = db.createLocalCartesianXZAttr(\"Piers\", -90.0, [0,0,0]).setAxesType(\"Cartesian\")\n",
    "res_transform_walls_attr = db.createResultsTransformation(\"Piers\")\n",
    "res_transform_walls_attr.setTransformation(\"local coords\",None,None,False,None,local_coord_attr.getID())\n",
    "objs = lusas.newObjectSet().add(abut_surface_attr).add(pier_surface_attr)\n",
    "res_transform_walls_attr.assignTo(objs)"
   ]
  },
  {
   "cell_type": "markdown",
   "metadata": {},
   "source": [
    "# Solve the analyses"
   ]
  },
  {
   "cell_type": "code",
   "execution_count": null,
   "metadata": {},
   "outputs": [],
   "source": [
    "# Solve each analysis and open all the available results files\n",
    "if solve_analyses:\n",
    "    for analyis in db.getAnalyses():\n",
    "        analyis.solve(True)\n",
    "    db.openAllResults(False)\n",
    "\n",
    "    lusas.view().insertContoursLayer()\n",
    "    lusas.view().contours().setResultsTransformAttributeType(\"Results Transformation\")\n",
    "    lusas.view().contours().setResults(\"Force/Moment - Thick Shell\", \"Mx\")\n",
    "    lusas.view().contours().setDisplayType(\"ElementNodal\")"
   ]
  },
  {
   "cell_type": "code",
   "execution_count": null,
   "metadata": {},
   "outputs": [],
   "source": [
    "lusas.view().insertValuesLayer()\n",
    "lusas.view().values().setResultsTransformNone()\n",
    "lusas.view().values().setResults(\"Reaction\", \"FZ\")"
   ]
  },
  {
   "cell_type": "markdown",
   "metadata": {},
   "source": [
    "Set the view to be perspective mode"
   ]
  },
  {
   "cell_type": "code",
   "execution_count": null,
   "metadata": {},
   "outputs": [],
   "source": [
    "lusas.view().setProjection(1)\n",
    "lusas.view().setIsometric()\n",
    "lusas.view().setScaledToFit(True)"
   ]
  },
  {
   "cell_type": "markdown",
   "metadata": {},
   "source": [
    "Set the view to display the assigned loading in the attributes layers as well as the geometric \"fleshing\""
   ]
  },
  {
   "cell_type": "code",
   "execution_count": null,
   "metadata": {},
   "outputs": [],
   "source": [
    "lusas.view().insertAttributesLayer()\n",
    "lusas.view().attributes().drawPatchByDefinition(True)\n",
    "lusas.view().attributes().visualiseAll(\"Loading\")\n",
    "lusas.view().attributes().visualiseAll(\"Geometric\")"
   ]
  }
 ],
 "metadata": {
  "kernelspec": {
   "display_name": "Python 3",
   "language": "python",
   "name": "python3"
  },
  "language_info": {
   "codemirror_mode": {
    "name": "ipython",
    "version": 3
   },
   "file_extension": ".py",
   "mimetype": "text/x-python",
   "name": "python",
   "nbconvert_exporter": "python",
   "pygments_lexer": "ipython3",
   "version": "3.13.2"
  }
 },
 "nbformat": 4,
 "nbformat_minor": 2
}
