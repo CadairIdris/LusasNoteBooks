{
 "cells": [
  {
   "cell_type": "markdown",
   "metadata": {},
   "source": [
    "# Create a multi span reinforced concrete bridge deck with pier columns</br>\n",
    "(v21.1 and later)"
   ]
  },
  {
   "cell_type": "markdown",
   "metadata": {},
   "source": [
    "<i>Please note this is an example of how to use the LPI functionality to create a bridge model demonstrating the use of multiple load types. <br/>It is not an example of how to model such structures</i>"
   ]
  },
  {
   "cell_type": "code",
   "execution_count": null,
   "metadata": {},
   "outputs": [],
   "source": [
    "solve_analyses = False\n",
    "dmi_use_grid = True\n",
    "influence_envelope = False # Otherwise individual assignmemnts\n",
    "N_NODE = 3  # For non enveloped influnece analysis, add influence assignments and avery N nodes"
   ]
  },
  {
   "cell_type": "markdown",
   "metadata": {},
   "source": [
    "Define model parameters"
   ]
  },
  {
   "cell_type": "code",
   "execution_count": null,
   "metadata": {},
   "outputs": [],
   "source": [
    "# Geometric\n",
    "deck_width = 11\n",
    "deck_overhang = 1.5\n",
    "deck_thk = 1.0\n",
    "deck_thk_outstand = 0.25\n",
    "deck_thk_pier = 1.4\n",
    "span_lengths = [15, 20, 15]\n",
    "column_dia = 1.1\n",
    "pier_head = 2.0\n",
    "abut_width = 1.0\n",
    "pier_height = 5\n",
    "skew_angle = 25\n",
    "\n",
    "# Meshing\n",
    "mesh_size = 2\n",
    "\n",
    "# Loading area\n",
    "carriageway_width = 11\n",
    "\n",
    "# Loads\n",
    "surf_load_intensity = -2.5\n",
    "parapet_load_udl = -2.5\n",
    "footpath_surface_load_intensity = -1 # Additional thickness of footpath\n",
    "settlement = -0.01 # m\n",
    "\n",
    "# Temperatures\n",
    "temperature_increase = 20\n",
    "temperature_decrease = -20\n",
    "temp_max = 25\n",
    "temp_min = 0.0\n",
    "\n",
    "# Live loads\n",
    "pedestrian_live_load = -5 # kpa\n",
    "breaking_load = 900 # kN\n",
    "horiz_load = 200    # kN\n",
    "pier_impact_load = 1000 # kN\n",
    "deck_impact_load = 1000 # kN/m"
   ]
  },
  {
   "cell_type": "code",
   "execution_count": null,
   "metadata": {},
   "outputs": [],
   "source": [
    "# Calculated dimensions\n",
    "overall_length = sum(span_lengths) + abut_width\n",
    "overall_width  = 2*deck_overhang + deck_width\n",
    "\n",
    "footway_width = (overall_width-carriageway_width)/2\n",
    "\n",
    "breaking_load_intensity = breaking_load / (carriageway_width*overall_length)\n",
    "\n",
    "eccentcity_pier = (deck_thk_pier-deck_thk)/2\n",
    "eccentcity_outstand = (deck_thk_outstand-deck_thk)/2"
   ]
  },
  {
   "cell_type": "markdown",
   "metadata": {},
   "source": [
    "Connect to LUSAS and either create a new model or delete the contents of the existing one - be careful if you have a model already loaded"
   ]
  },
  {
   "cell_type": "code",
   "execution_count": null,
   "metadata": {},
   "outputs": [],
   "source": [
    "import numpy as np\n",
    "import math\n",
    "import win32com.client as win32\n",
    "lusas = win32.gencache.EnsureDispatch(\"Lusas.Modeller.22.0\") # Connect to LUSAS Modeller\n",
    "import sys; sys.path.append('../') # Locate the helpers file\n",
    "from m100_Tools_And_Helpers import Helpers\n",
    "Helpers.initialise(lusas)\n",
    "\n",
    "# If there is not currently a model open, create one\n",
    "if not lusas.existsDatabase():\n",
    "    lusas.newProject(\"Structural\", \"Concrete Slab Bridge Deck\")\n",
    "else:\n",
    "    Helpers.reset_database_contents(lusas.database())\n",
    "\n",
    "db = lusas.database() # Reference to the model database for convenience\n",
    "\n",
    "# 3D model with Z vertical\n",
    "db.setAnalysisCategory(\"3D\")\n",
    "db.setVerticalDir(\"Z\")\n",
    "\n",
    "# Set the unit system\n",
    "db.setModelUnits(\"kN,m,t,s,C\")"
   ]
  },
  {
   "cell_type": "markdown",
   "metadata": {},
   "source": [
    "Create the attributes to be assigned to the geometric features. Mesh, Geometric and Material."
   ]
  },
  {
   "cell_type": "code",
   "execution_count": null,
   "metadata": {},
   "outputs": [],
   "source": [
    "# Beam element mesh attribute for the pier columns\n",
    "beam_mesh_attr = db.createMeshLine(\"LMsh2\").setSize(\"BMI21\", mesh_size)\n",
    "# Set the upper section which overlaps with the deck to be rigid\n",
    "#beam_mesh_attr.setEndRigidZoneSameAsStart(False).setRigid(\"Start\", \"length\", False, 1.0, 1.0)\n",
    "\n",
    "# Pier column geometric attribute\n",
    "pier_geom_attr = Helpers.create_circular_section(db, 'Pier Column', column_dia)\n",
    "\n",
    "# Concrete material attribute\n",
    "concrete_mat_attr = db.createIsotropicMaterial(\"Concrete\", 34.8E6, 0.2, 2.4)\n",
    "concrete_mat_attr.setValue(\"alpha\", 10e-6) # Coefficient of thermal expansion\n",
    "# Concrete material assigned to all\n",
    "db.setAsDefault(\"Material\", concrete_mat_attr)\n",
    "\n",
    "# Deck mesh attribute, thick shell elements\n",
    "deck_mesh_attr    = db.createMeshSurface(\"SMsh1\").setRegularSize(\"QTS4\", mesh_size, True)\n",
    "# Deck surface thickness attribute\n",
    "deck_surface_attr      = db.createGeometricSurface(\"Deck Slab\").setSurface(deck_thk, 0.0)\n",
    "pier_head_surface_attr = db.createGeometricSurface(\"Deck Slab at Pier\").setSurface(deck_thk_pier, eccentcity_pier)\n",
    "outstand_surface_attr  = db.createGeometricSurface(\"Deck Outstand\").setSurface(deck_thk_outstand, eccentcity_outstand)\n",
    "\n",
    "# Support attributes\n",
    "support_pinned_attr = db.createSupportStructural(\"Pinned\").setStructural(\"R\", \"R\", \"R\", \"F\", \"F\", \"F\", \"F\", \"F\", \"C\", \"F\") # F=Free, R=Restrained\n",
    "support_slide_attr  = db.createSupportStructural(\"Slide\").setStructural(\"F\", \"R\", \"R\", \"F\", \"F\", \"F\", \"F\", \"F\", \"C\", \"F\")\n",
    "support_fixed_attr  = db.createSupportStructural(\"Fully Fixed\").setStructural(\"R\", \"R\", \"R\", \"R\", \"R\", \"R\", \"F\", \"F\", \"C\", \"F\")"
   ]
  },
  {
   "cell_type": "markdown",
   "metadata": {},
   "source": [
    "Define some useful helper functions for creating lines and points. This keeps the code clean and avoids duplication"
   ]
  },
  {
   "cell_type": "code",
   "execution_count": null,
   "metadata": {},
   "outputs": [],
   "source": [
    "# Define a useful helper function to create a line from two point coordinates\n",
    "def create_line(p1:list, p2:list) -> 'IFLine':\n",
    "    # geometryData object contains all the settings to perform a geometry creation\n",
    "    geom_data = lusas.geometryData().setAllDefaults()  \n",
    "    # set the options for creating straight lines from coordinates\n",
    "    geom_data.setCreateMethod(\"straight\")        \n",
    "    geom_data.setLowerOrderGeometryType(\"coordinates\")        \n",
    "    # Add the cordinates, lines directions will follow the order of the coordinates\n",
    "    geom_data.addCoords(p1[0], p1[1], p1[2])    # Set the coordinates of the first point X,Y,Z\n",
    "    geom_data.addCoords(p2[0], p2[1], p2[2])    # Set the coordinates of the second point X,Y,Z\n",
    "    # Create the line, get the line object from the returned object set and return the 1 and only line\n",
    "    return win32.CastTo(db.createLine(geom_data).getObject(\"Line\"), \"IFLine\")\n",
    "    \n",
    "# Define a useful helper function to create a line from two point objects\n",
    "# Note that we expect two IFPoint objects, these are references to points already created in the model\n",
    "def create_line_from_points(p1:'IFPoint', p2:'IFPoint') -> 'IFLine':\n",
    "    # geometryData object contains all the settings to perform a geometry creation\n",
    "    geom_data = lusas.geometryData().setAllDefaults()         \n",
    "    # set the options for creating straight lines from points\n",
    "    geom_data.setCreateMethod(\"straight\")        \n",
    "    geom_data.setLowerOrderGeometryType(\"points\")\n",
    "    # Create an object set to contain the points and use this set to create the line\n",
    "    obs = lusas.newObjectSet()                 \n",
    "    obs.add(p1)\n",
    "    obs.add(p2)\n",
    "    # Create the line, get the line object from the returned object set and return the 1 and only line\n",
    "    return win32.CastTo(obs.createLine(geom_data).getObject(\"Line\"), \"IFLine\")\n",
    "\n",
    "\n",
    "# Define a useful helper function to create a point from coordinates\n",
    "def create_point(x:float, y:float, z:float) -> 'IFPoint':\n",
    "    # geometryData object contains all the settings to perform a geometry creation\n",
    "    geom_data = lusas.geometryData().setAllDefaults() \n",
    "    # set the options for creating points from coordinates\n",
    "    geom_data.setLowerOrderGeometryType(\"coordinates\")\n",
    "    # Add the coordinates\n",
    "    geom_data.addCoords(x, y, z)\n",
    "    # Create the point and return it. \n",
    "    # Note that createPoint returns and IFObjectSet from which we can get the point. (this allows multiple points to be created at once, here we only have 1)\n",
    "    return win32.CastTo(db.createPoint(geom_data).getObject(\"Point\"), \"IFPoint\")"
   ]
  },
  {
   "cell_type": "code",
   "execution_count": null,
   "metadata": {},
   "outputs": [],
   "source": [
    "def create_surface_from_points(points:list):\n",
    "    # geometryData object contains all the settings to perform a geometry creation\n",
    "    geom_data = lusas.geometryData().setAllDefaults() \n",
    "    # set the options for creating points from coordinates\n",
    "    geom_data.setLowerOrderGeometryType(\"points\")\n",
    "    # Create an object set to contain the points and use this set to create the line\n",
    "    obs = lusas.newObjectSet()\n",
    "    for p in points:\n",
    "        obs.add(p)             \n",
    "\n",
    "    # Create the Surface, get the surface object from the returned object set and return the 1 and only surface\n",
    "    return win32.CastTo(obs.createSurface(geom_data).getObject(\"Surface\"), \"IFSurface\")"
   ]
  },
  {
   "cell_type": "code",
   "execution_count": null,
   "metadata": {},
   "outputs": [],
   "source": [
    "# Helper function to calculate beam coordinates accounting for the skew angle\n",
    "def skew_x(y:float)->float:\n",
    "    return y * math.tan(math.radians(skew_angle))"
   ]
  },
  {
   "cell_type": "markdown",
   "metadata": {},
   "source": [
    "## Create the model geometry"
   ]
  },
  {
   "cell_type": "code",
   "execution_count": null,
   "metadata": {},
   "outputs": [],
   "source": [
    "# Create a list of x coordinates at support locations\n",
    "support_xs = [abut_width/2] + list(np.add.accumulate(span_lengths)+abut_width/2)\n",
    "\n",
    "# X Coordinates for the entire deck grid\n",
    "x_grid = list()\n",
    "x = abut_width/2\n",
    "# First support\n",
    "x_grid.extend([0.0, x, x+abut_width/2])\n",
    "# Pier lines\n",
    "for i in range(0, len(span_lengths)-1):\n",
    "    x+=span_lengths[i]\n",
    "    x_grid.extend([x-pier_head/2, x, x+pier_head/2])\n",
    "# final support\n",
    "x+=span_lengths[-1]\n",
    "x_grid.extend([x-abut_width/2, x, x+abut_width/2])\n",
    "\n",
    "# Y Coordinates for deck grid\n",
    "y_grid = [-deck_width/2-deck_overhang, -deck_width/2, -deck_width/3, 0.0, deck_width/3, deck_width/2, deck_width/2+deck_overhang]"
   ]
  },
  {
   "cell_type": "code",
   "execution_count": null,
   "metadata": {},
   "outputs": [],
   "source": [
    "# Create the actual points in the model [Y][X]\n",
    "deck_points = [[create_point(x+skew_x(y), y, 0.0) for x in x_grid] for y in y_grid]"
   ]
  },
  {
   "cell_type": "code",
   "execution_count": null,
   "metadata": {},
   "outputs": [],
   "source": [
    "''' Create Deck surfaces '''\n",
    "# Set the default mesh attribute which is automatically assigned to each newly created surface\n",
    "db.setAsDefault(\"Surface Mesh\", deck_mesh_attr)\n",
    "\n",
    "# Create the surfaces for the first outstand\n",
    "db.setAsDefault(\"Surface Geometric\", outstand_surface_attr)\n",
    "for ix in range(0, len(x_grid)-1):\n",
    "    create_surface_from_points([ deck_points[0][ix], deck_points[0][ix+1], deck_points[1][ix+1], deck_points[1][ix] ])\n",
    "\n",
    "# Create the surfaces for the main deck\n",
    "db.setAsDefault(\"Surface Geometric\", deck_surface_attr)\n",
    "for iy in range(1, len(y_grid)-2):\n",
    "    for ix in range(0, len(x_grid)-1):\n",
    "        create_surface_from_points([ deck_points[iy][ix], deck_points[iy][ix+1], deck_points[iy+1][ix+1], deck_points[iy+1][ix] ])\n",
    "\n",
    "# Create the surfaces for the second outstand\n",
    "db.setAsDefault(\"Surface Geometric\", outstand_surface_attr)\n",
    "for ix in range(0, len(x_grid)-1):\n",
    "    create_surface_from_points([ deck_points[-2][ix], deck_points[-2][ix+1], deck_points[-1][ix+1], deck_points[-1][ix] ])\n"
   ]
  },
  {
   "cell_type": "code",
   "execution_count": null,
   "metadata": {},
   "outputs": [],
   "source": [
    "# Modify the geometric assignment for the deck over the supports\n",
    "\n",
    "# Determine the array indicies for all support points\n",
    "support_indices = [1]\n",
    "for s in span_lengths:\n",
    "    support_indices.append(support_indices[-1]+3)\n",
    "\n",
    "# For each point in the support line, get the connected surfaces and assign the geometric attribute\n",
    "for ix in support_indices:\n",
    "    objs = lusas.newObjectSet()\n",
    "    for iy in range(2, len(y_grid)-2): # Ignore the outstands\n",
    "        objs.add(deck_points[iy][ix])\n",
    "    objs.addHOF(\"Surface\")\n",
    "    objs.remove(\"Point\")\n",
    "    pier_head_surface_attr.assignTo(objs)"
   ]
  },
  {
   "cell_type": "code",
   "execution_count": null,
   "metadata": {},
   "outputs": [],
   "source": [
    "''' Pier columns '''\n",
    "# Set the default mesh and geometric section attribute to be automatically assigned to the newly created pier lines\n",
    "db.setAsDefault(\"Mesh\", beam_mesh_attr)\n",
    "db.setAsDefault(\"Line Geometric\", pier_geom_attr)\n",
    "\n",
    "# List of List of supported points, we'll use this later to assign displacements in the settlement analysis\n",
    "all_support_points = list()\n",
    "# List pf pier lines, we'll use this later to assign impact loads\n",
    "pier_column_lines = list()\n",
    "\n",
    "# Pier indicies\n",
    "pier_indices_X = support_indices[1:-1]\n",
    "pier_indices_Y = [2,3,4]\n",
    "\n",
    "# Create pier lines\n",
    "for ix in pier_indices_X:\n",
    "    supports = list()\n",
    "    for iy in pier_indices_Y:\n",
    "\n",
    "        deck_point = deck_points[iy][ix]\n",
    "        ground_point = create_point(deck_point.getX(), deck_point.getY(), -pier_height)\n",
    "        pier_column_lines.append(create_line_from_points(deck_point, ground_point))\n",
    "\n",
    "        # Assign the fixed support attribute to the bottom point\n",
    "        support_fixed_attr.assignTo(ground_point)\n",
    "        supports.append(ground_point)\n",
    "\n",
    "    all_support_points.append(supports)\n",
    "\n",
    "\n",
    "# End 1 pinned supports\n",
    "all_support_points.insert(0, list())\n",
    "for iy in pier_indices_Y:\n",
    "    deck_point = deck_points[iy][1]\n",
    "    support_pinned_attr.assignTo(deck_point)\n",
    "    all_support_points[0].append(deck_point)\n",
    "\n",
    "# End 2 slide supports\n",
    "all_support_points.append(list())\n",
    "for iy in pier_indices_Y:\n",
    "    deck_point = deck_points[iy][len(x_grid) - 2]\n",
    "    support_slide_attr.assignTo(deck_point)\n",
    "    all_support_points[-1].append(deck_point)"
   ]
  },
  {
   "cell_type": "code",
   "execution_count": null,
   "metadata": {},
   "outputs": [],
   "source": [
    "# Turn off default attribute assignments\n",
    "db.setAsDefault(\"Mesh\", \"None\")\n",
    "db.setAsDefault(\"Surface Mesh\", \"None\")\n",
    "db.setAsDefault(\"Line Geometric\", \"None\")\n",
    "db.setAsDefault(\"Surface Geometric\", \"None\")\n",
    "db.setAsDefault(\"Isotropic Material\", \"None\")"
   ]
  },
  {
   "cell_type": "markdown",
   "metadata": {},
   "source": [
    "Generate the mesh"
   ]
  },
  {
   "cell_type": "code",
   "execution_count": null,
   "metadata": {},
   "outputs": [],
   "source": [
    "db.resetMesh()\n",
    "db.updateMesh()"
   ]
  },
  {
   "cell_type": "markdown",
   "metadata": {},
   "source": [
    "Define the carriageway by two kerb lines"
   ]
  },
  {
   "cell_type": "code",
   "execution_count": null,
   "metadata": {},
   "outputs": [],
   "source": [
    "overall_length = sum(span_lengths) + abut_width\n",
    "# Create lines to represent the carriageway kerbs that can be used for the Vehicle Load Optimiser\n",
    "curb_line1 = create_line([-10,  carriageway_width/2, 0.5], [10 + overall_length,  carriageway_width/2, 0.5])\n",
    "curb_line2 = create_line([-10, -carriageway_width/2, 0.5], [10 + overall_length, -carriageway_width/2, 0.5])\n",
    "# Set the colour to distinguish them from model lines\n",
    "curb_line1.setPen(2)\n",
    "curb_line2.setPen(2)"
   ]
  },
  {
   "cell_type": "markdown",
   "metadata": {},
   "source": [
    "# Loads"
   ]
  },
  {
   "cell_type": "code",
   "execution_count": null,
   "metadata": {},
   "outputs": [],
   "source": [
    "# Get the automatically created loadcase in analysis 1 and add automatic gravity to it\n",
    "# NOTE: getLoadset and setName function returns a reference to the IFLoadset baseclass and must be cast to IFLoadcase to access the addGravity function\n",
    "win32.CastTo(db.getLoadset(\"Loadcase 1\", 0).setName(\"Gravity\"), \"IFLoadcase\").addGravity(True)"
   ]
  },
  {
   "cell_type": "code",
   "execution_count": null,
   "metadata": {},
   "outputs": [],
   "source": [
    "# Create a loadcase for the Parapet loads to be applied to the entire deck surface\n",
    "parapet_loadcase = db.createLoadcase(\"Parapet Loads\")\n",
    "# Set the loadcase in the assignment object\n",
    "assignment = lusas.assignment().setAllDefaults().setLoadset(parapet_loadcase)\n",
    "# Create a locally distributed load for Parapet loads\n",
    "parapet_load_attr = db.createLoadingGlobalDistributed(\"Parapet Loads\").setGlobalDistributed(\"Length\", 0.0, 0.0, parapet_load_udl, 0.0, 0.0, 0.0)\n",
    "# and assign to all the edge lines\n",
    "\n",
    "# Start with the first point at either edge of the deck\n",
    "for i in [0, len(y_grid)-1]:\n",
    "    p0 = deck_points[i][0]\n",
    "    p1 = deck_points[i][1]\n",
    "    # Find the line that connects the first and second points, i.e. along the x axis and add to the object set\n",
    "    objs = lusas.newObjectSet()\n",
    "    for geom in p0.getHOFs():\n",
    "        if geom.getEndPoint() == p1 or geom.getStartPoint() == p1: # Line directions are different so check both points\n",
    "            objs.add(geom)\n",
    "    # Get the object set to include all connected colinear lines\n",
    "    objs.addColinearNeighbours(1)\n",
    "    # And assign the parapet loads\n",
    "    parapet_load_attr.assignTo(objs, assignment)"
   ]
  },
  {
   "cell_type": "code",
   "execution_count": null,
   "metadata": {},
   "outputs": [],
   "source": [
    "# Create a loadcase for the Surfacing loads to be applied to the entire deck surface\n",
    "surfacing_loadcase = db.createLoadcase(\"Surfacing\")\n",
    "# Set the loadcase in the assignment object\n",
    "assignment = lusas.assignment().setAllDefaults().setLoadset(surfacing_loadcase)\n",
    "# Create a locally distributed load for Surfacing loads\n",
    "surf_load_attr = db.createLoadingLocalDistributed(\"Surfacing\").setLocalDistributed(0.0, 0.0, surf_load_intensity, \"surface\")\n",
    "# and assign to all the surfaces\n",
    "surf_load_attr.assignTo(\"Surfaces\", assignment)"
   ]
  },
  {
   "cell_type": "markdown",
   "metadata": {},
   "source": [
    "Discrete loads can be be re-used in the model and assigned to a different origin. We'll do that for the footpath loads.<br/>\n",
    "We'll make a generic function to create a 4 noded discrete patch load the size of the footpath."
   ]
  },
  {
   "cell_type": "code",
   "execution_count": null,
   "metadata": {},
   "outputs": [],
   "source": [
    "POINT_OFFSET = 9 # Points created for assignment of discrete loads will be offset from the deck for clarity\n",
    "Z_OFFSET = 1\n",
    "\n",
    "def create_footpath_load(name:str, load1:float, load2:float)->'IFLoadingDiscretePatch':\n",
    "    attr = db.createLoadingDiscretePatch(name).setDiscretePatch(\"surf4\", \"Z\")\n",
    "    # Add the points of an 4 node patch load in which the load intensity varies across the width\n",
    "    # The x ccordinates are increased by 1 because we'll assign these loads to points created at x=-1 to hold these loads\n",
    "    attr.addRow(POINT_OFFSET,                0.0,           Z_OFFSET, load1)\n",
    "    attr.addRow(POINT_OFFSET,                footway_width, Z_OFFSET, load2)\n",
    "    attr.addRow(POINT_OFFSET+overall_length, footway_width, Z_OFFSET, load2)\n",
    "    attr.addRow(POINT_OFFSET+overall_length, 0.0,           Z_OFFSET, load1)\n",
    "    # Explicitly specify how the patch load should be divided up.\n",
    "    # We know the width of the footway is small so we dont need so many divisions\n",
    "    # Limiting the divisions speeds up the time to resolve the patch load into nodal loads\n",
    "    attr.setDivisions(math.ceil(footway_width), 40)\n",
    "\n",
    "    return attr"
   ]
  },
  {
   "cell_type": "code",
   "execution_count": null,
   "metadata": {},
   "outputs": [],
   "source": [
    "# Create a surfacing load using the generic fucntion\n",
    "footpath_surf_load_attr = create_footpath_load(\"Footpath Surface\", footpath_surface_load_intensity, footpath_surface_load_intensity)\n",
    "\n",
    "# Assign this to a new point using the assignment object set up for the deck surfacing loads\n",
    "footpath_point1 = create_point(-POINT_OFFSET, -overall_width/2, 0.0)\n",
    "footpath_point1.setPen(2)\n",
    "footpath_surf_load_attr.assignTo(footpath_point1, assignment)\n",
    "# And again to a 2nd new point\n",
    "footpath_point2 = create_point(-POINT_OFFSET, carriageway_width/2, 0.0)\n",
    "footpath_point2.setPen(2)\n",
    "footpath_surf_load_attr.assignTo(footpath_point2, assignment)\n",
    "\n",
    "# Note that we set the colour of the new points to blue so we can identify that they are not part of the model and only used to locate the discrete loads"
   ]
  },
  {
   "cell_type": "markdown",
   "metadata": {},
   "source": [
    "Create a settlement load acting only on each support"
   ]
  },
  {
   "cell_type": "code",
   "execution_count": null,
   "metadata": {},
   "outputs": [],
   "source": [
    "# Create the prescribed displacement attribute to represent vertical settlement\n",
    "settlement_attr = db.createPrescribedDisplacementLoad(\"Settlement\", \"Total\")\n",
    "settlement_attr.setDisplacement(\"W\", settlement)\n",
    "\n",
    "# Create a loadcase for each support settlement\n",
    "for i in range(0, len(all_support_points)):\n",
    "    settlement_loadcase = db.createLoadcase(f\"Settlement {i+1}\")\n",
    "    # Set the loadcase in the assignment object\n",
    "    assignment = lusas.assignment().setAllDefaults().setLoadset(settlement_loadcase)\n",
    "    # Use the surface set defined early to assign the load to all deck surfaces\n",
    "    for p in all_support_points[i]:\n",
    "        settlement_attr.assignTo(p, assignment)"
   ]
  },
  {
   "cell_type": "markdown",
   "metadata": {},
   "source": [
    "# Variable Loads"
   ]
  },
  {
   "cell_type": "markdown",
   "metadata": {},
   "source": [
    "Create temperature loads"
   ]
  },
  {
   "cell_type": "code",
   "execution_count": null,
   "metadata": {},
   "outputs": [],
   "source": [
    "# Create a loadcases for temeperature\n",
    "temp_warm_loadcase = db.createLoadcase(\"Temperature +dT\")\n",
    "temp_cool_loadcase = db.createLoadcase(\"Temperature -dT\")\n",
    "# Temperature loading warming \n",
    "temp_warm_attr = db.createLoadingTemperature(\"Warming\").setTemperature(\"element\", temperature_increase, 0.0, 0.0, 0.0, 0.0, 0.0, 0.0, 0.0)\n",
    "# Temperature loading cooling \n",
    "temp_cool_attr = db.createLoadingTemperature(\"Cooling\").setTemperature(\"element\", temperature_decrease, 0.0, 0.0, 0.0, 0.0, 0.0, 0.0, 0.0)\n",
    "# Assign the temperature warming load\n",
    "assignment = lusas.assignment().setAllDefaults().setLoadset(temp_warm_loadcase)\n",
    "temp_warm_attr.assignTo(\"Surfaces\", assignment)\n",
    "# Assign the temperature cooling load\n",
    "assignment = lusas.assignment().setAllDefaults().setLoadset(temp_cool_loadcase)\n",
    "temp_cool_attr.assignTo(\"Surfaces\", assignment)"
   ]
  },
  {
   "cell_type": "code",
   "execution_count": null,
   "metadata": {},
   "outputs": [],
   "source": [
    "# Create a loadcases for temeperature Gradient\n",
    "temp_warm_grad_loadcase = db.createLoadcase(\"Temperature +dT Grad\")\n",
    "temp_cool_grad_loadcase = db.createLoadcase(\"Temperature -dT Grad\")\n",
    "# Temperature loading warming \n",
    "temp_warm_attr = db.createLoadingTemperatureProfile(\"Warming Gradient\").setTopTemperature(temp_max).setBottomTemperature(temp_min)\n",
    "# Temperature loading cooling \n",
    "temp_cool_attr = db.createLoadingTemperatureProfile(\"Cooling Gradient\").setTopTemperature(temp_min).setBottomTemperature(temp_max)\n",
    "# Assign the temperature warming load\n",
    "assignment = lusas.assignment().setAllDefaults().setLoadset(temp_warm_grad_loadcase)\n",
    "temp_warm_attr.assignTo(\"Surfaces\", assignment)\n",
    "# Assign the temperature cooling load\n",
    "assignment = lusas.assignment().setAllDefaults().setLoadset(temp_cool_grad_loadcase)\n",
    "temp_cool_attr.assignTo(\"Surfaces\", assignment)"
   ]
  },
  {
   "cell_type": "markdown",
   "metadata": {},
   "source": [
    "Pedestrian live loads"
   ]
  },
  {
   "cell_type": "code",
   "execution_count": null,
   "metadata": {},
   "outputs": [],
   "source": [
    "# We can reuse the discrete patch load fucntion to create pedestrian live loads \n",
    "ped_live_load_attr = create_footpath_load(\"Pedestrian Live load\", pedestrian_live_load, pedestrian_live_load)\n",
    "\n",
    "# Create a loadcase for the pedestrian live loads\n",
    "ped_loads_loadcase = db.createLoadcase(\"Pedestrian live loads\")\n",
    "\n",
    "# Redefine the assignment object for the discrete load assignment as we did for the surfacing loads\n",
    "assignment = lusas.assignment().setAllDefaults().setLoadset(ped_loads_loadcase)\n",
    "assignment.setLoadMoving(\"Exclude All Load\")\n",
    "assignment.setSearchAssignType(\"area\")\n",
    "\n",
    "# Again, assign the same load to the two dedicated points\n",
    "ped_live_load_attr.assignTo(footpath_point1, assignment)\n",
    "ped_live_load_attr.assignTo(footpath_point2, assignment)"
   ]
  },
  {
   "cell_type": "markdown",
   "metadata": {},
   "source": [
    "Breaking load"
   ]
  },
  {
   "cell_type": "code",
   "execution_count": null,
   "metadata": {},
   "outputs": [],
   "source": [
    "\n",
    "# Create a discrete patch load with the loads acting in the X direction.\n",
    "# Patch loads are projected onto the structure in the direction of their normal. Which will be the Z axis in this case.\n",
    "breaking_load_attr = db.createLoadingDiscretePatch(\"Breaking load 1\").setDiscretePatch(\"surf4\", \"X\")\n",
    "# Add the points of an 4 node patch load\n",
    "breaking_load_attr.addRow(POINT_OFFSET,                -carriageway_width/2, Z_OFFSET, breaking_load_intensity)\n",
    "breaking_load_attr.addRow(POINT_OFFSET,                 carriageway_width/2, Z_OFFSET, breaking_load_intensity)\n",
    "breaking_load_attr.addRow(POINT_OFFSET+overall_length,  carriageway_width/2, Z_OFFSET, breaking_load_intensity)\n",
    "breaking_load_attr.addRow(POINT_OFFSET+overall_length, -carriageway_width/2, Z_OFFSET, breaking_load_intensity)\n",
    "\n",
    "# Create a loadcase for the braking loads\n",
    "breaking_loads_loadcase1 = db.createLoadcase(\"Breaking load +ve\")\n",
    "breaking_loads_loadcase2 = db.createLoadcase(\"Breaking load -ve\")\n",
    "\n",
    "# Redefine the assignment object for the discrete load assignment as we did for the surfacing loads\n",
    "assignment = lusas.assignment().setAllDefaults().setLoadset(breaking_loads_loadcase1)\n",
    "assignment.setLoadMoving(\"Exclude All Load\")\n",
    "assignment.setSearchAssignType(\"area\")\n",
    "\n",
    "# Assign to the point at the origin\n",
    "point0 = create_point(-POINT_OFFSET, 0.0, 0.0)\n",
    "point0.setPen(2)\n",
    "breaking_load_attr.assignTo(point0, assignment)\n",
    "\n",
    "# Assign the same load with a negative load factor for the opposite direction\n",
    "assignment.setLoadFactor(-1)\n",
    "assignment.setLoadset(breaking_loads_loadcase2)\n",
    "breaking_load_attr.assignTo(point0, assignment)"
   ]
  },
  {
   "cell_type": "markdown",
   "metadata": {},
   "source": [
    "Horizontal loads"
   ]
  },
  {
   "cell_type": "code",
   "execution_count": null,
   "metadata": {},
   "outputs": [],
   "source": [
    "# Create the concentrated load attribute\n",
    "horiz_load_pos_attr = db.createLoadingConcentrated(\"Horizontal +ve\")\n",
    "horiz_load_pos_attr.setConcentrated(0.0, horiz_load, 0.0, 0.0, 0.0, 0.0, 0.0, 0.0, 0.0, 0.0)\n",
    "horiz_load_neg_attr = db.createLoadingConcentrated(\"Horizontal -ve\")\n",
    "horiz_load_neg_attr.setConcentrated(0.0, -horiz_load, 0.0, 0.0, 0.0, 0.0, 0.0, 0.0, 0.0, 0.0)\n",
    "\n",
    "# Assign positive and negative horizontal loads to each pier\n",
    "count = 1\n",
    "for ix in pier_indices_X:\n",
    "    horiz_pos_loadcase = db.createLoadcase(f\"Horizontal +ve {count}\")\n",
    "    horiz_neg_loadcase = db.createLoadcase(f\"Horizontal -ve {count}\")\n",
    "    # Assign the lateral load to the central column of each pier\n",
    "    deck_point = deck_points[pier_indices_Y[1]][ix]\n",
    "    assignment = lusas.assignment().setAllDefaults().setLoadset(horiz_pos_loadcase)\n",
    "    horiz_load_pos_attr.assignTo(deck_point, assignment)\n",
    "    assignment = lusas.assignment().setAllDefaults().setLoadset(horiz_neg_loadcase)\n",
    "    horiz_load_neg_attr.assignTo(deck_point, assignment)\n",
    "    count+=1"
   ]
  },
  {
   "cell_type": "markdown",
   "metadata": {},
   "source": [
    "# Impact Loads"
   ]
  },
  {
   "cell_type": "code",
   "execution_count": null,
   "metadata": {},
   "outputs": [],
   "source": [
    "# Impact load defined as a point load at mid height of the pier leg\n",
    "impact_load_attr = db.createLoadingBeamPoint(\"Pier Impact\").setBeamPoint(\"Parametric\", \"Global\", \"beam\")\n",
    "impact_load_attr.addRow(0.5, -pier_impact_load/2, pier_impact_load, 0.0, 0.0, 0.0, 0.0)\n",
    "\n",
    "# Create the loadcase - we'll just consider a single case here\n",
    "impact_loadcase = db.createLoadcase(f\"Pier Impact\")\n",
    "# Assign to the first pier leg\n",
    "impact_load_attr.assignTo(pier_column_lines[0], assignment.setAllDefaults().setLoadset(impact_loadcase))"
   ]
  },
  {
   "cell_type": "code",
   "execution_count": null,
   "metadata": {},
   "outputs": [],
   "source": [
    "# Impact load applied to the deck\n",
    "\n",
    "# Create a discrete line load acting in the global Y direction, but projected onto the model in the Z direction\n",
    "deck_impact_load_attr = db.createLoadingDiscretePatch(\"Deck Impact\").setDiscretePatch(\"line2\", \"Y\", [0,0,1])\n",
    "# Specify the load position relative to the \n",
    "deck_impact_load_attr.addRow(span_lengths[1]/2 -0.5, 0.0, 0.0, deck_impact_load)\n",
    "deck_impact_load_attr.addRow(span_lengths[1]/2 +0.5, 0.0, 0.0, deck_impact_load)\n",
    "\n",
    "# Create the loadcase\n",
    "impact_loadcase = db.createLoadcase(f\"Deck Impact\")\n",
    "# Assign to the point at the start of span 2\n",
    "p0 = deck_points[1][4]\n",
    "\n",
    "deck_impact_load_attr.assignTo(p0, assignment.setAllDefaults().setLoadset(impact_loadcase))\n"
   ]
  },
  {
   "cell_type": "markdown",
   "metadata": {},
   "source": [
    "# Load Groups"
   ]
  },
  {
   "cell_type": "code",
   "execution_count": null,
   "metadata": {},
   "outputs": [],
   "source": [
    "''' Create some intermediate load groups to help with later design combinations '''\n",
    "\n",
    "# Get all the loadcases in the model\n",
    "loadcases = db.getLoadsets(\"Loadcase\")\n",
    "\n",
    "# Envelope Settlement cases\n",
    "settlement_env = db.createEnvelope(\"Settlement Env\")\n",
    "for lc in loadcases:\n",
    "    if \"Settlement\" in lc.getName():\n",
    "        settlement_env.addEntry(lc)\n",
    "\n",
    "# Envelope +/- Temperature cases\n",
    "temp_annual_env = db.createEnvelope(\"Temp Annual Env\")\n",
    "temp_annual_env.addEntry(temp_warm_loadcase)\n",
    "temp_annual_env.addEntry(temp_cool_loadcase)\n",
    "\n",
    "temp_daily_env = db.createEnvelope(\"Temp Daily Env\")\n",
    "temp_daily_env.addEntry(temp_warm_grad_loadcase)\n",
    "temp_daily_env.addEntry(temp_cool_grad_loadcase)\n",
    "\n",
    "# Then combine seasonal and daily variations\n",
    "temp_comb = db.createCombinationSmart(\"Temperature\")\n",
    "temp_comb.addEntry(1,0,temp_annual_env)\n",
    "temp_comb.addEntry(1,0,temp_daily_env)\n",
    "\n",
    "# Envelope Braking Loadcases\n",
    "braking_env = db.createEnvelope(\"Braking Env\")\n",
    "for lc in loadcases:\n",
    "    if \"Braking\" in lc.getName():\n",
    "        braking_env.addEntry(lc)\n",
    "\n",
    "# Envelope Horizontal Loadcases\n",
    "braking_env = db.createEnvelope(\"Horizontal Env\")\n",
    "for lc in loadcases:\n",
    "    if \"Horizontal\" in lc.getName():\n",
    "        braking_env.addEntry(lc)"
   ]
  },
  {
   "cell_type": "markdown",
   "metadata": {},
   "source": [
    "# Influence analysis"
   ]
  },
  {
   "cell_type": "code",
   "execution_count": null,
   "metadata": {},
   "outputs": [],
   "source": [
    "# An influence analysis considers unit loads applied to a group of elements in order to generate influence surfaces.\n",
    "# We need to specify the group of elements by assigning a search area\n",
    "# Create a search area attribute\n",
    "search_area_attr = db.createSearchArea(\"Deck Slab\")\n",
    "# Assign the search area atttribute to the same surfaces\n",
    "search_area_attr.assignTo(\"Surfaces\", lusas.assignment().setAllDefaults())"
   ]
  },
  {
   "cell_type": "code",
   "execution_count": null,
   "metadata": {},
   "outputs": [],
   "source": [
    "# Create a Direct Method Influence Analysis\n",
    "dmi_analysis = db.createAnalysisDirectMethodInf(\"DMI\")\n",
    "# Specify the elements in the search area deck slab\n",
    "dmi_analysis.setSearchArea(\"Deck Slab\")\n",
    "dmi_analysis.setSearchAssignType(\"area\")\n",
    "dmi_analysis.setIsGrillageType(1)\n",
    "dmi_analysis.setGridCentreline(\"X\")\n",
    "dmi_analysis.setGridWidth(carriageway_width)\n",
    "dmi_analysis.setIncludeMidSideNodes(False)\n",
    "dmi_analysis.setSelectedResultsGroup(\"assignments\")\n",
    " # Use Grid\n",
    "if dmi_use_grid:\n",
    "    dmi_analysis.setDoMatchNodes(False)\n",
    "    # Generate the DMI elements for the grid\n",
    "    dmi_analysis.createElements()"
   ]
  },
  {
   "cell_type": "code",
   "execution_count": null,
   "metadata": {},
   "outputs": [],
   "source": [
    "if influence_envelope:\n",
    "    influ_env_attr_My = db.createInfluenceEnvelope(\"Deck Major Bending Mx Env\")\n",
    "    influ_env_attr_My.setResultsTransformGlobal()\n",
    "    influ_env_attr_My.setEntity(\"Force/Moment - Thick Shell\")\n",
    "    influ_env_attr_My.addComponentNames([\"Mx\"])\n",
    "    influ_env_attr_My.includeCoincident(True)\n",
    "\n",
    "    # Assign the influence attribute to all the surfaces in the DMI analysis\n",
    "    assignment = lusas.assignment().setAllDefaults().setLoadsetOff().setAnalysis(\"DMI\")\n",
    "    influ_env_attr_My.assignTo(\"Surfaces\", assignment)\n",
    "\n",
    "    # Separate assignment for the column elements - Note that these envelopes cannot be combined together as they optimise different entities\n",
    "    influ_env_attr_cols = db.createInfluenceEnvelope(\"Column All\")\n",
    "    influ_env_attr_cols.setResultsTransformGlobal()\n",
    "    influ_env_attr_cols.setEntity(\"Force/Moment - Thick 3D Beam\")\n",
    "    influ_env_attr_cols.addComponentNames([\"Fx\", \"Fy\", \"Fz\", \"Mx\", \"My\", \"Mz\"])\n",
    "    influ_env_attr_cols.includeCoincident(True)\n",
    "\n",
    "    # Assign the influence attribute to all the lines with a piers in the DMI analysis\n",
    "    influ_env_attr_cols.assignTo(lusas.newObjectSet().add(pier_geom_attr), assignment)"
   ]
  },
  {
   "cell_type": "code",
   "execution_count": null,
   "metadata": {},
   "outputs": [],
   "source": [
    "if not influence_envelope:\n",
    "    # Create an influnec attribute which is assigned to speciifc locations in the model.\n",
    "    inf_attr = db.createDirectInfluence(\"Deck Major Bending Mx\")\n",
    "    inf_attr.setResultsTransformGlobal()\n",
    "    inf_attr.setInfluence(\"Force/Moment - Thick Shell\", \"Mx\")\n",
    "    \n",
    "    # For longitudinal lines at the following indicies,\n",
    "    # assign the influence attribute at every N nodes along the line\n",
    "    # Note the order of the nodes follows the direction of the lines\n",
    "    for i in [2,3,4]:\n",
    "        objs = lusas.newObjectSet()\n",
    "        p0 = deck_points[i][0]\n",
    "        p1 = deck_points[i][1]\n",
    "        for hof in p0.getHOFs():\n",
    "            if hof.getStartPoint() == p1 or hof.getEndPoint() == p1:\n",
    "                objs.add(hof)\n",
    "                objs.addColinearNeighbours(1)\n",
    "\n",
    "        lines = objs.getObjects(\"Lines\")\n",
    "        objs.remove(\"all\")\n",
    "\n",
    "        # Skip the end two lines which are the rigid end beam\n",
    "        for line in lines[2:-2]:\n",
    "            nodes = line.getNodes()\n",
    "            for n, node in enumerate(nodes):\n",
    "                if n%N_NODE == 0:\n",
    "                    objs.add(node)\n",
    "\n",
    "        # Set the assignment data to assign the influence attributes to nodes in the DMI Analysis\n",
    "        assignment = lusas.assignment().setAllDefaults().setAnalysis(\"DMI\").addToSelection(\"Node\")\n",
    "        inf_attr.assignTo(objs, assignment)"
   ]
  },
  {
   "cell_type": "markdown",
   "metadata": {},
   "source": [
    "Solve the analyses"
   ]
  },
  {
   "cell_type": "code",
   "execution_count": null,
   "metadata": {},
   "outputs": [],
   "source": [
    "# Solve each analysis and open all the available results files\n",
    "if solve_analyses:\n",
    "    db.getAnalysis(\"Analysis 1\").solve(True)\n",
    "    db.openAllResults(False)"
   ]
  },
  {
   "cell_type": "code",
   "execution_count": null,
   "metadata": {},
   "outputs": [],
   "source": [
    "lusas.view().insertValuesLayer()\n",
    "lusas.view().values().setResultsTransformNone()\n",
    "lusas.view().values().setResults(\"Reaction\", \"FZ\")"
   ]
  },
  {
   "cell_type": "markdown",
   "metadata": {},
   "source": [
    "Set the view to be perspective mode"
   ]
  },
  {
   "cell_type": "code",
   "execution_count": null,
   "metadata": {},
   "outputs": [],
   "source": [
    "lusas.view().setProjection(1)\n",
    "lusas.view().setIsometric()\n",
    "lusas.view().setScaledToFit(True)"
   ]
  },
  {
   "cell_type": "markdown",
   "metadata": {},
   "source": [
    "Set the view to display the assigned loading in the attributes layers as well as the geometric \"fleshing\""
   ]
  },
  {
   "cell_type": "code",
   "execution_count": null,
   "metadata": {},
   "outputs": [],
   "source": [
    "lusas.view().insertAttributesLayer()\n",
    "lusas.view().attributes().drawPatchByDefinition(True)\n",
    "lusas.view().attributes().visualiseAll(\"Loading\")\n",
    "lusas.view().attributes().visualiseAll(\"Geometric\")\n",
    "#lusas.view().attributes().visualiseAllTransparent(\"Geometric\")\n"
   ]
  }
 ],
 "metadata": {
  "kernelspec": {
   "display_name": "Python 3",
   "language": "python",
   "name": "python3"
  },
  "language_info": {
   "codemirror_mode": {
    "name": "ipython",
    "version": 3
   },
   "file_extension": ".py",
   "mimetype": "text/x-python",
   "name": "python",
   "nbconvert_exporter": "python",
   "pygments_lexer": "ipython3",
   "version": "3.12.3"
  }
 },
 "nbformat": 4,
 "nbformat_minor": 2
}
