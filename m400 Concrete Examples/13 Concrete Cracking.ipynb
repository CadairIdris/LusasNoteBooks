{
 "cells": [
  {
   "cell_type": "markdown",
   "metadata": {},
   "source": [
    "# Concrete Cracking"
   ]
  },
  {
   "cell_type": "code",
   "execution_count": 2,
   "metadata": {},
   "outputs": [],
   "source": [
    "import win32com.client as win32\n",
    "lusas = win32.gencache.EnsureDispatch(\"Lusas.Modeller.21.1\")\n",
    "import sys; sys.path.append('../') # Locate the helpers file\n",
    "from m100_Tools_And_Helpers import Helpers\n",
    "Helpers.initialise(lusas)\n",
    "Helpers.delete_all_database_contents(lusas.database())\n",
    "db = lusas.database()\n",
    "db.createAnalysisStructural(\"Analysis 1\")\n",
    "db.setAnalysisCategory(\"2D Inplane\")\n"
   ]
  },
  {
   "cell_type": "markdown",
   "metadata": {},
   "source": [
    "Inputs"
   ]
  },
  {
   "cell_type": "code",
   "execution_count": 3,
   "metadata": {},
   "outputs": [],
   "source": [
    "wall_height = 2\n",
    "wall_thickness = 0.3\n",
    "beam_length = 4.5\n",
    "beam_thickness = 0.45\n",
    "base_width = 1.4\n",
    "base_thickness = 0.5\n",
    "cover = 0.05"
   ]
  },
  {
   "cell_type": "code",
   "execution_count": 4,
   "metadata": {},
   "outputs": [],
   "source": [
    "class Point:\n",
    "    def __init__(self, x:float, y:float):\n",
    "        self.X = x\n",
    "        self.Y = y\n",
    "        self.LusasPoint = None\n",
    "    \n",
    "    def create_lusas_point(self):\n",
    "        # geometryData object contains all the settings to perform a geometry creation\n",
    "        geom_data = lusas.geometryData().setAllDefaults().setLowerOrderGeometryType(\"coordinates\")\n",
    "        geom_data.addCoords(self.X, self.Y, 0)\n",
    "        self.LusasPoint = lusas.database().createPoint(geom_data).getObjects(\"Point\")[0]\n",
    "\n",
    "    def offset(self, x:float, y:float) -> 'Point':\n",
    "        return Point(self.X + x, self.Y + y)\n",
    "\n",
    "class Line:\n",
    "    def __init__(self, p1:Point, p2:Point):\n",
    "        self.P1 = p1\n",
    "        self.P2 = p2\n",
    "        self.LusasLine = None\n",
    "\n",
    "    def create_lusas_line(self):\n",
    "        # Create the points in lusas first if they have not alraedy been created\n",
    "        if self.P1.LusasPoint is None : self.P1.create_lusas_point()\n",
    "        if self.P2.LusasPoint is None : self.P2.create_lusas_point()\n",
    "\n",
    "        # geometryData object contains all the settings to perform a geometry creation\n",
    "        geom_data = lusas.geometryData().setAllDefaults()         \n",
    "        # set the options for creating straight lines from points\n",
    "        geom_data.setCreateMethod(\"straight\").setLowerOrderGeometryType(\"points\")\n",
    "        # Create an object set to contain the points and use this set to create the line\n",
    "        obs = lusas.newObjectSet()                 \n",
    "        obs.add(self.P1.LusasPoint)\n",
    "        obs.add(self.P2.LusasPoint)\n",
    "        # Create the line and save it\n",
    "        self.LusasLine = obs.createLine(geom_data).getObjects(\"Line\")[0]"
   ]
  },
  {
   "cell_type": "code",
   "execution_count": 5,
   "metadata": {},
   "outputs": [],
   "source": [
    "toe_length = (base_width-wall_thickness)/2\n",
    "inner_wall_height = wall_height-beam_thickness"
   ]
  },
  {
   "cell_type": "code",
   "execution_count": 6,
   "metadata": {},
   "outputs": [],
   "source": [
    "lines = []\n",
    "lines.append(Line(Point(0,0),   Point(base_width, 0)))\n",
    "lines.append(Line(lines[-1].P2, lines[-1].P2.offset(0           , base_thickness)))\n",
    "lines.append(Line(lines[-1].P2, lines[-1].P2.offset(-toe_length , 0)))\n",
    "lines.append(Line(lines[-1].P2, lines[-1].P2.offset(0           , inner_wall_height)))\n",
    "lines.append(Line(lines[-1].P2, lines[-1].P2.offset(+beam_length, 0)))\n",
    "lines.append(Line(lines[-1].P2, lines[-1].P2.offset(0           , -inner_wall_height)))\n",
    "lines.append(Line(lines[-1].P2, lines[-1].P2.offset(-toe_length , 0)))\n",
    "lines.append(Line(lines[-1].P2, lines[-1].P2.offset(0           , -base_thickness)))\n",
    "lines.append(Line(lines[-1].P2, lines[-1].P2.offset(base_width  , 0)))\n",
    "lines.append(Line(lines[-1].P2, lines[-1].P2.offset(0           , base_thickness)))\n",
    "lines.append(Line(lines[-1].P2, lines[-1].P2.offset(-toe_length , 0)))\n",
    "lines.append(Line(lines[-1].P2, lines[-1].P2.offset(0           , wall_height)))\n",
    "lines.append(Line(lines[-1].P2, lines[-1].P2.offset(-beam_length-2*wall_thickness  , 0)))\n",
    "lines.append(Line(lines[-1].P2, lines[-1].P2.offset(0           , -wall_height)))\n",
    "lines.append(Line(lines[-1].P2, lines[-1].P2.offset(-toe_length , -0)))\n",
    "lines.append(Line(lines[-1].P2, lines[0].P1)) # Close the lines"
   ]
  },
  {
   "cell_type": "code",
   "execution_count": 7,
   "metadata": {},
   "outputs": [],
   "source": [
    "line : Line\n",
    "for line in lines:\n",
    "    line.create_lusas_line()"
   ]
  },
  {
   "cell_type": "code",
   "execution_count": 8,
   "metadata": {},
   "outputs": [],
   "source": [
    "geom_data = lusas.geometryData().setAllDefaults()\n",
    "geom_data.setCreateMethod(\"planar\")\n",
    "geom_data.setLowerOrderGeometryType(\"lines\")\n",
    "surface = lusas.newObjectSet().add([l.LusasLine for l in lines]).createSurface(geom_data).getObjects(\"Surface\")[0]\n"
   ]
  },
  {
   "cell_type": "code",
   "execution_count": 9,
   "metadata": {},
   "outputs": [],
   "source": [
    "bars20 = []\n",
    "\n",
    "# Base 1 Cage\n",
    "bars20.append(Line(lines[0].P1.offset(cover, cover), lines[0].P2.offset(-cover, cover) ))\n",
    "bars20.append(Line(bars20[-1].P2, lines[1].P2.offset(-cover, -cover) ))\n",
    "bars20.append(Line(bars20[-1].P2, bars20[-1].P2.offset(-base_width+2*cover, 0) ))\n",
    "bars20.append(Line(bars20[-1].P2, bars20[0].P1 ))\n",
    "\n",
    "# Base 2 Cage\n",
    "bars20.append(Line(lines[8].P1.offset(cover, cover), lines[8].P2.offset(-cover, cover) ))\n",
    "bars20.append(Line(bars20[-1].P2, lines[9].P2.offset(-cover, -cover) ))\n",
    "bars20.append(Line(bars20[-1].P2, bars20[-1].P2.offset(-base_width+2*cover, 0) ))\n",
    "bars20.append(Line(bars20[-1].P2, bars20[4].P1 ))\n",
    "\n",
    "for bar in bars20:\n",
    "    bar.create_lusas_line()"
   ]
  },
  {
   "cell_type": "code",
   "execution_count": 10,
   "metadata": {},
   "outputs": [],
   "source": [
    "bars25 = []\n",
    "# Left Wall Cage\n",
    "bars25.append(Line(lines[13].P1.offset(cover, -cover), lines[13].P1.offset(cover, -wall_height - base_thickness + cover) ))\n",
    "bars25.append(Line(bars25[-1].P2, bars25[-1].P2.offset(wall_thickness-2*cover, 0.0) ))\n",
    "bars25.append(Line(bars25[-1].P2, bars25[-1].P2.offset(0, base_thickness + wall_height - 2*cover) ))\n",
    "bars25.append(Line(bars25[-1].P2, bars25[0].P1 ))\n",
    "\n",
    "# Right Wall Cage\n",
    "bars25.append(Line(lines[12].P1.offset(-cover, -cover), lines[12].P1.offset(-cover, -wall_height - base_thickness + cover) ))\n",
    "bars25.append(Line(bars25[-1].P2, bars25[-1].P2.offset(-wall_thickness+2*cover, 0.0) ))\n",
    "bars25.append(Line(bars25[-1].P2, bars25[-1].P2.offset(0, base_thickness + wall_height - 2*cover) ))\n",
    "bars25.append(Line(bars25[-1].P2, bars25[-3].P1 ))\n",
    "\n",
    "# Beam Cage\n",
    "bars25.append(Line(lines[12].P1.offset(-cover, -cover), lines[12].P1.offset(-beam_length-2*wall_thickness+cover, -cover) ))\n",
    "bars25.append(Line(bars25[-1].P2, bars25[-1].P2.offset(0, -beam_thickness+2*cover) ))\n",
    "bars25.append(Line(bars25[-1].P2, bars25[-1].P2.offset(beam_length+2*wall_thickness-2*cover, 0) ))\n",
    "bars25.append(Line(bars25[-1].P2, bars25[-3].P1 ))\n",
    "\n",
    "for bar in bars25:\n",
    "    bar.create_lusas_line()"
   ]
  },
  {
   "cell_type": "code",
   "execution_count": 11,
   "metadata": {},
   "outputs": [
    {
     "data": {
      "text/plain": [
       "<win32com.gen_py.LUSAS Modeller ActiveX Script Language 21.1.IFDatabase instance at 0x2278127466448>"
      ]
     },
     "execution_count": 11,
     "metadata": {},
     "output_type": "execute_result"
    }
   ],
   "source": [
    "# Create a plane strain mesh attribute and assign it to the surface\n",
    "mesh_attr = db.createMeshSurface(\"Plane Strain Mesh\")\n",
    "mesh_attr.setRegularSize(\"QPN4M\", beam_thickness / 4, True)\n",
    "mesh_attr.setValue(\"allowIrregular\", True)\n",
    "\n",
    "# When not passing an assignment object the default assignment settings are used\n",
    "mesh_attr.assignTo(surface)\n",
    "\n",
    "\n",
    "# Create parasitic bar element mesh\n",
    "bar_mesh_attr = db.createMeshLine(\"Bar Mesh\")\n",
    "bar_mesh_attr.addElementName(\"BAR2\")\n",
    "bar_mesh_attr.setParasiticType(\"reinforcement\", \"allow gaps\")\n",
    "bar_mesh_attr.removeParasiticSpacing()\n",
    "bar_mesh_attr.setParasiticMaxPercentDeviation(10.0)\n",
    "bar_mesh_attr.setValue(\"uiSpacing\", \"uniform\")\n",
    "# Assign to bar lines\n",
    "bar_mesh_attr.assignTo([l.LusasLine for l in bars20])  \n",
    "bar_mesh_attr.assignTo([l.LusasLine for l in bars25])  \n",
    "\n",
    "# Tell Modeller to generate the mesh\n",
    "db.resetMesh()\n",
    "db.updateMesh()\n"
   ]
  },
  {
   "cell_type": "code",
   "execution_count": 12,
   "metadata": {},
   "outputs": [
    {
     "data": {
      "text/plain": [
       "<win32com.gen_py.LUSAS Modeller ActiveX Script Language 21.1.IFObjectSet instance at 0x2278130310256>"
      ]
     },
     "execution_count": 12,
     "metadata": {},
     "output_type": "execute_result"
    }
   ],
   "source": [
    "# Create a spring support attribute\n",
    "spring_support_attr = db.createSupportStructural(\"Sup1\")\n",
    "spring_support_attr.setStructural(\"S\", \"S\", \"F\", \"F\", \"F\", \"F\", \"F\", \"F\", \"C\", \"F\")\n",
    "spring_support_attr.setSpring(\"Length\", \"500.0\", \"500.0\", 0.0, 0.0, 0.0, 0.0, 0.0, 0.0, 0.0, 0.0)\n",
    "\n",
    "spring_support_attr.assignTo(lines[0].LusasLine)\n",
    "spring_support_attr.assignTo(lines[8].LusasLine)"
   ]
  },
  {
   "cell_type": "code",
   "execution_count": 13,
   "metadata": {},
   "outputs": [
    {
     "data": {
      "text/plain": [
       "<win32com.gen_py.LUSAS Modeller ActiveX Script Language 21.1.IFObjectSet instance at 0x2278126863568>"
      ]
     },
     "execution_count": 13,
     "metadata": {},
     "output_type": "execute_result"
    }
   ],
   "source": [
    "# Create reinforcement bar attributes with a helper function\n",
    "names = Helpers.create_reinforcing_bar_attributes(db, [0.02, 0.025])\n",
    "\n",
    "stiffness_mod_bars_150 = db.createSectionPropertyModifier(\"Bars at 150mm\")\n",
    "stiffness_mod_bars_150.setMassFactor(\"A\", 1/0.15)\n",
    "stiffness_mod_bars_150.setStiffnessFactor(\"A\", 1/0.15)\n",
    "stiffness_mod_bars_150.setStiffnessFactor(\"Izz\", 1/0.15)\n",
    "stiffness_mod_bars_150.setStiffnessFactor(\"Asy\", 1/0.15)\n",
    "\n",
    "# Assign the geometry to the 20mm bars\n",
    "attr = db.getAttribute(\"Geometric\", names[0])\n",
    "attr.assignTo([l.LusasLine for l in bars20])\n",
    "\n",
    "# Assign the geometry to the 25mm bars\n",
    "attr = db.getAttribute(\"Geometric\", names[1])\n",
    "attr.assignTo([l.LusasLine for l in bars25])\n",
    "\n",
    "# All bars are spaced at 150 so increase the bar stiffnesses to reflect their properties per unit width\n",
    "stiffness_mod_bars_150.assignTo([l.LusasLine for l in bars20])\n",
    "stiffness_mod_bars_150.assignTo([l.LusasLine for l in bars25])\n",
    "\n",
    "# Elastic material for the bars\n",
    "rebar_material_attr = db.createIsotropicMaterial(\"Reinforcing Steel\", 200.0E6, 0.3, 7.85)\n",
    "rebar_material_attr.assignTo([l.LusasLine for l in bars20])\n",
    "rebar_material_attr.assignTo([l.LusasLine for l in bars25])\n"
   ]
  },
  {
   "cell_type": "code",
   "execution_count": 14,
   "metadata": {},
   "outputs": [
    {
     "ename": "TypeError",
     "evalue": "IFMaterialIsotropic.addPlasticConcrete109() takes from 1 to 25 positional arguments but 26 were given",
     "output_type": "error",
     "traceback": [
      "\u001b[1;31m---------------------------------------------------------------------------\u001b[0m",
      "\u001b[1;31mTypeError\u001b[0m                                 Traceback (most recent call last)",
      "Cell \u001b[1;32mIn[14], line 2\u001b[0m\n\u001b[0;32m      1\u001b[0m non_linear_concrete \u001b[38;5;241m=\u001b[39m db\u001b[38;5;241m.\u001b[39mcreateIsotropicMaterial(\u001b[38;5;124m\"\u001b[39m\u001b[38;5;124mNonlinear Concrete\u001b[39m\u001b[38;5;124m\"\u001b[39m, \u001b[38;5;124m\"\u001b[39m\u001b[38;5;124m36.75E6\u001b[39m\u001b[38;5;124m\"\u001b[39m, \u001b[38;5;124m\"\u001b[39m\u001b[38;5;124m0.2\u001b[39m\u001b[38;5;124m\"\u001b[39m, \u001b[38;5;124m\"\u001b[39m\u001b[38;5;124m2.5484\u001b[39m\u001b[38;5;124m\"\u001b[39m)\n\u001b[1;32m----> 2\u001b[0m \u001b[43mnon_linear_concrete\u001b[49m\u001b[38;5;241;43m.\u001b[39;49m\u001b[43maddPlasticConcrete109\u001b[49m\u001b[43m(\u001b[49m\u001b[38;5;124;43m\"\u001b[39;49m\u001b[38;5;124;43m48.0E3\u001b[39;49m\u001b[38;5;124;43m\"\u001b[39;49m\u001b[43m,\u001b[49m\u001b[43m \u001b[49m\u001b[38;5;124;43m\"\u001b[39;49m\u001b[38;5;124;43m3.5E3\u001b[39;49m\u001b[38;5;124;43m\"\u001b[39;49m\u001b[43m,\u001b[49m\u001b[43m \u001b[49m\u001b[38;5;124;43m\"\u001b[39;49m\u001b[38;5;124;43m2.2E-3\u001b[39;49m\u001b[38;5;124;43m\"\u001b[39;49m\u001b[43m,\u001b[49m\u001b[43m \u001b[49m\u001b[38;5;241;43m0.0\u001b[39;49m\u001b[43m,\u001b[49m\u001b[43m \u001b[49m\u001b[38;5;124;43m\"\u001b[39;49m\u001b[38;5;124;43m0.13\u001b[39;49m\u001b[38;5;124;43m\"\u001b[39;49m\u001b[43m,\u001b[49m\u001b[43m \u001b[49m\n\u001b[0;32m      3\u001b[0m \u001b[43m                                          \u001b[49m\u001b[38;5;241;43m1.15\u001b[39;49m\u001b[43m,\u001b[49m\u001b[43m \u001b[49m\u001b[38;5;241;43m0.6\u001b[39;49m\u001b[43m,\u001b[49m\u001b[43m \u001b[49m\u001b[38;5;241;43m-\u001b[39;49m\u001b[38;5;241;43m0.1\u001b[39;49m\u001b[43m,\u001b[49m\u001b[43m \u001b[49m\u001b[38;5;241;43m0.425\u001b[39;49m\u001b[43m,\u001b[49m\u001b[43m \u001b[49m\u001b[38;5;241;43m0.5\u001b[39;49m\u001b[43m,\u001b[49m\u001b[43m \u001b[49m\u001b[38;5;241;43m5.0\u001b[39;49m\u001b[43m,\u001b[49m\u001b[43m \u001b[49m\u001b[38;5;241;43m1.25\u001b[39;49m\u001b[43m,\u001b[49m\u001b[43m \u001b[49m\u001b[38;5;241;43m0.8\u001b[39;49m\u001b[43m,\u001b[49m\u001b[43m \u001b[49m\n\u001b[0;32m      4\u001b[0m \u001b[43m                                          \u001b[49m\u001b[38;5;241;43m0.05\u001b[39;49m\u001b[43m,\u001b[49m\u001b[43m \u001b[49m\u001b[38;5;241;43m0.06\u001b[39;49m\u001b[43m,\u001b[49m\u001b[43m \u001b[49m\u001b[38;5;241;43m0.03\u001b[39;49m\u001b[43m,\u001b[49m\u001b[43m \u001b[49m\u001b[38;5;241;43m0.6\u001b[39;49m\u001b[43m,\u001b[49m\u001b[43m \u001b[49m\u001b[38;5;241;43m0.75\u001b[39;49m\u001b[43m,\u001b[49m\u001b[43m \u001b[49m\u001b[38;5;241;43m8.0\u001b[39;49m\u001b[43m,\u001b[49m\u001b[43m \u001b[49m\u001b[38;5;241;43m8.0\u001b[39;49m\u001b[43m,\u001b[49m\u001b[43m \u001b[49m\u001b[38;5;241;43m3.0\u001b[39;49m\u001b[43m,\u001b[49m\u001b[43m \u001b[49m\u001b[38;5;241;43m2\u001b[39;49m\u001b[43m,\u001b[49m\u001b[43m \u001b[49m\u001b[38;5;241;43m2\u001b[39;49m\u001b[43m,\u001b[49m\u001b[43m \u001b[49m\u001b[38;5;241;43m0.0\u001b[39;49m\u001b[43m,\u001b[49m\u001b[43m \u001b[49m\u001b[38;5;124;43m\"\u001b[39;49m\u001b[38;5;124;43mfracture\u001b[39;49m\u001b[38;5;124;43m\"\u001b[39;49m\u001b[43m)\u001b[49m\n\u001b[0;32m      6\u001b[0m non_linear_concrete\u001b[38;5;241m.\u001b[39massignTo(surface)\n",
      "\u001b[1;31mTypeError\u001b[0m: IFMaterialIsotropic.addPlasticConcrete109() takes from 1 to 25 positional arguments but 26 were given"
     ]
    }
   ],
   "source": [
    "non_linear_concrete = db.createIsotropicMaterial(\"Nonlinear Concrete\", \"36.75E6\", \"0.2\", \"2.5484\")\n",
    "non_linear_concrete.addPlasticConcrete109(\"48.0E3\", \"3.5E3\", \"2.2E-3\", 0.0, \"0.13\", \n",
    "                                          1.15, 0.6, -0.1, 0.425, 0.5, 5.0, 1.25, 0.8, \n",
    "                                          0.05, 0.06, 0.03, 0.6, 0.75, 8.0, 8.0, 3.0, 2, 2, 0.0, \"fracture\")\n",
    "\n",
    "non_linear_concrete.assignTo(surface)\n",
    "\n",
    "                                \n"
   ]
  },
  {
   "cell_type": "code",
   "execution_count": 301,
   "metadata": {},
   "outputs": [],
   "source": [
    "# Show fleshed bars\n",
    "lusas.view().attributes().visualiseAll(\"Geometric\")"
   ]
  },
  {
   "cell_type": "markdown",
   "metadata": {},
   "source": [
    "# Loading"
   ]
  },
  {
   "cell_type": "code",
   "execution_count": null,
   "metadata": {},
   "outputs": [],
   "source": [
    "# For a nonlinear analysis we'll assign all the permenent load to the first loadcase and increase the variable load in the second ;loadcase until the structure fails\n",
    "loadcase_dl = win32.CastTo(db.getLoadset(1), \"IFLoadcase\")\n",
    "loadcase_dl.setName(\"Dead Load\")\n",
    "loadcase_dl.addGravity(True)\n",
    "\n",
    "nl_control = loadcase_dl.setTransientControl(0).getTransientControl()\n",
    "# nl_control.setValue(\"CouplingReadInterval\", 1.0).setValue(\"CouplingWriteInterval\", 1.0)\n",
    "nl_control.setNonlinearManual()\n",
    "# nl_control.setConstants().setValue(\"nit\", 12).setValue(\"nalps\", 2).setValue(\"toline\", 0.75).setValue(\"rmaxal\", 100.0E6)\n",
    "# nl_control.setValue(\"rnoral\", 100.0E6).setValue(\"dlnorm\", 0.1).setValue(\"rlnorm\", 0.1).setValue(\"wlnorm\", 100.0E6)\n",
    "# nl_control.setValue(\"dtnrml\", 0.0).setValue(\"ampmx\", 5.0).setValue(\"etmxa\", 25.0).setValue(\"etmna\", 0.0)\n",
    "# nl_control.setValue(\"alpha\", 0.0).setValue(\"beta\", 1.0).setValue(\"gamma\", 0.5).setValue(\"isilcp\", False)\n",
    "# nl_control.setValue(\"pnrm\", 0.1).setValue(\"ptnrm\", 0.0).setValue(\"tnorm\", 0.0).setValue(\"pnorm\", 0.0)\n",
    "# nl_control.setValue(\"GroundwaterSolutionType\", \"Auto\").setValue(\"PermeabilityType\", \"Auto\")\n",
    "# nl_control.setValue(\"iterStrategyType\", \"Auto\").setValue(\"iterDataType\", \"auto\")\n",
    "nl_control.setOutput()#.setValue(\"IncrementIntervalForLusas\", 1).setValue(\"IncrementIntervalForPlotFile\", 1).setValue(\"IncrementIntervalForRestart\", 0)\n",
    "# nl_control.setValue(\"MaxRestartDumpsSaved\", 0).setValue(\"IncrementIntervalForTimeStepLog\", 1).setValue(\"IncrementIntervalForHistory\", 1)\n",
    "\n"
   ]
  },
  {
   "cell_type": "code",
   "execution_count": null,
   "metadata": {},
   "outputs": [],
   "source": [
    "loadcase_ll = db.createLoadcase(\"Live Load\", \"Analysis 1\", 0, False)\n",
    "\n",
    "nl_control = loadcase_ll.setTransientControl(0).getTransientControl()\n",
    "\n",
    "# nl_control.setValue(\"CouplingReadInterval\", 1.0).setValue(\"CouplingWriteInterval\", 1.0)\n",
    "nl_control.setNonlinearAutomatic(0.1)\n",
    "nl_control.setValue(\"Iterations\", 4)\n",
    "nl_control.setValue(\"MaxChangeInLoadFactor\", 0.0)\n",
    "nl_control.setValue(\"MaxLoadFactor\", 1.0)\n",
    "nl_control.setValue(\"IncrementMethod\", \"Constant load level\")\n",
    "# nl_control.setValue(\"StiffnessParameter\", 0.0).setValue(\"TerminateOnLimit\", false)\n",
    "# nl_control.setValue(\"minChangeIncLoad\", 1.0E-15).setValue(\"AllowStepReduction\", true)\n",
    "# nl_control.setValue(\"ReductionFactor\", 0.5).setValue(\"OriginalLoadIncreaseFactor\", 2.0).setValue(\"MaxStepReduction\", 5)\n",
    "# nl_control.setValue(\"arcLenPathDir\", \"By number of negative pivots\").setValue(\"arcLengthUse\", \"off\")\n",
    "\n",
    "\n",
    "llassignment = lusas.assignment().setAllDefaults().setLoadset(loadcase_ll)\n",
    "\n",
    "global_dist = db.createLoadingGlobalDistributed(\"GlbD1\")\n",
    "global_dist.setGlobalDistributed(\"Length\", 0.0, \"-100.0\", 0.0, 0.0, 0.0, 0.0, 0.0, 0.0, False, 0.0)\n",
    "global_dist.assignTo(lines[12].LusasLine, llassignment)"
   ]
  },
  {
   "cell_type": "markdown",
   "metadata": {},
   "source": [
    "# Solve"
   ]
  },
  {
   "cell_type": "code",
   "execution_count": null,
   "metadata": {},
   "outputs": [],
   "source": [
    "db.getAnalysis(\"Analysis 1\").solve(True)\n",
    "db.openAllResults()"
   ]
  },
  {
   "cell_type": "code",
   "execution_count": null,
   "metadata": {},
   "outputs": [],
   "source": [
    "lusas.view().insertContoursLayer()\n",
    "lusas.view().contours().setResultsTransformNone()\n",
    "lusas.view().contours().setResults(\"Concrete results - Plane Strain\", \"CWMax\")\n",
    "lusas.view().contours().setDisplayType(\"ElementNodal\")"
   ]
  }
 ],
 "metadata": {
  "kernelspec": {
   "display_name": "Python 3",
   "language": "python",
   "name": "python3"
  },
  "language_info": {
   "codemirror_mode": {
    "name": "ipython",
    "version": 3
   },
   "file_extension": ".py",
   "mimetype": "text/x-python",
   "name": "python",
   "nbconvert_exporter": "python",
   "pygments_lexer": "ipython3",
   "version": "3.12.3"
  }
 },
 "nbformat": 4,
 "nbformat_minor": 2
}
