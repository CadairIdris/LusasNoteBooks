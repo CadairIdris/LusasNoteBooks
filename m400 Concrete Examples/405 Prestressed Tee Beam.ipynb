{
 "cells": [
  {
   "cell_type": "markdown",
   "metadata": {},
   "source": [
    "# #405 Prestressed Tee beam\n",
    "<i>Multispan tee beam from example #60 extended to demonstrate addition of prestressing tendons. 2 Approaches to prestressing are shown</i>\n",
    "***"
   ]
  },
  {
   "cell_type": "code",
   "execution_count": null,
   "metadata": {},
   "outputs": [],
   "source": [
    "import math"
   ]
  },
  {
   "cell_type": "code",
   "execution_count": null,
   "metadata": {},
   "outputs": [],
   "source": [
    "# Input Params\n",
    "span_lengths = [8, 15, 8] #m\n",
    "tee_section_width = 1.4\n",
    "tee_section_depth = 1.0\n",
    "tee_section_thk_flange = 0.2\n",
    "tee_section_thk_web = 0.3\n",
    "\n",
    "loading = 50\n",
    "\n",
    "# Tendon profile variables\n",
    "minz = -tee_section_depth*0.6\n",
    "maxz =  tee_section_depth*0.2\n",
    "\n",
    "Ec_shrt = 35e6\n",
    "phi = 2\n",
    "\n",
    "approx_stress_at_transfer = 5e3 #kpa\n",
    "approx_change_in_stress_after_transfer = -1.5e3 #kpa\n",
    "\n",
    "# Tendon details\n",
    "strand_diameter = 12 # mm\n",
    "no_strands      = 19\n",
    "tendon_area     = no_strands * math.pi * strand_diameter**2 * 0.25\n",
    "\n",
    "# Tendon is defined by an equivalent diameter specified in mm\n",
    "equiv_diameter  = math.sqrt(4*tendon_area/math.pi)\n",
    "# And the tendon yield stress is specified in MPa\n",
    "tendon_yield_stress = 1800 # \n",
    "\n",
    "# Dictionary of tendon properties used to create attribute\n",
    "tendon_properties_dictionary = {\"elasticShort\":0, \"shortAvg\":-1.0, \"diameter\":equiv_diameter, \"modulus\":195.0E6, \"wobbleFactor\":0.01,\n",
    "                                 \"friction\":0.19, \"lossType\":0, \"tensileS\":tendon_yield_stress, \"relaxClass\":2, \"loss\":2.5}\n",
    "\n",
    "# Force applied\n",
    "tendon_force = 0.7 * tendon_yield_stress*1e3 * tendon_area*1e-6 # kN\n",
    "\n",
    "time_at_end_of_service = 365*100 # 100 years"
   ]
  },
  {
   "cell_type": "markdown",
   "metadata": {},
   "source": [
    "#### Connect to LUSAS and create a new model database"
   ]
  },
  {
   "cell_type": "code",
   "execution_count": null,
   "metadata": {},
   "outputs": [],
   "source": [
    "import sys; sys.path.append('../') # Reference modules in parent directory\n",
    "from LPI import *\n",
    "lusas = get_lusas_modeller()\n",
    "\n",
    "from m100_Tools_And_Helpers import Helpers\n",
    "Helpers.initialise(lusas)\n",
    "\n",
    "if lusas.existsDatabase():\n",
    "    raise Exception(\"This script will create a new model. Please save and close the current model and try again\")\n",
    "\n",
    "# Create a new model\n",
    "lusas.newProject(\"Structural\", \"Prestress Tee Beam.mdl\")\n",
    "# Get the database\n",
    "db = lusas.getDatabase()\n",
    "# Set the analysis category & vertical axis\n",
    "db.setAnalysisCategory(\"3D\")\n",
    "db.setVerticalDir(\"Z\")\n",
    "# Set the unit system\n",
    "db.setModelUnits(\"kN,m,t,s,C\")\n",
    "db.setTimescaleUnits(\"Days\") # specify age of concrete in days"
   ]
  },
  {
   "cell_type": "markdown",
   "metadata": {},
   "source": [
    "# Create model attributes"
   ]
  },
  {
   "cell_type": "code",
   "execution_count": null,
   "metadata": {},
   "outputs": [],
   "source": [
    "''' Create a mesh attribute'''\n",
    "# Beam mesh with BMI21 (2 Noded Linear) Elements at 1m lengths\n",
    "mesh_attr = db.createMeshLine(\"Beam Mesh\").setSize(\"BMI21\", 1)"
   ]
  },
  {
   "cell_type": "code",
   "execution_count": null,
   "metadata": {},
   "outputs": [],
   "source": [
    "''' Create a geometric attribute'''\n",
    "# Create a parametric section utility\n",
    "util = db.createParametricSection('Tee Section Utility')\n",
    "util.setType(\"T\")\n",
    "util.setDimensions(['B', 'D', 'tf', 'tw', 'r'], [tee_section_width, tee_section_depth, tee_section_thk_flange, tee_section_thk_web, 0.0])\n",
    "\n",
    "# Now create the attribute which is based on the utility. The attribute provides additional transformations such as eccentricity and tapering\n",
    "geom_section_attr = db.createGeometricLine('Tee Section')\n",
    "geom_section_attr.setFromLibrary(\"Utilities\", \"\", util.getName(), 0, 0, 0)"
   ]
  },
  {
   "cell_type": "code",
   "execution_count": null,
   "metadata": {},
   "outputs": [],
   "source": [
    "def add_rebar(attr:IFReinforcementSection, row:int, faceIndex:int, layerIndex:int, barsCount:int, start:int, end:int, gap:float, dia:float):\n",
    "    attr.setReinforcementValue(\"rebar\", row, \"faceIndex\", faceIndex)\n",
    "    attr.setReinforcementValue(\"rebar\", row, \"layerIndex\", layerIndex)\n",
    "    attr.setReinforcementValue(\"rebar\", row, \"barsCount\", barsCount)\n",
    "    attr.setReinforcementValue(\"rebar\", row, \"start\", start)\n",
    "    attr.setReinforcementValue(\"rebar\", row, \"end\", end)\n",
    "    attr.setReinforcementValue(\"rebar\", row, \"gap\", gap)\n",
    "    attr.setReinforcementValue(\"rebar\", row, \"barsDiameter\", dia)\n",
    "    attr.setReinforcementValue(\"rebar\", row, \"altBarsDiameter\", -1.0)\n",
    "    attr.setReinforcementValue(\"rebar\", row, \"endBarsDiameter\", -1.0)\n",
    "    attr.setReinforcementValue(\"rebar\", row, \"materialRef\", \"R1\")"
   ]
  },
  {
   "cell_type": "code",
   "execution_count": null,
   "metadata": {},
   "outputs": [],
   "source": [
    "''' Create a Reinforcement attribute'''\n",
    "attr = db.createReinforcementSection(\"RnfSct1\")\n",
    "attr.setGeometricAttribute(geom_section_attr)\n",
    "#attr.setValue(\"calculateCrackWidths\", True)\n",
    "attr.setReinforcementValue(\"face\", 0, \"faceIndex\", \"All\")\n",
    "attr.setReinforcementValue(\"face\", 0, \"actualCover\", 0.03)\n",
    "attr.setReinforcementValue(\"face\", 0, \"linkAllowance\", 0.0)\n",
    "attr.setReinforcementValue(\"face\", 0, \"allowableCrackWidth\", 0.0)\n",
    "attr.setReinforcementValue(\"face\", 0, \"nominalCover\", -1.0)\n",
    "\n",
    "add_rebar(attr, row=0, faceIndex=1, layerIndex=1, barsCount=3, start=-1, end=-1, gap=0.0, dia=0.025)\n",
    "add_rebar(attr, row=1, faceIndex=1, layerIndex=2, barsCount=2, start=-1, end=-1, gap=0.025, dia=0.025)\n",
    "add_rebar(attr, row=2, faceIndex=5, layerIndex=1, barsCount=10, start=-1, end=-1, gap=0.0, dia=0.025)\n",
    "\n",
    "\n",
    "rebar_line_attr = db.createReinforcementLine(\"RnfLn2\")\n",
    "rebar_line_attr.setSegmentValue(\"Longitudinal\", 0, \"reinforcementSection\", \"RnfSct1\")\n",
    "rebar_line_attr.setSegmentValue(\"Longitudinal\", 0, \"stretch\", True)\n",
    "\n",
    "# Link the geometric attribute with the associated reinforcement\n",
    "geom_section_attr.setReinforcement(rebar_line_attr)\n"
   ]
  },
  {
   "cell_type": "markdown",
   "metadata": {},
   "source": [
    "# Materials"
   ]
  },
  {
   "cell_type": "markdown",
   "metadata": {},
   "source": [
    "In order to use the prestress loading the concrete material requires additional environmental properties used in the prestress calculation. These are specified in the \"Advanced Define\" option in the material library."
   ]
  },
  {
   "cell_type": "code",
   "execution_count": null,
   "metadata": {},
   "outputs": [],
   "source": [
    "concrete_values = {\"Material\":\"Concrete\", \"Region\":\"Europe\", \"Standard\":\"EN1992-1-1:2004/2014\", \"Grade\":\"fck = 35MPa Quartzite\",\n",
    "                   \"Advanced define\":1, \"RH\":70.0, \"K1\":1.0, \"IntFac\":0.5, \"Aggregate type\":0.0, \"Cement type\":1.0}\n",
    "\n",
    "concrete_material_attr = db.createIsotropicMaterial(\"Concrete\", Ec_shrt, 0.2, 2.54842, 10.0E-6)\n",
    "concrete_material_attr.setDefinitionMenuID(1, None, True)\n",
    "concrete_material_attr.setDescription(\"fck = 35MPa Quartzite | Concrete | EN1992-1-1:2004/2014\")\n",
    "\n",
    "for name, value in concrete_values.items():\n",
    "    concrete_material_attr.createValue(name)\n",
    "    concrete_material_attr.setValue(name, value)\n",
    "\n",
    "# Values that must be defined with dimensionality\n",
    "concrete_material_attr.createValue(\"fck\", 0, 1, -2, 0, 0, 0, 0)\n",
    "concrete_material_attr.setValue(\"fck\", 35.0E3)"
   ]
  },
  {
   "cell_type": "code",
   "execution_count": null,
   "metadata": {},
   "outputs": [],
   "source": [
    "rebar_values = {\"Material\":\"Steel - Reinforcing bar\", \"Region\":\"Europe\", \"Standard\":\"EN1992-1-1:2004/2014\", \"Grade\":\"500B\", \"epu\":0.05}\n",
    "\n",
    "rebar_material_attr = db.createIsotropicMaterial(\"Rebar\", 200.0E6, 0.3, 7.85, 12.0E-6)\n",
    "rebar_material_attr.setDefinitionMenuID(1, None, True)\n",
    "rebar_material_attr.setDescription(\"500B | Steel - Reinforcing bar | EN1992-1-1:2004/2014\")\n",
    "\n",
    "for name, value in rebar_values.items():\n",
    "    rebar_material_attr.createValue(name)\n",
    "    rebar_material_attr.setValue(name, value)\n",
    "\n",
    "# Values that must be defined with dimensionality\n",
    "rebar_material_attr.createValue(\"fy\", 0, 1, -2, 0, 0, 0, 0)\n",
    "rebar_material_attr.setValue(\"fy\", 500.0e3)"
   ]
  },
  {
   "cell_type": "code",
   "execution_count": null,
   "metadata": {},
   "outputs": [],
   "source": [
    "material_attr = db.createCompoundMaterial(\"Mat3\").setReinforcedConcrete()\n",
    "material_attr.addMaterial(concrete_material_attr, \"S1\")\n",
    "material_attr.addMaterial(rebar_material_attr, \"R1\")\n",
    "material_attr.setActiveMaterial(0)\n",
    "\n",
    "material_attr.setDefinitionMenuID(214, None , True)\n",
    "material_attr.setDescription(\"RC Material - EN1992\")\n",
    "material_attr.createValue(\"Design code\")\n",
    "material_attr.setValue(\"Design code\", \"EN1992\")"
   ]
  },
  {
   "cell_type": "code",
   "execution_count": null,
   "metadata": {},
   "outputs": [],
   "source": [
    "# Support attributes\n",
    "fixedSupport = db.createSupportStructural(\"Fixed\").setStructural(\"R\", \"R\", \"R\", \"F\", \"F\", \"F\", \"F\", \"F\", \"F\")\n",
    "pinnedSupport = db.createSupportStructural(\"Pinned\").setStructural(\"F\", \"R\", \"R\", \"F\", \"F\", \"F\", \"F\", \"F\", \"F\")"
   ]
  },
  {
   "cell_type": "markdown",
   "metadata": {},
   "source": [
    "#### Create the model geometry"
   ]
  },
  {
   "cell_type": "code",
   "execution_count": null,
   "metadata": {},
   "outputs": [],
   "source": [
    "''' Create deck lines'''\n",
    "deck_lines:list[IFLine] = []\n",
    "\n",
    "cur_x = 0\n",
    "for length in span_lengths:\n",
    "    deck_lines.append(Helpers.create_line([cur_x, 0, 0], [cur_x + length, 0, 0]))\n",
    "    # Increment the current x position\n",
    "    cur_x += length\n"
   ]
  },
  {
   "cell_type": "markdown",
   "metadata": {},
   "source": [
    "#### Assign attributes to the model geometry"
   ]
  },
  {
   "cell_type": "code",
   "execution_count": null,
   "metadata": {},
   "outputs": [],
   "source": [
    "''' Assign the attributes to the deck_lines '''\n",
    "# get the assignment object\n",
    "assignment = lusas.assignment().setAllDefaults()\n",
    "# Assign the mesh\n",
    "mesh_attr.assignTo(deck_lines, assignment)\n",
    "# Assign the geometry\n",
    "geom_section_attr.assignTo(deck_lines, assignment)\n",
    "# Assign the material\n",
    "material_attr.assignTo(deck_lines, assignment)\n",
    "\n",
    "''' Assign the supports to the points of the line '''\n",
    "# Assign the fixed support to the first point\n",
    "fixedSupport.assignTo(deck_lines[0].getStartPoint(), assignment)\n",
    "# Assign the pinned support to the remaining points\n",
    "pinnedSupport.assignTo([p.getEndPoint() for p in deck_lines], assignment)"
   ]
  },
  {
   "cell_type": "code",
   "execution_count": null,
   "metadata": {},
   "outputs": [],
   "source": [
    "db.updateMesh()"
   ]
  },
  {
   "cell_type": "markdown",
   "metadata": {},
   "source": [
    "# Loading"
   ]
  },
  {
   "cell_type": "markdown",
   "metadata": {},
   "source": [
    "#### Create load cases and load attributes and assign the attributes to the model geometry"
   ]
  },
  {
   "cell_type": "code",
   "execution_count": null,
   "metadata": {},
   "outputs": [],
   "source": [
    "db.getAnalysis(\"Analysis 1\").setName(\"00 Base Analysis\")"
   ]
  },
  {
   "cell_type": "code",
   "execution_count": null,
   "metadata": {},
   "outputs": [],
   "source": [
    "# Get the automatically created loadcase in analysis 1 and add automatic gravity to it\n",
    "# NOTE: getLoadset and setName function returns a reference to the IFLoadset baseclass and must be cast to IFLoadcase to access the addGravity function\n",
    "gravity_loadcase = win32.CastTo(db.getLoadset(\"Loadcase 1\", 0).setName(\"Gravity\"), \"IFLoadcase\")\n",
    "gravity_loadcase.addGravity(True)"
   ]
  },
  {
   "cell_type": "code",
   "execution_count": null,
   "metadata": {},
   "outputs": [],
   "source": [
    "''' Create a beam load attribute '''\n",
    "loadAttr = db.createLoadingBeamDistributed(\"UDL\")\n",
    "loadAttr.setBeamDistributed(\"Parametric\", \"Global\", \"beam\")\n",
    "loadAttr.addRow(0.0, 0.0, 0.0, -loading, 0.0, 0.0, 0.0, 1.0, 0.0, 0.0, -loading, 0.0, 0.0, 0.0)\n",
    "# Assign the loading\n",
    "loadAttr.assignTo(deck_lines, assignment)\n",
    "\n",
    "# Create a loadcase for the Parapet loads to be applied to the entire deck surface\n",
    "live_load_loadcases = []\n",
    "for i in range(len(deck_lines)):\n",
    "    live_load_loadcases.append(db.createLoadcase(f\"Live Load {i+1}\"))\n",
    "\n",
    "# Assign live loads to each span\n",
    "for i, loadcase in enumerate(live_load_loadcases):\n",
    "    assign = lusas.assignment().setAllDefaults().setLoadset(loadcase)\n",
    "    loadAttr.assignTo(deck_lines[i], assign)"
   ]
  },
  {
   "cell_type": "markdown",
   "metadata": {},
   "source": [
    "# Prestressing"
   ]
  },
  {
   "cell_type": "code",
   "execution_count": null,
   "metadata": {},
   "outputs": [],
   "source": [
    "# Create tendon profile. Utilities > Prestress > Tendon Profile\n",
    "tendon_profile :IFTendonProfile = db.createTendonProfile(\"Tendon Profile\")\n",
    "tendon_profile.setLocal(True)\n",
    "\n",
    "tendon_definition = tendon_profile.getDefn()\n",
    "tendon_definition.deleteAllLines()\n",
    "\n",
    "ZERO = 0.0\n",
    "x = 0.0 # Current position of span start\n",
    "# Set the tendon as a series of straight segments for simplicity. The lines must be continuous, so check the return values for errors\n",
    "for i, length in enumerate(span_lengths):\n",
    "    if i == 0:\n",
    "        # First Span\n",
    "        err1 = tendon_definition.addStraightV(x,              ZERO, ZERO, x + 0.4*length, ZERO, minz)\n",
    "        err2 = tendon_definition.addStraightV(x + 0.4*length, ZERO, minz, x + length,     ZERO, maxz)\n",
    "    elif i == len(span_lengths)-1:\n",
    "        # Last span\n",
    "        err1 = tendon_definition.addStraightV(x,              ZERO, maxz, x + 0.6*length, ZERO, minz)\n",
    "        err2 = tendon_definition.addStraightV(x + 0.6*length, ZERO, minz, x + length,     ZERO, ZERO)\n",
    "    else:\n",
    "        # intermediate spans\n",
    "        err1 = tendon_definition.addStraightV(x,              ZERO, maxz, x + 0.5*length, ZERO, minz)\n",
    "        err2 = tendon_definition.addStraightV(x + 0.5*length, ZERO, minz, x + length,     ZERO, maxz)\n",
    "    assert err1 == 0, f\"Tendon definition failed span {i}, seg 1 - error {err1}\"\n",
    "    assert err2 == 0, f\"Tendon definition failed span {i}, seg 2 - error {err2}\"\n",
    "    x+=length\n",
    "\n",
    "print(\"Tendon Length = \", tendon_definition.getLength())\n"
   ]
  },
  {
   "cell_type": "markdown",
   "metadata": {},
   "source": [
    "### Tendon Properties"
   ]
  },
  {
   "cell_type": "markdown",
   "metadata": {},
   "source": [
    "There are two types of loss calculation for tendons in LUSAS. The first case carries out iterative analyses to calculate losses based analysed concrete stresses. The second is an approximate approach in which the stresses are assumed. Both cases will be considered and compared."
   ]
  },
  {
   "cell_type": "code",
   "execution_count": null,
   "metadata": {},
   "outputs": [],
   "source": [
    "# The approximate approaches requires additional specification of material properties and expected stresses\n",
    "area = geom_section_attr.getValue(\"A\")\n",
    "Iyy = geom_section_attr.getValue(\"Iyy\")\n",
    "tendon_properties_dictionary_approx = dict(tendon_properties_dictionary, \n",
    "                                      **{\"timeAfterT\":time_at_end_of_service, \"transfer\":approx_stress_at_transfer, \"creepE\":phi, \"conshr\":Ec_shrt, \"conlng\":Ec_shrt, \n",
    "                                         \"shkstn\":0.4, \"changeS\":approx_change_in_stress_after_transfer,\"conara\":area, \"conita\":Iyy})"
   ]
  },
  {
   "cell_type": "code",
   "execution_count": null,
   "metadata": {},
   "outputs": [],
   "source": [
    "# Create tendon properties. Utilities > Prestress > Tendon Properties\n",
    "\n",
    "# First with the approximate settings\n",
    "tendon_properties_approx_attr = db.createTendonProperties(\"Tendon Properties - Instantaneous - Approximate\")\n",
    "tendon_properties_approx_attr.setDesignCode(\"EN1992-1-1:2004 / 2014 Eurocode 2\", False)\n",
    "for name, value in tendon_properties_dictionary_approx.items():\n",
    "    tendon_properties_approx_attr.setValue(name, value)\n",
    "\n",
    "# Then with the analytical approach\n",
    "tendon_properties_attr = db.createTendonProperties(\"Tendon Properties - Instantaneous - Analytical\")\n",
    "tendon_properties_attr.setDesignCode(\"EN1992-1-1:2004 / 2014 Eurocode 2\", True)\n",
    "for name, value in tendon_properties_dictionary.items():\n",
    "    tendon_properties_attr.setValue(name, value)"
   ]
  },
  {
   "cell_type": "code",
   "execution_count": null,
   "metadata": {},
   "outputs": [],
   "source": [
    "# Add long term losses\n",
    "tendon_properties_dictionary['lossType'] = 1\n",
    "\n",
    "# First with the approximate settings\n",
    "tendon_properties_long_term_approx_attr = db.createTendonProperties(\"Tendon Properties - Long Term - Approximate\")\n",
    "tendon_properties_long_term_approx_attr.setDesignCode(\"EN1992-1-1:2004 / 2014 Eurocode 2\", False)\n",
    "for name, value in tendon_properties_dictionary_approx.items():\n",
    "    tendon_properties_long_term_approx_attr.setValue(name, value)\n",
    "\n",
    "# Then with the analytical approach\n",
    "tendon_properties_long_term_attr = db.createTendonProperties(\"Tendon Properties - Long Term - Analytical\")\n",
    "tendon_properties_long_term_attr.setDesignCode(\"EN1992-1-1:2004 / 2014 Eurocode 2\", True)\n",
    "for name, value in tendon_properties_dictionary.items():\n",
    "    tendon_properties_long_term_attr.setValue(name, value)"
   ]
  },
  {
   "cell_type": "code",
   "execution_count": null,
   "metadata": {},
   "outputs": [],
   "source": [
    "age_attr = db.createAge(\"Age - 7 days\")\n",
    "age_attr.setAgeType(\"specified\")\n",
    "age_attr.setAgeAtActivation(7)\n",
    "age_attr.setAgeAtShrinkage(3)\n",
    "age_attr.assignTo(deck_lines)"
   ]
  },
  {
   "cell_type": "code",
   "execution_count": null,
   "metadata": {},
   "outputs": [],
   "source": [
    "tendon_load_approx_attr = db.createLoadingTendon(f\"Tendon Load {tendon_force:.1f}kN - Approx\")\n",
    "tendon_load_approx_attr.setForce(tendon_force)\n",
    "tendon_load_approx_attr.setJackingEnd(1, 0.0, 5.0E-3)\n",
    "tendon_load_approx_attr.unsetJackingEnd(2)\n",
    "tendon_load_approx_attr.setProfile(tendon_profile)\n",
    "tendon_load_approx_attr.setProperty(tendon_properties_approx_attr)\n",
    "\n",
    "tendon_load_attr = db.createLoadingTendon(f\"Tendon Load {tendon_force:.1f}kN - Analytical\")\n",
    "tendon_load_attr.setForce(tendon_force)\n",
    "tendon_load_attr.setJackingEnd(1, 0.0, 5.0E-3)\n",
    "tendon_load_attr.unsetJackingEnd(2)\n",
    "tendon_load_attr.setProfile(tendon_profile)\n",
    "tendon_load_attr.setProperty(tendon_properties_attr)"
   ]
  },
  {
   "cell_type": "code",
   "execution_count": null,
   "metadata": {},
   "outputs": [],
   "source": [
    "tendon_load_long_term_approx_attr = db.createLoadingTendon(f\"Tendon Load {tendon_force:.1f}kN - Long Term - Approx\")\n",
    "tendon_load_long_term_approx_attr.setForce(tendon_force)\n",
    "tendon_load_long_term_approx_attr.setJackingEnd(1, 0.0, 5.0E-3)\n",
    "tendon_load_long_term_approx_attr.unsetJackingEnd(2)\n",
    "tendon_load_long_term_approx_attr.setProfile(tendon_profile)\n",
    "tendon_load_long_term_approx_attr.setProperty(tendon_properties_long_term_approx_attr)\n",
    "\n",
    "tendon_load_long_term_attr = db.createLoadingTendon(f\"Tendon Load {tendon_force:.1f}kN - Long Term - Analytical\")\n",
    "tendon_load_long_term_attr.setForce(tendon_force)\n",
    "tendon_load_long_term_attr.setJackingEnd(1, 0.0, 5.0E-3)\n",
    "tendon_load_long_term_attr.unsetJackingEnd(2)\n",
    "tendon_load_long_term_attr.setProfile(tendon_profile)\n",
    "tendon_load_long_term_attr.setProperty(tendon_properties_long_term_attr)"
   ]
  },
  {
   "cell_type": "markdown",
   "metadata": {},
   "source": [
    "Create a separate analysis for each approach"
   ]
  },
  {
   "cell_type": "code",
   "execution_count": null,
   "metadata": {},
   "outputs": [],
   "source": [
    "prestress_analyses:list[IFAnalysisBaseClass] = []\n",
    "prestress_loadcases:list[IFLoadcase] = []\n",
    "\n",
    "for i, analysis in enumerate([\"Approx\", \"Analytical\"]):\n",
    "    prestress_analysis = db.createAnalysisStructural(f\"0{i+1} Prestress - {analysis}\", False)\n",
    "    # Create primary, secondary and effects without prestress - ignore all otherse\n",
    "    prestress_analysis.setPrestressOptions(True, True, False, False, False, False, False, False, False, False, False, False, False, False, 1, 0.0)\n",
    "    prestress_analyses.append(prestress_analysis)\n",
    "    \n",
    "    # Add loadcase for prestress loading\n",
    "    for j, case in enumerate([\"Instantaneous\", \"Long term\"]):\n",
    "        prestress_loadcase = db.createLoadcase(f\"Prestress - {analysis} - {case}\", prestress_analysis.getName())\n",
    "        prestress_loadcase.addGravity(True) # Calculate the stresses in the concrete as a result of the prestress and gravity forces\n",
    "        prestress_loadcases.append(prestress_loadcase)\n",
    "\n",
    "        assign = lusas.assignment().setAllDefaults()\n",
    "        assign.setMultipleId(1)\n",
    "        assign.setLoadset(prestress_loadcase)\n",
    "        assign.setLoadFactor(1.0)\n",
    "        assign.setSearchAssignType(\"line\")\n",
    "        assign.setIncludedMoments(\"All\")\n",
    "        assign.setTendonProperties(False, 0.0)\n",
    "        if i == 0:\n",
    "            if j == 0:\n",
    "                tendon_load_approx_attr.assignTo(deck_lines, assignment)\n",
    "            else:\n",
    "                tendon_load_long_term_approx_attr.assignTo(deck_lines, assignment)\n",
    "        else:\n",
    "            if j == 0:\n",
    "                tendon_load_attr.assignTo(deck_lines, assignment)\n",
    "            else:\n",
    "                tendon_load_long_term_attr.assignTo(deck_lines, assignment)\n"
   ]
  },
  {
   "cell_type": "code",
   "execution_count": null,
   "metadata": {},
   "outputs": [],
   "source": [
    "# The time at which the losses are to be calculated must be set on the loadcase for the analytical approach\n",
    "prestress_loadcases[0].setLoadcaseAge(0.0)\n",
    "prestress_loadcases[1].setLoadcaseAge(time_at_end_of_service)\n",
    "prestress_loadcases[2].setLoadcaseAge(0.0)\n",
    "prestress_loadcases[3].setLoadcaseAge(time_at_end_of_service)"
   ]
  },
  {
   "cell_type": "markdown",
   "metadata": {},
   "source": [
    "#### Create design combinations"
   ]
  },
  {
   "cell_type": "code",
   "execution_count": null,
   "metadata": {},
   "outputs": [],
   "source": [
    "# Smart Combination for permanent effects\n",
    "combination_qp = db.createCombinationSmart(\"SLS QP\")\n",
    "combination_qp.addEntry(1.0, 0.0, prestress_loadcases[1].getID(), 2) # \"Total effects\" results of prestress loadcase (includes gravity)\n",
    "for loadcase in live_load_loadcases:\n",
    "    combination_qp.addEntry(0, 0.5, loadcase)"
   ]
  },
  {
   "cell_type": "code",
   "execution_count": null,
   "metadata": {},
   "outputs": [],
   "source": [
    "# Smart Combination for service effects\n",
    "combination_char = db.createCombinationSmart(\"SLS Char\")\n",
    "combination_char.addEntry(1.0, 0.0, prestress_loadcases[0].getID(), 2) # \"Total effects\" results of prestress loadcase (includes gravity)\n",
    "for loadcase in live_load_loadcases:\n",
    "    combination_char.addEntry(0, 1.0, loadcase)"
   ]
  },
  {
   "cell_type": "code",
   "execution_count": null,
   "metadata": {},
   "outputs": [],
   "source": [
    "# Smart Combination for Ultimate effects\n",
    "combination_uls = db.createCombinationSmart(\"ULS\")\n",
    "combination_uls.addEntry(1.0, 0.0, prestress_loadcases[0].getID(), 2) # \"Total effects\" results of prestress loadcase (includes gravity)\n",
    "for loadcase in live_load_loadcases:\n",
    "    combination_uls.addEntry(0, 1.5, loadcase)"
   ]
  },
  {
   "cell_type": "code",
   "execution_count": null,
   "metadata": {},
   "outputs": [],
   "source": [
    "report = db.createReport(\"Report Approximate\", \"\", \"kN,m,t,s,C\", 6, False)\n",
    "chapter = report.addPrestressChapter(\"Prestress\", -1)\n",
    "chapter.setAssignmentIndexes([1])\n",
    "\n",
    "report = db.createReport(\"Report Analytical\", \"\", \"kN,m,t,s,C\", 6, False)\n",
    "chapter = report.addPrestressChapter(\"Prestress\", -1)\n",
    "chapter.setAssignmentIndexes([2])\n"
   ]
  },
  {
   "cell_type": "markdown",
   "metadata": {},
   "source": [
    "<H2>Solving the Analysis</H2>"
   ]
  },
  {
   "cell_type": "code",
   "execution_count": null,
   "metadata": {},
   "outputs": [],
   "source": [
    "db.save()\n",
    "\n",
    "# for analysis in db.getAnalyses():\n",
    "#     analysis.solve(True)\n",
    "\n",
    "# db.openAllResults(True, True)"
   ]
  },
  {
   "cell_type": "code",
   "execution_count": null,
   "metadata": {},
   "outputs": [],
   "source": [
    "lusas.view().insertDiagramsLayer()\n",
    "lusas.view().diagrams().setResultsTransformNone()\n",
    "lusas.view().diagrams().setResults(\"Force/Moment - Thick 3D Beam\", \"My\")\n",
    "lusas.view().setFromAxis(\"+X+Z\")\n",
    "lusas.view().setScaledToFit(True)\n",
    "lusas.view().attributes().visualiseAllTransparent(\"Geometric\")\n"
   ]
  },
  {
   "cell_type": "markdown",
   "metadata": {},
   "source": [
    "### Plot graphs of prestress forces"
   ]
  },
  {
   "cell_type": "code",
   "execution_count": null,
   "metadata": {},
   "outputs": [],
   "source": [
    "# # Create a graph wizard to contain the graph settings\n",
    "# graphWizardObj = db.createGraphWizard(\"Prestress Force vs Distance along beam\")\n",
    "# graphWizardObj.setAutoUpdate(1)\n",
    "# graphWizardObj.setDisplayNow(1)\n",
    "# graphWizardObj.setTitle(\"Force vs Distance along beam\")\n",
    "# graphWizardObj.setAxesLabels(\"Distance (m)\", \"Force (kN)\")\n",
    "# # 2No. assignments\n",
    "# graphArray = graphWizardObj.createFromPrestress([1, 2])\n",
    "\n",
    "# # Generate the actual graphs for display\n",
    "# graphObj = lusas.newGraph()\n",
    "# graphObj.setSourceAttrName(\"Force vs Distance along beam\")\n",
    "# graphObj.setTitle(\"Force vs Distance along beam\")\n",
    "# graphObj.setAxesLabels(\"Distance (m)\", \"Force (kN)\")\n",
    "# graphObj.autoMinX()\n",
    "# graphObj.autoMaxX()\n",
    "# graphObj.autoMinY()\n",
    "# graphObj.autoMaxY()\n",
    "# graphObj.setLinearX()\n",
    "# graphObj.setLinearY()\n",
    "# graphObj.showGrid()\n",
    "# # 2No. assignments\n",
    "# graphArray = graphObj.createFromPrestress([1, 2])\n",
    "\n",
    "# if len(graphArray) == 4:\n",
    "\n",
    "#     curve = graphObj.addCurve(graphArray[0], graphArray[1], 1.0, 1.0)\n",
    "#     curve.showSymbols(\"DOT\")\n",
    "#     curve.setCurveColour(255, 0, 0)\n",
    "#     curve = graphObj.addCurve(graphArray[2], graphArray[3], 1.0, 1.0)\n",
    "#     curve.showSymbols(\"DOT\")\n",
    "#     curve.setCurveColour(0, 255, 0)\n",
    "\n"
   ]
  }
 ],
 "metadata": {
  "kernelspec": {
   "display_name": "Python 3",
   "language": "python",
   "name": "python3"
  },
  "language_info": {
   "codemirror_mode": {
    "name": "ipython",
    "version": 3
   },
   "file_extension": ".py",
   "mimetype": "text/x-python",
   "name": "python",
   "nbconvert_exporter": "python",
   "pygments_lexer": "ipython3",
   "version": "3.13.2"
  }
 },
 "nbformat": 4,
 "nbformat_minor": 2
}
