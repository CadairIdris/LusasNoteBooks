{
 "cells": [
  {
   "cell_type": "markdown",
   "metadata": {},
   "source": [
    "# Cable Bridge 3D"
   ]
  },
  {
   "cell_type": "code",
   "execution_count": 124,
   "metadata": {},
   "outputs": [],
   "source": [
    "''' Inputs '''\n",
    "tower_base = 6                   # Metres below the origin\n",
    "tower_height_to_first_stay = 10  # Metres above the origin\n",
    "cable_spacing_tower = 1          # Metre increments\n",
    "\n",
    "cable_spacing_forwards = [5,7.5,7.5,7.5,7.5,7.5,7.5,7.5]\n",
    "cable_spacing_backwards = [5,5,5,5,5,5,5,5]\n",
    "\n",
    "deck_width = 5.0\n",
    "deck_depth = 0.6\n",
    "\n",
    "tower_width_base = 2.0\n",
    "tower_depth_base = 2.6\n",
    "tower_width_top = 2.0\n",
    "tower_depth_top = 2.6\n",
    "tower_spacing = 7\n",
    "stay_dia = 0.15"
   ]
  },
  {
   "cell_type": "code",
   "execution_count": 125,
   "metadata": {},
   "outputs": [],
   "source": [
    "''' Data Checks'''\n",
    "assert len(cable_spacing_backwards) == len(cable_spacing_forwards)"
   ]
  },
  {
   "cell_type": "code",
   "execution_count": 126,
   "metadata": {},
   "outputs": [],
   "source": [
    "import numpy as np\n",
    "import math\n",
    "import win32com.client as win32\n",
    "lusas = win32.gencache.EnsureDispatch(\"Lusas.Modeller.22.0\") # Connect to LUSAS Modeller\n",
    "\n",
    "# If there is not currently a model open, create one\n",
    "if not lusas.existsDatabase():\n",
    "    lusas.newProject(\"Structural\", \"Cable Bridge 3D\")\n",
    "else:\n",
    "    import sys; sys.path.append('../') # Locate the helpers file\n",
    "    from m100_Tools_And_Helpers import Helpers\n",
    "    Helpers.initialise(lusas)\n",
    "    Helpers.reset_database_contents(lusas.database())\n",
    "\n",
    "db = lusas.database() # Reference to the model database for convenience\n",
    "\n",
    "# 3D model with Z vertical\n",
    "db.setAnalysisCategory(\"3D\")\n",
    "db.setVerticalDir(\"Z\")\n",
    "\n",
    "# Set the unit system\n",
    "db.setModelUnits(\"kN,m,t,s,C\")"
   ]
  },
  {
   "cell_type": "code",
   "execution_count": 127,
   "metadata": {},
   "outputs": [],
   "source": [
    "''' Create Model Points '''\n",
    "\n",
    "#point_origin = Helpers.create_point(0,0,0)\n",
    "tower1_points = [Helpers.create_point(0, tower_spacing/2, -tower_base)]\n",
    "tower2_points = [Helpers.create_point(0,-tower_spacing/2, -tower_base)]\n",
    "z = tower_height_to_first_stay\n",
    "for i in range(0, len(cable_spacing_forwards)):\n",
    "    tower1_points.append(Helpers.create_point(0, tower_spacing/2,z))\n",
    "    tower2_points.append(Helpers.create_point(0,-tower_spacing/2,z))\n",
    "    z+=cable_spacing_tower\n",
    "tower_points = []\n",
    "tower_points.append(tower1_points)\n",
    "tower_points.append(tower2_points)\n",
    "\n",
    "deck_points_forwards = []\n",
    "deck_points_forwards.append([Helpers.create_point(x, tower_spacing/2,0) for x in np.add.accumulate(cable_spacing_forwards)])\n",
    "deck_points_forwards.append([Helpers.create_point(x,-tower_spacing/2,0) for x in np.add.accumulate(cable_spacing_forwards)])\n",
    "\n",
    "deck_points_backwards = []\n",
    "deck_points_backwards.append([Helpers.create_point(-x, tower_spacing/2,0) for x in np.add.accumulate(cable_spacing_backwards)])\n",
    "deck_points_backwards.append([Helpers.create_point(-x,-tower_spacing/2,0) for x in np.add.accumulate(cable_spacing_backwards)])\n",
    "\n",
    "deck_points = []\n",
    "deck_points.append(deck_points_backwards[0][::-1] + deck_points_forwards[0])\n",
    "deck_points.append(deck_points_backwards[1][::-1] + deck_points_forwards[1])"
   ]
  },
  {
   "cell_type": "code",
   "execution_count": 128,
   "metadata": {},
   "outputs": [
    {
     "name": "stdout",
     "output_type": "stream",
     "text": [
      "2\n",
      "9\n",
      "9\n"
     ]
    }
   ],
   "source": [
    "print(len(tower_points))\n",
    "print(len(tower_points[0]))\n",
    "print(len(tower_points[1]))"
   ]
  },
  {
   "cell_type": "code",
   "execution_count": 129,
   "metadata": {},
   "outputs": [],
   "source": [
    "''' Create model lines '''\n",
    "\n",
    "tower_lines = []\n",
    "for iy in [0,1]:\n",
    "    tower_lines.append(list())\n",
    "    for i in range(0, len(tower_points[iy])-1):\n",
    "        tower_lines[iy].append(Helpers.create_line_from_points(tower_points[iy][i], tower_points[iy][i+1]))\n",
    "\n",
    "deck_lines = []\n",
    "for iy in [0,1]:\n",
    "    deck_lines.append(list())\n",
    "    for i in range(0, len(deck_points[iy])-1):\n",
    "        deck_lines[iy].append(Helpers.create_line_from_points(deck_points[iy][i], deck_points[iy][i+1])) \n",
    "\n",
    "back_stays = []\n",
    "for iy in [0,1]:\n",
    "    back_stays.append(list())\n",
    "    for i in range(0, len(deck_points_backwards[iy])-1):\n",
    "        back_stays[iy].append(Helpers.create_line_from_points(deck_points_backwards[iy][i], tower_points[iy][i+2])) \n",
    "\n",
    "front_stays = []\n",
    "for iy in [0,1]:\n",
    "    front_stays.append(list())\n",
    "    for i in range(0, len(deck_points_forwards[iy])-1):\n",
    "        front_stays[iy].append(Helpers.create_line_from_points(deck_points_forwards[iy][i], tower_points[iy][i+2])) \n",
    "\n",
    "cross_lines = []\n",
    "for i in range(0, len(deck_points[0])):\n",
    "    cross_lines.append(Helpers.create_line_from_points(deck_points[0][i], deck_points[1][i])) "
   ]
  },
  {
   "cell_type": "code",
   "execution_count": 130,
   "metadata": {},
   "outputs": [
    {
     "data": {
      "text/plain": [
       "<win32com.gen_py.LUSAS Modeller ActiveX Script Language 22.0.IFObjectSet instance at 0x1794612176288>"
      ]
     },
     "execution_count": 130,
     "metadata": {},
     "output_type": "execute_result"
    }
   ],
   "source": [
    "''' Create Geometric Sections '''\n",
    "deck_section_attr = Helpers.create_rectangular_section(db, \"Deck\", deck_width, deck_depth)\n",
    "tower_section_attr = Helpers.create_rectangular_section(db, \"Tower\", tower_width_base, tower_depth_base)\n",
    "stay_section_attr = Helpers.create_circular_section(db, \"Stay\", stay_dia)\n",
    "\n",
    "deck_section_attr.assignTo(deck_lines[0])\n",
    "deck_section_attr.assignTo(deck_lines[1])\n",
    "# TODO calculate based on spacing\n",
    "deck_section_attr.assignTo(cross_lines)\n",
    "\n",
    "tower_section_attr.assignTo(tower_lines[0])\n",
    "tower_section_attr.assignTo(tower_lines[1])\n",
    "stay_section_attr.assignTo(back_stays[0])\n",
    "stay_section_attr.assignTo(back_stays[1])\n",
    "stay_section_attr.assignTo(front_stays[0])\n",
    "stay_section_attr.assignTo(front_stays[1])"
   ]
  },
  {
   "cell_type": "code",
   "execution_count": 131,
   "metadata": {},
   "outputs": [
    {
     "data": {
      "text/plain": [
       "<win32com.gen_py.LUSAS Modeller ActiveX Script Language 22.0.IFObjectSet instance at 0x1794602845296>"
      ]
     },
     "execution_count": 131,
     "metadata": {},
     "output_type": "execute_result"
    }
   ],
   "source": [
    "''' Create Material Attributes'''\n",
    "\n",
    "# Steel Material attribute\n",
    "steel_material = db.createIsotropicMaterial(\"Steel\", 200_000_000, 0.3, 7.8, 10e-6)\n",
    "\n",
    "# Concrete Material attribute\n",
    "concrete_material = db.createIsotropicMaterial(\"Concrete\", 30_000_000, 0.2, 2.4, 10e-6)\n",
    "\n",
    "steel_material.assignTo(back_stays[0])\n",
    "steel_material.assignTo(back_stays[1])\n",
    "steel_material.assignTo(front_stays[0])\n",
    "steel_material.assignTo(front_stays[1])\n",
    "concrete_material.assignTo(deck_lines[0])\n",
    "concrete_material.assignTo(deck_lines[1])\n",
    "concrete_material.assignTo(cross_lines)\n",
    "\n",
    "concrete_material.assignTo(tower_lines[0])\n",
    "concrete_material.assignTo(tower_lines[1])"
   ]
  },
  {
   "cell_type": "code",
   "execution_count": 132,
   "metadata": {},
   "outputs": [
    {
     "data": {
      "text/plain": [
       "<win32com.gen_py.LUSAS Modeller ActiveX Script Language 22.0.IFObjectSet instance at 0x1794604115312>"
      ]
     },
     "execution_count": 132,
     "metadata": {},
     "output_type": "execute_result"
    }
   ],
   "source": [
    "''' Support attributes ''' \n",
    "fixed = db.createSupportStructural(\"Fixed in XY\").setStructural(\"R\", \"R\", \"F\", \"R\", \"R\", \"R\", \"F\", \"F\", \"C\", \"F\")\n",
    "slide = db.createSupportStructural(\"Fixed in Z\").setStructural(\"F\", \"F\", \"R\", \"F\", \"F\", \"F\", \"F\", \"F\", \"C\", \"F\")\n",
    "\n",
    "fixed.assignTo(tower_points[0][0])\n",
    "fixed.assignTo(tower_points[1][0])\n",
    "slide.assignTo(deck_points_backwards[0][-1])\n",
    "slide.assignTo(deck_points_backwards[1][-1])\n",
    "slide.assignTo(deck_points_forwards[0][-1])\n",
    "slide.assignTo(deck_points_forwards[1][-1])"
   ]
  },
  {
   "cell_type": "code",
   "execution_count": 133,
   "metadata": {},
   "outputs": [
    {
     "data": {
      "text/plain": [
       "<win32com.gen_py.LUSAS Modeller ActiveX Script Language 22.0.IFDatabase instance at 0x1794604116464>"
      ]
     },
     "execution_count": 133,
     "metadata": {},
     "output_type": "execute_result"
    }
   ],
   "source": [
    "''' Mesh Attributes'''\n",
    "# Cables modelles with single bar element\n",
    "cable_mesh_attr = db.createMeshLine(\"Bar Mesh\").setNumber(\"BRS2\", 1)\n",
    "# Deck and tower modelled with beam elements\n",
    "beam_mesh_attr = db.createMeshLine(\"Beam mesh 1m\").setSize(\"BMI21\", 1)\n",
    "\n",
    "cable_mesh_attr.assignTo(back_stays[0])\n",
    "cable_mesh_attr.assignTo(back_stays[1])\n",
    "cable_mesh_attr.assignTo(front_stays[0])\n",
    "cable_mesh_attr.assignTo(front_stays[1])\n",
    "beam_mesh_attr.assignTo(deck_lines[0])\n",
    "beam_mesh_attr.assignTo(deck_lines[1])\n",
    "beam_mesh_attr.assignTo(tower_lines[0])\n",
    "beam_mesh_attr.assignTo(tower_lines[1])\n",
    "beam_mesh_attr.assignTo(cross_lines)\n",
    "\n",
    "# Create the model mesh\n",
    "db.updateMesh()"
   ]
  },
  {
   "cell_type": "markdown",
   "metadata": {},
   "source": [
    "# Loads"
   ]
  },
  {
   "cell_type": "code",
   "execution_count": 134,
   "metadata": {},
   "outputs": [],
   "source": [
    "# Automatic gravity in loadcase 1\n",
    "loadset = db.getLoadset(\"Loadcase 1\").setName(\"Self Weight\")\n",
    "win32.CastTo(loadset, \"IFLoadcase\").addGravity(True)"
   ]
  }
 ],
 "metadata": {
  "kernelspec": {
   "display_name": "Python 3",
   "language": "python",
   "name": "python3"
  },
  "language_info": {
   "codemirror_mode": {
    "name": "ipython",
    "version": 3
   },
   "file_extension": ".py",
   "mimetype": "text/x-python",
   "name": "python",
   "nbconvert_exporter": "python",
   "pygments_lexer": "ipython3",
   "version": "3.12.3"
  }
 },
 "nbformat": 4,
 "nbformat_minor": 2
}
