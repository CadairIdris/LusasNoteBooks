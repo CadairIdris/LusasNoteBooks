{
 "cells": [
  {
   "cell_type": "markdown",
   "metadata": {},
   "source": [
    "# Cable Bridge"
   ]
  },
  {
   "cell_type": "code",
   "execution_count": null,
   "metadata": {},
   "outputs": [],
   "source": [
    "''' Inputs '''\n",
    "tower_base = 6                   # Metres below the origin\n",
    "tower_height_to_first_stay = 10  # Metres above the origin\n",
    "cable_spacing_tower = 1          # Metre increments\n",
    "\n",
    "cable_spacing_forwards = [5,5,5,5,5,5,5,5]\n",
    "cable_spacing_backwards = [5,5,5,5,5,5,5,5]\n",
    "\n",
    "deck_width = 5.0\n",
    "deck_depth = 0.6\n",
    "\n",
    "tower_width_base = 2.0\n",
    "tower_depth_base = 2.6\n",
    "tower_width_top = 2.0\n",
    "tower_depth_top = 2.6\n",
    "\n",
    "stay_dia = 0.15"
   ]
  },
  {
   "cell_type": "code",
   "execution_count": null,
   "metadata": {},
   "outputs": [],
   "source": [
    "import numpy as np\n",
    "import math\n",
    "import win32com.client as win32\n",
    "lusas = win32.gencache.EnsureDispatch(\"Lusas.Modeller.22.0\") # Connect to LUSAS Modeller\n",
    "\n",
    "# If there is not currently a model open, create one\n",
    "if not lusas.existsDatabase():\n",
    "    lusas.newProject(\"Structural\", \"Cable Bridge\")\n",
    "else:\n",
    "    import sys; sys.path.append('../') # Locate the helpers file\n",
    "    from m100_Tools_And_Helpers import Helpers\n",
    "    Helpers.initialise(lusas)\n",
    "    Helpers.reset_database_contents(lusas.database())\n",
    "\n",
    "db = lusas.database() # Reference to the model database for convenience\n",
    "\n",
    "# 2D model with Y vertical\n",
    "db.setAnalysisCategory(\"2D\")\n",
    "db.setVerticalDir(\"Y\")\n",
    "\n",
    "# Set the unit system\n",
    "db.setModelUnits(\"kN,m,t,s,C\")"
   ]
  },
  {
   "cell_type": "code",
   "execution_count": null,
   "metadata": {},
   "outputs": [],
   "source": [
    "''' Create Model Points '''\n",
    "\n",
    "point_origin = Helpers.create_point(0,0,0)\n",
    "tower_points = [Helpers.create_point(0,-tower_base,0)]\n",
    "y = tower_height_to_first_stay\n",
    "for i in range(0, len(cable_spacing_forwards)):\n",
    "    tower_points.append(Helpers.create_point(0,y,0))\n",
    "    y+=cable_spacing_tower\n",
    "\n",
    "\n",
    "deck_points_forwards = [Helpers.create_point(x,0,0) for x in np.sum.accumulate(cable_spacing_forwards)]\n",
    "deck_points_backwards = [Helpers.create_point(-x,0,0) for x in np.sum.accumulate(cable_spacing_backwards)]\n",
    "deck_points = deck_points_backwards.reverse() + deck_points_forwards\n"
   ]
  },
  {
   "cell_type": "code",
   "execution_count": null,
   "metadata": {},
   "outputs": [],
   "source": [
    "''' Create model lines '''\n",
    "\n",
    "tower_lines = []\n",
    "for i in range(0, len(tower_points)-1):\n",
    "    tower_lines.append(Helpers.create_line(tower_points[i], tower_points[i+1]))\n",
    "\n",
    "deck_lines = []\n",
    "for i in range(0, len(deck_points)-1):\n",
    "    deck_lines.append(Helpers.create_line(deck_points[i], deck_points[i+1])) \n",
    "\n",
    "back_stays = []\n",
    "for i in range(0, len(deck_points_backwards)-1):\n",
    "    back_stays.append(Helpers.create_line(deck_points_backwards[i], tower_points[i+2])) \n",
    "\n",
    "front_stays = []\n",
    "for i in range(0, len(deck_points_forwards)-1):\n",
    "    front_stays.append(Helpers.create_line(deck_points_forwards[i], tower_points[i+2])) "
   ]
  },
  {
   "cell_type": "code",
   "execution_count": null,
   "metadata": {},
   "outputs": [],
   "source": [
    "''' Create Geometric Sections '''\n",
    "deck_section_attr = Helpers.create_rectangular_section(db, \"Deck\", deck_width, deck_depth)\n",
    "tower_section_attr = Helpers.create_rectangular_section(db, \"Tower\", tower_width_base, tower_depth_base)\n",
    "stay_section_attr = Helpers.create_circular_section(db, \"Stay\", stay_dia)\n",
    "\n",
    "deck_section_attr.assignTo(deck_lines)\n",
    "tower_section_attr.assignTo(tower_lines)\n",
    "stay_section_attr.assignTo(back_stays)\n",
    "stay_section_attr.assignTo(front_stays)"
   ]
  },
  {
   "cell_type": "code",
   "execution_count": null,
   "metadata": {},
   "outputs": [],
   "source": [
    "''' Create Material Attributes'''\n",
    "\n",
    "# Steel Material attribute\n",
    "steel_material = db.createIsotropicMaterial(\"Steel\", 200_000, 0.3, 7.8e-9, 10e-6)\n",
    "\n",
    "# Concrete Material attribute\n",
    "concrete_material = db.createIsotropicMaterial(\"Concrete\", 30_000, 0.2, 2.4e-9, 10e-6)\n",
    "\n",
    "steel_material.assignTo(back_stays)\n",
    "steel_material.assignTo(front_stays)\n",
    "concrete_material.assignTo(deck_lines)\n",
    "concrete_material.assignTo(tower_lines)"
   ]
  },
  {
   "cell_type": "code",
   "execution_count": null,
   "metadata": {},
   "outputs": [],
   "source": [
    "''' Support attributes ''' \n",
    "fixed = db.createSupportStructural(\"Fixed in XY\").setStructural(\"R\", \"R\", \"F\", \"F\", \"F\", \"F\", \"F\", \"F\", \"C\", \"F\")\n",
    "slide = db.createSupportStructural(\"Fixed in Y\").setStructural(\"F\", \"R\", \"F\", \"F\", \"F\", \"F\", \"F\", \"F\", \"C\", \"F\")\n",
    "\n",
    "fixed.assignTo(tower_points[0])\n",
    "slide.assignTo(deck_points_backwards[-1])\n",
    "slide.assignTo(deck_points_forwards[-1])"
   ]
  },
  {
   "cell_type": "code",
   "execution_count": null,
   "metadata": {},
   "outputs": [],
   "source": [
    "''' Mesh Attributes'''\n",
    "# Cables modelles with single bar element\n",
    "cable_mesh_attr = db.createMeshLine(\"Bar Mesh\").setNumber(\"BRS2\", 1)\n",
    "# Deck and tower modelled with beam elements\n",
    "beam_mesh_attr = db.createMeshLine(\"Beam mesh 1m\").setSize(\"BMI21\", 1)\n",
    "\n",
    "cable_mesh_attr.assignTo(back_stays)\n",
    "cable_mesh_attr.assignTo(front_stays)\n",
    "beam_mesh_attr.assignTo(deck_lines)\n",
    "beam_mesh_attr.assignTo(tower_lines)\n",
    "\n",
    "# Create the model mesh\n",
    "db.updateMesh()"
   ]
  },
  {
   "cell_type": "markdown",
   "metadata": {},
   "source": [
    "# Loads"
   ]
  },
  {
   "cell_type": "code",
   "execution_count": null,
   "metadata": {},
   "outputs": [],
   "source": [
    "# Automatic gravity in loadcase 1\n",
    "loadset = db.getLoadset(\"Loadcase 1\").setName(\"Self Weight\")\n",
    "win32.CastTo(loadset, \"IFLoadcase\").addGravity(True)"
   ]
  }
 ],
 "metadata": {
  "kernelspec": {
   "display_name": "Python 3",
   "language": "python",
   "name": "python3"
  },
  "language_info": {
   "name": "python",
   "version": "3.11.9"
  }
 },
 "nbformat": 4,
 "nbformat_minor": 2
}
