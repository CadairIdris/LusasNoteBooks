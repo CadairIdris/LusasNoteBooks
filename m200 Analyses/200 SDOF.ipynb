{
 "cells": [
  {
   "cell_type": "markdown",
   "metadata": {},
   "source": [
    "# #200 SDOF - Mass on a stick\n",
    "<i>Simple column with lumped mass element at the top</i>\n",
    "***"
   ]
  },
  {
   "cell_type": "code",
   "execution_count": 1,
   "metadata": {},
   "outputs": [],
   "source": [
    "# Input Params\n",
    "length = 5.0 #m\t\t     Length of beam\n",
    "element_length = 1"
   ]
  },
  {
   "cell_type": "markdown",
   "metadata": {},
   "source": [
    "#### Connect to LUSAS and create a new model database"
   ]
  },
  {
   "cell_type": "code",
   "execution_count": null,
   "metadata": {},
   "outputs": [],
   "source": [
    "import sys; sys.path.append('../') # Reference modules in parent directory\n",
    "import plotly.express as px        # Plotting\n",
    "from LPI import *\n",
    "lusas = get_lusas_modeller()\n",
    "# if lusas.existsDatabase():\n",
    "#     raise Exception(\"This script will create a new model. Please save and close the current model and try again\")\n",
    "\n",
    "import m100_Tools_And_Helpers.Helpers as Helpers\n",
    "Helpers.initialise(lusas)"
   ]
  },
  {
   "cell_type": "code",
   "execution_count": 3,
   "metadata": {},
   "outputs": [],
   "source": [
    "# Create a new model\n",
    "lusas.newProject(\"Structural\", \"SDOF_TEST.mdl\")\n",
    "# Get a reference to the model database\n",
    "db = lusas.getDatabase()\n",
    "# 3D model with vertical z axis\n",
    "db.setAnalysisCategory(\"3D\")\n",
    "db.setVerticalDir(\"Z\")\n",
    "# Set the unit system\n",
    "db.setModelUnits(\"kN,m,t,s,C\")"
   ]
  },
  {
   "cell_type": "markdown",
   "metadata": {},
   "source": [
    "### Create model geometry"
   ]
  },
  {
   "cell_type": "code",
   "execution_count": 4,
   "metadata": {},
   "outputs": [],
   "source": [
    "# Create a line\n",
    "beam_line = Helpers.create_line([0,0,0], [0, 0, length])"
   ]
  },
  {
   "cell_type": "markdown",
   "metadata": {},
   "source": [
    "### Create model attributes"
   ]
  },
  {
   "cell_type": "code",
   "execution_count": 5,
   "metadata": {},
   "outputs": [],
   "source": [
    "# Create a beam mesh attribute\n",
    "beam_mesh_attr = db.createMeshLine(\"Beam Mesh\")\n",
    "# Set the element type and size of elements BMI21 = 2Node thick beam elements, 1 = 1m length\n",
    "beam_mesh_attr.setSize(\"BMI21\", element_length)\n",
    "# Point mass mesh attribute to represent the lumped mass\n",
    "mass_mesh_attr = db.createPointMeshElementAttr(\"Point Mass Mesh\", \"PM3\")"
   ]
  },
  {
   "cell_type": "code",
   "execution_count": 6,
   "metadata": {},
   "outputs": [
    {
     "data": {
      "text/plain": [
       "<win32com.gen_py.LUSAS Modeller ActiveX Script Language 22.0.IFGeometricLine instance at 0x2307377730960>"
      ]
     },
     "execution_count": 6,
     "metadata": {},
     "output_type": "execute_result"
    }
   ],
   "source": [
    "# Create a geometric section attribute\n",
    "geometric_attr = db.createGeometricLine(\"Beam Geometry\")\n",
    "# Set the beam section properties for the section library\n",
    "geometric_attr.setFromLibrary(\"UK Sections\", \"CHS (EN10210)\", \"508x10 CHS\", 0, 0, 0)"
   ]
  },
  {
   "cell_type": "code",
   "execution_count": 7,
   "metadata": {},
   "outputs": [],
   "source": [
    "# Create a linear elastic material attribute with a mass damping ratio of 2%\n",
    "material_attr = db.createIsotropicMaterial(\"Steel\", 209_000_000, 0.3, 7.8, 10e-6, 2.0)\n",
    "# Create a mass material attribute\n",
    "mass_material_attr = db.create3dMassMaterial(\"Mass\", 1.0, 1.0, 1.0, \"point\")"
   ]
  },
  {
   "cell_type": "code",
   "execution_count": 8,
   "metadata": {},
   "outputs": [
    {
     "data": {
      "text/plain": [
       "<win32com.gen_py.LUSAS Modeller ActiveX Script Language 22.0.IFSupportStructural instance at 0x2307378128976>"
      ]
     },
     "execution_count": 8,
     "metadata": {},
     "output_type": "execute_result"
    }
   ],
   "source": [
    "# Create support attribute\n",
    "# Freedoms F=Free, R=Restrained, S=Spring\n",
    "fixedSupport = db.createSupportStructural(\"Fixed\")\n",
    "fixedSupport.setStructural(\"R\", \"R\", \"R\", \"R\", \"R\", \"R\", \"F\", \"F\", \"F\")"
   ]
  },
  {
   "cell_type": "code",
   "execution_count": 9,
   "metadata": {},
   "outputs": [
    {
     "data": {
      "text/plain": [
       "<win32com.gen_py.LUSAS Modeller ActiveX Script Language 22.0.IFLoadingBody instance at 0x2307378267472>"
      ]
     },
     "execution_count": 9,
     "metadata": {},
     "output_type": "execute_result"
    }
   ],
   "source": [
    "gravity_load_attr = db.createLoadingBody(\"Gravity\")\n",
    "gravity_load_attr.setBody(0.0, 0.0, -9.81, 0.0, 0.0, 0.0, 0.0, 0.0, 0.0, 0.0, 0.0, -9.81)"
   ]
  },
  {
   "cell_type": "markdown",
   "metadata": {},
   "source": [
    "### Assign attributes to model geometry"
   ]
  },
  {
   "cell_type": "code",
   "execution_count": 10,
   "metadata": {},
   "outputs": [
    {
     "data": {
      "text/plain": [
       "<win32com.gen_py.LUSAS Modeller ActiveX Script Language 22.0.IFObjectSet instance at 0x2307378563552>"
      ]
     },
     "execution_count": 10,
     "metadata": {},
     "output_type": "execute_result"
    }
   ],
   "source": [
    "# Get the default assignment object\n",
    "assignment = lusas.assignment().setAllDefaults()\n",
    "# Assign the mesh\n",
    "beam_mesh_attr.assignTo(beam_line, assignment)\n",
    "# Assign the geometry\n",
    "geometric_attr.assignTo(beam_line, assignment)\n",
    "# Assign the material\n",
    "material_attr.assignTo(beam_line, assignment)\n",
    "# Assign the mass mesh to the line end point only\n",
    "mass_mesh_attr.assignTo(beam_line.getEndPoint())\n",
    "# Assign the mass material to the end point only\n",
    "mass_material_attr.assignTo(beam_line.getEndPoint())\n",
    "# Assign the fixed support to the first point\n",
    "fixedSupport.assignTo(beam_line.getStartPoint(), assignment)"
   ]
  },
  {
   "cell_type": "markdown",
   "metadata": {},
   "source": [
    "Create an eigenvalue frequency analysis"
   ]
  },
  {
   "cell_type": "code",
   "execution_count": 11,
   "metadata": {},
   "outputs": [
    {
     "data": {
      "text/plain": [
       "<win32com.gen_py.LUSAS Modeller ActiveX Script Language 22.0.IFControl instance at 0x2307378706256>"
      ]
     },
     "execution_count": 11,
     "metadata": {},
     "output_type": "execute_result"
    }
   ],
   "source": [
    "# Rename the loadcase\n",
    "first_loadcase = Helpers.get_loadcase(1) # Helper method provides the correct type hint.\n",
    "first_loadcase.setName(\"Eig Freq\")\n",
    "# Set the loadcase controls to be a frequency analysis searching for the minimum 5 natural frequencies\n",
    "first_loadcase.setEigenvalueMaxMinControl(\"Frequency\", \"Minimum\", 5)\n",
    "# Set the eiegenvector normalisation procedure to mass for a frequency analysis - This just scales the resulting eigenvector and is the default setting\n",
    "first_loadcase.getEigenvalueControl().setValue(\"NormalisationProcedure\", \"GlobalMass\").setValue(\"Eigensolver\", \"Default\")"
   ]
  },
  {
   "cell_type": "code",
   "execution_count": 12,
   "metadata": {},
   "outputs": [
    {
     "data": {
      "text/plain": [
       "<win32com.gen_py.LUSAS Modeller ActiveX Script Language 22.0.IFPSD instance at 0x2307378220640>"
      ]
     },
     "execution_count": 12,
     "metadata": {},
     "output_type": "execute_result"
    }
   ],
   "source": [
    "# Create a Response Spectrum Utility\n",
    "attr = db.createSpectralCurve(\"RS1\").setSpectralCurve(5.0, \"acceleration/gravity\", \"period\")\n",
    "attr.addRow(0.0, 0.05333333333333333)\n",
    "attr.addRow(0.02, 0.07288888888888889)\n",
    "attr.addRow(0.04, 0.09244444444444444)\n",
    "attr.addRow(0.06, 0.112)\n",
    "attr.addRow(0.08, 0.1315555555555556)\n",
    "attr.addRow(0.1, 0.1511111111111111)\n",
    "attr.addRow(0.12, 0.1706666666666666)\n",
    "attr.addRow(0.14, 0.1902222222222223)\n",
    "attr.addRow(0.15, 0.2)\n",
    "attr.addRow(0.16, 0.2)\n",
    "attr.addRow(0.18, 0.2)\n",
    "attr.addRow(0.2, 0.2)\n",
    "attr.addRow(0.22, 0.2)\n",
    "attr.addRow(0.24, 0.2)\n",
    "attr.addRow(0.26, 0.2)\n",
    "attr.addRow(0.28, 0.2)\n",
    "attr.addRow(0.3, 0.2)\n",
    "attr.addRow(0.32, 0.2)\n",
    "attr.addRow(0.34, 0.2)\n",
    "attr.addRow(0.36, 0.2)\n",
    "attr.addRow(0.38, 0.2)\n",
    "attr.addRow(0.4, 0.2)\n",
    "attr.addRow(0.42, 0.1904761904761905)\n",
    "attr.addRow(0.44, 0.1818181818181818)\n",
    "attr.addRow(0.46, 0.1739130434782609)\n",
    "attr.addRow(0.48, 0.1666666666666667)\n",
    "attr.addRow(0.5, 0.16)\n",
    "attr.addRow(0.52, 0.1538461538461538)\n",
    "attr.addRow(0.54, 0.1481481481481481)\n",
    "attr.addRow(0.56, 0.1428571428571429)\n",
    "attr.addRow(0.58, 0.1379310344827586)\n",
    "attr.addRow(0.6, 0.1333333333333334)\n",
    "attr.addRow(0.62, 0.1290322580645161)\n",
    "attr.addRow(0.64, 0.125)\n",
    "attr.addRow(0.66, 0.1212121212121212)\n",
    "attr.addRow(0.68, 0.1176470588235294)\n",
    "attr.addRow(0.7, 0.1142857142857143)\n",
    "attr.addRow(0.72, 0.1111111111111111)\n",
    "attr.addRow(0.74, 0.1081081081081081)\n",
    "attr.addRow(0.76, 0.1052631578947368)\n",
    "attr.addRow(0.78, 0.1025641025641026)\n",
    "attr.addRow(0.8, 0.1)\n",
    "attr.addRow(0.82, 0.0975609756097561)\n",
    "attr.addRow(0.84, 0.09523809523809525)\n",
    "attr.addRow(0.86, 0.0930232558139535)\n",
    "attr.addRow(0.88, 0.09090909090909093)\n",
    "attr.addRow(0.9, 0.0888888888888889)\n",
    "attr.addRow(0.92, 0.08695652173913043)\n",
    "attr.addRow(0.94, 0.08510638297872341)\n",
    "attr.addRow(0.96, 0.08333333333333334)\n",
    "attr.addRow(0.98, 0.0816326530612245)\n",
    "attr.addRow(1.0, 0.08)\n",
    "attr.addRow(1.02, 0.0784313725490196)\n",
    "attr.addRow(1.04, 0.07692307692307692)\n",
    "attr.addRow(1.06, 0.07547169811320755)\n",
    "attr.addRow(1.08, 0.07407407407407406)\n",
    "attr.addRow(1.1, 0.07272727272727273)\n",
    "attr.addRow(1.12, 0.07142857142857143)\n",
    "attr.addRow(1.14, 0.07017543859649122)\n",
    "attr.addRow(1.16, 0.06896551724137933)\n",
    "attr.addRow(1.18, 0.06779661016949154)\n",
    "attr.addRow(1.2, 0.06666666666666668)\n",
    "attr.addRow(1.22, 0.06557377049180328)\n",
    "attr.addRow(1.24, 0.06451612903225808)\n",
    "attr.addRow(1.26, 0.0634920634920635)\n",
    "attr.addRow(1.28, 0.0625)\n",
    "attr.addRow(1.3, 0.06153846153846154)\n",
    "attr.addRow(1.32, 0.06060606060606061)\n",
    "attr.addRow(1.34, 0.05970149253731343)\n",
    "attr.addRow(1.36, 0.05882352941176471)\n",
    "attr.addRow(1.38, 0.05797101449275363)\n",
    "attr.addRow(1.4, 0.05714285714285714)\n",
    "attr.addRow(1.42, 0.05633802816901409)\n",
    "attr.addRow(1.44, 0.05555555555555556)\n",
    "attr.addRow(1.46, 0.05479452054794521)\n",
    "attr.addRow(1.48, 0.05405405405405405)\n",
    "attr.addRow(1.5, 0.05333333333333333)\n",
    "attr.addRow(1.52, 0.05263157894736842)\n",
    "attr.addRow(1.54, 0.05194805194805196)\n",
    "attr.addRow(1.56, 0.05128205128205129)\n",
    "attr.addRow(1.58, 0.05063291139240507)\n",
    "attr.addRow(1.6, 0.05)\n",
    "attr.addRow(1.62, 0.04938271604938271)\n",
    "attr.addRow(1.64, 0.04878048780487805)\n",
    "attr.addRow(1.66, 0.04819277108433735)\n",
    "attr.addRow(1.68, 0.04761904761904762)\n",
    "attr.addRow(1.7, 0.04705882352941177)\n",
    "attr.addRow(1.72, 0.04651162790697675)\n",
    "attr.addRow(1.74, 0.04597701149425288)\n",
    "attr.addRow(1.76, 0.04545454545454546)\n",
    "attr.addRow(1.78, 0.04494382022471911)\n",
    "attr.addRow(1.8, 0.04444444444444445)\n",
    "attr.addRow(1.82, 0.04395604395604396)\n",
    "attr.addRow(1.84, 0.04347826086956522)\n",
    "attr.addRow(1.86, 0.04301075268817205)\n",
    "attr.addRow(1.88, 0.04255319148936171)\n",
    "attr.addRow(1.9, 0.04210526315789474)\n",
    "attr.addRow(1.92, 0.04166666666666667)\n",
    "attr.addRow(1.94, 0.04123711340206186)\n",
    "attr.addRow(1.96, 0.04081632653061225)\n",
    "attr.addRow(1.98, 0.04040404040404041)\n",
    "attr.addRow(2.0, 0.04)\n",
    "attr.addRow(2.02, 0.03921184197627684)\n",
    "attr.addRow(2.04, 0.03844675124951942)\n",
    "attr.addRow(2.06, 0.03770383636535019)\n",
    "attr.addRow(2.08, 0.03698224852071006)\n",
    "attr.addRow(2.1, 0.036281179138322)\n",
    "attr.addRow(2.12, 0.0355998576005696)\n",
    "attr.addRow(2.14, 0.03493754913092847)\n",
    "attr.addRow(2.16, 0.03429355281207133)\n",
    "attr.addRow(2.18, 0.0336671997306624)\n",
    "attr.addRow(2.2, 0.03305785123966942)\n",
    "attr.addRow(2.22, 0.0324648973297622)\n",
    "attr.addRow(2.24, 0.03188775510204082)\n",
    "attr.addRow(2.26, 0.03132586733495183)\n",
    "attr.addRow(2.28, 0.03077870113881194)\n",
    "attr.addRow(2.3, 0.03024574669187145)\n",
    "attr.addRow(2.32, 0.02972651605231867)\n",
    "attr.addRow(2.34, 0.02922054204105487)\n",
    "attr.addRow(2.36, 0.02872737719046252)\n",
    "attr.addRow(2.38, 0.02824659275474896)\n",
    "attr.addRow(2.4, 0.02777777777777778)\n",
    "attr.addRow(2.42, 0.02732053821460283)\n",
    "attr.addRow(2.44, 0.02687449610319807)\n",
    "attr.addRow(2.46, 0.02643928878313174)\n",
    "attr.addRow(2.48, 0.02601456815816858)\n",
    "attr.addRow(2.5, 0.0256)\n",
    "attr.addRow(2.52, 0.02519526329050139)\n",
    "attr.addRow(2.54, 0.0248000496000992)\n",
    "attr.addRow(2.56, 0.0244140625)\n",
    "attr.addRow(2.58, 0.02403701700618953)\n",
    "attr.addRow(2.6, 0.02366863905325444)\n",
    "attr.addRow(2.62, 0.02330866499621234)\n",
    "attr.addRow(2.64, 0.02295684113865932)\n",
    "attr.addRow(2.66, 0.02261292328565775)\n",
    "attr.addRow(2.68, 0.02227667631989307)\n",
    "attr.addRow(2.7, 0.02194787379972565)\n",
    "attr.addRow(2.72, 0.02162629757785467)\n",
    "attr.addRow(2.74, 0.02131173743939475)\n",
    "attr.addRow(2.76, 0.02100399075824406)\n",
    "attr.addRow(2.78, 0.0207028621706951)\n",
    "attr.addRow(2.8, 0.02040816326530612)\n",
    "attr.addRow(2.82, 0.02011971228811428)\n",
    "attr.addRow(2.84, 0.0198373338623289)\n",
    "attr.addRow(2.86, 0.01956085872169788)\n",
    "attr.addRow(2.88, 0.01929012345679012)\n",
    "attr.addRow(2.9, 0.01902497027348395)\n",
    "attr.addRow(2.92, 0.01876524676299494)\n",
    "attr.addRow(2.94, 0.01851080568281735)\n",
    "attr.addRow(2.96, 0.01826150474799124)\n",
    "attr.addRow(2.98, 0.0180172064321427)\n",
    "attr.addRow(3.0, 0.01777777777777778)\n",
    "attr.addRow(3.02, 0.01754309021534143)\n",
    "attr.addRow(3.04, 0.01731301939058172)\n",
    "attr.addRow(3.06, 0.01708744499978641)\n",
    "attr.addRow(3.08, 0.0168662506324844)\n",
    "attr.addRow(3.1, 0.01664932362122789)\n",
    "attr.addRow(3.12, 0.01643655489809336)\n",
    "attr.addRow(3.14, 0.01622783885756015)\n",
    "attr.addRow(3.16, 0.01602307322544464)\n",
    "attr.addRow(3.18, 0.016)\n",
    "attr.addRow(6.0, 0.016)\n"
   ]
  },
  {
   "cell_type": "markdown",
   "metadata": {},
   "source": [
    "### IMD Loadsets"
   ]
  },
  {
   "cell_type": "code",
   "execution_count": 13,
   "metadata": {},
   "outputs": [
    {
     "data": {
      "text/plain": [
       "<win32com.gen_py.LUSAS Modeller ActiveX Script Language 22.0.IFIMD instance at 0x2307378660528>"
      ]
     },
     "execution_count": 13,
     "metadata": {},
     "output_type": "execute_result"
    }
   ],
   "source": [
    "imd = db.createIMD(\"IMD Support Motion Displacement X (Frequency)\", 0)\n",
    "imd.setSupportMotionExcitation(\"Displacement\", \"Relative\", 1.0, 0.0, 0.0)\n",
    "imd.setFrequencyResults(5.0, 0.0, \"Amplitude\")\n",
    "imd.setDampingType(\"None\")\n",
    "imd.setAllModes()\n",
    "\n",
    "imd = db.createIMD(\"IMD Support Motion Displacement X (Time-Step)\", 0)\n",
    "imd.setSupportMotionExcitation(\"Displacement\", \"Relative\", 1.0, 0.0, 0.0)\n",
    "imd.setTimeResults(1.0 / 5.0, \"Step\")\n",
    "imd.setDampingType(\"None\")\n",
    "imd.setAllModes()\n",
    "\n",
    "imd = db.createIMD(\"IMD Support Motion Displacement X (Time-Impulse)\", 0)\n",
    "imd.setSupportMotionExcitation(\"Displacement\", \"Relative\", 1.0, 0.0, 0.0)\n",
    "imd.setTimeResults(1.0 / 5.0, \"Impulse\")\n",
    "imd.setDampingType(\"None\")\n",
    "imd.setAllModes()\n",
    "\n",
    "imd = db.createIMD(\"IMD Support Motion Displacement X (Spectral)\", 0)\n",
    "imd.setSupportMotionExcitation(\"Displacement\", \"Relative\", 1.0, 0.0, 0.0)\n",
    "imd.setSpectralResults(\"CQC combination\", \"None\")\n",
    "imd.setSpectrum(\"RS1\")\n",
    "imd.setDampingType(\"None\")\n",
    "imd.setAllModes()\n"
   ]
  },
  {
   "cell_type": "code",
   "execution_count": 14,
   "metadata": {},
   "outputs": [],
   "source": [
    "# Unit acceleration load in X\n",
    "acceleration_load_attr = db.createPrescribedAccelerationLoad(\"Unit acceleration in X\").setAcceleration(\"U\", 1.0)"
   ]
  },
  {
   "cell_type": "code",
   "execution_count": 15,
   "metadata": {},
   "outputs": [
    {
     "data": {
      "application/vnd.plotly.v1+json": {
       "config": {
        "plotlyServerURL": "https://plot.ly"
       },
       "data": [
        {
         "hovertemplate": "Response time [s]=%{x}<br>Dispacement [m]=%{y}<extra></extra>",
         "legendgroup": "",
         "line": {
          "color": "#636efa",
          "dash": "solid"
         },
         "marker": {
          "symbol": "circle"
         },
         "mode": "lines+markers",
         "name": "",
         "orientation": "v",
         "showlegend": false,
         "type": "scatter",
         "x": {
          "bdata": "AAAAAAAAAAB7FK5H4XqEP3sUrkfhepQ/uB6F61G4nj97FK5H4XqkP5qZmZmZmak/uB6F61G4rj/sUbgeheuxP3sUrkfherQ/CtejcD0Ktz+amZmZmZm5Pylcj8L1KLw/uB6F61G4vj+kcD0K16PAP+xRuB6F68E/MzMzMzMzwz97FK5H4XrEP8P1KFyPwsU/CtejcD0Kxz9SuB6F61HIP5qZmZmZmck/4XoUrkfhyj8pXI/C9SjMP3E9CtejcM0/uB6F61G4zj8AAAAAAADQP6RwPQrXo9A/SOF6FK5H0T/sUbgehevRP4/C9Shcj9I/MzMzMzMz0z/Xo3A9CtfTP3sUrkfhetQ/H4XrUbge1T/D9Shcj8LVP2dmZmZmZtY/CtejcD0K1z+uR+F6FK7XP1K4HoXrUdg/9ihcj8L12D+amZmZmZnZPz4K16NwPdo/4XoUrkfh2j+F61G4HoXbPylcj8L1KNw/zczMzMzM3D9xPQrXo3DdPxWuR+F6FN4/uB6F61G43j9cj8L1KFzfPwAAAAAAAOA/UrgehetR4D+kcD0K16PgP/YoXI/C9eA/SOF6FK5H4T+amZmZmZnhP+xRuB6F6+E/PgrXo3A94j+PwvUoXI/iP+F6FK5H4eI/MzMzMzMz4z+F61G4HoXjP9ejcD0K1+M/KVyPwvUo5D97FK5H4XrkP83MzMzMzOQ/H4XrUbge5T9xPQrXo3DlP8P1KFyPwuU/Fa5H4XoU5j9nZmZmZmbmP7gehetRuOY/CtejcD0K5z9cj8L1KFznP65H4XoUruc/AAAAAAAA6D9SuB6F61HoP6RwPQrXo+g/9ihcj8L16D9I4XoUrkfpP5qZmZmZmek/7FG4HoXr6T8+CtejcD3qP5DC9Shcj+o/4XoUrkfh6j8zMzMzMzPrP4XrUbgehes/16NwPQrX6z8pXI/C9SjsP3sUrkfheuw/zczMzMzM7D8fhetRuB7tP3E9CtejcO0/w/UoXI/C7T8VrkfhehTuP2dmZmZmZu4/uB6F61G47j8K16NwPQrvP1yPwvUoXO8/rkfhehSu7z8AAAAAAADwPw==",
          "dtype": "f8"
         },
         "xaxis": "x",
         "y": {
          "bdata": "AAAAAAAAAAACcbfd+gcBQORGMjwO0g5ATBMqUiVfE0A/JpeLT6UTQOn4PsEqLhBA1sn3WShFA0BCuNiizBfUP2fT0towc/2/GWbHhKMoDcAftQrMaAUTwKKH0JSg1xPAFp2ef/XiEMAiNh7L3W4FwMOyCTWmDeS/nuP7BKu4+D8faFUqw2ELQNGYtaJ0mBJAf6rul+X1E0A2GBGxsIYRQPiwksXrggdAR1lEfiP77T+9hFE8K+XzvzRCYr44fwnAdI0J6rYYEsAAAAAAAAAUwHaNCeq2GBLAK0Jivjh/CcCphFE8K+Xzv9JYRH4j++0/8LCSxeuCB0A0GBGxsIYRQH+q7pfl9RNA0Zi1onSYEkAJaFUqw2ELQIrj+wSruPg/nLIJNaYN5L8iNh7L3W4FwBadnn/14hDAoYfQlKDXE8AhtQrMaAUTwBlmx4SjKA3AjNPS2jBz/b/2t9iizBfUP9LJ91koRQNA4Pg+wSouEEBBJpeLT6UTQE0TKlIlXxNA+kYyPA7SDkAVcbfd+gcBQKhE3se5TfM8A3G33foHAcDtRjI8DtIOwEsTKlIlXxPAPyaXi0+lE8Dm+D7BKi4QwMDJ91koRQPAkLjYoswX1L8d09LaMHP9Pwtmx4SjKA1AHrUKzGgFE0Ckh9CUoNcTQBudnn/14hBAMzYey91uBUBKsgk1pg3kP2bj+wSruPi/CWhVKsNhC8DVmLWidJgSwH6q7pfl9RPAPhgRsbCGEcDgsJLF64IHwLtZRH4j++2/hIRRPCvl8z8dQmK+OH8JQHaNCeq2GBJAAAAAAAAAFEB0jQnqthgSQBRCYr44fwlACYVRPCvl8z+sWER+I/vtv+mwksXrggfANxgRsbCGEcB/qu6X5fUTwMuYtaJ0mBLAPGhVKsNhC8Dp4/sEq7j4v3WyCTWmDeQ/GjYey91uBUAUnZ5/9eIQQKKH0JSg1xNAKbUKzGgFE0A7ZseEoygNQAnT0towc/0/J7rYoswX1L/KyfdZKEUDwOn4PsEqLhDAOSaXi0+lE8BTEypSJV8TwABHMjwO0g7AHnG33foHAcCoRN7HuU0DvQ==",
          "dtype": "f8"
         },
         "yaxis": "y"
        }
       ],
       "layout": {
        "legend": {
         "tracegroupgap": 0
        },
        "template": {
         "data": {
          "bar": [
           {
            "error_x": {
             "color": "#2a3f5f"
            },
            "error_y": {
             "color": "#2a3f5f"
            },
            "marker": {
             "line": {
              "color": "#E5ECF6",
              "width": 0.5
             },
             "pattern": {
              "fillmode": "overlay",
              "size": 10,
              "solidity": 0.2
             }
            },
            "type": "bar"
           }
          ],
          "barpolar": [
           {
            "marker": {
             "line": {
              "color": "#E5ECF6",
              "width": 0.5
             },
             "pattern": {
              "fillmode": "overlay",
              "size": 10,
              "solidity": 0.2
             }
            },
            "type": "barpolar"
           }
          ],
          "carpet": [
           {
            "aaxis": {
             "endlinecolor": "#2a3f5f",
             "gridcolor": "white",
             "linecolor": "white",
             "minorgridcolor": "white",
             "startlinecolor": "#2a3f5f"
            },
            "baxis": {
             "endlinecolor": "#2a3f5f",
             "gridcolor": "white",
             "linecolor": "white",
             "minorgridcolor": "white",
             "startlinecolor": "#2a3f5f"
            },
            "type": "carpet"
           }
          ],
          "choropleth": [
           {
            "colorbar": {
             "outlinewidth": 0,
             "ticks": ""
            },
            "type": "choropleth"
           }
          ],
          "contour": [
           {
            "colorbar": {
             "outlinewidth": 0,
             "ticks": ""
            },
            "colorscale": [
             [
              0,
              "#0d0887"
             ],
             [
              0.1111111111111111,
              "#46039f"
             ],
             [
              0.2222222222222222,
              "#7201a8"
             ],
             [
              0.3333333333333333,
              "#9c179e"
             ],
             [
              0.4444444444444444,
              "#bd3786"
             ],
             [
              0.5555555555555556,
              "#d8576b"
             ],
             [
              0.6666666666666666,
              "#ed7953"
             ],
             [
              0.7777777777777778,
              "#fb9f3a"
             ],
             [
              0.8888888888888888,
              "#fdca26"
             ],
             [
              1,
              "#f0f921"
             ]
            ],
            "type": "contour"
           }
          ],
          "contourcarpet": [
           {
            "colorbar": {
             "outlinewidth": 0,
             "ticks": ""
            },
            "type": "contourcarpet"
           }
          ],
          "heatmap": [
           {
            "colorbar": {
             "outlinewidth": 0,
             "ticks": ""
            },
            "colorscale": [
             [
              0,
              "#0d0887"
             ],
             [
              0.1111111111111111,
              "#46039f"
             ],
             [
              0.2222222222222222,
              "#7201a8"
             ],
             [
              0.3333333333333333,
              "#9c179e"
             ],
             [
              0.4444444444444444,
              "#bd3786"
             ],
             [
              0.5555555555555556,
              "#d8576b"
             ],
             [
              0.6666666666666666,
              "#ed7953"
             ],
             [
              0.7777777777777778,
              "#fb9f3a"
             ],
             [
              0.8888888888888888,
              "#fdca26"
             ],
             [
              1,
              "#f0f921"
             ]
            ],
            "type": "heatmap"
           }
          ],
          "histogram": [
           {
            "marker": {
             "pattern": {
              "fillmode": "overlay",
              "size": 10,
              "solidity": 0.2
             }
            },
            "type": "histogram"
           }
          ],
          "histogram2d": [
           {
            "colorbar": {
             "outlinewidth": 0,
             "ticks": ""
            },
            "colorscale": [
             [
              0,
              "#0d0887"
             ],
             [
              0.1111111111111111,
              "#46039f"
             ],
             [
              0.2222222222222222,
              "#7201a8"
             ],
             [
              0.3333333333333333,
              "#9c179e"
             ],
             [
              0.4444444444444444,
              "#bd3786"
             ],
             [
              0.5555555555555556,
              "#d8576b"
             ],
             [
              0.6666666666666666,
              "#ed7953"
             ],
             [
              0.7777777777777778,
              "#fb9f3a"
             ],
             [
              0.8888888888888888,
              "#fdca26"
             ],
             [
              1,
              "#f0f921"
             ]
            ],
            "type": "histogram2d"
           }
          ],
          "histogram2dcontour": [
           {
            "colorbar": {
             "outlinewidth": 0,
             "ticks": ""
            },
            "colorscale": [
             [
              0,
              "#0d0887"
             ],
             [
              0.1111111111111111,
              "#46039f"
             ],
             [
              0.2222222222222222,
              "#7201a8"
             ],
             [
              0.3333333333333333,
              "#9c179e"
             ],
             [
              0.4444444444444444,
              "#bd3786"
             ],
             [
              0.5555555555555556,
              "#d8576b"
             ],
             [
              0.6666666666666666,
              "#ed7953"
             ],
             [
              0.7777777777777778,
              "#fb9f3a"
             ],
             [
              0.8888888888888888,
              "#fdca26"
             ],
             [
              1,
              "#f0f921"
             ]
            ],
            "type": "histogram2dcontour"
           }
          ],
          "mesh3d": [
           {
            "colorbar": {
             "outlinewidth": 0,
             "ticks": ""
            },
            "type": "mesh3d"
           }
          ],
          "parcoords": [
           {
            "line": {
             "colorbar": {
              "outlinewidth": 0,
              "ticks": ""
             }
            },
            "type": "parcoords"
           }
          ],
          "pie": [
           {
            "automargin": true,
            "type": "pie"
           }
          ],
          "scatter": [
           {
            "fillpattern": {
             "fillmode": "overlay",
             "size": 10,
             "solidity": 0.2
            },
            "type": "scatter"
           }
          ],
          "scatter3d": [
           {
            "line": {
             "colorbar": {
              "outlinewidth": 0,
              "ticks": ""
             }
            },
            "marker": {
             "colorbar": {
              "outlinewidth": 0,
              "ticks": ""
             }
            },
            "type": "scatter3d"
           }
          ],
          "scattercarpet": [
           {
            "marker": {
             "colorbar": {
              "outlinewidth": 0,
              "ticks": ""
             }
            },
            "type": "scattercarpet"
           }
          ],
          "scattergeo": [
           {
            "marker": {
             "colorbar": {
              "outlinewidth": 0,
              "ticks": ""
             }
            },
            "type": "scattergeo"
           }
          ],
          "scattergl": [
           {
            "marker": {
             "colorbar": {
              "outlinewidth": 0,
              "ticks": ""
             }
            },
            "type": "scattergl"
           }
          ],
          "scattermap": [
           {
            "marker": {
             "colorbar": {
              "outlinewidth": 0,
              "ticks": ""
             }
            },
            "type": "scattermap"
           }
          ],
          "scattermapbox": [
           {
            "marker": {
             "colorbar": {
              "outlinewidth": 0,
              "ticks": ""
             }
            },
            "type": "scattermapbox"
           }
          ],
          "scatterpolar": [
           {
            "marker": {
             "colorbar": {
              "outlinewidth": 0,
              "ticks": ""
             }
            },
            "type": "scatterpolar"
           }
          ],
          "scatterpolargl": [
           {
            "marker": {
             "colorbar": {
              "outlinewidth": 0,
              "ticks": ""
             }
            },
            "type": "scatterpolargl"
           }
          ],
          "scatterternary": [
           {
            "marker": {
             "colorbar": {
              "outlinewidth": 0,
              "ticks": ""
             }
            },
            "type": "scatterternary"
           }
          ],
          "surface": [
           {
            "colorbar": {
             "outlinewidth": 0,
             "ticks": ""
            },
            "colorscale": [
             [
              0,
              "#0d0887"
             ],
             [
              0.1111111111111111,
              "#46039f"
             ],
             [
              0.2222222222222222,
              "#7201a8"
             ],
             [
              0.3333333333333333,
              "#9c179e"
             ],
             [
              0.4444444444444444,
              "#bd3786"
             ],
             [
              0.5555555555555556,
              "#d8576b"
             ],
             [
              0.6666666666666666,
              "#ed7953"
             ],
             [
              0.7777777777777778,
              "#fb9f3a"
             ],
             [
              0.8888888888888888,
              "#fdca26"
             ],
             [
              1,
              "#f0f921"
             ]
            ],
            "type": "surface"
           }
          ],
          "table": [
           {
            "cells": {
             "fill": {
              "color": "#EBF0F8"
             },
             "line": {
              "color": "white"
             }
            },
            "header": {
             "fill": {
              "color": "#C8D4E3"
             },
             "line": {
              "color": "white"
             }
            },
            "type": "table"
           }
          ]
         },
         "layout": {
          "annotationdefaults": {
           "arrowcolor": "#2a3f5f",
           "arrowhead": 0,
           "arrowwidth": 1
          },
          "autotypenumbers": "strict",
          "coloraxis": {
           "colorbar": {
            "outlinewidth": 0,
            "ticks": ""
           }
          },
          "colorscale": {
           "diverging": [
            [
             0,
             "#8e0152"
            ],
            [
             0.1,
             "#c51b7d"
            ],
            [
             0.2,
             "#de77ae"
            ],
            [
             0.3,
             "#f1b6da"
            ],
            [
             0.4,
             "#fde0ef"
            ],
            [
             0.5,
             "#f7f7f7"
            ],
            [
             0.6,
             "#e6f5d0"
            ],
            [
             0.7,
             "#b8e186"
            ],
            [
             0.8,
             "#7fbc41"
            ],
            [
             0.9,
             "#4d9221"
            ],
            [
             1,
             "#276419"
            ]
           ],
           "sequential": [
            [
             0,
             "#0d0887"
            ],
            [
             0.1111111111111111,
             "#46039f"
            ],
            [
             0.2222222222222222,
             "#7201a8"
            ],
            [
             0.3333333333333333,
             "#9c179e"
            ],
            [
             0.4444444444444444,
             "#bd3786"
            ],
            [
             0.5555555555555556,
             "#d8576b"
            ],
            [
             0.6666666666666666,
             "#ed7953"
            ],
            [
             0.7777777777777778,
             "#fb9f3a"
            ],
            [
             0.8888888888888888,
             "#fdca26"
            ],
            [
             1,
             "#f0f921"
            ]
           ],
           "sequentialminus": [
            [
             0,
             "#0d0887"
            ],
            [
             0.1111111111111111,
             "#46039f"
            ],
            [
             0.2222222222222222,
             "#7201a8"
            ],
            [
             0.3333333333333333,
             "#9c179e"
            ],
            [
             0.4444444444444444,
             "#bd3786"
            ],
            [
             0.5555555555555556,
             "#d8576b"
            ],
            [
             0.6666666666666666,
             "#ed7953"
            ],
            [
             0.7777777777777778,
             "#fb9f3a"
            ],
            [
             0.8888888888888888,
             "#fdca26"
            ],
            [
             1,
             "#f0f921"
            ]
           ]
          },
          "colorway": [
           "#636efa",
           "#EF553B",
           "#00cc96",
           "#ab63fa",
           "#FFA15A",
           "#19d3f3",
           "#FF6692",
           "#B6E880",
           "#FF97FF",
           "#FECB52"
          ],
          "font": {
           "color": "#2a3f5f"
          },
          "geo": {
           "bgcolor": "white",
           "lakecolor": "white",
           "landcolor": "#E5ECF6",
           "showlakes": true,
           "showland": true,
           "subunitcolor": "white"
          },
          "hoverlabel": {
           "align": "left"
          },
          "hovermode": "closest",
          "mapbox": {
           "style": "light"
          },
          "paper_bgcolor": "white",
          "plot_bgcolor": "#E5ECF6",
          "polar": {
           "angularaxis": {
            "gridcolor": "white",
            "linecolor": "white",
            "ticks": ""
           },
           "bgcolor": "#E5ECF6",
           "radialaxis": {
            "gridcolor": "white",
            "linecolor": "white",
            "ticks": ""
           }
          },
          "scene": {
           "xaxis": {
            "backgroundcolor": "#E5ECF6",
            "gridcolor": "white",
            "gridwidth": 2,
            "linecolor": "white",
            "showbackground": true,
            "ticks": "",
            "zerolinecolor": "white"
           },
           "yaxis": {
            "backgroundcolor": "#E5ECF6",
            "gridcolor": "white",
            "gridwidth": 2,
            "linecolor": "white",
            "showbackground": true,
            "ticks": "",
            "zerolinecolor": "white"
           },
           "zaxis": {
            "backgroundcolor": "#E5ECF6",
            "gridcolor": "white",
            "gridwidth": 2,
            "linecolor": "white",
            "showbackground": true,
            "ticks": "",
            "zerolinecolor": "white"
           }
          },
          "shapedefaults": {
           "line": {
            "color": "#2a3f5f"
           }
          },
          "ternary": {
           "aaxis": {
            "gridcolor": "white",
            "linecolor": "white",
            "ticks": ""
           },
           "baxis": {
            "gridcolor": "white",
            "linecolor": "white",
            "ticks": ""
           },
           "bgcolor": "#E5ECF6",
           "caxis": {
            "gridcolor": "white",
            "linecolor": "white",
            "ticks": ""
           }
          },
          "title": {
           "x": 0.05
          },
          "xaxis": {
           "automargin": true,
           "gridcolor": "white",
           "linecolor": "white",
           "ticks": "",
           "title": {
            "standoff": 15
           },
           "zerolinecolor": "white",
           "zerolinewidth": 2
          },
          "yaxis": {
           "automargin": true,
           "gridcolor": "white",
           "linecolor": "white",
           "ticks": "",
           "title": {
            "standoff": 15
           },
           "zerolinecolor": "white",
           "zerolinewidth": 2
          }
         }
        },
        "title": {
         "text": "Load curve accelerations"
        },
        "xaxis": {
         "anchor": "y",
         "domain": [
          0,
          1
         ],
         "title": {
          "text": "Response time [s]"
         }
        },
        "yaxis": {
         "anchor": "x",
         "domain": [
          0,
          1
         ],
         "title": {
          "text": "Dispacement [m]"
         }
        }
       }
      }
     },
     "metadata": {},
     "output_type": "display_data"
    }
   ],
   "source": [
    "response_time = [0, 0.01, 0.02, 0.03, 0.04, 0.05, 0.06, 0.07, 0.08, 0.09, 0.1, 1]\n",
    "accelerations = [0, -1, 1.2, -0.6, 0.2, -0.3, 1, -1, 0.5, -0.5, 0, 0]\n",
    "import numpy as np\n",
    "frequency = 7\n",
    "amplitude = 5\n",
    "response_time = np.arange(0, 1.01, 0.01)\n",
    "accelerations = np.sin(2* response_time * frequency * np.pi) * amplitude\n",
    "\n",
    "if 1:\n",
    "    fig = px.line(y=accelerations, x=response_time, labels={'y':\"Dispacement [m]\", 'x':\"Response time [s]\"}, \n",
    "                    markers=True, title=f\"Load curve accelerations\")\n",
    "    fig.show()"
   ]
  },
  {
   "cell_type": "markdown",
   "metadata": {},
   "source": [
    "### Transient Analysis (Time Stepping)"
   ]
  },
  {
   "cell_type": "code",
   "execution_count": 16,
   "metadata": {},
   "outputs": [],
   "source": [
    "initial_time_step = 0.01 # second\n",
    "total_response_time = 1  # second"
   ]
  },
  {
   "cell_type": "code",
   "execution_count": null,
   "metadata": {},
   "outputs": [
    {
     "data": {
      "text/plain": [
       "<win32com.gen_py.LUSAS Modeller ActiveX Script Language 22.0.IFControl instance at 0x2307441010128>"
      ]
     },
     "execution_count": 17,
     "metadata": {},
     "output_type": "execute_result"
    }
   ],
   "source": [
    "# Create a new analysis without an initial loadcase\n",
    "transient_analysis = db.createAnalysisStructural(\"Transient\", False)\n",
    "\n",
    "# Add a loadcurve of non-varying loads (gravity)\n",
    "load_curve_const = db.createLoadCurveTable(\"Gravity\", 0.0, 1.0, transient_analysis.getName(), 0)\n",
    "load_curve_const.setTableData([0,1], [1,1])\n",
    "# Assign gravity body force\n",
    "gravity_load_attr.assignToAll(lusas.assignment().setAllDefaults().setLoadset(load_curve_const))\n",
    "\n",
    "# Add a load curve to vary the ground acceleration over time\n",
    "if 1:\n",
    "    # Load curve defined by acceleration data\n",
    "    load_curve = db.createLoadCurveTable(\"Support acceleration curve\", 0.0, 1.0, transient_analysis.getName(), 0)\n",
    "    load_curve.setTableData(response_time, accelerations)\n",
    "else:\n",
    "    # Load curve defined by sinusoidal variation\n",
    "    load_curve = db.createLoadCurveStandard(\"Support acceleration curve\", \"Sine\", transient_analysis.getName(), 0)\n",
    "    # O.5g at 7Hz, close to natural frequency of first mode\n",
    "    load_curve.setStandardLoadCurve(0.0, 5, 7.0, 0.0, 1.0, \"Sine\", False, 0.0, 0.0) \n",
    "\n",
    "# Add a loadcase to the analysis for the support motion\n",
    "first_loadcase = db.createLoadcase(\"Support acceleration\", transient_analysis.getName())\n",
    "\n",
    "# Add a transient control to the loadcase\n",
    "first_loadcase.setTransientControl(0)\n",
    "cntrl = first_loadcase.getTransientControl()\n",
    "# Set the transient control for an implicit analysis in the time domain with an initial time step\n",
    "cntrl.setTimeDomainDynamics(initial_time_step, False).setOutput().setConstants()\n",
    "# The total response time\n",
    "cntrl.setValue(\"TotalResponseTime\", total_response_time)"
   ]
  },
  {
   "cell_type": "code",
   "execution_count": 18,
   "metadata": {},
   "outputs": [
    {
     "data": {
      "text/plain": [
       "<win32com.gen_py.LUSAS Modeller ActiveX Script Language 22.0.IFObjectSet instance at 0x2307440953280>"
      ]
     },
     "execution_count": 18,
     "metadata": {},
     "output_type": "execute_result"
    }
   ],
   "source": [
    "# Assign the acceleration loading to the load curve\n",
    "assignment = lusas.assignment().setAllDefaults().setLoadset(load_curve)\n",
    "acceleration_load_attr.assignTo(beam_line.getStartPoint(), assignment)"
   ]
  },
  {
   "cell_type": "markdown",
   "metadata": {},
   "source": [
    "## Solve and open results"
   ]
  },
  {
   "cell_type": "code",
   "execution_count": 19,
   "metadata": {},
   "outputs": [],
   "source": [
    "for analysis in db.getAnalyses():\n",
    "    analysis.solve(True)\n",
    "db.openAllResults(False)"
   ]
  },
  {
   "cell_type": "markdown",
   "metadata": {},
   "source": [
    "### Set the display properties"
   ]
  },
  {
   "cell_type": "code",
   "execution_count": 20,
   "metadata": {},
   "outputs": [],
   "source": [
    "lusas.view().setIsometric()\n",
    "lusas.view().insertDiagramsLayer()\n",
    "lusas.view().diagrams().setResultsTransformNone()\n",
    "lusas.view().diagrams().setResults(\"Force/Moment - Thick 3D Beam\", \"My\")\n",
    "\n",
    "\n",
    "lusas.view().attributes().visualiseNone(\"Geometric\")\n",
    "lusas.view().setDeformationFactor(10.0, False, True)\n"
   ]
  },
  {
   "cell_type": "code",
   "execution_count": 21,
   "metadata": {},
   "outputs": [],
   "source": [
    "# Helper function provides correct type hinting\n",
    "def get_node(point:IFPoint) -> IFNode:\n",
    "    return point.getNodes()[0]"
   ]
  },
  {
   "cell_type": "code",
   "execution_count": 22,
   "metadata": {},
   "outputs": [
    {
     "data": {
      "application/vnd.plotly.v1+json": {
       "config": {
        "plotlyServerURL": "https://plot.ly"
       },
       "data": [
        {
         "hovertemplate": "Response time [s]=%{x}<br>Dispacement [m]=%{y}<extra></extra>",
         "legendgroup": "",
         "line": {
          "color": "#636efa",
          "dash": "solid"
         },
         "marker": {
          "symbol": "circle"
         },
         "mode": "lines+markers",
         "name": "",
         "orientation": "v",
         "showlegend": false,
         "type": "scatter",
         "x": {
          "bdata": "AAAAAAAAAAB7FK5H4XqEP3sUrkfhepQ/uB6F61G4nj97FK5H4XqkP5qZmZmZmak/uR6F61G4rj/sUbgeheuxP3sUrkfherQ/CtejcD0Ktz+ZmZmZmZm5Pyhcj8L1KLw/tx6F61G4vj+jcD0K16PAP+tRuB6F68E/MzMzMzMzwz97FK5H4XrEP8P1KFyPwsU/C9ejcD0Kxz9TuB6F61HIP5uZmZmZmck/43oUrkfhyj8rXI/C9SjMP3M9CtejcM0/ux6F61G4zj8BAAAAAADQP6VwPQrXo9A/SeF6FK5H0T/tUbgehevRP5HC9Shcj9I/NTMzMzMz0z/Zo3A9CtfTP30UrkfhetQ/IYXrUbge1T/F9Shcj8LVP2lmZmZmZtY/DdejcD0K1z+xR+F6FK7XP1W4HoXrUdg/+Shcj8L12D+dmZmZmZnZP0EK16NwPdo/5XoUrkfh2j+J61G4HoXbPy1cj8L1KNw/0czMzMzM3D91PQrXo3DdPxmuR+F6FN4/vR6F61G43j9hj8L1KFzfPwIAAAAAAOA/VLgehetR4D+mcD0K16PgP/goXI/C9eA/SuF6FK5H4T+cmZmZmZnhP+5RuB6F6+E/QArXo3A94j+SwvUoXI/iP+R6FK5H4eI/NjMzMzMz4z+I61G4HoXjP9qjcD0K1+M/LFyPwvUo5D9+FK5H4XrkP9DMzMzMzOQ/IoXrUbge5T90PQrXo3DlP8b1KFyPwuU/GK5H4XoU5j9qZmZmZmbmP7wehetRuOY/DtejcD0K5z9gj8L1KFznP7JH4XoUruc/BAAAAAAA6D9WuB6F61HoP6hwPQrXo+g/+ihcj8L16D9M4XoUrkfpP56ZmZmZmek/8FG4HoXr6T9CCtejcD3qP5TC9Shcj+o/5noUrkfh6j84MzMzMzPrP4rrUbgehes/3KNwPQrX6z8uXI/C9SjsP4AUrkfheuw/0szMzMzM7D8khetRuB7tP3Y9CtejcO0/yPUoXI/C7T8arkfhehTuP2xmZmZmZu4/vh6F61G47j8Q16NwPQrvP2KPwvUoXO8/sUfhehSu7z8AAAAAAADwPw==",
          "dtype": "f8"
         },
         "xaxis": "x",
         "y": {
          "bdata": "AAAAAAAAAACIK+ZeUmfiPngKAy2Iegs/+gDVSywMKT/qQjX0TDRBP/QuXbeog1M/6goD+rAoYz/PinN1w8BwP/LKSBM2mHo/TOmqWYZqgz+dULlQl1KKPxZta6MWrZA/ppH/9zzWkz/8ZuDdoDeWP93KGrI+eJc/wDR6VnFplz/dvmoraxeWP/1Z+vxbz5M/7WtutJIYkT9Q9sqoAUGNP5zWGy+6OIo/wZFtdldLij/4lwO2ODGOP2LB0YJ7+5I/eVklyDF1mD/YfDbKH9aePzILRYSNmaI/skFXp0pHpT8gJQrLYwSnP3XV95jdhqc/ThqCAOO7pj9RnbLQXM+kPxZD2r21J6I/15Lb9bernj+bv2bR0/eZP9BaaEG7XZc/hfhORQyylz8cLIP1A0abPzXnk2o26KA/pu7nmKQ5pT/Wn9oxUe+pPycWyUSZRa4/PoO8rq3AsD+Xd/X2I4qxP22WGGUnXbE/A/QxIQ9FsD/zQUks5/SsPzhlf8aztKg/3P9tJ/yrpD/e2nEbGbyhP6RuBO0ymqA/oB3Ua+WqoT+HUKuX3+ukP5OScF5c8Kk/vpnYZtrxrz96zEOQTfmyPwJPFq33dbU/9k94IfD/tj8+pKaraVK3Pyux/DhMYbY/yrRv/2ddtD/iCuUmLq2xP9I9NZXpta0/41dqg6v3qD9QJqobcSemP3wu1vaJ96U/gGeVPWCgqD/nixmHK9KtP8HHm98PYLI/gsN4x9ghtj+ghVDP8Yi5P1DWtmt7/Ls/KJLdl38NvT+F160yE428P7zxIKjnlro/IPVaJfuNtz/JhnWGrAu0P3xahWQTxLA/Hb6bKjPJrD/t2rFHEOaqP/2oQICSZqw/pPGtdQKZsD/51JaAC0i0P4KRRcgEpLg/xTw7WnDsvD+m3bwiIDDAPxxR5gAkMcE/vZDTRdhLwT+cjqZhRX3APyjvybO53L0/chIlQ1HauT9HWL8Epr21P46Ws6kOWrI/8C4J1jNksD9w9vdKYk+wP7nXB72FNrI/kW3k+GDVtT/tbZlKnZO6Py1bYUfxn78/FISrZkQLwj/a4frrz5XDPw==",
          "dtype": "f8"
         },
         "yaxis": "y"
        }
       ],
       "layout": {
        "legend": {
         "tracegroupgap": 0
        },
        "template": {
         "data": {
          "bar": [
           {
            "error_x": {
             "color": "#2a3f5f"
            },
            "error_y": {
             "color": "#2a3f5f"
            },
            "marker": {
             "line": {
              "color": "#E5ECF6",
              "width": 0.5
             },
             "pattern": {
              "fillmode": "overlay",
              "size": 10,
              "solidity": 0.2
             }
            },
            "type": "bar"
           }
          ],
          "barpolar": [
           {
            "marker": {
             "line": {
              "color": "#E5ECF6",
              "width": 0.5
             },
             "pattern": {
              "fillmode": "overlay",
              "size": 10,
              "solidity": 0.2
             }
            },
            "type": "barpolar"
           }
          ],
          "carpet": [
           {
            "aaxis": {
             "endlinecolor": "#2a3f5f",
             "gridcolor": "white",
             "linecolor": "white",
             "minorgridcolor": "white",
             "startlinecolor": "#2a3f5f"
            },
            "baxis": {
             "endlinecolor": "#2a3f5f",
             "gridcolor": "white",
             "linecolor": "white",
             "minorgridcolor": "white",
             "startlinecolor": "#2a3f5f"
            },
            "type": "carpet"
           }
          ],
          "choropleth": [
           {
            "colorbar": {
             "outlinewidth": 0,
             "ticks": ""
            },
            "type": "choropleth"
           }
          ],
          "contour": [
           {
            "colorbar": {
             "outlinewidth": 0,
             "ticks": ""
            },
            "colorscale": [
             [
              0,
              "#0d0887"
             ],
             [
              0.1111111111111111,
              "#46039f"
             ],
             [
              0.2222222222222222,
              "#7201a8"
             ],
             [
              0.3333333333333333,
              "#9c179e"
             ],
             [
              0.4444444444444444,
              "#bd3786"
             ],
             [
              0.5555555555555556,
              "#d8576b"
             ],
             [
              0.6666666666666666,
              "#ed7953"
             ],
             [
              0.7777777777777778,
              "#fb9f3a"
             ],
             [
              0.8888888888888888,
              "#fdca26"
             ],
             [
              1,
              "#f0f921"
             ]
            ],
            "type": "contour"
           }
          ],
          "contourcarpet": [
           {
            "colorbar": {
             "outlinewidth": 0,
             "ticks": ""
            },
            "type": "contourcarpet"
           }
          ],
          "heatmap": [
           {
            "colorbar": {
             "outlinewidth": 0,
             "ticks": ""
            },
            "colorscale": [
             [
              0,
              "#0d0887"
             ],
             [
              0.1111111111111111,
              "#46039f"
             ],
             [
              0.2222222222222222,
              "#7201a8"
             ],
             [
              0.3333333333333333,
              "#9c179e"
             ],
             [
              0.4444444444444444,
              "#bd3786"
             ],
             [
              0.5555555555555556,
              "#d8576b"
             ],
             [
              0.6666666666666666,
              "#ed7953"
             ],
             [
              0.7777777777777778,
              "#fb9f3a"
             ],
             [
              0.8888888888888888,
              "#fdca26"
             ],
             [
              1,
              "#f0f921"
             ]
            ],
            "type": "heatmap"
           }
          ],
          "histogram": [
           {
            "marker": {
             "pattern": {
              "fillmode": "overlay",
              "size": 10,
              "solidity": 0.2
             }
            },
            "type": "histogram"
           }
          ],
          "histogram2d": [
           {
            "colorbar": {
             "outlinewidth": 0,
             "ticks": ""
            },
            "colorscale": [
             [
              0,
              "#0d0887"
             ],
             [
              0.1111111111111111,
              "#46039f"
             ],
             [
              0.2222222222222222,
              "#7201a8"
             ],
             [
              0.3333333333333333,
              "#9c179e"
             ],
             [
              0.4444444444444444,
              "#bd3786"
             ],
             [
              0.5555555555555556,
              "#d8576b"
             ],
             [
              0.6666666666666666,
              "#ed7953"
             ],
             [
              0.7777777777777778,
              "#fb9f3a"
             ],
             [
              0.8888888888888888,
              "#fdca26"
             ],
             [
              1,
              "#f0f921"
             ]
            ],
            "type": "histogram2d"
           }
          ],
          "histogram2dcontour": [
           {
            "colorbar": {
             "outlinewidth": 0,
             "ticks": ""
            },
            "colorscale": [
             [
              0,
              "#0d0887"
             ],
             [
              0.1111111111111111,
              "#46039f"
             ],
             [
              0.2222222222222222,
              "#7201a8"
             ],
             [
              0.3333333333333333,
              "#9c179e"
             ],
             [
              0.4444444444444444,
              "#bd3786"
             ],
             [
              0.5555555555555556,
              "#d8576b"
             ],
             [
              0.6666666666666666,
              "#ed7953"
             ],
             [
              0.7777777777777778,
              "#fb9f3a"
             ],
             [
              0.8888888888888888,
              "#fdca26"
             ],
             [
              1,
              "#f0f921"
             ]
            ],
            "type": "histogram2dcontour"
           }
          ],
          "mesh3d": [
           {
            "colorbar": {
             "outlinewidth": 0,
             "ticks": ""
            },
            "type": "mesh3d"
           }
          ],
          "parcoords": [
           {
            "line": {
             "colorbar": {
              "outlinewidth": 0,
              "ticks": ""
             }
            },
            "type": "parcoords"
           }
          ],
          "pie": [
           {
            "automargin": true,
            "type": "pie"
           }
          ],
          "scatter": [
           {
            "fillpattern": {
             "fillmode": "overlay",
             "size": 10,
             "solidity": 0.2
            },
            "type": "scatter"
           }
          ],
          "scatter3d": [
           {
            "line": {
             "colorbar": {
              "outlinewidth": 0,
              "ticks": ""
             }
            },
            "marker": {
             "colorbar": {
              "outlinewidth": 0,
              "ticks": ""
             }
            },
            "type": "scatter3d"
           }
          ],
          "scattercarpet": [
           {
            "marker": {
             "colorbar": {
              "outlinewidth": 0,
              "ticks": ""
             }
            },
            "type": "scattercarpet"
           }
          ],
          "scattergeo": [
           {
            "marker": {
             "colorbar": {
              "outlinewidth": 0,
              "ticks": ""
             }
            },
            "type": "scattergeo"
           }
          ],
          "scattergl": [
           {
            "marker": {
             "colorbar": {
              "outlinewidth": 0,
              "ticks": ""
             }
            },
            "type": "scattergl"
           }
          ],
          "scattermap": [
           {
            "marker": {
             "colorbar": {
              "outlinewidth": 0,
              "ticks": ""
             }
            },
            "type": "scattermap"
           }
          ],
          "scattermapbox": [
           {
            "marker": {
             "colorbar": {
              "outlinewidth": 0,
              "ticks": ""
             }
            },
            "type": "scattermapbox"
           }
          ],
          "scatterpolar": [
           {
            "marker": {
             "colorbar": {
              "outlinewidth": 0,
              "ticks": ""
             }
            },
            "type": "scatterpolar"
           }
          ],
          "scatterpolargl": [
           {
            "marker": {
             "colorbar": {
              "outlinewidth": 0,
              "ticks": ""
             }
            },
            "type": "scatterpolargl"
           }
          ],
          "scatterternary": [
           {
            "marker": {
             "colorbar": {
              "outlinewidth": 0,
              "ticks": ""
             }
            },
            "type": "scatterternary"
           }
          ],
          "surface": [
           {
            "colorbar": {
             "outlinewidth": 0,
             "ticks": ""
            },
            "colorscale": [
             [
              0,
              "#0d0887"
             ],
             [
              0.1111111111111111,
              "#46039f"
             ],
             [
              0.2222222222222222,
              "#7201a8"
             ],
             [
              0.3333333333333333,
              "#9c179e"
             ],
             [
              0.4444444444444444,
              "#bd3786"
             ],
             [
              0.5555555555555556,
              "#d8576b"
             ],
             [
              0.6666666666666666,
              "#ed7953"
             ],
             [
              0.7777777777777778,
              "#fb9f3a"
             ],
             [
              0.8888888888888888,
              "#fdca26"
             ],
             [
              1,
              "#f0f921"
             ]
            ],
            "type": "surface"
           }
          ],
          "table": [
           {
            "cells": {
             "fill": {
              "color": "#EBF0F8"
             },
             "line": {
              "color": "white"
             }
            },
            "header": {
             "fill": {
              "color": "#C8D4E3"
             },
             "line": {
              "color": "white"
             }
            },
            "type": "table"
           }
          ]
         },
         "layout": {
          "annotationdefaults": {
           "arrowcolor": "#2a3f5f",
           "arrowhead": 0,
           "arrowwidth": 1
          },
          "autotypenumbers": "strict",
          "coloraxis": {
           "colorbar": {
            "outlinewidth": 0,
            "ticks": ""
           }
          },
          "colorscale": {
           "diverging": [
            [
             0,
             "#8e0152"
            ],
            [
             0.1,
             "#c51b7d"
            ],
            [
             0.2,
             "#de77ae"
            ],
            [
             0.3,
             "#f1b6da"
            ],
            [
             0.4,
             "#fde0ef"
            ],
            [
             0.5,
             "#f7f7f7"
            ],
            [
             0.6,
             "#e6f5d0"
            ],
            [
             0.7,
             "#b8e186"
            ],
            [
             0.8,
             "#7fbc41"
            ],
            [
             0.9,
             "#4d9221"
            ],
            [
             1,
             "#276419"
            ]
           ],
           "sequential": [
            [
             0,
             "#0d0887"
            ],
            [
             0.1111111111111111,
             "#46039f"
            ],
            [
             0.2222222222222222,
             "#7201a8"
            ],
            [
             0.3333333333333333,
             "#9c179e"
            ],
            [
             0.4444444444444444,
             "#bd3786"
            ],
            [
             0.5555555555555556,
             "#d8576b"
            ],
            [
             0.6666666666666666,
             "#ed7953"
            ],
            [
             0.7777777777777778,
             "#fb9f3a"
            ],
            [
             0.8888888888888888,
             "#fdca26"
            ],
            [
             1,
             "#f0f921"
            ]
           ],
           "sequentialminus": [
            [
             0,
             "#0d0887"
            ],
            [
             0.1111111111111111,
             "#46039f"
            ],
            [
             0.2222222222222222,
             "#7201a8"
            ],
            [
             0.3333333333333333,
             "#9c179e"
            ],
            [
             0.4444444444444444,
             "#bd3786"
            ],
            [
             0.5555555555555556,
             "#d8576b"
            ],
            [
             0.6666666666666666,
             "#ed7953"
            ],
            [
             0.7777777777777778,
             "#fb9f3a"
            ],
            [
             0.8888888888888888,
             "#fdca26"
            ],
            [
             1,
             "#f0f921"
            ]
           ]
          },
          "colorway": [
           "#636efa",
           "#EF553B",
           "#00cc96",
           "#ab63fa",
           "#FFA15A",
           "#19d3f3",
           "#FF6692",
           "#B6E880",
           "#FF97FF",
           "#FECB52"
          ],
          "font": {
           "color": "#2a3f5f"
          },
          "geo": {
           "bgcolor": "white",
           "lakecolor": "white",
           "landcolor": "#E5ECF6",
           "showlakes": true,
           "showland": true,
           "subunitcolor": "white"
          },
          "hoverlabel": {
           "align": "left"
          },
          "hovermode": "closest",
          "mapbox": {
           "style": "light"
          },
          "paper_bgcolor": "white",
          "plot_bgcolor": "#E5ECF6",
          "polar": {
           "angularaxis": {
            "gridcolor": "white",
            "linecolor": "white",
            "ticks": ""
           },
           "bgcolor": "#E5ECF6",
           "radialaxis": {
            "gridcolor": "white",
            "linecolor": "white",
            "ticks": ""
           }
          },
          "scene": {
           "xaxis": {
            "backgroundcolor": "#E5ECF6",
            "gridcolor": "white",
            "gridwidth": 2,
            "linecolor": "white",
            "showbackground": true,
            "ticks": "",
            "zerolinecolor": "white"
           },
           "yaxis": {
            "backgroundcolor": "#E5ECF6",
            "gridcolor": "white",
            "gridwidth": 2,
            "linecolor": "white",
            "showbackground": true,
            "ticks": "",
            "zerolinecolor": "white"
           },
           "zaxis": {
            "backgroundcolor": "#E5ECF6",
            "gridcolor": "white",
            "gridwidth": 2,
            "linecolor": "white",
            "showbackground": true,
            "ticks": "",
            "zerolinecolor": "white"
           }
          },
          "shapedefaults": {
           "line": {
            "color": "#2a3f5f"
           }
          },
          "ternary": {
           "aaxis": {
            "gridcolor": "white",
            "linecolor": "white",
            "ticks": ""
           },
           "baxis": {
            "gridcolor": "white",
            "linecolor": "white",
            "ticks": ""
           },
           "bgcolor": "#E5ECF6",
           "caxis": {
            "gridcolor": "white",
            "linecolor": "white",
            "ticks": ""
           }
          },
          "title": {
           "x": 0.05
          },
          "xaxis": {
           "automargin": true,
           "gridcolor": "white",
           "linecolor": "white",
           "ticks": "",
           "title": {
            "standoff": 15
           },
           "zerolinecolor": "white",
           "zerolinewidth": 2
          },
          "yaxis": {
           "automargin": true,
           "gridcolor": "white",
           "linecolor": "white",
           "ticks": "",
           "title": {
            "standoff": 15
           },
           "zerolinecolor": "white",
           "zerolinewidth": 2
          }
         }
        },
        "title": {
         "text": "Max top node horizontal displacement = 0.153 [m]"
        },
        "xaxis": {
         "anchor": "y",
         "domain": [
          0,
          1
         ],
         "title": {
          "text": "Response time [s]"
         }
        },
        "yaxis": {
         "anchor": "x",
         "domain": [
          0,
          1
         ],
         "title": {
          "text": "Dispacement [m]"
         }
        }
       }
      }
     },
     "metadata": {},
     "output_type": "display_data"
    },
    {
     "data": {
      "application/vnd.plotly.v1+json": {
       "config": {
        "plotlyServerURL": "https://plot.ly"
       },
       "data": [
        {
         "hovertemplate": "Response time [s]=%{x}<br>Reaction X [kN]=%{y}<extra></extra>",
         "legendgroup": "",
         "line": {
          "color": "#636efa",
          "dash": "solid"
         },
         "marker": {
          "symbol": "circle"
         },
         "mode": "lines+markers",
         "name": "",
         "orientation": "v",
         "showlegend": false,
         "type": "scatter",
         "x": {
          "bdata": "AAAAAAAAAAB7FK5H4XqEP3sUrkfhepQ/uB6F61G4nj97FK5H4XqkP5qZmZmZmak/uR6F61G4rj/sUbgeheuxP3sUrkfherQ/CtejcD0Ktz+ZmZmZmZm5Pyhcj8L1KLw/tx6F61G4vj+jcD0K16PAP+tRuB6F68E/MzMzMzMzwz97FK5H4XrEP8P1KFyPwsU/C9ejcD0Kxz9TuB6F61HIP5uZmZmZmck/43oUrkfhyj8rXI/C9SjMP3M9CtejcM0/ux6F61G4zj8BAAAAAADQP6VwPQrXo9A/SeF6FK5H0T/tUbgehevRP5HC9Shcj9I/NTMzMzMz0z/Zo3A9CtfTP30UrkfhetQ/IYXrUbge1T/F9Shcj8LVP2lmZmZmZtY/DdejcD0K1z+xR+F6FK7XP1W4HoXrUdg/+Shcj8L12D+dmZmZmZnZP0EK16NwPdo/5XoUrkfh2j+J61G4HoXbPy1cj8L1KNw/0czMzMzM3D91PQrXo3DdPxmuR+F6FN4/vR6F61G43j9hj8L1KFzfPwIAAAAAAOA/VLgehetR4D+mcD0K16PgP/goXI/C9eA/SuF6FK5H4T+cmZmZmZnhP+5RuB6F6+E/QArXo3A94j+SwvUoXI/iP+R6FK5H4eI/NjMzMzMz4z+I61G4HoXjP9qjcD0K1+M/LFyPwvUo5D9+FK5H4XrkP9DMzMzMzOQ/IoXrUbge5T90PQrXo3DlP8b1KFyPwuU/GK5H4XoU5j9qZmZmZmbmP7wehetRuOY/DtejcD0K5z9gj8L1KFznP7JH4XoUruc/BAAAAAAA6D9WuB6F61HoP6hwPQrXo+g/+ihcj8L16D9M4XoUrkfpP56ZmZmZmek/8FG4HoXr6T9CCtejcD3qP5TC9Shcj+o/5noUrkfh6j84MzMzMzPrP4rrUbgehes/3KNwPQrX6z8uXI/C9SjsP4AUrkfheuw/0szMzMzM7D8khetRuB7tP3Y9CtejcO0/yPUoXI/C7T8arkfhehTuP2xmZmZmZu4/vh6F61G47j8Q16NwPQrvP2KPwvUoXO8/sUfhehSu7z8AAAAAAADwPw==",
          "dtype": "f8"
         },
         "xaxis": "x",
         "y": {
          "bdata": "AAAAAAAAAABkXrXNJT/uP1AKzgWCmgFAhC+GgRIbD0BokIt604MXQIYSgIbjRR9AwNgaO5FnIkBKQ8Yavu0iQPRdLq6uOCBAillcQ0ulE0AAIwIRjCuyP6i8n+1E7BbAoq4Z9KDqJsCPPpo54twvwJroosQuDDLA4AM0uj8AMcD+v/D24gMpwJyXmwXc7hPAVOcF1Aa7EUB+IzFpVyAsQN87FRMjBzZANgFEybGbOkBaoUt0S5M6QOBvjRh5eDVAMLPUPtmaJ0DAMHJkBM/tvxwTlAoZ8izAu61YDDw9OsABaRfyoOpAwJPLcWf0v0HAw0qnlnR8PsALeaxxEUYzwAhrn4+13wzA8CFZuAV9K0DUzWL9+YU9QGsoBhHmTURAszWFTTdQRkBuhpzRDjVEQIqZEtf/TTxAOLO5LthbJEBwcvgGZpElwPw5uA0Lrz7AuUDyFQ/URsByPjDW+VBKwKfI7Eyd9kjA5oSxKgDNQsAgGCU1k44xwCiKyrhJ3RpAGmhA0yS9PkD7KABI6/NIQAVuRzypMU5Acx9XGhHwTUDbtZnRJgVIQLxytj27rTpAQKCdaMFo4L9MP3H6Qo48wN27BTUMEErAdA0gowCmUMCBaneJpDtRwHVcfqC0Jk3ARRFE5kojQsCAuoCUAY8awERGoYLeNzlAXzcSaSemSkBtymjnxglSQBVrE+8sfVNApR1v9cVPUUB8kbaTU59HQIi00lLmay9AnE3WV8WoM8DsCDhXTyBKwAH6LRCJ81LAT/Cte35oVcBPP4ljzOJTwHBLO9dFJE3AvFK6lwV2OcA4oPuJ2Q0qQExo9ssqBElA8gP1VP6fU0AvrlesCzZXQJzct3Qog1ZA3IDG7LmQUUCMZKwKAWhCQOCBHIS9QxHAWtanPf3DRsDck1sI28FTwFUAh+eUk1jAijlWvBDcWMB4Yfgly3ZUwPaeUU39PUjAEO3lO6IRFcCa076dq+1DQLUgSwd5mVNADiOYEum7WUAXjbZl+yRbQCioi4sje1dAKofMeHOuTkD8wdDH1qwwQBAMi0Yp9z/AdS7GiGndUsDs+EEhll9awA==",
          "dtype": "f8"
         },
         "yaxis": "y"
        }
       ],
       "layout": {
        "legend": {
         "tracegroupgap": 0
        },
        "template": {
         "data": {
          "bar": [
           {
            "error_x": {
             "color": "#2a3f5f"
            },
            "error_y": {
             "color": "#2a3f5f"
            },
            "marker": {
             "line": {
              "color": "#E5ECF6",
              "width": 0.5
             },
             "pattern": {
              "fillmode": "overlay",
              "size": 10,
              "solidity": 0.2
             }
            },
            "type": "bar"
           }
          ],
          "barpolar": [
           {
            "marker": {
             "line": {
              "color": "#E5ECF6",
              "width": 0.5
             },
             "pattern": {
              "fillmode": "overlay",
              "size": 10,
              "solidity": 0.2
             }
            },
            "type": "barpolar"
           }
          ],
          "carpet": [
           {
            "aaxis": {
             "endlinecolor": "#2a3f5f",
             "gridcolor": "white",
             "linecolor": "white",
             "minorgridcolor": "white",
             "startlinecolor": "#2a3f5f"
            },
            "baxis": {
             "endlinecolor": "#2a3f5f",
             "gridcolor": "white",
             "linecolor": "white",
             "minorgridcolor": "white",
             "startlinecolor": "#2a3f5f"
            },
            "type": "carpet"
           }
          ],
          "choropleth": [
           {
            "colorbar": {
             "outlinewidth": 0,
             "ticks": ""
            },
            "type": "choropleth"
           }
          ],
          "contour": [
           {
            "colorbar": {
             "outlinewidth": 0,
             "ticks": ""
            },
            "colorscale": [
             [
              0,
              "#0d0887"
             ],
             [
              0.1111111111111111,
              "#46039f"
             ],
             [
              0.2222222222222222,
              "#7201a8"
             ],
             [
              0.3333333333333333,
              "#9c179e"
             ],
             [
              0.4444444444444444,
              "#bd3786"
             ],
             [
              0.5555555555555556,
              "#d8576b"
             ],
             [
              0.6666666666666666,
              "#ed7953"
             ],
             [
              0.7777777777777778,
              "#fb9f3a"
             ],
             [
              0.8888888888888888,
              "#fdca26"
             ],
             [
              1,
              "#f0f921"
             ]
            ],
            "type": "contour"
           }
          ],
          "contourcarpet": [
           {
            "colorbar": {
             "outlinewidth": 0,
             "ticks": ""
            },
            "type": "contourcarpet"
           }
          ],
          "heatmap": [
           {
            "colorbar": {
             "outlinewidth": 0,
             "ticks": ""
            },
            "colorscale": [
             [
              0,
              "#0d0887"
             ],
             [
              0.1111111111111111,
              "#46039f"
             ],
             [
              0.2222222222222222,
              "#7201a8"
             ],
             [
              0.3333333333333333,
              "#9c179e"
             ],
             [
              0.4444444444444444,
              "#bd3786"
             ],
             [
              0.5555555555555556,
              "#d8576b"
             ],
             [
              0.6666666666666666,
              "#ed7953"
             ],
             [
              0.7777777777777778,
              "#fb9f3a"
             ],
             [
              0.8888888888888888,
              "#fdca26"
             ],
             [
              1,
              "#f0f921"
             ]
            ],
            "type": "heatmap"
           }
          ],
          "histogram": [
           {
            "marker": {
             "pattern": {
              "fillmode": "overlay",
              "size": 10,
              "solidity": 0.2
             }
            },
            "type": "histogram"
           }
          ],
          "histogram2d": [
           {
            "colorbar": {
             "outlinewidth": 0,
             "ticks": ""
            },
            "colorscale": [
             [
              0,
              "#0d0887"
             ],
             [
              0.1111111111111111,
              "#46039f"
             ],
             [
              0.2222222222222222,
              "#7201a8"
             ],
             [
              0.3333333333333333,
              "#9c179e"
             ],
             [
              0.4444444444444444,
              "#bd3786"
             ],
             [
              0.5555555555555556,
              "#d8576b"
             ],
             [
              0.6666666666666666,
              "#ed7953"
             ],
             [
              0.7777777777777778,
              "#fb9f3a"
             ],
             [
              0.8888888888888888,
              "#fdca26"
             ],
             [
              1,
              "#f0f921"
             ]
            ],
            "type": "histogram2d"
           }
          ],
          "histogram2dcontour": [
           {
            "colorbar": {
             "outlinewidth": 0,
             "ticks": ""
            },
            "colorscale": [
             [
              0,
              "#0d0887"
             ],
             [
              0.1111111111111111,
              "#46039f"
             ],
             [
              0.2222222222222222,
              "#7201a8"
             ],
             [
              0.3333333333333333,
              "#9c179e"
             ],
             [
              0.4444444444444444,
              "#bd3786"
             ],
             [
              0.5555555555555556,
              "#d8576b"
             ],
             [
              0.6666666666666666,
              "#ed7953"
             ],
             [
              0.7777777777777778,
              "#fb9f3a"
             ],
             [
              0.8888888888888888,
              "#fdca26"
             ],
             [
              1,
              "#f0f921"
             ]
            ],
            "type": "histogram2dcontour"
           }
          ],
          "mesh3d": [
           {
            "colorbar": {
             "outlinewidth": 0,
             "ticks": ""
            },
            "type": "mesh3d"
           }
          ],
          "parcoords": [
           {
            "line": {
             "colorbar": {
              "outlinewidth": 0,
              "ticks": ""
             }
            },
            "type": "parcoords"
           }
          ],
          "pie": [
           {
            "automargin": true,
            "type": "pie"
           }
          ],
          "scatter": [
           {
            "fillpattern": {
             "fillmode": "overlay",
             "size": 10,
             "solidity": 0.2
            },
            "type": "scatter"
           }
          ],
          "scatter3d": [
           {
            "line": {
             "colorbar": {
              "outlinewidth": 0,
              "ticks": ""
             }
            },
            "marker": {
             "colorbar": {
              "outlinewidth": 0,
              "ticks": ""
             }
            },
            "type": "scatter3d"
           }
          ],
          "scattercarpet": [
           {
            "marker": {
             "colorbar": {
              "outlinewidth": 0,
              "ticks": ""
             }
            },
            "type": "scattercarpet"
           }
          ],
          "scattergeo": [
           {
            "marker": {
             "colorbar": {
              "outlinewidth": 0,
              "ticks": ""
             }
            },
            "type": "scattergeo"
           }
          ],
          "scattergl": [
           {
            "marker": {
             "colorbar": {
              "outlinewidth": 0,
              "ticks": ""
             }
            },
            "type": "scattergl"
           }
          ],
          "scattermap": [
           {
            "marker": {
             "colorbar": {
              "outlinewidth": 0,
              "ticks": ""
             }
            },
            "type": "scattermap"
           }
          ],
          "scattermapbox": [
           {
            "marker": {
             "colorbar": {
              "outlinewidth": 0,
              "ticks": ""
             }
            },
            "type": "scattermapbox"
           }
          ],
          "scatterpolar": [
           {
            "marker": {
             "colorbar": {
              "outlinewidth": 0,
              "ticks": ""
             }
            },
            "type": "scatterpolar"
           }
          ],
          "scatterpolargl": [
           {
            "marker": {
             "colorbar": {
              "outlinewidth": 0,
              "ticks": ""
             }
            },
            "type": "scatterpolargl"
           }
          ],
          "scatterternary": [
           {
            "marker": {
             "colorbar": {
              "outlinewidth": 0,
              "ticks": ""
             }
            },
            "type": "scatterternary"
           }
          ],
          "surface": [
           {
            "colorbar": {
             "outlinewidth": 0,
             "ticks": ""
            },
            "colorscale": [
             [
              0,
              "#0d0887"
             ],
             [
              0.1111111111111111,
              "#46039f"
             ],
             [
              0.2222222222222222,
              "#7201a8"
             ],
             [
              0.3333333333333333,
              "#9c179e"
             ],
             [
              0.4444444444444444,
              "#bd3786"
             ],
             [
              0.5555555555555556,
              "#d8576b"
             ],
             [
              0.6666666666666666,
              "#ed7953"
             ],
             [
              0.7777777777777778,
              "#fb9f3a"
             ],
             [
              0.8888888888888888,
              "#fdca26"
             ],
             [
              1,
              "#f0f921"
             ]
            ],
            "type": "surface"
           }
          ],
          "table": [
           {
            "cells": {
             "fill": {
              "color": "#EBF0F8"
             },
             "line": {
              "color": "white"
             }
            },
            "header": {
             "fill": {
              "color": "#C8D4E3"
             },
             "line": {
              "color": "white"
             }
            },
            "type": "table"
           }
          ]
         },
         "layout": {
          "annotationdefaults": {
           "arrowcolor": "#2a3f5f",
           "arrowhead": 0,
           "arrowwidth": 1
          },
          "autotypenumbers": "strict",
          "coloraxis": {
           "colorbar": {
            "outlinewidth": 0,
            "ticks": ""
           }
          },
          "colorscale": {
           "diverging": [
            [
             0,
             "#8e0152"
            ],
            [
             0.1,
             "#c51b7d"
            ],
            [
             0.2,
             "#de77ae"
            ],
            [
             0.3,
             "#f1b6da"
            ],
            [
             0.4,
             "#fde0ef"
            ],
            [
             0.5,
             "#f7f7f7"
            ],
            [
             0.6,
             "#e6f5d0"
            ],
            [
             0.7,
             "#b8e186"
            ],
            [
             0.8,
             "#7fbc41"
            ],
            [
             0.9,
             "#4d9221"
            ],
            [
             1,
             "#276419"
            ]
           ],
           "sequential": [
            [
             0,
             "#0d0887"
            ],
            [
             0.1111111111111111,
             "#46039f"
            ],
            [
             0.2222222222222222,
             "#7201a8"
            ],
            [
             0.3333333333333333,
             "#9c179e"
            ],
            [
             0.4444444444444444,
             "#bd3786"
            ],
            [
             0.5555555555555556,
             "#d8576b"
            ],
            [
             0.6666666666666666,
             "#ed7953"
            ],
            [
             0.7777777777777778,
             "#fb9f3a"
            ],
            [
             0.8888888888888888,
             "#fdca26"
            ],
            [
             1,
             "#f0f921"
            ]
           ],
           "sequentialminus": [
            [
             0,
             "#0d0887"
            ],
            [
             0.1111111111111111,
             "#46039f"
            ],
            [
             0.2222222222222222,
             "#7201a8"
            ],
            [
             0.3333333333333333,
             "#9c179e"
            ],
            [
             0.4444444444444444,
             "#bd3786"
            ],
            [
             0.5555555555555556,
             "#d8576b"
            ],
            [
             0.6666666666666666,
             "#ed7953"
            ],
            [
             0.7777777777777778,
             "#fb9f3a"
            ],
            [
             0.8888888888888888,
             "#fdca26"
            ],
            [
             1,
             "#f0f921"
            ]
           ]
          },
          "colorway": [
           "#636efa",
           "#EF553B",
           "#00cc96",
           "#ab63fa",
           "#FFA15A",
           "#19d3f3",
           "#FF6692",
           "#B6E880",
           "#FF97FF",
           "#FECB52"
          ],
          "font": {
           "color": "#2a3f5f"
          },
          "geo": {
           "bgcolor": "white",
           "lakecolor": "white",
           "landcolor": "#E5ECF6",
           "showlakes": true,
           "showland": true,
           "subunitcolor": "white"
          },
          "hoverlabel": {
           "align": "left"
          },
          "hovermode": "closest",
          "mapbox": {
           "style": "light"
          },
          "paper_bgcolor": "white",
          "plot_bgcolor": "#E5ECF6",
          "polar": {
           "angularaxis": {
            "gridcolor": "white",
            "linecolor": "white",
            "ticks": ""
           },
           "bgcolor": "#E5ECF6",
           "radialaxis": {
            "gridcolor": "white",
            "linecolor": "white",
            "ticks": ""
           }
          },
          "scene": {
           "xaxis": {
            "backgroundcolor": "#E5ECF6",
            "gridcolor": "white",
            "gridwidth": 2,
            "linecolor": "white",
            "showbackground": true,
            "ticks": "",
            "zerolinecolor": "white"
           },
           "yaxis": {
            "backgroundcolor": "#E5ECF6",
            "gridcolor": "white",
            "gridwidth": 2,
            "linecolor": "white",
            "showbackground": true,
            "ticks": "",
            "zerolinecolor": "white"
           },
           "zaxis": {
            "backgroundcolor": "#E5ECF6",
            "gridcolor": "white",
            "gridwidth": 2,
            "linecolor": "white",
            "showbackground": true,
            "ticks": "",
            "zerolinecolor": "white"
           }
          },
          "shapedefaults": {
           "line": {
            "color": "#2a3f5f"
           }
          },
          "ternary": {
           "aaxis": {
            "gridcolor": "white",
            "linecolor": "white",
            "ticks": ""
           },
           "baxis": {
            "gridcolor": "white",
            "linecolor": "white",
            "ticks": ""
           },
           "bgcolor": "#E5ECF6",
           "caxis": {
            "gridcolor": "white",
            "linecolor": "white",
            "ticks": ""
           }
          },
          "title": {
           "x": 0.05
          },
          "xaxis": {
           "automargin": true,
           "gridcolor": "white",
           "linecolor": "white",
           "ticks": "",
           "title": {
            "standoff": 15
           },
           "zerolinecolor": "white",
           "zerolinewidth": 2
          },
          "yaxis": {
           "automargin": true,
           "gridcolor": "white",
           "linecolor": "white",
           "ticks": "",
           "title": {
            "standoff": 15
           },
           "zerolinecolor": "white",
           "zerolinewidth": 2
          }
         }
        },
        "title": {
         "text": "Max support node horizontal reaction = 108.58 [kN]"
        },
        "xaxis": {
         "anchor": "y",
         "domain": [
          0,
          1
         ],
         "title": {
          "text": "Response time [s]"
         }
        },
        "yaxis": {
         "anchor": "x",
         "domain": [
          0,
          1
         ],
         "title": {
          "text": "Reaction X [kN]"
         }
        }
       }
      }
     },
     "metadata": {},
     "output_type": "display_data"
    },
    {
     "data": {
      "application/vnd.plotly.v1+json": {
       "config": {
        "plotlyServerURL": "https://plot.ly"
       },
       "data": [
        {
         "hovertemplate": "Response time [s]=%{x}<br>Reaction My [kN.m]=%{y}<extra></extra>",
         "legendgroup": "",
         "line": {
          "color": "#636efa",
          "dash": "solid"
         },
         "marker": {
          "symbol": "circle"
         },
         "mode": "lines+markers",
         "name": "",
         "orientation": "v",
         "showlegend": false,
         "type": "scatter",
         "x": {
          "bdata": "AAAAAAAAAAB7FK5H4XqEP3sUrkfhepQ/uB6F61G4nj97FK5H4XqkP5qZmZmZmak/uR6F61G4rj/sUbgeheuxP3sUrkfherQ/CtejcD0Ktz+ZmZmZmZm5Pyhcj8L1KLw/tx6F61G4vj+jcD0K16PAP+tRuB6F68E/MzMzMzMzwz97FK5H4XrEP8P1KFyPwsU/C9ejcD0Kxz9TuB6F61HIP5uZmZmZmck/43oUrkfhyj8rXI/C9SjMP3M9CtejcM0/ux6F61G4zj8BAAAAAADQP6VwPQrXo9A/SeF6FK5H0T/tUbgehevRP5HC9Shcj9I/NTMzMzMz0z/Zo3A9CtfTP30UrkfhetQ/IYXrUbge1T/F9Shcj8LVP2lmZmZmZtY/DdejcD0K1z+xR+F6FK7XP1W4HoXrUdg/+Shcj8L12D+dmZmZmZnZP0EK16NwPdo/5XoUrkfh2j+J61G4HoXbPy1cj8L1KNw/0czMzMzM3D91PQrXo3DdPxmuR+F6FN4/vR6F61G43j9hj8L1KFzfPwIAAAAAAOA/VLgehetR4D+mcD0K16PgP/goXI/C9eA/SuF6FK5H4T+cmZmZmZnhP+5RuB6F6+E/QArXo3A94j+SwvUoXI/iP+R6FK5H4eI/NjMzMzMz4z+I61G4HoXjP9qjcD0K1+M/LFyPwvUo5D9+FK5H4XrkP9DMzMzMzOQ/IoXrUbge5T90PQrXo3DlP8b1KFyPwuU/GK5H4XoU5j9qZmZmZmbmP7wehetRuOY/DtejcD0K5z9gj8L1KFznP7JH4XoUruc/BAAAAAAA6D9WuB6F61HoP6hwPQrXo+g/+ihcj8L16D9M4XoUrkfpP56ZmZmZmek/8FG4HoXr6T9CCtejcD3qP5TC9Shcj+o/5noUrkfh6j84MzMzMzPrP4rrUbgehes/3KNwPQrX6z8uXI/C9SjsP4AUrkfheuw/0szMzMzM7D8khetRuB7tP3Y9CtejcO0/yPUoXI/C7T8arkfhehTuP2xmZmZmZu4/vh6F61G47j8Q16NwPQrvP2KPwvUoXO8/sUfhehSu7z8AAAAAAADwPw==",
          "dtype": "f8"
         },
         "xaxis": "x",
         "y": {
          "bdata": "AAAAAAAAAAD9awvLcR0BQH80VioUPxhAXBnxKbeJKUAtQXy1HQA2QD3GbQlJEkBA7bjwbElDREBfpRkEnQNGQDQ1t9+09UNA4X6TsF/GOkDt3lElc8cUQNF7zaZ19DXAWquRkqvzSMAPmD1/EDZSwKKFEfP6RlXAIEEziiecVMABlveMg5NPwCkyFSW85TzANpvjyKGDLkCxGCoDscZOQCu8R05KPFlA1fWwCu02X0D0+Wdqub9fQGjjPgrcM1pAlelHHDg2TkAYJtGibpXkP4BBkrqKAlDA+Gri2TRVXsAnoTJvye9jwE1bfm1eNmXAgysWtMh+YsDX0r/12xFYwM4gOgRzrzbAgngeMSn3TUDkcVKJpANhQHMQx5ek2GdAMPbReWyEakBqyWe3dEdoQG7oLLxhSmFAL7kVkOePSkAka1DGYT5HwNkdeI82wmHAc8eTXoriasCocILMS09vwOdhac1Z+G3Ac77fde7bZsB6oTfR0idWwCJ1QFaGlTpAaS1XSZ+yYUBvi41BL0xtQCM7175X5nFA+74gpiPicUDKOl2pCPRsQM1zf3DCZWBAoEzf25G0AUBrK2XqSndgwAiim757qW7AXmXYm/DCc8CF9f2t1Jd0wEsslDRgjHHAuioSbGonZsBz5UvSO15CwMQxK892zFxAVsD/g0pBb0C5mRgy11p1QGW4jNdEN3dAtJauT9++dEBRUG3tipJsQPU2OhYdyVNAGy07NDhXVsAQN8FhRbBuwJiNczS+dXbARGWXh9+DecAznzllu9N3wIpggEbYl3HASwhdiHWAX8AoSz+JMpxMQK628FV6Rm1AuGY9LI40d0BNZSmAcpl7QFbwf4+T5HpAZu/E2B4adUDhlJo2LmhmQNBkfQxMcDDA3fT0iAyqasA5lEYV4GJ3wAvGn/W+PX3ACu7RRQW0fcB5LVVGypJ4wORajUJCaG3A5qX9cIG3PcBxXRxbnDRnQAgwXiDVJXdAH1frF2yPfkA4D8uGVS6AQJvd0x6JG3xALvJ3xjl8ckBoCm8jOdRUQPtJNjvMlWLA7F69KH1NdsA3V9f+i1d/wA==",
          "dtype": "f8"
         },
         "yaxis": "y"
        }
       ],
       "layout": {
        "legend": {
         "tracegroupgap": 0
        },
        "template": {
         "data": {
          "bar": [
           {
            "error_x": {
             "color": "#2a3f5f"
            },
            "error_y": {
             "color": "#2a3f5f"
            },
            "marker": {
             "line": {
              "color": "#E5ECF6",
              "width": 0.5
             },
             "pattern": {
              "fillmode": "overlay",
              "size": 10,
              "solidity": 0.2
             }
            },
            "type": "bar"
           }
          ],
          "barpolar": [
           {
            "marker": {
             "line": {
              "color": "#E5ECF6",
              "width": 0.5
             },
             "pattern": {
              "fillmode": "overlay",
              "size": 10,
              "solidity": 0.2
             }
            },
            "type": "barpolar"
           }
          ],
          "carpet": [
           {
            "aaxis": {
             "endlinecolor": "#2a3f5f",
             "gridcolor": "white",
             "linecolor": "white",
             "minorgridcolor": "white",
             "startlinecolor": "#2a3f5f"
            },
            "baxis": {
             "endlinecolor": "#2a3f5f",
             "gridcolor": "white",
             "linecolor": "white",
             "minorgridcolor": "white",
             "startlinecolor": "#2a3f5f"
            },
            "type": "carpet"
           }
          ],
          "choropleth": [
           {
            "colorbar": {
             "outlinewidth": 0,
             "ticks": ""
            },
            "type": "choropleth"
           }
          ],
          "contour": [
           {
            "colorbar": {
             "outlinewidth": 0,
             "ticks": ""
            },
            "colorscale": [
             [
              0,
              "#0d0887"
             ],
             [
              0.1111111111111111,
              "#46039f"
             ],
             [
              0.2222222222222222,
              "#7201a8"
             ],
             [
              0.3333333333333333,
              "#9c179e"
             ],
             [
              0.4444444444444444,
              "#bd3786"
             ],
             [
              0.5555555555555556,
              "#d8576b"
             ],
             [
              0.6666666666666666,
              "#ed7953"
             ],
             [
              0.7777777777777778,
              "#fb9f3a"
             ],
             [
              0.8888888888888888,
              "#fdca26"
             ],
             [
              1,
              "#f0f921"
             ]
            ],
            "type": "contour"
           }
          ],
          "contourcarpet": [
           {
            "colorbar": {
             "outlinewidth": 0,
             "ticks": ""
            },
            "type": "contourcarpet"
           }
          ],
          "heatmap": [
           {
            "colorbar": {
             "outlinewidth": 0,
             "ticks": ""
            },
            "colorscale": [
             [
              0,
              "#0d0887"
             ],
             [
              0.1111111111111111,
              "#46039f"
             ],
             [
              0.2222222222222222,
              "#7201a8"
             ],
             [
              0.3333333333333333,
              "#9c179e"
             ],
             [
              0.4444444444444444,
              "#bd3786"
             ],
             [
              0.5555555555555556,
              "#d8576b"
             ],
             [
              0.6666666666666666,
              "#ed7953"
             ],
             [
              0.7777777777777778,
              "#fb9f3a"
             ],
             [
              0.8888888888888888,
              "#fdca26"
             ],
             [
              1,
              "#f0f921"
             ]
            ],
            "type": "heatmap"
           }
          ],
          "histogram": [
           {
            "marker": {
             "pattern": {
              "fillmode": "overlay",
              "size": 10,
              "solidity": 0.2
             }
            },
            "type": "histogram"
           }
          ],
          "histogram2d": [
           {
            "colorbar": {
             "outlinewidth": 0,
             "ticks": ""
            },
            "colorscale": [
             [
              0,
              "#0d0887"
             ],
             [
              0.1111111111111111,
              "#46039f"
             ],
             [
              0.2222222222222222,
              "#7201a8"
             ],
             [
              0.3333333333333333,
              "#9c179e"
             ],
             [
              0.4444444444444444,
              "#bd3786"
             ],
             [
              0.5555555555555556,
              "#d8576b"
             ],
             [
              0.6666666666666666,
              "#ed7953"
             ],
             [
              0.7777777777777778,
              "#fb9f3a"
             ],
             [
              0.8888888888888888,
              "#fdca26"
             ],
             [
              1,
              "#f0f921"
             ]
            ],
            "type": "histogram2d"
           }
          ],
          "histogram2dcontour": [
           {
            "colorbar": {
             "outlinewidth": 0,
             "ticks": ""
            },
            "colorscale": [
             [
              0,
              "#0d0887"
             ],
             [
              0.1111111111111111,
              "#46039f"
             ],
             [
              0.2222222222222222,
              "#7201a8"
             ],
             [
              0.3333333333333333,
              "#9c179e"
             ],
             [
              0.4444444444444444,
              "#bd3786"
             ],
             [
              0.5555555555555556,
              "#d8576b"
             ],
             [
              0.6666666666666666,
              "#ed7953"
             ],
             [
              0.7777777777777778,
              "#fb9f3a"
             ],
             [
              0.8888888888888888,
              "#fdca26"
             ],
             [
              1,
              "#f0f921"
             ]
            ],
            "type": "histogram2dcontour"
           }
          ],
          "mesh3d": [
           {
            "colorbar": {
             "outlinewidth": 0,
             "ticks": ""
            },
            "type": "mesh3d"
           }
          ],
          "parcoords": [
           {
            "line": {
             "colorbar": {
              "outlinewidth": 0,
              "ticks": ""
             }
            },
            "type": "parcoords"
           }
          ],
          "pie": [
           {
            "automargin": true,
            "type": "pie"
           }
          ],
          "scatter": [
           {
            "fillpattern": {
             "fillmode": "overlay",
             "size": 10,
             "solidity": 0.2
            },
            "type": "scatter"
           }
          ],
          "scatter3d": [
           {
            "line": {
             "colorbar": {
              "outlinewidth": 0,
              "ticks": ""
             }
            },
            "marker": {
             "colorbar": {
              "outlinewidth": 0,
              "ticks": ""
             }
            },
            "type": "scatter3d"
           }
          ],
          "scattercarpet": [
           {
            "marker": {
             "colorbar": {
              "outlinewidth": 0,
              "ticks": ""
             }
            },
            "type": "scattercarpet"
           }
          ],
          "scattergeo": [
           {
            "marker": {
             "colorbar": {
              "outlinewidth": 0,
              "ticks": ""
             }
            },
            "type": "scattergeo"
           }
          ],
          "scattergl": [
           {
            "marker": {
             "colorbar": {
              "outlinewidth": 0,
              "ticks": ""
             }
            },
            "type": "scattergl"
           }
          ],
          "scattermap": [
           {
            "marker": {
             "colorbar": {
              "outlinewidth": 0,
              "ticks": ""
             }
            },
            "type": "scattermap"
           }
          ],
          "scattermapbox": [
           {
            "marker": {
             "colorbar": {
              "outlinewidth": 0,
              "ticks": ""
             }
            },
            "type": "scattermapbox"
           }
          ],
          "scatterpolar": [
           {
            "marker": {
             "colorbar": {
              "outlinewidth": 0,
              "ticks": ""
             }
            },
            "type": "scatterpolar"
           }
          ],
          "scatterpolargl": [
           {
            "marker": {
             "colorbar": {
              "outlinewidth": 0,
              "ticks": ""
             }
            },
            "type": "scatterpolargl"
           }
          ],
          "scatterternary": [
           {
            "marker": {
             "colorbar": {
              "outlinewidth": 0,
              "ticks": ""
             }
            },
            "type": "scatterternary"
           }
          ],
          "surface": [
           {
            "colorbar": {
             "outlinewidth": 0,
             "ticks": ""
            },
            "colorscale": [
             [
              0,
              "#0d0887"
             ],
             [
              0.1111111111111111,
              "#46039f"
             ],
             [
              0.2222222222222222,
              "#7201a8"
             ],
             [
              0.3333333333333333,
              "#9c179e"
             ],
             [
              0.4444444444444444,
              "#bd3786"
             ],
             [
              0.5555555555555556,
              "#d8576b"
             ],
             [
              0.6666666666666666,
              "#ed7953"
             ],
             [
              0.7777777777777778,
              "#fb9f3a"
             ],
             [
              0.8888888888888888,
              "#fdca26"
             ],
             [
              1,
              "#f0f921"
             ]
            ],
            "type": "surface"
           }
          ],
          "table": [
           {
            "cells": {
             "fill": {
              "color": "#EBF0F8"
             },
             "line": {
              "color": "white"
             }
            },
            "header": {
             "fill": {
              "color": "#C8D4E3"
             },
             "line": {
              "color": "white"
             }
            },
            "type": "table"
           }
          ]
         },
         "layout": {
          "annotationdefaults": {
           "arrowcolor": "#2a3f5f",
           "arrowhead": 0,
           "arrowwidth": 1
          },
          "autotypenumbers": "strict",
          "coloraxis": {
           "colorbar": {
            "outlinewidth": 0,
            "ticks": ""
           }
          },
          "colorscale": {
           "diverging": [
            [
             0,
             "#8e0152"
            ],
            [
             0.1,
             "#c51b7d"
            ],
            [
             0.2,
             "#de77ae"
            ],
            [
             0.3,
             "#f1b6da"
            ],
            [
             0.4,
             "#fde0ef"
            ],
            [
             0.5,
             "#f7f7f7"
            ],
            [
             0.6,
             "#e6f5d0"
            ],
            [
             0.7,
             "#b8e186"
            ],
            [
             0.8,
             "#7fbc41"
            ],
            [
             0.9,
             "#4d9221"
            ],
            [
             1,
             "#276419"
            ]
           ],
           "sequential": [
            [
             0,
             "#0d0887"
            ],
            [
             0.1111111111111111,
             "#46039f"
            ],
            [
             0.2222222222222222,
             "#7201a8"
            ],
            [
             0.3333333333333333,
             "#9c179e"
            ],
            [
             0.4444444444444444,
             "#bd3786"
            ],
            [
             0.5555555555555556,
             "#d8576b"
            ],
            [
             0.6666666666666666,
             "#ed7953"
            ],
            [
             0.7777777777777778,
             "#fb9f3a"
            ],
            [
             0.8888888888888888,
             "#fdca26"
            ],
            [
             1,
             "#f0f921"
            ]
           ],
           "sequentialminus": [
            [
             0,
             "#0d0887"
            ],
            [
             0.1111111111111111,
             "#46039f"
            ],
            [
             0.2222222222222222,
             "#7201a8"
            ],
            [
             0.3333333333333333,
             "#9c179e"
            ],
            [
             0.4444444444444444,
             "#bd3786"
            ],
            [
             0.5555555555555556,
             "#d8576b"
            ],
            [
             0.6666666666666666,
             "#ed7953"
            ],
            [
             0.7777777777777778,
             "#fb9f3a"
            ],
            [
             0.8888888888888888,
             "#fdca26"
            ],
            [
             1,
             "#f0f921"
            ]
           ]
          },
          "colorway": [
           "#636efa",
           "#EF553B",
           "#00cc96",
           "#ab63fa",
           "#FFA15A",
           "#19d3f3",
           "#FF6692",
           "#B6E880",
           "#FF97FF",
           "#FECB52"
          ],
          "font": {
           "color": "#2a3f5f"
          },
          "geo": {
           "bgcolor": "white",
           "lakecolor": "white",
           "landcolor": "#E5ECF6",
           "showlakes": true,
           "showland": true,
           "subunitcolor": "white"
          },
          "hoverlabel": {
           "align": "left"
          },
          "hovermode": "closest",
          "mapbox": {
           "style": "light"
          },
          "paper_bgcolor": "white",
          "plot_bgcolor": "#E5ECF6",
          "polar": {
           "angularaxis": {
            "gridcolor": "white",
            "linecolor": "white",
            "ticks": ""
           },
           "bgcolor": "#E5ECF6",
           "radialaxis": {
            "gridcolor": "white",
            "linecolor": "white",
            "ticks": ""
           }
          },
          "scene": {
           "xaxis": {
            "backgroundcolor": "#E5ECF6",
            "gridcolor": "white",
            "gridwidth": 2,
            "linecolor": "white",
            "showbackground": true,
            "ticks": "",
            "zerolinecolor": "white"
           },
           "yaxis": {
            "backgroundcolor": "#E5ECF6",
            "gridcolor": "white",
            "gridwidth": 2,
            "linecolor": "white",
            "showbackground": true,
            "ticks": "",
            "zerolinecolor": "white"
           },
           "zaxis": {
            "backgroundcolor": "#E5ECF6",
            "gridcolor": "white",
            "gridwidth": 2,
            "linecolor": "white",
            "showbackground": true,
            "ticks": "",
            "zerolinecolor": "white"
           }
          },
          "shapedefaults": {
           "line": {
            "color": "#2a3f5f"
           }
          },
          "ternary": {
           "aaxis": {
            "gridcolor": "white",
            "linecolor": "white",
            "ticks": ""
           },
           "baxis": {
            "gridcolor": "white",
            "linecolor": "white",
            "ticks": ""
           },
           "bgcolor": "#E5ECF6",
           "caxis": {
            "gridcolor": "white",
            "linecolor": "white",
            "ticks": ""
           }
          },
          "title": {
           "x": 0.05
          },
          "xaxis": {
           "automargin": true,
           "gridcolor": "white",
           "linecolor": "white",
           "ticks": "",
           "title": {
            "standoff": 15
           },
           "zerolinecolor": "white",
           "zerolinewidth": 2
          },
          "yaxis": {
           "automargin": true,
           "gridcolor": "white",
           "linecolor": "white",
           "ticks": "",
           "title": {
            "standoff": 15
           },
           "zerolinecolor": "white",
           "zerolinewidth": 2
          }
         }
        },
        "title": {
         "text": "Max support node moment reaction = 517.79 [kN.m]"
        },
        "xaxis": {
         "anchor": "y",
         "domain": [
          0,
          1
         ],
         "title": {
          "text": "Response time [s]"
         }
        },
        "yaxis": {
         "anchor": "x",
         "domain": [
          0,
          1
         ],
         "title": {
          "text": "Reaction My [kN.m]"
         }
        }
       }
      }
     },
     "metadata": {},
     "output_type": "display_data"
    }
   ],
   "source": [
    "import plotly.express as px\n",
    "\n",
    "top_node = get_node(beam_line.getEndPoint())\n",
    "sup_node = get_node(beam_line.getStartPoint())\n",
    "\n",
    "response_time = []\n",
    "deflections = []\n",
    "reactions_fx = []\n",
    "reactions_my = []\n",
    "for results_loadset in first_loadcase.getResultsLoadcases():\n",
    "    lusas.view().setActiveLoadset(results_loadset)\n",
    "\n",
    "    response_time.append(results_loadset.getValue(\"RSPTIM\"))\n",
    "    \n",
    "    deflections.append(top_node.getResults(\"Displacement\", \"DX\")[0]) # returns tuple because of \"out\" (reference) arguments\n",
    "    reactions_fx.append(sup_node.getResults(\"Reaction\", \"FX\")[0])     # returns tuple because of \"out\" (reference) arguments\n",
    "    reactions_my.append(sup_node.getResults(\"Reaction\", \"MY\")[0])     # returns tuple because of \"out\" (reference) arguments\n",
    "\n",
    "# Plot graphs\n",
    "px.line(y=deflections, x=response_time, labels={'y':\"Dispacement [m]\", 'x':\"Response time [s]\"}, \n",
    "        markers=True, title=f\"Max top node horizontal displacement = {max([abs(d) for d in deflections]):.3f} [m]\").show()\n",
    "\n",
    "px.line(y=reactions_fx, x=response_time, labels={'y':\"Reaction X [kN]\", 'x':\"Response time [s]\"}, \n",
    "        markers=True, title=f\"Max support node horizontal reaction = {max([abs(r) for r in reactions_fx]):.2f} [kN]\").show()\n",
    "\n",
    "px.line(y=reactions_my, x=response_time, labels={'y':\"Reaction My [kN.m]\", 'x':\"Response time [s]\"}, \n",
    "        markers=True, title=f\"Max support node moment reaction = {max([abs(r) for r in reactions_my]):.2f} [kN.m]\").show()"
   ]
  }
 ],
 "metadata": {
  "kernelspec": {
   "display_name": "Python 3",
   "language": "python",
   "name": "python3"
  },
  "language_info": {
   "codemirror_mode": {
    "name": "ipython",
    "version": 3
   },
   "file_extension": ".py",
   "mimetype": "text/x-python",
   "name": "python",
   "nbconvert_exporter": "python",
   "pygments_lexer": "ipython3",
   "version": "3.13.2"
  }
 },
 "nbformat": 4,
 "nbformat_minor": 2
}
