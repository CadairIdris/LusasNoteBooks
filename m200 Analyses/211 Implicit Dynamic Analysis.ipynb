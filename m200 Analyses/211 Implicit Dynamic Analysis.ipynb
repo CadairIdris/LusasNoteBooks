{
 "cells": [
  {
   "cell_type": "markdown",
   "metadata": {},
   "source": [
    "# #211 Implicit Dynamic Analysis (Time Stepping)\n",
    "<i>Dynamic analysis of a cantilever beam loaded with a point load on the end.</i>\n",
    "***"
   ]
  },
  {
   "cell_type": "code",
   "execution_count": null,
   "metadata": {},
   "outputs": [],
   "source": [
    "# Input Params\n",
    "length = 5.0 #m\t\t     Length of beam\n",
    "point_load = 10.0  #kN   Concentrated load on cantilever tip\n",
    "material_mass_damping_constant = 2 #%"
   ]
  },
  {
   "cell_type": "code",
   "execution_count": null,
   "metadata": {},
   "outputs": [],
   "source": [
    "import sys; sys.path.append('../') # Reference modules in parent directory\n",
    "from LPI import *\n",
    "lusas = get_lusas_modeller()\n",
    "\n",
    "if lusas.existsDatabase():\n",
    "    raise Exception(\"This script will create a new model. Please save and close the current model and try again\")\n",
    "\n",
    "# Create a new model\n",
    "lusas.newProject(\"Structural\", \"Cantilever_Implicit_Dynamic_Analysis\")\n",
    "# Reference to the model database for convenience\n",
    "db = lusas.database() \n",
    "# 3D model with Z vertical\n",
    "db.setAnalysisCategory(\"3D\")\n",
    "db.setVerticalDir(\"Z\")\n",
    "# Set the unit system\n",
    "db.setModelUnits(\"kN,m,t,s,C\")"
   ]
  },
  {
   "cell_type": "code",
   "execution_count": null,
   "metadata": {},
   "outputs": [],
   "source": [
    "''' Create a line'''\n",
    "# Get the geometry data object\n",
    "geom_data = lusas.geometryData().setAllDefaults()\n",
    "# Set the coordinates of the first point\n",
    "geom_data.addCoords(0, 0, 0)\n",
    "# Set the coordinates of the second point\n",
    "geom_data.addCoords(length, 0, 0)\n",
    "# Create the line object from the geometry data\n",
    "objs = db.createLine(geom_data) # Modeller returns an object set containing all the lines created, in this case we only have 1.\n",
    "# Get the lines\n",
    "lines = objs.getObjects(\"Lines\")\n",
    "# Get the single line from the returned array\n",
    "beam_line:IFLine = lines[0]"
   ]
  },
  {
   "cell_type": "code",
   "execution_count": null,
   "metadata": {},
   "outputs": [],
   "source": [
    "''' Create a mesh attribute'''\n",
    "mesh_attr = db.createMeshLine(\"Beam Mesh\")\n",
    "# Set the element type and size of elements BMI21 = 2Node thick beam elements, 1 = 1m length\n",
    "mesh_attr.setSize(\"BMI21\", 1)"
   ]
  },
  {
   "cell_type": "code",
   "execution_count": null,
   "metadata": {},
   "outputs": [],
   "source": [
    "''' Create a geometric attribute'''\n",
    "geom_attr = db.createGeometricLine(\"Beam Geometry\")\n",
    "# Set the beam section properties for the section library\n",
    "geom_attr.setFromLibrary(\"UK Sections\", \"Universal Beams (BS4)\", \"406x178x74kg UB\", 0, 0, 0)"
   ]
  },
  {
   "cell_type": "code",
   "execution_count": null,
   "metadata": {},
   "outputs": [],
   "source": [
    "''' Create a material attribute'''\n",
    "material_attr = db.createIsotropicMaterial(\"Steel\", 209_000_000, 0.3, 7.8, material_mass_damping_constant)"
   ]
  },
  {
   "cell_type": "code",
   "execution_count": null,
   "metadata": {},
   "outputs": [],
   "source": [
    "''' Create a support attribute (fixed) '''\n",
    "fixed_support_attr = db.createSupportStructural(\"Fixed\")\n",
    "# set the freedoms F=Free, R=Restrained\n",
    "fixed_support_attr.setStructural(\"R\", \"R\", \"R\", \"R\", \"R\", \"R\", \"F\", \"F\", \"F\")"
   ]
  },
  {
   "cell_type": "code",
   "execution_count": null,
   "metadata": {},
   "outputs": [],
   "source": [
    "''' Create a point load attribute '''\n",
    "load_attr = db.createLoadingConcentrated(\"Point load\")\n",
    "load_attr.setConcentrated(0.0, 0.0, -point_load)"
   ]
  },
  {
   "cell_type": "code",
   "execution_count": null,
   "metadata": {},
   "outputs": [],
   "source": [
    "''' Assign the attributes to the geometry '''\n",
    "# get the assignment object\n",
    "assignment = lusas.assignment().setAllDefaults()\n",
    "# Assign the mesh\n",
    "mesh_attr.assignTo(beam_line, assignment)\n",
    "# Assign the geometry\n",
    "geom_attr.assignTo(beam_line, assignment)\n",
    "# Assign the material\n",
    "material_attr.assignTo(beam_line, assignment)\n",
    "# Assign the loading\n",
    "load_attr.assignTo(beam_line.getEndPoint(), assignment)\n",
    "\n",
    "''' Assign the supports to the points of the line '''\n",
    "# Assign the fixed support to the first point\n",
    "fixed_support_attr.assignTo(beam_line.getStartPoint(), assignment)\n"
   ]
  },
  {
   "cell_type": "markdown",
   "metadata": {},
   "source": [
    "Create an eigenvalue frequency analysis"
   ]
  },
  {
   "cell_type": "code",
   "execution_count": null,
   "metadata": {},
   "outputs": [],
   "source": [
    "# Create a new analysis without an initial loadcase\n",
    "analysis = db.createAnalysisStructural(\"Eigenvalue Frequency Analysis\", False)\n",
    "\n",
    "# Create a loadcase in the analysis\n",
    "first_loadcase = db.createLoadcase(\"Eig Freq\", analysis.getName())\n",
    "# Set the loadcase controls to be a frequency analysis searching for the minimum 5 natural frequencies\n",
    "first_loadcase.setEigenvalueMaxMinControl(\"Frequency\", \"Minimum\", 5)\n",
    "# Set the eiegenvector normalisation procedure to mass for a frequency analysis - This just scales the resulting eigenvector and is the default setting\n",
    "first_loadcase.getEigenvalueControl().setValue(\"NormalisationProcedure\", \"GlobalMass\")"
   ]
  },
  {
   "cell_type": "markdown",
   "metadata": {},
   "source": [
    "Create a second eigenvalue frequency analysis with the point load considered as mass"
   ]
  },
  {
   "cell_type": "code",
   "execution_count": null,
   "metadata": {},
   "outputs": [],
   "source": [
    "# Create a new analysis without an initial loadcase\n",
    "analysis = db.createAnalysisStructural(\"Eigenvalue Frequency Analysis With Load\", False)\n",
    "# Create a loadcase in the analysis\n",
    "first_loadcase = db.createLoadcase(\"Eig Freq with load\", analysis.getName())\n",
    "# Set the loadcase controls to be a frequency analysis searching for the minimum 5 natural frequencies\n",
    "first_loadcase.setEigenvalueMaxMinControl(\"Frequency\", \"Minimum\", 5)\n",
    "# Set the eiegenvector normalisation procedure to mass for a frequency analysis - This just scales the resulting eigenvector and is the default setting\n",
    "first_loadcase.getEigenvalueControl().setValue(\"NormalisationProcedure\", \"GlobalMass\")\n",
    "# Consider the assigned loading as mass in the eigenvalue analysis\n",
    "first_loadcase.getEigenvalueControl().setValue(\"loadToMass\", True)\n",
    "# Create the assignment data to target the new loadcase\n",
    "assignment = lusas.assignment().setAllDefaults().setLoadset(first_loadcase)\n",
    "# Assign the loading\n",
    "load_attr.assignTo(beam_line.getEndPoint(), assignment)"
   ]
  },
  {
   "cell_type": "code",
   "execution_count": null,
   "metadata": {},
   "outputs": [],
   "source": [
    "# Create a new analysis without an initial loadcase\n",
    "analysis = db.createAnalysisStructural(\"Implicit Dynamic Analysis\", False)\n",
    "# Create a loadcase in the analysis\n",
    "first_loadcase = db.createLoadcase(\"Dynamic point load\", analysis.getName())\n",
    "# Create the assignment data to target the new loadcase\n",
    "assignment = lusas.assignment().setAllDefaults().setLoadset(first_loadcase)\n",
    "# Assign the loading\n",
    "load_attr.assignTo(beam_line.getEndPoint(), assignment)\n",
    "\n",
    "# Add a transient control to the loadcase\n",
    "first_loadcase.setTransientControl(0)\n",
    "cntrl = first_loadcase.getTransientControl()\n",
    "# Set the transient control for an implicit analysis in the time domain with an initial time step of 0.01 seconds\n",
    "cntrl.setTimeDomainDynamics(0.01, False).setOutput().setConstants()\n",
    "# The total response is 3 seconds\n",
    "cntrl.setValue(\"TotalResponseTime\", 3.0)"
   ]
  },
  {
   "cell_type": "markdown",
   "metadata": {},
   "source": [
    "# Solve and open results"
   ]
  },
  {
   "cell_type": "code",
   "execution_count": null,
   "metadata": {},
   "outputs": [],
   "source": [
    "db.getAnalysis(\"Analysis 1\").solve(False)\n",
    "db.getAnalysis(\"Eigenvalue Frequency Analysis\").solve(False)\n",
    "db.getAnalysis(\"Eigenvalue Frequency Analysis With Load\").solve(False)\n",
    "db.getAnalysis(\"Implicit Dynamic Analysis\").solve(False)\n",
    "db.openAllResults(False)"
   ]
  },
  {
   "cell_type": "markdown",
   "metadata": {},
   "source": [
    "# Create Graphs"
   ]
  },
  {
   "cell_type": "code",
   "execution_count": null,
   "metadata": {},
   "outputs": [],
   "source": [
    "# Create a graph wizard for easy editing\n",
    "graphWizardObj = db.createGraphWizard(\"Interactive Modal Dynamics\")\n",
    "graphWizardObj.setPointExcitation(\"Force\", 2, 0.0, \"DZ\", 1.0)\n",
    "# Specify the eigen modes to use, loadcase ID and mode along with the damping ratios\n",
    "mass_damping = [material_mass_damping_constant]\n",
    "stiff_damping = [0]\n",
    "graphWizardObj.setResultsModalDamping(\"Specified values\", \"2D1:1;2D1:1;2D1:2;2D1:3;2D1:4;2D1:5\", mass_damping, stiff_damping)\n",
    "# Specify the results entity to consider. Here Displacement in the global Z axis, with a total time or 3 seconds and step of 0.01\n",
    "graph_data = graphWizardObj.createResultsModalTime(\"Displacement\", \"Displacement\", 2, \"DZ\", 0.0, 3.0, 0.01, 1)\n",
    "\n",
    "\n",
    "# Create a new graph and relate it with the Graph Wizard\n",
    "graph = lusas.newGraph()\n",
    "graph.setSourceAttrName(\"Interactive Modal Dynamics\")\n",
    "graph.setTitle(\"Interactive Modal Dynamics\")\n",
    "graph.setPointExcitation(\"Force\", 2, 0.0, \"DZ\", 1.0)\n",
    "# Specify the eigen modes to use, loadcase ID and mode along with the damping ratios\n",
    "mass_damping = [material_mass_damping_constant]\n",
    "stiff_damping = [0]\n",
    "graph.setResultsModalDamping(\"Specified values\", \"2D1:1;2D1:1;2D1:2;2D1:3;2D1:4;2D1:5\", mass_damping, stiff_damping)\n",
    "# Specify the results entity to consider. Here Displacement in the global Z axis, with a total time or 3 seconds and step of 0.01\n",
    "graph_data = graph.createResultsModalTime(\"Displacement\", \"Displacement\", 2, \"DZ\", 0.0, 3.0, 0.01, 1)\n",
    "# Add the data to a curve in the graph\n",
    "curve = graph.addCurve(graph_data[0], graph_data[1], 1.0, 1.0)\n",
    "curve.setCurveColour(255, 0, 0)\n",
    "curve.hideSymbols()"
   ]
  },
  {
   "cell_type": "code",
   "execution_count": null,
   "metadata": {},
   "outputs": [],
   "source": [
    "# Create a graph wizard for easy editing\n",
    "graphWizardObj = db.createGraphWizard(\"Implicit Dynamic\")\n",
    "# Set the loadcases from the implicit dynamic analysis\n",
    "graphWizardObj.setHistoryDump(\"Implicit Dynamic Analysis\", \"None\")\n",
    "# X values will be the response time\n",
    "graphXDataset = graphWizardObj.createNamedVariableHistory(\"Response time\", False)\n",
    "# Y values will be the displacement over time\n",
    "graphYDataset = graphWizardObj.createResultsHistoryNodal(\"Displacement\", \"DZ\", \"Node\", \"2\")\n",
    "\n",
    "\n",
    "# Create a new graph\n",
    "graph = lusas.newGraph()\n",
    "graph.setSourceAttrName(\"Implicit Dynamic\")\n",
    "\n",
    "graph.setTitle(\"Implicit Dynamic\")\n",
    "# Set the loadcases from the implicit dynamic analysis\n",
    "graph.setHistoryDump(\"Implicit Dynamic Analysis\", \"None\")\n",
    "# X values will be the response time\n",
    "graphXDataset = graph.createNamedVariableHistory(\"Response time\", False)\n",
    "# Y values will be the displacement over time\n",
    "graphYDataset = graph.createResultsHistoryNodal(\"Displacement\", \"DZ\", \"Node\", \"2\")\n",
    "# Add the values to graph as curve 1\n",
    "curve = graph.addCurve(graphXDataset, graphYDataset, 1.0, 1.0)\n",
    "curve.setCurveColour(255, 0, 0)\n",
    "curve.hideSymbols()\n"
   ]
  }
 ],
 "metadata": {
  "kernelspec": {
   "display_name": "Python 3",
   "language": "python",
   "name": "python3"
  },
  "language_info": {
   "codemirror_mode": {
    "name": "ipython",
    "version": 3
   },
   "file_extension": ".py",
   "mimetype": "text/x-python",
   "name": "python",
   "nbconvert_exporter": "python",
   "pygments_lexer": "ipython3",
   "version": "3.12.3"
  }
 },
 "nbformat": 4,
 "nbformat_minor": 2
}
