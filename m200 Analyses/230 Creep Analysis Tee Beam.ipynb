{
 "cells": [
  {
   "cell_type": "markdown",
   "metadata": {},
   "source": [
    "# #230 Creep analysis of Tee beam\n",
    "<i>Multispan tee beam from example #60 extended to demonstrate addition of creep and shrinkage analysis</i>\n",
    "***"
   ]
  },
  {
   "cell_type": "code",
   "execution_count": null,
   "metadata": {},
   "outputs": [],
   "source": [
    "# Input Params\n",
    "spans_lengths = [8, 15, 8] #m\n",
    "tee_section_width = 1.0\n",
    "tee_section_depth = 1.0\n",
    "tee_section_thk_flange = 0.2\n",
    "tee_section_thk_web = 0.2\n",
    "\n",
    "loading = 10\n",
    "\n",
    "# Tendon profile variables\n",
    "minz = -tee_section_depth*0.6\n",
    "maxz =  tee_section_depth*0.2\n",
    "\n",
    "Ec_shrt = 35e6\n",
    "phi = 2\n",
    "Ec_long = Ec_shrt/(1+phi)\n",
    "approx_stress_at_transfer = 5e3 #kpa"
   ]
  },
  {
   "cell_type": "markdown",
   "metadata": {},
   "source": [
    "#### Connect to LUSAS and create a new model database"
   ]
  },
  {
   "cell_type": "code",
   "execution_count": null,
   "metadata": {},
   "outputs": [],
   "source": [
    "import sys; sys.path.append('../') # Reference modules in parent directory\n",
    "from LPI import *\n",
    "lusas = get_lusas_modeller()\n",
    "\n",
    "from m100_Tools_And_Helpers import Helpers\n",
    "Helpers.initialise(lusas)\n",
    "\n",
    "if lusas.existsDatabase():\n",
    "    raise Exception(\"This script will create a new model. Please save and close the current model and try again\")\n",
    "\n",
    "# Create a new model\n",
    "lusas.newProject(\"Structural\", \"Creep Analysis of Tee Beam.mdl\")\n",
    "# Get the database\n",
    "db = lusas.getDatabase()\n",
    "# Set the analysis category & vertical axis\n",
    "db.setAnalysisCategory(\"3D\")\n",
    "db.setVerticalDir(\"Z\")\n",
    "# Set the unit system\n",
    "db.setModelUnits(\"kN,m,t,s,C\")\n",
    "db.setTimescaleUnits(\"Days\") # specify age of concrete in days"
   ]
  },
  {
   "cell_type": "markdown",
   "metadata": {},
   "source": [
    "# Create model attributes"
   ]
  },
  {
   "cell_type": "code",
   "execution_count": null,
   "metadata": {},
   "outputs": [],
   "source": [
    "# Beam mesh with BMI21 (2 Noded Linear) Elements at 1m lengths\n",
    "mesh_attr = db.createMeshLine(\"Beam Mesh\").setSize(\"BMI21\", 1)"
   ]
  },
  {
   "cell_type": "code",
   "execution_count": null,
   "metadata": {},
   "outputs": [],
   "source": [
    "# Create a parametric section utility\n",
    "util = db.createParametricSection('Tee Section Utility')\n",
    "util.setType(\"T\")\n",
    "util.setDimensions(['B', 'D', 'tf', 'tw', 'r'], [tee_section_width, tee_section_depth, tee_section_thk_flange, tee_section_thk_web, 0.0])\n",
    "\n",
    "# Now create the attribute which is based on the utility. The attribute provides additional transformations such as eccentricity and tapering\n",
    "geom_section_attr = db.createGeometricLine('Tee Section')\n",
    "geom_section_attr.setFromLibrary(\"Utilities\", \"\", util.getName(), 0, 0, 0)"
   ]
  },
  {
   "cell_type": "code",
   "execution_count": null,
   "metadata": {},
   "outputs": [],
   "source": [
    "def add_rebar(attr:IFReinforcementSection, row:int, faceIndex:int, layerIndex:int, barsCount:int, start:int, end:int, gap:float, dia:float):\n",
    "    attr.setReinforcementValue(\"rebar\", row, \"faceIndex\", faceIndex)\n",
    "    attr.setReinforcementValue(\"rebar\", row, \"layerIndex\", layerIndex)\n",
    "    attr.setReinforcementValue(\"rebar\", row, \"barsCount\", barsCount)\n",
    "    attr.setReinforcementValue(\"rebar\", row, \"start\", start)\n",
    "    attr.setReinforcementValue(\"rebar\", row, \"end\", end)\n",
    "    attr.setReinforcementValue(\"rebar\", row, \"gap\", gap)\n",
    "    attr.setReinforcementValue(\"rebar\", row, \"barsDiameter\", dia)\n",
    "    attr.setReinforcementValue(\"rebar\", row, \"altBarsDiameter\", -1.0)\n",
    "    attr.setReinforcementValue(\"rebar\", row, \"endBarsDiameter\", -1.0)\n",
    "    attr.setReinforcementValue(\"rebar\", row, \"materialRef\", \"R1\")"
   ]
  },
  {
   "cell_type": "code",
   "execution_count": null,
   "metadata": {},
   "outputs": [],
   "source": [
    "# Create a Reinforcement attribute\n",
    "attr = db.createReinforcementSection(\"RnfSct1\")\n",
    "attr.setGeometricAttribute(geom_section_attr)\n",
    "#attr.setValue(\"calculateCrackWidths\", True)\n",
    "attr.setReinforcementValue(\"face\", 0, \"faceIndex\", \"All\")\n",
    "attr.setReinforcementValue(\"face\", 0, \"actualCover\", 0.03)\n",
    "attr.setReinforcementValue(\"face\", 0, \"linkAllowance\", 0.0)\n",
    "attr.setReinforcementValue(\"face\", 0, \"allowableCrackWidth\", 0.0)\n",
    "attr.setReinforcementValue(\"face\", 0, \"nominalCover\", -1.0)\n",
    "\n",
    "add_rebar(attr, row=0, faceIndex=1, layerIndex=1, barsCount=3, start=-1, end=-1, gap=0.0, dia=0.025)\n",
    "add_rebar(attr, row=1, faceIndex=1, layerIndex=2, barsCount=2, start=-1, end=-1, gap=0.0, dia=0.025)\n",
    "add_rebar(attr, row=2, faceIndex=5, layerIndex=1, barsCount=10, start=-1, end=-1, gap=0.0, dia=0.025)\n",
    "\n",
    "\n",
    "rebar_line_attr = db.createReinforcementLine(\"RnfLn2\")\n",
    "rebar_line_attr.setSegmentValue(\"Longitudinal\", 0, \"reinforcementSection\", \"RnfSct1\")\n",
    "rebar_line_attr.setSegmentValue(\"Longitudinal\", 0, \"stretch\", True)\n",
    "\n",
    "# Link the geometric attribute with the associated reinforcement\n",
    "geom_section_attr.setReinforcement(rebar_line_attr)\n"
   ]
  },
  {
   "cell_type": "markdown",
   "metadata": {},
   "source": [
    "# Materials"
   ]
  },
  {
   "cell_type": "markdown",
   "metadata": {},
   "source": [
    "A linear \"RC Concrete\" material will be created for the linear analysis which can also then be used for design checking.\n",
    "For the creep analysis a creep material will be defined according to the eurocode creep and shrinkage equations"
   ]
  },
  {
   "cell_type": "code",
   "execution_count": null,
   "metadata": {},
   "outputs": [],
   "source": [
    "concrete_values = {\"Material\":\"Concrete\", \"Region\":\"Europe\", \"Standard\":\"EN1992-1-1:2004/2014\", \"Grade\":\"fck = 35MPa Quartzite\",\n",
    "                   \"Advanced define\":1, \"RH\":70.0, \"K1\":1.0, \"IntFac\":0.5, \"Aggregate type\":0.0, \"Cement type\":1.0}\n",
    "\n",
    "concrete_material_attr = db.createIsotropicMaterial(\"Concrete\", Ec_shrt, 0.2, 2.54842, 10.0E-6)\n",
    "concrete_material_attr.setDefinitionMenuID(1, None, True)\n",
    "concrete_material_attr.setDescription(\"fck = 35MPa Quartzite | Concrete | EN1992-1-1:2004/2014\")\n",
    "\n",
    "for name, value in concrete_values.items():\n",
    "    concrete_material_attr.createValue(name)\n",
    "    concrete_material_attr.setValue(name, value)\n",
    "\n",
    "# Values that must be defined with dimensionality\n",
    "concrete_material_attr.createValue(\"fck\", 0, 1, -2, 0, 0, 0, 0)\n",
    "concrete_material_attr.setValue(\"fck\", 35.0E3)"
   ]
  },
  {
   "cell_type": "code",
   "execution_count": null,
   "metadata": {},
   "outputs": [],
   "source": [
    "rebar_values = {\"Material\":\"Steel - Reinforcing bar\", \"Region\":\"Europe\", \"Standard\":\"EN1992-1-1:2004/2014\", \"Grade\":\"500B\", \"epu\":0.05}\n",
    "\n",
    "rebar_material_attr = db.createIsotropicMaterial(\"Rebar\", 200.0E6, 0.3, 7.85, 12.0E-6)\n",
    "rebar_material_attr.setDefinitionMenuID(1, None, True)\n",
    "rebar_material_attr.setDescription(\"500B | Steel - Reinforcing bar | EN1992-1-1:2004/2014\")\n",
    "\n",
    "for name, value in rebar_values.items():\n",
    "    rebar_material_attr.createValue(name)\n",
    "    rebar_material_attr.setValue(name, value)\n",
    "\n",
    "# Values that must be defined with dimensionality\n",
    "rebar_material_attr.createValue(\"fy\", 0, 1, -2, 0, 0, 0, 0)\n",
    "rebar_material_attr.setValue(\"fy\", 500.0e3)"
   ]
  },
  {
   "cell_type": "code",
   "execution_count": null,
   "metadata": {},
   "outputs": [],
   "source": [
    "material_attr = db.createCompoundMaterial(\"Mat3\").setReinforcedConcrete()\n",
    "material_attr.addMaterial(concrete_material_attr, \"S1\")\n",
    "material_attr.addMaterial(rebar_material_attr, \"R1\")\n",
    "material_attr.setActiveMaterial(0)\n",
    "\n",
    "material_attr.setDefinitionMenuID(214, None , True)\n",
    "material_attr.setDescription(\"RC Material - EN1992\")\n",
    "material_attr.createValue(\"Design code\")\n",
    "material_attr.setValue(\"Design code\", \"EN1992\")"
   ]
  },
  {
   "cell_type": "code",
   "execution_count": null,
   "metadata": {},
   "outputs": [],
   "source": [
    "# Creep & shrinkage material using the Eurocode creep equations\n",
    "creep_material_attr = db.createIsotropicMaterial(\"Iso4\", 36.75E6, 0.2, 2.5484)\n",
    "creep_material_attr.addEurocodePlasticMaterial86(0.0, 0.0)\n",
    "creep_material_attr.addEurocode2ConcreteCreep(48.0E3, \"class N\", 70.0, 0.0, False, 1.0, True, 1, 0.0)\n",
    "creep_material_attr.addEurocode2ConcreteShrinkage(True)"
   ]
  },
  {
   "cell_type": "code",
   "execution_count": null,
   "metadata": {},
   "outputs": [],
   "source": [
    "# Support attributes\n",
    "fixedSupport = db.createSupportStructural(\"Fixed\").setStructural(\"R\", \"R\", \"R\", \"F\", \"F\", \"F\", \"F\", \"F\", \"F\")\n",
    "pinnedSupport = db.createSupportStructural(\"Pinned\").setStructural(\"F\", \"R\", \"R\", \"F\", \"F\", \"F\", \"F\", \"F\", \"F\")"
   ]
  },
  {
   "cell_type": "markdown",
   "metadata": {},
   "source": [
    "#### Create the model geometry"
   ]
  },
  {
   "cell_type": "code",
   "execution_count": null,
   "metadata": {},
   "outputs": [],
   "source": [
    "''' Create deck lines'''\n",
    "deck_lines:list[IFLine] = []\n",
    "\n",
    "cur_x = 0\n",
    "for length in spans_lengths:\n",
    "    deck_lines.append(Helpers.create_line([cur_x, 0, 0], [cur_x + length, 0, 0]))\n",
    "    # Increment the current x position\n",
    "    cur_x += length\n"
   ]
  },
  {
   "cell_type": "markdown",
   "metadata": {},
   "source": [
    "#### Assign attributes to the model geometry"
   ]
  },
  {
   "cell_type": "code",
   "execution_count": null,
   "metadata": {},
   "outputs": [],
   "source": [
    "''' Assign the attributes to the deck_lines '''\n",
    "# get the assignment object\n",
    "assignment = lusas.assignment().setAllDefaults()\n",
    "# Assign the mesh\n",
    "mesh_attr.assignTo(deck_lines, assignment)\n",
    "# Assign the geometry\n",
    "geom_section_attr.assignTo(deck_lines, assignment)\n",
    "# Assign the material\n",
    "material_attr.assignTo(deck_lines, assignment)\n",
    "\n",
    "''' Assign the supports to the points of the line '''\n",
    "# Assign the fixed support to the first point\n",
    "fixedSupport.assignTo(deck_lines[0].getStartPoint(), assignment)\n",
    "# Assign the pinned support to the remaining points\n",
    "pinnedSupport.assignTo([p.getEndPoint() for p in deck_lines], assignment)"
   ]
  },
  {
   "cell_type": "code",
   "execution_count": null,
   "metadata": {},
   "outputs": [],
   "source": [
    "db.updateMesh()"
   ]
  },
  {
   "cell_type": "markdown",
   "metadata": {},
   "source": [
    "# Loading"
   ]
  },
  {
   "cell_type": "markdown",
   "metadata": {},
   "source": [
    "#### Create load cases and load attributes and assign the attributes to the model geometry"
   ]
  },
  {
   "cell_type": "code",
   "execution_count": null,
   "metadata": {},
   "outputs": [],
   "source": [
    "db.getAnalysis(\"Analysis 1\").setName(\"00 Base Analysis\")"
   ]
  },
  {
   "cell_type": "code",
   "execution_count": null,
   "metadata": {},
   "outputs": [],
   "source": [
    "# Get the automatically created loadcase in analysis 1 and add automatic gravity to it\n",
    "# NOTE: getLoadset and setName function returns a reference to the IFLoadset baseclass and must be cast to IFLoadcase to access the addGravity function\n",
    "gravity_loadcase = win32.CastTo(db.getLoadset(\"Loadcase 1\", 0).setName(\"Gravity\"), \"IFLoadcase\")\n",
    "gravity_loadcase.addGravity(True)"
   ]
  },
  {
   "cell_type": "code",
   "execution_count": null,
   "metadata": {},
   "outputs": [],
   "source": [
    "''' Create a beam load attribute '''\n",
    "loadAttr = db.createLoadingBeamDistributed(\"UDL\")\n",
    "loadAttr.setBeamDistributed(\"Parametric\", \"Global\", \"beam\")\n",
    "loadAttr.addRow(0.0, 0.0, 0.0, -loading, 0.0, 0.0, 0.0, 1.0, 0.0, 0.0, -loading, 0.0, 0.0, 0.0)\n",
    "# Assign the loading\n",
    "loadAttr.assignTo(deck_lines, assignment)\n",
    "\n",
    "# Create a loadcase for the Parapet loads to be applied to the entire deck surface\n",
    "live_load_loadcases = []\n",
    "for i in range(len(deck_lines)):\n",
    "    live_load_loadcases.append(db.createLoadcase(f\"Live Load {i+1}\"))\n",
    "\n",
    "# Assign live loads to each span\n",
    "for i, loadcase in enumerate(live_load_loadcases):\n",
    "    assign = lusas.assignment().setAllDefaults().setLoadset(loadcase)\n",
    "    loadAttr.assignTo(deck_lines[i], assign)"
   ]
  },
  {
   "cell_type": "markdown",
   "metadata": {},
   "source": [
    "### Creep Analysis"
   ]
  },
  {
   "cell_type": "code",
   "execution_count": null,
   "metadata": {},
   "outputs": [],
   "source": [
    "def days_to_seconds(days:float)->float:\n",
    "    return days * 24 * 60 *60"
   ]
  },
  {
   "cell_type": "code",
   "execution_count": null,
   "metadata": {},
   "outputs": [],
   "source": [
    "creep_analysis = db.createAnalysisStructural(f\"Creep Analysis\", False)\n",
    "# Add loadcase \n",
    "creep_loadcase = db.createLoadcase(f\"Creep & Shrinkage\", creep_analysis.getName())\n",
    "creep_loadcase.addGravity(True) \n",
    "\n",
    "# Assign creep material\n",
    "assignment = lusas.assignment().setAllDefaults().setLoadset(creep_loadcase)\n",
    "creep_material_attr.assignTo(deck_lines, assignment)\n",
    "# Assign 40% of the loading\n",
    "assignment.setLoadFactor(0.4)\n",
    "loadAttr.assignTo(deck_lines, assignment)\n",
    "\n",
    "# Transient control with 50 time steps\n",
    "control = creep_loadcase.setTransientControl(50).getTransientControl()\n",
    "# Set default constant and output options\n",
    "control.setConstants().setOutput()\n",
    "# Loading is nonlinear\n",
    "control.setNonlinearManual()\n",
    "# Creep analysis is conducted in the time domain\n",
    "# LPI inputs expected in seconds, regardless of global settings\n",
    "control.setTimeDomainViscous(days_to_seconds(7))\n",
    "control.setValue(\"TotalResponseTime\", days_to_seconds(100*365))\n",
    "# We want the time increments to increase later in the analysis\n",
    "control.setValue(\"CEBFIP\", 3.0)"
   ]
  },
  {
   "cell_type": "code",
   "execution_count": null,
   "metadata": {},
   "outputs": [],
   "source": [
    "age_attr = db.createAge(\"Age - 7 days\")\n",
    "age_attr.setAgeType(\"specified\")\n",
    "age_attr.setAgeAtActivation(7)\n",
    "age_attr.setAgeAtShrinkage(3)\n",
    "age_attr.assignTo(deck_lines, assignment)"
   ]
  },
  {
   "cell_type": "markdown",
   "metadata": {},
   "source": [
    "<H2>Solving the Analysis</H2>"
   ]
  },
  {
   "cell_type": "code",
   "execution_count": null,
   "metadata": {},
   "outputs": [],
   "source": [
    "db.save()\n",
    "\n",
    "for analysis in db.getAnalyses():\n",
    "    analysis.solve(True)\n",
    "\n",
    "db.openAllResults(True, True)"
   ]
  },
  {
   "cell_type": "code",
   "execution_count": null,
   "metadata": {},
   "outputs": [],
   "source": [
    "# Display diagrams of bending moment\n",
    "lusas.view().insertDiagramsLayer()\n",
    "lusas.view().diagrams().setResults(\"Force/Moment - Thick 3D Beam\", \"My\")\n",
    "# Scale the view\n",
    "lusas.view().setFromAxis(\"+X+Z\")\n",
    "lusas.view().setScaledToFit(True)"
   ]
  },
  {
   "cell_type": "markdown",
   "metadata": {},
   "source": [
    "### Plot graphs of deflection over time"
   ]
  },
  {
   "cell_type": "code",
   "execution_count": null,
   "metadata": {},
   "outputs": [],
   "source": [
    "# Create a graph of deflections for node 25\n",
    "\n",
    "graphWizardObj = db.createGraphWizard(\"Creep Deflections Midspan\")\n",
    "graphWizardObj.setAutoUpdate(1)\n",
    "# Loadcases to consider\n",
    "graphWizardObj.setHistoryDump(creep_analysis.getName(), \"None\")\n",
    "# X Axis\n",
    "graphWizardObj.createNamedVariableHistory(\"Response time\", False)\n",
    "# Y Axis\n",
    "graphWizardObj.createResultsHistoryNodal(\"Displacement\", \"RSLT\", \"Node\", 25)"
   ]
  }
 ],
 "metadata": {
  "kernelspec": {
   "display_name": "Python 3",
   "language": "python",
   "name": "python3"
  },
  "language_info": {
   "codemirror_mode": {
    "name": "ipython",
    "version": 3
   },
   "file_extension": ".py",
   "mimetype": "text/x-python",
   "name": "python",
   "nbconvert_exporter": "python",
   "pygments_lexer": "ipython3",
   "version": "3.13.2"
  }
 },
 "nbformat": 4,
 "nbformat_minor": 2
}
