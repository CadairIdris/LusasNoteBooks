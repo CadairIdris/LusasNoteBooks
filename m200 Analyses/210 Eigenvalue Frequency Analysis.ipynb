{
 "cells": [
  {
   "cell_type": "markdown",
   "metadata": {},
   "source": [
    "# #210 Eigenvalue Frequency Analysis\n",
    "<i>Determine natural frequencies of a cantilever beam with and without additional loading to mass conversion</i>\n",
    "***"
   ]
  },
  {
   "cell_type": "code",
   "execution_count": null,
   "metadata": {},
   "outputs": [],
   "source": [
    "# Input Params\n",
    "length = 5.0 #m\t\t     Length of beam\n",
    "point_load = 10.0  #kN   Concentrated load on cantilever tip"
   ]
  },
  {
   "cell_type": "code",
   "execution_count": null,
   "metadata": {},
   "outputs": [],
   "source": [
    "import sys; sys.path.append('../') # Reference modules in parent directory\n",
    "from LPI_22_0 import *\n",
    "lusas = get_lusas_modeller()\n",
    "\n",
    "if lusas.existsDatabase():\n",
    "    raise Exception(\"This script will create a new model. Please save and close the current model and try again\")\n",
    "\n",
    "# Create a new model\n",
    "lusas.newProject(\"Structural\", \"Cantilever_Frequency_Analysis\")\n",
    "# Reference to the model database for convenience\n",
    "db = lusas.database() \n",
    "# 3D model with Z vertical\n",
    "db.setAnalysisCategory(\"3D\")\n",
    "db.setVerticalDir(\"Z\")\n",
    "# Set the unit system\n",
    "db.setModelUnits(\"kN,m,t,s,C\")"
   ]
  },
  {
   "cell_type": "code",
   "execution_count": null,
   "metadata": {},
   "outputs": [],
   "source": [
    "''' Create a line'''\n",
    "# Get the geometry data object\n",
    "geomData = lusas.geometryData().setAllDefaults()\n",
    "# Set the coordinates of the first point\n",
    "geomData.addCoords(0, 0, 0)\n",
    "# Set the coordinates of the second point\n",
    "geomData.addCoords(length, 0, 0)\n",
    "# Create the line object from the geomety data\n",
    "objs = db.createLine(geomData) # Modeller returns an object set containing all the lines created, in this case we only have 1.\n",
    "# Get the lines\n",
    "lines = objs.getObjects(\"Lines\")\n",
    "# Get the single line from the returned array\n",
    "beamLine = lines[0]"
   ]
  },
  {
   "cell_type": "code",
   "execution_count": null,
   "metadata": {},
   "outputs": [],
   "source": [
    "''' Create a mesh attribute'''\n",
    "meshAttr = db.createMeshLine(\"Beam Mesh\")\n",
    "# Set the element type and size of elements BMI21 = 2Node thick beam elements, 1 = 1m length\n",
    "meshAttr.setSize(\"BMI21\", 1)"
   ]
  },
  {
   "cell_type": "code",
   "execution_count": null,
   "metadata": {},
   "outputs": [],
   "source": [
    "''' Create a geometric attribute'''\n",
    "geomAttr = db.createGeometricLine(\"Beam Geometry\")\n",
    "# Set the beam section properties for the section library\n",
    "geomAttr.setFromLibrary(\"UK Sections\", \"Universal Beams (BS4)\", \"406x178x74kg UB\", 0, 0, 0)"
   ]
  },
  {
   "cell_type": "code",
   "execution_count": null,
   "metadata": {},
   "outputs": [],
   "source": [
    "''' Create a material attribute'''\n",
    "materialAttr = db.createIsotropicMaterial(\"Steel\", 209_000_000, 0.3, 7.8)\n",
    "# Set the mass damping constant\n",
    "materialAttr.setValue(\"ar\", \"2.0\", 0)"
   ]
  },
  {
   "cell_type": "code",
   "execution_count": null,
   "metadata": {},
   "outputs": [],
   "source": [
    "''' Create a support attribute (fixed) '''\n",
    "fixedSupport = db.createSupportStructural(\"Fixed\")\n",
    "# set the freedoms F=Free, R=Restrained\n",
    "fixedSupport.setStructural(\"R\", \"R\", \"R\", \"R\", \"R\", \"R\", \"F\", \"F\", \"F\")"
   ]
  },
  {
   "cell_type": "code",
   "execution_count": null,
   "metadata": {},
   "outputs": [],
   "source": [
    "''' Create a point load attribute '''\n",
    "loadAttr = db.createLoadingConcentrated(\"Point load\")\n",
    "loadAttr.setConcentrated(0.0, 0.0, -point_load)"
   ]
  },
  {
   "cell_type": "code",
   "execution_count": null,
   "metadata": {},
   "outputs": [],
   "source": [
    "''' Assign the attributes to the geometry '''\n",
    "# get the assignment object\n",
    "assignment = lusas.assignment().setAllDefaults()\n",
    "# Assign the mesh\n",
    "meshAttr.assignTo(beamLine, assignment)\n",
    "# Assign the geometry\n",
    "geomAttr.assignTo(beamLine, assignment)\n",
    "# Assign the material\n",
    "materialAttr.assignTo(beamLine, assignment)\n",
    "# Assign the loading\n",
    "loadAttr.assignTo(beamLine.getEndPoint(), assignment)\n",
    "\n",
    "''' Assign the supports to the points of the line '''\n",
    "# Assign the fixed support to the first point\n",
    "fixedSupport.assignTo(beamLine.getStartPoint(), assignment)"
   ]
  },
  {
   "cell_type": "markdown",
   "metadata": {},
   "source": [
    "Create an eigenvalue frequency analysis"
   ]
  },
  {
   "cell_type": "code",
   "execution_count": null,
   "metadata": {},
   "outputs": [],
   "source": [
    "# Create a new analysis without an initial loadcase\n",
    "analysis = db.createAnalysisStructural(\"Eigenvalue Frequency Analysis\", False)\n",
    "# Create a loadcase in the analysis\n",
    "first_loadcase = db.createLoadcase(\"Eig Freq\", analysis.getName())\n",
    "# Set the loadcase controls to be a frequency analysis searching for the minimum 5 natural frequencies\n",
    "first_loadcase.setEigenvalueMaxMinControl(\"Frequency\", \"Minimum\", 5)\n",
    "# Set the eiegenvector normalisation procedure to mass for a frequency analysis - This just scales the resulting eigenvector and is the default setting\n",
    "first_loadcase.getEigenvalueControl().setValue(\"NormalisationProcedure\", \"GlobalMass\")\n"
   ]
  },
  {
   "cell_type": "markdown",
   "metadata": {},
   "source": [
    "Create a second eigenvalue frequency analysis with the point load considered as mass"
   ]
  },
  {
   "cell_type": "code",
   "execution_count": null,
   "metadata": {},
   "outputs": [],
   "source": [
    "# Create a new analysis without an initial loadcase\n",
    "analysis = db.createAnalysisStructural(\"Eigenvalue Frequency Analysis With Load\", False)\n",
    "# Create a loadcase in the analysis\n",
    "first_loadcase = db.createLoadcase(\"Eig Freq with load\", analysis.getName())\n",
    "# Set the loadcase controls to be a frequency analysis searching for the minimum 5 natural frequencies\n",
    "first_loadcase.setEigenvalueMaxMinControl(\"Frequency\", \"Minimum\", 5)\n",
    "# Set the eiegenvector normalisation procedure to mass for a frequency analysis - This just scales the resulting eigenvector and is the default setting\n",
    "first_loadcase.getEigenvalueControl().setValue(\"NormalisationProcedure\", \"GlobalMass\")\n",
    "# Consider the assigned loading as mass in the eigenvalue analysis\n",
    "first_loadcase.getEigenvalueControl().setValue(\"loadToMass\", True)\n",
    "# Create the assignment data to target the new loadcase\n",
    "assignment = lusas.assignment().setAllDefaults().setLoadset(first_loadcase)\n",
    "# Assign the loading\n",
    "loadAttr.assignTo(beamLine.getEndPoint(), assignment)"
   ]
  },
  {
   "cell_type": "markdown",
   "metadata": {},
   "source": [
    "# Solve and open results"
   ]
  },
  {
   "cell_type": "code",
   "execution_count": null,
   "metadata": {},
   "outputs": [],
   "source": [
    "db.getAnalysis(\"Analysis 1\").solve(False)\n",
    "db.getAnalysis(\"Eigenvalue Frequency Analysis\").solve(False)\n",
    "db.getAnalysis(\"Eigenvalue Frequency Analysis With Load\").solve(False)\n",
    "db.openAllResults(False)"
   ]
  },
  {
   "cell_type": "markdown",
   "metadata": {},
   "source": [
    "# Print Loadcase Results"
   ]
  },
  {
   "cell_type": "code",
   "execution_count": null,
   "metadata": {},
   "outputs": [],
   "source": [
    "loadcase = win32.CastTo(db.getLoadset(\"Loadcase\", 2), \"IFLoadcase\")\n",
    "result_loadcases = loadcase.getResultsLoadcases()\n",
    "# Total mass is the same for all so take the first\n",
    "print(f'Total Mass = {result_loadcases[0].getValue(\"TMASS\"):.3f}')\n",
    "\n",
    "# Individual results\n",
    "for result_loadcase in result_loadcases:\n",
    "    print(result_loadcase.getName())\n",
    "    print(f'   Eigenvalue = {result_loadcase.getValue(\"EIGVL\"):.0f}')\n",
    "    print(f'   Frequency  = {result_loadcase.getValue(\"NATFRQ\"):.3f}')\n",
    "    print(f'   Mass Participation in X,Y,Z = {result_loadcase.getValue(\"PMASSX\"):.3f}, {result_loadcase.getValue(\"PMASSY\"):.3f}, {result_loadcase.getValue(\"PMASSZ\"):.3f}')\n"
   ]
  }
 ],
 "metadata": {
  "kernelspec": {
   "display_name": "Python 3",
   "language": "python",
   "name": "python3"
  },
  "language_info": {
   "codemirror_mode": {
    "name": "ipython",
    "version": 3
   },
   "file_extension": ".py",
   "mimetype": "text/x-python",
   "name": "python",
   "nbconvert_exporter": "python",
   "pygments_lexer": "ipython3",
   "version": "3.13.2"
  }
 },
 "nbformat": 4,
 "nbformat_minor": 2
}
