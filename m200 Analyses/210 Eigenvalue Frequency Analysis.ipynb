{
 "cells": [
  {
   "cell_type": "markdown",
   "metadata": {},
   "source": [
    "# #210 Eigenvalue Frequency Analysis\n",
    "<i>Determine natural frequencies of a cantilever beam with and without additional loading to mass conversion</i>\n",
    "***"
   ]
  },
  {
   "cell_type": "code",
   "execution_count": null,
   "metadata": {},
   "outputs": [],
   "source": [
    "# Input Params\n",
    "length = 5.0 #m\t\t     Length of beam\n",
    "point_load = 10.0  #kN   Concentrated load on cantilever tip"
   ]
  },
  {
   "cell_type": "code",
   "execution_count": null,
   "metadata": {},
   "outputs": [],
   "source": [
    "import sys; sys.path.append('../') # Reference modules in parent directory\n",
    "from LPI_22_0 import *\n",
    "lusas = get_lusas_modeller()\n",
    "\n",
    "if lusas.existsDatabase():\n",
    "    raise Exception(\"This script will create a new model. Please save and close the current model and try again\")\n",
    "\n",
    "# Create a new model\n",
    "lusas.newProject(\"Structural\", \"Cantilever_Frequency_Analysis\")\n",
    "# Reference to the model database for convenience\n",
    "db = lusas.database() \n",
    "# 3D model with Z vertical\n",
    "db.setAnalysisCategory(\"3D\")\n",
    "db.setVerticalDir(\"Z\")\n",
    "# Set the unit system\n",
    "db.setModelUnits(\"kN,m,t,s,C\")"
   ]
  },
  {
   "cell_type": "code",
   "execution_count": null,
   "metadata": {},
   "outputs": [],
   "source": [
    "''' Create a line'''\n",
    "# Get the geometry data object\n",
    "geom_data = lusas.geometryData().setAllDefaults()\n",
    "# Set the coordinates of the first point\n",
    "geom_data.addCoords(0, 0, 0)\n",
    "# Set the coordinates of the second point\n",
    "geom_data.addCoords(length, 0, 0)\n",
    "# Create the line object from the geomety data\n",
    "objs = db.createLine(geom_data) # Modeller returns an object set containing all the lines created, in this case we only have 1.\n",
    "# Get the lines\n",
    "lines = objs.getObjects(\"Lines\")\n",
    "# Get the single line from the returned array\n",
    "beam_line:IFLine = lines[0]"
   ]
  },
  {
   "cell_type": "code",
   "execution_count": null,
   "metadata": {},
   "outputs": [],
   "source": [
    "''' Create a mesh attribute'''\n",
    "mesh_attr = db.createMeshLine(\"Beam Mesh\")\n",
    "# Set the element type and size of elements BMI21 = 2Node thick beam elements, 1 = 1m length\n",
    "mesh_attr.setSize(\"BMI21\", 1)"
   ]
  },
  {
   "cell_type": "code",
   "execution_count": null,
   "metadata": {},
   "outputs": [],
   "source": [
    "''' Create a geometric attribute'''\n",
    "geom_attr = db.createGeometricLine(\"Beam Geometry\")\n",
    "# Set the beam section properties for the section library\n",
    "geom_attr.setFromLibrary(\"UK Sections\", \"Universal Beams (BS4)\", \"406x178x74kg UB\", 0, 0, 0)"
   ]
  },
  {
   "cell_type": "code",
   "execution_count": null,
   "metadata": {},
   "outputs": [],
   "source": [
    "''' Create a material attribute'''\n",
    "material_attr = db.createIsotropicMaterial(\"Steel\", 209_000_000, 0.3, 7.8)"
   ]
  },
  {
   "cell_type": "code",
   "execution_count": null,
   "metadata": {},
   "outputs": [],
   "source": [
    "''' Create a support attribute (fixed) '''\n",
    "fixed_support_attr = db.createSupportStructural(\"Fixed\")\n",
    "# set the freedoms F=Free, R=Restrained\n",
    "fixed_support_attr.setStructural(\"R\", \"R\", \"R\", \"R\", \"R\", \"R\", \"F\", \"F\", \"F\")"
   ]
  },
  {
   "cell_type": "code",
   "execution_count": null,
   "metadata": {},
   "outputs": [],
   "source": [
    "''' Create a point load attribute '''\n",
    "point_load_attr = db.createLoadingConcentrated(\"Point load\")\n",
    "point_load_attr.setConcentrated(0.0, 0.0, -point_load)"
   ]
  },
  {
   "cell_type": "code",
   "execution_count": null,
   "metadata": {},
   "outputs": [],
   "source": [
    "''' Assign the attributes to the geometry '''\n",
    "# get the assignment object\n",
    "assignment = lusas.assignment().setAllDefaults()\n",
    "# Assign the mesh\n",
    "mesh_attr.assignTo(beam_line, assignment)\n",
    "# Assign the geometry\n",
    "geom_attr.assignTo(beam_line, assignment)\n",
    "# Assign the material\n",
    "material_attr.assignTo(beam_line, assignment)\n",
    "# Assign the loading\n",
    "point_load_attr.assignTo(beam_line.getEndPoint(), assignment)\n",
    "\n",
    "''' Assign the supports to the points of the line '''\n",
    "# Assign the fixed support to the first point\n",
    "fixed_support_attr.assignTo(beam_line.getStartPoint(), assignment)"
   ]
  },
  {
   "cell_type": "markdown",
   "metadata": {},
   "source": [
    "Create an eigenvalue frequency analysis"
   ]
  },
  {
   "cell_type": "code",
   "execution_count": null,
   "metadata": {},
   "outputs": [],
   "source": [
    "# Create a new analysis without an initial loadcase\n",
    "analysis = db.createAnalysisStructural(\"Eigenvalue Frequency Analysis\", False)\n",
    "# Create a loadcase in the analysis\n",
    "first_loadcase = db.createLoadcase(\"Eig Freq\", analysis.getName())\n",
    "# Set the loadcase controls to be a frequency analysis searching for the minimum 5 natural frequencies\n",
    "first_loadcase.setEigenvalueMaxMinControl(\"Frequency\", \"Minimum\", 5)\n",
    "# Set the eiegenvector normalisation procedure to mass for a frequency analysis - This just scales the resulting eigenvector and is the default setting\n",
    "first_loadcase.getEigenvalueControl().setValue(\"NormalisationProcedure\", \"GlobalMass\")\n"
   ]
  },
  {
   "cell_type": "markdown",
   "metadata": {},
   "source": [
    "Create a second eigenvalue frequency analysis with the point load considered as mass"
   ]
  },
  {
   "cell_type": "code",
   "execution_count": null,
   "metadata": {},
   "outputs": [],
   "source": [
    "# Create a new analysis without an initial loadcase\n",
    "analysis = db.createAnalysisStructural(\"Eigenvalue Frequency Analysis With Load\", False)\n",
    "# Create a loadcase in the analysis\n",
    "first_loadcase = db.createLoadcase(\"Eig Freq with load\", analysis.getName())\n",
    "# Set the loadcase controls to be a frequency analysis searching for the minimum 5 natural frequencies\n",
    "first_loadcase.setEigenvalueMaxMinControl(\"Frequency\", \"Minimum\", 5)\n",
    "# Set the eiegenvector normalisation procedure to mass for a frequency analysis - This just scales the resulting eigenvector and is the default setting\n",
    "first_loadcase.getEigenvalueControl().setValue(\"NormalisationProcedure\", \"GlobalMass\")\n",
    "# Consider the assigned loading as mass in the eigenvalue analysis\n",
    "first_loadcase.getEigenvalueControl().setValue(\"loadToMass\", True)\n",
    "# Create the assignment data to target the new loadcase\n",
    "assignment = lusas.assignment().setAllDefaults().setLoadset(first_loadcase)\n",
    "# Assign the loading\n",
    "point_load_attr.assignTo(beam_line.getEndPoint(), assignment)"
   ]
  },
  {
   "cell_type": "markdown",
   "metadata": {},
   "source": [
    "# Solve and open results"
   ]
  },
  {
   "cell_type": "code",
   "execution_count": null,
   "metadata": {},
   "outputs": [],
   "source": [
    "db.getAnalysis(\"Analysis 1\").solve(False)\n",
    "db.getAnalysis(\"Eigenvalue Frequency Analysis\").solve(False)\n",
    "db.getAnalysis(\"Eigenvalue Frequency Analysis With Load\").solve(False)\n",
    "db.openAllResults(False)"
   ]
  },
  {
   "cell_type": "markdown",
   "metadata": {},
   "source": [
    "# Print Loadcase Results"
   ]
  },
  {
   "cell_type": "code",
   "execution_count": null,
   "metadata": {},
   "outputs": [],
   "source": [
    "loadcase = win32.CastTo(db.getLoadset(\"Loadcase\", 2), \"IFLoadcase\")\n",
    "result_loadcases = loadcase.getResultsLoadcases()\n",
    "# Total mass is the same for all so take the first\n",
    "print(f'Total Mass = {result_loadcases[0].getValue(\"TMASS\"):.3f}')\n",
    "\n",
    "# Individual results\n",
    "for result_loadcase in result_loadcases:\n",
    "    print(result_loadcase.getName())\n",
    "    print(f'   Eigenvalue = {result_loadcase.getValue(\"EIGVL\"):.0f}')\n",
    "    print(f'   Frequency  = {result_loadcase.getValue(\"NATFRQ\"):.3f}')\n",
    "    print(f'   Mass Participation in X,Y,Z = {result_loadcase.getValue(\"PMASSX\"):.3f}, {result_loadcase.getValue(\"PMASSY\"):.3f}, {result_loadcase.getValue(\"PMASSZ\"):.3f}')\n"
   ]
  }
 ],
 "metadata": {
  "kernelspec": {
   "display_name": "Python 3",
   "language": "python",
   "name": "python3"
  },
  "language_info": {
   "codemirror_mode": {
    "name": "ipython",
    "version": 3
   },
   "file_extension": ".py",
   "mimetype": "text/x-python",
   "name": "python",
   "nbconvert_exporter": "python",
   "pygments_lexer": "ipython3",
   "version": "3.13.2"
  }
 },
 "nbformat": 4,
 "nbformat_minor": 2
}
