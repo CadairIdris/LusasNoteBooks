{
 "cells": [
  {
   "cell_type": "markdown",
   "metadata": {},
   "source": [
    "# #201 Beams with mass\n",
    "<i>Comparison of adding additional mass</i>\n",
    "***"
   ]
  },
  {
   "cell_type": "code",
   "execution_count": null,
   "metadata": {},
   "outputs": [],
   "source": [
    "# Input Params\n",
    "length = 5.0 #m\t\t     Length of beam\n",
    "element_length = 1\n",
    "beam_z_spacings = [0, 2, 4, 6, 8, 10]    # No Mass, Global L2M, Beam L2M, 2xDensity, Mass Factor, Mass Elements\n",
    "\n",
    "# Beam Mass\n",
    "concrete_mass = 2.5 # tonnes/m^3\n",
    "beam_width = 0.3 # m\n",
    "beam_depth = 0.5 # m\n",
    "beam_mass_per_metre =  concrete_mass * (beam_width*beam_depth)\n",
    "\n",
    "# Additional Mass (double existing beam)\n",
    "mass_material_per_metre = beam_mass_per_metre # tonnes/metre \n",
    "mass_modification_factor = 2.0\n",
    "# Equivalent Loading /m\n",
    "equivalent_mass_loading = mass_material_per_metre*9.81\n",
    "\n",
    "# Concrete stiffness E\n",
    "Ec = 35_000_000\n",
    "Iyy = beam_width*beam_depth**3/12"
   ]
  },
  {
   "cell_type": "code",
   "execution_count": 534,
   "metadata": {},
   "outputs": [
    {
     "name": "stdout",
     "output_type": "stream",
     "text": [
      "Beam mass t/m =  0.375\n",
      "Beam load kN/m =  3.67875\n"
     ]
    }
   ],
   "source": [
    "print(\"Beam mass t/m = \", beam_mass_per_metre)\n",
    "print(\"Beam load kN/m = \", equivalent_mass_loading)"
   ]
  },
  {
   "cell_type": "code",
   "execution_count": 535,
   "metadata": {},
   "outputs": [
    {
     "name": "stdout",
     "output_type": "stream",
     "text": [
      "Expected frequency mode 1                      = 33.9344Hz\n",
      "Expected frequency mode 1 with additional mass = 23.9953Hz\n"
     ]
    }
   ],
   "source": [
    "import math\n",
    "mode1_beam = 9.87/(2*math.pi) * math.sqrt((Ec*Iyy*9.81)/(equivalent_mass_loading*length**4))\n",
    "mode1_mass = 9.87/(2*math.pi) * math.sqrt((Ec*Iyy*9.81)/(2*equivalent_mass_loading*length**4))\n",
    "\n",
    "print(f\"Expected frequency mode 1                      = {mode1_beam:.4f}Hz\")\n",
    "print(f\"Expected frequency mode 1 with additional mass = {mode1_mass:.4f}Hz\")"
   ]
  },
  {
   "cell_type": "markdown",
   "metadata": {},
   "source": [
    "#### Connect to LUSAS and create a new model database"
   ]
  },
  {
   "cell_type": "code",
   "execution_count": 536,
   "metadata": {},
   "outputs": [],
   "source": [
    "import sys; sys.path.append('../') # Reference modules in parent directory\n",
    "from LPI_22_0 import *\n",
    "lusas = get_lusas_modeller()\n",
    "# if lusas.existsDatabase():\n",
    "#     raise Exception(\"This script will create a new model. Please save and close the current model and try again\")\n",
    "\n",
    "import m100_Tools_And_Helpers.Helpers as Helpers\n",
    "Helpers.initialise(lusas)"
   ]
  },
  {
   "cell_type": "code",
   "execution_count": 537,
   "metadata": {},
   "outputs": [],
   "source": [
    "# Create a new model\n",
    "lusas.newProject(\"Structural\", \"Beams_with_mass.mdl\")\n",
    "# Get a reference to the model database\n",
    "db = lusas.getDatabase()\n",
    "# Set the vertical axis\n",
    "db.setAnalysisCategory(\"3D\")\n",
    "db.setVerticalDir(\"Z\")\n",
    "# Set the unit system\n",
    "db.setModelUnits(\"kN,m,t,s,C\")"
   ]
  },
  {
   "cell_type": "markdown",
   "metadata": {},
   "source": [
    "### Create model geometry"
   ]
  },
  {
   "cell_type": "code",
   "execution_count": 538,
   "metadata": {},
   "outputs": [],
   "source": [
    "# Create a beam lines\n",
    "beams = []\n",
    "for z in beam_z_spacings:\n",
    "    beams.append(Helpers.create_line([0,0,z], [length, 0, z]))\n",
    "\n",
    "# Create a duplicate line to hold mass elements over the last line\n",
    "db.options().setBoolean(\"newFeaturesMergeable\", False)\n",
    "mass_line = Helpers.create_line([0,0,beam_z_spacings[-1]], [length, 0, beam_z_spacings[-1]])"
   ]
  },
  {
   "cell_type": "markdown",
   "metadata": {},
   "source": [
    "### Create model attributes"
   ]
  },
  {
   "cell_type": "code",
   "execution_count": 539,
   "metadata": {},
   "outputs": [],
   "source": [
    "# Create a beam mesh attribute\n",
    "beam_mesh_attr = db.createMeshLine(\"Beam Mesh\")\n",
    "# Set the element type and size of elements BMI21 = 2Node thick beam elements, 1 = 1m length\n",
    "beam_mesh_attr.setSize(\"BMI21\", element_length)\n",
    "\n",
    "# Create a Non-Structural Mass mesh attribute\n",
    "mass_mesh_attr = db.createMeshLine(\"Non-Structural Mass Mesh\")\n",
    "mass_mesh_attr.setSize(\"LMS3\", element_length)\n",
    "\n",
    "# Create a equivalence mesh attribute, to combine the beam and mass meshes\n",
    "equivalence_mesh_attr = db.createEquivalence(\"Mass mesh equivalence\").setEquivalence(1e-1, True)"
   ]
  },
  {
   "cell_type": "code",
   "execution_count": 540,
   "metadata": {},
   "outputs": [],
   "source": [
    "# Create a geometric attribute\n",
    "geometric_attr = Helpers.create_rectangular_section(db, \"Rectangular Section\", 0.3, 0.5)"
   ]
  },
  {
   "cell_type": "code",
   "execution_count": 541,
   "metadata": {},
   "outputs": [
    {
     "data": {
      "text/plain": [
       "<win32com.gen_py.LUSAS Modeller ActiveX Script Language 22.0.IFAttribute instance at 0x2373920488928>"
      ]
     },
     "execution_count": 541,
     "metadata": {},
     "output_type": "execute_result"
    }
   ],
   "source": [
    "# Create a linear elastic material attribute\n",
    "material_attr = db.createIsotropicMaterial(f\"Concrete\", Ec, 0.2, concrete_mass, 10e-6, 2.0)\n",
    "material_attr.setDescription(f\"{concrete_mass=}(t/m^3)\")\n",
    "\n",
    "material_double_mass_attr = db.createIsotropicMaterial(f\"Concrete double mass\", Ec, 0.2, 2*concrete_mass, 10e-6, 2.0)\n",
    "material_double_mass_attr.setDescription(f\"concrete_mass={2*concrete_mass}(t/m^3)\")"
   ]
  },
  {
   "cell_type": "code",
   "execution_count": 542,
   "metadata": {},
   "outputs": [
    {
     "data": {
      "text/plain": [
       "<win32com.gen_py.LUSAS Modeller ActiveX Script Language 22.0.IFAttribute instance at 0x2374003750176>"
      ]
     },
     "execution_count": 542,
     "metadata": {},
     "output_type": "execute_result"
    }
   ],
   "source": [
    "# Create a mass material attribute\n",
    "mass_material_attr = db.create3dMassMaterial(f\"Mass material\", mass_material_per_metre, mass_material_per_metre, mass_material_per_metre, \"line\")\n",
    "mass_material_attr.setDescription(f\"{mass_material_per_metre=:.4f}(t/m)\")"
   ]
  },
  {
   "cell_type": "code",
   "execution_count": 543,
   "metadata": {},
   "outputs": [
    {
     "data": {
      "text/plain": [
       "<win32com.gen_py.LUSAS Modeller ActiveX Script Language 22.0.IFAttribute instance at 0x2374003680240>"
      ]
     },
     "execution_count": 543,
     "metadata": {},
     "output_type": "execute_result"
    }
   ],
   "source": [
    "''' Create a section property modifier attribute'''\n",
    "section_property_modifier_attr = db.createSectionPropertyModifier(f\"Mass modification factor\")\n",
    "section_property_modifier_attr.setMassFactor(\"A\", mass_modification_factor)\n",
    "section_property_modifier_attr.setDescription(f\"{mass_modification_factor=}\")"
   ]
  },
  {
   "cell_type": "code",
   "execution_count": 544,
   "metadata": {},
   "outputs": [
    {
     "data": {
      "text/plain": [
       "<win32com.gen_py.LUSAS Modeller ActiveX Script Language 22.0.IFSupportStructural instance at 0x2373921015840>"
      ]
     },
     "execution_count": 544,
     "metadata": {},
     "output_type": "execute_result"
    }
   ],
   "source": [
    "''' Create support attributes '''\n",
    "# Freedoms F=Free, R=Restrained, S=Spring\n",
    "pinned_support_attr = db.createSupportStructural(\"Pinned\")\n",
    "pinned_support_attr.setStructural(\"R\", \"R\", \"R\", \"R\", \"F\", \"R\", \"F\", \"F\", \"F\")\n",
    "\n",
    "slide_support_attr = db.createSupportStructural(\"Slide\")\n",
    "slide_support_attr.setStructural(\"F\", \"R\", \"R\", \"R\", \"F\", \"R\", \"F\", \"F\", \"F\")\n",
    "\n",
    "# This will be used to effectively remove beams from eigen analyses\n",
    "fully_fixed_support_attr = db.createSupportStructural(\"Fully Fixed\")\n",
    "fully_fixed_support_attr.setStructural(\"R\", \"R\", \"R\", \"R\", \"R\", \"R\", \"F\", \"F\", \"F\")"
   ]
  },
  {
   "cell_type": "code",
   "execution_count": 545,
   "metadata": {},
   "outputs": [
    {
     "data": {
      "text/plain": [
       "<win32com.gen_py.LUSAS Modeller ActiveX Script Language 22.0.IFAttribute instance at 0x2374004063952>"
      ]
     },
     "execution_count": 545,
     "metadata": {},
     "output_type": "execute_result"
    }
   ],
   "source": [
    "# Beam distributed loading\n",
    "beam_distributed_load_attr = db.createLoadingBeamDistributed(f\"Beam distributed load\")\n",
    "beam_distributed_load_attr.setBeamDistributed(\"Parametric\", \"Global\", \"beam\")\n",
    "beam_distributed_load_attr.addRow(0.0, 0.0, 0.0, -equivalent_mass_loading, 0.0, 0.0, 0.0, 1.0, 0.0, 0.0, -equivalent_mass_loading, 0.0, 0.0, 0.0)\n",
    "beam_distributed_load_attr.setDescription(f\"{equivalent_mass_loading=:.4f}(kN/m)\")\n",
    "# Global distributed loading\n",
    "global_distributed_load_attr = db.createLoadingGlobalDistributed(f\"Global distributed load\")\n",
    "global_distributed_load_attr.setGlobalDistributed(\"Length\", 0.0, 0.0, -equivalent_mass_loading, 0.0, 0.0, 0.0, 0.0, 0.0, False, 0.0)\n",
    "global_distributed_load_attr.setDescription(f\"{equivalent_mass_loading=:.4f}(kN/m)\")"
   ]
  },
  {
   "cell_type": "code",
   "execution_count": 546,
   "metadata": {},
   "outputs": [],
   "source": [
    "# Design attributes for identification\n",
    "design_attributes = []\n",
    "for i, id in enumerate([\"Glbl L2M\", \"Beam L2M\", \"2xDensity\", \"Mass Factor\", \"Mass Elements\"]):\n",
    "    attr = db.createDesignAttribute(id, \"MassType\", \"MassType\", \"Lines\")\n",
    "    attr.assignTo(beams[i+1])"
   ]
  },
  {
   "cell_type": "markdown",
   "metadata": {},
   "source": [
    "### Assign attributes"
   ]
  },
  {
   "cell_type": "code",
   "execution_count": 547,
   "metadata": {},
   "outputs": [],
   "source": [
    "''' Assign the attributes to the geometry '''\n",
    "# get the assignment object\n",
    "assignment = lusas.assignment().setAllDefaults()\n",
    "# Assign the mesh\n",
    "beam_mesh_attr.assignTo(beams, assignment)\n",
    "# Assign the geometry\n",
    "geometric_attr.assignTo(beams, assignment)\n",
    "# Assign the material\n",
    "material_attr.assignTo(beams, assignment)\n",
    "\n",
    "# Special mass elements\n",
    "mass_mesh_attr.assignTo(mass_line, assignment)\n",
    "mass_material_attr.assignTo(mass_line, assignment)\n",
    "# Equivalence the mass and beam meshes of teh last beam\n",
    "equivalence_mesh_attr.assignTo(mass_line, assignment)\n",
    "equivalence_mesh_attr.assignTo(beams[-1], assignment)\n",
    "\n",
    "# Mass Modifier\n",
    "section_property_modifier_attr.assignTo(beams[-2])\n",
    "\n",
    "# 2x Mass Material\n",
    "material_double_mass_attr.assignTo(beams[-3])\n",
    "\n",
    "# Loads to mass\n",
    "global_distributed_load_attr.assignTo(beams[-4], assignment)\n",
    "beam_distributed_load_attr.assignTo(beams[-5], assignment)\n",
    "\n",
    "# Assign the supports to the points of the line\n",
    "for line in beams:\n",
    "    pinned_support_attr.assignTo(line.getStartPoint(), assignment)\n",
    "    slide_support_attr.assignTo(line.getEndPoint(), assignment)"
   ]
  },
  {
   "cell_type": "markdown",
   "metadata": {},
   "source": [
    "### Create loadcases and analyses"
   ]
  },
  {
   "cell_type": "markdown",
   "metadata": {},
   "source": [
    "Linear Static Analysis"
   ]
  },
  {
   "cell_type": "code",
   "execution_count": 548,
   "metadata": {},
   "outputs": [],
   "source": [
    "linear_static_analysis = db.getAnalysis(\"Analysis 1\")\n",
    "linear_static_analysis.setName(\"00 Linear Static\")\n",
    "# Rename the loadcase\n",
    "first_loadcase = Helpers.get_loadcase(db, 1)\n",
    "first_loadcase.setName(\"Gravity\")\n",
    "first_loadcase.addGravity(True)"
   ]
  },
  {
   "cell_type": "markdown",
   "metadata": {},
   "source": [
    "Helper methods for creation of eigenvalue frequency analyses with and without loading to mass conversion"
   ]
  },
  {
   "cell_type": "code",
   "execution_count": 549,
   "metadata": {},
   "outputs": [],
   "source": [
    "def create_eigen_anaysis(name:str, loadcase_name:str, no_modes=2) -> IFLoadcase:\n",
    "    # Create a new analysis without an initial loadcase\n",
    "    db.createAnalysisStructural(name, False)\n",
    "    first_loadcase = db.createLoadcase(loadcase_name, name)\n",
    "    # Set the loadcase controls to be a frequency analysis searching for the minimum no_modes natural frequencies\n",
    "    first_loadcase.setEigenvalueMaxMinControl(\"Frequency\", \"Minimum\", no_modes)\n",
    "    # Set the eiegenvector normalisation procedure to mass for a frequency analysis - This just scales the resulting eigenvector and is the default setting\n",
    "    first_loadcase.getEigenvalueControl().setValue(\"NormalisationProcedure\", \"GlobalMass\")\n",
    "    return first_loadcase"
   ]
  },
  {
   "cell_type": "code",
   "execution_count": 550,
   "metadata": {},
   "outputs": [],
   "source": [
    "def create_eigen_anaysis_load_to_mass(name:str, loadcase_name:str, no_modes=2) -> IFLoadcase:\n",
    "    # Create a new analysis without an initial loadcase\n",
    "    db.createAnalysisStructural(name, False)\n",
    "    first_loadcase = db.createLoadcase(loadcase_name, name)\n",
    "    # Set the loadcase controls to be a frequency analysis searching for the minimum no_modes natural frequencies\n",
    "    first_loadcase.setEigenvalueMaxMinControl(\"Frequency\", \"Minimum\", no_modes)\n",
    "    # Set the eiegenvector normalisation procedure to mass for a frequency analysis - This just scales the resulting eigenvector and is the default setting\n",
    "    first_loadcase.getEigenvalueControl().setValue(\"NormalisationProcedure\", \"GlobalMass\")\n",
    "    # Consider the assigned loading as mass in the eigenvalue analysis\n",
    "    first_loadcase.getEigenvalueControl().setValue(\"loadToMass\", True)\n",
    "    return first_loadcase"
   ]
  },
  {
   "cell_type": "code",
   "execution_count": 551,
   "metadata": {},
   "outputs": [],
   "source": [
    "for i, beam in enumerate(beams):\n",
    "    loadcase = create_eigen_anaysis(f\"0{i+1} Eig freq\", f\"Beam {i+1}\")\n",
    "    assignment = lusas.assignment().setAllDefaults().setLoadset(loadcase)\n",
    "    fully_fixed_support_attr.assignTo(beams[:i]+beams[i+1:], assignment)"
   ]
  },
  {
   "cell_type": "code",
   "execution_count": 552,
   "metadata": {},
   "outputs": [],
   "source": [
    "for i in [1,2]:\n",
    "    loadcase = create_eigen_anaysis_load_to_mass(f\"1{i+1} Eig freq L2M\", f\"Beam-{i+1} (L2M)\")\n",
    "    assignment = lusas.assignment().setAllDefaults().setLoadset(loadcase)\n",
    "    fully_fixed_support_attr.assignTo(beams[:i]+beams[i+1:], assignment)\n",
    "    global_distributed_load_attr.assignTo(beams[1], assignment)\n",
    "    beam_distributed_load_attr.assignTo(beams[2], assignment)"
   ]
  },
  {
   "cell_type": "markdown",
   "metadata": {},
   "source": [
    "### Mesh the model"
   ]
  },
  {
   "cell_type": "code",
   "execution_count": 553,
   "metadata": {},
   "outputs": [
    {
     "data": {
      "text/plain": [
       "<win32com.gen_py.LUSAS Modeller ActiveX Script Language 22.0.IFDatabase instance at 0x2374003810432>"
      ]
     },
     "execution_count": 553,
     "metadata": {},
     "output_type": "execute_result"
    }
   ],
   "source": [
    "db.resetMesh()\n",
    "db.updateMesh()"
   ]
  },
  {
   "cell_type": "markdown",
   "metadata": {},
   "source": [
    "# Solve and open results"
   ]
  },
  {
   "cell_type": "code",
   "execution_count": 554,
   "metadata": {},
   "outputs": [],
   "source": [
    "for analysis in db.getAnalyses():\n",
    "    analysis.solve(True)\n",
    "db.openAllResults(False)"
   ]
  },
  {
   "cell_type": "code",
   "execution_count": null,
   "metadata": {},
   "outputs": [],
   "source": [
    "lusas.view().setFromAxis(\"+X+Z\")\n",
    "\n",
    "lusas.view().insertDiagramsLayer()\n",
    "lusas.view().diagrams().setResults(\"Force/Moment - Thick 3D Beam\", \"My\")\n",
    "lusas.view().diagrams().setLocation(\"Gauss\")\n",
    "lusas.view().diagrams().setShowDeformed(True)\n",
    "\n",
    "lusas.view().insertValuesLayer()\n",
    "lusas.view().values().setResults(\"Reaction\", \"FZ\")\n",
    "\n",
    "lusas.view().geometry().autoColourByAttributes(\"Design.MassType\", True)\n",
    "lusas.view().insertAnnotationLayer()\n",
    "\n",
    "# lusas.view().showCoordSystem(False)\n",
    "# lusas.view().attributes().visualiseNone(\"Supports\")\n",
    "\n",
    "lusas.view().insertContoursLayer()\n",
    "lusas.view().contours().setResultsTransformNone()\n",
    "lusas.view().contours().setResults(\"Displacement\", \"DZ\")\n",
    "lusas.view().contours().chooseSettings(1)\n",
    "lusas.view().contours().setShowDeformed(True)\n",
    "\n",
    "lusas.view().attributes().setShowDeformed(\"Geometric\", True)\n",
    "\n",
    "lusas.view().showViewSummary(True)\n"
   ]
  }
 ],
 "metadata": {
  "kernelspec": {
   "display_name": "Python 3",
   "language": "python",
   "name": "python3"
  },
  "language_info": {
   "codemirror_mode": {
    "name": "ipython",
    "version": 3
   },
   "file_extension": ".py",
   "mimetype": "text/x-python",
   "name": "python",
   "nbconvert_exporter": "python",
   "pygments_lexer": "ipython3",
   "version": "3.13.2"
  }
 },
 "nbformat": 4,
 "nbformat_minor": 2
}
