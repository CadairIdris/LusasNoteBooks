{
 "cells": [
  {
   "cell_type": "markdown",
   "metadata": {},
   "source": [
    "# #201 Beams with mass\n",
    "<i>Comparison of including non structural mass</i>\n",
    "***"
   ]
  },
  {
   "cell_type": "code",
   "execution_count": null,
   "metadata": {},
   "outputs": [],
   "source": [
    "# Input Params\n",
    "length = 5.0 #m\t\t     Length of beam\n",
    "element_length = 1\n",
    "beam_z_spacings = [0, 2, 4, 6, 8, 10]    # No Mass, Global L2M, Beam L2M, 2xDensity, Mass Factor, Mass Elements\n",
    "\n",
    "# Beam Mass\n",
    "concrete_mass = 2.5 # tonnes/m^3\n",
    "beam_width = 0.3 # m\n",
    "beam_depth = 0.5 # m\n",
    "beam_mass_per_metre =  concrete_mass * (beam_width*beam_depth)\n",
    "\n",
    "# Additional Mass (double existing beam)\n",
    "mass_material_per_metre = beam_mass_per_metre # tonnes/metre \n",
    "mass_modification_factor = 2.0\n",
    "# Equivalent Loading /m\n",
    "equivalent_mass_loading = mass_material_per_metre*9.81\n",
    "\n",
    "# Concrete stiffness E\n",
    "Ec = 35_000_000\n",
    "Iyy = beam_width*beam_depth**3/12\n",
    "\n",
    "transient_analysis = True\n",
    "dynamic_point_load = False\n",
    "point_load = 100 #kN"
   ]
  },
  {
   "cell_type": "code",
   "execution_count": null,
   "metadata": {},
   "outputs": [],
   "source": [
    "print(\"Beam mass t/m = \", beam_mass_per_metre)\n",
    "print(\"Beam load kN/m = \", equivalent_mass_loading)"
   ]
  },
  {
   "cell_type": "code",
   "execution_count": null,
   "metadata": {},
   "outputs": [],
   "source": [
    "import math\n",
    "mode1_beam = 9.87/(2*math.pi) * math.sqrt((Ec*Iyy*9.81)/(equivalent_mass_loading*length**4))\n",
    "mode1_mass = 9.87/(2*math.pi) * math.sqrt((Ec*Iyy*9.81)/(2*equivalent_mass_loading*length**4))\n",
    "\n",
    "print(f\"Expected frequency mode 1                      = {mode1_beam:.4f}Hz\")\n",
    "print(f\"Expected frequency mode 1 with additional mass = {mode1_mass:.4f}Hz\")"
   ]
  },
  {
   "cell_type": "markdown",
   "metadata": {},
   "source": [
    "#### Connect to LUSAS and create a new model database"
   ]
  },
  {
   "cell_type": "code",
   "execution_count": null,
   "metadata": {},
   "outputs": [],
   "source": [
    "import sys; sys.path.append('../') # Reference modules in parent directory\n",
    "from LPI_22_0 import *\n",
    "lusas = get_lusas_modeller()\n",
    "# if lusas.existsDatabase():\n",
    "#     raise Exception(\"This script will create a new model. Please save and close the current model and try again\")\n",
    "\n",
    "import m100_Tools_And_Helpers.Helpers as Helpers\n",
    "Helpers.initialise(lusas)"
   ]
  },
  {
   "cell_type": "code",
   "execution_count": null,
   "metadata": {},
   "outputs": [],
   "source": [
    "name = \"Beams_with_mass_frequency.mdl\" \n",
    "if transient_analysis:\n",
    "    name = \"Beams_with_mass_dynamic_point.mdl\" if dynamic_point_load else \"Beams_with_mass_support_acceleration.mdl\"\n",
    "\n",
    "# Create a new model\n",
    "lusas.newProject(\"Structural\", name)\n",
    "# Get a reference to the model database\n",
    "db = lusas.getDatabase()\n",
    "# 3D model with vertical z axis\n",
    "db.setAnalysisCategory(\"3D\")\n",
    "db.setVerticalDir(\"Z\")\n",
    "# Set the unit system\n",
    "db.setModelUnits(\"kN,m,t,s,C\")"
   ]
  },
  {
   "cell_type": "markdown",
   "metadata": {},
   "source": [
    "### Create model geometry"
   ]
  },
  {
   "cell_type": "code",
   "execution_count": null,
   "metadata": {},
   "outputs": [],
   "source": [
    "# Create a beam lines\n",
    "beams:list[IFLine] = []\n",
    "for z in beam_z_spacings:\n",
    "    beams.append(Helpers.create_line([0,0,z], [length, 0, z]))\n",
    "\n",
    "# Create a duplicate line to hold mass elements over the last line\n",
    "db.options().setBoolean(\"newFeaturesMergeable\", False)\n",
    "mass_line = Helpers.create_line([0,0,beam_z_spacings[-1]], [length, 0, beam_z_spacings[-1]])"
   ]
  },
  {
   "cell_type": "markdown",
   "metadata": {},
   "source": [
    "### Create model attributes"
   ]
  },
  {
   "cell_type": "code",
   "execution_count": null,
   "metadata": {},
   "outputs": [],
   "source": [
    "# Create a beam mesh attribute\n",
    "beam_mesh_attr = db.createMeshLine(\"Beam Mesh\")\n",
    "# Set the element type and size of elements BMI21 = 2Node thick beam elements, 1 = 1m length\n",
    "beam_mesh_attr.setSize(\"BMI21\", element_length)\n",
    "\n",
    "# Create a Non-Structural Mass mesh attribute\n",
    "mass_mesh_attr = db.createMeshLine(\"Non-Structural Mass Mesh\")\n",
    "mass_mesh_attr.setSize(\"LMS3\", element_length)\n",
    "\n",
    "# Create a equivalence mesh attribute, to combine the beam and mass meshes\n",
    "equivalence_mesh_attr = db.createEquivalence(\"Mass mesh equivalence\").setEquivalence(1e-1, True)"
   ]
  },
  {
   "cell_type": "code",
   "execution_count": null,
   "metadata": {},
   "outputs": [],
   "source": [
    "# Create a geometric attribute\n",
    "geometric_attr = Helpers.create_rectangular_section(db, \"Rectangular Section\", 0.3, 0.5)"
   ]
  },
  {
   "cell_type": "code",
   "execution_count": null,
   "metadata": {},
   "outputs": [],
   "source": [
    "# Create a linear elastic material attribute with a mass damping ratio of 5%\n",
    "material_attr = db.createIsotropicMaterial(f\"Concrete\", Ec, 0.2, concrete_mass, 10e-6, 5.0)\n",
    "material_attr.setDescription(f\"{concrete_mass=}(t/m³)\")\n",
    "\n",
    "material_double_mass_attr = db.createIsotropicMaterial(f\"Concrete double mass\", Ec, 0.2, 2*concrete_mass, 10e-6, 5.0)\n",
    "material_double_mass_attr.setDescription(f\"concrete_mass={2*concrete_mass}(t/m³)\")"
   ]
  },
  {
   "cell_type": "code",
   "execution_count": null,
   "metadata": {},
   "outputs": [],
   "source": [
    "# Create a mass material attribute\n",
    "mass_material_attr = db.create3dMassMaterial(f\"Mass material\", mass_material_per_metre, mass_material_per_metre, mass_material_per_metre, \"line\")\n",
    "mass_material_attr.setDescription(f\"{mass_material_per_metre=:.4f}(t/m)\")"
   ]
  },
  {
   "cell_type": "code",
   "execution_count": null,
   "metadata": {},
   "outputs": [],
   "source": [
    "# Create a section property modifier attribute\n",
    "section_property_modifier_attr = db.createSectionPropertyModifier(f\"Mass modification factor\")\n",
    "section_property_modifier_attr.setMassFactor(\"A\", mass_modification_factor)\n",
    "section_property_modifier_attr.setDescription(f\"{mass_modification_factor=}\")"
   ]
  },
  {
   "cell_type": "code",
   "execution_count": null,
   "metadata": {},
   "outputs": [],
   "source": [
    "# Create support attributes\n",
    "# Freedoms F=Free, R=Restrained, S=Spring\n",
    "pinned_support_attr = db.createSupportStructural(\"Pinned\")\n",
    "pinned_support_attr.setStructural(\"R\", \"R\", \"R\", \"R\", \"F\", \"R\", \"F\", \"F\", \"F\")\n",
    "\n",
    "slide_support_attr = db.createSupportStructural(\"Slide\")\n",
    "slide_support_attr.setStructural(\"F\", \"R\", \"R\", \"R\", \"F\", \"R\", \"F\", \"F\", \"F\")\n",
    "\n",
    "# This will be used to effectively remove beams from eigen analyses\n",
    "fully_fixed_support_attr = db.createSupportStructural(\"Fully Fixed\")\n",
    "fully_fixed_support_attr.setStructural(\"R\", \"R\", \"R\", \"R\", \"R\", \"R\", \"F\", \"F\", \"F\")"
   ]
  },
  {
   "cell_type": "code",
   "execution_count": null,
   "metadata": {},
   "outputs": [],
   "source": [
    "# Beam distributed loading\n",
    "beam_distributed_load_attr = db.createLoadingBeamDistributed(f\"Beam distributed load\")\n",
    "beam_distributed_load_attr.setBeamDistributed(\"Parametric\", \"Global\", \"beam\")\n",
    "beam_distributed_load_attr.addRow(0.0, 0.0, 0.0, -equivalent_mass_loading, 0.0, 0.0, 0.0, 1.0, 0.0, 0.0, -equivalent_mass_loading, 0.0, 0.0, 0.0)\n",
    "beam_distributed_load_attr.setDescription(f\"{equivalent_mass_loading=:.4f}(kN/m)\")\n",
    "# Global distributed loading\n",
    "global_distributed_load_attr = db.createLoadingGlobalDistributed(f\"Global distributed load\")\n",
    "global_distributed_load_attr.setGlobalDistributed(\"Length\", 0.0, 0.0, -equivalent_mass_loading, 0.0, 0.0, 0.0, 0.0, 0.0, False, 0.0)\n",
    "global_distributed_load_attr.setDescription(f\"{equivalent_mass_loading=:.4f}(kN/m)\")\n",
    "# Beam point load at midspan, used in transient analysis\n",
    "beam_point_attr = db.createLoadingBeamPoint(\"Beam point load \")\n",
    "beam_point_attr.setBeamPoint(\"Parametric\", \"Global\", \"beam\")\n",
    "beam_point_attr.addRow(0.5, 0.0, 0.0, -point_load, 0.0, 0.0, 0.0)\n",
    "# Unit acceleration load in Z\n",
    "acceleration_load_attr = db.createPrescribedAccelerationLoad(\"Unit acceleration in Z\").setAcceleration(\"W\", 1.0)"
   ]
  },
  {
   "cell_type": "code",
   "execution_count": null,
   "metadata": {},
   "outputs": [],
   "source": [
    "# Design attributes for identification\n",
    "design_attributes = []\n",
    "for i, id in enumerate([\"Glbl L2M\", \"Beam L2M\", \"2xDensity\", \"Mass Factor\", \"Mass Elements\"]):\n",
    "    attr = db.createDesignAttribute(id, \"MassType\", \"MassType\", \"Lines\")\n",
    "    attr.assignTo(beams[i+1])"
   ]
  },
  {
   "cell_type": "markdown",
   "metadata": {},
   "source": [
    "### Assign attributes to model geometry"
   ]
  },
  {
   "cell_type": "code",
   "execution_count": null,
   "metadata": {},
   "outputs": [],
   "source": [
    "# get the assignment object\n",
    "assignment = lusas.assignment().setAllDefaults()\n",
    "# Assign the mesh\n",
    "beam_mesh_attr.assignTo(beams, assignment)\n",
    "# Assign the geometry\n",
    "geometric_attr.assignTo(beams, assignment)\n",
    "# Assign the material\n",
    "material_attr.assignTo(beams, assignment)\n",
    "\n",
    "# Special mass elements\n",
    "mass_mesh_attr.assignTo(mass_line, assignment)\n",
    "mass_material_attr.assignTo(mass_line, assignment)\n",
    "# Equivalence the mass and beam meshes of teh last beam\n",
    "equivalence_mesh_attr.assignTo(mass_line, assignment)\n",
    "equivalence_mesh_attr.assignTo(beams[-1], assignment)\n",
    "\n",
    "# Mass Modifier\n",
    "section_property_modifier_attr.assignTo(beams[-2])\n",
    "\n",
    "# 2x Mass Material\n",
    "material_double_mass_attr.assignTo(beams[-3])\n",
    "\n",
    "# Loads to mass\n",
    "global_distributed_load_attr.assignTo(beams[-4], assignment)\n",
    "beam_distributed_load_attr.assignTo(beams[-5], assignment)\n",
    "\n",
    "# Assign the supports to the points of the line\n",
    "for line in beams:\n",
    "    pinned_support_attr.assignTo(line.getStartPoint(), assignment)\n",
    "    slide_support_attr.assignTo(line.getEndPoint(), assignment)"
   ]
  },
  {
   "cell_type": "markdown",
   "metadata": {},
   "source": [
    "### Create loadcases and analyses"
   ]
  },
  {
   "cell_type": "markdown",
   "metadata": {},
   "source": [
    "Linear Static Analysis"
   ]
  },
  {
   "cell_type": "code",
   "execution_count": null,
   "metadata": {},
   "outputs": [],
   "source": [
    "linear_static_analysis = db.getAnalysis(\"Analysis 1\")\n",
    "linear_static_analysis.setName(\"00 Linear Static\")\n",
    "# Rename the loadcase\n",
    "first_loadcase = Helpers.get_loadcase(1)\n",
    "first_loadcase.setName(\"Gravity\")\n",
    "first_loadcase.addGravity(True)"
   ]
  },
  {
   "cell_type": "markdown",
   "metadata": {},
   "source": [
    "Helper methods for creation of eigenvalue frequency analyses with and without loading to mass conversion"
   ]
  },
  {
   "cell_type": "code",
   "execution_count": null,
   "metadata": {},
   "outputs": [],
   "source": [
    "def create_eigen_analysis(name:str, loadcase_name:str, no_modes=2) -> IFLoadcase:\n",
    "    # Create a new analysis without an initial loadcase\n",
    "    db.createAnalysisStructural(name, False)\n",
    "    first_loadcase = db.createLoadcase(loadcase_name, name)\n",
    "    # Set the loadcase controls to be a frequency analysis searching for the minimum no_modes natural frequencies\n",
    "    first_loadcase.setEigenvalueMaxMinControl(\"Frequency\", \"Minimum\", no_modes)\n",
    "    # Set the eiegenvector normalisation procedure to mass for a frequency analysis - This just scales the resulting eigenvector and is the default setting\n",
    "    first_loadcase.getEigenvalueControl().setValue(\"NormalisationProcedure\", \"GlobalMass\").setValue(\"Eigensolver\", \"Default\")\n",
    "    return first_loadcase"
   ]
  },
  {
   "cell_type": "code",
   "execution_count": null,
   "metadata": {},
   "outputs": [],
   "source": [
    "def create_eigen_analysis_load_to_mass(name:str, loadcase_name:str, no_modes=2) -> IFLoadcase:\n",
    "    # Create a new analysis without an initial loadcase\n",
    "    db.createAnalysisStructural(name, False)\n",
    "    first_loadcase = db.createLoadcase(loadcase_name, name)\n",
    "    # Set the loadcase controls to be a frequency analysis searching for the minimum no_modes natural frequencies\n",
    "    first_loadcase.setEigenvalueMaxMinControl(\"Frequency\", \"Minimum\", no_modes)\n",
    "    # Set the eiegenvector normalisation procedure to mass for a frequency analysis - This just scales the resulting eigenvector and is the default setting\n",
    "    first_loadcase.getEigenvalueControl().setValue(\"NormalisationProcedure\", \"GlobalMass\")\n",
    "    # Consider the assigned loading as mass in the eigenvalue analysis\n",
    "    first_loadcase.getEigenvalueControl().setValue(\"loadToMass\", True).setValue(\"Eigensolver\", \"Default\")\n",
    "    return first_loadcase"
   ]
  },
  {
   "cell_type": "code",
   "execution_count": null,
   "metadata": {},
   "outputs": [],
   "source": [
    "# Reverse the beam order so we count down from highest z coordinate\n",
    "beams.reverse()"
   ]
  },
  {
   "cell_type": "code",
   "execution_count": null,
   "metadata": {},
   "outputs": [],
   "source": [
    "if not transient_analysis:\n",
    "\n",
    "    for i, beam in enumerate(beams):\n",
    "        loadcase = create_eigen_analysis(f\"0{i+1} Eig freq\", f\"Beam {i+1}\")\n",
    "        assignment = lusas.assignment().setAllDefaults().setLoadset(loadcase)\n",
    "        fully_fixed_support_attr.assignTo(beams[:i]+beams[i+1:], assignment) # Fix all beams other than the current one\n",
    "\n",
    "    for i in [3,4]:\n",
    "        loadcase = create_eigen_analysis_load_to_mass(f\"1{i+1} Eig freq L2M\", f\"Beam-{i+1} (L2M)\")\n",
    "        assignment = lusas.assignment().setAllDefaults().setLoadset(loadcase)\n",
    "        fully_fixed_support_attr.assignTo(beams[:i]+beams[i+1:], assignment)\n",
    "        if i == 3: beam_distributed_load_attr.assignTo(beams[i], assignment)    \n",
    "        if i == 4: global_distributed_load_attr.assignTo(beams[i], assignment)"
   ]
  },
  {
   "cell_type": "markdown",
   "metadata": {},
   "source": [
    "Create transient analyses"
   ]
  },
  {
   "cell_type": "code",
   "execution_count": null,
   "metadata": {},
   "outputs": [],
   "source": [
    "def create_transient_dynamic_analysis(name:str, loadcase_name:str, initial_step=0.01, total_time=2) -> IFLoadcase:\n",
    "    # Create a new analysis without an initial loadcase\n",
    "    db.createAnalysisStructural(name, False)\n",
    "    first_loadcase = db.createLoadcase(loadcase_name, name)\n",
    "    # Add a transient control to the loadcase\n",
    "    first_loadcase.setTransientControl(0)\n",
    "    cntrl = first_loadcase.getTransientControl()\n",
    "    # Set the transient control for an implicit analysis in the time domain with an initial time step\n",
    "    cntrl.setTimeDomainDynamics(initial_step, False).setOutput().setConstants()\n",
    "    # The total response time\n",
    "    cntrl.setValue(\"TotalResponseTime\", total_time)\n",
    "    return first_loadcase"
   ]
  },
  {
   "cell_type": "code",
   "execution_count": null,
   "metadata": {},
   "outputs": [],
   "source": [
    "if transient_analysis:\n",
    "    for i, beam in enumerate(beams):\n",
    "        loadcase = create_transient_dynamic_analysis(f\"0{i+1} Transient Dynamic\", f\"Beam {i+1}\")\n",
    "        assignment = lusas.assignment().setAllDefaults().setLoadset(loadcase)\n",
    "        # Fix all beams other than the current one\n",
    "        fully_fixed_support_attr.assignTo(beams[:i]+beams[i+1:], assignment) \n",
    "\n",
    "        if dynamic_point_load:\n",
    "            beam_point_attr.assignTo(beam, assignment)\n",
    "        else:\n",
    "            # Load curve defined by sinusoidal variation\n",
    "            load_curve = db.createLoadCurveStandard(f\"Support acceleration curve - Beam {i+1}\", \"Sine\", loadcase.getAnalysis().getName(), 0)\n",
    "            load_curve.setStandardLoadCurve(0.0, 10, 24.0, 0.0, 1.0, \"Sine\", False, 0.0, 0.0) \n",
    "            assignment = lusas.assignment().setAllDefaults().setLoadset(load_curve)\n",
    "            acceleration_load_attr.assignTo(beam.getStartPoint(), assignment)\n",
    "            # if i in [3,4]:\n",
    "            #     # Add a loadcurve of non-varying loads (gravity)\n",
    "            #     load_curve_const = db.createLoadCurveTable(\"Gravity\", 0.0, 1.0, \"Transient\", 0)\n",
    "            #     load_curve_const.setTableData([0,1], [1,1])\n",
    "            #     assignment = lusas.assignment().setAllDefaults().setLoadset(load_curve_const)\n",
    "            #     acceleration_load_attr.assignTo(beam.getStartPoint(), assignment)"
   ]
  },
  {
   "cell_type": "markdown",
   "metadata": {},
   "source": [
    "### Mesh the model"
   ]
  },
  {
   "cell_type": "code",
   "execution_count": null,
   "metadata": {},
   "outputs": [],
   "source": [
    "db.resetMesh()\n",
    "db.updateMesh()"
   ]
  },
  {
   "cell_type": "markdown",
   "metadata": {},
   "source": [
    "## Solve and open results"
   ]
  },
  {
   "cell_type": "code",
   "execution_count": null,
   "metadata": {},
   "outputs": [],
   "source": [
    "for analysis in db.getAnalyses():\n",
    "    analysis.solve(True)\n",
    "db.openAllResults(False)"
   ]
  },
  {
   "cell_type": "markdown",
   "metadata": {},
   "source": [
    "### Set the display properties"
   ]
  },
  {
   "cell_type": "code",
   "execution_count": null,
   "metadata": {},
   "outputs": [],
   "source": [
    "lusas.view().setFromAxis(\"+X+Z\")\n",
    "\n",
    "# Diagrams layer\n",
    "lusas.view().insertDiagramsLayer()\n",
    "lusas.view().diagrams().setResults(\"Force/Moment - Thick 3D Beam\", \"My\")\n",
    "lusas.view().diagrams().setLocation(\"Gauss\")\n",
    "lusas.view().diagrams().setShowDeformed(True)\n",
    "\n",
    "# Values layer\n",
    "lusas.view().insertValuesLayer()\n",
    "lusas.view().values().setResults(\"Displacement\", \"DZ\")\n",
    "lusas.view().values().setShowDeformed(True)\n",
    "\n",
    "# Contours layer\n",
    "lusas.view().insertContoursLayer()\n",
    "lusas.view().contours().setResultsTransformNone()\n",
    "lusas.view().contours().setResults(\"Displacement\", \"DZ\")\n",
    "lusas.view().contours().chooseSettings(1)\n",
    "lusas.view().contours().setShowDeformed(True)\n",
    "\n",
    "# Annotations layer (keys)\n",
    "lusas.view().insertAnnotationLayer()\n",
    "lusas.view().geometry().autoColourByAttributes(\"Design.MassType\", True)\n",
    "\n",
    "# Attributes Layer (Fleshing/Supports etc)\n",
    "lusas.view().attributes().setShowDeformed(\"Geometric\", True)\n",
    "# lusas.view().showCoordSystem(False)\n",
    "# lusas.view().attributes().visualiseNone(\"Supports\")\n",
    "\n",
    "# Results summary\n",
    "lusas.view().showViewSummary(True)\n"
   ]
  },
  {
   "cell_type": "code",
   "execution_count": null,
   "metadata": {},
   "outputs": [],
   "source": [
    "def get_beam(i:int)->IFLine:\n",
    "    return beams[i]"
   ]
  },
  {
   "cell_type": "code",
   "execution_count": null,
   "metadata": {},
   "outputs": [],
   "source": [
    "import plotly.express as px\n",
    "\n",
    "if transient_analysis and dynamic_point_load :\n",
    "    for i in [1,2,3,4,5]: #range(len(beams)):\n",
    "\n",
    "        beam_line = get_beam(i-1)\n",
    "        loadcase = Helpers.get_loadcase(i+1)\n",
    "\n",
    "        response_time = []\n",
    "        beam_deflections = []\n",
    "        for results_loadset in loadcase.getResultsLoadcases():\n",
    "            lusas.view().setActiveLoadset(results_loadset)\n",
    "\n",
    "            response_time.append(results_loadset.getValue(\"RSPTIM\"))\n",
    "            results = beam_line.getResults(\"feature min\", \"Displacement\", \"DZ\")\n",
    "            beam_deflections.append(results[0])\n",
    "            \n",
    "        fig = px.line(y=beam_deflections, x=response_time, labels={'y':\"Dispacement [m]\", 'x':\"Response time [s]\"}, \n",
    "                      markers=True, title=f\"Beam {i} min displacement = {min(beam_deflections):.5f}\")\n",
    "        fig.show()"
   ]
  },
  {
   "cell_type": "code",
   "execution_count": null,
   "metadata": {},
   "outputs": [],
   "source": [
    "import plotly.express as px\n",
    "\n",
    "if transient_analysis and not dynamic_point_load :\n",
    "    for i in [1,2,3,4,5]: #range(len(beams)):\n",
    "\n",
    "        beam_line = get_beam(i-1)\n",
    "        node = beam_line.getEndPoint().getNodes()[0]\n",
    "        loadcase = Helpers.get_loadcase(i*2)\n",
    "\n",
    "        response_time = []\n",
    "        beam_reactions = []\n",
    "        for results_loadset in loadcase.getResultsLoadcases():\n",
    "            lusas.view().setActiveLoadset(results_loadset)\n",
    "\n",
    "            response_time.append(results_loadset.getValue(\"RSPTIM\"))\n",
    "            results = node.getResults(\"Reaction\", \"FZ\")\n",
    "            beam_reactions.append(results[0])\n",
    "            \n",
    "        fig = px.line(y=beam_reactions, x=response_time, labels={'y':\"Reaction [kN]\", 'x':\"Response time [s]\"}, \n",
    "                      markers=True, title=f\"Beam {i} max abs reaction = {max([abs(m) for m in beam_reactions]):.5f}\")\n",
    "        fig.show()"
   ]
  }
 ],
 "metadata": {
  "kernelspec": {
   "display_name": "Python 3",
   "language": "python",
   "name": "python3"
  },
  "language_info": {
   "codemirror_mode": {
    "name": "ipython",
    "version": 3
   },
   "file_extension": ".py",
   "mimetype": "text/x-python",
   "name": "python",
   "nbconvert_exporter": "python",
   "pygments_lexer": "ipython3",
   "version": "3.13.2"
  }
 },
 "nbformat": 4,
 "nbformat_minor": 2
}
