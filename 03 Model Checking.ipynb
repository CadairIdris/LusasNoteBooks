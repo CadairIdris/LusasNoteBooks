{
 "cells": [
  {
   "cell_type": "markdown",
   "metadata": {},
   "source": [
    "<H2>Print attribute values for checking</H2>"
   ]
  },
  {
   "cell_type": "code",
   "execution_count": 1,
   "metadata": {},
   "outputs": [],
   "source": [
    "import pandas as pd\n",
    "import win32com.client as win32\n",
    "lusas = win32.gencache.EnsureDispatch(\"Lusas.Modeller.22.0\")\n",
    "if not lusas.existsDatabase():\n",
    "    Exception(\"A model must be open before running this code\")\n",
    "\n",
    "db = lusas.database() # Reference to the database for convenience"
   ]
  },
  {
   "cell_type": "markdown",
   "metadata": {},
   "source": [
    "# 1. Write out attribute values"
   ]
  },
  {
   "cell_type": "code",
   "execution_count": 2,
   "metadata": {},
   "outputs": [
    {
     "name": "stdout",
     "output_type": "stream",
     "text": [
      "t : 1.0 m\n",
      "ez : 0.0 m\n"
     ]
    }
   ],
   "source": [
    "# Check if the geometic attribute with ID of 1 exists\n",
    "if lusas.db().existsAttribute(\"Geometric\", 1):\n",
    "    # Get the geometric attribute with ID=1\n",
    "    geom_attr = lusas.db().getAttribute(\"Geometric\", 1)\n",
    "\n",
    "    # Loop through the attributes value names and print out the corresponding values and units\n",
    "    for name in geom_attr.getValueNames():\n",
    "        print(f\"{name} : {geom_attr.getValue(name)} {geom_attr.getValueUnits(name)}\")"
   ]
  },
  {
   "cell_type": "markdown",
   "metadata": {},
   "source": [
    "Or we can request them in a particular unit set"
   ]
  },
  {
   "cell_type": "code",
   "execution_count": 3,
   "metadata": {},
   "outputs": [
    {
     "name": "stdout",
     "output_type": "stream",
     "text": [
      "t : 1000.0 mm\n",
      "ez : 0.0 mm\n"
     ]
    }
   ],
   "source": [
    "# Check if the geometic attribute with ID of 1 exists\n",
    "if lusas.db().existsAttribute(\"Geometric\", 1):\n",
    "    # Get the geometric attribute with ID=1\n",
    "    geom_attr = lusas.db().getAttribute(\"Geometric\", 1)\n",
    "\n",
    "    # Determine a unit set\n",
    "    si_units = lusas.getUnitSet(\"N,mm,t,s,C\")\n",
    "\n",
    "    # Loop through the attributes value names and print out the corresponding values and units in the given unit set\n",
    "    for name in geom_attr.getValueNames():\n",
    "        print(f\"{name} : {geom_attr.getValue(name, si_units)} {geom_attr.getValueUnits(name, si_units)}\")"
   ]
  },
  {
   "cell_type": "markdown",
   "metadata": {},
   "source": [
    "Generate a table of all attribute values and export to excel"
   ]
  },
  {
   "cell_type": "code",
   "execution_count": 4,
   "metadata": {},
   "outputs": [],
   "source": [
    "# Get all the geometric attributes\n",
    "all_geometric_attributes = lusas.db().getAttributes(\"Geometric\")"
   ]
  },
  {
   "cell_type": "markdown",
   "metadata": {},
   "source": [
    "# 2. Combination definitions"
   ]
  },
  {
   "cell_type": "markdown",
   "metadata": {},
   "source": [
    "2.1 Basic Combinations"
   ]
  },
  {
   "cell_type": "code",
   "execution_count": 5,
   "metadata": {},
   "outputs": [
    {
     "name": "stdout",
     "output_type": "stream",
     "text": [
      "       Combination  Name  Factor  Name  Factor\n",
      "0  256:BCempty3051  None     NaN  None     NaN\n",
      "1  257:BCempty3052  None     NaN  None     NaN\n",
      "2  258:BCempty3053  None     NaN  None     NaN\n",
      "3  259:BCempty3054  None     NaN  None     NaN\n",
      "4   260:BCempty305  None     NaN  None     NaN\n"
     ]
    }
   ],
   "source": [
    "# Get all the basic combinations\n",
    "all_basic_combinations = lusas.db().getLoadsets(\"Basic Combinations\")\n",
    "\n",
    "# Create a list to store all the combination data\n",
    "combs_data = []\n",
    "# Maintain the max number of loadsets in the combinations so we can create the correct number of column headers\n",
    "max_loadsets = 0\n",
    "\n",
    "for combination in all_basic_combinations:\n",
    "    # Get a list of all the loadsets in the ocmbination\n",
    "    ids = combination.getLoadcaseIDs()\n",
    "    # Get a list of all the corresponding factors\n",
    "    factors = combination.getFactors()\n",
    "    # Create a list which will store all loadset names and factors but starts with the combination name\n",
    "    combination_loadsets_and_factors = [combination.getIDAndName()]\n",
    "    # Append each loadset name followed by the factor used\n",
    "    for i, id in enumerate(ids):\n",
    "        loadset = lusas.db().getLoadset(id)\n",
    "        combination_loadsets_and_factors.append(loadset.getIDAndNameAndDescription())\n",
    "        combination_loadsets_and_factors.append(factors[i])\n",
    "\n",
    "    max_loadsets = max(max_loadsets, len(ids))\n",
    "    \n",
    "    combs_data.append(combination_loadsets_and_factors)\n",
    "\n",
    "# Create a list for the column headers\n",
    "column_headers = [\"Combination\"] + [\"Name\", \"Factor\"]*max_loadsets\n",
    "# Use a pandas dataframe to export to xlsx format\n",
    "df = pd.DataFrame(combs_data, columns= column_headers)\n",
    "\n",
    "import os\n",
    "desktop = os.path.expanduser(\"~/Desktop\")\n",
    "df.to_excel(rf\"{desktop}\\{lusas.db().getDBBasename()}-Basic Combinations.xlsx\")\n",
    "# Print the top few elements of the dataframe as a check\n",
    "print(df.head())"
   ]
  },
  {
   "cell_type": "markdown",
   "metadata": {},
   "source": [
    "2.2 Smart combinations"
   ]
  },
  {
   "cell_type": "code",
   "execution_count": null,
   "metadata": {},
   "outputs": [],
   "source": [
    "# Get all the smart combinations\n",
    "all_smart_combinations = lusas.db().getLoadsets(\"Smart Combinations\")\n",
    "\n",
    "# Create a list to store all the combination data\n",
    "combs_data = []\n",
    "# Maintain the max number of loadsets in the combinations so we can create the correct number of column headers\n",
    "max_loadsets = 0\n",
    "\n",
    "for combination in all_smart_combinations:\n",
    "    # Smart combinations have two loadsets but they have equal definitions so we'll just report the max case\n",
    "    if combination.isMax():\n",
    "        # Get a list of all the loadsets in the ocmbination\n",
    "        ids = combination.getLoadcaseIDs()\n",
    "        # Get a list of all the corresponding permanent factors\n",
    "        permanent_factors = combination.getPermanentFactors()\n",
    "        # Get a list of all the corresponding variable factors\n",
    "        variable_factors = combination.getVariableFactors()\n",
    "        # Create a list which will store all loadset names and factors but starts with the combination name\n",
    "        combination_loadsets_and_factors = [combination.getIDAndName()]\n",
    "        # Append each loadset name followed by the factor used\n",
    "        for i, id in enumerate(ids):\n",
    "            loadset = lusas.db().getLoadset(id)\n",
    "            combination_loadsets_and_factors.append(loadset.getIDAndNameAndDescription())\n",
    "            combination_loadsets_and_factors.append(permanent_factors[i])\n",
    "            combination_loadsets_and_factors.append(permanent_factors[i]+variable_factors[i]) # Note that the adverse factor is made up of a permanent and variable parts\n",
    "\n",
    "        max_loadsets = max(max_loadsets, len(ids))\n",
    "        \n",
    "        combs_data.append(combination_loadsets_and_factors)\n",
    "\n",
    "# Create a list for the column headers\n",
    "column_headers = [\"Combination\"] + [\"Name\", \"Beneficial\", \"Adverse\"]*max_loadsets\n",
    "# Use a pandas dataframe to export to xlsx format\n",
    "df = pd.DataFrame(combs_data, columns= column_headers)\n",
    "\n",
    "import os\n",
    "desktop = os.path.expanduser(\"~/Desktop\")\n",
    "df.to_excel(rf\"{desktop}\\{lusas.db().getDBBasename()}-Smart Combinations.xlsx\")\n",
    "# Print the top few elements of the dataframe as a check\n",
    "print(df.head())"
   ]
  },
  {
   "cell_type": "markdown",
   "metadata": {},
   "source": [
    "2.3 Envelopes"
   ]
  },
  {
   "cell_type": "code",
   "execution_count": 11,
   "metadata": {},
   "outputs": [
    {
     "name": "stdout",
     "output_type": "stream",
     "text": [
      "216:ENV Stödförskjutning\n",
      "217:ENV Stödförskjutning\n",
      "218:ENV Temperatur\n",
      "219:ENV Temperatur\n",
      "220:ENV Vind\n",
      "221:ENV Vind\n",
      "222:ENV Bygglast\n",
      "223:ENV Bygglast\n",
      "224:ENV Snölast\n",
      "225:ENV Snölast\n",
      "226:empty206\n",
      "227:empty206\n",
      "228:empty207\n",
      "229:empty207\n",
      "230:empty208\n",
      "231:empty208\n",
      "232:empty209\n",
      "233:empty209\n",
      "234:empty210\n",
      "235:empty210\n",
      "236:empty211\n",
      "237:empty211\n",
      "238:empty212\n",
      "239:empty212\n",
      "240:empty213\n",
      "241:empty213\n",
      "242:empty214\n",
      "243:empty214\n",
      "244:empty215\n",
      "245:empty215\n",
      "246:empty216\n",
      "247:empty216\n",
      "248:Psi 1 Multi - Frequent_MAX\n",
      "249:Psi 1 Multi - Frequent_MAX\n",
      "250:Psi 1 Multi - Frequent_MIN\n",
      "251:Psi 1 Multi - Frequent_MIN\n",
      "252:>>>Kombinderade TS+UDL (ENV av VLO och stegning)_MAX\n",
      "253:>>>Kombinderade TS+UDL (ENV av VLO och stegning)_MAX\n",
      "254:>>>Kombinderade TS+UDL (ENV av VLO och stegning)_MIN\n",
      "255:>>>Kombinderade TS+UDL (ENV av VLO och stegning)_MIN\n",
      "348:LM1 (TS+UDL) Stegning_MAX\n",
      "349:LM1 (TS+UDL) Stegning_MAX\n",
      "350:LM1 (TS+UDL) Stegning_MIN\n",
      "351:LM1 (TS+UDL) Stegning_MIN\n",
      "352:>>>LM1+TYPFORDON (Sidokraft)\n",
      "353:>>>LM1+TYPFORDON (Sidokraft)\n",
      "354:>>>LM1+TYPFORDON (Bromskraft)\n",
      "355:>>>LM1+TYPFORDON (Bromskraft)\n",
      "356:LM1+TYPFORDON (TS+UDL) TLO\n",
      "357:LM1+TYPFORDON (TS+UDL) TLO\n",
      "1048:LM1 UDL Y=0 - Characteristic\n",
      "1049:LM1 UDL Y=0 - Characteristic\n",
      "1050:LM1 TS Y=0 - Characteristic\n",
      "1051:LM1 TS Y=0 - Characteristic\n",
      "1052:LM1 UDL Y=5 - Characteristic\n",
      "1053:LM1 UDL Y=5 - Characteristic\n",
      "1054:LM1 TS Y=5 - Characteristic\n",
      "1055:LM1 TS Y=5 - Characteristic\n",
      "1056:^^^gr1b (LM2) - Characteristic\n",
      "1057:^^^gr1b (LM2) - Characteristic\n",
      "1058:Psi k MULTI - Char_MAX\n",
      "1059:Psi k MULTI - Char_MAX\n",
      "1068:Psi k MULTI - Char_MIN\n",
      "1069:Psi k MULTI - Char_MIN\n",
      "1175:Utmattningslast\n",
      "1176:Utmattningslast\n",
      "1177:EQU MAX\n",
      "1178:EQU MAX\n",
      "1179:EQU MIN\n",
      "1180:EQU MIN\n",
      "1181:STR GEO MAX\n",
      "1182:STR GEO MAX\n",
      "1183:STR GEO MIN\n",
      "1184:STR GEO MIN\n",
      "1185:FAT MAX\n",
      "1186:FAT MAX\n",
      "1187:FAT MIN\n",
      "1188:FAT MIN\n",
      "1189:KAR MAX\n",
      "1190:KAR MAX\n",
      "1191:KAR MIN\n",
      "1192:KAR MIN\n",
      "                   Envelope                                              Type  \\\n",
      "0  216:ENV Stödförskjutning            5:Stödförskjutning LC1 %%%%%%%%%%%%%%%   \n",
      "1  217:ENV Stödförskjutning            5:Stödförskjutning LC1 %%%%%%%%%%%%%%%   \n",
      "2        218:ENV Temperatur  1237:Temperaturändring LC1 &#%&#%&#%&#%&#%&#%&#%   \n",
      "3        219:ENV Temperatur  1237:Temperaturändring LC1 &#%&#%&#%&#%&#%&#%&#%   \n",
      "4              220:ENV Vind             277:Vind LC4 +Y $$$$$$$$$$$$$$$$ [ok]   \n",
      "\n",
      "  Name                                   Type Name  \\\n",
      "0  0.0                 6:Stödförskjutning LC2  0.0   \n",
      "1  0.0                 6:Stödförskjutning LC2  0.0   \n",
      "2  2.0             1238:Temperaturändring LC2  2.0   \n",
      "3  2.0             1238:Temperaturändring LC2  2.0   \n",
      "4  0.0  278:Vind LC4 -Y $$$$$$$$$$$$$$$$ [ok]  0.0   \n",
      "\n",
      "                                             Type Name  \\\n",
      "0                          7:Stödförskjutning LC3  0.0   \n",
      "1                          7:Stödförskjutning LC3  0.0   \n",
      "2                      1239:Temperaturändring LC3  2.0   \n",
      "3                      1239:Temperaturändring LC3  2.0   \n",
      "4  321:Vind LC1 (f. utsida) Övre $$$$$$$$$$$$$$$$  0.0   \n",
      "\n",
      "                            Type Name                            Type  ...  \\\n",
      "0         8:Stödförskjutning LC4  0.0          9:Stödförskjutning LC5  ...   \n",
      "1         8:Stödförskjutning LC4  0.0          9:Stödförskjutning LC5  ...   \n",
      "2     1240:Temperaturändring LC4  2.0      1241:Temperaturändring LC5  ...   \n",
      "3     1240:Temperaturändring LC4  2.0      1241:Temperaturändring LC5  ...   \n",
      "4  322:Vind LC2 (f. insida) Övre  0.0  323:Vind LC1 (f. utsida) Undre  ...   \n",
      "\n",
      "   Type Name  Type Name  Type Name  Type Name  Type Name  \n",
      "0  None  NaN  None  NaN  None  NaN  None  NaN  None  NaN  \n",
      "1  None  NaN  None  NaN  None  NaN  None  NaN  None  NaN  \n",
      "2  None  NaN  None  NaN  None  NaN  None  NaN  None  NaN  \n",
      "3  None  NaN  None  NaN  None  NaN  None  NaN  None  NaN  \n",
      "4  None  NaN  None  NaN  None  NaN  None  NaN  None  NaN  \n",
      "\n",
      "[5 rows x 1151 columns]\n"
     ]
    }
   ],
   "source": [
    "lusas.setVisible(False)\n",
    "# Get all the envelopes\n",
    "all_envelopes = lusas.db().getLoadsets(\"Envelopes\")\n",
    "\n",
    "# Create a list to store all the envelope data\n",
    "env_data = []\n",
    "# Maintain the max number of loadsets in the envelope so we can create the correct number of column headers\n",
    "max_loadsets = 0\n",
    "\n",
    "for envelope in all_envelopes:\n",
    "    print(envelope.getIDAndName())\n",
    "    # Get a list of all the loadsets in the envelope\n",
    "    ids = envelope.getLoadcaseIDs()\n",
    "    # Create a list which will store all loadset names and factors but starts with the combination name\n",
    "    envelope_loadsets = [envelope.getIDAndName()]\n",
    "    # Append each loadset name followed by the loadset type\n",
    "    for id in ids:\n",
    "        loadset = lusas.db().getLoadset(id)\n",
    "        envelope_loadsets.append(loadset.getIDAndNameAndDescription())        \n",
    "        envelope_loadsets.append(loadset.getTypeCode())\n",
    "\n",
    "    max_loadsets = max(max_loadsets, len(ids))\n",
    "    \n",
    "    env_data.append(envelope_loadsets)\n",
    "\n",
    "# Create a list for the column headers\n",
    "column_headers = [\"Envelope\"] + [\"Name\", \"Type\"]*max_loadsets\n",
    "# Use a pandas dataframe to export to xlsx format\n",
    "df = pd.DataFrame(env_data, columns=column_headers)\n",
    "\n",
    "import os\n",
    "desktop = os.path.expanduser(\"~/Desktop\")\n",
    "df.to_excel(rf\"{desktop}\\{lusas.db().getDBBasename()}-Envelopes.xlsx\")\n",
    "# Print the top few elements of the dataframe as a check\n",
    "print(df.head())\n",
    "lusas.setVisible(True)"
   ]
  }
 ],
 "metadata": {
  "kernelspec": {
   "display_name": "Python 3",
   "language": "python",
   "name": "python3"
  },
  "language_info": {
   "codemirror_mode": {
    "name": "ipython",
    "version": 3
   },
   "file_extension": ".py",
   "mimetype": "text/x-python",
   "name": "python",
   "nbconvert_exporter": "python",
   "pygments_lexer": "ipython3",
   "version": "3.12.3"
  }
 },
 "nbformat": 4,
 "nbformat_minor": 2
}
