{
 "cells": [
  {
   "cell_type": "markdown",
   "metadata": {},
   "source": [
    "<H2>Print attribute values for checking</H2>"
   ]
  },
  {
   "cell_type": "code",
   "execution_count": 2,
   "metadata": {},
   "outputs": [],
   "source": [
    "import pandas as pd\n",
    "import win32com.client as win32\n",
    "lusas = win32.gencache.EnsureDispatch(\"Lusas.Modeller.22.0\")\n",
    "if not lusas.existsDatabase():\n",
    "    Exception(\"A model must be open before running this code\")\n",
    "\n",
    "db = lusas.database() # Reference to the database for convenience"
   ]
  },
  {
   "cell_type": "markdown",
   "metadata": {},
   "source": [
    "# 1. Write out attribute values"
   ]
  },
  {
   "cell_type": "code",
   "execution_count": 3,
   "metadata": {},
   "outputs": [],
   "source": [
    "# Check if the geometic attribute with ID of 1 exists\n",
    "if lusas.db().existsAttribute(\"Geometric\", 1):\n",
    "    # Get the geometric attribute with ID=1\n",
    "    geom_attr = lusas.db().getAttribute(\"Geometric\", 1)\n",
    "\n",
    "    # Loop through the attributes value names and print out the corresponding values and units\n",
    "    for name in geom_attr.getValueNames():\n",
    "        print(f\"{name} : {geom_attr.getValue(name)} {geom_attr.getValueUnits(name)}\")"
   ]
  },
  {
   "cell_type": "markdown",
   "metadata": {},
   "source": [
    "Or we can request them in a particular unit set"
   ]
  },
  {
   "cell_type": "code",
   "execution_count": 4,
   "metadata": {},
   "outputs": [],
   "source": [
    "# Check if the geometic attribute with ID of 1 exists\n",
    "if lusas.db().existsAttribute(\"Geometric\", 1):\n",
    "    # Get the geometric attribute with ID=1\n",
    "    geom_attr = lusas.db().getAttribute(\"Geometric\", 1)\n",
    "\n",
    "    # Determine a unit set\n",
    "    si_units = lusas.getUnitSet(\"N,mm,t,s,C\")\n",
    "\n",
    "    # Loop through the attributes value names and print out the corresponding values and units in the given unit set\n",
    "    for name in geom_attr.getValueNames():\n",
    "        print(f\"{name} : {geom_attr.getValue(name, si_units)} {geom_attr.getValueUnits(name, si_units)}\")"
   ]
  },
  {
   "cell_type": "markdown",
   "metadata": {},
   "source": [
    "Generate a table of all attribute values and export to excel"
   ]
  },
  {
   "cell_type": "code",
   "execution_count": 5,
   "metadata": {},
   "outputs": [],
   "source": [
    "# Get all the geometric attributes\n",
    "all_geometric_attributes = lusas.db().getAttributes(\"Geometric\")"
   ]
  },
  {
   "cell_type": "markdown",
   "metadata": {},
   "source": [
    "# 2. Combination definitions"
   ]
  },
  {
   "cell_type": "markdown",
   "metadata": {},
   "source": [
    "2.1 Basic Combinations"
   ]
  },
  {
   "cell_type": "code",
   "execution_count": 6,
   "metadata": {},
   "outputs": [
    {
     "name": "stdout",
     "output_type": "stream",
     "text": [
      "Empty DataFrame\n",
      "Columns: [Combination]\n",
      "Index: []\n"
     ]
    }
   ],
   "source": [
    "# Get all the basic combinations\n",
    "all_basic_combinations = lusas.db().getLoadsets(\"Basic Combinations\")\n",
    "\n",
    "# Create a list to store all the combination data\n",
    "combs_data = []\n",
    "# Maintain the max number of loadsets in the combinations so we can create the correct number of column headers\n",
    "max_loadsets = 0\n",
    "\n",
    "for combination in all_basic_combinations:\n",
    "    # Get a list of all the loadsets in the ocmbination\n",
    "    ids = combination.getLoadcaseIDs()\n",
    "    # Get a list of all the corresponding factors\n",
    "    factors = combination.getFactors()\n",
    "    # Create a list which will store all loadset names and factors but starts with the combination name\n",
    "    combination_loadsets_and_factors = [combination.getIDAndName()]\n",
    "    # Append each loadset name followed by the factor used\n",
    "    for i, id in enumerate(ids):\n",
    "        loadset = lusas.db().getLoadset(id)\n",
    "        combination_loadsets_and_factors.append(loadset.getIDAndNameAndDescription())\n",
    "        combination_loadsets_and_factors.append(factors[i])\n",
    "\n",
    "    max_loadsets = max(max_loadsets, len(ids))\n",
    "    \n",
    "    combs_data.append(combination_loadsets_and_factors)\n",
    "\n",
    "# Create a list for the column headers\n",
    "column_headers = [\"Combination\"] + [\"Name\", \"Factor\"]*max_loadsets\n",
    "# Use a pandas dataframe to export to xlsx format\n",
    "df = pd.DataFrame(combs_data, columns= column_headers)\n",
    "\n",
    "import os\n",
    "desktop = os.path.expanduser(\"~/Desktop\")\n",
    "df.to_excel(rf\"{desktop}\\{lusas.db().getDBBasename()}-Basic Combinations.xlsx\")\n",
    "# Print the top few elements of the dataframe as a check\n",
    "print(df.head())"
   ]
  },
  {
   "cell_type": "markdown",
   "metadata": {},
   "source": [
    "2.2 Smart combinations"
   ]
  },
  {
   "cell_type": "code",
   "execution_count": null,
   "metadata": {},
   "outputs": [
    {
     "name": "stdout",
     "output_type": "stream",
     "text": [
      "                        Combination                                  Name  \\\n",
      "0  13:ULS_P_B_S 1 (G + Qi Tch + Qt)  1:Loadcase 1 (G | Permanent Actions)   \n",
      "1   17:ULS_P_B_S 2 (G + Qi Hb + Qt)  1:Loadcase 1 (G | Permanent Actions)   \n",
      "2           19:ULS_P_B_S 3 (G + Qt)  1:Loadcase 1 (G | Permanent Actions)   \n",
      "3           21:ULS_P_B_S 4 (G + Qt)  1:Loadcase 1 (G | Permanent Actions)   \n",
      "4                23:ULS_P_B_S 5 (G)  1:Loadcase 1 (G | Permanent Actions)   \n",
      "\n",
      "   Permanent  Variable                                               Name  \\\n",
      "0        1.0      0.35  2:Loadcase 2 (Qi Tch | Traffic Load - characte...   \n",
      "1        1.0      0.35  3:Loadcase 3 (Qi Hb | Horizontal forces - brak...   \n",
      "2        1.0      0.35                       12:Loadcase 4 (Qt | Thermal)   \n",
      "3        1.0      0.35                       12:Loadcase 4 (Qt | Thermal)   \n",
      "4        1.0      0.35                                               None   \n",
      "\n",
      "   Permanent  Variable                          Name  Permanent  Variable  \n",
      "0        0.0      1.35  12:Loadcase 4 (Qt | Thermal)        0.0       0.9  \n",
      "1        0.0      1.35  12:Loadcase 4 (Qt | Thermal)        0.0       0.9  \n",
      "2        0.0      0.90                          None        NaN       NaN  \n",
      "3        0.0      0.90                          None        NaN       NaN  \n",
      "4        NaN       NaN                          None        NaN       NaN  \n"
     ]
    }
   ],
   "source": [
    "# Get all the smart combinations\n",
    "all_smart_combinations = lusas.db().getLoadsets(\"Smart Combinations\")\n",
    "\n",
    "# Create a list to store all the combination data\n",
    "combs_data = []\n",
    "# Maintain the max number of loadsets in the combinations so we can create the correct number of column headers\n",
    "max_loadsets = 0\n",
    "\n",
    "for combination in all_smart_combinations:\n",
    "    # Smart combinations have two loadsets but they have equal definitions so we'll just report the max case\n",
    "    if combination.isMax():\n",
    "        # Get a list of all the loadsets in the ocmbination\n",
    "        ids = combination.getLoadcaseIDs()\n",
    "        # Get a list of all the corresponding permanent factors\n",
    "        permanent_factors = combination.getPermanentFactors()\n",
    "        # Get a list of all the corresponding variable factors\n",
    "        variable_factors = combination.getVariableFactors()\n",
    "        # Create a list which will store all loadset names and factors but starts with the combination name\n",
    "        combination_loadsets_and_factors = [combination.getIDAndName()]\n",
    "        # Append each loadset name followed by the factor used\n",
    "        for i, id in enumerate(ids):\n",
    "            loadset = lusas.db().getLoadset(id)\n",
    "            combination_loadsets_and_factors.append(loadset.getIDAndNameAndDescription())\n",
    "            combination_loadsets_and_factors.append(permanent_factors[i])\n",
    "            combination_loadsets_and_factors.append(permanent_factors[i]+variable_factors[i]) # Note that the adverse factor is made up of a permanent and variable parts\n",
    "\n",
    "        max_loadsets = max(max_loadsets, len(ids))\n",
    "        \n",
    "        combs_data.append(combination_loadsets_and_factors)\n",
    "\n",
    "# Create a list for the column headers\n",
    "column_headers = [\"Combination\"] + [\"Name\", \"Beneficial\", \"Adverse\"]*max_loadsets\n",
    "# Use a pandas dataframe to export to xlsx format\n",
    "df = pd.DataFrame(combs_data, columns= column_headers)\n",
    "\n",
    "import os\n",
    "desktop = os.path.expanduser(\"~/Desktop\")\n",
    "df.to_excel(rf\"{desktop}\\{lusas.db().getDBBasename()}-Smart Combinations.xlsx\")\n",
    "# Print the top few elements of the dataframe as a check\n",
    "print(df.head())"
   ]
  }
 ],
 "metadata": {
  "kernelspec": {
   "display_name": "Python 3",
   "language": "python",
   "name": "python3"
  },
  "language_info": {
   "codemirror_mode": {
    "name": "ipython",
    "version": 3
   },
   "file_extension": ".py",
   "mimetype": "text/x-python",
   "name": "python",
   "nbconvert_exporter": "python",
   "pygments_lexer": "ipython3",
   "version": "3.12.3"
  }
 },
 "nbformat": 4,
 "nbformat_minor": 2
}
