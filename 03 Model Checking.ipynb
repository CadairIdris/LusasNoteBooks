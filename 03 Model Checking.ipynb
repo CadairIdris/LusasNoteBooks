{
 "cells": [
  {
   "cell_type": "markdown",
   "metadata": {},
   "source": [
    "Connect to LUSAS Modeller using the win32com library. Substitute the version number (here 21.0) for your current version"
   ]
  },
  {
   "cell_type": "code",
   "execution_count": null,
   "metadata": {},
   "outputs": [],
   "source": [
    "import win32com.client as win32\n",
    "lusas = win32.gencache.EnsureDispatch(\"Lusas.Modeller.21.0\")"
   ]
  },
  {
   "cell_type": "markdown",
   "metadata": {},
   "source": [
    "Display attribute values. Note a better way of performing checking like this is to craete a report and display the values that way."
   ]
  },
  {
   "cell_type": "code",
   "execution_count": null,
   "metadata": {},
   "outputs": [],
   "source": [
    "geom_attr = lusas.db().getAttribute(\"Geometric\", 1)\n",
    "\n",
    "for name in geom_attr.getValueNames():\n",
    "    print(f\"{name} : {geom_attr.getValue(name)} {geom_attr.getValueUnits(name)}\")"
   ]
  },
  {
   "cell_type": "markdown",
   "metadata": {},
   "source": [
    "Or we can request them in a particular unit set"
   ]
  },
  {
   "cell_type": "code",
   "execution_count": null,
   "metadata": {},
   "outputs": [],
   "source": [
    "geom_attr = lusas.db().getAttribute(\"Geometric\", 1)\n",
    "si_units = lusas.getUnitSet(\"N,mm,t,s,C\")\n",
    "\n",
    "for name in geom_attr.getValueNames():\n",
    "    print(f\"{name} : {geom_attr.getValue(name, si_units)} {geom_attr.getValueUnits(name, si_units)}\")"
   ]
  }
 ],
 "metadata": {
  "kernelspec": {
   "display_name": "Python 3",
   "language": "python",
   "name": "python3"
  },
  "language_info": {
   "codemirror_mode": {
    "name": "ipython",
    "version": 3
   },
   "file_extension": ".py",
   "mimetype": "text/x-python",
   "name": "python",
   "nbconvert_exporter": "python",
   "pygments_lexer": "ipython3",
   "version": "3.10.4"
  }
 },
 "nbformat": 4,
 "nbformat_minor": 2
}
