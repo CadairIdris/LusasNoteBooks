{
 "cells": [
  {
   "cell_type": "markdown",
   "metadata": {},
   "source": [
    "# #510 Embedded Retaining Wall with Dry Excavation\n",
    "<i>Embedded retaining wall with staged excavation, dewatering and anchor installation - see LUSAS example \"Dry Excavation\"</i>\n",
    "***"
   ]
  },
  {
   "cell_type": "code",
   "execution_count": null,
   "metadata": {},
   "outputs": [],
   "source": [
    "''' Inputs '''\n",
    "soil_layers = [3,12,5]\n",
    "wall_depth = 15\n",
    "water_level = 3\n",
    "\n",
    "excavation_depths = [3,4,3] # First excavation is assumed to be to the water table and therefore already dry! (TODO - delete water level)\n",
    "width_excavation = 10\n",
    "width_retained   = 30\n",
    "\n",
    "spacing_of_anchors = 3 #m - Anchor stiffness will be reduced to reflect this spacing\n",
    "\n",
    "# (index, angle from vert, length, grout length, load)\n",
    "# Anchors are indexed from the excavation levels\n",
    "anchors=[(0, 56, 11, 3.5, 120), (2, 45, 6, 4, 200)]\n",
    "\n",
    "bar_area = 7.07e-4\n",
    "grout_area = 0.28\n",
    "wall_thickness = 0.35\n",
    "\n",
    "mesh_size = 1.0\n",
    "\n",
    "surcharge_offset = 2 #m back from wall\n",
    "surcharge_length = 5 #m\n",
    "surcharge_intensity = 10 #kpa"
   ]
  },
  {
   "cell_type": "markdown",
   "metadata": {},
   "source": [
    "### Data checks"
   ]
  },
  {
   "cell_type": "code",
   "execution_count": null,
   "metadata": {},
   "outputs": [],
   "source": [
    "assert wall_depth > sum(excavation_depths),       \"The wall depth should be larger than the excavation\"\n",
    "assert wall_depth < sum(soil_layers),             \"The wall depth should be smaller than the total depth of soil layers\"\n",
    "assert sum(soil_layers) > sum(excavation_depths), \"The total depth of soil layers should be larger than the excavation\"\n",
    "assert water_level == excavation_depths[0],       \"The first excavation is assumed to be down to the level of the water table\""
   ]
  },
  {
   "cell_type": "markdown",
   "metadata": {},
   "source": [
    "### Calculated parameters"
   ]
  },
  {
   "cell_type": "code",
   "execution_count": null,
   "metadata": {},
   "outputs": [],
   "source": [
    "embed_length = wall_depth - sum(excavation_depths)\n",
    "soil_depth = sum(soil_layers)"
   ]
  },
  {
   "cell_type": "markdown",
   "metadata": {},
   "source": [
    "### Connect to LUSAS Modeller & create the new model"
   ]
  },
  {
   "cell_type": "code",
   "execution_count": null,
   "metadata": {},
   "outputs": [],
   "source": [
    "import numpy as np\n",
    "import pandas as pd\n",
    "import math\n",
    "import sys; sys.path.append('../') # Reference modules in parent directory\n",
    "from LPI import *\n",
    "lusas = get_lusas_modeller()\n",
    "\n",
    "from m100_Tools_And_Helpers import Helpers\n",
    "Helpers.initialise(lusas)\n",
    "\n",
    "# # If there is not currently a model open, create one\n",
    "# if lusas.existsDatabase():\n",
    "#     raise Exception(\"A model is already open. Please close it before running this script.\")\n",
    "\n",
    "# Create a new model\n",
    "lusas.newProject(\"Structural\", \"Embedded_Wall_Dry_Excavation\")\n",
    "# Reference to the model database for convenience\n",
    "db = lusas.database() # Reference to the model database for convenience\n",
    "# 2D model with Y vertical\n",
    "db.setAnalysisCategory(\"2D Inplane\")\n",
    "db.setVerticalDir(\"Y\")\n",
    "# Set the unit system\n",
    "db.setModelUnits(\"kN,m,t,s,C\")\n",
    "db.setTimescaleUnits(\"Days\")"
   ]
  },
  {
   "cell_type": "markdown",
   "metadata": {},
   "source": [
    "### Mesh Attributes"
   ]
  },
  {
   "cell_type": "code",
   "execution_count": null,
   "metadata": {},
   "outputs": [],
   "source": [
    "# Two-phase plane strain quadrilateral elements are used for the soil\n",
    "soil_mesh_attr         = db.createMeshSurface(\"Soil\").setIrregular(\"QPN8P\", mesh_size )\n",
    "# Two-phase interface elements to model Mohr=Coulomb friction contact between the structure and soil\n",
    "interface_mesh_attr    = db.createMeshLine(\"Interface\").setSize(\"IPN6P\", mesh_size )\n",
    "# Plane strain beam elements for the wall\n",
    "wall_mesh_attr         = db.createMeshLine(\"Wall\").setSize(\"BMI3N\", mesh_size )\n",
    "# Single bar element for anchor rods\n",
    "anchor_bar_mesh_attr   = db.createMeshLine(\"Anchor Bar\").setNumber(\"BAR2\", 1 )\n",
    "# Quadratic bar elements for the anchor grout to match the plane strain soil mesh\n",
    "anchor_grout_mesh_attr = db.createMeshLine(\"Anchor Grout\").setSize(\"BAR3\", mesh_size )"
   ]
  },
  {
   "cell_type": "markdown",
   "metadata": {},
   "source": [
    "### Geometric Attributes"
   ]
  },
  {
   "cell_type": "code",
   "execution_count": null,
   "metadata": {},
   "outputs": [],
   "source": [
    "# Thickness for plane strain beam elements\n",
    "wall_geom_attr         = db.createGeometricLine(\"Wall\").setElementType(\"Plane Strain Beam\").setPlaneStrain(wall_thickness)\n",
    "# Bar areas for the anchor bars\n",
    "anchor_bar_geom_attr   = db.createGeometricLine(\"Anchor Bar\").setElementType(\"Bar/Link\").setBeam(bar_area, 0,0,0,0,0,0)\n",
    "anchor_grout_geom_attr = db.createGeometricLine(\"Anchor Grout\").setElementType(\"Bar/Link\").setBeam(grout_area, 0,0,0,0,0,0)"
   ]
  },
  {
   "cell_type": "markdown",
   "metadata": {},
   "source": [
    "### Material Attributes"
   ]
  },
  {
   "cell_type": "code",
   "execution_count": null,
   "metadata": {},
   "outputs": [],
   "source": [
    "soil_material_attrs:list[IFAttribute] = []\n",
    "# Read the soil material definitions from the corresponding spreadsheet\n",
    "df_soils = pd.read_excel(\"510 Soil_Inputs.xlsx\", header=1)\n",
    "# First 3 columns define properties, remaining are soil material definitions\n",
    "if len(df_soils.columns) > 3:\n",
    "    for i in range(3, len(df_soils.columns)):\n",
    "        # Name and parameters\n",
    "        soil_name = df_soils.iloc[:,i].name\n",
    "        params = dict(zip(df_soils.iloc[:,2], df_soils.iloc[:,i]))\n",
    "        # Create the material\n",
    "        attr = db.createIsotropicMaterial(soil_name, params['E'], params['nu'], params['rho'])\n",
    "        # Modified Mohr-Coulomb properties with Rankine cut-off\n",
    "        attr.addPlasticModifiedMohrCoulomb(\"Rankine\", params['frc'], params['dil'], 0, params['dmpFct'])\n",
    "        attr.addModifiedMohrCoulombCohesion(0, params['CSngle'])\n",
    "        attr.addModifiedMohrCoulombTensile(0, params['QmaxSngle'])\n",
    "        attr.addModifiedMohrCoulombCompressive(0, params['QminSngle'])\n",
    "        # Two Phase\n",
    "        attr.addConstantWaterContentTwoPhase(0.0, params['Kf'], params['n'], 9.81, params['kx'], params['ky'], params['kz'], \n",
    "                                             params['rhoF'], params['Swc'], params['Sws'], params['Kred'], 0.0, \n",
    "                                             \"Absolute value\", \"saturation\", \"Fully saturated\")\n",
    "        # Ko Initialisation\n",
    "        attr.addKoElasticRow(0.0, params['Ko'])\n",
    "        soil_material_attrs.append(attr)\n",
    "\n",
    "# Check we have sufficient soil materials defined for the number of layers\n",
    "assert len(soil_material_attrs) >= len(soil_layers), \" The number of defined soil materials is less than the defined layers\""
   ]
  },
  {
   "cell_type": "code",
   "execution_count": null,
   "metadata": {},
   "outputs": [],
   "source": [
    "# Elastic materials for the wall and anchors. Note anchors are reduced to account for horizontal spacing\n",
    "wall_material_attr          = db.createIsotropicMaterial(\"Wall\", 35e6, 0.15, 2.4)\n",
    "anchor_bar_material_attr    = db.createIsotropicMaterial(\"Anchor rod\", 200e6/spacing_of_anchors, 0.3, 0.0)\n",
    "anchor_grout_material_attr  = db.createIsotropicMaterial(\"Anchor Grout\", 250e6/spacing_of_anchors, 0.1, 0.0)"
   ]
  },
  {
   "cell_type": "code",
   "execution_count": null,
   "metadata": {},
   "outputs": [],
   "source": [
    "# Create an interface material for each of the soil materials\n",
    "soil_interfaces:list[IFSoilStructureMaterialSet] = list()\n",
    "for soil_attr in soil_material_attrs:\n",
    "    interface_material_attr = db.createSoilStructureMaterialSet(f\"wall/{soil_attr.getName()}\")\n",
    "    interface_material_attr.setSoilInterfaceGraphType(\"displacement\")\n",
    "    interface_material_attr.addSoilNrmInterfaceRow(10.0, 0.15, 0.0, 20.0, 0.0, 1.0, -1.0, 0.0)\n",
    "    interface_material_attr.setSoilInterfacePropertiesType(\"Never\")\n",
    "    interface_material_attr.addTwoPhaseInterface(0.0)\n",
    "    soil_interfaces.append(interface_material_attr)"
   ]
  },
  {
   "cell_type": "markdown",
   "metadata": {},
   "source": [
    "### Water Pressure Attributes"
   ]
  },
  {
   "cell_type": "code",
   "execution_count": null,
   "metadata": {},
   "outputs": [],
   "source": [
    "# Phreatic mesh attributes defining the water levels in the model\n",
    "# We have one for the initial water level and additional surface for each \"de-watering\" prior to excavation.\n",
    "phreatic_mesh_attrs:list[IFMeshPhreatic] = [db.createMeshPhreatic(\"Groundwater\")]\n",
    "for i in range(1, len(excavation_depths)):\n",
    "    phreatic_mesh_attrs.append(db.createMeshPhreatic(f\"De-watering {i}\"))"
   ]
  },
  {
   "cell_type": "code",
   "execution_count": null,
   "metadata": {},
   "outputs": [],
   "source": [
    "# Water pressure distribution loads defined from the phreatic surfaces\n",
    "water_pressure_attrs:list[IFWaterPressureDistrLoad] = []\n",
    "# Always have a ground water pressure\n",
    "attr = db.createLoadingWaterPressureDistr(\"Groundwater pwp\")\n",
    "attr.setDensity(1.0).setOnlyPoreWaterPressure(True).setPhreatic(phreatic_mesh_attrs[0], \"faces\")\n",
    "water_pressure_attrs.append(attr)\n",
    "# Create additional pressures for each dewatering stage\n",
    "for i in range(1, len(excavation_depths)):\n",
    "    attr = db.createLoadingWaterPressureDistr(f\"De-watering pwp {i}\")\n",
    "    attr.setDensity(1.0).setOnlyPoreWaterPressure(True).setPhreatic(phreatic_mesh_attrs[i], \"faces\")\n",
    "    water_pressure_attrs.append(attr)"
   ]
  },
  {
   "cell_type": "markdown",
   "metadata": {},
   "source": [
    "### Support Attributes"
   ]
  },
  {
   "cell_type": "code",
   "execution_count": null,
   "metadata": {},
   "outputs": [],
   "source": [
    "# Base is supported vertically and horizontally\n",
    "fix_xy_support_attr = db.createSupportStructural(\"FixXY\").setStructural(\"R\", \"R\", \"F\", \"F\", \"F\", \"F\", \"F\", \"F\", \"C\", \"F\")\n",
    "# Sides are supported horizontally\n",
    "fix_x_support_attr  = db.createSupportStructural(\"FixX\") .setStructural(\"R\", \"F\", \"F\", \"F\", \"F\", \"F\", \"F\", \"F\", \"C\", \"F\")"
   ]
  },
  {
   "cell_type": "markdown",
   "metadata": {},
   "source": [
    "### Loading Attributes"
   ]
  },
  {
   "cell_type": "code",
   "execution_count": null,
   "metadata": {},
   "outputs": [],
   "source": [
    "# Surcharge loading is applied over a patch on the retained side.\n",
    "# A variation is used to specify the extent of the load which is assigned to the whole line.\n",
    "load_variation_attr = db.createVariationLine(\"Surcharge Limits\")\n",
    "load_variation_attr.setFunction(\"Actual\")\n",
    "load_variation_attr.addRowUnequal(0.0, 0.0)\n",
    "load_variation_attr.addRowUnequal(surcharge_offset, 0.0)\n",
    "load_variation_attr.addRowUnequal(surcharge_offset*1.001, 1.0)\n",
    "load_variation_attr.addRowUnequal(surcharge_offset+surcharge_length, 1.0)\n",
    "load_variation_attr.addRowUnequal(surcharge_offset+surcharge_length, 0.0)\n",
    "\n",
    "# Surcharge loading is a face loading with intensity defined by the variation\n",
    "surchage_load_attr = db.createLoadingFace(f\"Surchage load {surcharge_intensity}kPa\").setFace(0.0, f\"{surcharge_intensity}*{load_variation_attr.getName()}\", 0.0, 0.0)"
   ]
  },
  {
   "cell_type": "code",
   "execution_count": null,
   "metadata": {},
   "outputs": [],
   "source": [
    "# Dewatering is modelled by moving a phreactic surface using a prescribed displacement\n",
    "dewater_load_attrs:list[IFAttribute] = []\n",
    "for i, d in enumerate(excavation_depths[1:]):\n",
    "    pd = db.createPrescribedDisplacementLoad(f\"De-water {i+1}\", \"Total\").setDisplacement(\"V\", -d)\n",
    "    dewater_load_attrs.append(pd)\n",
    "\n",
    "# Anchorage loads are modelled using target stress-strains\n",
    "anchor_load_attrs:list[IFAttribute] = []\n",
    "for i, anchor in enumerate(anchors):\n",
    "    anchor_load_attrs.append(db.createLoadingStressStrain(f\"Anchor {i+1}={anchor[4]}kN\").setStressStrain(\"Target\", [anchor[4], \"N/A\"], \"Line\", \"Bar\", 2))\n",
    "\n",
    "# Automatic loading is used to reduce the residual forces of the excavated soil. \n",
    "# A dummy load is used to replace the prescribed displacement in the automatic loading.\n",
    "dummy_load_attr = db.createLoadingConcentrated(\"dummy load for excavation\").setConcentrated(0.0, 0.0, 0.0, 0.0, 0.0, 0.0, 0.0, 0.0, 0.0, 0.0)"
   ]
  },
  {
   "cell_type": "markdown",
   "metadata": {},
   "source": [
    "### Activation Attributes"
   ]
  },
  {
   "cell_type": "code",
   "execution_count": null,
   "metadata": {},
   "outputs": [],
   "source": [
    "wall_activate_attr = db.createActivate(\"wall\")\n",
    "# Activate each or the anchors\n",
    "anchor_activation_attrs:list[IFAttribute] = []\n",
    "for i in range(len(anchors)):\n",
    "    anchor_activation_attrs.append(db.createActivate(f\"Activate Anchor {i+1}\"))"
   ]
  },
  {
   "cell_type": "markdown",
   "metadata": {},
   "source": [
    "### Deactivation Attributes"
   ]
  },
  {
   "cell_type": "code",
   "execution_count": null,
   "metadata": {},
   "outputs": [],
   "source": [
    "structure_deactivate_attr = db.createDeactivate(\"wall and anchors\").setDeactivate(\"custom\", 100.0, 1.0E-6)\n",
    "structure_deactivate_attr.setCustomType(\"activeMesh\").setForceDistribution(\"distribute over stage\")\n",
    "\n",
    "excavation_deactivate_attrs:list[IFAttribute] = []\n",
    "for i in range(len(excavation_depths)):\n",
    "    attr = db.createDeactivate(f\"Excavation {i+1}\").setDeactivate(\"custom\", 100.0, 1.0E-6)\n",
    "    attr.setCustomType(\"activeMesh\").setForceDistribution(\"distribute over stage\")\n",
    "    excavation_deactivate_attrs.append(attr)"
   ]
  },
  {
   "cell_type": "markdown",
   "metadata": {},
   "source": [
    "### Create model geometry"
   ]
  },
  {
   "cell_type": "code",
   "execution_count": null,
   "metadata": {},
   "outputs": [],
   "source": [
    "# Vertical coordinates defined by soil layers\n",
    "soil_coords = [soil_depth]+[soil_depth-float(y) for y in np.add.accumulate(soil_layers) ]\n",
    "print(\"Soil coords : \", soil_coords)\n",
    "# Vertical coordinates of each excavation depth\n",
    "excv_coords = [soil_depth]+[soil_depth-float(y) for y in np.add.accumulate(excavation_depths) ]\n",
    "print(\"Excavation coords : \", excv_coords)\n",
    "# Combined vertical coordinates for soil layers and excavation depths\n",
    "vertical_coords = list(set(soil_coords + excv_coords + [wall_depth, 0]))\n",
    "vertical_coords.sort(reverse=True)\n",
    "print(\"Vertical coords : \", vertical_coords)"
   ]
  },
  {
   "cell_type": "code",
   "execution_count": null,
   "metadata": {},
   "outputs": [],
   "source": [
    "# Coordinates of the wall\n",
    "wall_coords     = [y for y in vertical_coords if y >= soil_depth-wall_depth]\n",
    "print(\"Wall coords : \", wall_coords)\n",
    "# Coordinates beneath the wall\n",
    "sub_wall_coords = [y for y in vertical_coords if y < soil_depth-wall_depth]\n",
    "print(\"Subwall coords : \", sub_wall_coords)"
   ]
  },
  {
   "cell_type": "code",
   "execution_count": null,
   "metadata": {},
   "outputs": [],
   "source": [
    "debug_offset = 0 # Use this to create interface lines with a gap so they can be checked\n",
    "\n",
    "# Create the 3 overlapping lines, 1 for the wall and 1 for the soil interface eitherside. The wall will be connected to the soil with the interface elements\n",
    "# wall_coords = [soil_depth]+[soil_depth-float(y) for y in np.add.accumulate( excavation_depths + [embed_length]) ]\n",
    "# Prevent the features merging together\n",
    "db.options().setBoolean(\"newFeaturesMergeable\", False)\n",
    "# Create the points\n",
    "wall_points      = [Helpers.create_point(width_excavation, y, 0) for y in wall_coords]\n",
    "retained_points  = [Helpers.create_point(width_excavation+debug_offset, y, 0) for y in wall_coords]\n",
    "excavated_points = [Helpers.create_point(width_excavation-debug_offset, y, 0) for y in wall_coords]\n",
    "# Join the points to form lines\n",
    "wall_lines      = [Helpers.create_line_from_points(p1, p2) for p1, p2 in zip(wall_points, wall_points[1:]) ]\n",
    "retained_lines  = [Helpers.create_line_from_points(p1, p2) for p1, p2 in zip(retained_points, retained_points[1:]) ]\n",
    "excavated_lines = [Helpers.create_line_from_points(p1, p2) for p1, p2 in zip(excavated_points, excavated_points[1:]) ]\n",
    "db.options().setBoolean(\"newFeaturesMergeable\", True)\n",
    "\n",
    "if debug_offset > 0:\n",
    "    lusas.newObjectSet().add(retained_points[-1]).modify(lusas.geometryData().setAllDefaults().modifyPosition(width_excavation, retained_points[-1].getY(), 0))\n",
    "    lusas.newObjectSet().add(excavated_points[-1]).modify(lusas.geometryData().setAllDefaults().modifyPosition(width_excavation, excavated_points[-1].getY(), 0))\n",
    "\n",
    "# Merge the points at the bottom of the wall\n",
    "objs = lusas.newObjectSet().add(wall_points[-1]).add(retained_points[-1]).add(excavated_points[-1])\n",
    "objs.makeMergeable(lusas.geometryData().setAllDefaults().setLowerOrderGeometryType(\"points\"))\n",
    "p = objs.getObject(\"Point\")\n",
    "# Merging points deletes them so we have to update our point references to the new point\n",
    "wall_points[-1] = p\n",
    "retained_points[-1] = p\n",
    "excavated_points[-1] = p\n",
    "\n",
    "# points and lines beneath the wall\n",
    "sub_wall_points = [Helpers.create_point(width_excavation, y, 0) for y in sub_wall_coords]\n",
    "sub_wall_lines = [Helpers.create_line_from_points(p1, p2) for p1, p2 in zip([wall_points[-1]]+sub_wall_points, sub_wall_points) ]"
   ]
  },
  {
   "cell_type": "code",
   "execution_count": null,
   "metadata": {},
   "outputs": [],
   "source": [
    "# Points at the boundaries of the problem\n",
    "lhs_points    = [Helpers.create_point(0, y, 0) for y in vertical_coords]\n",
    "rhs_points    = [Helpers.create_point(width_excavation + width_retained, y, 0) for y in vertical_coords]\n",
    "# Lines at the boundaries\n",
    "lhs_lines     = [Helpers.create_line_from_points(p1, p2) for p1, p2 in zip(lhs_points, lhs_points[1:]) ]\n",
    "rhs_lines     = [Helpers.create_line_from_points(p1, p2) for p1, p2 in zip(rhs_points, rhs_points[1:]) ]\n",
    "# Horizontal lines for the excavation layers\n",
    "exc_hor_lines = [Helpers.create_line_from_points(p1, p2) for p1, p2 in zip(lhs_points, excavated_points+sub_wall_points) ]\n",
    "ret_hor_lines = [Helpers.create_line_from_points(p1, p2) for p1, p2 in zip(retained_points+sub_wall_points, rhs_points ) ]\n",
    "\n",
    "# Surfaces on the excavated side\n",
    "excavated_lines_all = excavated_lines + sub_wall_lines\n",
    "excavated_surfaces:list[IFSurface] = []\n",
    "for i in range(len(exc_hor_lines)-1):\n",
    "    excavated_surfaces.append(Helpers.create_surface_from_lines([exc_hor_lines[i], excavated_lines_all[i], exc_hor_lines[i+1], lhs_lines[i]]))\n",
    "\n",
    "# Surfaces on the retained side\n",
    "retained_lines_all = retained_lines + sub_wall_lines\n",
    "retained_surfaces:list[IFSurface] = []\n",
    "for i in range(len(exc_hor_lines)-1):\n",
    "    retained_surfaces.append(Helpers.create_surface_from_lines([ret_hor_lines[i], rhs_lines[i], ret_hor_lines[i+1], retained_lines_all[i]]))"
   ]
  },
  {
   "cell_type": "code",
   "execution_count": null,
   "metadata": {},
   "outputs": [],
   "source": [
    "# Anchorages\n",
    "anchor_lines = []\n",
    "for i, angle, rod_length, grout_length, force in anchors:\n",
    "    full_length = rod_length+grout_length\n",
    "    theta = math.radians(angle)\n",
    "    p1 = Helpers.create_point(width_excavation + rod_length  * math.sin(theta), wall_points[i+1].getY() - rod_length  * math.cos(theta), 0 )\n",
    "    p2 = Helpers.create_point(width_excavation + full_length * math.sin(theta), wall_points[i+1].getY() - full_length * math.cos(theta), 0 )\n",
    "    rod = Helpers.create_line_from_points(wall_points[i+1], p1)\n",
    "    grout = Helpers.create_line_from_points(p1, p2)\n",
    "    anchor_lines.append((rod, grout))\n",
    "\n",
    "anchor_surfaces = []\n",
    "if len(anchor_lines) > 0:\n",
    "    for i in range(len(anchor_lines)-1):\n",
    "        anchor_surfaces.append(Helpers.create_surface_from_points([anchor_lines[i][1].getStartPoint(), anchor_lines[i][1].getEndPoint(),\n",
    "                                                                 anchor_lines[i+1][1].getEndPoint(), anchor_lines[i+1][1].getStartPoint()]))    "
   ]
  },
  {
   "cell_type": "code",
   "execution_count": null,
   "metadata": {},
   "outputs": [],
   "source": [
    "# Lines representing the phreatic surfaces\n",
    "x = width_excavation + width_retained\n",
    "line_ground_water = Helpers.create_line_by_coordinates(x+1, soil_depth-water_level, 0, x+3, soil_depth-water_level, 0)\n",
    "\n",
    "line_water_levels = [line_ground_water]\n",
    "depth = soil_depth\n",
    "for excavation in excavation_depths[:-1]:\n",
    "    depth-=excavation\n",
    "    line = Helpers.create_line_by_coordinates(-3, depth, 0, -1, depth, 0)\n",
    "    line_water_levels.append(line)"
   ]
  },
  {
   "cell_type": "markdown",
   "metadata": {},
   "source": [
    "### Attribute Assignments"
   ]
  },
  {
   "cell_type": "code",
   "execution_count": null,
   "metadata": {},
   "outputs": [],
   "source": [
    "# Soil Mesh\n",
    "soil_mesh_attr.assignTo(excavated_surfaces)\n",
    "soil_mesh_attr.assignTo(anchor_surfaces)\n",
    "soil_mesh_attr.assignTo(retained_surfaces)\n",
    "# Anchor mesh\n",
    "anchor_bar_mesh_attr.assignTo([l[0] for l in anchor_lines])\n",
    "anchor_grout_mesh_attr.assignTo([l[1] for l in anchor_lines])\n",
    "# Wall mesh\n",
    "wall_mesh_attr.assignTo(wall_lines)\n",
    "# Interface mesh\n",
    "for i in range(len(wall_lines)):\n",
    "    objs = lusas.newObjectSet().add(retained_lines[i]).add(wall_lines[i])\n",
    "    interface_mesh_attr.assignTo(objs)\n",
    "    objs = lusas.newObjectSet().add(excavated_lines[i]).add(wall_lines[i])\n",
    "    interface_mesh_attr.assignTo(objs)\n",
    "# Phreatic mesh assigned to each of the defined lines\n",
    "for i, line in enumerate(line_water_levels):\n",
    "    phreatic_mesh_attrs[i].assignTo(line_water_levels[i])"
   ]
  },
  {
   "cell_type": "code",
   "execution_count": null,
   "metadata": {},
   "outputs": [],
   "source": [
    "# Geometric assignments\n",
    "wall_geom_attr.assignTo(wall_lines)\n",
    "anchor_bar_geom_attr.assignTo([l[0] for l in anchor_lines])\n",
    "anchor_grout_geom_attr.assignTo([l[1] for l in anchor_lines])"
   ]
  },
  {
   "cell_type": "code",
   "execution_count": null,
   "metadata": {},
   "outputs": [],
   "source": [
    "# Wall Material\n",
    "wall_material_attr.assignTo(wall_lines)\n",
    "anchor_bar_material_attr.assignTo([l[0] for l in anchor_lines])\n",
    "anchor_grout_material_attr.assignTo([l[1] for l in anchor_lines])\n",
    "\n",
    "# Soil materials and corresponding interface material\n",
    "y = soil_depth\n",
    "prev_i = 0\n",
    "for i, depth in enumerate(soil_layers):\n",
    "    y-=depth\n",
    "    iy = vertical_coords.index(y)\n",
    "    soil_material_attrs[i].assignTo(excavated_surfaces[prev_i:iy])\n",
    "    soil_material_attrs[i].assignTo(retained_surfaces[prev_i:iy])\n",
    "    # interface material for the corresponding soil attribute\n",
    "    soil_interfaces[i].assignTo(excavated_lines[prev_i:iy])\n",
    "    soil_interfaces[i].assignTo(retained_lines[prev_i:iy])\n",
    "    prev_i = iy"
   ]
  },
  {
   "cell_type": "code",
   "execution_count": null,
   "metadata": {},
   "outputs": [],
   "source": [
    "# Support assignments\n",
    "fix_x_support_attr.assignTo(lhs_lines)\n",
    "fix_x_support_attr.assignTo(rhs_lines)\n",
    "fix_xy_support_attr.assignTo(exc_hor_lines[-1])\n",
    "fix_xy_support_attr.assignTo(ret_hor_lines[-1])"
   ]
  },
  {
   "cell_type": "markdown",
   "metadata": {},
   "source": [
    "### Intersect the anchor geometry\n",
    "Create temporary attributes to assign to the surfaces that will be split. This way we can get the new surfaces by their assignments"
   ]
  },
  {
   "cell_type": "code",
   "execution_count": null,
   "metadata": {},
   "outputs": [],
   "source": [
    "retained_surf_attr = db.createDesignAttribute(\"Retained\", \"Retained\", \"Retained\", \"surfaces\")\n",
    "retained_surf_attr.assignTo(retained_surfaces)\n",
    "\n",
    "anchor_surf_attr = db.createDesignAttribute(\"Anchor\", \"Anchor\", \"Anchor\", \"surfaces\")\n",
    "anchor_surf_attr.assignTo(anchor_surfaces)\n",
    "\n",
    "horiz_line_attr = db.createDesignAttribute(\"HorizLine\", \"HorizLine\", \"HorizLine\", \"lines\")\n",
    "horiz_line_attr.assignTo(ret_hor_lines)\n",
    "\n",
    "anchor_line_attrs:list[IFDesignAttribute] = []\n",
    "for i, lines in enumerate(anchor_lines):\n",
    "    attr = db.createDesignAttribute(f\"Anchor Line {i+1}\", \"Anchor\", \"Anchor\", \"lines\")\n",
    "    attr.assignTo(lines[1])\n",
    "    anchor_line_attrs.append(attr)"
   ]
  },
  {
   "cell_type": "code",
   "execution_count": null,
   "metadata": {},
   "outputs": [],
   "source": [
    "# assert False"
   ]
  },
  {
   "cell_type": "markdown",
   "metadata": {},
   "source": [
    "Split the anchor surfaces at all horizontal lines"
   ]
  },
  {
   "cell_type": "code",
   "execution_count": null,
   "metadata": {},
   "outputs": [],
   "source": [
    "geom_data = lusas.geometryData().setAllDefaults().useInDependents(True)\n",
    "\n",
    "did_split = True\n",
    "while did_split:\n",
    "    for line in db.getObjects(horiz_line_attr):\n",
    "        for anchor_surface in db.getObjects(anchor_surf_attr):    \n",
    "            objs = lusas.newObjectSet().add(anchor_surface).add(line).splitSurface(geom_data)\n",
    "            did_split = len(objs.getObjects(\"Surface\"))> 0\n",
    "            if did_split: break"
   ]
  },
  {
   "cell_type": "markdown",
   "metadata": {},
   "source": [
    "Now cut the anchor surfaces out of the soil layer surfaces"
   ]
  },
  {
   "cell_type": "code",
   "execution_count": null,
   "metadata": {},
   "outputs": [],
   "source": [
    "did_split = True\n",
    "while did_split:\n",
    "    for surface in db.getObjects(anchor_surf_attr):\n",
    "\n",
    "        for retained_surface in db.getObjects(retained_surf_attr):\n",
    "            geom_data = lusas.geometryData().setAllDefaults()\n",
    "            geom_data.setBooleanSimplify(False)\n",
    "            geom_data.setBooleanDeletePrimary(False)\n",
    "            # geom_data.setBooleanDeleteSecondary(False)\n",
    "            geom_data.setBooleanReverseOrderOfSubtraction(True)\n",
    "            objs = lusas.newObjectSet().add(surface).add(retained_surface)\n",
    "            returned_objs = objs.booleanSubtraction(geom_data)\n",
    "            did_split = len(returned_objs.getObjects(\"Surface\"))> 0\n",
    "            if did_split: break"
   ]
  },
  {
   "cell_type": "code",
   "execution_count": null,
   "metadata": {},
   "outputs": [],
   "source": [
    "# Helper function to get the soil material from the soil depth\n",
    "def get_soil_index_from_depth(y:float) -> int:\n",
    "    layer_level = soil_depth\n",
    "    for i, d in enumerate(soil_layers):\n",
    "        if y < layer_level and y > (layer_level-d): return i"
   ]
  },
  {
   "cell_type": "code",
   "execution_count": null,
   "metadata": {},
   "outputs": [],
   "source": [
    "# Assign the relevant soil material to each of the split surfaces in the anchorage zone\n",
    "anchor_surfaces:list[IFSurface] = db.getObjects(anchor_surf_attr)\n",
    "for surface in anchor_surfaces:\n",
    "    y = surface.getCentroid()[1]\n",
    "    soil_material_attrs[get_soil_index_from_depth(y)].assignTo(surface)"
   ]
  },
  {
   "cell_type": "code",
   "execution_count": null,
   "metadata": {},
   "outputs": [],
   "source": [
    "# Repair anchor line references\n",
    "for i, attr in enumerate(anchor_line_attrs):\n",
    "    newlines = [anchor_lines[i][0]] # Add the rod\n",
    "    for assign in attr.getAssignments():\n",
    "        line = win32.CastTo(assign.getDatabaseObject(), \"IFLine\")\n",
    "        newlines.append(line)\n",
    "    anchor_lines[i] = newlines # replace with list of all anchor lines"
   ]
  },
  {
   "cell_type": "code",
   "execution_count": null,
   "metadata": {},
   "outputs": [],
   "source": [
    "# Delete the temporary attributes\n",
    "todelete = [retained_surf_attr, anchor_surf_attr, horiz_line_attr] + anchor_line_attrs\n",
    "for attr in todelete:\n",
    "    attr.deassignFrom(\"all\")\n",
    "    db.deleteAttribute(attr)\n",
    "del retained_surf_attr\n",
    "del anchor_surf_attr\n",
    "del horiz_line_attr\n",
    "del anchor_line_attrs\n",
    "del todelete"
   ]
  },
  {
   "cell_type": "code",
   "execution_count": null,
   "metadata": {},
   "outputs": [],
   "source": [
    "# Generate the mesh\n",
    "db.resetMesh()\n",
    "db.updateMesh()"
   ]
  },
  {
   "cell_type": "markdown",
   "metadata": {},
   "source": [
    "### Stages\n",
    "Apply deactivation attributes to the surfaces representing each stage of excavation"
   ]
  },
  {
   "cell_type": "code",
   "execution_count": null,
   "metadata": {},
   "outputs": [],
   "source": [
    "# Deactivate the wall and anchors so we start with just the soil\n",
    "structure_deactivate_attr.assignTo(wall_lines)\n",
    "structure_deactivate_attr.assignTo(db.getObjects(anchor_bar_mesh_attr))\n",
    "structure_deactivate_attr.assignTo(db.getObjects(anchor_grout_mesh_attr))"
   ]
  },
  {
   "cell_type": "markdown",
   "metadata": {},
   "source": [
    "#### Create initial loadcases"
   ]
  },
  {
   "cell_type": "markdown",
   "metadata": {},
   "source": [
    "Loading will be assigned once all loadcases are created, to ensure continuity through the nonlinear stages"
   ]
  },
  {
   "cell_type": "code",
   "execution_count": null,
   "metadata": {},
   "outputs": [],
   "source": [
    "# Initial stage with gravity\n",
    "initial_loadcase = Helpers.get_loadcase(1)\n",
    "initial_loadcase.setName(\"Initial conditions\")\n",
    "initial_loadcase.addGravity(True)\n",
    "# The initial loadcase must specify the nonlinear controls. Here we have a basic nonlinear analysis with a manual load increment, i.e 1 increment\n",
    "initial_loadcase.setTransientControl(0)\n",
    "initial_loadcase.getTransientControl().setNonlinearManual().setOutput().setConstants()\n",
    "initial_loadcase.getTransientControl().setValue(\"dlnorm\", 1.0).setValue(\"dtnrml\", 1.0) # Displacment norms\n",
    "initial_loadcase.getTransientControl().setValue(\"iterStrategyType\", \"Minimise including residuals\")\n",
    "\n",
    "# 2nd Stage. Activate the wall elements to represent the installation\n",
    "install_wall_loadcase = db.createLoadcase(\"Install wall\")\n",
    "install_wall_loadcase.addGravity(True)\n",
    "wall_activate_attr.assignTo(wall_lines, lusas.assignment().setAllDefaults().setLoadset(install_wall_loadcase))\n",
    "\n",
    "# Consider any surcharge loading present before excavation starts\n",
    "surcharge_loadcase = db.createLoadcase(\"Surcharge\")\n",
    "surcharge_loadcase.addGravity(True)"
   ]
  },
  {
   "cell_type": "code",
   "execution_count": null,
   "metadata": {},
   "outputs": [],
   "source": [
    "# Nonlinear analyses in LUSAS have either manual or automatic incrementation.\n",
    "# Generally, automatic increments carry forward loading from previous stages, whereas manual do not.\n",
    "# We'll keep a list of manual loadcases to which loads are assigned as a range once all loadcases are created\n",
    "manual_loadcases = []\n",
    "# We also need to apply the dummy load to the excavation loadcases\n",
    "excavation_loadcases = []"
   ]
  },
  {
   "cell_type": "markdown",
   "metadata": {},
   "source": [
    "#### Excavations"
   ]
  },
  {
   "cell_type": "code",
   "execution_count": null,
   "metadata": {},
   "outputs": [],
   "source": [
    "y = soil_depth\n",
    "prev_i = 0\n",
    "for i, depth in enumerate(excavation_depths):\n",
    "    y-=depth\n",
    "    iy = vertical_coords.index(y)\n",
    "    print(i, depth, y, iy)\n",
    "    # Loadcase/stage for the excavation\n",
    "    lc = db.createLoadcase(f\"Excavation {i+1}\")\n",
    "    # Assignment to this loadcase\n",
    "    assign = lusas.assignment().setAllDefaults().setLoadset(lc)    \n",
    "    # Deactivate the excavated soil elements in this stage\n",
    "    excavation_deactivate_attrs[i].assignTo(excavated_surfaces[prev_i:iy], assign)\n",
    "    # Deactivate the excavated interface elements in this stage\n",
    "    excavation_deactivate_attrs[i].assignTo(excavated_lines[prev_i:iy], assign)\n",
    "\n",
    "    # The deactivation will be applied in multiple increments, with a max of 20 increments \n",
    "    # starting at 0.1 to load factor of 1\n",
    "    lc.setTransientControl(20)\n",
    "    lc.getTransientControl().setNonlinearAutomatic(0.1) # Output and constants will follow initial case\n",
    "    lc.getTransientControl().setValue(\"MaxChangeInLoadFactor\", 1.0).setValue(\"MaxLoadFactor\", 1.0)\n",
    "    if i > 0:\n",
    "        # Assign dummy load\n",
    "        excavation_loadcases.append(lc)\n",
    "\n",
    "    # With each excavation (other than the final one) an anchor rod is subsequently installed\n",
    "    if i < len(anchor_lines):\n",
    "        # Loadcase/stage for anchor installation\n",
    "        lc = db.createLoadcase(f\"Install Anchor {i+1}\")\n",
    "        # Assignment to this loadcase\n",
    "        assign = lusas.assignment().setAllDefaults().setLoadset(lc)\n",
    "        # Activate the anchor elements\n",
    "        anchor_activation_attrs[i].assignTo(anchor_lines[i], assign)\n",
    "        # Assign the anchor load to the bar element only\n",
    "        assign.setTargetStressEnd(\"start\")\n",
    "        anchor_load_attrs[i].assignTo(anchor_lines[i][0], assign)\n",
    "        # The anchor load is applied in increments so set the nonlinear automatic control.\n",
    "        # Note that this will automatically include all previous manual loads\n",
    "        lc.setTransientControl(20)\n",
    "        lc.getTransientControl().setNonlinearAutomatic(0.1) # Output and constants will follow initial case\n",
    "        lc.getTransientControl().setValue(\"MaxChangeInLoadFactor\", 1.0).setValue(\"MaxLoadFactor\", 1.0)\n",
    "\n",
    "        # Before the next excavation, set the water level to represent the base of the excavation\n",
    "        lc = db.createLoadcase(f\"Set water level for excavation {i+2}\")\n",
    "        lc.addGravity(True)\n",
    "        # Assignment to this loadcase\n",
    "        assign = lusas.assignment().setAllDefaults().setLoadset(lc)\n",
    "        # Assign the water pressure attribute to the bottom of the next excavated surface\n",
    "        iy2 = vertical_coords.index(y-excavation_depths[i+1])\n",
    "        water_pressure_attrs[i+1].assignTo(exc_hor_lines[iy2], assign)\n",
    "        # Assign other loads later\n",
    "        manual_loadcases.append(lc)\n",
    "\n",
    "        # Dewatering is achieved by moving the phreatic surface by a prescribed displacement.\n",
    "        lc = db.createLoadcase(f\"Dewatering {i+1}\")\n",
    "        # Assignment to this loadcase\n",
    "        assign = lusas.assignment().setAllDefaults().setLoadset(lc)\n",
    "        dewater_load_attrs[i].assignTo(line_water_levels[i+1], assign)\n",
    "        # Apply draining incrementally\n",
    "        lc.setTransientControl(20)\n",
    "        lc.getTransientControl().setNonlinearAutomatic(0.1) # Output and constants will follow initial case\n",
    "        lc.getTransientControl().setValue(\"MaxChangeInLoadFactor\", 1.0).setValue(\"MaxLoadFactor\", 1.0)\n",
    "    \n",
    "    prev_i = iy\n"
   ]
  },
  {
   "cell_type": "code",
   "execution_count": null,
   "metadata": {},
   "outputs": [],
   "source": [
    "# Assign the loading to the manual load steps\n",
    "\n",
    "# Ground water loads\n",
    "assign = lusas.assignment().setAllDefaults().setLoadsetSpecified(initial_loadcase)\n",
    "assign.addLoadsetSpecified(install_wall_loadcase)\n",
    "assign.addLoadsetSpecified(surcharge_loadcase)\n",
    "for lc in manual_loadcases:\n",
    "    assign.addLoadsetSpecified(lc)\n",
    "water_pressure_attrs[0].assignTo(rhs_lines, assign)\n",
    "\n",
    "# Surcharge load.\n",
    "assign = lusas.assignment().setAllDefaults().setLoadsetSpecified(surcharge_loadcase)\n",
    "for lc in manual_loadcases:\n",
    "    assign.addLoadsetSpecified(lc)\n",
    "surchage_load_attr.assignTo(ret_hor_lines[0], assign)\n",
    "\n",
    "# Dummy load for excavation\n",
    "if len(excavation_loadcases) > 1:\n",
    "    assign = lusas.assignment().setAllDefaults().setLoadsetSpecified(excavation_loadcases[0])\n",
    "    for lc in excavation_loadcases[1:]:\n",
    "        assign.addLoadsetSpecified(lc)\n",
    "    dummy_load_attr.assignTo(rhs_lines[0].getStartPoint(), assign)"
   ]
  },
  {
   "cell_type": "markdown",
   "metadata": {},
   "source": [
    "#### Set the view to display assigned soil materials"
   ]
  },
  {
   "cell_type": "code",
   "execution_count": null,
   "metadata": {},
   "outputs": [],
   "source": [
    "#lusas.view().geometry().setMaxShade(60.0)\n",
    "lusas.view().geometry().autoColourByAttributes(\"Material\", True)\n",
    "lusas.view().insertAnnotationLayer()\n",
    "lusas.view().geometry().moveTo(5)"
   ]
  }
 ],
 "metadata": {
  "kernelspec": {
   "display_name": "Python 3",
   "language": "python",
   "name": "python3"
  },
  "language_info": {
   "codemirror_mode": {
    "name": "ipython",
    "version": 3
   },
   "file_extension": ".py",
   "mimetype": "text/x-python",
   "name": "python",
   "nbconvert_exporter": "python",
   "pygments_lexer": "ipython3",
   "version": "3.13.2"
  }
 },
 "nbformat": 4,
 "nbformat_minor": 2
}
