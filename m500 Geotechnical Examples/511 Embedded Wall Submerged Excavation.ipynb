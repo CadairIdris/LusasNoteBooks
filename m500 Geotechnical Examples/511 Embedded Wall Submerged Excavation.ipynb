{
 "cells": [
  {
   "cell_type": "markdown",
   "id": "9055821a",
   "metadata": {},
   "source": [
    "# #511 Embedded Retaining Wall with Submerged Excavation\n",
    "<i>Embedded retaining wall with submerged excavation - see LUSAS example \"Submerged Excavation\"</i>\n",
    "***"
   ]
  },
  {
   "cell_type": "code",
   "execution_count": null,
   "id": "271b432a",
   "metadata": {},
   "outputs": [],
   "source": [
    "''' Inputs '''\n",
    "soil_layers = [20,20]\n",
    "wall_depth = 30\n",
    "water_level = 2\n",
    "\n",
    "excavation_depths = [water_level,9,9]\n",
    "width_excavation = 15\n",
    "width_retained   = 25\n",
    "\n",
    "spacing_of_props = 5 #m - Prop stiffness will be reduced to reflect this spacing\n",
    "prop_diameter    = 0.44 #m\n",
    "prop_location    = 1.0 #m from top\n",
    "\n",
    "width_wall = 1.265\n",
    "\n",
    "mesh_size = 1.0\n",
    "\n",
    "surcharge_offset = width_retained - 12\n",
    "surcharge_length = 10 #m\n",
    "surcharge_intensity = 5 #kpa\n",
    "\n",
    "interface_friction_angles = [12, 22] # Corresponding to each soil material defined in the spreadsheet"
   ]
  },
  {
   "cell_type": "markdown",
   "id": "e59c8c79",
   "metadata": {},
   "source": [
    "### Data Checks"
   ]
  },
  {
   "cell_type": "code",
   "execution_count": null,
   "id": "0101c7cd",
   "metadata": {},
   "outputs": [],
   "source": [
    "assert wall_depth > sum(excavation_depths),       \"The wall depth should be larger than the excavation\"\n",
    "assert wall_depth < sum(soil_layers),             \"The wall depth should be smaller than the total depth of soil layers\"\n",
    "assert sum(soil_layers) > sum(excavation_depths), \"The total depth of soil layers should be larger than the excavation\"\n",
    "assert water_level == excavation_depths[0],       \"The first excavation is assumed to be down to the level of the water table\""
   ]
  },
  {
   "cell_type": "markdown",
   "id": "f4d3eb0c",
   "metadata": {},
   "source": [
    "### Calculated parameters"
   ]
  },
  {
   "cell_type": "code",
   "execution_count": null,
   "id": "c9a5fa07",
   "metadata": {},
   "outputs": [],
   "source": [
    "embed_length = wall_depth - sum(excavation_depths)\n",
    "soil_depth = sum(soil_layers)\n",
    "width_problem = width_retained + width_wall + width_excavation"
   ]
  },
  {
   "cell_type": "markdown",
   "id": "ced900ab",
   "metadata": {},
   "source": [
    "### Connect to LUSAS Modeller & create the new model"
   ]
  },
  {
   "cell_type": "code",
   "execution_count": null,
   "id": "09e3c7c8",
   "metadata": {},
   "outputs": [],
   "source": [
    "import numpy as np\n",
    "import pandas as pd\n",
    "import math\n",
    "import sys; sys.path.append('../') # Reference modules in parent directory\n",
    "from LPI import *\n",
    "lusas = get_lusas_modeller()\n",
    "\n",
    "from m100_Tools_And_Helpers import Helpers\n",
    "Helpers.initialise(lusas)\n",
    "\n",
    "# # If there is not currently a model open, create one\n",
    "# if lusas.existsDatabase():\n",
    "#     raise Exception(\"A model is already open. Please close it before running this script.\")\n",
    "\n",
    "# Create a new model\n",
    "lusas.newProject(\"Structural\", \"Embedded_Wall_Submerged_Excavation\")\n",
    "# Reference to the model database for convenience\n",
    "db = lusas.database() # Reference to the model database for convenience\n",
    "# 2D model with Y vertical\n",
    "db.setAnalysisCategory(\"2D Inplane\")\n",
    "db.setVerticalDir(\"Y\")\n",
    "# Set the unit system\n",
    "db.setModelUnits(\"kN,m,t,s,C\")\n",
    "db.setTimescaleUnits(\"Seconds\")"
   ]
  },
  {
   "cell_type": "markdown",
   "id": "1da6fd06",
   "metadata": {},
   "source": [
    "### Mesh Attributes"
   ]
  },
  {
   "cell_type": "code",
   "execution_count": null,
   "id": "8a8b5093",
   "metadata": {},
   "outputs": [],
   "source": [
    "# Two-phase plane strain quadrilateral elements are used for the soil\n",
    "soil_mesh_attr         = db.createMeshSurface(\"Soil\").setIrregular(\"QPN8P\", mesh_size)\n",
    "# Plane strain elements for the wall\n",
    "wall_mesh_attr         = db.createMeshSurface(\"Wall\").setIrregular(\"QPN8\", mesh_size )\n",
    "\n",
    "# Two-phase interface elements to model Mohr=Coulomb friction contact between the structure and soil\n",
    "interface_mesh_attr    = db.createMeshLine(\"Interface\").setSize(\"IPN6P\", mesh_size )\n",
    "# Quadratic beam elements for the prop, default 4 divisions\n",
    "prop_mesh_attr         = db.createMeshLine(\"Prop\").setSpacing(\"BMI3\")"
   ]
  },
  {
   "cell_type": "markdown",
   "id": "355b1fb0",
   "metadata": {},
   "source": [
    "### Geometric Attributes"
   ]
  },
  {
   "cell_type": "code",
   "execution_count": null,
   "id": "a80853fa",
   "metadata": {},
   "outputs": [],
   "source": [
    "# Prop\n",
    "prop_geom_attr = Helpers.create_circular_section(db, \"Prop\", prop_diameter)"
   ]
  },
  {
   "cell_type": "markdown",
   "id": "f687bcca",
   "metadata": {},
   "source": [
    "### Material Attributes"
   ]
  },
  {
   "cell_type": "code",
   "execution_count": null,
   "id": "7bb0b171",
   "metadata": {},
   "outputs": [],
   "source": [
    "soil_material_attrs:list[IFAttribute] = []\n",
    "# Read the soil material definitions from the corresponding spreadsheet\n",
    "df_soils = pd.read_excel(\"511 Soil_Inputs.xlsx\", header=1)\n",
    "# First 3 columns define properties, remaining are soil material definitions\n",
    "if len(df_soils.columns) > 3:\n",
    "    for i in range(3, len(df_soils.columns)):\n",
    "        # Name and parameters\n",
    "        soil_name = df_soils.iloc[:,i].name\n",
    "        params = dict(zip(df_soils.iloc[:,2], df_soils.iloc[:,i]))\n",
    "        # Create the material\n",
    "        attr = db.createIsotropicMaterial(soil_name, params['E'], params['nu'], params['rho'])\n",
    "        # Modified Mohr-Coulomb properties with Rankine cut-off\n",
    "        attr.addPlasticModifiedMohrCoulomb(\"Rankine\", params['frc'], params['dil'], 0, params['dmpFct'])\n",
    "        attr.addModifiedMohrCoulombCohesion(0, params['CSngle'])\n",
    "        attr.addModifiedMohrCoulombTensile(0, params['QmaxSngle'])\n",
    "        attr.addModifiedMohrCoulombCompressive(0, params['QminSngle'])\n",
    "        # Two Phase\n",
    "        attr.addConstantWaterContentTwoPhase(0.0, params['Kf'], params['n'], 9.81, params['kx'], params['ky'], params['kz'], \n",
    "                                             params['rhoF'], params['Swc'], params['Sws'], params['Kred'], 0.0, \n",
    "                                             \"Absolute value\", \"saturation\", \"Fully saturated\")\n",
    "        # Ko Initialisation\n",
    "        attr.addKoElasticRow(0.0, params['Ko'])\n",
    "        soil_material_attrs.append(attr)\n",
    "\n",
    "# Check we have sufficient soil materials defined for the number of layers\n",
    "assert len(soil_material_attrs) >= len(soil_layers), \" The number of defined soil materials is less than the defined layers\""
   ]
  },
  {
   "cell_type": "code",
   "execution_count": null,
   "id": "f13d2f58",
   "metadata": {},
   "outputs": [],
   "source": [
    "# Elastic materials for the wall and anchors. Note anchors are reduced to account for horizontal spacing\n",
    "wall_material_attr = db.createIsotropicMaterial(\"Concrete\", 5.93e6, 0.3, 2.4)\n",
    "prop_material_attr = db.createIsotropicMaterial(\"Prop\", 200e6/spacing_of_props, 0.0, 7.8/spacing_of_props)"
   ]
  },
  {
   "cell_type": "code",
   "execution_count": null,
   "id": "081ac97c",
   "metadata": {},
   "outputs": [],
   "source": [
    "# Create an interface material for each of the soil materials\n",
    "soil_interface_materials:list[IFSoilStructureMaterialSet] = list()\n",
    "for i, soil_attr in enumerate(soil_material_attrs):\n",
    "    interface_material_attr = db.createSoilStructureMaterialSet(f\"{soil_attr.getName()}/Concrete\")\n",
    "    interface_material_attr.setSoilInterfaceGraphType(\"displacement\")\n",
    "    interface_material_attr.addSoilNrmInterfaceRow(100.0, 0.1, 0.0, interface_friction_angles[i], 0.0, 1.0, -1.0, 0.0)\n",
    "    interface_material_attr.setSoilInterfacePropertiesType(\"Never\")\n",
    "    interface_material_attr.addTwoPhaseInterface(1.0)\n",
    "    soil_interface_materials.append(interface_material_attr)"
   ]
  },
  {
   "cell_type": "markdown",
   "id": "1f1e976b",
   "metadata": {},
   "source": [
    "### Support Attributes"
   ]
  },
  {
   "cell_type": "code",
   "execution_count": null,
   "id": "b966fa22",
   "metadata": {},
   "outputs": [],
   "source": [
    "# Base is supported vertically and horizontally\n",
    "fix_xy_support_attr = db.createSupportStructural(\"FixXY\").setStructural(\"R\", \"R\", \"F\", \"F\", \"F\", \"F\", \"F\", \"F\", \"C\", \"F\")\n",
    "# Sides are supported horizontally\n",
    "fix_x_support_attr  = db.createSupportStructural(\"FixX\") .setStructural(\"R\", \"F\", \"F\", \"F\", \"F\", \"F\", \"F\", \"F\", \"C\", \"F\")\n",
    "\n",
    "# Pore Water\n",
    "fix_pwp_support_attr  = db.createSupportStructural(\"FixPwp\") .setStructural(\"F\", \"F\", \"F\", \"F\", \"F\", \"F\", \"F\", \"F\", \"OF\", \"F\")\n",
    "fix_rot_support_attr  = db.createSupportStructural(\"FixRot\") .setStructural(\"F\", \"F\", \"F\", \"F\", \"F\", \"R\", \"F\", \"F\", \"C\", \"F\")\n"
   ]
  },
  {
   "cell_type": "markdown",
   "id": "6b613fbe",
   "metadata": {},
   "source": [
    "### Loading Attributes"
   ]
  },
  {
   "cell_type": "code",
   "execution_count": null,
   "id": "6cb4541d",
   "metadata": {},
   "outputs": [],
   "source": [
    "# Surcharge loading is applied over a patch on the retained side.\n",
    "# A variation is used to specify the extent of the load which is assigned to the whole line.\n",
    "load_variation_attr = db.createVariationField(\"Surcharge Limits\")\n",
    "load_variation_attr.setField(\"1.0\")\n",
    "load_variation_attr.setCoordsType(\"variation\")\n",
    "load_variation_attr.setValue(\"minXset\", True)\n",
    "load_variation_attr.setValue(\"minX\", surcharge_offset)\n",
    "load_variation_attr.setValue(\"maxXset\", True)\n",
    "load_variation_attr.setValue(\"maxX\", surcharge_offset+surcharge_length)\n",
    "\n",
    "# Surcharge loading is a face loading with intensity defined by the variation\n",
    "surchage_load_attr = db.createLoadingFace(f\"Surchage load {surcharge_intensity}kPa\").setFace(0.0, f\"{surcharge_intensity}*{load_variation_attr.getName()}\", 0.0, 0.0)"
   ]
  },
  {
   "cell_type": "code",
   "execution_count": null,
   "id": "97bbb3a9",
   "metadata": {},
   "outputs": [],
   "source": [
    "# Hydrostatic load in excavation defined by variation from phreatic surface\n",
    "hydro_variation_attr = db.createVariationField(\"Excavation water depth\")\n",
    "hydro_variation_attr.setField(f\"{soil_depth-water_level}-y\")\n",
    "\n",
    "hydrostatic_load_attrs = []\n",
    "for i in range(1, len(excavation_depths)):\n",
    "    hydrostatic_load_attrs.append(db.createLoadingFace(f\"Hydrostatic load exc {i}\").setFace(0.0, f\"9.81*{hydro_variation_attr.getName()}\", 0.0, 0.0))"
   ]
  },
  {
   "cell_type": "markdown",
   "id": "db096d5d",
   "metadata": {},
   "source": [
    "### Deactivation Attributes"
   ]
  },
  {
   "cell_type": "code",
   "execution_count": null,
   "id": "926d8df4",
   "metadata": {},
   "outputs": [],
   "source": [
    "# Deactivate the wall and prop initially\n",
    "deactivate_wall_attr = db.createDeactivate(f\"Wall and prop\").setDeactivate(\"custom\", 100.0, 1.0E-6)\n",
    "deactivate_wall_attr.setCustomType(\"activeMesh\").setForceDistribution(\"number of increments\", 1)\n",
    "# Deactivate the column of soil being replaced by the wall\n",
    "deactivate_soil_col_attr = db.createDeactivate(f\"Soil column\").setDeactivate(\"custom\", 100.0, 1.0E-6)\n",
    "deactivate_soil_col_attr.setDeactivate(\"activeMesh\", 100.0, 1.0E-6)\n",
    "\n",
    "# Deactivate each excavation\n",
    "excavation_deactivate_attrs:list[IFAttribute] = []\n",
    "for i in range(len(excavation_depths)):\n",
    "    attr = db.createDeactivate(f\"Excavation {i+1}\").setDeactivate(\"custom\", 100.0, 1.0E-6)\n",
    "    attr.setCustomType(\"activeMesh\").setForceDistribution(\"distribute over stage\")\n",
    "    excavation_deactivate_attrs.append(attr)"
   ]
  },
  {
   "cell_type": "markdown",
   "id": "d319651d",
   "metadata": {},
   "source": [
    "### Activation Attributes"
   ]
  },
  {
   "cell_type": "code",
   "execution_count": null,
   "id": "a5937ecd",
   "metadata": {},
   "outputs": [],
   "source": [
    "wall_activate_attr = db.createActivate(\"wall\")\n",
    "prop_activate_attr = db.createActivate(\"prop\")"
   ]
  },
  {
   "cell_type": "markdown",
   "id": "bbc5ac37",
   "metadata": {},
   "source": [
    "***\n",
    "### Create model geometry"
   ]
  },
  {
   "cell_type": "code",
   "execution_count": null,
   "id": "1f1e8fd7",
   "metadata": {},
   "outputs": [],
   "source": [
    "# Determine vertical points\n",
    "# Top of wall, prop location, bottom of wall, bottom of problem\n",
    "y_coords = [soil_depth - d for d in [0, prop_location, wall_depth, soil_depth]]\n",
    "# Soil layers\n",
    "y_coords.extend( [soil_depth - d for d in np.add.accumulate(soil_layers)] )\n",
    "# Excavation depths\n",
    "y_coords.extend( [soil_depth - d for d in np.add.accumulate(excavation_depths)] )\n",
    "# Remove duplicates and sort\n",
    "y_coords = list(set(y_coords))\n",
    "y_coords.sort(reverse=True)\n",
    "\n",
    "# Coordinates of the wall\n",
    "y_coords_wall = [y for y in y_coords if y >= (soil_depth - wall_depth)]"
   ]
  },
  {
   "cell_type": "markdown",
   "id": "313ebdcc",
   "metadata": {},
   "source": [
    "### Calculate some useful indicies to locate features"
   ]
  },
  {
   "cell_type": "code",
   "execution_count": null,
   "id": "aac37acf",
   "metadata": {},
   "outputs": [],
   "source": [
    "# Index of the prop location\n",
    "i_prop = y_coords.index(soil_depth - prop_location)\n",
    "# Index of phreatic surface\n",
    "i_phreatic = y_coords.index(soil_depth - water_level)\n",
    "# Index of the points at the bottom of the wall\n",
    "i_bottom_wall = len(y_coords_wall) - 1\n",
    "# Indicies of points beneath the wall\n",
    "indicies_sub_wall = [i for i in range(i_bottom_wall + 1, len(y_coords))]\n",
    "# Indicies of soil layers\n",
    "indicies_soil_layers = [0]+[y_coords.index(soil_depth - y) for y in  np.add.accumulate(soil_layers)]\n",
    "# Indicies of horizontal lines on the retained side\n",
    "indicies_horiz_retained = indicies_soil_layers[0:-1] + [i_bottom_wall]\n",
    "indicies_horiz_retained.sort()"
   ]
  },
  {
   "cell_type": "code",
   "execution_count": null,
   "id": "64b5977d",
   "metadata": {},
   "outputs": [],
   "source": [
    "# The wall will  replace the soil column so we have coincident surfaces which will be activated and deactivated\n",
    "# Make the geometry unmergable so two surfaces can exist at the same location\n",
    "db.options().setBoolean(\"newFeaturesMergeable\", False)"
   ]
  },
  {
   "cell_type": "code",
   "execution_count": null,
   "id": "7ac6289d",
   "metadata": {},
   "outputs": [],
   "source": [
    "# Points\n",
    "points_lhs      = [Helpers.create_point(0, y, 0) for y in y_coords]\n",
    "points_soil_ret = [Helpers.create_point(width_retained, y, 0) for y in y_coords_wall]\n",
    "points_wall_ret = [Helpers.create_point(width_retained, y, 0) for y in y_coords_wall]\n",
    "points_wall_exc = [Helpers.create_point(width_retained + width_wall, y, 0) for y in y_coords_wall]\n",
    "points_soil_exc = [Helpers.create_point(width_retained + width_wall, y, 0) for y in y_coords_wall]\n",
    "points_rhs      = [Helpers.create_point(width_problem, y, 0) for y in y_coords]"
   ]
  },
  {
   "cell_type": "code",
   "execution_count": null,
   "id": "caa0a48e",
   "metadata": {},
   "outputs": [],
   "source": [
    "# Lines vertical\n",
    "lines_lhs      = [Helpers.create_line_from_points(p1, p2) for p1, p2 in zip(points_lhs, points_lhs[1:]) ]\n",
    "lines_soil_ret = [Helpers.create_line_from_points(p1, p2) for p1, p2 in zip(points_soil_ret, points_soil_ret[1:]) ]\n",
    "lines_wall_ret = [Helpers.create_line_from_points(p1, p2) for p1, p2 in zip(points_wall_ret, points_wall_ret[1:]) ]\n",
    "lines_wall_exc = [Helpers.create_line_from_points(p1, p2) for p1, p2 in zip(points_wall_exc, points_wall_exc[1:]) ]\n",
    "lines_soil_exc = [Helpers.create_line_from_points(p1, p2) for p1, p2 in zip(points_soil_exc, points_soil_exc[1:]) ]\n",
    "lines_rhs      = [Helpers.create_line_from_points(p1, p2) for p1, p2 in zip(points_rhs, points_rhs[1:]) ]"
   ]
  },
  {
   "cell_type": "code",
   "execution_count": null,
   "id": "8376e348",
   "metadata": {},
   "outputs": [],
   "source": [
    "# Lines horizontal\n",
    "lines_horiz_retained  = [ Helpers.create_line_from_points(points_lhs[i],      points_soil_ret[i]) for i in indicies_horiz_retained ]\n",
    "lines_horiz_soil      = [ Helpers.create_line_from_points(points_soil_ret[i], points_soil_exc[i]) for i in indicies_horiz_retained ]\n",
    "lines_horiz_wall      = [ Helpers.create_line_from_points(points_wall_ret[i], points_wall_exc[i]) for i in [0, i_bottom_wall] ]\n",
    "lines_horiz_excavated = [ Helpers.create_line_from_points(p1, p2) for p1, p2 in zip(points_soil_exc, points_rhs) ]\n",
    "lines_horiz_sub_wall  = [ Helpers.create_line_from_points(points_lhs[i], points_rhs[i]) for i in indicies_sub_wall ]\n",
    "line_prop             = Helpers.create_line_from_points(points_wall_exc[i_prop], points_rhs[i_prop])"
   ]
  },
  {
   "cell_type": "code",
   "execution_count": null,
   "id": "37f0db44",
   "metadata": {},
   "outputs": [],
   "source": [
    "# Surface for each soil layer on the retained side and soil column\n",
    "surfaces_ret  : list[IFSurface] = []\n",
    "surfaces_soil : list[IFSurface] = []\n",
    "for i in range(len(indicies_horiz_retained)-1):\n",
    "    i1 = indicies_horiz_retained[i]\n",
    "    i2 = indicies_horiz_retained[i+1]\n",
    "    surfaces_ret.append( Helpers.create_surface_from_lines( [lines_horiz_retained[i]] + lines_soil_ret[i1:i2] + [lines_horiz_retained[i+1]] + lines_lhs[i1:i2] ) )\n",
    "    surfaces_soil.append( Helpers.create_surface_from_lines( [lines_horiz_soil[i]] + lines_soil_exc[i1:i2] + [lines_horiz_soil[i+1]] + lines_soil_ret[i1:i2] ) )\n",
    "\n",
    "# One surface for the whole wall\n",
    "surface_wall     = Helpers.create_surface_from_lines(lines_wall_exc + [lines_horiz_wall[-1]] + lines_wall_ret + [lines_horiz_wall[0]])\n",
    "\n",
    "# Surfaces for the excavated layers\n",
    "surfaces_exc     = [Helpers.create_surface_from_lines( [ lines_rhs[i], lines_horiz_excavated[i+1], lines_soil_exc[i], lines_horiz_excavated[i] ] ) for i in range(0, i_bottom_wall) ]\n",
    "\n",
    "# Surfaces beneath the wall\n",
    "surf_sub_wall = []\n",
    "# First case consider the lines at the base of the wall\n",
    "horiz = [ lines_horiz_retained[-1], lines_horiz_soil[-1], lines_horiz_excavated[-1] ]\n",
    "surf_sub_wall.append(Helpers.create_surface_from_lines(horiz + [ lines_rhs[i_bottom_wall], lines_horiz_sub_wall[0], lines_lhs[i_bottom_wall] ] ))\n",
    "# Any additional layers\n",
    "for i in indicies_sub_wall[1:-1]:\n",
    "    surf_sub_wall.append(Helpers.create_surface_from_lines(list(lines_rhs[i], lines_horiz_sub_wall[i+1], lines_wall_exc[i] + lines_horiz_sub_wall[i])))\n"
   ]
  },
  {
   "cell_type": "markdown",
   "id": "ae12dc35",
   "metadata": {},
   "source": [
    "### Attribute Assignments"
   ]
  },
  {
   "cell_type": "code",
   "execution_count": null,
   "id": "79587ce7",
   "metadata": {},
   "outputs": [],
   "source": [
    "# Soil mesh\n",
    "soil_mesh_attr.assignTo(\"Surfaces\")\n",
    "# Wall mesh\n",
    "wall_mesh_attr.assignTo(surface_wall)\n",
    "# Prop mesh\n",
    "prop_mesh_attr.assignTo(line_prop)\n",
    "# Interface mesh\n",
    "for i in range(i_bottom_wall):\n",
    "    objs = lusas.newObjectSet().add(lines_soil_ret[i]).add(lines_wall_ret[i])\n",
    "    interface_mesh_attr.assignTo(objs)\n",
    "    objs = lusas.newObjectSet().add(lines_soil_exc[i]).add(lines_wall_exc[i])\n",
    "    interface_mesh_attr.assignTo(objs)"
   ]
  },
  {
   "cell_type": "code",
   "execution_count": null,
   "id": "d8f0ee46",
   "metadata": {},
   "outputs": [],
   "source": [
    "# Helper method to locate the soil layer index from a given depth\n",
    "def get_soil_index(y:float)->int:\n",
    "    depth = soil_depth\n",
    "    for i, d in enumerate(soil_layers):\n",
    "        if(y <= depth and y > depth - d): return i\n",
    "        depth-=d\n",
    "    assert(False)"
   ]
  },
  {
   "cell_type": "code",
   "execution_count": null,
   "id": "9efe2e4f",
   "metadata": {},
   "outputs": [],
   "source": [
    "# Wall material\n",
    "wall_material_attr.assignTo(surface_wall)\n",
    "# Prop material\n",
    "prop_material_attr.assignTo(line_prop)\n",
    "\n",
    "# Soil materials assigned to each surface based on the surface depth\n",
    "for surface in surfaces_ret + surfaces_soil + surfaces_exc + surf_sub_wall:\n",
    "    y = surface.getCentroid()[1]\n",
    "    i = get_soil_index(y)\n",
    "    soil_material_attrs[i].assignTo(surface)\n",
    "\n",
    "# Soil interface materials\n",
    "for il in range(i_bottom_wall):\n",
    "    y = lines_soil_exc[il].getInterpolatedPosition(0.5)[1]\n",
    "    i = get_soil_index(y)\n",
    "    soil_interface_materials[i].assignTo(lines_soil_ret[il])\n",
    "    soil_interface_materials[i].assignTo(lines_soil_exc[il])"
   ]
  },
  {
   "cell_type": "code",
   "execution_count": null,
   "id": "193ab7bc",
   "metadata": {},
   "outputs": [],
   "source": [
    "# Geometric assignments\n",
    "prop_geom_attr.assignTo(line_prop)"
   ]
  },
  {
   "cell_type": "code",
   "execution_count": null,
   "id": "d1c83853",
   "metadata": {},
   "outputs": [],
   "source": [
    "# Support assignments\n",
    "fix_x_support_attr.assignTo(lines_lhs)\n",
    "fix_x_support_attr.assignTo(lines_rhs)\n",
    "fix_xy_support_attr.assignTo(lines_horiz_sub_wall[-1])\n",
    "\n",
    "# Water pressures\n",
    "fix_pwp_support_attr.assignTo(points_lhs[i_phreatic])\n",
    "fix_rot_support_attr.assignTo(points_rhs[i_prop])"
   ]
  },
  {
   "cell_type": "code",
   "execution_count": null,
   "id": "8ca05d3b",
   "metadata": {},
   "outputs": [],
   "source": [
    "# Generate the mesh\n",
    "db.resetMesh()\n",
    "db.updateMesh()"
   ]
  },
  {
   "cell_type": "markdown",
   "id": "e44aad18",
   "metadata": {},
   "source": [
    "***\n",
    "### Analysis Stages\n",
    "Apply deactivation attributes to the wall initially"
   ]
  },
  {
   "cell_type": "code",
   "execution_count": null,
   "id": "98fc17c0",
   "metadata": {},
   "outputs": [],
   "source": [
    "deactivate_wall_attr.assignTo(surface_wall)\n",
    "deactivate_wall_attr.assignTo(line_prop)\n",
    "deactivate_wall_attr.assignTo(lines_soil_exc)\n",
    "deactivate_wall_attr.assignTo(lines_soil_ret)"
   ]
  },
  {
   "cell_type": "code",
   "execution_count": null,
   "id": "f17300d4",
   "metadata": {},
   "outputs": [],
   "source": [
    "# Initial stage with gravity\n",
    "initial_loadcase = Helpers.get_loadcase(1)\n",
    "initial_loadcase.setName(\"Initial conditions\")\n",
    "initial_loadcase.addGravity(True)\n",
    "# The initial loadcase must specify the nonlinear controls. Here we have a basic nonlinear analysis with a manual load increment, i.e 1 increment\n",
    "initial_loadcase.setTransientControl(0)\n",
    "initial_loadcase.getTransientControl().setNonlinearManual().setOutput().setConstants()\n",
    "initial_loadcase.getTransientControl().setValue(\"dlnorm\", 1.0).setValue(\"dtnrml\", 1.0) # Displacment norms\n",
    "\n",
    "# 2nd Stage. Activate the wall elements to represent the installation, deactivate the corresponding soil column\n",
    "install_wall_loadcase = db.createLoadcase(\"Install wall\")\n",
    "install_wall_loadcase.addGravity(True)\n",
    "assign = lusas.assignment().setAllDefaults().setLoadset(install_wall_loadcase)\n",
    "deactivate_soil_col_attr.assignTo(surfaces_soil, assign)\n",
    "wall_activate_attr.assignTo(surface_wall, assign)\n",
    "wall_activate_attr.assignTo(lines_soil_exc, assign)\n",
    "wall_activate_attr.assignTo(lines_soil_ret, assign)\n",
    "\n",
    "# Consider any surcharge loading present before excavation starts\n",
    "surcharge_loadcase = db.createLoadcase(\"Surcharge\")\n",
    "surcharge_loadcase.addGravity(True)"
   ]
  },
  {
   "cell_type": "code",
   "execution_count": null,
   "id": "3c098e40",
   "metadata": {},
   "outputs": [],
   "source": [
    "# Nonlinear analyses in LUSAS have either manual or automatic incrementation.\n",
    "# Generally, automatic increments carry forward loading from previous stages, whereas manual do not.\n",
    "# We'll keep a list of manual loadcases to which loads are assigned as a range once all loadcases are created\n",
    "manual_loadcases = []\n",
    "# We also need to apply the hydrostatic load to the excavation stages\n",
    "excavation_loadcases = []"
   ]
  },
  {
   "cell_type": "code",
   "execution_count": null,
   "id": "ce5f604a",
   "metadata": {},
   "outputs": [],
   "source": [
    "y = soil_depth\n",
    "prev_i = 0\n",
    "for i, depth in enumerate(excavation_depths):\n",
    "    y-=depth\n",
    "    iy = y_coords.index(y)\n",
    "    # print(i, depth, y, iy)\n",
    "    # Loadcase/stage for the excavation\n",
    "    lc = db.createLoadcase(f\"Excavation {i+1}\")\n",
    "    # Assignment to this loadcase\n",
    "    assign = lusas.assignment().setAllDefaults().setLoadset(lc)    \n",
    "    # Deactivate the excavated soil elements in this stage\n",
    "    excavation_deactivate_attrs[i].assignTo(surfaces_exc[prev_i:iy], assign)\n",
    "    # Deactivate the excavated interface elements in this stage\n",
    "    excavation_deactivate_attrs[i].assignTo(lines_soil_exc[prev_i:iy], assign)\n",
    "\n",
    "    # The deactivation will be applied in multiple increments, with a max of 20 increments \n",
    "    # starting at 0.1 to load factor of 1\n",
    "    lc.setTransientControl(20)\n",
    "    lc.getTransientControl().setNonlinearAutomatic(0.1) # Output and constants will follow initial case\n",
    "    lc.getTransientControl().setValue(\"MaxChangeInLoadFactor\", 1.0).setValue(\"MaxLoadFactor\", 1.0)\n",
    "    if i > 0:\n",
    "        cntrl = lc.getTransientControl().setConstants()\n",
    "        cntrl.setValue(\"iterStrategyType\", \"Minimise including residuals\")\n",
    "        cntrl.setValue(\"dlnorm\", 1.0).setValue(\"dtnrml\", 1.0)\n",
    "    \n",
    "    if i > 0:\n",
    "        # Assign hydrostatic load to replace the excavated material\n",
    "        excavation_loadcases.append((lc, lines_wall_exc[prev_i:iy], lines_horiz_excavated[iy], surfaces_exc[iy], list()))\n",
    "\n",
    "    # Activate the prop when exposed\n",
    "    if(iy >= i_prop and prev_i < i_prop):\n",
    "        # Loadcase/stage for the excavation\n",
    "        lc = db.createLoadcase(f\"Install prop\")\n",
    "        lc.addGravity(True)\n",
    "        # Assignment to this loadcase\n",
    "        assign = lusas.assignment().setAllDefaults().setLoadset(lc)    \n",
    "        prop_activate_attr.assignTo(line_prop, assign)\n",
    "        manual_loadcases.append(lc)\n",
    "\n",
    "    # Lock-in \n",
    "    if i > 0 and i < len(excavation_depths)-1:\n",
    "        # Loadcase/stage for the excavation lock-in\n",
    "        lc = db.createLoadcase(f\"Excavation {i+1} lock-in\")\n",
    "        lc.addGravity(True)\n",
    "        manual_loadcases.append(lc)\n",
    "        # Assign hydrostatic load below the phreactic surface\n",
    "        excavation_loadcases[-1][4].append(lc)\n",
    "\n",
    "    \n",
    "    prev_i = iy\n"
   ]
  },
  {
   "cell_type": "code",
   "execution_count": null,
   "id": "8b98d150",
   "metadata": {},
   "outputs": [],
   "source": [
    "# Assign the loading to the manual load steps\n",
    "\n",
    "# Surcharge load.\n",
    "assign = lusas.assignment().setAllDefaults().setLoadsetSpecified(surcharge_loadcase)\n",
    "for lc in manual_loadcases:\n",
    "    assign.addLoadsetSpecified(lc)\n",
    "surchage_load_attr.assignTo(lines_horiz_retained[0], assign)\n",
    "\n",
    "# Hydrostatic\n",
    "i = 0\n",
    "for lc, lines, line_h, surface, others in excavation_loadcases:\n",
    "    assign = lusas.assignment().setAllDefaults().setLoadsetSpecified(lc)\n",
    "    for other in others:\n",
    "        assign.addLoadsetSpecified(other)\n",
    "    # identify the surface for which the face load will be assigned\n",
    "    assign.addHOF(surface)\n",
    "    hydrostatic_load_attrs[i].assignTo(line_h, assign)\n",
    "    hydrostatic_load_attrs[i].assignTo(lines, assign)\n",
    "    i+=1\n"
   ]
  },
  {
   "cell_type": "code",
   "execution_count": null,
   "id": "0ea78326",
   "metadata": {},
   "outputs": [],
   "source": [
    "lusas.view().mesh().showSolid(False)\n",
    "lusas.view().geometry().autoColourByAttributes(\"Material\", True)\n",
    "lusas.view().insertAnnotationLayer()"
   ]
  }
 ],
 "metadata": {
  "kernelspec": {
   "display_name": "Python 3",
   "language": "python",
   "name": "python3"
  },
  "language_info": {
   "codemirror_mode": {
    "name": "ipython",
    "version": 3
   },
   "file_extension": ".py",
   "mimetype": "text/x-python",
   "name": "python",
   "nbconvert_exporter": "python",
   "pygments_lexer": "ipython3",
   "version": "3.13.2"
  }
 },
 "nbformat": 4,
 "nbformat_minor": 5
}
