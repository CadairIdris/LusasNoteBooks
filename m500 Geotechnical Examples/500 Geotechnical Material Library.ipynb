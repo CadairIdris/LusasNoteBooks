{
 "cells": [
  {
   "cell_type": "markdown",
   "metadata": {},
   "source": [
    "# #500 Geotechnical Material Library\n",
    "<i>Creates geotechical material attributes as defined in the corresponding library spreadsheet</i>\n",
    "***"
   ]
  },
  {
   "cell_type": "code",
   "execution_count": null,
   "metadata": {},
   "outputs": [],
   "source": [
    "material_library_path = \"500 Geotechnical Material Library.xlsx\""
   ]
  },
  {
   "cell_type": "code",
   "execution_count": null,
   "metadata": {},
   "outputs": [],
   "source": [
    "import numpy as np\n",
    "import pandas as pd\n",
    "import sys; sys.path.append('../') # Reference modules in parent directory\n",
    "from LPI_22_0 import *\n",
    "lusas = get_lusas_modeller()\n",
    "\n",
    "if not lusas.existsDatabase():\n",
    "    raise Exception(\"A model must be open to create the material attributes\")\n",
    "\n",
    "db = lusas.database()\n",
    "db_units = db.getModelUnits()\n",
    "\n",
    "STRESS_DIM = lusas.packDimensionality(0,1,-2,0,0,0)\n",
    "DENSITY_DIM = lusas.packDimensionality(0,0,-3,1,0,0)"
   ]
  },
  {
   "cell_type": "code",
   "execution_count": null,
   "metadata": {},
   "outputs": [],
   "source": [
    "# Get the unit set for which the materials are defined\n",
    "units = pd.read_excel(material_library_path).columns[1]\n",
    "lib_units = lusas.getUnitSet(units)"
   ]
  },
  {
   "cell_type": "code",
   "execution_count": null,
   "metadata": {},
   "outputs": [],
   "source": [
    "# Helper function to convert all material parameters to model units\n",
    "def convert_material_units(params:dict) -> dict:\n",
    "\n",
    "    params['E']         = lib_units.convertToUnitSetPackedDim(db_units, params['E'],         STRESS_DIM)\n",
    "    params['CSngle']    = lib_units.convertToUnitSetPackedDim(db_units, params['CSngle'],    STRESS_DIM)\n",
    "    params['QmaxSngle'] = lib_units.convertToUnitSetPackedDim(db_units, params['QmaxSngle'], STRESS_DIM)\n",
    "    params['QminSngle'] = lib_units.convertToUnitSetPackedDim(db_units, params['QminSngle'], STRESS_DIM)\n",
    "    params['Kf']        = lib_units.convertToUnitSetPackedDim(db_units, params['Kf'],        STRESS_DIM)    \n",
    "    params['rhoF']      = lib_units.convertToUnitSetPackedDim(db_units, params['rhoF'],      DENSITY_DIM)\n",
    "\n",
    "    return params\n"
   ]
  },
  {
   "cell_type": "code",
   "execution_count": null,
   "metadata": {},
   "outputs": [],
   "source": [
    "# Read the soil material definitions from the excel file\n",
    "df_soils = pd.read_excel(material_library_path, header=1)\n",
    "# Determine the number of material definitions \n",
    "no_materials = len(df_soils.columns) - 3\n",
    "# Create the materials in the model\n",
    "if no_materials > 0:\n",
    "\n",
    "    for i in range(3, no_materials+3):\n",
    "        # Name and parameters in model units\n",
    "        soil_name = df_soils.iloc[:,i].name\n",
    "        params = convert_material_units(dict(zip(df_soils.iloc[:,2], df_soils.iloc[:,i])))\n",
    "        print(soil_name, params)\n",
    "        # Create the material\n",
    "        attr = db.createIsotropicMaterial(soil_name, params['E'], params['nu'], params['rho'])\n",
    "        # Modified Mohr-Coulomb parameters\n",
    "        attr.addPlasticModifiedMohrCoulomb(params['type_8'], params['frc'], params['dil'], 0, params['dmpFct'])\n",
    "        attr.addModifiedMohrCoulombCohesion(0, params['CSngle'])\n",
    "        attr.addModifiedMohrCoulombTensile(0, params['QmaxSngle'])\n",
    "        attr.addModifiedMohrCoulombCompressive(0, params['QminSngle'])\n",
    "        # Two Phase\n",
    "        fluid_bulk_modulus_definition = \"Absolute value\"\n",
    "        two_phase_density_type = \"Fully saturated\"\n",
    "        if params['saturation'] == 'Fully':\n",
    "            attr.addTwoPhaseStandard(0.0, params['Kf'], params['n'], 9.81, params['kx'], params['ky'], params['kz'], \n",
    "                                                params['rhoF'], 0.0, fluid_bulk_modulus_definition, two_phase_density_type)\n",
    "        elif params['saturation'] == 'Partially':\n",
    "            attr.addConstantWaterContentTwoPhase(0.0, params['Kf'], params['n'], 9.81, params['kx'], params['ky'], params['kz'], \n",
    "                                                params['rhoF'], params['Swc'], params['Sws'], params['Kred'], 0.0, \n",
    "                                                fluid_bulk_modulus_definition, \"saturation\", two_phase_density_type)\n",
    "        # Ko Initialisation\n",
    "        if not isinstance(params['Ko'], str) and not np.isnan(params['Ko']):\n",
    "            attr.addKoElasticRow(0.0, params['Ko'])"
   ]
  }
 ],
 "metadata": {
  "kernelspec": {
   "display_name": "Python 3",
   "language": "python",
   "name": "python3"
  },
  "language_info": {
   "codemirror_mode": {
    "name": "ipython",
    "version": 3
   },
   "file_extension": ".py",
   "mimetype": "text/x-python",
   "name": "python",
   "nbconvert_exporter": "python",
   "pygments_lexer": "ipython3",
   "version": "3.13.2"
  }
 },
 "nbformat": 4,
 "nbformat_minor": 2
}
