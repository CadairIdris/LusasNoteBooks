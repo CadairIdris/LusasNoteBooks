{
 "cells": [
  {
   "cell_type": "markdown",
   "metadata": {},
   "source": [
    "<H2>Detecting nodes within a distance that may occur due to unjoined mesh</H2> "
   ]
  },
  {
   "cell_type": "code",
   "execution_count": 3,
   "metadata": {},
   "outputs": [],
   "source": [
    "import pandas as pd\n",
    "import numpy as np\n",
    "import itertools   \n",
    "import time\n",
    "import win32com.client as win32\n",
    "lusas = win32.gencache.EnsureDispatch(\"Lusas.Modeller.21.0\")\n",
    "if not lusas.existsDatabase():\n",
    "    Exception(\"A model must be open before running this code\")\n",
    "db = lusas.database()"
   ]
  },
  {
   "cell_type": "markdown",
   "metadata": {},
   "source": [
    "Define the distance below which we want to detect adjacent nodes"
   ]
  },
  {
   "cell_type": "code",
   "execution_count": 4,
   "metadata": {},
   "outputs": [],
   "source": [
    "TOLERANCE = 0.1"
   ]
  },
  {
   "cell_type": "markdown",
   "metadata": {},
   "source": [
    "<H3>Option 1, using itertools to generate the necessary comparison combinations</H3>"
   ]
  },
  {
   "cell_type": "code",
   "execution_count": null,
   "metadata": {},
   "outputs": [],
   "source": [
    "# Get all the nodes in the model\n",
    "nodes = lusas.database().getObjects(\"Nodes\")\n",
    "\n",
    "if len(nodes) > 100:\n",
    "    assert False, \"This will take a very long time\"\n",
    "\n",
    "start = time.time()\n",
    "no_comparisons = 0\n",
    "\n",
    "# Use itertools to generate the comparison of each node with each other node\n",
    "# No of comparisons will be n? where the ? indicates sumation of all integers fron n to 0\n",
    "for a, b in itertools.combinations(nodes, 2):\n",
    "    no_comparisons+=1\n",
    "    delta = np.sqrt( (a.getX() - b.getX())**2 + (a.getY() - b.getY())**2 + (a.getZ() - b.getZ())**2 )\n",
    "    if delta < TOLERANCE:\n",
    "        print(f\"Nodes {a.getID()} and {b.getID()} are within {delta:.3f}\")\n",
    "\n",
    "print(f\"Comparison time = {time.time() - start:.2f} seconds for {no_comparisons} comparisons\")\n"
   ]
  }
 ],
 "metadata": {
  "kernelspec": {
   "display_name": "Python 3",
   "language": "python",
   "name": "python3"
  },
  "language_info": {
   "codemirror_mode": {
    "name": "ipython",
    "version": 3
   },
   "file_extension": ".py",
   "mimetype": "text/x-python",
   "name": "python",
   "nbconvert_exporter": "python",
   "pygments_lexer": "ipython3",
   "version": "3.10.4"
  }
 },
 "nbformat": 4,
 "nbformat_minor": 2
}
