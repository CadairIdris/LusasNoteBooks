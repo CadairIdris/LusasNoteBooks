{
 "cells": [
  {
   "cell_type": "markdown",
   "metadata": {},
   "source": [
    "<H2>Detecting nodes within a distance that may occur due to unjoined mesh</H2> "
   ]
  },
  {
   "cell_type": "code",
   "execution_count": 1,
   "metadata": {},
   "outputs": [],
   "source": [
    "import pandas as pd\n",
    "import numpy as np\n",
    "import itertools   \n",
    "import time\n",
    "import win32com.client as win32\n",
    "lusas = win32.gencache.EnsureDispatch(\"Lusas.Modeller.19.0\")\n",
    "if not lusas.existsDatabase():\n",
    "    Exception(\"A model must be open before running this code\")\n",
    "db = lusas.database()"
   ]
  },
  {
   "cell_type": "markdown",
   "metadata": {},
   "source": [
    "Define the distance below which we want to detect adjacent nodes"
   ]
  },
  {
   "cell_type": "code",
   "execution_count": 2,
   "metadata": {},
   "outputs": [],
   "source": [
    "TOLERANCE = 0.1"
   ]
  },
  {
   "cell_type": "markdown",
   "metadata": {},
   "source": [
    "## Option 1, using itertools to generate the necessary comparison combinations"
   ]
  },
  {
   "cell_type": "markdown",
   "metadata": {},
   "source": [
    "Note, the limit of 100 nodes because this code is very slow for large number of nodes"
   ]
  },
  {
   "cell_type": "code",
   "execution_count": 3,
   "metadata": {},
   "outputs": [
    {
     "name": "stdout",
     "output_type": "stream",
     "text": [
      "Nodes 6 and 26 are within 0.071\n",
      "Nodes 7 and 27 are within 0.071\n",
      "Nodes 8 and 28 are within 0.071\n",
      "Nodes 9 and 29 are within 0.071\n",
      "Nodes 10 and 30 are within 0.071\n",
      "Comparison time = 6.72 seconds for 435 comparisons\n"
     ]
    }
   ],
   "source": [
    "# Get all the nodes in the model\n",
    "nodes = lusas.database().getObjects(\"Nodes\")\n",
    "\n",
    "if len(nodes) > 100:\n",
    "    assert False, \"This will take a very long time\"\n",
    "\n",
    "start = time.time()\n",
    "no_comparisons = 0\n",
    "\n",
    "# Use itertools to generate the comparison of each node with each other node\n",
    "# No of comparisons will be n? where the ? indicates sumation of all integers fron n to 0\n",
    "for a, b in itertools.combinations(nodes, 2):\n",
    "    no_comparisons+=1\n",
    "    delta = np.sqrt( (a.getX() - b.getX())**2 + (a.getY() - b.getY())**2 + (a.getZ() - b.getZ())**2 )\n",
    "    if delta < TOLERANCE:\n",
    "        print(f\"Nodes {a.getID()} and {b.getID()} are within {delta:.3f}\")\n",
    "\n",
    "print(f\"Comparison time = {time.time() - start:.2f} seconds for {no_comparisons} comparisons\")\n"
   ]
  },
  {
   "cell_type": "markdown",
   "metadata": {},
   "source": [
    "## Option 1a - Reduce the calls to the LPI"
   ]
  },
  {
   "cell_type": "markdown",
   "metadata": {},
   "source": [
    "Same approach as above here but first we compile a list of node coordinates. \n",
    "This avoids many repeated calls to get node coordinates"
   ]
  },
  {
   "cell_type": "code",
   "execution_count": 4,
   "metadata": {},
   "outputs": [
    {
     "name": "stdout",
     "output_type": "stream",
     "text": [
      "Nodes 6.0 and 26.0 are within 0.071\n",
      "Nodes 7.0 and 27.0 are within 0.071\n",
      "Nodes 8.0 and 28.0 are within 0.071\n",
      "Nodes 9.0 and 29.0 are within 0.071\n",
      "Nodes 10.0 and 30.0 are within 0.071\n",
      "Comparison time = 0.29 seconds for 435 comparisons\n"
     ]
    }
   ],
   "source": [
    "\n",
    "start = time.time()\n",
    "no_comparisons = 0\n",
    "\n",
    "positions  = np.array([[n.getX(), n.getY(), n.getZ(), n.getID()] for n in nodes])\n",
    "for a, b in itertools.combinations(positions, 2):\n",
    "    no_comparisons+=1\n",
    "    delta = np.sqrt( (a[0] - b[0])**2 + (a[1] - b[1])**2 + (a[2] - b[2])**2 )\n",
    "    if delta < TOLERANCE:\n",
    "        print(f\"Nodes {a[3]} and {b[3]} are within {delta:.3f}\")\n",
    "\n",
    "print(f\"Comparison time = {time.time() - start:.2f} seconds for {no_comparisons} comparisons\")"
   ]
  },
  {
   "cell_type": "markdown",
   "metadata": {},
   "source": [
    "As you can see repeated calls to the LPI functions can have a dramatic affect on performance and should be avoided where posible "
   ]
  },
  {
   "cell_type": "markdown",
   "metadata": {},
   "source": [
    "## Option 2 using numpy arrays"
   ]
  },
  {
   "cell_type": "code",
   "execution_count": 5,
   "metadata": {},
   "outputs": [
    {
     "name": "stdout",
     "output_type": "stream",
     "text": [
      "Nodes 6 and 26 are within 0.071\n",
      "Nodes 7 and 27 are within 0.071\n",
      "Nodes 8 and 28 are within 0.071\n",
      "Nodes 9 and 29 are within 0.071\n",
      "Nodes 10 and 30 are within 0.071\n",
      "Comparison time = 0.30 seconds using numpy arrays\n"
     ]
    }
   ],
   "source": [
    "start = time.time()\n",
    "ids = np.array([n.getID() for n in nodes])\n",
    "positions  = np.array([[n.getX(), n.getY(), n.getZ()] for n in nodes])\n",
    "\n",
    "# Relative positions of each node \n",
    "rel = positions[None, :, :] - positions[:, None, :]\n",
    "\n",
    "# distances of each node from the x,y,z relative offsets\n",
    "distances = np.sqrt(np.square(rel).sum(axis=2))\n",
    "\n",
    "\n",
    "for i in range(0, len(distances)):\n",
    "    a = np.where(distances[i] < TOLERANCE)\n",
    "    if len(a[0]) == 2 and a[0][0] != i:\n",
    "        print(f\"Nodes {ids[a[0][0]]} and {ids[a[0][1]]} are within {distances[i][a[0][0]]:.3f}\")\n",
    "\n",
    "\n",
    "print(f\"Comparison time = {time.time() - start:.2f} seconds using numpy arrays\")"
   ]
  }
 ],
 "metadata": {
  "kernelspec": {
   "display_name": "Python 3",
   "language": "python",
   "name": "python3"
  },
  "language_info": {
   "codemirror_mode": {
    "name": "ipython",
    "version": 3
   },
   "file_extension": ".py",
   "mimetype": "text/x-python",
   "name": "python",
   "nbconvert_exporter": "python",
   "pygments_lexer": "ipython3",
   "version": "3.10.4"
  }
 },
 "nbformat": 4,
 "nbformat_minor": 2
}
